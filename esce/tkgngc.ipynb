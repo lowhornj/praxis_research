{
 "cells": [
  {
   "cell_type": "code",
   "execution_count": 1,
   "id": "3194ece4-dae8-4863-9042-51422221471b",
   "metadata": {},
   "outputs": [],
   "source": [
    "from tkgngc.embeddings import PretrainedTKGEmbeddingWithTimestamps\n",
    "from tkgngc.model import NGCWithPretrainedTKGAndTimestamps"
   ]
  },
  {
   "cell_type": "code",
   "execution_count": 2,
   "id": "8b418066-4a1b-4b6e-8310-2cb3c77b4c60",
   "metadata": {},
   "outputs": [],
   "source": [
    "import os\n",
    "import torch\n",
    "import polars as pl\n",
    "import pandas as pd\n",
    "import numpy as np\n",
    "import seaborn as sns\n",
    "import warnings\n",
    "from feature_eng.scalers import ranged_scaler\n",
    "from datetime import datetime, timedelta\n",
    "from mpge.rca import mpge_root_cause_diagnosis\n",
    "warnings.filterwarnings(\"ignore\", category=UserWarning) "
   ]
  },
  {
   "cell_type": "code",
   "execution_count": 3,
   "id": "c20716e6-c787-4b60-9882-53d8447acd5b",
   "metadata": {},
   "outputs": [],
   "source": [
    "os.environ[\"CUBLAS_WORKSPACE_CONFIG\"] = \":4096:8\"\n",
    "os.environ[\"CUDA_LAUNCH_BLOCKING\"] = '1'"
   ]
  },
  {
   "cell_type": "code",
   "execution_count": 4,
   "id": "0492a0de-7680-430d-ad2e-95c5f2648bc2",
   "metadata": {},
   "outputs": [],
   "source": [
    "cats_df = pl.read_csv(\"data/data.csv\", separator=\",\")  \n",
    "metadata = pl.read_csv('data/metadata.csv',separator=',')\n",
    "potential_causes = metadata['root_cause'].unique().to_list()"
   ]
  },
  {
   "cell_type": "code",
   "execution_count": 5,
   "id": "feb1e334-db07-4cba-a71c-aed9f26dab91",
   "metadata": {},
   "outputs": [],
   "source": [
    "for col in cats_df.columns:\n",
    "    unique_vals = cats_df[col].n_unique()\n",
    "    data_type = cats_df[col].dtype\n",
    "    bad_dtypes = [pl.Date,pl.Datetime,pl.Utf8]\n",
    "    if ((unique_vals >= 50) & (data_type not in bad_dtypes) ):\n",
    "        cats_df = cats_df.with_columns(ranged_scaler(cats_df[col]))\n",
    "    else:\n",
    "        continue"
   ]
  },
  {
   "cell_type": "code",
   "execution_count": 6,
   "id": "72851f4a-456f-45d9-a897-e1cc5aebb938",
   "metadata": {},
   "outputs": [],
   "source": [
    "cats_df = cats_df.with_columns(\n",
    "    pl.col('timestamp').str.to_datetime(\"%Y-%m-%d %H:%M:%S\"),\n",
    "    pl.Series(\"entity_id\",range(len(cats_df)))\n",
    ")\n",
    "cats_rows_list = metadata.rows(named=True)"
   ]
  },
  {
   "cell_type": "code",
   "execution_count": 7,
   "id": "77b5c14e-8c6f-4a16-af2c-fb2959751ae9",
   "metadata": {},
   "outputs": [
    {
     "data": {
      "text/html": [
       "<div><style>\n",
       ".dataframe > thead > tr,\n",
       ".dataframe > tbody > tr {\n",
       "  text-align: right;\n",
       "  white-space: pre-wrap;\n",
       "}\n",
       "</style>\n",
       "<small>shape: (5, 21)</small><table border=\"1\" class=\"dataframe\"><thead><tr><th>timestamp</th><th>aimp</th><th>amud</th><th>arnd</th><th>asin1</th><th>asin2</th><th>adbr</th><th>adfl</th><th>bed1</th><th>bed2</th><th>bfo1</th><th>bfo2</th><th>bso1</th><th>bso2</th><th>bso3</th><th>ced1</th><th>cfo1</th><th>cso1</th><th>y</th><th>category</th><th>entity_id</th></tr><tr><td>datetime[μs]</td><td>f64</td><td>f64</td><td>f64</td><td>f64</td><td>f64</td><td>f64</td><td>f64</td><td>f64</td><td>f64</td><td>f64</td><td>f64</td><td>f64</td><td>f64</td><td>f64</td><td>f64</td><td>f64</td><td>f64</td><td>f64</td><td>f64</td><td>i64</td></tr></thead><tbody><tr><td>2023-01-01 00:00:00</td><td>0.0</td><td>0.142857</td><td>-0.5</td><td>-4.1078e-14</td><td>2.0428e-14</td><td>0.0</td><td>0.0</td><td>-0.32802</td><td>-0.369237</td><td>-0.738163</td><td>-0.767181</td><td>-0.180547</td><td>-0.507953</td><td>-0.716059</td><td>-0.774361</td><td>0.100389</td><td>-0.186623</td><td>0.0</td><td>0.0</td><td>0</td></tr><tr><td>2023-01-01 00:00:01</td><td>0.0</td><td>0.142857</td><td>-0.495998</td><td>0.00002</td><td>0.0002</td><td>0.0</td><td>0.0</td><td>-0.32802</td><td>-0.369237</td><td>-0.738163</td><td>-0.767181</td><td>-0.18054</td><td>-0.507953</td><td>-0.716059</td><td>-0.774361</td><td>0.100389</td><td>-0.186618</td><td>0.0</td><td>0.0</td><td>1</td></tr><tr><td>2023-01-01 00:00:02</td><td>0.0</td><td>0.142857</td><td>-0.486172</td><td>0.00004</td><td>0.0004</td><td>0.0</td><td>0.0</td><td>-0.32802</td><td>-0.369237</td><td>-0.738163</td><td>-0.767181</td><td>-0.180519</td><td>-0.507953</td><td>-0.716059</td><td>-0.774361</td><td>0.10039</td><td>-0.186604</td><td>0.0</td><td>0.0</td><td>2</td></tr><tr><td>2023-01-01 00:00:03</td><td>0.0</td><td>0.142857</td><td>-0.463453</td><td>0.00006</td><td>0.0006</td><td>0.0</td><td>0.0</td><td>-0.32802</td><td>-0.369237</td><td>-0.738163</td><td>-0.767181</td><td>-0.180484</td><td>-0.507953</td><td>-0.716059</td><td>-0.774361</td><td>0.100391</td><td>-0.18658</td><td>0.0</td><td>0.0</td><td>3</td></tr><tr><td>2023-01-01 00:00:04</td><td>0.0</td><td>0.142857</td><td>-0.444095</td><td>0.00008</td><td>0.0008</td><td>0.0</td><td>0.0</td><td>-0.32802</td><td>-0.369237</td><td>-0.738163</td><td>-0.767181</td><td>-0.180437</td><td>-0.507953</td><td>-0.716059</td><td>-0.774361</td><td>0.100393</td><td>-0.186548</td><td>0.0</td><td>0.0</td><td>4</td></tr></tbody></table></div>"
      ],
      "text/plain": [
       "shape: (5, 21)\n",
       "┌─────────────────────┬──────┬──────────┬───────────┬───┬───────────┬─────┬──────────┬───────────┐\n",
       "│ timestamp           ┆ aimp ┆ amud     ┆ arnd      ┆ … ┆ cso1      ┆ y   ┆ category ┆ entity_id │\n",
       "│ ---                 ┆ ---  ┆ ---      ┆ ---       ┆   ┆ ---       ┆ --- ┆ ---      ┆ ---       │\n",
       "│ datetime[μs]        ┆ f64  ┆ f64      ┆ f64       ┆   ┆ f64       ┆ f64 ┆ f64      ┆ i64       │\n",
       "╞═════════════════════╪══════╪══════════╪═══════════╪═══╪═══════════╪═════╪══════════╪═══════════╡\n",
       "│ 2023-01-01 00:00:00 ┆ 0.0  ┆ 0.142857 ┆ -0.5      ┆ … ┆ -0.186623 ┆ 0.0 ┆ 0.0      ┆ 0         │\n",
       "│ 2023-01-01 00:00:01 ┆ 0.0  ┆ 0.142857 ┆ -0.495998 ┆ … ┆ -0.186618 ┆ 0.0 ┆ 0.0      ┆ 1         │\n",
       "│ 2023-01-01 00:00:02 ┆ 0.0  ┆ 0.142857 ┆ -0.486172 ┆ … ┆ -0.186604 ┆ 0.0 ┆ 0.0      ┆ 2         │\n",
       "│ 2023-01-01 00:00:03 ┆ 0.0  ┆ 0.142857 ┆ -0.463453 ┆ … ┆ -0.18658  ┆ 0.0 ┆ 0.0      ┆ 3         │\n",
       "│ 2023-01-01 00:00:04 ┆ 0.0  ┆ 0.142857 ┆ -0.444095 ┆ … ┆ -0.186548 ┆ 0.0 ┆ 0.0      ┆ 4         │\n",
       "└─────────────────────┴──────┴──────────┴───────────┴───┴───────────┴─────┴──────────┴───────────┘"
      ]
     },
     "execution_count": 7,
     "metadata": {},
     "output_type": "execute_result"
    }
   ],
   "source": [
    "cats_rows_list = metadata.rows(named=True)\n",
    "cats_df.head()\n"
   ]
  },
  {
   "cell_type": "code",
   "execution_count": 8,
   "id": "37d14502-5f9b-4113-a703-90a48e022b25",
   "metadata": {},
   "outputs": [],
   "source": [
    "\n",
    "cats_df = cats_df.to_pandas()"
   ]
  },
  {
   "cell_type": "code",
   "execution_count": 9,
   "id": "5d67caa5-fd5a-42b0-9d06-2a8148f86eb5",
   "metadata": {},
   "outputs": [
    {
     "data": {
      "text/html": [
       "<div>\n",
       "<style scoped>\n",
       "    .dataframe tbody tr th:only-of-type {\n",
       "        vertical-align: middle;\n",
       "    }\n",
       "\n",
       "    .dataframe tbody tr th {\n",
       "        vertical-align: top;\n",
       "    }\n",
       "\n",
       "    .dataframe thead th {\n",
       "        text-align: right;\n",
       "    }\n",
       "</style>\n",
       "<table border=\"1\" class=\"dataframe\">\n",
       "  <thead>\n",
       "    <tr style=\"text-align: right;\">\n",
       "      <th></th>\n",
       "      <th>timestamp</th>\n",
       "      <th>aimp</th>\n",
       "      <th>amud</th>\n",
       "      <th>arnd</th>\n",
       "      <th>asin1</th>\n",
       "      <th>asin2</th>\n",
       "      <th>adbr</th>\n",
       "      <th>adfl</th>\n",
       "      <th>bed1</th>\n",
       "      <th>bed2</th>\n",
       "      <th>...</th>\n",
       "      <th>bfo2</th>\n",
       "      <th>bso1</th>\n",
       "      <th>bso2</th>\n",
       "      <th>bso3</th>\n",
       "      <th>ced1</th>\n",
       "      <th>cfo1</th>\n",
       "      <th>cso1</th>\n",
       "      <th>y</th>\n",
       "      <th>category</th>\n",
       "      <th>entity_id</th>\n",
       "    </tr>\n",
       "  </thead>\n",
       "  <tbody>\n",
       "    <tr>\n",
       "      <th>0</th>\n",
       "      <td>2023-01-01 00:00:00</td>\n",
       "      <td>0.0</td>\n",
       "      <td>0.142857</td>\n",
       "      <td>-0.500000</td>\n",
       "      <td>-4.107825e-14</td>\n",
       "      <td>2.042810e-14</td>\n",
       "      <td>0.0</td>\n",
       "      <td>0.0</td>\n",
       "      <td>-0.32802</td>\n",
       "      <td>-0.369237</td>\n",
       "      <td>...</td>\n",
       "      <td>-0.767181</td>\n",
       "      <td>-0.180547</td>\n",
       "      <td>-0.507953</td>\n",
       "      <td>-0.716059</td>\n",
       "      <td>-0.774361</td>\n",
       "      <td>0.100389</td>\n",
       "      <td>-0.186623</td>\n",
       "      <td>0.0</td>\n",
       "      <td>0.0</td>\n",
       "      <td>0</td>\n",
       "    </tr>\n",
       "    <tr>\n",
       "      <th>1</th>\n",
       "      <td>2023-01-01 00:00:01</td>\n",
       "      <td>0.0</td>\n",
       "      <td>0.142857</td>\n",
       "      <td>-0.495998</td>\n",
       "      <td>2.000000e-05</td>\n",
       "      <td>2.000000e-04</td>\n",
       "      <td>0.0</td>\n",
       "      <td>0.0</td>\n",
       "      <td>-0.32802</td>\n",
       "      <td>-0.369237</td>\n",
       "      <td>...</td>\n",
       "      <td>-0.767181</td>\n",
       "      <td>-0.180540</td>\n",
       "      <td>-0.507953</td>\n",
       "      <td>-0.716059</td>\n",
       "      <td>-0.774361</td>\n",
       "      <td>0.100389</td>\n",
       "      <td>-0.186618</td>\n",
       "      <td>0.0</td>\n",
       "      <td>0.0</td>\n",
       "      <td>1</td>\n",
       "    </tr>\n",
       "    <tr>\n",
       "      <th>2</th>\n",
       "      <td>2023-01-01 00:00:02</td>\n",
       "      <td>0.0</td>\n",
       "      <td>0.142857</td>\n",
       "      <td>-0.486172</td>\n",
       "      <td>4.000000e-05</td>\n",
       "      <td>4.000000e-04</td>\n",
       "      <td>0.0</td>\n",
       "      <td>0.0</td>\n",
       "      <td>-0.32802</td>\n",
       "      <td>-0.369237</td>\n",
       "      <td>...</td>\n",
       "      <td>-0.767181</td>\n",
       "      <td>-0.180519</td>\n",
       "      <td>-0.507953</td>\n",
       "      <td>-0.716059</td>\n",
       "      <td>-0.774361</td>\n",
       "      <td>0.100390</td>\n",
       "      <td>-0.186604</td>\n",
       "      <td>0.0</td>\n",
       "      <td>0.0</td>\n",
       "      <td>2</td>\n",
       "    </tr>\n",
       "    <tr>\n",
       "      <th>3</th>\n",
       "      <td>2023-01-01 00:00:03</td>\n",
       "      <td>0.0</td>\n",
       "      <td>0.142857</td>\n",
       "      <td>-0.463453</td>\n",
       "      <td>6.000000e-05</td>\n",
       "      <td>6.000000e-04</td>\n",
       "      <td>0.0</td>\n",
       "      <td>0.0</td>\n",
       "      <td>-0.32802</td>\n",
       "      <td>-0.369237</td>\n",
       "      <td>...</td>\n",
       "      <td>-0.767181</td>\n",
       "      <td>-0.180484</td>\n",
       "      <td>-0.507953</td>\n",
       "      <td>-0.716059</td>\n",
       "      <td>-0.774361</td>\n",
       "      <td>0.100391</td>\n",
       "      <td>-0.186580</td>\n",
       "      <td>0.0</td>\n",
       "      <td>0.0</td>\n",
       "      <td>3</td>\n",
       "    </tr>\n",
       "    <tr>\n",
       "      <th>4</th>\n",
       "      <td>2023-01-01 00:00:04</td>\n",
       "      <td>0.0</td>\n",
       "      <td>0.142857</td>\n",
       "      <td>-0.444095</td>\n",
       "      <td>8.000000e-05</td>\n",
       "      <td>7.999999e-04</td>\n",
       "      <td>0.0</td>\n",
       "      <td>0.0</td>\n",
       "      <td>-0.32802</td>\n",
       "      <td>-0.369237</td>\n",
       "      <td>...</td>\n",
       "      <td>-0.767181</td>\n",
       "      <td>-0.180437</td>\n",
       "      <td>-0.507953</td>\n",
       "      <td>-0.716059</td>\n",
       "      <td>-0.774361</td>\n",
       "      <td>0.100393</td>\n",
       "      <td>-0.186548</td>\n",
       "      <td>0.0</td>\n",
       "      <td>0.0</td>\n",
       "      <td>4</td>\n",
       "    </tr>\n",
       "  </tbody>\n",
       "</table>\n",
       "<p>5 rows × 21 columns</p>\n",
       "</div>"
      ],
      "text/plain": [
       "            timestamp  aimp      amud      arnd         asin1         asin2  \\\n",
       "0 2023-01-01 00:00:00   0.0  0.142857 -0.500000 -4.107825e-14  2.042810e-14   \n",
       "1 2023-01-01 00:00:01   0.0  0.142857 -0.495998  2.000000e-05  2.000000e-04   \n",
       "2 2023-01-01 00:00:02   0.0  0.142857 -0.486172  4.000000e-05  4.000000e-04   \n",
       "3 2023-01-01 00:00:03   0.0  0.142857 -0.463453  6.000000e-05  6.000000e-04   \n",
       "4 2023-01-01 00:00:04   0.0  0.142857 -0.444095  8.000000e-05  7.999999e-04   \n",
       "\n",
       "   adbr  adfl     bed1      bed2  ...      bfo2      bso1      bso2      bso3  \\\n",
       "0   0.0   0.0 -0.32802 -0.369237  ... -0.767181 -0.180547 -0.507953 -0.716059   \n",
       "1   0.0   0.0 -0.32802 -0.369237  ... -0.767181 -0.180540 -0.507953 -0.716059   \n",
       "2   0.0   0.0 -0.32802 -0.369237  ... -0.767181 -0.180519 -0.507953 -0.716059   \n",
       "3   0.0   0.0 -0.32802 -0.369237  ... -0.767181 -0.180484 -0.507953 -0.716059   \n",
       "4   0.0   0.0 -0.32802 -0.369237  ... -0.767181 -0.180437 -0.507953 -0.716059   \n",
       "\n",
       "       ced1      cfo1      cso1    y  category  entity_id  \n",
       "0 -0.774361  0.100389 -0.186623  0.0       0.0          0  \n",
       "1 -0.774361  0.100389 -0.186618  0.0       0.0          1  \n",
       "2 -0.774361  0.100390 -0.186604  0.0       0.0          2  \n",
       "3 -0.774361  0.100391 -0.186580  0.0       0.0          3  \n",
       "4 -0.774361  0.100393 -0.186548  0.0       0.0          4  \n",
       "\n",
       "[5 rows x 21 columns]"
      ]
     },
     "execution_count": 9,
     "metadata": {},
     "output_type": "execute_result"
    }
   ],
   "source": [
    "cats_df.head()"
   ]
  },
  {
   "cell_type": "code",
   "execution_count": 10,
   "id": "2223bcf6-5492-4152-9bd4-e0784d33b158",
   "metadata": {},
   "outputs": [],
   "source": [
    "device = torch.device('cpu')"
   ]
  },
  {
   "cell_type": "code",
   "execution_count": 11,
   "id": "78459ad4-7810-4602-93c5-79fff5a0e65b",
   "metadata": {},
   "outputs": [],
   "source": [
    "train_df = cats_df[0:1000000]\n",
    "train = train_df[['aimp', 'amud', 'arnd', 'asin1', 'asin2', 'adbr', 'adfl',\n",
    "       'bed1', 'bed2', 'bfo1', 'bfo2', 'bso1', 'bso2', 'bso3', 'ced1', 'cfo1',\n",
    "       'cso1']]\n",
    "test_df = cats_df[1000000:]\n"
   ]
  },
  {
   "cell_type": "code",
   "execution_count": 12,
   "id": "2d9a34da-dda4-4211-b96b-a00900dc16a4",
   "metadata": {
    "scrolled": true
   },
   "outputs": [],
   "source": [
    "class tkgngc_data_processing:\n",
    "    def __init__(self, data, device, num_timestamps=20):\n",
    "        self.data = data\n",
    "        self.ordered_column_names = self.data\n",
    "        self.train_list = self.data.values.tolist()\n",
    "        self.time_series_tensor = torch.tensor(self.train_list,dtype=torch.float32)\n",
    "        # Entity and Relation indices\n",
    "        self.entity_indices = torch.arange(len(self.train_list), dtype=torch.long)\n",
    "        self.relation_indices = torch.tensor(\n",
    "            [0 if i % 2 == 0 else 1 for i in range(len(self.entity_indices))],dtype=torch.long\n",
    "        )\n",
    "\n",
    "        self.timestamps = entity_indices\n",
    "        # Timestamp binning\n",
    "        self.num_timestamps = num_timestamps\n",
    "        min_time, max_time = min(self.entity_indices),max(self.entity_indices)\n",
    "        bins = torch.linspace(min_time,max_time,self.num_timestamps+1)\n",
    "        self.timestamp_indices = torch.tensor(torch.bucketize(self.entity_indices,bins),dtype=torch.long) - 1\n",
    "        self.timestamp_indices = torch.clamp(self.timestamp_indices, min = 0, max= num_timestamps -1)\n",
    "\n",
    "        # Edge index\n",
    "\n",
    "        self.edge_index = torch.tensor(\n",
    "            [[i,i+1] for i in range(len(self.entity_indices) - 1)],dtype=torch.float32).t()\n",
    "\n",
    "\n",
    "\n",
    "    \n",
    "        "
   ]
  },
  {
   "cell_type": "code",
   "execution_count": 13,
   "id": "4730bec7-19a3-43eb-93fb-0a8fa55c9be5",
   "metadata": {},
   "outputs": [],
   "source": [
    "ordered_column_names = train.columns\n",
    "train_list = train.values.tolist()\n",
    "time_series_tensor = torch.tensor(train_list,dtype=torch.float32)"
   ]
  },
  {
   "cell_type": "code",
   "execution_count": 14,
   "id": "81820252-f10c-40a9-b3ad-17aa1386996d",
   "metadata": {},
   "outputs": [],
   "source": [
    "entity_indices = torch.arange(len(train_list), dtype=torch.long)\n",
    "relation_indices = torch.tensor(\n",
    "    [0 if i % 2 == 0 else 1 for i in range(len(entity_indices))],dtype=torch.long\n",
    ")"
   ]
  },
  {
   "cell_type": "code",
   "execution_count": 15,
   "id": "3f51d3b7-3163-4ecc-8e38-d91340e2bf75",
   "metadata": {},
   "outputs": [],
   "source": [
    "timestamps = entity_indices"
   ]
  },
  {
   "cell_type": "code",
   "execution_count": 16,
   "id": "d9151d52-8e57-4df0-9918-36fbcbfac406",
   "metadata": {},
   "outputs": [],
   "source": [
    "num_timestamps = 20\n",
    "min_time, max_time = min(entity_indices),max(entity_indices)\n",
    "bins = torch.linspace(min_time,max_time,num_timestamps+1)\n",
    "timestamp_indices = torch.tensor(torch.bucketize(entity_indices,bins),dtype=torch.long) - 1\n",
    "timestamp_indices = torch.clamp(timestamp_indices, min = 0, max= num_timestamps -1)"
   ]
  },
  {
   "cell_type": "code",
   "execution_count": 17,
   "id": "e6fc660a-9aa4-461c-90cf-672ff461c9a6",
   "metadata": {},
   "outputs": [],
   "source": [
    "edge_index = torch.tensor(\n",
    "    [[i,i+1] for i in range(len(entity_indices) - 1)],dtype=torch.float32).t()"
   ]
  },
  {
   "cell_type": "code",
   "execution_count": 18,
   "id": "bd9dffaa-f3b2-4740-ab4f-43812b5916e6",
   "metadata": {},
   "outputs": [],
   "source": [
    "time_series_tensor = time_series_tensor.to(device)\n",
    "entity_indices=entity_indices.to(device)\n",
    "relation_indices=relation_indices.to(device)\n",
    "timestamp_indices=timestamp_indices.to(device)\n",
    "edge_index=edge_index.to(device)"
   ]
  },
  {
   "cell_type": "code",
   "execution_count": 19,
   "id": "58235119-fc47-49f4-bb09-850a764ea4e2",
   "metadata": {},
   "outputs": [],
   "source": [
    "pretrained_tkg = PretrainedTKGEmbeddingWithTimestamps(\n",
    "    num_entities=int(entity_indices.max().item()+1),\n",
    "    num_relations=int(relation_indices.max().item()+1),\n",
    "    embedding_dim=16,\n",
    "    num_timestamps=num_timestamps,\n",
    ").to(device)"
   ]
  },
  {
   "cell_type": "code",
   "execution_count": 20,
   "id": "43e68a17-d6de-4394-bde4-16c7d5333c5a",
   "metadata": {},
   "outputs": [],
   "source": [
    "quads = (\n",
    "    entity_indices[:-1],  # Head entities\n",
    "    relation_indices[:-1],  # Relations\n",
    "    entity_indices[1:],  # Tail entities (shifted example)\n",
    "    timestamp_indices[:-1],  # Timestamps\n",
    ")"
   ]
  },
  {
   "cell_type": "code",
   "execution_count": 21,
   "id": "88973ea1-8b3c-4322-8be6-a0c9463b828d",
   "metadata": {},
   "outputs": [
    {
     "data": {
      "text/plain": [
       "tensor([ 0,  0,  0,  ..., 19, 19, 19])"
      ]
     },
     "execution_count": 21,
     "metadata": {},
     "output_type": "execute_result"
    }
   ],
   "source": [
    "timestamp_indices[:-1]"
   ]
  },
  {
   "cell_type": "code",
   "execution_count": 22,
   "id": "bd3e7837-6c54-4255-b928-b4dd5165fe4f",
   "metadata": {},
   "outputs": [
    {
     "data": {
      "text/plain": [
       "torch.Size([999999])"
      ]
     },
     "execution_count": 22,
     "metadata": {},
     "output_type": "execute_result"
    }
   ],
   "source": [
    "relation_indices[:-1].shape"
   ]
  },
  {
   "cell_type": "code",
   "execution_count": 23,
   "id": "cff906ff-755f-40ec-99cb-1f8bd3efa8b8",
   "metadata": {},
   "outputs": [
    {
     "data": {
      "text/plain": [
       "torch.Size([999999])"
      ]
     },
     "execution_count": 23,
     "metadata": {},
     "output_type": "execute_result"
    }
   ],
   "source": [
    "entity_indices[1:].shape"
   ]
  },
  {
   "cell_type": "code",
   "execution_count": 24,
   "id": "6f0cec40-4123-4cf8-9f81-eb66696fa0fb",
   "metadata": {},
   "outputs": [
    {
     "data": {
      "text/plain": [
       "torch.Size([999999])"
      ]
     },
     "execution_count": 24,
     "metadata": {},
     "output_type": "execute_result"
    }
   ],
   "source": [
    "timestamp_indices[:-1].shape"
   ]
  },
  {
   "cell_type": "code",
   "execution_count": 25,
   "id": "3c27d548-5966-4736-aa01-24fb8474941f",
   "metadata": {},
   "outputs": [
    {
     "name": "stdout",
     "output_type": "stream",
     "text": [
      "Epoch 0, Loss: 3.465754985809326\n",
      "Epoch 10, Loss: 2.829068899154663\n",
      "Epoch 20, Loss: 2.30806827545166\n",
      "Epoch 30, Loss: 1.8883682489395142\n",
      "Epoch 40, Loss: 1.5519745349884033\n",
      "Epoch 50, Loss: 1.2818219661712646\n",
      "Epoch 60, Loss: 1.0636770725250244\n",
      "Epoch 70, Loss: 0.8864285945892334\n",
      "Epoch 80, Loss: 0.7416052222251892\n",
      "Epoch 90, Loss: 0.622694194316864\n",
      "Epoch 100, Loss: 0.5246222615242004\n",
      "Epoch 110, Loss: 0.44341257214546204\n",
      "Epoch 120, Loss: 0.3759232461452484\n",
      "Epoch 130, Loss: 0.3196536600589752\n",
      "Epoch 140, Loss: 0.2725988030433655\n",
      "Epoch 150, Loss: 0.23314045369625092\n",
      "Epoch 160, Loss: 0.19996574521064758\n",
      "Epoch 170, Loss: 0.17200417816638947\n",
      "Epoch 180, Loss: 0.14837954938411713\n",
      "Epoch 190, Loss: 0.1283722221851349\n",
      "Epoch 200, Loss: 0.11138947308063507\n",
      "Epoch 210, Loss: 0.09694172441959381\n",
      "Epoch 220, Loss: 0.0846235528588295\n",
      "Epoch 230, Loss: 0.0740983784198761\n",
      "Epoch 240, Loss: 0.06508605927228928\n",
      "Epoch 250, Loss: 0.05735284462571144\n",
      "Epoch 260, Loss: 0.0507032610476017\n",
      "Epoch 270, Loss: 0.044973406940698624\n",
      "Epoch 280, Loss: 0.04002559185028076\n",
      "Epoch 290, Loss: 0.03574385493993759\n",
      "Epoch 300, Loss: 0.032030392438173294\n",
      "Epoch 310, Loss: 0.028802525252103806\n",
      "Epoch 320, Loss: 0.025990260764956474\n",
      "Epoch 330, Loss: 0.023534230887889862\n",
      "Epoch 340, Loss: 0.02138403244316578\n",
      "Epoch 350, Loss: 0.019496791064739227\n",
      "Epoch 360, Loss: 0.017836004495620728\n",
      "Epoch 370, Loss: 0.01637054979801178\n",
      "Epoch 380, Loss: 0.01507386565208435\n",
      "Epoch 390, Loss: 0.013923252932727337\n",
      "Epoch 400, Loss: 0.012899293564260006\n",
      "Epoch 410, Loss: 0.0119853550568223\n",
      "Epoch 420, Loss: 0.011167174205183983\n",
      "Epoch 430, Loss: 0.010432511568069458\n",
      "Epoch 440, Loss: 0.00977084320038557\n",
      "Epoch 450, Loss: 0.009173113852739334\n",
      "Epoch 460, Loss: 0.008631518110632896\n",
      "Epoch 470, Loss: 0.008139322511851788\n",
      "Epoch 480, Loss: 0.007690703961998224\n",
      "Epoch 490, Loss: 0.007280625402927399\n"
     ]
    }
   ],
   "source": [
    "pretrained_tkg.pretrain(quads, learning_rate=0.01, epochs=500)\n"
   ]
  },
  {
   "cell_type": "code",
   "execution_count": 26,
   "id": "aebeda2b-5ee2-4a4b-878b-5731781f2a1c",
   "metadata": {},
   "outputs": [],
   "source": [
    "for i, row in enumerate(cats_rows_list):\n",
    "    potential_causes = metadata['root_cause'].unique().to_list()\n",
    "\n",
    "    start_time = datetime.strptime(row['start_time'],\"%Y-%m-%d %H:%M:%S\")\n",
    "    end_time = datetime.strptime(row['end_time'],\"%Y-%m-%d %H:%M:%S\")\n",
    "    anomaly = eval(row['affected'])[0]\n",
    "    root_cause = row['root_cause']\n",
    "    potential_causes.append(anomaly)\n",
    "    mod_df = test_df[(test_df['timestamp']>= start_time) & (test_df['timestamp']<= end_time)]\n",
    "    test = mod_df[['aimp', 'amud', 'arnd', 'asin1', 'asin2', 'adbr', 'adfl',\n",
    "       'bed1', 'bed2', 'bfo1', 'bfo2', 'bso1', 'bso2', 'bso3', 'ced1', 'cfo1',\n",
    "       'cso1']]\n",
    "    break\n"
   ]
  },
  {
   "cell_type": "code",
   "execution_count": 27,
   "id": "149ac9b8-85a3-41ff-bcae-5eb970369e25",
   "metadata": {},
   "outputs": [],
   "source": [
    "test_data = tkgngc_data_processing(data=test, device=device, num_timestamps=20)"
   ]
  },
  {
   "cell_type": "code",
   "execution_count": 28,
   "id": "5cd77252-5901-4981-bc96-9aac20c6e0e7",
   "metadata": {},
   "outputs": [],
   "source": [
    "# Instantiate the full model\n",
    "model = NGCWithPretrainedTKGAndTimestamps(\n",
    "    pretrained_tkg=pretrained_tkg,\n",
    "    input_dim=test_data.time_series_tensor.shape[1],\n",
    "    hidden_dim=64,\n",
    "    output_dim=1,\n",
    "    confounder_latent_dim=8,\n",
    "    use_sliding_window=False,\n",
    "    window_size=10,\n",
    "    step_size=2,\n",
    "    regularization_type=\"l1\",\n",
    "    regularization_strength=0.01,\n",
    ")"
   ]
  },
  {
   "cell_type": "code",
   "execution_count": 29,
   "id": "891eda5f-5b2b-456f-91b9-87f802b09f18",
   "metadata": {},
   "outputs": [],
   "source": [
    "entity_emb, relation_emb, _, timestamp_emb = pretrained_tkg(\n",
    "    test_data.entity_indices, test_data.relation_indices, test_data.entity_indices, test_data.timestamp_indices\n",
    ")\n",
    "\n"
   ]
  },
  {
   "cell_type": "code",
   "execution_count": 30,
   "id": "921db4d7-f308-4de0-85e1-03522d7ac2a2",
   "metadata": {},
   "outputs": [
    {
     "data": {
      "text/plain": [
       "torch.Size([501, 16])"
      ]
     },
     "execution_count": 30,
     "metadata": {},
     "output_type": "execute_result"
    }
   ],
   "source": [
    "entity_emb.shape"
   ]
  },
  {
   "cell_type": "code",
   "execution_count": 31,
   "id": "917bbdfd-419b-4ff3-b785-af7e59c91318",
   "metadata": {},
   "outputs": [
    {
     "data": {
      "text/plain": [
       "torch.Size([501, 16])"
      ]
     },
     "execution_count": 31,
     "metadata": {},
     "output_type": "execute_result"
    }
   ],
   "source": [
    "relation_emb.shape"
   ]
  },
  {
   "cell_type": "code",
   "execution_count": 32,
   "id": "747cdd2c-8f41-4260-b9c2-a415f0cf3e7a",
   "metadata": {},
   "outputs": [
    {
     "data": {
      "text/plain": [
       "torch.Size([501, 16])"
      ]
     },
     "execution_count": 32,
     "metadata": {},
     "output_type": "execute_result"
    }
   ],
   "source": [
    "timestamp_emb.shape"
   ]
  },
  {
   "cell_type": "code",
   "execution_count": 33,
   "id": "17a8eb58-df69-4d9f-bf01-6e17c59997fc",
   "metadata": {},
   "outputs": [
    {
     "ename": "RuntimeError",
     "evalue": "mat1 and mat2 shapes cannot be multiplied (501x49 and 33x256)",
     "output_type": "error",
     "traceback": [
      "\u001b[1;31m---------------------------------------------------------------------------\u001b[0m",
      "\u001b[1;31mRuntimeError\u001b[0m                              Traceback (most recent call last)",
      "Cell \u001b[1;32mIn[33], line 2\u001b[0m\n\u001b[0;32m      1\u001b[0m \u001b[38;5;66;03m# Forward pass with the processed data\u001b[39;00m\n\u001b[1;32m----> 2\u001b[0m causality_scores, z, mean, log_var, x_reconstructed, reg_term \u001b[38;5;241m=\u001b[39m model(\n\u001b[0;32m      3\u001b[0m     entity_indices\u001b[38;5;241m=\u001b[39mtest_data\u001b[38;5;241m.\u001b[39mentity_indices,\n\u001b[0;32m      4\u001b[0m     relation_indices\u001b[38;5;241m=\u001b[39mtest_data\u001b[38;5;241m.\u001b[39mrelation_indices,\n\u001b[0;32m      5\u001b[0m     time_series_data\u001b[38;5;241m=\u001b[39mtest_data\u001b[38;5;241m.\u001b[39mtime_series_tensor,\n\u001b[0;32m      6\u001b[0m     edge_index\u001b[38;5;241m=\u001b[39mtest_data\u001b[38;5;241m.\u001b[39medge_index,\n\u001b[0;32m      7\u001b[0m     timestamp_indices\u001b[38;5;241m=\u001b[39mtest_data\u001b[38;5;241m.\u001b[39mtimestamp_indices,\n\u001b[0;32m      8\u001b[0m )\n",
      "File \u001b[1;32m~\\anaconda3\\envs\\torch\\Lib\\site-packages\\torch\\nn\\modules\\module.py:1736\u001b[0m, in \u001b[0;36mModule._wrapped_call_impl\u001b[1;34m(self, *args, **kwargs)\u001b[0m\n\u001b[0;32m   1734\u001b[0m     \u001b[38;5;28;01mreturn\u001b[39;00m \u001b[38;5;28mself\u001b[39m\u001b[38;5;241m.\u001b[39m_compiled_call_impl(\u001b[38;5;241m*\u001b[39margs, \u001b[38;5;241m*\u001b[39m\u001b[38;5;241m*\u001b[39mkwargs)  \u001b[38;5;66;03m# type: ignore[misc]\u001b[39;00m\n\u001b[0;32m   1735\u001b[0m \u001b[38;5;28;01melse\u001b[39;00m:\n\u001b[1;32m-> 1736\u001b[0m     \u001b[38;5;28;01mreturn\u001b[39;00m \u001b[38;5;28mself\u001b[39m\u001b[38;5;241m.\u001b[39m_call_impl(\u001b[38;5;241m*\u001b[39margs, \u001b[38;5;241m*\u001b[39m\u001b[38;5;241m*\u001b[39mkwargs)\n",
      "File \u001b[1;32m~\\anaconda3\\envs\\torch\\Lib\\site-packages\\torch\\nn\\modules\\module.py:1747\u001b[0m, in \u001b[0;36mModule._call_impl\u001b[1;34m(self, *args, **kwargs)\u001b[0m\n\u001b[0;32m   1742\u001b[0m \u001b[38;5;66;03m# If we don't have any hooks, we want to skip the rest of the logic in\u001b[39;00m\n\u001b[0;32m   1743\u001b[0m \u001b[38;5;66;03m# this function, and just call forward.\u001b[39;00m\n\u001b[0;32m   1744\u001b[0m \u001b[38;5;28;01mif\u001b[39;00m \u001b[38;5;129;01mnot\u001b[39;00m (\u001b[38;5;28mself\u001b[39m\u001b[38;5;241m.\u001b[39m_backward_hooks \u001b[38;5;129;01mor\u001b[39;00m \u001b[38;5;28mself\u001b[39m\u001b[38;5;241m.\u001b[39m_backward_pre_hooks \u001b[38;5;129;01mor\u001b[39;00m \u001b[38;5;28mself\u001b[39m\u001b[38;5;241m.\u001b[39m_forward_hooks \u001b[38;5;129;01mor\u001b[39;00m \u001b[38;5;28mself\u001b[39m\u001b[38;5;241m.\u001b[39m_forward_pre_hooks\n\u001b[0;32m   1745\u001b[0m         \u001b[38;5;129;01mor\u001b[39;00m _global_backward_pre_hooks \u001b[38;5;129;01mor\u001b[39;00m _global_backward_hooks\n\u001b[0;32m   1746\u001b[0m         \u001b[38;5;129;01mor\u001b[39;00m _global_forward_hooks \u001b[38;5;129;01mor\u001b[39;00m _global_forward_pre_hooks):\n\u001b[1;32m-> 1747\u001b[0m     \u001b[38;5;28;01mreturn\u001b[39;00m forward_call(\u001b[38;5;241m*\u001b[39margs, \u001b[38;5;241m*\u001b[39m\u001b[38;5;241m*\u001b[39mkwargs)\n\u001b[0;32m   1749\u001b[0m result \u001b[38;5;241m=\u001b[39m \u001b[38;5;28;01mNone\u001b[39;00m\n\u001b[0;32m   1750\u001b[0m called_always_called_hooks \u001b[38;5;241m=\u001b[39m \u001b[38;5;28mset\u001b[39m()\n",
      "File \u001b[1;32m~\\Documents\\Doctorate\\praxis_research\\praxis_research\\esce\\tkgngc\\model.py:75\u001b[0m, in \u001b[0;36mNGCWithPretrainedTKGAndTimestamps.forward\u001b[1;34m(self, entity_indices, relation_indices, time_series_data, edge_index, timestamp_indices)\u001b[0m\n\u001b[0;32m     72\u001b[0m x \u001b[38;5;241m=\u001b[39m torch\u001b[38;5;241m.\u001b[39mcat([time_series_data, entity_emb, timestamp_emb], dim\u001b[38;5;241m=\u001b[39m\u001b[38;5;241m-\u001b[39m\u001b[38;5;241m1\u001b[39m)\n\u001b[0;32m     74\u001b[0m \u001b[38;5;66;03m# Graph Attention for Granger Causality\u001b[39;00m\n\u001b[1;32m---> 75\u001b[0m causality_scores \u001b[38;5;241m=\u001b[39m \u001b[38;5;28mself\u001b[39m\u001b[38;5;241m.\u001b[39mgat(x, edge_index)\n\u001b[0;32m     77\u001b[0m \u001b[38;5;66;03m# Confounder Modeling\u001b[39;00m\n\u001b[0;32m     78\u001b[0m z, mean, log_var, x_reconstructed \u001b[38;5;241m=\u001b[39m \u001b[38;5;28mself\u001b[39m\u001b[38;5;241m.\u001b[39mconfounder(time_series_data)\n",
      "File \u001b[1;32m~\\anaconda3\\envs\\torch\\Lib\\site-packages\\torch\\nn\\modules\\module.py:1736\u001b[0m, in \u001b[0;36mModule._wrapped_call_impl\u001b[1;34m(self, *args, **kwargs)\u001b[0m\n\u001b[0;32m   1734\u001b[0m     \u001b[38;5;28;01mreturn\u001b[39;00m \u001b[38;5;28mself\u001b[39m\u001b[38;5;241m.\u001b[39m_compiled_call_impl(\u001b[38;5;241m*\u001b[39margs, \u001b[38;5;241m*\u001b[39m\u001b[38;5;241m*\u001b[39mkwargs)  \u001b[38;5;66;03m# type: ignore[misc]\u001b[39;00m\n\u001b[0;32m   1735\u001b[0m \u001b[38;5;28;01melse\u001b[39;00m:\n\u001b[1;32m-> 1736\u001b[0m     \u001b[38;5;28;01mreturn\u001b[39;00m \u001b[38;5;28mself\u001b[39m\u001b[38;5;241m.\u001b[39m_call_impl(\u001b[38;5;241m*\u001b[39margs, \u001b[38;5;241m*\u001b[39m\u001b[38;5;241m*\u001b[39mkwargs)\n",
      "File \u001b[1;32m~\\anaconda3\\envs\\torch\\Lib\\site-packages\\torch\\nn\\modules\\module.py:1747\u001b[0m, in \u001b[0;36mModule._call_impl\u001b[1;34m(self, *args, **kwargs)\u001b[0m\n\u001b[0;32m   1742\u001b[0m \u001b[38;5;66;03m# If we don't have any hooks, we want to skip the rest of the logic in\u001b[39;00m\n\u001b[0;32m   1743\u001b[0m \u001b[38;5;66;03m# this function, and just call forward.\u001b[39;00m\n\u001b[0;32m   1744\u001b[0m \u001b[38;5;28;01mif\u001b[39;00m \u001b[38;5;129;01mnot\u001b[39;00m (\u001b[38;5;28mself\u001b[39m\u001b[38;5;241m.\u001b[39m_backward_hooks \u001b[38;5;129;01mor\u001b[39;00m \u001b[38;5;28mself\u001b[39m\u001b[38;5;241m.\u001b[39m_backward_pre_hooks \u001b[38;5;129;01mor\u001b[39;00m \u001b[38;5;28mself\u001b[39m\u001b[38;5;241m.\u001b[39m_forward_hooks \u001b[38;5;129;01mor\u001b[39;00m \u001b[38;5;28mself\u001b[39m\u001b[38;5;241m.\u001b[39m_forward_pre_hooks\n\u001b[0;32m   1745\u001b[0m         \u001b[38;5;129;01mor\u001b[39;00m _global_backward_pre_hooks \u001b[38;5;129;01mor\u001b[39;00m _global_backward_hooks\n\u001b[0;32m   1746\u001b[0m         \u001b[38;5;129;01mor\u001b[39;00m _global_forward_hooks \u001b[38;5;129;01mor\u001b[39;00m _global_forward_pre_hooks):\n\u001b[1;32m-> 1747\u001b[0m     \u001b[38;5;28;01mreturn\u001b[39;00m forward_call(\u001b[38;5;241m*\u001b[39margs, \u001b[38;5;241m*\u001b[39m\u001b[38;5;241m*\u001b[39mkwargs)\n\u001b[0;32m   1749\u001b[0m result \u001b[38;5;241m=\u001b[39m \u001b[38;5;28;01mNone\u001b[39;00m\n\u001b[0;32m   1750\u001b[0m called_always_called_hooks \u001b[38;5;241m=\u001b[39m \u001b[38;5;28mset\u001b[39m()\n",
      "File \u001b[1;32m~\\Documents\\Doctorate\\praxis_research\\praxis_research\\esce\\tkgngc\\model.py:16\u001b[0m, in \u001b[0;36mGraphAttentionGC.forward\u001b[1;34m(self, x, edge_index)\u001b[0m\n\u001b[0;32m     15\u001b[0m \u001b[38;5;28;01mdef\u001b[39;00m \u001b[38;5;21mforward\u001b[39m(\u001b[38;5;28mself\u001b[39m, x, edge_index):\n\u001b[1;32m---> 16\u001b[0m     x \u001b[38;5;241m=\u001b[39m \u001b[38;5;28mself\u001b[39m\u001b[38;5;241m.\u001b[39mgat1(x, edge_index)\n\u001b[0;32m     17\u001b[0m     x \u001b[38;5;241m=\u001b[39m torch\u001b[38;5;241m.\u001b[39mrelu(x)\n\u001b[0;32m     18\u001b[0m     x \u001b[38;5;241m=\u001b[39m \u001b[38;5;28mself\u001b[39m\u001b[38;5;241m.\u001b[39mgat2(x, edge_index)\n",
      "File \u001b[1;32m~\\anaconda3\\envs\\torch\\Lib\\site-packages\\torch\\nn\\modules\\module.py:1736\u001b[0m, in \u001b[0;36mModule._wrapped_call_impl\u001b[1;34m(self, *args, **kwargs)\u001b[0m\n\u001b[0;32m   1734\u001b[0m     \u001b[38;5;28;01mreturn\u001b[39;00m \u001b[38;5;28mself\u001b[39m\u001b[38;5;241m.\u001b[39m_compiled_call_impl(\u001b[38;5;241m*\u001b[39margs, \u001b[38;5;241m*\u001b[39m\u001b[38;5;241m*\u001b[39mkwargs)  \u001b[38;5;66;03m# type: ignore[misc]\u001b[39;00m\n\u001b[0;32m   1735\u001b[0m \u001b[38;5;28;01melse\u001b[39;00m:\n\u001b[1;32m-> 1736\u001b[0m     \u001b[38;5;28;01mreturn\u001b[39;00m \u001b[38;5;28mself\u001b[39m\u001b[38;5;241m.\u001b[39m_call_impl(\u001b[38;5;241m*\u001b[39margs, \u001b[38;5;241m*\u001b[39m\u001b[38;5;241m*\u001b[39mkwargs)\n",
      "File \u001b[1;32m~\\anaconda3\\envs\\torch\\Lib\\site-packages\\torch\\nn\\modules\\module.py:1747\u001b[0m, in \u001b[0;36mModule._call_impl\u001b[1;34m(self, *args, **kwargs)\u001b[0m\n\u001b[0;32m   1742\u001b[0m \u001b[38;5;66;03m# If we don't have any hooks, we want to skip the rest of the logic in\u001b[39;00m\n\u001b[0;32m   1743\u001b[0m \u001b[38;5;66;03m# this function, and just call forward.\u001b[39;00m\n\u001b[0;32m   1744\u001b[0m \u001b[38;5;28;01mif\u001b[39;00m \u001b[38;5;129;01mnot\u001b[39;00m (\u001b[38;5;28mself\u001b[39m\u001b[38;5;241m.\u001b[39m_backward_hooks \u001b[38;5;129;01mor\u001b[39;00m \u001b[38;5;28mself\u001b[39m\u001b[38;5;241m.\u001b[39m_backward_pre_hooks \u001b[38;5;129;01mor\u001b[39;00m \u001b[38;5;28mself\u001b[39m\u001b[38;5;241m.\u001b[39m_forward_hooks \u001b[38;5;129;01mor\u001b[39;00m \u001b[38;5;28mself\u001b[39m\u001b[38;5;241m.\u001b[39m_forward_pre_hooks\n\u001b[0;32m   1745\u001b[0m         \u001b[38;5;129;01mor\u001b[39;00m _global_backward_pre_hooks \u001b[38;5;129;01mor\u001b[39;00m _global_backward_hooks\n\u001b[0;32m   1746\u001b[0m         \u001b[38;5;129;01mor\u001b[39;00m _global_forward_hooks \u001b[38;5;129;01mor\u001b[39;00m _global_forward_pre_hooks):\n\u001b[1;32m-> 1747\u001b[0m     \u001b[38;5;28;01mreturn\u001b[39;00m forward_call(\u001b[38;5;241m*\u001b[39margs, \u001b[38;5;241m*\u001b[39m\u001b[38;5;241m*\u001b[39mkwargs)\n\u001b[0;32m   1749\u001b[0m result \u001b[38;5;241m=\u001b[39m \u001b[38;5;28;01mNone\u001b[39;00m\n\u001b[0;32m   1750\u001b[0m called_always_called_hooks \u001b[38;5;241m=\u001b[39m \u001b[38;5;28mset\u001b[39m()\n",
      "File \u001b[1;32m~\\anaconda3\\envs\\torch\\Lib\\site-packages\\torch_geometric\\nn\\conv\\gatv2_conv.py:286\u001b[0m, in \u001b[0;36mGATv2Conv.forward\u001b[1;34m(self, x, edge_index, edge_attr, return_attention_weights)\u001b[0m\n\u001b[0;32m    283\u001b[0m \u001b[38;5;28;01mif\u001b[39;00m \u001b[38;5;28mself\u001b[39m\u001b[38;5;241m.\u001b[39mres \u001b[38;5;129;01mis\u001b[39;00m \u001b[38;5;129;01mnot\u001b[39;00m \u001b[38;5;28;01mNone\u001b[39;00m:\n\u001b[0;32m    284\u001b[0m     res \u001b[38;5;241m=\u001b[39m \u001b[38;5;28mself\u001b[39m\u001b[38;5;241m.\u001b[39mres(x)\n\u001b[1;32m--> 286\u001b[0m x_l \u001b[38;5;241m=\u001b[39m \u001b[38;5;28mself\u001b[39m\u001b[38;5;241m.\u001b[39mlin_l(x)\u001b[38;5;241m.\u001b[39mview(\u001b[38;5;241m-\u001b[39m\u001b[38;5;241m1\u001b[39m, H, C)\n\u001b[0;32m    287\u001b[0m \u001b[38;5;28;01mif\u001b[39;00m \u001b[38;5;28mself\u001b[39m\u001b[38;5;241m.\u001b[39mshare_weights:\n\u001b[0;32m    288\u001b[0m     x_r \u001b[38;5;241m=\u001b[39m x_l\n",
      "File \u001b[1;32m~\\anaconda3\\envs\\torch\\Lib\\site-packages\\torch\\nn\\modules\\module.py:1736\u001b[0m, in \u001b[0;36mModule._wrapped_call_impl\u001b[1;34m(self, *args, **kwargs)\u001b[0m\n\u001b[0;32m   1734\u001b[0m     \u001b[38;5;28;01mreturn\u001b[39;00m \u001b[38;5;28mself\u001b[39m\u001b[38;5;241m.\u001b[39m_compiled_call_impl(\u001b[38;5;241m*\u001b[39margs, \u001b[38;5;241m*\u001b[39m\u001b[38;5;241m*\u001b[39mkwargs)  \u001b[38;5;66;03m# type: ignore[misc]\u001b[39;00m\n\u001b[0;32m   1735\u001b[0m \u001b[38;5;28;01melse\u001b[39;00m:\n\u001b[1;32m-> 1736\u001b[0m     \u001b[38;5;28;01mreturn\u001b[39;00m \u001b[38;5;28mself\u001b[39m\u001b[38;5;241m.\u001b[39m_call_impl(\u001b[38;5;241m*\u001b[39margs, \u001b[38;5;241m*\u001b[39m\u001b[38;5;241m*\u001b[39mkwargs)\n",
      "File \u001b[1;32m~\\anaconda3\\envs\\torch\\Lib\\site-packages\\torch\\nn\\modules\\module.py:1747\u001b[0m, in \u001b[0;36mModule._call_impl\u001b[1;34m(self, *args, **kwargs)\u001b[0m\n\u001b[0;32m   1742\u001b[0m \u001b[38;5;66;03m# If we don't have any hooks, we want to skip the rest of the logic in\u001b[39;00m\n\u001b[0;32m   1743\u001b[0m \u001b[38;5;66;03m# this function, and just call forward.\u001b[39;00m\n\u001b[0;32m   1744\u001b[0m \u001b[38;5;28;01mif\u001b[39;00m \u001b[38;5;129;01mnot\u001b[39;00m (\u001b[38;5;28mself\u001b[39m\u001b[38;5;241m.\u001b[39m_backward_hooks \u001b[38;5;129;01mor\u001b[39;00m \u001b[38;5;28mself\u001b[39m\u001b[38;5;241m.\u001b[39m_backward_pre_hooks \u001b[38;5;129;01mor\u001b[39;00m \u001b[38;5;28mself\u001b[39m\u001b[38;5;241m.\u001b[39m_forward_hooks \u001b[38;5;129;01mor\u001b[39;00m \u001b[38;5;28mself\u001b[39m\u001b[38;5;241m.\u001b[39m_forward_pre_hooks\n\u001b[0;32m   1745\u001b[0m         \u001b[38;5;129;01mor\u001b[39;00m _global_backward_pre_hooks \u001b[38;5;129;01mor\u001b[39;00m _global_backward_hooks\n\u001b[0;32m   1746\u001b[0m         \u001b[38;5;129;01mor\u001b[39;00m _global_forward_hooks \u001b[38;5;129;01mor\u001b[39;00m _global_forward_pre_hooks):\n\u001b[1;32m-> 1747\u001b[0m     \u001b[38;5;28;01mreturn\u001b[39;00m forward_call(\u001b[38;5;241m*\u001b[39margs, \u001b[38;5;241m*\u001b[39m\u001b[38;5;241m*\u001b[39mkwargs)\n\u001b[0;32m   1749\u001b[0m result \u001b[38;5;241m=\u001b[39m \u001b[38;5;28;01mNone\u001b[39;00m\n\u001b[0;32m   1750\u001b[0m called_always_called_hooks \u001b[38;5;241m=\u001b[39m \u001b[38;5;28mset\u001b[39m()\n",
      "File \u001b[1;32m~\\anaconda3\\envs\\torch\\Lib\\site-packages\\torch_geometric\\nn\\dense\\linear.py:147\u001b[0m, in \u001b[0;36mLinear.forward\u001b[1;34m(self, x)\u001b[0m\n\u001b[0;32m    141\u001b[0m \u001b[38;5;28;01mdef\u001b[39;00m \u001b[38;5;21mforward\u001b[39m(\u001b[38;5;28mself\u001b[39m, x: Tensor) \u001b[38;5;241m-\u001b[39m\u001b[38;5;241m>\u001b[39m Tensor:\n\u001b[0;32m    142\u001b[0m \u001b[38;5;250m    \u001b[39m\u001b[38;5;124mr\u001b[39m\u001b[38;5;124;03m\"\"\"Forward pass.\u001b[39;00m\n\u001b[0;32m    143\u001b[0m \n\u001b[0;32m    144\u001b[0m \u001b[38;5;124;03m    Args:\u001b[39;00m\n\u001b[0;32m    145\u001b[0m \u001b[38;5;124;03m        x (torch.Tensor): The input features.\u001b[39;00m\n\u001b[0;32m    146\u001b[0m \u001b[38;5;124;03m    \"\"\"\u001b[39;00m\n\u001b[1;32m--> 147\u001b[0m     \u001b[38;5;28;01mreturn\u001b[39;00m F\u001b[38;5;241m.\u001b[39mlinear(x, \u001b[38;5;28mself\u001b[39m\u001b[38;5;241m.\u001b[39mweight, \u001b[38;5;28mself\u001b[39m\u001b[38;5;241m.\u001b[39mbias)\n",
      "\u001b[1;31mRuntimeError\u001b[0m: mat1 and mat2 shapes cannot be multiplied (501x49 and 33x256)"
     ]
    }
   ],
   "source": [
    "# Forward pass with the processed data\n",
    "causality_scores, z, mean, log_var, x_reconstructed, reg_term = model(\n",
    "    entity_indices=test_data.entity_indices,\n",
    "    relation_indices=test_data.relation_indices,\n",
    "    time_series_data=test_data.time_series_tensor,\n",
    "    edge_index=test_data.edge_index,\n",
    "    timestamp_indices=test_data.timestamp_indices,\n",
    ")\n"
   ]
  },
  {
   "cell_type": "code",
   "execution_count": null,
   "id": "31d495c7-f961-4f12-8545-4fe9641ffd1d",
   "metadata": {},
   "outputs": [],
   "source": [
    "\n",
    "# Forward pass with the processed data\n",
    "causality_scores, z, mean, log_var, x_reconstructed, reg_term = model(\n",
    "    entity_indices=entity_indices,\n",
    "    relation_indices=relation_indices,\n",
    "    time_series_data=time_series_data,\n",
    "    edge_index=edge_index,\n",
    "    timestamp_indices=timestamp_indices,\n",
    ")\n",
    "\n",
    "# Output results\n",
    "print(\"Causality Scores:\", causality_scores)\n",
    "print(\"Latent Confounder Representation:\", z)\n",
    "print(\"Reconstructed Time Series:\", x_reconstructed)\n",
    "print(\"Regularizati"
   ]
  },
  {
   "cell_type": "code",
   "execution_count": null,
   "id": "4ae293a5-ecb5-4d3c-b527-4324081e4c58",
   "metadata": {},
   "outputs": [],
   "source": []
  }
 ],
 "metadata": {
  "kernelspec": {
   "display_name": "Python 3 (ipykernel)",
   "language": "python",
   "name": "python3"
  },
  "language_info": {
   "codemirror_mode": {
    "name": "ipython",
    "version": 3
   },
   "file_extension": ".py",
   "mimetype": "text/x-python",
   "name": "python",
   "nbconvert_exporter": "python",
   "pygments_lexer": "ipython3",
   "version": "3.12.7"
  }
 },
 "nbformat": 4,
 "nbformat_minor": 5
}
