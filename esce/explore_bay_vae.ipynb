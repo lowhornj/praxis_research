{
 "cells": [
  {
   "cell_type": "code",
   "execution_count": 1,
   "id": "6dffde21-aa42-4f4d-b368-f006e8592bd7",
   "metadata": {},
   "outputs": [],
   "source": [
    "import os\n",
    "import torch\n",
    "import polars as pl\n",
    "import numpy as np\n",
    "import seaborn as sns\n",
    "import warnings\n",
    "from feature_eng.scalers import ranged_scaler\n",
    "warnings.filterwarnings(\"ignore\", category=UserWarning) "
   ]
  },
  {
   "cell_type": "code",
   "execution_count": 2,
   "id": "c390f8eb-8264-459d-b5f2-1de365e6c223",
   "metadata": {},
   "outputs": [],
   "source": [
    "cats_df = pl.read_csv(\"data/data.csv\", separator=\",\")  "
   ]
  },
  {
   "cell_type": "code",
   "execution_count": 3,
   "id": "819b9f17-5bc3-49ee-b48d-a4e155ad96d1",
   "metadata": {},
   "outputs": [],
   "source": [
    "metadata = pl.read_csv('data/metadata.csv',separator=',')\n"
   ]
  },
  {
   "cell_type": "code",
   "execution_count": 4,
   "id": "084c6abc-d959-409e-a4cc-693eb02edd10",
   "metadata": {},
   "outputs": [
    {
     "data": {
      "text/html": [
       "<div><style>\n",
       ".dataframe > thead > tr,\n",
       ".dataframe > tbody > tr {\n",
       "  text-align: right;\n",
       "  white-space: pre-wrap;\n",
       "}\n",
       "</style>\n",
       "<small>shape: (5, 20)</small><table border=\"1\" class=\"dataframe\"><thead><tr><th>timestamp</th><th>aimp</th><th>amud</th><th>arnd</th><th>asin1</th><th>asin2</th><th>adbr</th><th>adfl</th><th>bed1</th><th>bed2</th><th>bfo1</th><th>bfo2</th><th>bso1</th><th>bso2</th><th>bso3</th><th>ced1</th><th>cfo1</th><th>cso1</th><th>y</th><th>category</th></tr><tr><td>str</td><td>f64</td><td>f64</td><td>f64</td><td>f64</td><td>f64</td><td>f64</td><td>f64</td><td>f64</td><td>f64</td><td>f64</td><td>f64</td><td>f64</td><td>f64</td><td>f64</td><td>f64</td><td>f64</td><td>f64</td><td>f64</td><td>f64</td></tr></thead><tbody><tr><td>&quot;2023-01-01 00:00:00&quot;</td><td>0.0</td><td>1.0</td><td>20.0</td><td>0.0</td><td>0.0</td><td>0.0</td><td>0.0</td><td>0.0</td><td>0.0</td><td>0.0</td><td>0.0</td><td>0.0</td><td>0.0</td><td>0.0</td><td>0.0</td><td>0.0</td><td>0.0</td><td>0.0</td><td>0.0</td></tr><tr><td>&quot;2023-01-01 00:00:01&quot;</td><td>0.0</td><td>1.0</td><td>20.080031</td><td>0.00002</td><td>0.0002</td><td>0.0</td><td>0.0</td><td>0.0</td><td>0.0</td><td>0.0</td><td>4.9939e-7</td><td>0.000789</td><td>0.0</td><td>0.0</td><td>0.0</td><td>0.000021</td><td>0.001229</td><td>0.0</td><td>0.0</td></tr><tr><td>&quot;2023-01-01 00:00:02&quot;</td><td>0.0</td><td>1.0</td><td>20.276562</td><td>0.00004</td><td>0.0004</td><td>0.0</td><td>0.0</td><td>0.0</td><td>0.0</td><td>0.0</td><td>0.000001</td><td>0.003115</td><td>0.0</td><td>0.0</td><td>0.0</td><td>0.000104</td><td>0.004833</td><td>0.0</td><td>0.0</td></tr><tr><td>&quot;2023-01-01 00:00:03&quot;</td><td>0.0</td><td>1.0</td><td>20.730938</td><td>0.00006</td><td>0.0006</td><td>0.0</td><td>0.0</td><td>0.0</td><td>0.0</td><td>0.0</td><td>0.000003</td><td>0.006914</td><td>0.0</td><td>0.0</td><td>0.0</td><td>0.000285</td><td>0.010688</td><td>0.0</td><td>0.0</td></tr><tr><td>&quot;2023-01-01 00:00:04&quot;</td><td>0.0</td><td>1.0</td><td>21.118101</td><td>0.00008</td><td>0.0008</td><td>0.0</td><td>0.0</td><td>0.0</td><td>0.0</td><td>0.0</td><td>0.000005</td><td>0.012123</td><td>0.0</td><td>0.0</td><td>0.0</td><td>0.000601</td><td>0.018669</td><td>0.0</td><td>0.0</td></tr></tbody></table></div>"
      ],
      "text/plain": [
       "shape: (5, 20)\n",
       "┌─────────────────────┬──────┬──────┬───────────┬───┬──────────┬──────────┬─────┬──────────┐\n",
       "│ timestamp           ┆ aimp ┆ amud ┆ arnd      ┆ … ┆ cfo1     ┆ cso1     ┆ y   ┆ category │\n",
       "│ ---                 ┆ ---  ┆ ---  ┆ ---       ┆   ┆ ---      ┆ ---      ┆ --- ┆ ---      │\n",
       "│ str                 ┆ f64  ┆ f64  ┆ f64       ┆   ┆ f64      ┆ f64      ┆ f64 ┆ f64      │\n",
       "╞═════════════════════╪══════╪══════╪═══════════╪═══╪══════════╪══════════╪═════╪══════════╡\n",
       "│ 2023-01-01 00:00:00 ┆ 0.0  ┆ 1.0  ┆ 20.0      ┆ … ┆ 0.0      ┆ 0.0      ┆ 0.0 ┆ 0.0      │\n",
       "│ 2023-01-01 00:00:01 ┆ 0.0  ┆ 1.0  ┆ 20.080031 ┆ … ┆ 0.000021 ┆ 0.001229 ┆ 0.0 ┆ 0.0      │\n",
       "│ 2023-01-01 00:00:02 ┆ 0.0  ┆ 1.0  ┆ 20.276562 ┆ … ┆ 0.000104 ┆ 0.004833 ┆ 0.0 ┆ 0.0      │\n",
       "│ 2023-01-01 00:00:03 ┆ 0.0  ┆ 1.0  ┆ 20.730938 ┆ … ┆ 0.000285 ┆ 0.010688 ┆ 0.0 ┆ 0.0      │\n",
       "│ 2023-01-01 00:00:04 ┆ 0.0  ┆ 1.0  ┆ 21.118101 ┆ … ┆ 0.000601 ┆ 0.018669 ┆ 0.0 ┆ 0.0      │\n",
       "└─────────────────────┴──────┴──────┴───────────┴───┴──────────┴──────────┴─────┴──────────┘"
      ]
     },
     "execution_count": 4,
     "metadata": {},
     "output_type": "execute_result"
    }
   ],
   "source": [
    "cats_df.head()"
   ]
  },
  {
   "cell_type": "code",
   "execution_count": 5,
   "id": "8b6eac40-7c24-4108-8c8c-76e3fa914456",
   "metadata": {},
   "outputs": [
    {
     "data": {
      "text/html": [
       "<div><style>\n",
       ".dataframe > thead > tr,\n",
       ".dataframe > tbody > tr {\n",
       "  text-align: right;\n",
       "  white-space: pre-wrap;\n",
       "}\n",
       "</style>\n",
       "<small>shape: (5, 5)</small><table border=\"1\" class=\"dataframe\"><thead><tr><th>start_time</th><th>end_time</th><th>root_cause</th><th>affected</th><th>category</th></tr><tr><td>str</td><td>str</td><td>str</td><td>str</td><td>i64</td></tr></thead><tbody><tr><td>&quot;2023-01-12 15:11:45&quot;</td><td>&quot;2023-01-12 15:20:05&quot;</td><td>&quot;bso3&quot;</td><td>&quot;[&#x27;cfo1&#x27;]&quot;</td><td>12</td></tr><tr><td>&quot;2023-01-12 16:27:46&quot;</td><td>&quot;2023-01-12 17:51:06&quot;</td><td>&quot;bso3&quot;</td><td>&quot;[&#x27;cfo1&#x27;]&quot;</td><td>1</td></tr><tr><td>&quot;2023-01-12 18:19:35&quot;</td><td>&quot;2023-01-12 18:36:15&quot;</td><td>&quot;bfo2&quot;</td><td>&quot;[&#x27;cso1&#x27;]&quot;</td><td>8</td></tr><tr><td>&quot;2023-01-12 20:46:32&quot;</td><td>&quot;2023-01-12 20:51:32&quot;</td><td>&quot;bed2&quot;</td><td>&quot;[&#x27;ced1&#x27;]&quot;</td><td>7</td></tr><tr><td>&quot;2023-01-13 05:57:10&quot;</td><td>&quot;2023-01-13 06:02:10&quot;</td><td>&quot;bfo1&quot;</td><td>&quot;[&#x27;cfo1&#x27;]&quot;</td><td>9</td></tr></tbody></table></div>"
      ],
      "text/plain": [
       "shape: (5, 5)\n",
       "┌─────────────────────┬─────────────────────┬────────────┬──────────┬──────────┐\n",
       "│ start_time          ┆ end_time            ┆ root_cause ┆ affected ┆ category │\n",
       "│ ---                 ┆ ---                 ┆ ---        ┆ ---      ┆ ---      │\n",
       "│ str                 ┆ str                 ┆ str        ┆ str      ┆ i64      │\n",
       "╞═════════════════════╪═════════════════════╪════════════╪══════════╪══════════╡\n",
       "│ 2023-01-12 15:11:45 ┆ 2023-01-12 15:20:05 ┆ bso3       ┆ ['cfo1'] ┆ 12       │\n",
       "│ 2023-01-12 16:27:46 ┆ 2023-01-12 17:51:06 ┆ bso3       ┆ ['cfo1'] ┆ 1        │\n",
       "│ 2023-01-12 18:19:35 ┆ 2023-01-12 18:36:15 ┆ bfo2       ┆ ['cso1'] ┆ 8        │\n",
       "│ 2023-01-12 20:46:32 ┆ 2023-01-12 20:51:32 ┆ bed2       ┆ ['ced1'] ┆ 7        │\n",
       "│ 2023-01-13 05:57:10 ┆ 2023-01-13 06:02:10 ┆ bfo1       ┆ ['cfo1'] ┆ 9        │\n",
       "└─────────────────────┴─────────────────────┴────────────┴──────────┴──────────┘"
      ]
     },
     "execution_count": 5,
     "metadata": {},
     "output_type": "execute_result"
    }
   ],
   "source": [
    "metadata.head()\n"
   ]
  },
  {
   "cell_type": "code",
   "execution_count": 6,
   "id": "3bf79826-0fcf-4c87-99fe-8132a81cac9c",
   "metadata": {},
   "outputs": [],
   "source": [
    "for col in cats_df.columns:\n",
    "    unique_vals = cats_df[col].n_unique()\n",
    "    data_type = cats_df[col].dtype\n",
    "    bad_dtypes = [pl.Date,pl.Datetime,pl.Utf8]\n",
    "    if ((unique_vals >= 50) & (data_type not in bad_dtypes) ):\n",
    "        cats_df = cats_df.with_columns(ranged_scaler(cats_df[col]))\n",
    "    else:\n",
    "        continue"
   ]
  },
  {
   "cell_type": "code",
   "execution_count": 7,
   "id": "664248d7-e960-4bcc-a36f-feed0915603c",
   "metadata": {},
   "outputs": [
    {
     "data": {
      "text/html": [
       "<div><style>\n",
       ".dataframe > thead > tr,\n",
       ".dataframe > tbody > tr {\n",
       "  text-align: right;\n",
       "  white-space: pre-wrap;\n",
       "}\n",
       "</style>\n",
       "<small>shape: (5, 20)</small><table border=\"1\" class=\"dataframe\"><thead><tr><th>timestamp</th><th>aimp</th><th>amud</th><th>arnd</th><th>asin1</th><th>asin2</th><th>adbr</th><th>adfl</th><th>bed1</th><th>bed2</th><th>bfo1</th><th>bfo2</th><th>bso1</th><th>bso2</th><th>bso3</th><th>ced1</th><th>cfo1</th><th>cso1</th><th>y</th><th>category</th></tr><tr><td>str</td><td>f64</td><td>f64</td><td>f64</td><td>f64</td><td>f64</td><td>f64</td><td>f64</td><td>f64</td><td>f64</td><td>f64</td><td>f64</td><td>f64</td><td>f64</td><td>f64</td><td>f64</td><td>f64</td><td>f64</td><td>f64</td><td>f64</td></tr></thead><tbody><tr><td>&quot;2023-01-01 00:00:00&quot;</td><td>0.0</td><td>0.142857</td><td>-0.5</td><td>-4.1078e-14</td><td>2.0428e-14</td><td>0.0</td><td>0.0</td><td>-0.32802</td><td>-0.369237</td><td>-0.738163</td><td>-0.767181</td><td>-0.180547</td><td>-0.507953</td><td>-0.716059</td><td>-0.774361</td><td>0.100389</td><td>-0.186623</td><td>0.0</td><td>0.0</td></tr><tr><td>&quot;2023-01-01 00:00:01&quot;</td><td>0.0</td><td>0.142857</td><td>-0.495998</td><td>0.00002</td><td>0.0002</td><td>0.0</td><td>0.0</td><td>-0.32802</td><td>-0.369237</td><td>-0.738163</td><td>-0.767181</td><td>-0.18054</td><td>-0.507953</td><td>-0.716059</td><td>-0.774361</td><td>0.100389</td><td>-0.186618</td><td>0.0</td><td>0.0</td></tr><tr><td>&quot;2023-01-01 00:00:02&quot;</td><td>0.0</td><td>0.142857</td><td>-0.486172</td><td>0.00004</td><td>0.0004</td><td>0.0</td><td>0.0</td><td>-0.32802</td><td>-0.369237</td><td>-0.738163</td><td>-0.767181</td><td>-0.180519</td><td>-0.507953</td><td>-0.716059</td><td>-0.774361</td><td>0.10039</td><td>-0.186604</td><td>0.0</td><td>0.0</td></tr><tr><td>&quot;2023-01-01 00:00:03&quot;</td><td>0.0</td><td>0.142857</td><td>-0.463453</td><td>0.00006</td><td>0.0006</td><td>0.0</td><td>0.0</td><td>-0.32802</td><td>-0.369237</td><td>-0.738163</td><td>-0.767181</td><td>-0.180484</td><td>-0.507953</td><td>-0.716059</td><td>-0.774361</td><td>0.100391</td><td>-0.18658</td><td>0.0</td><td>0.0</td></tr><tr><td>&quot;2023-01-01 00:00:04&quot;</td><td>0.0</td><td>0.142857</td><td>-0.444095</td><td>0.00008</td><td>0.0008</td><td>0.0</td><td>0.0</td><td>-0.32802</td><td>-0.369237</td><td>-0.738163</td><td>-0.767181</td><td>-0.180437</td><td>-0.507953</td><td>-0.716059</td><td>-0.774361</td><td>0.100393</td><td>-0.186548</td><td>0.0</td><td>0.0</td></tr></tbody></table></div>"
      ],
      "text/plain": [
       "shape: (5, 20)\n",
       "┌─────────────────────┬──────┬──────────┬───────────┬───┬──────────┬───────────┬─────┬──────────┐\n",
       "│ timestamp           ┆ aimp ┆ amud     ┆ arnd      ┆ … ┆ cfo1     ┆ cso1      ┆ y   ┆ category │\n",
       "│ ---                 ┆ ---  ┆ ---      ┆ ---       ┆   ┆ ---      ┆ ---       ┆ --- ┆ ---      │\n",
       "│ str                 ┆ f64  ┆ f64      ┆ f64       ┆   ┆ f64      ┆ f64       ┆ f64 ┆ f64      │\n",
       "╞═════════════════════╪══════╪══════════╪═══════════╪═══╪══════════╪═══════════╪═════╪══════════╡\n",
       "│ 2023-01-01 00:00:00 ┆ 0.0  ┆ 0.142857 ┆ -0.5      ┆ … ┆ 0.100389 ┆ -0.186623 ┆ 0.0 ┆ 0.0      │\n",
       "│ 2023-01-01 00:00:01 ┆ 0.0  ┆ 0.142857 ┆ -0.495998 ┆ … ┆ 0.100389 ┆ -0.186618 ┆ 0.0 ┆ 0.0      │\n",
       "│ 2023-01-01 00:00:02 ┆ 0.0  ┆ 0.142857 ┆ -0.486172 ┆ … ┆ 0.10039  ┆ -0.186604 ┆ 0.0 ┆ 0.0      │\n",
       "│ 2023-01-01 00:00:03 ┆ 0.0  ┆ 0.142857 ┆ -0.463453 ┆ … ┆ 0.100391 ┆ -0.18658  ┆ 0.0 ┆ 0.0      │\n",
       "│ 2023-01-01 00:00:04 ┆ 0.0  ┆ 0.142857 ┆ -0.444095 ┆ … ┆ 0.100393 ┆ -0.186548 ┆ 0.0 ┆ 0.0      │\n",
       "└─────────────────────┴──────┴──────────┴───────────┴───┴──────────┴───────────┴─────┴──────────┘"
      ]
     },
     "execution_count": 7,
     "metadata": {},
     "output_type": "execute_result"
    }
   ],
   "source": [
    "cats_df.head()\n"
   ]
  },
  {
   "cell_type": "code",
   "execution_count": 13,
   "id": "6cfff622-1687-44be-89ae-5affaf01e41f",
   "metadata": {},
   "outputs": [],
   "source": [
    "from variational_ae.vae import *\n",
    "from bayesian_inference.causal_inference import bayesian_network_inference"
   ]
  },
  {
   "cell_type": "code",
   "execution_count": 15,
   "id": "3ba05bbb-a2a0-4dce-bc6d-200329595859",
   "metadata": {
    "scrolled": true
   },
   "outputs": [
    {
     "name": "stdout",
     "output_type": "stream",
     "text": [
      "Epoch 1/50, Loss: 5835.1458\n",
      "Epoch 11/50, Loss: 1704.2271\n",
      "Epoch 21/50, Loss: 1680.7676\n",
      "Epoch 31/50, Loss: 1678.8288\n",
      "Epoch 41/50, Loss: 1678.5359\n"
     ]
    },
    {
     "name": "stderr",
     "output_type": "stream",
     "text": [
      "  0%|          | 16/1000000 [00:04<75:05:59,  3.70it/s]\n"
     ]
    },
    {
     "name": "stdout",
     "output_type": "stream",
     "text": [
      "Epoch 1/50, Loss: 28381.0392\n",
      "Epoch 11/50, Loss: 17445.9286\n",
      "Epoch 21/50, Loss: 17372.0657\n",
      "Epoch 31/50, Loss: 17333.8503\n",
      "Epoch 41/50, Loss: 17320.6687\n"
     ]
    },
    {
     "name": "stderr",
     "output_type": "stream",
     "text": [
      "  0%|          | 39/1000000 [10:27<4466:59:56, 16.08s/it] \n"
     ]
    },
    {
     "name": "stdout",
     "output_type": "stream",
     "text": [
      "Epoch 1/50, Loss: 28223.1653\n",
      "Epoch 11/50, Loss: 17457.4352\n",
      "Epoch 21/50, Loss: 17384.8352\n",
      "Epoch 31/50, Loss: 17341.2682\n",
      "Epoch 41/50, Loss: 17322.3875\n"
     ]
    },
    {
     "name": "stderr",
     "output_type": "stream",
     "text": [
      "  0%|          | 0/1000000 [01:02<?, ?it/s]\n"
     ]
    },
    {
     "name": "stdout",
     "output_type": "stream",
     "text": [
      "Epoch 1/50, Loss: 11257.0683\n",
      "Epoch 11/50, Loss: 3802.0388\n",
      "Epoch 21/50, Loss: 3797.3007\n",
      "Epoch 31/50, Loss: 3794.4850\n",
      "Epoch 41/50, Loss: 3792.1544\n"
     ]
    },
    {
     "name": "stderr",
     "output_type": "stream",
     "text": [
      "  0%|          | 16/1000000 [00:16<279:28:53,  1.01s/it]\n"
     ]
    },
    {
     "name": "stdout",
     "output_type": "stream",
     "text": [
      "Epoch 1/50, Loss: 3646.0605\n",
      "Epoch 11/50, Loss: 1065.0564\n",
      "Epoch 21/50, Loss: 999.0383\n",
      "Epoch 31/50, Loss: 992.5074\n",
      "Epoch 41/50, Loss: 990.7028\n"
     ]
    },
    {
     "name": "stderr",
     "output_type": "stream",
     "text": [
      "  0%|          | 16/1000000 [00:01<27:56:07,  9.94it/s]\n"
     ]
    },
    {
     "name": "stdout",
     "output_type": "stream",
     "text": [
      "Epoch 1/50, Loss: 3649.5087\n",
      "Epoch 11/50, Loss: 1186.3802\n",
      "Epoch 21/50, Loss: 1131.1834\n",
      "Epoch 31/50, Loss: 1128.1044\n",
      "Epoch 41/50, Loss: 1124.5631\n"
     ]
    },
    {
     "name": "stderr",
     "output_type": "stream",
     "text": [
      "  0%|          | 16/1000000 [00:01<27:59:00,  9.93it/s]\n"
     ]
    },
    {
     "name": "stdout",
     "output_type": "stream",
     "text": [
      "Epoch 1/50, Loss: 7879.1251\n",
      "Epoch 11/50, Loss: 2633.0986\n",
      "Epoch 21/50, Loss: 2619.5911\n",
      "Epoch 31/50, Loss: 2618.9972\n",
      "Epoch 41/50, Loss: 2616.8590\n"
     ]
    },
    {
     "name": "stderr",
     "output_type": "stream",
     "text": [
      "  0%|          | 16/1000000 [00:08<139:28:24,  1.99it/s]\n"
     ]
    },
    {
     "name": "stdout",
     "output_type": "stream",
     "text": [
      "Epoch 1/50, Loss: 3579.2159\n",
      "Epoch 11/50, Loss: 1046.2337\n",
      "Epoch 21/50, Loss: 1000.4193\n",
      "Epoch 31/50, Loss: 993.5634\n",
      "Epoch 41/50, Loss: 991.1314\n"
     ]
    },
    {
     "name": "stderr",
     "output_type": "stream",
     "text": [
      "  0%|          | 16/1000000 [00:01<28:11:14,  9.85it/s]\n"
     ]
    },
    {
     "name": "stdout",
     "output_type": "stream",
     "text": [
      "Epoch 1/50, Loss: 5275.2894\n",
      "Epoch 11/50, Loss: 1558.3694\n",
      "Epoch 21/50, Loss: 1528.7564\n",
      "Epoch 31/50, Loss: 1525.1489\n",
      "Epoch 41/50, Loss: 1524.2949\n"
     ]
    },
    {
     "name": "stderr",
     "output_type": "stream",
     "text": [
      "  0%|          | 16/1000000 [00:02<52:03:51,  5.34it/s]\n"
     ]
    },
    {
     "name": "stdout",
     "output_type": "stream",
     "text": [
      "Epoch 1/50, Loss: 8448.3628\n",
      "Epoch 11/50, Loss: 2899.1160\n",
      "Epoch 21/50, Loss: 2885.3261\n",
      "Epoch 31/50, Loss: 2883.2760\n",
      "Epoch 41/50, Loss: 2880.4879\n"
     ]
    },
    {
     "name": "stderr",
     "output_type": "stream",
     "text": [
      "  0%|          | 16/1000000 [00:07<138:21:06,  2.01it/s]\n"
     ]
    },
    {
     "name": "stdout",
     "output_type": "stream",
     "text": [
      "Epoch 1/50, Loss: 6354.8254\n",
      "Epoch 11/50, Loss: 1971.2138\n",
      "Epoch 21/50, Loss: 1954.9816\n",
      "Epoch 31/50, Loss: 1952.2019\n",
      "Epoch 41/50, Loss: 1950.2865\n"
     ]
    },
    {
     "name": "stderr",
     "output_type": "stream",
     "text": [
      "  0%|          | 16/1000000 [00:04<76:47:59,  3.62it/s]\n"
     ]
    },
    {
     "name": "stdout",
     "output_type": "stream",
     "text": [
      "Epoch 1/50, Loss: 3801.6927\n",
      "Epoch 11/50, Loss: 1203.1855\n",
      "Epoch 21/50, Loss: 1153.9492\n",
      "Epoch 31/50, Loss: 1147.4086\n",
      "Epoch 41/50, Loss: 1148.1802\n"
     ]
    },
    {
     "name": "stderr",
     "output_type": "stream",
     "text": [
      "  0%|          | 16/1000000 [00:01<27:36:04, 10.06it/s]\n"
     ]
    },
    {
     "name": "stdout",
     "output_type": "stream",
     "text": [
      "Epoch 1/50, Loss: 9507.4715\n",
      "Epoch 11/50, Loss: 3196.7151\n",
      "Epoch 21/50, Loss: 3188.1073\n",
      "Epoch 31/50, Loss: 3183.6838\n",
      "Epoch 41/50, Loss: 3183.9684\n"
     ]
    },
    {
     "name": "stderr",
     "output_type": "stream",
     "text": [
      "  0%|          | 16/1000000 [00:08<139:58:04,  1.98it/s]\n"
     ]
    },
    {
     "name": "stdout",
     "output_type": "stream",
     "text": [
      "Epoch 1/50, Loss: 11204.9527\n",
      "Epoch 11/50, Loss: 3820.7940\n",
      "Epoch 21/50, Loss: 3809.9652\n",
      "Epoch 31/50, Loss: 3803.6127\n",
      "Epoch 41/50, Loss: 3800.2357\n"
     ]
    },
    {
     "name": "stderr",
     "output_type": "stream",
     "text": [
      "  0%|          | 16/1000000 [00:16<283:06:27,  1.02s/it]\n"
     ]
    },
    {
     "name": "stdout",
     "output_type": "stream",
     "text": [
      "Epoch 1/50, Loss: 4023.2725\n",
      "Epoch 11/50, Loss: 1354.0858\n",
      "Epoch 21/50, Loss: 1290.8252\n",
      "Epoch 31/50, Loss: 1282.6886\n",
      "Epoch 41/50, Loss: 1282.1782\n"
     ]
    },
    {
     "name": "stderr",
     "output_type": "stream",
     "text": [
      "  0%|          | 16/1000000 [00:01<28:14:11,  9.84it/s]\n"
     ]
    },
    {
     "name": "stdout",
     "output_type": "stream",
     "text": [
      "Epoch 1/50, Loss: 3656.1038\n",
      "Epoch 11/50, Loss: 1120.0267\n",
      "Epoch 21/50, Loss: 1067.2332\n",
      "Epoch 31/50, Loss: 1063.5411\n",
      "Epoch 41/50, Loss: 1060.8723\n"
     ]
    },
    {
     "name": "stderr",
     "output_type": "stream",
     "text": [
      "  0%|          | 16/1000000 [00:01<28:05:02,  9.89it/s]\n"
     ]
    },
    {
     "name": "stdout",
     "output_type": "stream",
     "text": [
      "Epoch 1/50, Loss: 6669.5633\n",
      "Epoch 11/50, Loss: 2027.5516\n",
      "Epoch 21/50, Loss: 1995.1644\n",
      "Epoch 31/50, Loss: 1990.7001\n",
      "Epoch 41/50, Loss: 1990.3206\n"
     ]
    },
    {
     "name": "stderr",
     "output_type": "stream",
     "text": [
      "  0%|          | 16/1000000 [00:04<74:53:12,  3.71it/s]\n"
     ]
    },
    {
     "name": "stdout",
     "output_type": "stream",
     "text": [
      "Epoch 1/50, Loss: 8804.7934\n",
      "Epoch 11/50, Loss: 3139.0873\n",
      "Epoch 21/50, Loss: 3123.2449\n",
      "Epoch 31/50, Loss: 3122.0488\n",
      "Epoch 41/50, Loss: 3120.0172\n"
     ]
    },
    {
     "name": "stderr",
     "output_type": "stream",
     "text": [
      "  0%|          | 16/1000000 [00:08<139:10:33,  2.00it/s]\n"
     ]
    },
    {
     "name": "stdout",
     "output_type": "stream",
     "text": [
      "Epoch 1/50, Loss: 29568.2341\n",
      "Epoch 11/50, Loss: 18128.3787\n",
      "Epoch 21/50, Loss: 18104.4833\n",
      "Epoch 31/50, Loss: 18070.3704\n",
      "Epoch 41/50, Loss: 18046.4102\n"
     ]
    },
    {
     "name": "stderr",
     "output_type": "stream",
     "text": [
      "  0%|          | 31/1000000 [09:30<5112:53:52, 18.41s/it] \n"
     ]
    },
    {
     "name": "stdout",
     "output_type": "stream",
     "text": [
      "Epoch 1/50, Loss: 29237.1459\n",
      "Epoch 11/50, Loss: 18136.3996\n",
      "Epoch 21/50, Loss: 18095.3885\n",
      "Epoch 31/50, Loss: 18053.6493\n",
      "Epoch 41/50, Loss: 18034.4302\n"
     ]
    },
    {
     "name": "stderr",
     "output_type": "stream",
     "text": [
      "  0%|          | 0/1000000 [01:01<?, ?it/s]\n"
     ]
    },
    {
     "name": "stdout",
     "output_type": "stream",
     "text": [
      "Epoch 1/50, Loss: 6224.3856\n",
      "Epoch 11/50, Loss: 1918.6587\n",
      "Epoch 21/50, Loss: 1896.6019\n",
      "Epoch 31/50, Loss: 1893.1629\n",
      "Epoch 41/50, Loss: 1893.6809\n"
     ]
    },
    {
     "name": "stderr",
     "output_type": "stream",
     "text": [
      "  0%|          | 16/1000000 [00:04<75:14:39,  3.69it/s]\n"
     ]
    },
    {
     "name": "stdout",
     "output_type": "stream",
     "text": [
      "Epoch 1/50, Loss: 3260.7194\n",
      "Epoch 11/50, Loss: 917.2462\n",
      "Epoch 21/50, Loss: 870.4270\n",
      "Epoch 31/50, Loss: 866.1337\n",
      "Epoch 41/50, Loss: 865.4430\n"
     ]
    },
    {
     "name": "stderr",
     "output_type": "stream",
     "text": [
      "  0%|          | 16/1000000 [00:01<28:16:29,  9.82it/s]\n"
     ]
    },
    {
     "name": "stdout",
     "output_type": "stream",
     "text": [
      "Epoch 1/50, Loss: 4094.2321\n",
      "Epoch 11/50, Loss: 1379.0569\n",
      "Epoch 21/50, Loss: 1334.1520\n",
      "Epoch 31/50, Loss: 1329.6292\n",
      "Epoch 41/50, Loss: 1327.6234\n"
     ]
    },
    {
     "name": "stderr",
     "output_type": "stream",
     "text": [
      "  0%|          | 16/1000000 [00:01<27:57:24,  9.94it/s]\n"
     ]
    },
    {
     "name": "stdout",
     "output_type": "stream",
     "text": [
      "Epoch 1/50, Loss: 5867.5832\n",
      "Epoch 11/50, Loss: 1817.0571\n",
      "Epoch 21/50, Loss: 1797.5898\n",
      "Epoch 31/50, Loss: 1795.0896\n",
      "Epoch 41/50, Loss: 1793.3482\n"
     ]
    },
    {
     "name": "stderr",
     "output_type": "stream",
     "text": [
      "  0%|          | 16/1000000 [00:04<75:55:00,  3.66it/s]\n"
     ]
    },
    {
     "name": "stdout",
     "output_type": "stream",
     "text": [
      "Epoch 1/50, Loss: 5688.7365\n",
      "Epoch 11/50, Loss: 2096.5175\n",
      "Epoch 21/50, Loss: 2067.4215\n",
      "Epoch 31/50, Loss: 2063.9142\n",
      "Epoch 41/50, Loss: 2063.6818\n"
     ]
    },
    {
     "name": "stderr",
     "output_type": "stream",
     "text": [
      "  0%|          | 16/1000000 [00:02<51:54:56,  5.35it/s]\n"
     ]
    },
    {
     "name": "stdout",
     "output_type": "stream",
     "text": [
      "Epoch 1/50, Loss: 26765.1765\n",
      "Epoch 11/50, Loss: 16183.7336\n",
      "Epoch 21/50, Loss: 16118.0327\n",
      "Epoch 31/50, Loss: 16082.0218\n",
      "Epoch 41/50, Loss: 16064.2561\n"
     ]
    },
    {
     "name": "stderr",
     "output_type": "stream",
     "text": [
      "  0%|          | 41/1000000 [11:15<4573:14:50, 16.46s/it] \n"
     ]
    },
    {
     "name": "stdout",
     "output_type": "stream",
     "text": [
      "Epoch 1/50, Loss: 24983.7387\n",
      "Epoch 11/50, Loss: 16157.1262\n",
      "Epoch 21/50, Loss: 16098.9996\n",
      "Epoch 31/50, Loss: 16070.1518\n",
      "Epoch 41/50, Loss: 16061.6909\n"
     ]
    },
    {
     "name": "stderr",
     "output_type": "stream",
     "text": [
      "  0%|          | 0/1000000 [01:02<?, ?it/s]\n"
     ]
    },
    {
     "name": "stdout",
     "output_type": "stream",
     "text": [
      "Epoch 1/50, Loss: 2846.1036\n",
      "Epoch 11/50, Loss: 865.1852\n",
      "Epoch 21/50, Loss: 831.3964\n",
      "Epoch 31/50, Loss: 828.8516\n",
      "Epoch 41/50, Loss: 826.6889\n"
     ]
    },
    {
     "name": "stderr",
     "output_type": "stream",
     "text": [
      "  0%|          | 16/1000000 [00:01<28:01:30,  9.91it/s]\n"
     ]
    },
    {
     "name": "stdout",
     "output_type": "stream",
     "text": [
      "Epoch 1/50, Loss: 3562.7561\n",
      "Epoch 11/50, Loss: 1167.7980\n",
      "Epoch 21/50, Loss: 1126.7065\n",
      "Epoch 31/50, Loss: 1119.9811\n",
      "Epoch 41/50, Loss: 1119.9566\n"
     ]
    },
    {
     "name": "stderr",
     "output_type": "stream",
     "text": [
      "  0%|          | 16/1000000 [00:01<27:45:52, 10.00it/s]\n"
     ]
    },
    {
     "name": "stdout",
     "output_type": "stream",
     "text": [
      "Epoch 1/50, Loss: 7099.0207\n",
      "Epoch 11/50, Loss: 1841.8939\n",
      "Epoch 21/50, Loss: 1832.5847\n",
      "Epoch 31/50, Loss: 1829.8456\n",
      "Epoch 41/50, Loss: 1828.6377\n"
     ]
    },
    {
     "name": "stderr",
     "output_type": "stream",
     "text": [
      "  0%|          | 16/1000000 [00:08<140:16:20,  1.98it/s]\n"
     ]
    },
    {
     "name": "stdout",
     "output_type": "stream",
     "text": [
      "Epoch 1/50, Loss: 4452.8331\n",
      "Epoch 11/50, Loss: 1386.7129\n",
      "Epoch 21/50, Loss: 1363.3327\n",
      "Epoch 31/50, Loss: 1357.4523\n",
      "Epoch 41/50, Loss: 1356.6532\n"
     ]
    },
    {
     "name": "stderr",
     "output_type": "stream",
     "text": [
      "  0%|          | 16/1000000 [00:02<50:14:09,  5.53it/s]\n"
     ]
    },
    {
     "name": "stdout",
     "output_type": "stream",
     "text": [
      "Epoch 1/50, Loss: 5954.9697\n",
      "Epoch 11/50, Loss: 1885.0063\n",
      "Epoch 21/50, Loss: 1860.6692\n",
      "Epoch 31/50, Loss: 1861.1881\n",
      "Epoch 41/50, Loss: 1856.7745\n"
     ]
    },
    {
     "name": "stderr",
     "output_type": "stream",
     "text": [
      "  0%|          | 16/1000000 [00:04<75:58:02,  3.66it/s]\n"
     ]
    },
    {
     "name": "stdout",
     "output_type": "stream",
     "text": [
      "Epoch 1/50, Loss: 3440.0433\n",
      "Epoch 11/50, Loss: 991.1888\n",
      "Epoch 21/50, Loss: 945.0330\n",
      "Epoch 31/50, Loss: 940.0791\n",
      "Epoch 41/50, Loss: 938.6555\n"
     ]
    },
    {
     "name": "stderr",
     "output_type": "stream",
     "text": [
      "  0%|          | 16/1000000 [00:01<27:42:41, 10.02it/s]\n"
     ]
    },
    {
     "name": "stdout",
     "output_type": "stream",
     "text": [
      "Epoch 1/50, Loss: 7990.6674\n",
      "Epoch 11/50, Loss: 2448.7031\n",
      "Epoch 21/50, Loss: 2437.4279\n",
      "Epoch 31/50, Loss: 2437.3730\n",
      "Epoch 41/50, Loss: 2436.6638\n"
     ]
    },
    {
     "name": "stderr",
     "output_type": "stream",
     "text": [
      "  0%|          | 16/1000000 [00:07<137:36:27,  2.02it/s]\n"
     ]
    },
    {
     "name": "stdout",
     "output_type": "stream",
     "text": [
      "Epoch 1/50, Loss: 7655.3789\n",
      "Epoch 11/50, Loss: 2401.6668\n",
      "Epoch 21/50, Loss: 2389.0431\n",
      "Epoch 31/50, Loss: 2387.0348\n",
      "Epoch 41/50, Loss: 2386.0524\n"
     ]
    },
    {
     "name": "stderr",
     "output_type": "stream",
     "text": [
      "  0%|          | 16/1000000 [00:07<137:37:30,  2.02it/s]\n"
     ]
    },
    {
     "name": "stdout",
     "output_type": "stream",
     "text": [
      "Epoch 1/50, Loss: 8917.3188\n",
      "Epoch 11/50, Loss: 3028.6057\n",
      "Epoch 21/50, Loss: 3013.0660\n",
      "Epoch 31/50, Loss: 3010.3091\n",
      "Epoch 41/50, Loss: 3006.8927\n"
     ]
    },
    {
     "name": "stderr",
     "output_type": "stream",
     "text": [
      "  0%|          | 16/1000000 [00:07<133:59:52,  2.07it/s]\n"
     ]
    },
    {
     "name": "stdout",
     "output_type": "stream",
     "text": [
      "Epoch 1/50, Loss: 3464.5890\n",
      "Epoch 11/50, Loss: 977.4647\n",
      "Epoch 21/50, Loss: 939.0157\n",
      "Epoch 31/50, Loss: 932.9868\n",
      "Epoch 41/50, Loss: 932.1508\n"
     ]
    },
    {
     "name": "stderr",
     "output_type": "stream",
     "text": [
      "  0%|          | 16/1000000 [00:01<27:32:10, 10.09it/s]\n"
     ]
    },
    {
     "name": "stdout",
     "output_type": "stream",
     "text": [
      "Epoch 1/50, Loss: 5149.6401\n",
      "Epoch 11/50, Loss: 1579.7033\n",
      "Epoch 21/50, Loss: 1556.3608\n",
      "Epoch 31/50, Loss: 1553.5704\n",
      "Epoch 41/50, Loss: 1552.1848\n"
     ]
    },
    {
     "name": "stderr",
     "output_type": "stream",
     "text": [
      "  0%|          | 16/1000000 [00:02<51:28:08,  5.40it/s]\n"
     ]
    },
    {
     "name": "stdout",
     "output_type": "stream",
     "text": [
      "Epoch 1/50, Loss: 3123.3145\n",
      "Epoch 11/50, Loss: 902.5532\n",
      "Epoch 21/50, Loss: 853.9089\n",
      "Epoch 31/50, Loss: 848.4924\n",
      "Epoch 41/50, Loss: 848.2599\n"
     ]
    },
    {
     "name": "stderr",
     "output_type": "stream",
     "text": [
      "  0%|          | 16/1000000 [00:01<28:22:38,  9.79it/s]\n"
     ]
    },
    {
     "name": "stdout",
     "output_type": "stream",
     "text": [
      "Epoch 1/50, Loss: 5527.4225\n",
      "Epoch 11/50, Loss: 1731.4271\n",
      "Epoch 21/50, Loss: 1710.6223\n",
      "Epoch 31/50, Loss: 1708.4070\n",
      "Epoch 41/50, Loss: 1707.5235\n"
     ]
    },
    {
     "name": "stderr",
     "output_type": "stream",
     "text": [
      "  0%|          | 16/1000000 [00:04<76:45:49,  3.62it/s]\n"
     ]
    },
    {
     "name": "stdout",
     "output_type": "stream",
     "text": [
      "Epoch 1/50, Loss: 3357.9041\n",
      "Epoch 11/50, Loss: 1020.0185\n",
      "Epoch 21/50, Loss: 984.1419\n",
      "Epoch 31/50, Loss: 979.5377\n",
      "Epoch 41/50, Loss: 976.2028\n"
     ]
    },
    {
     "name": "stderr",
     "output_type": "stream",
     "text": [
      "  0%|          | 16/1000000 [00:01<27:49:19,  9.98it/s]\n"
     ]
    },
    {
     "name": "stdout",
     "output_type": "stream",
     "text": [
      "Epoch 1/50, Loss: 4524.3601\n",
      "Epoch 11/50, Loss: 1420.6121\n",
      "Epoch 21/50, Loss: 1391.6562\n",
      "Epoch 31/50, Loss: 1387.3429\n",
      "Epoch 41/50, Loss: 1386.0390\n"
     ]
    },
    {
     "name": "stderr",
     "output_type": "stream",
     "text": [
      "  0%|          | 16/1000000 [00:02<50:12:55,  5.53it/s]\n"
     ]
    },
    {
     "name": "stdout",
     "output_type": "stream",
     "text": [
      "Epoch 1/50, Loss: 7318.1004\n",
      "Epoch 11/50, Loss: 2197.0880\n",
      "Epoch 21/50, Loss: 2187.7307\n",
      "Epoch 31/50, Loss: 2185.3961\n",
      "Epoch 41/50, Loss: 2185.4414\n"
     ]
    },
    {
     "name": "stderr",
     "output_type": "stream",
     "text": [
      "  0%|          | 16/1000000 [00:08<140:10:01,  1.98it/s]\n"
     ]
    },
    {
     "name": "stdout",
     "output_type": "stream",
     "text": [
      "Epoch 1/50, Loss: 12269.5796\n",
      "Epoch 11/50, Loss: 4437.6530\n",
      "Epoch 21/50, Loss: 4432.1628\n",
      "Epoch 31/50, Loss: 4427.6387\n",
      "Epoch 41/50, Loss: 4424.7459\n"
     ]
    },
    {
     "name": "stderr",
     "output_type": "stream",
     "text": [
      "  0%|          | 16/1000000 [00:15<270:12:04,  1.03it/s]\n"
     ]
    },
    {
     "name": "stdout",
     "output_type": "stream",
     "text": [
      "Epoch 1/50, Loss: 6869.4828\n",
      "Epoch 11/50, Loss: 2355.5876\n",
      "Epoch 21/50, Loss: 2336.1100\n",
      "Epoch 31/50, Loss: 2332.9670\n",
      "Epoch 41/50, Loss: 2332.7548\n"
     ]
    },
    {
     "name": "stderr",
     "output_type": "stream",
     "text": [
      "  0%|          | 16/1000000 [00:04<75:59:17,  3.66it/s]\n"
     ]
    },
    {
     "name": "stdout",
     "output_type": "stream",
     "text": [
      "Epoch 1/50, Loss: 7725.4647\n",
      "Epoch 11/50, Loss: 2223.2362\n",
      "Epoch 21/50, Loss: 2212.6596\n",
      "Epoch 31/50, Loss: 2211.5439\n",
      "Epoch 41/50, Loss: 2209.9212\n"
     ]
    },
    {
     "name": "stderr",
     "output_type": "stream",
     "text": [
      "  0%|          | 16/1000000 [00:08<142:40:37,  1.95it/s]\n"
     ]
    },
    {
     "name": "stdout",
     "output_type": "stream",
     "text": [
      "Epoch 1/50, Loss: 5593.1707\n",
      "Epoch 11/50, Loss: 1906.8666\n",
      "Epoch 21/50, Loss: 1871.7515\n",
      "Epoch 31/50, Loss: 1867.2417\n",
      "Epoch 41/50, Loss: 1866.3719\n"
     ]
    },
    {
     "name": "stderr",
     "output_type": "stream",
     "text": [
      "  0%|          | 16/1000000 [00:03<52:37:50,  5.28it/s]\n"
     ]
    },
    {
     "name": "stdout",
     "output_type": "stream",
     "text": [
      "Epoch 1/50, Loss: 4543.3558\n",
      "Epoch 11/50, Loss: 1285.8940\n",
      "Epoch 21/50, Loss: 1257.5958\n",
      "Epoch 31/50, Loss: 1255.2819\n",
      "Epoch 41/50, Loss: 1254.0285\n"
     ]
    },
    {
     "name": "stderr",
     "output_type": "stream",
     "text": [
      "  0%|          | 16/1000000 [00:02<52:04:26,  5.33it/s]\n"
     ]
    },
    {
     "name": "stdout",
     "output_type": "stream",
     "text": [
      "Epoch 1/50, Loss: 7655.9182\n",
      "Epoch 11/50, Loss: 2474.3024\n",
      "Epoch 21/50, Loss: 2462.8511\n",
      "Epoch 31/50, Loss: 2462.3455\n",
      "Epoch 41/50, Loss: 2461.9948\n"
     ]
    },
    {
     "name": "stderr",
     "output_type": "stream",
     "text": [
      "  0%|          | 16/1000000 [00:08<141:00:21,  1.97it/s]\n"
     ]
    },
    {
     "name": "stdout",
     "output_type": "stream",
     "text": [
      "Epoch 1/50, Loss: 7559.3765\n",
      "Epoch 11/50, Loss: 2658.5157\n",
      "Epoch 21/50, Loss: 2635.8100\n",
      "Epoch 31/50, Loss: 2633.3633\n",
      "Epoch 41/50, Loss: 2632.1767\n"
     ]
    },
    {
     "name": "stderr",
     "output_type": "stream",
     "text": [
      "  0%|          | 16/1000000 [00:04<74:56:11,  3.71it/s]\n"
     ]
    },
    {
     "name": "stdout",
     "output_type": "stream",
     "text": [
      "Epoch 1/50, Loss: 32304.8106\n",
      "Epoch 11/50, Loss: 21094.3805\n",
      "Epoch 21/50, Loss: 21021.4334\n",
      "Epoch 31/50, Loss: 20976.9127\n",
      "Epoch 41/50, Loss: 20952.8712\n"
     ]
    },
    {
     "name": "stderr",
     "output_type": "stream",
     "text": [
      "  0%|          | 43/1000000 [11:06<4303:54:00, 15.49s/it] \n"
     ]
    },
    {
     "name": "stdout",
     "output_type": "stream",
     "text": [
      "Epoch 1/50, Loss: 33180.2907\n",
      "Epoch 11/50, Loss: 21089.3203\n",
      "Epoch 21/50, Loss: 21018.2700\n",
      "Epoch 31/50, Loss: 20975.5531\n",
      "Epoch 41/50, Loss: 20952.5027\n"
     ]
    },
    {
     "name": "stderr",
     "output_type": "stream",
     "text": [
      "  0%|          | 0/1000000 [01:02<?, ?it/s]\n"
     ]
    },
    {
     "name": "stdout",
     "output_type": "stream",
     "text": [
      "Epoch 1/50, Loss: 4383.3178\n",
      "Epoch 11/50, Loss: 1261.4091\n",
      "Epoch 21/50, Loss: 1230.7778\n",
      "Epoch 31/50, Loss: 1225.5977\n",
      "Epoch 41/50, Loss: 1224.9033\n"
     ]
    },
    {
     "name": "stderr",
     "output_type": "stream",
     "text": [
      "  0%|          | 16/1000000 [00:02<51:51:13,  5.36it/s]\n"
     ]
    },
    {
     "name": "stdout",
     "output_type": "stream",
     "text": [
      "Epoch 1/50, Loss: 23703.3205\n",
      "Epoch 11/50, Loss: 14467.7116\n",
      "Epoch 21/50, Loss: 14351.2520\n",
      "Epoch 31/50, Loss: 14305.6991\n",
      "Epoch 41/50, Loss: 14278.8930\n"
     ]
    },
    {
     "name": "stderr",
     "output_type": "stream",
     "text": [
      "  0%|          | 48/1000000 [11:30<3994:58:49, 14.38s/it] \n"
     ]
    },
    {
     "name": "stdout",
     "output_type": "stream",
     "text": [
      "Epoch 1/50, Loss: 23966.2595\n",
      "Epoch 11/50, Loss: 14465.6989\n",
      "Epoch 21/50, Loss: 14353.2309\n",
      "Epoch 31/50, Loss: 14303.9144\n",
      "Epoch 41/50, Loss: 14277.6867\n"
     ]
    },
    {
     "name": "stderr",
     "output_type": "stream",
     "text": [
      "  0%|          | 0/1000000 [01:02<?, ?it/s]\n"
     ]
    },
    {
     "name": "stdout",
     "output_type": "stream",
     "text": [
      "Epoch 1/50, Loss: 4442.9988\n",
      "Epoch 11/50, Loss: 1282.5167\n",
      "Epoch 21/50, Loss: 1239.6147\n",
      "Epoch 31/50, Loss: 1239.1770\n",
      "Epoch 41/50, Loss: 1235.5348\n"
     ]
    },
    {
     "name": "stderr",
     "output_type": "stream",
     "text": [
      "  0%|          | 16/1000000 [00:02<51:14:46,  5.42it/s]\n"
     ]
    },
    {
     "name": "stdout",
     "output_type": "stream",
     "text": [
      "Epoch 1/50, Loss: 10646.3670\n",
      "Epoch 11/50, Loss: 3480.2148\n",
      "Epoch 21/50, Loss: 3473.6655\n",
      "Epoch 31/50, Loss: 3471.8977\n",
      "Epoch 41/50, Loss: 3465.1738\n"
     ]
    },
    {
     "name": "stderr",
     "output_type": "stream",
     "text": [
      "  0%|          | 16/1000000 [00:15<273:27:11,  1.02it/s]\n"
     ]
    },
    {
     "name": "stdout",
     "output_type": "stream",
     "text": [
      "Epoch 1/50, Loss: 5299.1492\n",
      "Epoch 11/50, Loss: 1715.2922\n",
      "Epoch 21/50, Loss: 1700.4999\n",
      "Epoch 31/50, Loss: 1698.3682\n",
      "Epoch 41/50, Loss: 1697.1593\n"
     ]
    },
    {
     "name": "stderr",
     "output_type": "stream",
     "text": [
      "  0%|          | 16/1000000 [00:04<71:21:26,  3.89it/s]\n"
     ]
    },
    {
     "name": "stdout",
     "output_type": "stream",
     "text": [
      "Epoch 1/50, Loss: 35696.9176\n",
      "Epoch 11/50, Loss: 23415.8799\n",
      "Epoch 21/50, Loss: 23350.2065\n",
      "Epoch 31/50, Loss: 23314.4388\n",
      "Epoch 41/50, Loss: 23299.3812\n"
     ]
    },
    {
     "name": "stderr",
     "output_type": "stream",
     "text": [
      "  0%|          | 32/1000000 [09:34<4989:53:41, 17.96s/it] \n"
     ]
    },
    {
     "name": "stdout",
     "output_type": "stream",
     "text": [
      "Epoch 1/50, Loss: 35876.8023\n",
      "Epoch 11/50, Loss: 23419.0708\n",
      "Epoch 21/50, Loss: 23361.8677\n",
      "Epoch 31/50, Loss: 23323.8414\n",
      "Epoch 41/50, Loss: 23307.2852\n"
     ]
    },
    {
     "name": "stderr",
     "output_type": "stream",
     "text": [
      "  0%|          | 0/1000000 [01:01<?, ?it/s]\n"
     ]
    },
    {
     "name": "stdout",
     "output_type": "stream",
     "text": [
      "Epoch 1/50, Loss: 9735.9210\n",
      "Epoch 11/50, Loss: 3283.3557\n",
      "Epoch 21/50, Loss: 3276.8552\n",
      "Epoch 31/50, Loss: 3275.7651\n",
      "Epoch 41/50, Loss: 3274.3293\n"
     ]
    },
    {
     "name": "stderr",
     "output_type": "stream",
     "text": [
      "  0%|          | 16/1000000 [00:15<277:45:10,  1.00it/s]\n"
     ]
    },
    {
     "name": "stdout",
     "output_type": "stream",
     "text": [
      "Epoch 1/50, Loss: 5138.6721\n",
      "Epoch 11/50, Loss: 1527.3083\n",
      "Epoch 21/50, Loss: 1513.5546\n",
      "Epoch 31/50, Loss: 1511.4347\n",
      "Epoch 41/50, Loss: 1509.6901\n"
     ]
    },
    {
     "name": "stderr",
     "output_type": "stream",
     "text": [
      "  0%|          | 16/1000000 [00:04<76:14:11,  3.64it/s]\n"
     ]
    },
    {
     "name": "stdout",
     "output_type": "stream",
     "text": [
      "Epoch 1/50, Loss: 9531.0521\n",
      "Epoch 11/50, Loss: 3015.5294\n",
      "Epoch 21/50, Loss: 3009.8820\n",
      "Epoch 31/50, Loss: 3007.3598\n",
      "Epoch 41/50, Loss: 3006.1522\n"
     ]
    },
    {
     "name": "stderr",
     "output_type": "stream",
     "text": [
      "  0%|          | 16/1000000 [00:15<269:55:20,  1.03it/s]\n"
     ]
    },
    {
     "name": "stdout",
     "output_type": "stream",
     "text": [
      "Epoch 1/50, Loss: 4832.5109\n",
      "Epoch 11/50, Loss: 1498.2912\n",
      "Epoch 21/50, Loss: 1473.4792\n",
      "Epoch 31/50, Loss: 1470.0993\n",
      "Epoch 41/50, Loss: 1469.3562\n"
     ]
    },
    {
     "name": "stderr",
     "output_type": "stream",
     "text": [
      "  0%|          | 16/1000000 [00:02<50:48:54,  5.47it/s]\n"
     ]
    },
    {
     "name": "stdout",
     "output_type": "stream",
     "text": [
      "Epoch 1/50, Loss: 6965.3352\n",
      "Epoch 11/50, Loss: 2348.0087\n",
      "Epoch 21/50, Loss: 2329.6062\n",
      "Epoch 31/50, Loss: 2327.4667\n",
      "Epoch 41/50, Loss: 2326.8670\n"
     ]
    },
    {
     "name": "stderr",
     "output_type": "stream",
     "text": [
      "  0%|          | 16/1000000 [00:04<76:13:10,  3.64it/s]\n"
     ]
    },
    {
     "name": "stdout",
     "output_type": "stream",
     "text": [
      "Epoch 1/50, Loss: 4498.5468\n",
      "Epoch 11/50, Loss: 1460.8033\n",
      "Epoch 21/50, Loss: 1409.7740\n",
      "Epoch 31/50, Loss: 1403.9336\n",
      "Epoch 41/50, Loss: 1402.4041\n"
     ]
    },
    {
     "name": "stderr",
     "output_type": "stream",
     "text": [
      "  0%|          | 16/1000000 [00:01<27:46:36, 10.00it/s]\n"
     ]
    },
    {
     "name": "stdout",
     "output_type": "stream",
     "text": [
      "Epoch 1/50, Loss: 5491.2966\n",
      "Epoch 11/50, Loss: 1788.4102\n",
      "Epoch 21/50, Loss: 1770.2329\n",
      "Epoch 31/50, Loss: 1767.6706\n",
      "Epoch 41/50, Loss: 1765.9832\n"
     ]
    },
    {
     "name": "stderr",
     "output_type": "stream",
     "text": [
      "  0%|          | 16/1000000 [00:04<72:04:59,  3.85it/s]\n"
     ]
    },
    {
     "name": "stdout",
     "output_type": "stream",
     "text": [
      "Epoch 1/50, Loss: 10975.0148\n",
      "Epoch 11/50, Loss: 3735.7205\n",
      "Epoch 21/50, Loss: 3725.8335\n",
      "Epoch 31/50, Loss: 3717.6320\n",
      "Epoch 41/50, Loss: 3716.4316\n"
     ]
    },
    {
     "name": "stderr",
     "output_type": "stream",
     "text": [
      "  0%|          | 16/1000000 [00:16<282:43:33,  1.02s/it]\n"
     ]
    },
    {
     "name": "stdout",
     "output_type": "stream",
     "text": [
      "Epoch 1/50, Loss: 5181.6586\n",
      "Epoch 11/50, Loss: 1704.5308\n",
      "Epoch 21/50, Loss: 1673.6115\n",
      "Epoch 31/50, Loss: 1672.2181\n",
      "Epoch 41/50, Loss: 1671.3131\n"
     ]
    },
    {
     "name": "stderr",
     "output_type": "stream",
     "text": [
      "  0%|          | 16/1000000 [00:02<51:47:30,  5.36it/s]\n"
     ]
    },
    {
     "name": "stdout",
     "output_type": "stream",
     "text": [
      "Epoch 1/50, Loss: 10152.1584\n",
      "Epoch 11/50, Loss: 3144.3724\n",
      "Epoch 21/50, Loss: 3130.8645\n",
      "Epoch 31/50, Loss: 3128.5212\n",
      "Epoch 41/50, Loss: 3121.5281\n"
     ]
    },
    {
     "name": "stderr",
     "output_type": "stream",
     "text": [
      "  0%|          | 16/1000000 [00:15<275:46:16,  1.01it/s]\n"
     ]
    },
    {
     "name": "stdout",
     "output_type": "stream",
     "text": [
      "Epoch 1/50, Loss: 4084.5936\n",
      "Epoch 11/50, Loss: 1214.7565\n",
      "Epoch 21/50, Loss: 1189.5820\n",
      "Epoch 31/50, Loss: 1187.7411\n",
      "Epoch 41/50, Loss: 1187.1609\n"
     ]
    },
    {
     "name": "stderr",
     "output_type": "stream",
     "text": [
      "  0%|          | 16/1000000 [00:02<51:52:24,  5.35it/s]\n"
     ]
    },
    {
     "name": "stdout",
     "output_type": "stream",
     "text": [
      "Epoch 1/50, Loss: 9111.7705\n",
      "Epoch 11/50, Loss: 3188.0075\n",
      "Epoch 21/50, Loss: 3174.1386\n",
      "Epoch 31/50, Loss: 3170.8289\n",
      "Epoch 41/50, Loss: 3170.2348\n"
     ]
    },
    {
     "name": "stderr",
     "output_type": "stream",
     "text": [
      "  0%|          | 16/1000000 [00:08<142:24:11,  1.95it/s]\n"
     ]
    },
    {
     "name": "stdout",
     "output_type": "stream",
     "text": [
      "Epoch 1/50, Loss: 7508.0668\n",
      "Epoch 11/50, Loss: 2297.8901\n",
      "Epoch 21/50, Loss: 2292.2695\n",
      "Epoch 31/50, Loss: 2290.2791\n",
      "Epoch 41/50, Loss: 2290.1237\n"
     ]
    },
    {
     "name": "stderr",
     "output_type": "stream",
     "text": [
      "  0%|          | 16/1000000 [00:08<139:28:51,  1.99it/s]\n"
     ]
    },
    {
     "name": "stdout",
     "output_type": "stream",
     "text": [
      "Epoch 1/50, Loss: 3687.2692\n",
      "Epoch 11/50, Loss: 1164.1914\n",
      "Epoch 21/50, Loss: 1097.6798\n",
      "Epoch 31/50, Loss: 1094.7017\n",
      "Epoch 41/50, Loss: 1092.2841\n"
     ]
    },
    {
     "name": "stderr",
     "output_type": "stream",
     "text": [
      "  0%|          | 16/1000000 [00:01<27:35:24, 10.07it/s]\n"
     ]
    },
    {
     "name": "stdout",
     "output_type": "stream",
     "text": [
      "Epoch 1/50, Loss: 5449.4003\n",
      "Epoch 11/50, Loss: 1871.7438\n",
      "Epoch 21/50, Loss: 1840.3202\n",
      "Epoch 31/50, Loss: 1835.2393\n",
      "Epoch 41/50, Loss: 1833.1279\n"
     ]
    },
    {
     "name": "stderr",
     "output_type": "stream",
     "text": [
      "  0%|          | 16/1000000 [00:02<51:16:40,  5.42it/s]\n"
     ]
    },
    {
     "name": "stdout",
     "output_type": "stream",
     "text": [
      "Epoch 1/50, Loss: 17085.5669\n",
      "Epoch 11/50, Loss: 7002.2844\n",
      "Epoch 21/50, Loss: 6981.1947\n",
      "Epoch 31/50, Loss: 6969.4239\n",
      "Epoch 41/50, Loss: 6957.3434\n"
     ]
    },
    {
     "name": "stderr",
     "output_type": "stream",
     "text": [
      "  0%|          | 49/1000000 [01:51<629:40:07,  2.27s/it]\n"
     ]
    },
    {
     "name": "stdout",
     "output_type": "stream",
     "text": [
      "Epoch 1/50, Loss: 16643.7640\n",
      "Epoch 11/50, Loss: 7006.4707\n",
      "Epoch 21/50, Loss: 6988.6840\n",
      "Epoch 31/50, Loss: 6975.1663\n",
      "Epoch 41/50, Loss: 6962.6180\n"
     ]
    },
    {
     "name": "stderr",
     "output_type": "stream",
     "text": [
      "  0%|          | 0/1000000 [00:10<?, ?it/s]\n"
     ]
    },
    {
     "name": "stdout",
     "output_type": "stream",
     "text": [
      "Epoch 1/50, Loss: 3590.1435\n",
      "Epoch 11/50, Loss: 1143.6835\n",
      "Epoch 21/50, Loss: 1082.3057\n",
      "Epoch 31/50, Loss: 1076.1806\n",
      "Epoch 41/50, Loss: 1075.0015\n"
     ]
    },
    {
     "name": "stderr",
     "output_type": "stream",
     "text": [
      "  0%|          | 16/1000000 [00:01<27:47:27, 10.00it/s]\n"
     ]
    },
    {
     "name": "stdout",
     "output_type": "stream",
     "text": [
      "Epoch 1/50, Loss: 4538.1882\n",
      "Epoch 11/50, Loss: 1405.8199\n",
      "Epoch 21/50, Loss: 1391.0803\n",
      "Epoch 31/50, Loss: 1386.9457\n",
      "Epoch 41/50, Loss: 1389.6323\n"
     ]
    },
    {
     "name": "stderr",
     "output_type": "stream",
     "text": [
      "  0%|          | 16/1000000 [00:04<76:40:14,  3.62it/s]\n"
     ]
    },
    {
     "name": "stdout",
     "output_type": "stream",
     "text": [
      "Epoch 1/50, Loss: 33707.7222\n",
      "Epoch 11/50, Loss: 22186.2840\n",
      "Epoch 21/50, Loss: 22128.9628\n",
      "Epoch 31/50, Loss: 22088.6249\n",
      "Epoch 41/50, Loss: 22075.9853\n"
     ]
    },
    {
     "name": "stderr",
     "output_type": "stream",
     "text": [
      "  0%|          | 34/1000000 [09:39<4737:38:09, 17.06s/it] \n"
     ]
    },
    {
     "name": "stdout",
     "output_type": "stream",
     "text": [
      "Epoch 1/50, Loss: 34344.1960\n",
      "Epoch 11/50, Loss: 22185.1118\n",
      "Epoch 21/50, Loss: 22135.4759\n",
      "Epoch 31/50, Loss: 22098.0908\n",
      "Epoch 41/50, Loss: 22078.9332\n"
     ]
    },
    {
     "name": "stderr",
     "output_type": "stream",
     "text": [
      "  0%|          | 0/1000000 [01:01<?, ?it/s]\n"
     ]
    },
    {
     "name": "stdout",
     "output_type": "stream",
     "text": [
      "Epoch 1/50, Loss: 4830.3216\n",
      "Epoch 11/50, Loss: 1474.7911\n",
      "Epoch 21/50, Loss: 1448.1097\n",
      "Epoch 31/50, Loss: 1444.7715\n",
      "Epoch 41/50, Loss: 1443.0712\n"
     ]
    },
    {
     "name": "stderr",
     "output_type": "stream",
     "text": [
      "  0%|          | 16/1000000 [00:02<50:47:05,  5.47it/s]\n"
     ]
    },
    {
     "name": "stdout",
     "output_type": "stream",
     "text": [
      "Epoch 1/50, Loss: 8029.6523\n",
      "Epoch 11/50, Loss: 2480.4867\n",
      "Epoch 21/50, Loss: 2471.0912\n",
      "Epoch 31/50, Loss: 2467.2578\n",
      "Epoch 41/50, Loss: 2466.0689\n"
     ]
    },
    {
     "name": "stderr",
     "output_type": "stream",
     "text": [
      "  0%|          | 16/1000000 [00:08<139:18:40,  1.99it/s]\n"
     ]
    },
    {
     "name": "stdout",
     "output_type": "stream",
     "text": [
      "Epoch 1/50, Loss: 3662.8401\n",
      "Epoch 11/50, Loss: 1097.3951\n",
      "Epoch 21/50, Loss: 1050.2397\n",
      "Epoch 31/50, Loss: 1043.2320\n",
      "Epoch 41/50, Loss: 1041.0271\n"
     ]
    },
    {
     "name": "stderr",
     "output_type": "stream",
     "text": [
      "  0%|          | 16/1000000 [00:01<28:23:41,  9.78it/s]\n"
     ]
    },
    {
     "name": "stdout",
     "output_type": "stream",
     "text": [
      "Epoch 1/50, Loss: 13815.7549\n",
      "Epoch 11/50, Loss: 4829.5090\n",
      "Epoch 21/50, Loss: 4824.9581\n",
      "Epoch 31/50, Loss: 4821.1058\n",
      "Epoch 41/50, Loss: 4820.6636\n"
     ]
    },
    {
     "name": "stderr",
     "output_type": "stream",
     "text": [
      "  0%|          | 16/1000000 [00:15<269:51:39,  1.03it/s]\n"
     ]
    },
    {
     "name": "stdout",
     "output_type": "stream",
     "text": [
      "Epoch 1/50, Loss: 4569.2441\n",
      "Epoch 11/50, Loss: 1619.8185\n",
      "Epoch 21/50, Loss: 1565.1590\n",
      "Epoch 31/50, Loss: 1560.2799\n",
      "Epoch 41/50, Loss: 1559.4325\n"
     ]
    },
    {
     "name": "stderr",
     "output_type": "stream",
     "text": [
      "  0%|          | 16/1000000 [00:01<28:04:17,  9.90it/s]\n"
     ]
    },
    {
     "name": "stdout",
     "output_type": "stream",
     "text": [
      "Epoch 1/50, Loss: 10486.6896\n",
      "Epoch 11/50, Loss: 3900.4542\n",
      "Epoch 21/50, Loss: 3886.2720\n",
      "Epoch 31/50, Loss: 3882.5235\n",
      "Epoch 41/50, Loss: 3885.1721\n"
     ]
    },
    {
     "name": "stderr",
     "output_type": "stream",
     "text": [
      "  0%|          | 16/1000000 [00:07<137:09:48,  2.03it/s]\n"
     ]
    },
    {
     "name": "stdout",
     "output_type": "stream",
     "text": [
      "Epoch 1/50, Loss: 4171.8515\n",
      "Epoch 11/50, Loss: 1295.1038\n",
      "Epoch 21/50, Loss: 1241.5876\n",
      "Epoch 31/50, Loss: 1237.6136\n",
      "Epoch 41/50, Loss: 1236.2676\n"
     ]
    },
    {
     "name": "stderr",
     "output_type": "stream",
     "text": [
      "  0%|          | 16/1000000 [00:01<28:05:23,  9.89it/s]\n"
     ]
    },
    {
     "name": "stdout",
     "output_type": "stream",
     "text": [
      "Epoch 1/50, Loss: 9381.1769\n",
      "Epoch 11/50, Loss: 3221.0595\n",
      "Epoch 21/50, Loss: 3208.2432\n",
      "Epoch 31/50, Loss: 3206.6513\n",
      "Epoch 41/50, Loss: 3205.7861\n"
     ]
    },
    {
     "name": "stderr",
     "output_type": "stream",
     "text": [
      "  0%|          | 16/1000000 [00:07<137:54:57,  2.01it/s]\n"
     ]
    },
    {
     "name": "stdout",
     "output_type": "stream",
     "text": [
      "Epoch 1/50, Loss: 9784.0379\n",
      "Epoch 11/50, Loss: 3392.8552\n",
      "Epoch 21/50, Loss: 3379.9271\n",
      "Epoch 31/50, Loss: 3378.7921\n",
      "Epoch 41/50, Loss: 3377.3639\n"
     ]
    },
    {
     "name": "stderr",
     "output_type": "stream",
     "text": [
      "  0%|          | 16/1000000 [00:07<137:23:21,  2.02it/s]\n"
     ]
    },
    {
     "name": "stdout",
     "output_type": "stream",
     "text": [
      "Epoch 1/50, Loss: 5673.3836\n",
      "Epoch 11/50, Loss: 1818.1720\n",
      "Epoch 21/50, Loss: 1789.4603\n",
      "Epoch 31/50, Loss: 1786.1610\n",
      "Epoch 41/50, Loss: 1783.4917\n"
     ]
    },
    {
     "name": "stderr",
     "output_type": "stream",
     "text": [
      "  0%|          | 16/1000000 [00:02<51:24:56,  5.40it/s]\n"
     ]
    },
    {
     "name": "stdout",
     "output_type": "stream",
     "text": [
      "Epoch 1/50, Loss: 8763.6914\n",
      "Epoch 11/50, Loss: 2716.7191\n",
      "Epoch 21/50, Loss: 2704.2989\n",
      "Epoch 31/50, Loss: 2703.7883\n",
      "Epoch 41/50, Loss: 2702.3901\n"
     ]
    },
    {
     "name": "stderr",
     "output_type": "stream",
     "text": [
      "  0%|          | 16/1000000 [00:07<138:01:25,  2.01it/s]\n"
     ]
    },
    {
     "name": "stdout",
     "output_type": "stream",
     "text": [
      "Epoch 1/50, Loss: 8802.1213\n",
      "Epoch 11/50, Loss: 2807.7498\n",
      "Epoch 21/50, Loss: 2794.6372\n",
      "Epoch 31/50, Loss: 2793.1008\n",
      "Epoch 41/50, Loss: 2793.1076\n"
     ]
    },
    {
     "name": "stderr",
     "output_type": "stream",
     "text": [
      "  0%|          | 16/1000000 [00:08<140:59:38,  1.97it/s]\n"
     ]
    },
    {
     "name": "stdout",
     "output_type": "stream",
     "text": [
      "Epoch 1/50, Loss: 7576.8044\n",
      "Epoch 11/50, Loss: 2505.7112\n",
      "Epoch 21/50, Loss: 2481.8274\n",
      "Epoch 31/50, Loss: 2478.2342\n",
      "Epoch 41/50, Loss: 2477.7968\n"
     ]
    },
    {
     "name": "stderr",
     "output_type": "stream",
     "text": [
      "  0%|          | 16/1000000 [00:04<73:52:03,  3.76it/s]\n"
     ]
    },
    {
     "name": "stdout",
     "output_type": "stream",
     "text": [
      "Epoch 1/50, Loss: 40658.6741\n",
      "Epoch 11/50, Loss: 26367.6328\n",
      "Epoch 21/50, Loss: 26327.4598\n",
      "Epoch 31/50, Loss: 26296.1824\n",
      "Epoch 41/50, Loss: 26276.4904\n"
     ]
    },
    {
     "name": "stderr",
     "output_type": "stream",
     "text": [
      "  0%|          | 32/1000000 [09:15<4823:39:37, 17.37s/it] \n"
     ]
    },
    {
     "name": "stdout",
     "output_type": "stream",
     "text": [
      "Epoch 1/50, Loss: 39518.8657\n",
      "Epoch 11/50, Loss: 26369.5605\n",
      "Epoch 21/50, Loss: 26320.3998\n",
      "Epoch 31/50, Loss: 26288.1263\n",
      "Epoch 41/50, Loss: 26269.9177\n"
     ]
    },
    {
     "name": "stderr",
     "output_type": "stream",
     "text": [
      "  0%|          | 0/1000000 [01:03<?, ?it/s]\n"
     ]
    },
    {
     "name": "stdout",
     "output_type": "stream",
     "text": [
      "Epoch 1/50, Loss: 6619.8377\n",
      "Epoch 11/50, Loss: 2097.8805\n",
      "Epoch 21/50, Loss: 2073.6522\n",
      "Epoch 31/50, Loss: 2072.3932\n",
      "Epoch 41/50, Loss: 2071.2170\n"
     ]
    },
    {
     "name": "stderr",
     "output_type": "stream",
     "text": [
      "  0%|          | 16/1000000 [00:04<76:44:59,  3.62it/s]\n"
     ]
    },
    {
     "name": "stdout",
     "output_type": "stream",
     "text": [
      "Epoch 1/50, Loss: 30830.4891\n",
      "Epoch 11/50, Loss: 18561.5339\n",
      "Epoch 21/50, Loss: 18568.3202\n",
      "Epoch 31/50, Loss: 18556.2228\n",
      "Epoch 41/50, Loss: 18539.2107\n"
     ]
    },
    {
     "name": "stderr",
     "output_type": "stream",
     "text": [
      "  0%|          | 56/1000000 [13:03<3886:53:07, 13.99s/it] \n"
     ]
    },
    {
     "name": "stdout",
     "output_type": "stream",
     "text": [
      "Epoch 1/50, Loss: 29050.2875\n",
      "Epoch 11/50, Loss: 18549.3607\n",
      "Epoch 21/50, Loss: 18550.6399\n",
      "Epoch 31/50, Loss: 18532.4496\n",
      "Epoch 41/50, Loss: 18522.1773\n"
     ]
    },
    {
     "name": "stderr",
     "output_type": "stream",
     "text": [
      "  0%|          | 0/1000000 [00:07<?, ?it/s]\n"
     ]
    },
    {
     "ename": "MemoryError",
     "evalue": "Unable to allocate 191. MiB for an array with shape (5001, 5001) and data type float64",
     "output_type": "error",
     "traceback": [
      "\u001b[1;31m---------------------------------------------------------------------------\u001b[0m",
      "\u001b[1;31mMemoryError\u001b[0m                               Traceback (most recent call last)",
      "Cell \u001b[1;32mIn[15], line 18\u001b[0m\n\u001b[0;32m     17\u001b[0m bnn \u001b[38;5;241m=\u001b[39m bayesian_network_inference(anomaly\u001b[38;5;241m=\u001b[39manomaly,vae_model\u001b[38;5;241m=\u001b[39mvae,model_dataframe\u001b[38;5;241m=\u001b[39mmod_df,input_numpy_data\u001b[38;5;241m=\u001b[39mdata)\n\u001b[1;32m---> 18\u001b[0m bnn\u001b[38;5;241m.\u001b[39mcausal_inference()\n\u001b[0;32m     19\u001b[0m \u001b[38;5;28;01mif\u001b[39;00m root_cause \u001b[38;5;241m==\u001b[39m bnn\u001b[38;5;241m.\u001b[39mpotential_causes[\u001b[38;5;241m0\u001b[39m][\u001b[38;5;241m0\u001b[39m]:\n",
      "File \u001b[1;32m~\\Documents\\Doctorate\\praxis_research\\praxis_research\\esce\\bayesian_inference\\causal_inference.py:51\u001b[0m, in \u001b[0;36mbayesian_network_inference.causal_inference\u001b[1;34m(self, n_causes)\u001b[0m\n\u001b[0;32m     50\u001b[0m \u001b[38;5;28mself\u001b[39m\u001b[38;5;241m.\u001b[39m_prep_latent_data()\n\u001b[1;32m---> 51\u001b[0m \u001b[38;5;28mself\u001b[39m\u001b[38;5;241m.\u001b[39m_train_bayes()\n\u001b[0;32m     53\u001b[0m inference \u001b[38;5;241m=\u001b[39m CausalInference(\u001b[38;5;28mself\u001b[39m\u001b[38;5;241m.\u001b[39mbayesian_model)\n",
      "File \u001b[1;32m~\\Documents\\Doctorate\\praxis_research\\praxis_research\\esce\\bayesian_inference\\causal_inference.py:42\u001b[0m, in \u001b[0;36mbayesian_network_inference._train_bayes\u001b[1;34m(self)\u001b[0m\n\u001b[0;32m     41\u001b[0m \u001b[38;5;28mself\u001b[39m\u001b[38;5;241m.\u001b[39mbayesian_model \u001b[38;5;241m=\u001b[39m BayesianNetwork(best_model\u001b[38;5;241m.\u001b[39medges())\n\u001b[1;32m---> 42\u001b[0m \u001b[38;5;28mself\u001b[39m\u001b[38;5;241m.\u001b[39mbayesian_model\u001b[38;5;241m.\u001b[39mfit(\u001b[38;5;28mself\u001b[39m\u001b[38;5;241m.\u001b[39mlatent_df, estimator\u001b[38;5;241m=\u001b[39mMaximumLikelihoodEstimator)\n",
      "File \u001b[1;32m~\\anaconda3\\envs\\torch\\Lib\\site-packages\\pgmpy\\models\\BayesianNetwork.py:579\u001b[0m, in \u001b[0;36mBayesianNetwork.fit\u001b[1;34m(self, data, estimator, state_names, n_jobs, **kwargs)\u001b[0m\n\u001b[0;32m    574\u001b[0m _estimator \u001b[38;5;241m=\u001b[39m estimator(\n\u001b[0;32m    575\u001b[0m     \u001b[38;5;28mself\u001b[39m,\n\u001b[0;32m    576\u001b[0m     data,\n\u001b[0;32m    577\u001b[0m     state_names\u001b[38;5;241m=\u001b[39mstate_names,\n\u001b[0;32m    578\u001b[0m )\n\u001b[1;32m--> 579\u001b[0m cpds_list \u001b[38;5;241m=\u001b[39m _estimator\u001b[38;5;241m.\u001b[39mget_parameters(n_jobs\u001b[38;5;241m=\u001b[39mn_jobs, \u001b[38;5;241m*\u001b[39m\u001b[38;5;241m*\u001b[39mkwargs)\n\u001b[0;32m    580\u001b[0m \u001b[38;5;28mself\u001b[39m\u001b[38;5;241m.\u001b[39madd_cpds(\u001b[38;5;241m*\u001b[39mcpds_list)\n",
      "File \u001b[1;32m~\\anaconda3\\envs\\torch\\Lib\\site-packages\\pgmpy\\estimators\\MLE.py:106\u001b[0m, in \u001b[0;36mMaximumLikelihoodEstimator.get_parameters\u001b[1;34m(self, n_jobs, weighted)\u001b[0m\n\u001b[0;32m    104\u001b[0m     \u001b[38;5;28;01mreturn\u001b[39;00m \u001b[38;5;28mself\u001b[39m\u001b[38;5;241m.\u001b[39mestimate_potentials()\n\u001b[1;32m--> 106\u001b[0m parameters \u001b[38;5;241m=\u001b[39m Parallel(n_jobs\u001b[38;5;241m=\u001b[39mn_jobs)(\n\u001b[0;32m    107\u001b[0m     delayed(\u001b[38;5;28mself\u001b[39m\u001b[38;5;241m.\u001b[39mestimate_cpd)(node, weighted) \u001b[38;5;28;01mfor\u001b[39;00m node \u001b[38;5;129;01min\u001b[39;00m \u001b[38;5;28mself\u001b[39m\u001b[38;5;241m.\u001b[39mmodel\u001b[38;5;241m.\u001b[39mnodes()\n\u001b[0;32m    108\u001b[0m )\n\u001b[0;32m    109\u001b[0m \u001b[38;5;66;03m# TODO: A hacky solution to return correct value for the chosen backend. Ref #1675\u001b[39;00m\n",
      "File \u001b[1;32m~\\anaconda3\\envs\\torch\\Lib\\site-packages\\joblib\\parallel.py:1918\u001b[0m, in \u001b[0;36mParallel.__call__\u001b[1;34m(self, iterable)\u001b[0m\n\u001b[0;32m   1917\u001b[0m     \u001b[38;5;28mnext\u001b[39m(output)\n\u001b[1;32m-> 1918\u001b[0m     \u001b[38;5;28;01mreturn\u001b[39;00m output \u001b[38;5;28;01mif\u001b[39;00m \u001b[38;5;28mself\u001b[39m\u001b[38;5;241m.\u001b[39mreturn_generator \u001b[38;5;28;01melse\u001b[39;00m \u001b[38;5;28mlist\u001b[39m(output)\n\u001b[0;32m   1920\u001b[0m \u001b[38;5;66;03m# Let's create an ID that uniquely identifies the current call. If the\u001b[39;00m\n\u001b[0;32m   1921\u001b[0m \u001b[38;5;66;03m# call is interrupted early and that the same instance is immediately\u001b[39;00m\n\u001b[0;32m   1922\u001b[0m \u001b[38;5;66;03m# re-used, this id will be used to prevent workers that were\u001b[39;00m\n\u001b[0;32m   1923\u001b[0m \u001b[38;5;66;03m# concurrently finalizing a task from the previous call to run the\u001b[39;00m\n\u001b[0;32m   1924\u001b[0m \u001b[38;5;66;03m# callback.\u001b[39;00m\n",
      "File \u001b[1;32m~\\anaconda3\\envs\\torch\\Lib\\site-packages\\joblib\\parallel.py:1847\u001b[0m, in \u001b[0;36mParallel._get_sequential_output\u001b[1;34m(self, iterable)\u001b[0m\n\u001b[0;32m   1846\u001b[0m \u001b[38;5;28mself\u001b[39m\u001b[38;5;241m.\u001b[39mn_dispatched_tasks \u001b[38;5;241m+\u001b[39m\u001b[38;5;241m=\u001b[39m \u001b[38;5;241m1\u001b[39m\n\u001b[1;32m-> 1847\u001b[0m res \u001b[38;5;241m=\u001b[39m func(\u001b[38;5;241m*\u001b[39margs, \u001b[38;5;241m*\u001b[39m\u001b[38;5;241m*\u001b[39mkwargs)\n\u001b[0;32m   1848\u001b[0m \u001b[38;5;28mself\u001b[39m\u001b[38;5;241m.\u001b[39mn_completed_tasks \u001b[38;5;241m+\u001b[39m\u001b[38;5;241m=\u001b[39m \u001b[38;5;241m1\u001b[39m\n",
      "File \u001b[1;32m~\\anaconda3\\envs\\torch\\Lib\\site-packages\\pgmpy\\estimators\\MLE.py:160\u001b[0m, in \u001b[0;36mMaximumLikelihoodEstimator.estimate_cpd\u001b[1;34m(self, node, weighted)\u001b[0m\n\u001b[0;32m    115\u001b[0m \u001b[38;5;250m\u001b[39m\u001b[38;5;124;03m\"\"\"\u001b[39;00m\n\u001b[0;32m    116\u001b[0m \u001b[38;5;124;03mMethod to estimate the CPD for a given variable.\u001b[39;00m\n\u001b[0;32m    117\u001b[0m \n\u001b[1;32m   (...)\u001b[0m\n\u001b[0;32m    157\u001b[0m \u001b[38;5;124;03m╘══════╧══════╧══════╧══════╧══════╛\u001b[39;00m\n\u001b[0;32m    158\u001b[0m \u001b[38;5;124;03m\"\"\"\u001b[39;00m\n\u001b[1;32m--> 160\u001b[0m state_counts \u001b[38;5;241m=\u001b[39m \u001b[38;5;28mself\u001b[39m\u001b[38;5;241m.\u001b[39mstate_counts(node, weighted\u001b[38;5;241m=\u001b[39mweighted)\n\u001b[0;32m    162\u001b[0m \u001b[38;5;66;03m# if a column contains only `0`s (no states observed for some configuration\u001b[39;00m\n\u001b[0;32m    163\u001b[0m \u001b[38;5;66;03m# of parents' states) fill that column uniformly instead\u001b[39;00m\n",
      "File \u001b[1;32m~\\anaconda3\\envs\\torch\\Lib\\site-packages\\pgmpy\\estimators\\base.py:264\u001b[0m, in \u001b[0;36mParameterEstimator.state_counts\u001b[1;34m(self, variable, weighted, **kwargs)\u001b[0m\n\u001b[0;32m    263\u001b[0m parents \u001b[38;5;241m=\u001b[39m \u001b[38;5;28msorted\u001b[39m(\u001b[38;5;28mself\u001b[39m\u001b[38;5;241m.\u001b[39mmodel\u001b[38;5;241m.\u001b[39mget_parents(variable))\n\u001b[1;32m--> 264\u001b[0m \u001b[38;5;28;01mreturn\u001b[39;00m \u001b[38;5;28msuper\u001b[39m(ParameterEstimator, \u001b[38;5;28mself\u001b[39m)\u001b[38;5;241m.\u001b[39mstate_counts(\n\u001b[0;32m    265\u001b[0m     variable, parents\u001b[38;5;241m=\u001b[39mparents, weighted\u001b[38;5;241m=\u001b[39mweighted, \u001b[38;5;241m*\u001b[39m\u001b[38;5;241m*\u001b[39mkwargs\n\u001b[0;32m    266\u001b[0m )\n",
      "File \u001b[1;32m~\\anaconda3\\envs\\torch\\Lib\\site-packages\\pgmpy\\estimators\\base.py:166\u001b[0m, in \u001b[0;36mBaseEstimator.state_counts\u001b[1;34m(self, variable, parents, weighted, reindex)\u001b[0m\n\u001b[0;32m    165\u001b[0m row_index \u001b[38;5;241m=\u001b[39m \u001b[38;5;28mself\u001b[39m\u001b[38;5;241m.\u001b[39mstate_names[variable]\n\u001b[1;32m--> 166\u001b[0m column_index \u001b[38;5;241m=\u001b[39m pd\u001b[38;5;241m.\u001b[39mMultiIndex\u001b[38;5;241m.\u001b[39mfrom_product(parents_states, names\u001b[38;5;241m=\u001b[39mparents)\n\u001b[0;32m    167\u001b[0m state_counts \u001b[38;5;241m=\u001b[39m state_count_data\u001b[38;5;241m.\u001b[39mreindex(\n\u001b[0;32m    168\u001b[0m     index\u001b[38;5;241m=\u001b[39mrow_index, columns\u001b[38;5;241m=\u001b[39mcolumn_index\n\u001b[0;32m    169\u001b[0m )\u001b[38;5;241m.\u001b[39mfillna(\u001b[38;5;241m0\u001b[39m)\n",
      "File \u001b[1;32m~\\anaconda3\\envs\\torch\\Lib\\site-packages\\pandas\\core\\indexes\\multi.py:684\u001b[0m, in \u001b[0;36mMultiIndex.from_product\u001b[1;34m(cls, iterables, sortorder, names)\u001b[0m\n\u001b[0;32m    683\u001b[0m \u001b[38;5;66;03m# codes are all ndarrays, so cartesian_product is lossless\u001b[39;00m\n\u001b[1;32m--> 684\u001b[0m codes \u001b[38;5;241m=\u001b[39m cartesian_product(codes)\n\u001b[0;32m    685\u001b[0m \u001b[38;5;28;01mreturn\u001b[39;00m \u001b[38;5;28mcls\u001b[39m(levels, codes, sortorder\u001b[38;5;241m=\u001b[39msortorder, names\u001b[38;5;241m=\u001b[39mnames)\n",
      "File \u001b[1;32m~\\anaconda3\\envs\\torch\\Lib\\site-packages\\pandas\\core\\reshape\\util.py:64\u001b[0m, in \u001b[0;36mcartesian_product\u001b[1;34m(X)\u001b[0m\n\u001b[0;32m     61\u001b[0m \u001b[38;5;66;03m# error: Argument of type \"int_\" cannot be assigned to parameter \"num\" of\u001b[39;00m\n\u001b[0;32m     62\u001b[0m \u001b[38;5;66;03m# type \"int\" in function \"tile_compat\"\u001b[39;00m\n\u001b[0;32m     63\u001b[0m \u001b[38;5;28;01mreturn\u001b[39;00m [\n\u001b[1;32m---> 64\u001b[0m     tile_compat(\n\u001b[0;32m     65\u001b[0m         np\u001b[38;5;241m.\u001b[39mrepeat(x, b[i]),\n\u001b[0;32m     66\u001b[0m         np\u001b[38;5;241m.\u001b[39mprod(a[i]),\n\u001b[0;32m     67\u001b[0m     )\n\u001b[0;32m     68\u001b[0m     \u001b[38;5;28;01mfor\u001b[39;00m i, x \u001b[38;5;129;01min\u001b[39;00m \u001b[38;5;28menumerate\u001b[39m(X)\n\u001b[0;32m     69\u001b[0m ]\n",
      "File \u001b[1;32m~\\anaconda3\\envs\\torch\\Lib\\site-packages\\pandas\\core\\reshape\\util.py:81\u001b[0m, in \u001b[0;36mtile_compat\u001b[1;34m(arr, num)\u001b[0m\n\u001b[0;32m     80\u001b[0m \u001b[38;5;28;01mif\u001b[39;00m \u001b[38;5;28misinstance\u001b[39m(arr, np\u001b[38;5;241m.\u001b[39mndarray):\n\u001b[1;32m---> 81\u001b[0m     \u001b[38;5;28;01mreturn\u001b[39;00m np\u001b[38;5;241m.\u001b[39mtile(arr, num)\n\u001b[0;32m     83\u001b[0m \u001b[38;5;66;03m# Otherwise we have an Index\u001b[39;00m\n",
      "File \u001b[1;32m~\\anaconda3\\envs\\torch\\Lib\\site-packages\\numpy\\lib\\shape_base.py:1260\u001b[0m, in \u001b[0;36mtile\u001b[1;34m(A, reps)\u001b[0m\n\u001b[0;32m   1257\u001b[0m \u001b[38;5;28;01mif\u001b[39;00m \u001b[38;5;28mall\u001b[39m(x \u001b[38;5;241m==\u001b[39m \u001b[38;5;241m1\u001b[39m \u001b[38;5;28;01mfor\u001b[39;00m x \u001b[38;5;129;01min\u001b[39;00m tup) \u001b[38;5;129;01mand\u001b[39;00m \u001b[38;5;28misinstance\u001b[39m(A, _nx\u001b[38;5;241m.\u001b[39mndarray):\n\u001b[0;32m   1258\u001b[0m     \u001b[38;5;66;03m# Fixes the problem that the function does not make a copy if A is a\u001b[39;00m\n\u001b[0;32m   1259\u001b[0m     \u001b[38;5;66;03m# numpy array and the repetitions are 1 in all dimensions\u001b[39;00m\n\u001b[1;32m-> 1260\u001b[0m     \u001b[38;5;28;01mreturn\u001b[39;00m _nx\u001b[38;5;241m.\u001b[39marray(A, copy\u001b[38;5;241m=\u001b[39m\u001b[38;5;28;01mTrue\u001b[39;00m, subok\u001b[38;5;241m=\u001b[39m\u001b[38;5;28;01mTrue\u001b[39;00m, ndmin\u001b[38;5;241m=\u001b[39md)\n\u001b[0;32m   1261\u001b[0m \u001b[38;5;28;01melse\u001b[39;00m:\n\u001b[0;32m   1262\u001b[0m     \u001b[38;5;66;03m# Note that no copy of zero-sized arrays is made. However since they\u001b[39;00m\n\u001b[0;32m   1263\u001b[0m     \u001b[38;5;66;03m# have no data there is no risk of an inadvertent overwrite.\u001b[39;00m\n",
      "\u001b[1;31mMemoryError\u001b[0m: Unable to allocate 233. GiB for an array with shape (124949964996,) and data type int16",
      "\nDuring handling of the above exception, another exception occurred:\n",
      "\u001b[1;31mMemoryError\u001b[0m                               Traceback (most recent call last)",
      "Cell \u001b[1;32mIn[15], line 45\u001b[0m\n\u001b[0;32m     43\u001b[0m train_vae(vae,data,epochs\u001b[38;5;241m=\u001b[39m\u001b[38;5;241m50\u001b[39m)\n\u001b[0;32m     44\u001b[0m bnn \u001b[38;5;241m=\u001b[39m bayesian_network_inference(anomaly\u001b[38;5;241m=\u001b[39manomaly,vae_model\u001b[38;5;241m=\u001b[39mvae,model_dataframe\u001b[38;5;241m=\u001b[39mmod_df,input_numpy_data\u001b[38;5;241m=\u001b[39mdata,scoring_method \u001b[38;5;241m=\u001b[39m \u001b[38;5;124m'\u001b[39m\u001b[38;5;124mbicscore\u001b[39m\u001b[38;5;124m'\u001b[39m)\n\u001b[1;32m---> 45\u001b[0m bnn\u001b[38;5;241m.\u001b[39mcausal_inference()\n\u001b[0;32m     46\u001b[0m \u001b[38;5;28;01mtry\u001b[39;00m:\n\u001b[0;32m     47\u001b[0m     \u001b[38;5;28;01mif\u001b[39;00m root_cause \u001b[38;5;241m==\u001b[39m bnn\u001b[38;5;241m.\u001b[39mpotential_causes[\u001b[38;5;241m0\u001b[39m][\u001b[38;5;241m0\u001b[39m]:\n",
      "File \u001b[1;32m~\\Documents\\Doctorate\\praxis_research\\praxis_research\\esce\\bayesian_inference\\causal_inference.py:51\u001b[0m, in \u001b[0;36mbayesian_network_inference.causal_inference\u001b[1;34m(self, n_causes)\u001b[0m\n\u001b[0;32m     49\u001b[0m \u001b[38;5;28;01mdef\u001b[39;00m \u001b[38;5;21mcausal_inference\u001b[39m(\u001b[38;5;28mself\u001b[39m,n_causes\u001b[38;5;241m=\u001b[39m\u001b[38;5;241m3\u001b[39m):\n\u001b[0;32m     50\u001b[0m     \u001b[38;5;28mself\u001b[39m\u001b[38;5;241m.\u001b[39m_prep_latent_data()\n\u001b[1;32m---> 51\u001b[0m     \u001b[38;5;28mself\u001b[39m\u001b[38;5;241m.\u001b[39m_train_bayes()\n\u001b[0;32m     53\u001b[0m     inference \u001b[38;5;241m=\u001b[39m CausalInference(\u001b[38;5;28mself\u001b[39m\u001b[38;5;241m.\u001b[39mbayesian_model)\n\u001b[0;32m     54\u001b[0m     scores \u001b[38;5;241m=\u001b[39m []\n",
      "File \u001b[1;32m~\\Documents\\Doctorate\\praxis_research\\praxis_research\\esce\\bayesian_inference\\causal_inference.py:40\u001b[0m, in \u001b[0;36mbayesian_network_inference._train_bayes\u001b[1;34m(self)\u001b[0m\n\u001b[0;32m     37\u001b[0m \u001b[38;5;28;01mdef\u001b[39;00m \u001b[38;5;21m_train_bayes\u001b[39m(\u001b[38;5;28mself\u001b[39m):\n\u001b[0;32m     38\u001b[0m     \u001b[38;5;66;03m# Train Bayesian Network\u001b[39;00m\n\u001b[0;32m     39\u001b[0m     hc \u001b[38;5;241m=\u001b[39m HillClimbSearch(\u001b[38;5;28mself\u001b[39m\u001b[38;5;241m.\u001b[39mlatent_df)\n\u001b[1;32m---> 40\u001b[0m     best_model \u001b[38;5;241m=\u001b[39m hc\u001b[38;5;241m.\u001b[39mestimate(scoring_method\u001b[38;5;241m=\u001b[39m\u001b[38;5;28mself\u001b[39m\u001b[38;5;241m.\u001b[39mscoring_method)\n\u001b[0;32m     41\u001b[0m     \u001b[38;5;28mself\u001b[39m\u001b[38;5;241m.\u001b[39mbayesian_model \u001b[38;5;241m=\u001b[39m BayesianNetwork(best_model\u001b[38;5;241m.\u001b[39medges())\n\u001b[0;32m     42\u001b[0m     \u001b[38;5;28mself\u001b[39m\u001b[38;5;241m.\u001b[39mbayesian_model\u001b[38;5;241m.\u001b[39mfit(\u001b[38;5;28mself\u001b[39m\u001b[38;5;241m.\u001b[39mlatent_df, estimator\u001b[38;5;241m=\u001b[39mMaximumLikelihoodEstimator)\n",
      "File \u001b[1;32m~\\anaconda3\\envs\\torch\\Lib\\site-packages\\pgmpy\\estimators\\HillClimbSearch.py:300\u001b[0m, in \u001b[0;36mHillClimbSearch.estimate\u001b[1;34m(self, scoring_method, start_dag, fixed_edges, tabu_length, max_indegree, black_list, white_list, epsilon, max_iter, show_progress)\u001b[0m\n\u001b[0;32m    296\u001b[0m \u001b[38;5;66;03m# Step 2: For each iteration, find the best scoring operation and\u001b[39;00m\n\u001b[0;32m    297\u001b[0m \u001b[38;5;66;03m#         do that to the current model. If no legal operation is\u001b[39;00m\n\u001b[0;32m    298\u001b[0m \u001b[38;5;66;03m#         possible, sets best_operation=None.\u001b[39;00m\n\u001b[0;32m    299\u001b[0m \u001b[38;5;28;01mfor\u001b[39;00m _ \u001b[38;5;129;01min\u001b[39;00m iteration:\n\u001b[1;32m--> 300\u001b[0m     best_operation, best_score_delta \u001b[38;5;241m=\u001b[39m \u001b[38;5;28mmax\u001b[39m(\n\u001b[0;32m    301\u001b[0m         \u001b[38;5;28mself\u001b[39m\u001b[38;5;241m.\u001b[39m_legal_operations(\n\u001b[0;32m    302\u001b[0m             current_model,\n\u001b[0;32m    303\u001b[0m             score_fn,\n\u001b[0;32m    304\u001b[0m             score\u001b[38;5;241m.\u001b[39mstructure_prior_ratio,\n\u001b[0;32m    305\u001b[0m             tabu_list,\n\u001b[0;32m    306\u001b[0m             max_indegree,\n\u001b[0;32m    307\u001b[0m             black_list,\n\u001b[0;32m    308\u001b[0m             white_list,\n\u001b[0;32m    309\u001b[0m             fixed_edges,\n\u001b[0;32m    310\u001b[0m         ),\n\u001b[0;32m    311\u001b[0m         key\u001b[38;5;241m=\u001b[39m\u001b[38;5;28;01mlambda\u001b[39;00m t: t[\u001b[38;5;241m1\u001b[39m],\n\u001b[0;32m    312\u001b[0m         default\u001b[38;5;241m=\u001b[39m(\u001b[38;5;28;01mNone\u001b[39;00m, \u001b[38;5;28;01mNone\u001b[39;00m),\n\u001b[0;32m    313\u001b[0m     )\n\u001b[0;32m    315\u001b[0m     \u001b[38;5;28;01mif\u001b[39;00m best_operation \u001b[38;5;129;01mis\u001b[39;00m \u001b[38;5;28;01mNone\u001b[39;00m \u001b[38;5;129;01mor\u001b[39;00m best_score_delta \u001b[38;5;241m<\u001b[39m epsilon:\n\u001b[0;32m    316\u001b[0m         \u001b[38;5;28;01mbreak\u001b[39;00m\n",
      "File \u001b[1;32m~\\anaconda3\\envs\\torch\\Lib\\site-packages\\pgmpy\\estimators\\HillClimbSearch.py:97\u001b[0m, in \u001b[0;36mHillClimbSearch._legal_operations\u001b[1;34m(self, model, score, structure_score, tabu_list, max_indegree, black_list, white_list, fixed_edges)\u001b[0m\n\u001b[0;32m     95\u001b[0m new_parents \u001b[38;5;241m=\u001b[39m old_parents \u001b[38;5;241m+\u001b[39m [X]\n\u001b[0;32m     96\u001b[0m \u001b[38;5;28;01mif\u001b[39;00m \u001b[38;5;28mlen\u001b[39m(new_parents) \u001b[38;5;241m<\u001b[39m\u001b[38;5;241m=\u001b[39m max_indegree:\n\u001b[1;32m---> 97\u001b[0m     score_delta \u001b[38;5;241m=\u001b[39m score(Y, new_parents) \u001b[38;5;241m-\u001b[39m score(Y, old_parents)\n\u001b[0;32m     98\u001b[0m     score_delta \u001b[38;5;241m+\u001b[39m\u001b[38;5;241m=\u001b[39m structure_score(\u001b[38;5;124m\"\u001b[39m\u001b[38;5;124m+\u001b[39m\u001b[38;5;124m\"\u001b[39m)\n\u001b[0;32m     99\u001b[0m     \u001b[38;5;28;01myield\u001b[39;00m (operation, score_delta)\n",
      "File \u001b[1;32m~\\anaconda3\\envs\\torch\\Lib\\site-packages\\pgmpy\\estimators\\ScoreCache.py:44\u001b[0m, in \u001b[0;36mScoreCache.local_score\u001b[1;34m(self, variable, parents)\u001b[0m\n\u001b[0;32m     42\u001b[0m \u001b[38;5;28;01mdef\u001b[39;00m \u001b[38;5;21mlocal_score\u001b[39m(\u001b[38;5;28mself\u001b[39m, variable, parents):\n\u001b[0;32m     43\u001b[0m     hashable \u001b[38;5;241m=\u001b[39m \u001b[38;5;28mtuple\u001b[39m(parents)\n\u001b[1;32m---> 44\u001b[0m     \u001b[38;5;28;01mreturn\u001b[39;00m \u001b[38;5;28mself\u001b[39m\u001b[38;5;241m.\u001b[39mcache(variable, hashable)\n",
      "File \u001b[1;32m~\\anaconda3\\envs\\torch\\Lib\\site-packages\\pgmpy\\estimators\\ScoreCache.py:90\u001b[0m, in \u001b[0;36mLRUCache.__call__\u001b[1;34m(self, *key)\u001b[0m\n\u001b[0;32m     87\u001b[0m link \u001b[38;5;241m=\u001b[39m mapping\u001b[38;5;241m.\u001b[39mget(key, head)\n\u001b[0;32m     88\u001b[0m \u001b[38;5;28;01mif\u001b[39;00m link \u001b[38;5;129;01mis\u001b[39;00m head:\n\u001b[0;32m     89\u001b[0m     \u001b[38;5;66;03m# Not yet in map\u001b[39;00m\n\u001b[1;32m---> 90\u001b[0m     value \u001b[38;5;241m=\u001b[39m \u001b[38;5;28mself\u001b[39m\u001b[38;5;241m.\u001b[39moriginal_function(\u001b[38;5;241m*\u001b[39mkey)\n\u001b[0;32m     91\u001b[0m     \u001b[38;5;28;01mif\u001b[39;00m \u001b[38;5;28mlen\u001b[39m(mapping) \u001b[38;5;241m>\u001b[39m\u001b[38;5;241m=\u001b[39m \u001b[38;5;28mself\u001b[39m\u001b[38;5;241m.\u001b[39mmax_size:\n\u001b[0;32m     92\u001b[0m         \u001b[38;5;66;03m# Unlink the least recently used element\u001b[39;00m\n\u001b[0;32m     93\u001b[0m         old_prev, old_next, old_key, old_value \u001b[38;5;241m=\u001b[39m head[_NEXT]\n",
      "File \u001b[1;32m~\\anaconda3\\envs\\torch\\Lib\\site-packages\\pgmpy\\estimators\\ScoreCache.py:48\u001b[0m, in \u001b[0;36mScoreCache._wrapped_original\u001b[1;34m(self, variable, parents)\u001b[0m\n\u001b[0;32m     46\u001b[0m \u001b[38;5;28;01mdef\u001b[39;00m \u001b[38;5;21m_wrapped_original\u001b[39m(\u001b[38;5;28mself\u001b[39m, variable, parents):\n\u001b[0;32m     47\u001b[0m     expected \u001b[38;5;241m=\u001b[39m \u001b[38;5;28mlist\u001b[39m(parents)\n\u001b[1;32m---> 48\u001b[0m     \u001b[38;5;28;01mreturn\u001b[39;00m \u001b[38;5;28mself\u001b[39m\u001b[38;5;241m.\u001b[39mbase_scorer\u001b[38;5;241m.\u001b[39mlocal_score(variable, expected)\n",
      "File \u001b[1;32m~\\anaconda3\\envs\\torch\\Lib\\site-packages\\pgmpy\\estimators\\StructureScore.py:364\u001b[0m, in \u001b[0;36mBicScore.local_score\u001b[1;34m(self, variable, parents)\u001b[0m\n\u001b[0;32m    362\u001b[0m var_cardinality \u001b[38;5;241m=\u001b[39m \u001b[38;5;28mlen\u001b[39m(var_states)\n\u001b[0;32m    363\u001b[0m parents \u001b[38;5;241m=\u001b[39m \u001b[38;5;28mlist\u001b[39m(parents)\n\u001b[1;32m--> 364\u001b[0m state_counts \u001b[38;5;241m=\u001b[39m \u001b[38;5;28mself\u001b[39m\u001b[38;5;241m.\u001b[39mstate_counts(variable, parents, reindex\u001b[38;5;241m=\u001b[39m\u001b[38;5;28;01mFalse\u001b[39;00m)\n\u001b[0;32m    365\u001b[0m sample_size \u001b[38;5;241m=\u001b[39m \u001b[38;5;28mlen\u001b[39m(\u001b[38;5;28mself\u001b[39m\u001b[38;5;241m.\u001b[39mdata)\n\u001b[0;32m    366\u001b[0m num_parents_states \u001b[38;5;241m=\u001b[39m np\u001b[38;5;241m.\u001b[39mprod([\u001b[38;5;28mlen\u001b[39m(\u001b[38;5;28mself\u001b[39m\u001b[38;5;241m.\u001b[39mstate_names[var]) \u001b[38;5;28;01mfor\u001b[39;00m var \u001b[38;5;129;01min\u001b[39;00m parents])\n",
      "File \u001b[1;32m~\\anaconda3\\envs\\torch\\Lib\\site-packages\\pgmpy\\estimators\\base.py:171\u001b[0m, in \u001b[0;36mBaseEstimator.state_counts\u001b[1;34m(self, variable, parents, weighted, reindex)\u001b[0m\n\u001b[0;32m    167\u001b[0m         state_counts \u001b[38;5;241m=\u001b[39m state_count_data\u001b[38;5;241m.\u001b[39mreindex(\n\u001b[0;32m    168\u001b[0m             index\u001b[38;5;241m=\u001b[39mrow_index, columns\u001b[38;5;241m=\u001b[39mcolumn_index\n\u001b[0;32m    169\u001b[0m         )\u001b[38;5;241m.\u001b[39mfillna(\u001b[38;5;241m0\u001b[39m)\n\u001b[0;32m    170\u001b[0m     \u001b[38;5;28;01melse\u001b[39;00m:\n\u001b[1;32m--> 171\u001b[0m         state_counts \u001b[38;5;241m=\u001b[39m state_count_data\u001b[38;5;241m.\u001b[39mfillna(\u001b[38;5;241m0\u001b[39m)\n\u001b[0;32m    173\u001b[0m \u001b[38;5;28;01mreturn\u001b[39;00m state_counts\n",
      "File \u001b[1;32m~\\anaconda3\\envs\\torch\\Lib\\site-packages\\pandas\\core\\generic.py:7434\u001b[0m, in \u001b[0;36mNDFrame.fillna\u001b[1;34m(self, value, method, axis, inplace, limit, downcast)\u001b[0m\n\u001b[0;32m   7432\u001b[0m         new_data \u001b[38;5;241m=\u001b[39m result\u001b[38;5;241m.\u001b[39m_mgr\n\u001b[0;32m   7433\u001b[0m     \u001b[38;5;28;01melse\u001b[39;00m:\n\u001b[1;32m-> 7434\u001b[0m         new_data \u001b[38;5;241m=\u001b[39m \u001b[38;5;28mself\u001b[39m\u001b[38;5;241m.\u001b[39m_mgr\u001b[38;5;241m.\u001b[39mfillna(\n\u001b[0;32m   7435\u001b[0m             value\u001b[38;5;241m=\u001b[39mvalue, limit\u001b[38;5;241m=\u001b[39mlimit, inplace\u001b[38;5;241m=\u001b[39minplace, downcast\u001b[38;5;241m=\u001b[39mdowncast\n\u001b[0;32m   7436\u001b[0m         )\n\u001b[0;32m   7437\u001b[0m \u001b[38;5;28;01melif\u001b[39;00m \u001b[38;5;28misinstance\u001b[39m(value, ABCDataFrame) \u001b[38;5;129;01mand\u001b[39;00m \u001b[38;5;28mself\u001b[39m\u001b[38;5;241m.\u001b[39mndim \u001b[38;5;241m==\u001b[39m \u001b[38;5;241m2\u001b[39m:\n\u001b[0;32m   7438\u001b[0m     new_data \u001b[38;5;241m=\u001b[39m \u001b[38;5;28mself\u001b[39m\u001b[38;5;241m.\u001b[39mwhere(\u001b[38;5;28mself\u001b[39m\u001b[38;5;241m.\u001b[39mnotna(), value)\u001b[38;5;241m.\u001b[39m_mgr\n",
      "File \u001b[1;32m~\\anaconda3\\envs\\torch\\Lib\\site-packages\\pandas\\core\\internals\\base.py:186\u001b[0m, in \u001b[0;36mDataManager.fillna\u001b[1;34m(self, value, limit, inplace, downcast)\u001b[0m\n\u001b[0;32m    182\u001b[0m \u001b[38;5;28;01mif\u001b[39;00m limit \u001b[38;5;129;01mis\u001b[39;00m \u001b[38;5;129;01mnot\u001b[39;00m \u001b[38;5;28;01mNone\u001b[39;00m:\n\u001b[0;32m    183\u001b[0m     \u001b[38;5;66;03m# Do this validation even if we go through one of the no-op paths\u001b[39;00m\n\u001b[0;32m    184\u001b[0m     limit \u001b[38;5;241m=\u001b[39m libalgos\u001b[38;5;241m.\u001b[39mvalidate_limit(\u001b[38;5;28;01mNone\u001b[39;00m, limit\u001b[38;5;241m=\u001b[39mlimit)\n\u001b[1;32m--> 186\u001b[0m \u001b[38;5;28;01mreturn\u001b[39;00m \u001b[38;5;28mself\u001b[39m\u001b[38;5;241m.\u001b[39mapply_with_block(\n\u001b[0;32m    187\u001b[0m     \u001b[38;5;124m\"\u001b[39m\u001b[38;5;124mfillna\u001b[39m\u001b[38;5;124m\"\u001b[39m,\n\u001b[0;32m    188\u001b[0m     value\u001b[38;5;241m=\u001b[39mvalue,\n\u001b[0;32m    189\u001b[0m     limit\u001b[38;5;241m=\u001b[39mlimit,\n\u001b[0;32m    190\u001b[0m     inplace\u001b[38;5;241m=\u001b[39minplace,\n\u001b[0;32m    191\u001b[0m     downcast\u001b[38;5;241m=\u001b[39mdowncast,\n\u001b[0;32m    192\u001b[0m     using_cow\u001b[38;5;241m=\u001b[39musing_copy_on_write(),\n\u001b[0;32m    193\u001b[0m     already_warned\u001b[38;5;241m=\u001b[39m_AlreadyWarned(),\n\u001b[0;32m    194\u001b[0m )\n",
      "File \u001b[1;32m~\\anaconda3\\envs\\torch\\Lib\\site-packages\\pandas\\core\\internals\\managers.py:363\u001b[0m, in \u001b[0;36mBaseBlockManager.apply\u001b[1;34m(self, f, align_keys, **kwargs)\u001b[0m\n\u001b[0;32m    361\u001b[0m         applied \u001b[38;5;241m=\u001b[39m b\u001b[38;5;241m.\u001b[39mapply(f, \u001b[38;5;241m*\u001b[39m\u001b[38;5;241m*\u001b[39mkwargs)\n\u001b[0;32m    362\u001b[0m     \u001b[38;5;28;01melse\u001b[39;00m:\n\u001b[1;32m--> 363\u001b[0m         applied \u001b[38;5;241m=\u001b[39m \u001b[38;5;28mgetattr\u001b[39m(b, f)(\u001b[38;5;241m*\u001b[39m\u001b[38;5;241m*\u001b[39mkwargs)\n\u001b[0;32m    364\u001b[0m     result_blocks \u001b[38;5;241m=\u001b[39m extend_blocks(applied, result_blocks)\n\u001b[0;32m    366\u001b[0m out \u001b[38;5;241m=\u001b[39m \u001b[38;5;28mtype\u001b[39m(\u001b[38;5;28mself\u001b[39m)\u001b[38;5;241m.\u001b[39mfrom_blocks(result_blocks, \u001b[38;5;28mself\u001b[39m\u001b[38;5;241m.\u001b[39maxes)\n",
      "File \u001b[1;32m~\\anaconda3\\envs\\torch\\Lib\\site-packages\\pandas\\core\\internals\\blocks.py:1692\u001b[0m, in \u001b[0;36mBlock.fillna\u001b[1;34m(self, value, limit, inplace, downcast, using_cow, already_warned)\u001b[0m\n\u001b[0;32m   1686\u001b[0m     nbs \u001b[38;5;241m=\u001b[39m \u001b[38;5;28mself\u001b[39m\u001b[38;5;241m.\u001b[39mputmask(\n\u001b[0;32m   1687\u001b[0m         mask\u001b[38;5;241m.\u001b[39mT, value, using_cow\u001b[38;5;241m=\u001b[39musing_cow, already_warned\u001b[38;5;241m=\u001b[39malready_warned\n\u001b[0;32m   1688\u001b[0m     )\n\u001b[0;32m   1689\u001b[0m \u001b[38;5;28;01melse\u001b[39;00m:\n\u001b[0;32m   1690\u001b[0m     \u001b[38;5;66;03m# without _downcast, we would break\u001b[39;00m\n\u001b[0;32m   1691\u001b[0m     \u001b[38;5;66;03m#  test_fillna_dtype_conversion_equiv_replace\u001b[39;00m\n\u001b[1;32m-> 1692\u001b[0m     nbs \u001b[38;5;241m=\u001b[39m \u001b[38;5;28mself\u001b[39m\u001b[38;5;241m.\u001b[39mwhere(value, \u001b[38;5;241m~\u001b[39mmask\u001b[38;5;241m.\u001b[39mT, _downcast\u001b[38;5;241m=\u001b[39m\u001b[38;5;28;01mFalse\u001b[39;00m)\n\u001b[0;32m   1694\u001b[0m \u001b[38;5;66;03m# Note: blk._maybe_downcast vs self._maybe_downcast(nbs)\u001b[39;00m\n\u001b[0;32m   1695\u001b[0m \u001b[38;5;66;03m#  makes a difference bc blk may have object dtype, which has\u001b[39;00m\n\u001b[0;32m   1696\u001b[0m \u001b[38;5;66;03m#  different behavior in _maybe_downcast.\u001b[39;00m\n\u001b[0;32m   1697\u001b[0m \u001b[38;5;28;01mreturn\u001b[39;00m extend_blocks(\n\u001b[0;32m   1698\u001b[0m     [\n\u001b[0;32m   1699\u001b[0m         blk\u001b[38;5;241m.\u001b[39m_maybe_downcast(\n\u001b[1;32m   (...)\u001b[0m\n\u001b[0;32m   1703\u001b[0m     ]\n\u001b[0;32m   1704\u001b[0m )\n",
      "File \u001b[1;32m~\\anaconda3\\envs\\torch\\Lib\\site-packages\\pandas\\core\\internals\\blocks.py:1634\u001b[0m, in \u001b[0;36mBlock.where\u001b[1;34m(self, other, cond, _downcast, using_cow)\u001b[0m\n\u001b[0;32m   1629\u001b[0m             other \u001b[38;5;241m=\u001b[39m np\u001b[38;5;241m.\u001b[39marray(other)\u001b[38;5;241m.\u001b[39mreshape(values\u001b[38;5;241m.\u001b[39mshape)\n\u001b[0;32m   1630\u001b[0m             \u001b[38;5;66;03m# If lengths don't match (or len(other)==1), we will raise\u001b[39;00m\n\u001b[0;32m   1631\u001b[0m             \u001b[38;5;66;03m#  inside expressions.where, see test_series_where\u001b[39;00m\n\u001b[0;32m   1632\u001b[0m \n\u001b[0;32m   1633\u001b[0m         \u001b[38;5;66;03m# Note: expressions.where may upcast.\u001b[39;00m\n\u001b[1;32m-> 1634\u001b[0m         result \u001b[38;5;241m=\u001b[39m expressions\u001b[38;5;241m.\u001b[39mwhere(\u001b[38;5;241m~\u001b[39micond, values, other)\n\u001b[0;32m   1635\u001b[0m         \u001b[38;5;66;03m# The np_can_hold_element check _should_ ensure that we always\u001b[39;00m\n\u001b[0;32m   1636\u001b[0m         \u001b[38;5;66;03m#  have result.dtype == self.dtype here.\u001b[39;00m\n\u001b[0;32m   1638\u001b[0m \u001b[38;5;28;01mif\u001b[39;00m transpose:\n",
      "File \u001b[1;32m~\\anaconda3\\envs\\torch\\Lib\\site-packages\\pandas\\core\\computation\\expressions.py:259\u001b[0m, in \u001b[0;36mwhere\u001b[1;34m(cond, a, b, use_numexpr)\u001b[0m\n\u001b[0;32m    247\u001b[0m \u001b[38;5;250m\u001b[39m\u001b[38;5;124;03m\"\"\"\u001b[39;00m\n\u001b[0;32m    248\u001b[0m \u001b[38;5;124;03mEvaluate the where condition cond on a and b.\u001b[39;00m\n\u001b[0;32m    249\u001b[0m \n\u001b[1;32m   (...)\u001b[0m\n\u001b[0;32m    256\u001b[0m \u001b[38;5;124;03m    Whether to try to use numexpr.\u001b[39;00m\n\u001b[0;32m    257\u001b[0m \u001b[38;5;124;03m\"\"\"\u001b[39;00m\n\u001b[0;32m    258\u001b[0m \u001b[38;5;28;01massert\u001b[39;00m _where \u001b[38;5;129;01mis\u001b[39;00m \u001b[38;5;129;01mnot\u001b[39;00m \u001b[38;5;28;01mNone\u001b[39;00m\n\u001b[1;32m--> 259\u001b[0m \u001b[38;5;28;01mreturn\u001b[39;00m _where(cond, a, b) \u001b[38;5;28;01mif\u001b[39;00m use_numexpr \u001b[38;5;28;01melse\u001b[39;00m _where_standard(cond, a, b)\n",
      "File \u001b[1;32m~\\anaconda3\\envs\\torch\\Lib\\site-packages\\pandas\\core\\computation\\expressions.py:174\u001b[0m, in \u001b[0;36m_where_standard\u001b[1;34m(cond, a, b)\u001b[0m\n\u001b[0;32m    172\u001b[0m \u001b[38;5;28;01mdef\u001b[39;00m \u001b[38;5;21m_where_standard\u001b[39m(cond, a, b):\n\u001b[0;32m    173\u001b[0m     \u001b[38;5;66;03m# Caller is responsible for extracting ndarray if necessary\u001b[39;00m\n\u001b[1;32m--> 174\u001b[0m     \u001b[38;5;28;01mreturn\u001b[39;00m np\u001b[38;5;241m.\u001b[39mwhere(cond, a, b)\n",
      "\u001b[1;31mMemoryError\u001b[0m: Unable to allocate 191. MiB for an array with shape (5001, 5001) and data type float64"
     ]
    }
   ],
   "source": [
    "import warnings\n",
    "warnings.filterwarnings('ignore')\n",
    "new_metadata = []\n",
    "iteration = 0\n",
    "for row in metadata.iter_rows(named=True):\n",
    "    try:\n",
    "        start = row['start_time']\n",
    "        end = row['end_time']\n",
    "        anomaly = eval(row['affected'])[0]\n",
    "        root_cause = row['root_cause']\n",
    "        mod_df = cats_df.filter( (pl.col('timestamp')>= start) & (pl.col('timestamp') <= end))\n",
    "        cols_to_exclude=['timestamp','y','category']\n",
    "        mod_df = mod_df.drop(cols_to_exclude)\n",
    "        data = mod_df.to_numpy()\n",
    "        vae = VAE(input_dim = data.shape[1],latent_dim = data.shape[1])\n",
    "        train_vae(vae,data,epochs=50)\n",
    "        bnn = bayesian_network_inference(anomaly=anomaly,vae_model=vae,model_dataframe=mod_df,input_numpy_data=data)\n",
    "        bnn.causal_inference()\n",
    "        if root_cause == bnn.potential_causes[0][0]:\n",
    "            row['cause_1']=1\n",
    "        else:\n",
    "            row['cause_1']=0\n",
    "        if root_cause == bnn.potential_causes[1][0]:\n",
    "            row['cause_2']=1\n",
    "        else:\n",
    "            row['cause_2']=0\n",
    "        if root_cause == bnn.potential_causes[2][0]:\n",
    "            row['cause_3']=1\n",
    "        else:\n",
    "            row['cause_3']=0\n",
    "    \n",
    "        new_metadata.append(row)\n",
    "    except MemoryError:\n",
    "        start = row['start_time']\n",
    "        end = row['end_time']\n",
    "        anomaly = eval(row['affected'])[0]\n",
    "        root_cause = row['root_cause']\n",
    "        mod_df = cats_df.filter( (pl.col('timestamp')>= start) & (pl.col('timestamp') <= end))\n",
    "        cols_to_exclude=['timestamp','y','category']\n",
    "        mod_df = mod_df.drop(cols_to_exclude)\n",
    "        data = mod_df.to_numpy()\n",
    "        vae = VAE(input_dim = data.shape[1],latent_dim = data.shape[1])\n",
    "        train_vae(vae,data,epochs=50)\n",
    "        bnn = bayesian_network_inference(anomaly=anomaly,vae_model=vae,model_dataframe=mod_df,input_numpy_data=data,scoring_method = 'bicscore')\n",
    "        bnn.causal_inference()\n",
    "        try:\n",
    "            if root_cause == bnn.potential_causes[0][0]:\n",
    "                row['cause_1']=1\n",
    "            else:\n",
    "                row['cause_1']=0\n",
    "            if root_cause == bnn.potential_causes[1][0]:\n",
    "                row['cause_2']=1\n",
    "            else:\n",
    "                row['cause_2']=0\n",
    "            if root_cause == bnn.potential_causes[2][0]:\n",
    "                row['cause_3']=1\n",
    "            else:\n",
    "                row['cause_3']=0\n",
    "        \n",
    "            new_metadata.append(row)\n",
    "        except:\n",
    "            None\n",
    "    except:\n",
    "        continue\n",
    "        "
   ]
  },
  {
   "cell_type": "code",
   "execution_count": 17,
   "id": "134a27c2-e72f-4aac-aefd-3331941e475d",
   "metadata": {},
   "outputs": [
    {
     "data": {
      "text/plain": [
       "79"
      ]
     },
     "execution_count": 17,
     "metadata": {},
     "output_type": "execute_result"
    }
   ],
   "source": [
    "len(new_metadata)"
   ]
  },
  {
   "cell_type": "code",
   "execution_count": 20,
   "id": "1ca001a4-2fb1-44a5-b18a-ca432afe3926",
   "metadata": {},
   "outputs": [
    {
     "data": {
      "text/html": [
       "<div><style>\n",
       ".dataframe > thead > tr,\n",
       ".dataframe > tbody > tr {\n",
       "  text-align: right;\n",
       "  white-space: pre-wrap;\n",
       "}\n",
       "</style>\n",
       "<small>shape: (79, 8)</small><table border=\"1\" class=\"dataframe\"><thead><tr><th>start_time</th><th>end_time</th><th>root_cause</th><th>affected</th><th>category</th><th>cause_1</th><th>cause_2</th><th>cause_3</th></tr><tr><td>str</td><td>str</td><td>str</td><td>str</td><td>i64</td><td>i64</td><td>i64</td><td>i64</td></tr></thead><tbody><tr><td>&quot;2023-01-12 15:11:45&quot;</td><td>&quot;2023-01-12 15:20:05&quot;</td><td>&quot;bso3&quot;</td><td>&quot;[&#x27;cfo1&#x27;]&quot;</td><td>12</td><td>0</td><td>0</td><td>0</td></tr><tr><td>&quot;2023-01-12 18:19:35&quot;</td><td>&quot;2023-01-12 18:36:15&quot;</td><td>&quot;bfo2&quot;</td><td>&quot;[&#x27;cso1&#x27;]&quot;</td><td>8</td><td>0</td><td>0</td><td>0</td></tr><tr><td>&quot;2023-01-12 20:46:32&quot;</td><td>&quot;2023-01-12 20:51:32&quot;</td><td>&quot;bed2&quot;</td><td>&quot;[&#x27;ced1&#x27;]&quot;</td><td>7</td><td>0</td><td>0</td><td>0</td></tr><tr><td>&quot;2023-01-13 05:57:10&quot;</td><td>&quot;2023-01-13 06:02:10&quot;</td><td>&quot;bfo1&quot;</td><td>&quot;[&#x27;cfo1&#x27;]&quot;</td><td>9</td><td>0</td><td>0</td><td>0</td></tr><tr><td>&quot;2023-01-13 10:33:15&quot;</td><td>&quot;2023-01-13 10:44:55&quot;</td><td>&quot;bso1&quot;</td><td>&quot;[&#x27;cfo1&#x27;]&quot;</td><td>4</td><td>0</td><td>0</td><td>0</td></tr><tr><td>&hellip;</td><td>&hellip;</td><td>&hellip;</td><td>&hellip;</td><td>&hellip;</td><td>&hellip;</td><td>&hellip;</td><td>&hellip;</td></tr><tr><td>&quot;2023-01-29 15:55:32&quot;</td><td>&quot;2023-01-29 16:02:12&quot;</td><td>&quot;bfo2&quot;</td><td>&quot;[&#x27;cso1&#x27;]&quot;</td><td>10</td><td>0</td><td>0</td><td>0</td></tr><tr><td>&quot;2023-01-29 23:45:43&quot;</td><td>&quot;2023-01-29 23:57:23&quot;</td><td>&quot;bed2&quot;</td><td>&quot;[&#x27;ced1&#x27;]&quot;</td><td>8</td><td>0</td><td>0</td><td>0</td></tr><tr><td>&quot;2023-01-30 03:20:25&quot;</td><td>&quot;2023-01-30 03:32:05&quot;</td><td>&quot;bed2&quot;</td><td>&quot;[&#x27;ced1&#x27;]&quot;</td><td>12</td><td>0</td><td>0</td><td>0</td></tr><tr><td>&quot;2023-01-30 20:20:28&quot;</td><td>&quot;2023-01-30 20:28:48&quot;</td><td>&quot;bed2&quot;</td><td>&quot;[&#x27;ced1&#x27;]&quot;</td><td>8</td><td>0</td><td>0</td><td>0</td></tr><tr><td>&quot;2023-01-31 03:42:44&quot;</td><td>&quot;2023-01-31 03:51:04&quot;</td><td>&quot;bso1&quot;</td><td>&quot;[&#x27;cfo1&#x27;]&quot;</td><td>7</td><td>0</td><td>0</td><td>0</td></tr></tbody></table></div>"
      ],
      "text/plain": [
       "shape: (79, 8)\n",
       "┌────────────┬────────────┬────────────┬──────────┬──────────┬─────────┬─────────┬─────────┐\n",
       "│ start_time ┆ end_time   ┆ root_cause ┆ affected ┆ category ┆ cause_1 ┆ cause_2 ┆ cause_3 │\n",
       "│ ---        ┆ ---        ┆ ---        ┆ ---      ┆ ---      ┆ ---     ┆ ---     ┆ ---     │\n",
       "│ str        ┆ str        ┆ str        ┆ str      ┆ i64      ┆ i64     ┆ i64     ┆ i64     │\n",
       "╞════════════╪════════════╪════════════╪══════════╪══════════╪═════════╪═════════╪═════════╡\n",
       "│ 2023-01-12 ┆ 2023-01-12 ┆ bso3       ┆ ['cfo1'] ┆ 12       ┆ 0       ┆ 0       ┆ 0       │\n",
       "│ 15:11:45   ┆ 15:20:05   ┆            ┆          ┆          ┆         ┆         ┆         │\n",
       "│ 2023-01-12 ┆ 2023-01-12 ┆ bfo2       ┆ ['cso1'] ┆ 8        ┆ 0       ┆ 0       ┆ 0       │\n",
       "│ 18:19:35   ┆ 18:36:15   ┆            ┆          ┆          ┆         ┆         ┆         │\n",
       "│ 2023-01-12 ┆ 2023-01-12 ┆ bed2       ┆ ['ced1'] ┆ 7        ┆ 0       ┆ 0       ┆ 0       │\n",
       "│ 20:46:32   ┆ 20:51:32   ┆            ┆          ┆          ┆         ┆         ┆         │\n",
       "│ 2023-01-13 ┆ 2023-01-13 ┆ bfo1       ┆ ['cfo1'] ┆ 9        ┆ 0       ┆ 0       ┆ 0       │\n",
       "│ 05:57:10   ┆ 06:02:10   ┆            ┆          ┆          ┆         ┆         ┆         │\n",
       "│ 2023-01-13 ┆ 2023-01-13 ┆ bso1       ┆ ['cfo1'] ┆ 4        ┆ 0       ┆ 0       ┆ 0       │\n",
       "│ 10:33:15   ┆ 10:44:55   ┆            ┆          ┆          ┆         ┆         ┆         │\n",
       "│ …          ┆ …          ┆ …          ┆ …        ┆ …        ┆ …       ┆ …       ┆ …       │\n",
       "│ 2023-01-29 ┆ 2023-01-29 ┆ bfo2       ┆ ['cso1'] ┆ 10       ┆ 0       ┆ 0       ┆ 0       │\n",
       "│ 15:55:32   ┆ 16:02:12   ┆            ┆          ┆          ┆         ┆         ┆         │\n",
       "│ 2023-01-29 ┆ 2023-01-29 ┆ bed2       ┆ ['ced1'] ┆ 8        ┆ 0       ┆ 0       ┆ 0       │\n",
       "│ 23:45:43   ┆ 23:57:23   ┆            ┆          ┆          ┆         ┆         ┆         │\n",
       "│ 2023-01-30 ┆ 2023-01-30 ┆ bed2       ┆ ['ced1'] ┆ 12       ┆ 0       ┆ 0       ┆ 0       │\n",
       "│ 03:20:25   ┆ 03:32:05   ┆            ┆          ┆          ┆         ┆         ┆         │\n",
       "│ 2023-01-30 ┆ 2023-01-30 ┆ bed2       ┆ ['ced1'] ┆ 8        ┆ 0       ┆ 0       ┆ 0       │\n",
       "│ 20:20:28   ┆ 20:28:48   ┆            ┆          ┆          ┆         ┆         ┆         │\n",
       "│ 2023-01-31 ┆ 2023-01-31 ┆ bso1       ┆ ['cfo1'] ┆ 7        ┆ 0       ┆ 0       ┆ 0       │\n",
       "│ 03:42:44   ┆ 03:51:04   ┆            ┆          ┆          ┆         ┆         ┆         │\n",
       "└────────────┴────────────┴────────────┴──────────┴──────────┴─────────┴─────────┴─────────┘"
      ]
     },
     "execution_count": 20,
     "metadata": {},
     "output_type": "execute_result"
    }
   ],
   "source": [
    "bnn_stats"
   ]
  },
  {
   "cell_type": "code",
   "execution_count": 19,
   "id": "4d9f3503-4abd-4139-9983-f4282fa68c55",
   "metadata": {},
   "outputs": [
    {
     "data": {
      "text/plain": [
       "0.0"
      ]
     },
     "execution_count": 19,
     "metadata": {},
     "output_type": "execute_result"
    }
   ],
   "source": [
    "bnn_stats = pl.DataFrame(new_metadata)\n",
    "agg_stats = bnn_stats.select(pl.sum(\"cause_1\", \"cause_2\",'cause_3'))\n",
    "agg_stats.select(pl.sum_horizontal(pl.all())).item()/bnn_stats.shape[0]"
   ]
  },
  {
   "cell_type": "code",
   "execution_count": 11,
   "id": "df65dd78-82b1-4859-89de-af261d33d17b",
   "metadata": {},
   "outputs": [
    {
     "data": {
      "text/plain": [
       "'b'"
      ]
     },
     "execution_count": 11,
     "metadata": {},
     "output_type": "execute_result"
    }
   ],
   "source": [
    "bnn.potential_causes[0][0]"
   ]
  },
  {
   "cell_type": "code",
   "execution_count": null,
   "id": "11d0cd82-aef8-4762-a6de-a57707ccc9ac",
   "metadata": {},
   "outputs": [],
   "source": [
    "cols_to_exclude=['timestamp','y','category']\n",
    "mod_df = mod_df.drop(cols_to_exclude)\n",
    "data = mod_df.to_numpy()"
   ]
  },
  {
   "cell_type": "code",
   "execution_count": null,
   "id": "8cb368aa-7ff4-45bc-a25d-55757ebe6720",
   "metadata": {},
   "outputs": [],
   "source": [
    "vae = VAE(input_dim = data.shape[1],latent_dim = data.shape[1])\n",
    "train_vae(vae,data,epochs=50)"
   ]
  },
  {
   "cell_type": "code",
   "execution_count": null,
   "id": "0afd311c-dbfc-42ed-bd76-97488b850f70",
   "metadata": {},
   "outputs": [],
   "source": [
    "data.shape[1]"
   ]
  },
  {
   "cell_type": "code",
   "execution_count": null,
   "id": "64939597-77e2-4e01-b983-d3e003ef77d2",
   "metadata": {},
   "outputs": [],
   "source": [
    "class bayesian_network_inference:\n",
    "    def __init__(self,anomaly,vae_model,model_dataframe,input_numpy_data, scoring_method = 'bdeuscore'):\n",
    "        self.anomaly = anomaly\n",
    "        self.vae_model = vae_model\n",
    "        self.mod_df = model_dataframe\n",
    "        self.column_names = self.mod_df.columns\n",
    "        self.input_numpy_data = input_numpy_data\n",
    "        self.scoring_method=scoring_method\n",
    "        self.latent_df = None\n",
    "        self.bayesian_model = None\n",
    "        self.rca_scores = None\n",
    "        self.potential_causes = []\n",
    "\n",
    "    def _get_latent_variables(self):\n",
    "        self.vae_model.eval()\n",
    "        with torch.no_grad():\n",
    "            data_tensor = torch.tensor(self.input_numpy_data, dtype=torch.float32)\n",
    "            mu, _ = self.vae_model.encode(data_tensor)\n",
    "            return mu.numpy()\n",
    "\n",
    "    def _prep_latent_data(self):\n",
    "        latent_data = get_latent_variables(vae, data)\n",
    "        self.latent_df = pd.DataFrame(latent_data, columns=[f\"z{i}\" for i in range(latent_data.shape[1])])\n",
    "        self.latent_df.columns = self.mod_df.columns\n",
    "\n",
    "    def _train_bayes(self):\n",
    "        # Train Bayesian Network\n",
    "        hc = HillClimbSearch(self.latent_df)\n",
    "        best_model = hc.estimate(scoring_method=self.scoring_method)\n",
    "        self.bayesian_model = BayesianNetwork(best_model.edges())\n",
    "        self.bayesian_model.fit(self.latent_df, estimator=MaximumLikelihoodEstimator)\n",
    "\n",
    "    def draw_graph(self,name):\n",
    "        viz = bayesian_model.to_graphviz()\n",
    "        viz.draw( name + '.png', prog='neato')\n",
    "        Image(name + '.png')\n",
    "\n",
    "    def causal_inference(self,n_causes=3):\n",
    "        self._get_latent_variables()\n",
    "        self._prep_latent_data()\n",
    "        self._train_bayes()\n",
    "\n",
    "        inference = CausalInference(self.bayesian_model)\n",
    "        scores = []\n",
    "        columns = self.latent_df.columns\n",
    "        test_columns = []\n",
    "        for col in columns:\n",
    "            if col != self.anomaly:\n",
    "                try:\n",
    "                    inference.get_all_backdoor_adjustment_sets(X=col, Y=self.anomaly)\n",
    "                except:\n",
    "                    None\n",
    "                try:\n",
    "                    inference.get_all_frontdoor_adjustment_sets(X=col, Y=self.anomaly)\n",
    "                except:\n",
    "                    None\n",
    "                test_columns.append(col)\n",
    "                scores.append(inference.estimate_ate(X=col, Y=self.anomaly, data=self.latent_df, estimator_type=\"linear\"))\n",
    "\n",
    "        rca_indices = sorted(range(len(scores)), key=lambda i: scores[i])[-n_causes:]\n",
    "        self.rca_scores = dict(zip(test_columns,scores))\n",
    "        for index in rca_indices:\n",
    "            self.potential_causes.append( (test_columns[index]))\n",
    "        self.potential_causes.sort(key=lambda tup: tup[1],reverse=True)\n",
    "\n",
    "\n",
    " \n",
    "        "
   ]
  },
  {
   "cell_type": "code",
   "execution_count": null,
   "id": "591044f9-95b1-46b0-9a7b-60d81230d3d2",
   "metadata": {},
   "outputs": [],
   "source": [
    "bnn = bayesian_network_inference(anomaly=anomaly,vae_model=vae,model_dataframe=mod_df,input_numpy_data=data)\n",
    "bnn.causal_inference()"
   ]
  },
  {
   "cell_type": "code",
   "execution_count": null,
   "id": "defa00f2-2012-4859-a3e5-33765a2844ca",
   "metadata": {},
   "outputs": [],
   "source": [
    "causes = bnn.potential_causes"
   ]
  },
  {
   "cell_type": "code",
   "execution_count": null,
   "id": "814e96db-8836-46f1-b27c-b6f449a82621",
   "metadata": {},
   "outputs": [],
   "source": [
    "causes.sort(key=lambda tup: tup[1],reverse=True)"
   ]
  },
  {
   "cell_type": "code",
   "execution_count": null,
   "id": "2c15a53b-c338-4835-a1bd-fe202bd52793",
   "metadata": {},
   "outputs": [],
   "source": [
    "causes"
   ]
  },
  {
   "cell_type": "code",
   "execution_count": null,
   "id": "33b3a9fd-4a89-4e10-b7f1-e6f006b827f4",
   "metadata": {},
   "outputs": [],
   "source": [
    "bnn.draw_graph(name='mod1')"
   ]
  },
  {
   "cell_type": "code",
   "execution_count": null,
   "id": "c842373c-54d0-4815-b60c-04853b3365e3",
   "metadata": {},
   "outputs": [],
   "source": [
    "# Define Bayesian Network\n",
    "def get_latent_variables(model, data):\n",
    "    model.eval()\n",
    "    with torch.no_grad():\n",
    "        data_tensor = torch.tensor(data, dtype=torch.float32)\n",
    "        mu, _ = model.encode(data_tensor)\n",
    "        return mu.numpy()\n"
   ]
  },
  {
   "cell_type": "code",
   "execution_count": null,
   "id": "9f46ced8-7a2e-40f8-9157-0c5ee32c78c4",
   "metadata": {},
   "outputs": [],
   "source": [
    "def train_bayes(latent_df,scoring_method = 'bdeuscore'):\n",
    "    # Train Bayesian Network\n",
    "    hc = HillClimbSearch(latent_df)\n",
    "    best_model = hc.estimate(scoring_method='bdeuscore')\n",
    "    bayesian_model = BayesianNetwork(best_model.edges())\n",
    "    bayesian_model.fit(latent_df, estimator=MaximumLikelihoodEstimator)\n",
    "    return bayesian_model"
   ]
  },
  {
   "cell_type": "code",
   "execution_count": null,
   "id": "5f72f6a6-d205-40c8-a343-0df2876c2b68",
   "metadata": {},
   "outputs": [],
   "source": [
    "# Prepare latent data\n",
    "latent_data = get_latent_variables(vae, data)\n",
    "latent_df = pd.DataFrame(latent_data, columns=[f\"z{i}\" for i in range(latent_data.shape[1])])\n",
    "latent_df.columns = mod_df.columns"
   ]
  },
  {
   "cell_type": "code",
   "execution_count": null,
   "id": "913bebe9-1bc8-4198-b38b-03583d777c1b",
   "metadata": {},
   "outputs": [],
   "source": [
    "latent_df.shape"
   ]
  },
  {
   "cell_type": "code",
   "execution_count": null,
   "id": "443aabc4-080a-4704-b155-ded5356151a8",
   "metadata": {},
   "outputs": [],
   "source": [
    "# Train Bayesian Network\n",
    "hc = HillClimbSearch(latent_df)\n",
    "best_model = hc.estimate(scoring_method='bdeuscore')\n",
    "bayesian_model = BayesianNetwork(best_model.edges())\n",
    "bayesian_model.fit(latent_df, estimator=MaximumLikelihoodEstimator)\n"
   ]
  },
  {
   "cell_type": "code",
   "execution_count": null,
   "id": "33c0d6bf-cecf-4d8d-acf8-65227566f7c2",
   "metadata": {},
   "outputs": [],
   "source": [
    "from IPython.display import Image\n",
    "\n",
    "viz = bayesian_model.to_graphviz()\n",
    "viz.draw('test.png', prog='neato')\n",
    "Image('test.png')"
   ]
  },
  {
   "cell_type": "code",
   "execution_count": null,
   "id": "324bece2-7ca0-4e08-8ca3-09b0a62ab48e",
   "metadata": {},
   "outputs": [],
   "source": [
    "from pgmpy.inference.CausalInference import CausalInference\n",
    "inference = CausalInference(bayesian_model)\n",
    "inference.get_all_backdoor_adjustment_sets(X=\"bso3\", Y=anomaly)\n",
    "inference.get_all_frontdoor_adjustment_sets(X=\"bso3\", Y=anomaly)"
   ]
  },
  {
   "cell_type": "code",
   "execution_count": null,
   "id": "e3ca54f0-ed3a-48be-9b9b-fe7833cca7d2",
   "metadata": {},
   "outputs": [],
   "source": [
    "scores = []\n",
    "columns = latent_df.columns\n",
    "test_columns = []\n",
    "for col in latent_df.columns:\n",
    "    if col != anomaly:\n",
    "        inference.get_all_backdoor_adjustment_sets(X=col, Y=anomaly)\n",
    "        inference.get_all_frontdoor_adjustment_sets(X=col, Y=anomaly)\n",
    "        test_columns.append(col)\n",
    "        scores.append(inference.estimate_ate(X=col, Y=anomaly, data=latent_df, estimator_type=\"linear\"))"
   ]
  },
  {
   "cell_type": "code",
   "execution_count": null,
   "id": "b65ca49c-d279-4e2b-a17e-0fefc1f209f2",
   "metadata": {},
   "outputs": [],
   "source": [
    "rca_indices = sorted(range(len(scores)), key=lambda i: scores[i])[-3:]"
   ]
  },
  {
   "cell_type": "code",
   "execution_count": null,
   "id": "7abbe394-4ef4-42f3-ac3a-3d71836187e8",
   "metadata": {},
   "outputs": [],
   "source": [
    "potential_causes = []\n",
    "for index in rca_indices:\n",
    "    potential_causes.append( (test_columns[index],scores[index]))\n"
   ]
  },
  {
   "cell_type": "code",
   "execution_count": null,
   "id": "bcb73d6a-dc61-4f52-9f4a-f7ffa601d0cb",
   "metadata": {},
   "outputs": [],
   "source": [
    "potential_causes"
   ]
  },
  {
   "cell_type": "code",
   "execution_count": null,
   "id": "839510fc-7803-42ee-ae28-bd45cb899d99",
   "metadata": {},
   "outputs": [],
   "source": [
    "test_columns[13]"
   ]
  },
  {
   "cell_type": "code",
   "execution_count": null,
   "id": "b73f0e5f-0b38-46b0-beb4-25fbbac31f2f",
   "metadata": {},
   "outputs": [],
   "source": [
    "test_columns[12]"
   ]
  },
  {
   "cell_type": "code",
   "execution_count": null,
   "id": "5e604c45-51b1-48e9-beb1-361ad681998a",
   "metadata": {},
   "outputs": [],
   "source": [
    "test_columns[1]"
   ]
  },
  {
   "cell_type": "code",
   "execution_count": null,
   "id": "17bdf668-06b8-471e-abf7-f57cc44d3733",
   "metadata": {},
   "outputs": [],
   "source": [
    "metadata"
   ]
  },
  {
   "cell_type": "code",
   "execution_count": null,
   "id": "d25dc258-dda0-4f2a-b710-b286ace25dd3",
   "metadata": {},
   "outputs": [],
   "source": []
  }
 ],
 "metadata": {
  "kernelspec": {
   "display_name": "Python 3 (ipykernel)",
   "language": "python",
   "name": "python3"
  },
  "language_info": {
   "codemirror_mode": {
    "name": "ipython",
    "version": 3
   },
   "file_extension": ".py",
   "mimetype": "text/x-python",
   "name": "python",
   "nbconvert_exporter": "python",
   "pygments_lexer": "ipython3",
   "version": "3.12.7"
  }
 },
 "nbformat": 4,
 "nbformat_minor": 5
}
