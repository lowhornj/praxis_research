{
 "cells": [
  {
   "cell_type": "code",
   "execution_count": 1,
   "id": "6dffde21-aa42-4f4d-b368-f006e8592bd7",
   "metadata": {},
   "outputs": [],
   "source": [
    "import os\n",
    "import torch\n",
    "import polars as pl\n",
    "import numpy as np\n",
    "import seaborn as sns\n",
    "import warnings\n",
    "from feature_eng.scalers import ranged_scaler\n",
    "warnings.filterwarnings(\"ignore\", category=UserWarning) "
   ]
  },
  {
   "cell_type": "code",
   "execution_count": 2,
   "id": "c4025533-4f77-4974-bd2a-a5e9742312e5",
   "metadata": {},
   "outputs": [
    {
     "name": "stderr",
     "output_type": "stream",
     "text": [
      "Global seed set to 11\n"
     ]
    },
    {
     "data": {
      "text/plain": [
       "11"
      ]
     },
     "execution_count": 2,
     "metadata": {},
     "output_type": "execute_result"
    }
   ],
   "source": [
    "from dataclasses import dataclass\n",
    "\n",
    "import numpy as np\n",
    "import networkx as nx\n",
    "\n",
    "import torch\n",
    "import pytorch_lightning as ptl\n",
    "\n",
    "from torch.utils.data import DataLoader\n",
    "from tensordict import TensorDict\n",
    "\n",
    "from castle.datasets import DAG, IIDSimulation \n",
    "from castle.common import GraphDAG\n",
    "from castle.metrics import MetricsDAG\n",
    "\n",
    "import causica.distributions as cd\n",
    "\n",
    "from causica.functional_relationships import ICGNN\n",
    "from causica.training.auglag import AugLagLossCalculator, AugLagLR, AugLagLRConfig\n",
    "from causica.graph.dag_constraint import calculate_dagness\n",
    "\n",
    "from causica.datasets.variable_types import VariableTypeEnum\n",
    "from causica.datasets.tensordict_utils import tensordict_shapes\n",
    "\n",
    "import matplotlib.pyplot as plt\n",
    "plt.style.use('fivethirtyeight')\n",
    "\n",
    "COLORS = [\n",
    "    '#00B0F0',\n",
    "    '#FF0000',\n",
    "    '#B0F000'\n",
    "]\n",
    "\n",
    "# Set random seed\n",
    "SEED = 11\n",
    "np.random.seed(SEED)\n",
    "ptl.seed_everything(SEED)  \n"
   ]
  },
  {
   "cell_type": "code",
   "execution_count": 3,
   "id": "c390f8eb-8264-459d-b5f2-1de365e6c223",
   "metadata": {},
   "outputs": [],
   "source": [
    "cats_df = pl.read_csv(\"data/data.csv\", separator=\",\")  "
   ]
  },
  {
   "cell_type": "code",
   "execution_count": 4,
   "id": "819b9f17-5bc3-49ee-b48d-a4e155ad96d1",
   "metadata": {},
   "outputs": [],
   "source": [
    "metadata = pl.read_csv('data/metadata.csv',separator=',')\n"
   ]
  },
  {
   "cell_type": "code",
   "execution_count": 5,
   "id": "084c6abc-d959-409e-a4cc-693eb02edd10",
   "metadata": {},
   "outputs": [
    {
     "data": {
      "text/html": [
       "<div><style>\n",
       ".dataframe > thead > tr,\n",
       ".dataframe > tbody > tr {\n",
       "  text-align: right;\n",
       "  white-space: pre-wrap;\n",
       "}\n",
       "</style>\n",
       "<small>shape: (5, 20)</small><table border=\"1\" class=\"dataframe\"><thead><tr><th>timestamp</th><th>aimp</th><th>amud</th><th>arnd</th><th>asin1</th><th>asin2</th><th>adbr</th><th>adfl</th><th>bed1</th><th>bed2</th><th>bfo1</th><th>bfo2</th><th>bso1</th><th>bso2</th><th>bso3</th><th>ced1</th><th>cfo1</th><th>cso1</th><th>y</th><th>category</th></tr><tr><td>str</td><td>f64</td><td>f64</td><td>f64</td><td>f64</td><td>f64</td><td>f64</td><td>f64</td><td>f64</td><td>f64</td><td>f64</td><td>f64</td><td>f64</td><td>f64</td><td>f64</td><td>f64</td><td>f64</td><td>f64</td><td>f64</td><td>f64</td></tr></thead><tbody><tr><td>&quot;2023-01-01 00:00:00&quot;</td><td>0.0</td><td>1.0</td><td>20.0</td><td>0.0</td><td>0.0</td><td>0.0</td><td>0.0</td><td>0.0</td><td>0.0</td><td>0.0</td><td>0.0</td><td>0.0</td><td>0.0</td><td>0.0</td><td>0.0</td><td>0.0</td><td>0.0</td><td>0.0</td><td>0.0</td></tr><tr><td>&quot;2023-01-01 00:00:01&quot;</td><td>0.0</td><td>1.0</td><td>20.080031</td><td>0.00002</td><td>0.0002</td><td>0.0</td><td>0.0</td><td>0.0</td><td>0.0</td><td>0.0</td><td>4.9939e-7</td><td>0.000789</td><td>0.0</td><td>0.0</td><td>0.0</td><td>0.000021</td><td>0.001229</td><td>0.0</td><td>0.0</td></tr><tr><td>&quot;2023-01-01 00:00:02&quot;</td><td>0.0</td><td>1.0</td><td>20.276562</td><td>0.00004</td><td>0.0004</td><td>0.0</td><td>0.0</td><td>0.0</td><td>0.0</td><td>0.0</td><td>0.000001</td><td>0.003115</td><td>0.0</td><td>0.0</td><td>0.0</td><td>0.000104</td><td>0.004833</td><td>0.0</td><td>0.0</td></tr><tr><td>&quot;2023-01-01 00:00:03&quot;</td><td>0.0</td><td>1.0</td><td>20.730938</td><td>0.00006</td><td>0.0006</td><td>0.0</td><td>0.0</td><td>0.0</td><td>0.0</td><td>0.0</td><td>0.000003</td><td>0.006914</td><td>0.0</td><td>0.0</td><td>0.0</td><td>0.000285</td><td>0.010688</td><td>0.0</td><td>0.0</td></tr><tr><td>&quot;2023-01-01 00:00:04&quot;</td><td>0.0</td><td>1.0</td><td>21.118101</td><td>0.00008</td><td>0.0008</td><td>0.0</td><td>0.0</td><td>0.0</td><td>0.0</td><td>0.0</td><td>0.000005</td><td>0.012123</td><td>0.0</td><td>0.0</td><td>0.0</td><td>0.000601</td><td>0.018669</td><td>0.0</td><td>0.0</td></tr></tbody></table></div>"
      ],
      "text/plain": [
       "shape: (5, 20)\n",
       "┌─────────────────────┬──────┬──────┬───────────┬───┬──────────┬──────────┬─────┬──────────┐\n",
       "│ timestamp           ┆ aimp ┆ amud ┆ arnd      ┆ … ┆ cfo1     ┆ cso1     ┆ y   ┆ category │\n",
       "│ ---                 ┆ ---  ┆ ---  ┆ ---       ┆   ┆ ---      ┆ ---      ┆ --- ┆ ---      │\n",
       "│ str                 ┆ f64  ┆ f64  ┆ f64       ┆   ┆ f64      ┆ f64      ┆ f64 ┆ f64      │\n",
       "╞═════════════════════╪══════╪══════╪═══════════╪═══╪══════════╪══════════╪═════╪══════════╡\n",
       "│ 2023-01-01 00:00:00 ┆ 0.0  ┆ 1.0  ┆ 20.0      ┆ … ┆ 0.0      ┆ 0.0      ┆ 0.0 ┆ 0.0      │\n",
       "│ 2023-01-01 00:00:01 ┆ 0.0  ┆ 1.0  ┆ 20.080031 ┆ … ┆ 0.000021 ┆ 0.001229 ┆ 0.0 ┆ 0.0      │\n",
       "│ 2023-01-01 00:00:02 ┆ 0.0  ┆ 1.0  ┆ 20.276562 ┆ … ┆ 0.000104 ┆ 0.004833 ┆ 0.0 ┆ 0.0      │\n",
       "│ 2023-01-01 00:00:03 ┆ 0.0  ┆ 1.0  ┆ 20.730938 ┆ … ┆ 0.000285 ┆ 0.010688 ┆ 0.0 ┆ 0.0      │\n",
       "│ 2023-01-01 00:00:04 ┆ 0.0  ┆ 1.0  ┆ 21.118101 ┆ … ┆ 0.000601 ┆ 0.018669 ┆ 0.0 ┆ 0.0      │\n",
       "└─────────────────────┴──────┴──────┴───────────┴───┴──────────┴──────────┴─────┴──────────┘"
      ]
     },
     "execution_count": 5,
     "metadata": {},
     "output_type": "execute_result"
    }
   ],
   "source": [
    "cats_df.head()"
   ]
  },
  {
   "cell_type": "code",
   "execution_count": 6,
   "id": "8b6eac40-7c24-4108-8c8c-76e3fa914456",
   "metadata": {},
   "outputs": [
    {
     "data": {
      "text/html": [
       "<div><style>\n",
       ".dataframe > thead > tr,\n",
       ".dataframe > tbody > tr {\n",
       "  text-align: right;\n",
       "  white-space: pre-wrap;\n",
       "}\n",
       "</style>\n",
       "<small>shape: (5, 5)</small><table border=\"1\" class=\"dataframe\"><thead><tr><th>start_time</th><th>end_time</th><th>root_cause</th><th>affected</th><th>category</th></tr><tr><td>str</td><td>str</td><td>str</td><td>str</td><td>i64</td></tr></thead><tbody><tr><td>&quot;2023-01-12 15:11:45&quot;</td><td>&quot;2023-01-12 15:20:05&quot;</td><td>&quot;bso3&quot;</td><td>&quot;[&#x27;cfo1&#x27;]&quot;</td><td>12</td></tr><tr><td>&quot;2023-01-12 16:27:46&quot;</td><td>&quot;2023-01-12 17:51:06&quot;</td><td>&quot;bso3&quot;</td><td>&quot;[&#x27;cfo1&#x27;]&quot;</td><td>1</td></tr><tr><td>&quot;2023-01-12 18:19:35&quot;</td><td>&quot;2023-01-12 18:36:15&quot;</td><td>&quot;bfo2&quot;</td><td>&quot;[&#x27;cso1&#x27;]&quot;</td><td>8</td></tr><tr><td>&quot;2023-01-12 20:46:32&quot;</td><td>&quot;2023-01-12 20:51:32&quot;</td><td>&quot;bed2&quot;</td><td>&quot;[&#x27;ced1&#x27;]&quot;</td><td>7</td></tr><tr><td>&quot;2023-01-13 05:57:10&quot;</td><td>&quot;2023-01-13 06:02:10&quot;</td><td>&quot;bfo1&quot;</td><td>&quot;[&#x27;cfo1&#x27;]&quot;</td><td>9</td></tr></tbody></table></div>"
      ],
      "text/plain": [
       "shape: (5, 5)\n",
       "┌─────────────────────┬─────────────────────┬────────────┬──────────┬──────────┐\n",
       "│ start_time          ┆ end_time            ┆ root_cause ┆ affected ┆ category │\n",
       "│ ---                 ┆ ---                 ┆ ---        ┆ ---      ┆ ---      │\n",
       "│ str                 ┆ str                 ┆ str        ┆ str      ┆ i64      │\n",
       "╞═════════════════════╪═════════════════════╪════════════╪══════════╪══════════╡\n",
       "│ 2023-01-12 15:11:45 ┆ 2023-01-12 15:20:05 ┆ bso3       ┆ ['cfo1'] ┆ 12       │\n",
       "│ 2023-01-12 16:27:46 ┆ 2023-01-12 17:51:06 ┆ bso3       ┆ ['cfo1'] ┆ 1        │\n",
       "│ 2023-01-12 18:19:35 ┆ 2023-01-12 18:36:15 ┆ bfo2       ┆ ['cso1'] ┆ 8        │\n",
       "│ 2023-01-12 20:46:32 ┆ 2023-01-12 20:51:32 ┆ bed2       ┆ ['ced1'] ┆ 7        │\n",
       "│ 2023-01-13 05:57:10 ┆ 2023-01-13 06:02:10 ┆ bfo1       ┆ ['cfo1'] ┆ 9        │\n",
       "└─────────────────────┴─────────────────────┴────────────┴──────────┴──────────┘"
      ]
     },
     "execution_count": 6,
     "metadata": {},
     "output_type": "execute_result"
    }
   ],
   "source": [
    "metadata.head()\n"
   ]
  },
  {
   "cell_type": "code",
   "execution_count": 7,
   "id": "3bf79826-0fcf-4c87-99fe-8132a81cac9c",
   "metadata": {},
   "outputs": [],
   "source": [
    "for col in cats_df.columns:\n",
    "    unique_vals = cats_df[col].n_unique()\n",
    "    data_type = cats_df[col].dtype\n",
    "    bad_dtypes = [pl.Date,pl.Datetime,pl.Utf8]\n",
    "    if ((unique_vals >= 50) & (data_type not in bad_dtypes) ):\n",
    "        cats_df = cats_df.with_columns(ranged_scaler(cats_df[col]))\n",
    "    else:\n",
    "        continue"
   ]
  },
  {
   "cell_type": "code",
   "execution_count": 113,
   "id": "664248d7-e960-4bcc-a36f-feed0915603c",
   "metadata": {},
   "outputs": [
    {
     "data": {
      "text/html": [
       "<div><style>\n",
       ".dataframe > thead > tr,\n",
       ".dataframe > tbody > tr {\n",
       "  text-align: right;\n",
       "  white-space: pre-wrap;\n",
       "}\n",
       "</style>\n",
       "<small>shape: (5, 20)</small><table border=\"1\" class=\"dataframe\"><thead><tr><th>timestamp</th><th>aimp</th><th>amud</th><th>arnd</th><th>asin1</th><th>asin2</th><th>adbr</th><th>adfl</th><th>bed1</th><th>bed2</th><th>bfo1</th><th>bfo2</th><th>bso1</th><th>bso2</th><th>bso3</th><th>ced1</th><th>cfo1</th><th>cso1</th><th>y</th><th>category</th></tr><tr><td>str</td><td>f64</td><td>f64</td><td>f64</td><td>f64</td><td>f64</td><td>f64</td><td>f64</td><td>f64</td><td>f64</td><td>f64</td><td>f64</td><td>f64</td><td>f64</td><td>f64</td><td>f64</td><td>f64</td><td>f64</td><td>f64</td><td>f64</td></tr></thead><tbody><tr><td>&quot;2023-01-01 00:00:00&quot;</td><td>0.0</td><td>0.142857</td><td>-0.5</td><td>-4.1078e-14</td><td>2.0428e-14</td><td>0.0</td><td>0.0</td><td>-0.32802</td><td>-0.369237</td><td>-0.738163</td><td>-0.767181</td><td>-0.180547</td><td>-0.507953</td><td>-0.716059</td><td>-0.774361</td><td>0.100389</td><td>-0.186623</td><td>0.0</td><td>0.0</td></tr><tr><td>&quot;2023-01-01 00:00:01&quot;</td><td>0.0</td><td>0.142857</td><td>-0.495998</td><td>0.00002</td><td>0.0002</td><td>0.0</td><td>0.0</td><td>-0.32802</td><td>-0.369237</td><td>-0.738163</td><td>-0.767181</td><td>-0.18054</td><td>-0.507953</td><td>-0.716059</td><td>-0.774361</td><td>0.100389</td><td>-0.186618</td><td>0.0</td><td>0.0</td></tr><tr><td>&quot;2023-01-01 00:00:02&quot;</td><td>0.0</td><td>0.142857</td><td>-0.486172</td><td>0.00004</td><td>0.0004</td><td>0.0</td><td>0.0</td><td>-0.32802</td><td>-0.369237</td><td>-0.738163</td><td>-0.767181</td><td>-0.180519</td><td>-0.507953</td><td>-0.716059</td><td>-0.774361</td><td>0.10039</td><td>-0.186604</td><td>0.0</td><td>0.0</td></tr><tr><td>&quot;2023-01-01 00:00:03&quot;</td><td>0.0</td><td>0.142857</td><td>-0.463453</td><td>0.00006</td><td>0.0006</td><td>0.0</td><td>0.0</td><td>-0.32802</td><td>-0.369237</td><td>-0.738163</td><td>-0.767181</td><td>-0.180484</td><td>-0.507953</td><td>-0.716059</td><td>-0.774361</td><td>0.100391</td><td>-0.18658</td><td>0.0</td><td>0.0</td></tr><tr><td>&quot;2023-01-01 00:00:04&quot;</td><td>0.0</td><td>0.142857</td><td>-0.444095</td><td>0.00008</td><td>0.0008</td><td>0.0</td><td>0.0</td><td>-0.32802</td><td>-0.369237</td><td>-0.738163</td><td>-0.767181</td><td>-0.180437</td><td>-0.507953</td><td>-0.716059</td><td>-0.774361</td><td>0.100393</td><td>-0.186548</td><td>0.0</td><td>0.0</td></tr></tbody></table></div>"
      ],
      "text/plain": [
       "shape: (5, 20)\n",
       "┌─────────────────────┬──────┬──────────┬───────────┬───┬──────────┬───────────┬─────┬──────────┐\n",
       "│ timestamp           ┆ aimp ┆ amud     ┆ arnd      ┆ … ┆ cfo1     ┆ cso1      ┆ y   ┆ category │\n",
       "│ ---                 ┆ ---  ┆ ---      ┆ ---       ┆   ┆ ---      ┆ ---       ┆ --- ┆ ---      │\n",
       "│ str                 ┆ f64  ┆ f64      ┆ f64       ┆   ┆ f64      ┆ f64       ┆ f64 ┆ f64      │\n",
       "╞═════════════════════╪══════╪══════════╪═══════════╪═══╪══════════╪═══════════╪═════╪══════════╡\n",
       "│ 2023-01-01 00:00:00 ┆ 0.0  ┆ 0.142857 ┆ -0.5      ┆ … ┆ 0.100389 ┆ -0.186623 ┆ 0.0 ┆ 0.0      │\n",
       "│ 2023-01-01 00:00:01 ┆ 0.0  ┆ 0.142857 ┆ -0.495998 ┆ … ┆ 0.100389 ┆ -0.186618 ┆ 0.0 ┆ 0.0      │\n",
       "│ 2023-01-01 00:00:02 ┆ 0.0  ┆ 0.142857 ┆ -0.486172 ┆ … ┆ 0.10039  ┆ -0.186604 ┆ 0.0 ┆ 0.0      │\n",
       "│ 2023-01-01 00:00:03 ┆ 0.0  ┆ 0.142857 ┆ -0.463453 ┆ … ┆ 0.100391 ┆ -0.18658  ┆ 0.0 ┆ 0.0      │\n",
       "│ 2023-01-01 00:00:04 ┆ 0.0  ┆ 0.142857 ┆ -0.444095 ┆ … ┆ 0.100393 ┆ -0.186548 ┆ 0.0 ┆ 0.0      │\n",
       "└─────────────────────┴──────┴──────────┴───────────┴───┴──────────┴───────────┴─────┴──────────┘"
      ]
     },
     "execution_count": 113,
     "metadata": {},
     "output_type": "execute_result"
    }
   ],
   "source": [
    "cats_df.head()\n"
   ]
  },
  {
   "cell_type": "code",
   "execution_count": 121,
   "id": "23c0b0bf-4445-4000-a06c-71828cdd5f93",
   "metadata": {},
   "outputs": [
    {
     "data": {
      "text/plain": [
       "'2023-01-01 00:00:00'"
      ]
     },
     "execution_count": 121,
     "metadata": {},
     "output_type": "execute_result"
    }
   ],
   "source": [
    "cats_df['timestamp'].min()"
   ]
  },
  {
   "cell_type": "code",
   "execution_count": 117,
   "id": "58f9e5cd-7f3b-4264-ab71-93e8bc6dbfea",
   "metadata": {},
   "outputs": [],
   "source": [
    "cats_rows_list = metadata.rows(named=True)\n"
   ]
  },
  {
   "cell_type": "code",
   "execution_count": 129,
   "id": "41c74bc6-a323-41ef-9eda-e27f7c434a4b",
   "metadata": {},
   "outputs": [],
   "source": [
    "for i, row in enumerate(cats_rows_list):\n",
    "    if i == 0:\n",
    "        start_time = cats_df['timestamp'].min()\n",
    "\n",
    "    end_time = row['end_time']\n",
    "    \n",
    "    model_df = cats_df.filter( (pl.col('timestamp')>= start_time) & (pl.col('timestamp') <= end_time))\n",
    "    model_df = model_df.drop(['timestamp','y','category'])\n",
    "    out_cols = model_df.columns\n",
    "    cats_np = model_df.to_numpy()\n",
    "    \n",
    "    break\n",
    "    start_time = end_time"
   ]
  },
  {
   "cell_type": "code",
   "execution_count": 130,
   "id": "544de913-9486-444c-8ce5-6ba4eb685165",
   "metadata": {},
   "outputs": [],
   "source": [
    "device = 'cuda:0' if torch.cuda.is_available() else 'cpu'"
   ]
  },
  {
   "cell_type": "code",
   "execution_count": 131,
   "id": "5551019f-4445-4c24-ab24-d03fe33ebae2",
   "metadata": {},
   "outputs": [
    {
     "data": {
      "text/plain": [
       "'cuda:0'"
      ]
     },
     "execution_count": 131,
     "metadata": {},
     "output_type": "execute_result"
    }
   ],
   "source": [
    "device"
   ]
  },
  {
   "cell_type": "code",
   "execution_count": 132,
   "id": "ac75c824-124d-40e8-87b6-9e80b25c6979",
   "metadata": {},
   "outputs": [
    {
     "name": "stderr",
     "output_type": "stream",
     "text": [
      "Global seed set to 11\n"
     ]
    },
    {
     "data": {
      "text/plain": [
       "11"
      ]
     },
     "execution_count": 132,
     "metadata": {},
     "output_type": "execute_result"
    }
   ],
   "source": [
    "seed = 11\n",
    "ptl.seed_everything(seed)"
   ]
  },
  {
   "cell_type": "code",
   "execution_count": 146,
   "id": "c7d0d3cc-57c1-4913-80b8-f5f7f583f19f",
   "metadata": {},
   "outputs": [
    {
     "data": {
      "text/plain": [
       "TensorDict(\n",
       "    fields={\n",
       "        adbr: Tensor(shape=torch.Size([1005606, 1]), device=cuda:0, dtype=torch.float32, is_shared=True),\n",
       "        adfl: Tensor(shape=torch.Size([1005606, 1]), device=cuda:0, dtype=torch.float32, is_shared=True),\n",
       "        aimp: Tensor(shape=torch.Size([1005606, 1]), device=cuda:0, dtype=torch.float32, is_shared=True),\n",
       "        amud: Tensor(shape=torch.Size([1005606, 1]), device=cuda:0, dtype=torch.float32, is_shared=True),\n",
       "        arnd: Tensor(shape=torch.Size([1005606, 1]), device=cuda:0, dtype=torch.float32, is_shared=True),\n",
       "        asin1: Tensor(shape=torch.Size([1005606, 1]), device=cuda:0, dtype=torch.float32, is_shared=True),\n",
       "        asin2: Tensor(shape=torch.Size([1005606, 1]), device=cuda:0, dtype=torch.float32, is_shared=True),\n",
       "        bed1: Tensor(shape=torch.Size([1005606, 1]), device=cuda:0, dtype=torch.float32, is_shared=True),\n",
       "        bed2: Tensor(shape=torch.Size([1005606, 1]), device=cuda:0, dtype=torch.float32, is_shared=True),\n",
       "        bfo1: Tensor(shape=torch.Size([1005606, 1]), device=cuda:0, dtype=torch.float32, is_shared=True),\n",
       "        bfo2: Tensor(shape=torch.Size([1005606, 1]), device=cuda:0, dtype=torch.float32, is_shared=True),\n",
       "        bso1: Tensor(shape=torch.Size([1005606, 1]), device=cuda:0, dtype=torch.float32, is_shared=True),\n",
       "        bso2: Tensor(shape=torch.Size([1005606, 1]), device=cuda:0, dtype=torch.float32, is_shared=True),\n",
       "        bso3: Tensor(shape=torch.Size([1005606, 1]), device=cuda:0, dtype=torch.float32, is_shared=True),\n",
       "        ced1: Tensor(shape=torch.Size([1005606, 1]), device=cuda:0, dtype=torch.float32, is_shared=True),\n",
       "        cfo1: Tensor(shape=torch.Size([1005606, 1]), device=cuda:0, dtype=torch.float32, is_shared=True),\n",
       "        cso1: Tensor(shape=torch.Size([1005606, 1]), device=cuda:0, dtype=torch.float32, is_shared=True)},\n",
       "    batch_size=torch.Size([1005606]),\n",
       "    device=cuda:0,\n",
       "    is_shared=True)"
      ]
     },
     "execution_count": 146,
     "metadata": {},
     "output_type": "execute_result"
    }
   ],
   "source": [
    "# Cast data to torch tensors\n",
    "data_tensors = {}\n",
    "\n",
    "for i in range(cats_np.shape[1]):\n",
    "    data_tensors[out_cols[i]] = torch.tensor(cats_np[:, i].reshape(-1, 1))\n",
    "    \n",
    "dataset_train = TensorDict(data_tensors, torch.Size([cats_np.shape[0]]))\n",
    "    \n",
    "# Move the entire dataset to the device (for big datasets move to device by batch within training loop)\n",
    "dataset_train = dataset_train.apply(lambda t: t.to(dtype=torch.float32, device=device)).to(device)\n",
    "\n",
    "\n",
    "# Create loader\n",
    "dataloader_train = DataLoader(\n",
    "    dataset=dataset_train,\n",
    "    collate_fn=lambda x: x,\n",
    "    batch_size=training_config.batch_size,\n",
    "    shuffle=True,\n",
    "    drop_last=False,\n",
    ")\n",
    "\n",
    "dataset_train"
   ]
  },
  {
   "cell_type": "code",
   "execution_count": 147,
   "id": "173b4649-9aff-4eea-903e-9601035ab259",
   "metadata": {},
   "outputs": [],
   "source": [
    "# Training config\n",
    "@dataclass(frozen=True)\n",
    "class TrainingConfig:\n",
    "    noise_dist=cd.ContinuousNoiseDist.SPLINE\n",
    "    batch_size=512\n",
    "    max_epoch=500\n",
    "    gumbel_temp=0.25\n",
    "    averaging_period=10\n",
    "    prior_sparsity_lambda=5.0\n",
    "    init_rho=1.0\n",
    "    init_alpha=0.0\n",
    "        \n",
    "training_config = TrainingConfig()\n",
    "auglag_config = AugLagLRConfig()"
   ]
  },
  {
   "cell_type": "code",
   "execution_count": 148,
   "id": "e04d6097-61db-4de4-8d3b-707cc273ae60",
   "metadata": {},
   "outputs": [
    {
     "data": {
      "image/png": "[encoded data removed]",
      "text/plain": [
       "<Figure size 400x300 with 2 Axes>"
      ]
     },
     "metadata": {},
     "output_type": "display_data"
    }
   ],
   "source": [
    "# Plot the true adj matrix\n",
    "plt.style.use('default')\n",
    "GraphDAG(adj_matrix)\n",
    "plt.show()"
   ]
  },
  {
   "cell_type": "code",
   "execution_count": 149,
   "id": "ff6ad2de-b1e9-4ff4-8edb-be55edee65e9",
   "metadata": {},
   "outputs": [],
   "source": [
    "# Encode our strong belief about the existence of the edge (3, 0) \n",
    "# And lack of existence of edge (0, 3)\n",
    "expert_matrix = torch.tensor(np.zeros(adj_matrix.shape)).to(device)\n",
    "\n",
    "# Encode the edge knowledge\n",
    "expert_matrix[3, 0] = 1.\n",
    "\n",
    "# Create a relevancew mask\n",
    "relevance_mask = expert_matrix.clone()\n",
    "relevance_mask[0, 3] = 1.\n",
    "\n",
    "# Create a confidence matrix\n",
    "confidence_matrix = relevance_mask.clone()"
   ]
  },
  {
   "cell_type": "code",
   "execution_count": 150,
   "id": "cbd27187-fcad-47a1-a7fc-ebe766da1d5f",
   "metadata": {},
   "outputs": [],
   "source": [
    "# Encapsulate everything within the expert knowledge container\n",
    "expert_knowledge = cd.ExpertGraphContainer(\n",
    "    dag=expert_matrix,\n",
    "    mask=relevance_mask,\n",
    "    confidence=confidence_matrix,\n",
    "    scale=5.\n",
    ").to(device)"
   ]
  },
  {
   "cell_type": "code",
   "execution_count": 151,
   "id": "53fa5717-431c-4997-a5cd-a2f0842deaec",
   "metadata": {},
   "outputs": [],
   "source": [
    "num_nodes = len(dataset_train.keys())\n",
    "\n",
    "# Define the prior\n",
    "prior = cd.GibbsDAGPrior(\n",
    "    num_nodes=num_nodes, \n",
    "    sparsity_lambda=training_config.prior_sparsity_lambda,\n",
    "   # expert_graph_container=expert_knowledge\n",
    ")"
   ]
  },
  {
   "cell_type": "code",
   "execution_count": 152,
   "id": "f4a3fb54-86a9-430e-8668-baffbf8b35c9",
   "metadata": {},
   "outputs": [],
   "source": [
    "# Define the adjaceny module\n",
    "adjacency_dist = cd.ENCOAdjacencyDistributionModule(num_nodes)\n",
    "\n",
    "#Define the functional module\n",
    "icgnn = ICGNN(\n",
    "    variables=tensordict_shapes(dataset_train),\n",
    "    embedding_size=8, #32,\n",
    "    out_dim_g=8, #32,\n",
    "    norm_layer=torch.nn.LayerNorm,\n",
    "    res_connection=True,\n",
    ")\n",
    "\n",
    "# Define the noise module\n",
    "types_dict = {var_name: VariableTypeEnum.CONTINUOUS for var_name in dataset_train.keys()}\n",
    "\n",
    "noise_submodules = cd.create_noise_modules(\n",
    "    shapes=tensordict_shapes(dataset_train), \n",
    "    types=types_dict, \n",
    "    continuous_noise_dist=training_config.noise_dist\n",
    ")\n",
    "\n",
    "noise_module = cd.JointNoiseModule(noise_submodules)"
   ]
  },
  {
   "cell_type": "code",
   "execution_count": 153,
   "id": "e85172a2-a6af-4354-9e22-6c3066664dc8",
   "metadata": {},
   "outputs": [
    {
     "data": {
      "text/plain": [
       "{'aimp': SplineNoiseModule(\n",
       "   (composite_spline_layers): ModuleList(\n",
       "     (0-1): 2 x CompositeSplineLayer()\n",
       "   )\n",
       " ),\n",
       " 'amud': SplineNoiseModule(\n",
       "   (composite_spline_layers): ModuleList(\n",
       "     (0-1): 2 x CompositeSplineLayer()\n",
       "   )\n",
       " ),\n",
       " 'arnd': SplineNoiseModule(\n",
       "   (composite_spline_layers): ModuleList(\n",
       "     (0-1): 2 x CompositeSplineLayer()\n",
       "   )\n",
       " ),\n",
       " 'asin1': SplineNoiseModule(\n",
       "   (composite_spline_layers): ModuleList(\n",
       "     (0-1): 2 x CompositeSplineLayer()\n",
       "   )\n",
       " ),\n",
       " 'asin2': SplineNoiseModule(\n",
       "   (composite_spline_layers): ModuleList(\n",
       "     (0-1): 2 x CompositeSplineLayer()\n",
       "   )\n",
       " ),\n",
       " 'adbr': SplineNoiseModule(\n",
       "   (composite_spline_layers): ModuleList(\n",
       "     (0-1): 2 x CompositeSplineLayer()\n",
       "   )\n",
       " ),\n",
       " 'adfl': SplineNoiseModule(\n",
       "   (composite_spline_layers): ModuleList(\n",
       "     (0-1): 2 x CompositeSplineLayer()\n",
       "   )\n",
       " ),\n",
       " 'bed1': SplineNoiseModule(\n",
       "   (composite_spline_layers): ModuleList(\n",
       "     (0-1): 2 x CompositeSplineLayer()\n",
       "   )\n",
       " ),\n",
       " 'bed2': SplineNoiseModule(\n",
       "   (composite_spline_layers): ModuleList(\n",
       "     (0-1): 2 x CompositeSplineLayer()\n",
       "   )\n",
       " ),\n",
       " 'bfo1': SplineNoiseModule(\n",
       "   (composite_spline_layers): ModuleList(\n",
       "     (0-1): 2 x CompositeSplineLayer()\n",
       "   )\n",
       " ),\n",
       " 'bfo2': SplineNoiseModule(\n",
       "   (composite_spline_layers): ModuleList(\n",
       "     (0-1): 2 x CompositeSplineLayer()\n",
       "   )\n",
       " ),\n",
       " 'bso1': SplineNoiseModule(\n",
       "   (composite_spline_layers): ModuleList(\n",
       "     (0-1): 2 x CompositeSplineLayer()\n",
       "   )\n",
       " ),\n",
       " 'bso2': SplineNoiseModule(\n",
       "   (composite_spline_layers): ModuleList(\n",
       "     (0-1): 2 x CompositeSplineLayer()\n",
       "   )\n",
       " ),\n",
       " 'bso3': SplineNoiseModule(\n",
       "   (composite_spline_layers): ModuleList(\n",
       "     (0-1): 2 x CompositeSplineLayer()\n",
       "   )\n",
       " ),\n",
       " 'ced1': SplineNoiseModule(\n",
       "   (composite_spline_layers): ModuleList(\n",
       "     (0-1): 2 x CompositeSplineLayer()\n",
       "   )\n",
       " ),\n",
       " 'cfo1': SplineNoiseModule(\n",
       "   (composite_spline_layers): ModuleList(\n",
       "     (0-1): 2 x CompositeSplineLayer()\n",
       "   )\n",
       " ),\n",
       " 'cso1': SplineNoiseModule(\n",
       "   (composite_spline_layers): ModuleList(\n",
       "     (0-1): 2 x CompositeSplineLayer()\n",
       "   )\n",
       " )}"
      ]
     },
     "execution_count": 153,
     "metadata": {},
     "output_type": "execute_result"
    }
   ],
   "source": [
    "noise_submodules"
   ]
  },
  {
   "cell_type": "code",
   "execution_count": 154,
   "id": "709ab90f-0368-44ff-b8f6-385ea33c9891",
   "metadata": {},
   "outputs": [
    {
     "data": {
      "text/plain": [
       "SEMDistributionModule(\n",
       "  (adjacency_module): ENCOAdjacencyDistributionModule()\n",
       "  (functional_relationships): ICGNN(\n",
       "    (nn): FGNNI(\n",
       "      (g): Sequential(\n",
       "        (0): Sequential(\n",
       "          (0): Linear(in_features=25, out_features=68, bias=True)\n",
       "          (1): LeakyReLU(negative_slope=0.01)\n",
       "        )\n",
       "        (1): _ResBlock(\n",
       "          (block): Sequential(\n",
       "            (0): LayerNorm((68,), eps=1e-05, elementwise_affine=True)\n",
       "            (1): Linear(in_features=68, out_features=68, bias=True)\n",
       "            (2): LeakyReLU(negative_slope=0.01)\n",
       "          )\n",
       "        )\n",
       "        (2): LayerNorm((68,), eps=1e-05, elementwise_affine=True)\n",
       "        (3): Linear(in_features=68, out_features=8, bias=True)\n",
       "        (4): Identity()\n",
       "      )\n",
       "      (f): Sequential(\n",
       "        (0): Sequential(\n",
       "          (0): Linear(in_features=16, out_features=68, bias=True)\n",
       "          (1): LeakyReLU(negative_slope=0.01)\n",
       "        )\n",
       "        (1): _ResBlock(\n",
       "          (block): Sequential(\n",
       "            (0): LayerNorm((68,), eps=1e-05, elementwise_affine=True)\n",
       "            (1): Linear(in_features=68, out_features=68, bias=True)\n",
       "            (2): LeakyReLU(negative_slope=0.01)\n",
       "          )\n",
       "        )\n",
       "        (2): LayerNorm((68,), eps=1e-05, elementwise_affine=True)\n",
       "        (3): Linear(in_features=68, out_features=17, bias=True)\n",
       "        (4): Identity()\n",
       "      )\n",
       "    )\n",
       "  )\n",
       "  (noise_module): JointNoiseModule(\n",
       "    (noise_modules): ModuleDict(\n",
       "      (aimp): SplineNoiseModule(\n",
       "        (composite_spline_layers): ModuleList(\n",
       "          (0-1): 2 x CompositeSplineLayer()\n",
       "        )\n",
       "      )\n",
       "      (amud): SplineNoiseModule(\n",
       "        (composite_spline_layers): ModuleList(\n",
       "          (0-1): 2 x CompositeSplineLayer()\n",
       "        )\n",
       "      )\n",
       "      (arnd): SplineNoiseModule(\n",
       "        (composite_spline_layers): ModuleList(\n",
       "          (0-1): 2 x CompositeSplineLayer()\n",
       "        )\n",
       "      )\n",
       "      (asin1): SplineNoiseModule(\n",
       "        (composite_spline_layers): ModuleList(\n",
       "          (0-1): 2 x CompositeSplineLayer()\n",
       "        )\n",
       "      )\n",
       "      (asin2): SplineNoiseModule(\n",
       "        (composite_spline_layers): ModuleList(\n",
       "          (0-1): 2 x CompositeSplineLayer()\n",
       "        )\n",
       "      )\n",
       "      (adbr): SplineNoiseModule(\n",
       "        (composite_spline_layers): ModuleList(\n",
       "          (0-1): 2 x CompositeSplineLayer()\n",
       "        )\n",
       "      )\n",
       "      (adfl): SplineNoiseModule(\n",
       "        (composite_spline_layers): ModuleList(\n",
       "          (0-1): 2 x CompositeSplineLayer()\n",
       "        )\n",
       "      )\n",
       "      (bed1): SplineNoiseModule(\n",
       "        (composite_spline_layers): ModuleList(\n",
       "          (0-1): 2 x CompositeSplineLayer()\n",
       "        )\n",
       "      )\n",
       "      (bed2): SplineNoiseModule(\n",
       "        (composite_spline_layers): ModuleList(\n",
       "          (0-1): 2 x CompositeSplineLayer()\n",
       "        )\n",
       "      )\n",
       "      (bfo1): SplineNoiseModule(\n",
       "        (composite_spline_layers): ModuleList(\n",
       "          (0-1): 2 x CompositeSplineLayer()\n",
       "        )\n",
       "      )\n",
       "      (bfo2): SplineNoiseModule(\n",
       "        (composite_spline_layers): ModuleList(\n",
       "          (0-1): 2 x CompositeSplineLayer()\n",
       "        )\n",
       "      )\n",
       "      (bso1): SplineNoiseModule(\n",
       "        (composite_spline_layers): ModuleList(\n",
       "          (0-1): 2 x CompositeSplineLayer()\n",
       "        )\n",
       "      )\n",
       "      (bso2): SplineNoiseModule(\n",
       "        (composite_spline_layers): ModuleList(\n",
       "          (0-1): 2 x CompositeSplineLayer()\n",
       "        )\n",
       "      )\n",
       "      (bso3): SplineNoiseModule(\n",
       "        (composite_spline_layers): ModuleList(\n",
       "          (0-1): 2 x CompositeSplineLayer()\n",
       "        )\n",
       "      )\n",
       "      (ced1): SplineNoiseModule(\n",
       "        (composite_spline_layers): ModuleList(\n",
       "          (0-1): 2 x CompositeSplineLayer()\n",
       "        )\n",
       "      )\n",
       "      (cfo1): SplineNoiseModule(\n",
       "        (composite_spline_layers): ModuleList(\n",
       "          (0-1): 2 x CompositeSplineLayer()\n",
       "        )\n",
       "      )\n",
       "      (cso1): SplineNoiseModule(\n",
       "        (composite_spline_layers): ModuleList(\n",
       "          (0-1): 2 x CompositeSplineLayer()\n",
       "        )\n",
       "      )\n",
       "    )\n",
       "  )\n",
       ")"
      ]
     },
     "execution_count": 154,
     "metadata": {},
     "output_type": "execute_result"
    }
   ],
   "source": [
    "# Combine all SEM modules\n",
    "sem_module = cd.SEMDistributionModule(\n",
    "    adjacency_module=adjacency_dist, \n",
    "    functional_relationships=icgnn, \n",
    "    noise_module=noise_module)\n",
    "\n",
    "sem_module.to('cuda:0')"
   ]
  },
  {
   "cell_type": "code",
   "execution_count": 155,
   "id": "88cd28ec-dc15-4617-aaff-eac87ee7e15c",
   "metadata": {},
   "outputs": [],
   "source": [
    "modules = {\n",
    "    \"icgnn\": sem_module.functional_relationships,\n",
    "    \"vardist\": sem_module.adjacency_module,\n",
    "    \"noise_dist\": sem_module.noise_module,\n",
    "}\n",
    "\n",
    "parameter_list = [\n",
    "    {\"params\": module.parameters(), \"lr\": auglag_config.lr_init_dict[name], \"name\": name}\n",
    "    for name, module in modules.items()\n",
    "]\n",
    "\n",
    "# Define the optimizer\n",
    "optimizer = torch.optim.Adam(parameter_list)"
   ]
  },
  {
   "cell_type": "code",
   "execution_count": 156,
   "id": "b781040a-d1c9-47c5-88b1-a89b700fce02",
   "metadata": {},
   "outputs": [],
   "source": [
    "# Define the augmented Lagrangian loss objects\n",
    "scheduler = AugLagLR(config=auglag_config)\n",
    "\n",
    "auglag_loss = AugLagLossCalculator(\n",
    "    init_alpha=training_config.init_alpha, \n",
    "    init_rho=training_config.init_rho\n",
    ")"
   ]
  },
  {
   "cell_type": "code",
   "execution_count": null,
   "id": "ef5f2aba-fdba-4430-8c3b-4465d9b3e22a",
   "metadata": {},
   "outputs": [
    {
     "name": "stdout",
     "output_type": "stream",
     "text": [
      "epoch:0 loss:21.067 nll:21.067 dagness:44.19686 num_edges:69 alpha:0 rho:1 step:0|1 num_lr_updates:0\n"
     ]
    },
    {
     "data": {
      "image/png": "[encoded data removed]",
      "text/plain": [
       "<Figure size 400x300 with 2 Axes>"
      ]
     },
     "metadata": {},
     "output_type": "display_data"
    },
    {
     "name": "stdout",
     "output_type": "stream",
     "text": [
      "Updating alpha to: 137.93170166015625\n",
      "Updating alpha to: 190.18479919433594\n",
      "Updating alpha to: 212.89134979248047\n",
      "Updating rho, dag penalty prev:  22.7065505981\n",
      "Updating rho, dag penalty prev:  22.7065505981\n",
      "Updating alpha to: 1680.8736419677734\n",
      "Updating rho, dag penalty prev:  14.6798229218\n",
      "Updating alpha to: 6802.665481567383\n",
      "Updating rho, dag penalty prev:  5.1217918396\n",
      "Updating rho, dag penalty prev:  5.1217918396\n",
      "epoch:10 loss:-38.032 nll:-38.057 dagness:3.69634 num_edges:62 alpha:6802.7 rho:1e+05 step:10|1382 num_lr_updates:1\n"
     ]
    },
    {
     "data": {
      "image/png": "[encoded data removed]",
      "text/plain": [
       "<Figure size 400x300 with 2 Axes>"
      ]
     },
     "metadata": {},
     "output_type": "display_data"
    },
    {
     "name": "stdout",
     "output_type": "stream",
     "text": [
      "Updating rho, dag penalty prev:  5.1217918396\n",
      "Updating alpha to: 1327756.0346221924\n",
      "Updating alpha to: 2041977.9889678955\n",
      "Updating alpha to: 2208741.294631958\n",
      "Updating rho, dag penalty prev:  0.1667633057\n",
      "Updating rho, dag penalty prev:  0.1667633057\n",
      "Updating rho, dag penalty prev:  0.1667633057\n",
      "Updating rho, dag penalty prev:  0.1667633057\n",
      "epoch:20 loss:-22.408 nll:-22.775 dagness:0.16676 num_edges:63 alpha:2.2087e+06 rho:1e+10 step:18|1267 num_lr_updates:1\n"
     ]
    },
    {
     "data": {
      "image/png": "[encoded data removed]",
      "text/plain": [
       "<Figure size 400x300 with 2 Axes>"
      ]
     },
     "metadata": {},
     "output_type": "display_data"
    },
    {
     "name": "stdout",
     "output_type": "stream",
     "text": [
      "Updating rho, dag penalty prev:  0.1667633057\n",
      "Updating rho, dag penalty prev:  0.1667633057\n",
      "Updating rho, dag penalty prev:  0.1667633057\n",
      "Updating alpha to: 55218532.36579895\n",
      "Updating alpha to: 1380463309.1449738\n",
      "Updating alpha to: 34511582728.624344\n",
      "Updating alpha to: 862789568215.6085\n",
      "epoch:30 loss:-19.94 nll:-19.941 dagness:0.00000 num_edges:63 alpha:4.3139e+12 rho:1e+13 step:25|960 num_lr_updates:0\n"
     ]
    },
    {
     "data": {
      "image/png": "[encoded data removed]",
      "text/plain": [
       "<Figure size 400x300 with 2 Axes>"
      ]
     },
     "metadata": {},
     "output_type": "display_data"
    },
    {
     "name": "stdout",
     "output_type": "stream",
     "text": [
      "Updating alpha to: 21569739205390.21\n",
      "epoch:40 loss:-22.855 nll:-22.856 dagness:0.00000 num_edges:62 alpha:1e+13 rho:1e+13 step:26|17610 num_lr_updates:1\n"
     ]
    },
    {
     "data": {
      "image/png": "[encoded data removed]",
      "text/plain": [
       "<Figure size 400x300 with 2 Axes>"
      ]
     },
     "metadata": {},
     "output_type": "display_data"
    },
    {
     "name": "stdout",
     "output_type": "stream",
     "text": [
      "epoch:50 loss:-22.767 nll:-22.768 dagness:0.00000 num_edges:62 alpha:1e+13 rho:1e+13 step:26|37260 num_lr_updates:1\n"
     ]
    },
    {
     "data": {
      "image/png": "[encoded data removed]",
      "text/plain": [
       "<Figure size 400x300 with 2 Axes>"
      ]
     },
     "metadata": {},
     "output_type": "display_data"
    },
    {
     "name": "stdout",
     "output_type": "stream",
     "text": [
      "epoch:60 loss:-22.903 nll:-22.904 dagness:0.00000 num_edges:66 alpha:1e+13 rho:1e+13 step:26|56910 num_lr_updates:1\n"
     ]
    },
    {
     "data": {
      "image/png": "[encoded data removed]",
      "text/plain": [
       "<Figure size 400x300 with 2 Axes>"
      ]
     },
     "metadata": {},
     "output_type": "display_data"
    },
    {
     "name": "stdout",
     "output_type": "stream",
     "text": [
      "epoch:70 loss:-22.626 nll:-22.626 dagness:0.00000 num_edges:66 alpha:1e+13 rho:1e+13 step:26|76560 num_lr_updates:1\n"
     ]
    },
    {
     "data": {
      "image/png": "[encoded data removed]",
      "text/plain": [
       "<Figure size 400x300 with 2 Axes>"
      ]
     },
     "metadata": {},
     "output_type": "display_data"
    }
   ],
   "source": [
    "assert len(dataset_train.batch_size) == 1, \"Only 1D batch size is supported\"\n",
    "\n",
    "num_samples = len(dataset_train)\n",
    "\n",
    "for epoch in range(training_config.max_epoch):\n",
    "    \n",
    "    for i, batch in enumerate(dataloader_train):\n",
    "        \n",
    "        # Zero the gradients\n",
    "        optimizer.zero_grad()\n",
    "        \n",
    "        # Get SEM \n",
    "        sem_distribution = sem_module()\n",
    "        sem, *_ = sem_distribution.relaxed_sample(\n",
    "            torch.Size([]), \n",
    "            temperature=training_config.gumbel_temp\n",
    "        )  # soft sample\n",
    "        \n",
    "        # Compute the log probability of data\n",
    "        batch_log_prob = sem.log_prob(batch).mean()\n",
    "        \n",
    "        # Get the distribution entropy\n",
    "        sem_distribution_entropy = sem_distribution.entropy()\n",
    "        \n",
    "        # Compute the likelihood of the current graph\n",
    "        prior_term = prior.log_prob(sem.graph.to(device))\n",
    "        \n",
    "        # Compute the objective\n",
    "        objective = (-sem_distribution_entropy - prior_term) / num_samples - batch_log_prob\n",
    "        \n",
    "        # Compute the DAG-ness term\n",
    "        constraint = calculate_dagness(sem.graph)\n",
    "        \n",
    "        # Compute the Lagrangian loss\n",
    "        loss = auglag_loss(objective, constraint / num_samples)\n",
    "\n",
    "        # Propagate gradients and update\n",
    "        loss.backward()\n",
    "        optimizer.step()\n",
    "        \n",
    "        # Update the Auglag parameters\n",
    "        scheduler.step(\n",
    "            optimizer=optimizer,\n",
    "            loss=auglag_loss,\n",
    "            loss_value=loss.item(),\n",
    "            lagrangian_penalty=constraint.item(),\n",
    "        )\n",
    "        \n",
    "        # Log metrics & plot the matrices\n",
    "        if epoch % 10 == 0 and i == 0:\n",
    "            print(\n",
    "                f\"epoch:{epoch} loss:{loss.item():.5g} nll:{-batch_log_prob.detach().cpu().numpy():.5g} \"\n",
    "                f\"dagness:{constraint.item():.5f} num_edges:{(sem.graph > 0.0).sum()} \"\n",
    "                f\"alpha:{auglag_loss.alpha:.5g} rho:{auglag_loss.rho:.5g} \"\n",
    "                f\"step:{scheduler.outer_opt_counter}|{scheduler.step_counter} \"\n",
    "                f\"num_lr_updates:{scheduler.num_lr_updates}\"\n",
    "            )\n",
    "            \n",
    "            vardist = adjacency_dist()\n",
    "            pred_dag = vardist.mode.cpu().numpy()\n",
    "\n",
    "            plt.style.use('default')\n",
    "\n",
    "            GraphDAG(\n",
    "                est_dag=pred_dag)\n",
    "\n",
    "            plt.show()"
   ]
  },
  {
   "cell_type": "code",
   "execution_count": null,
   "id": "c57c6639-bb9e-4431-97e3-e11770ee436e",
   "metadata": {},
   "outputs": [],
   "source": []
  }
 ],
 "metadata": {
  "kernelspec": {
   "display_name": "Python 3 (ipykernel)",
   "language": "python",
   "name": "python3"
  },
  "language_info": {
   "codemirror_mode": {
    "name": "ipython",
    "version": 3
   },
   "file_extension": ".py",
   "mimetype": "text/x-python",
   "name": "python",
   "nbconvert_exporter": "python",
   "pygments_lexer": "ipython3",
   "version": "3.9.19"
  }
 },
 "nbformat": 4,
 "nbformat_minor": 5
}
