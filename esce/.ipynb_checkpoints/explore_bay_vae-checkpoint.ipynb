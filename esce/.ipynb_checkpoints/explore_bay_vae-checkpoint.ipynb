{
 "cells": [
  {
   "cell_type": "code",
   "execution_count": 1,
   "id": "6dffde21-aa42-4f4d-b368-f006e8592bd7",
   "metadata": {},
   "outputs": [],
   "source": [
    "import os\n",
    "import torch\n",
    "import polars as pl\n",
    "import numpy as np\n",
    "import seaborn as sns\n",
    "import warnings\n",
    "from feature_eng.scalers import ranged_scaler\n",
    "warnings.filterwarnings(\"ignore\", category=UserWarning) "
   ]
  },
  {
   "cell_type": "code",
   "execution_count": 2,
   "id": "c390f8eb-8264-459d-b5f2-1de365e6c223",
   "metadata": {},
   "outputs": [],
   "source": [
    "cats_df = pl.read_csv(\"data/data.csv\", separator=\",\")  "
   ]
  },
  {
   "cell_type": "code",
   "execution_count": 3,
   "id": "819b9f17-5bc3-49ee-b48d-a4e155ad96d1",
   "metadata": {},
   "outputs": [],
   "source": [
    "metadata = pl.read_csv('data/metadata.csv',separator=',')\n"
   ]
  },
  {
   "cell_type": "code",
   "execution_count": 4,
   "id": "084c6abc-d959-409e-a4cc-693eb02edd10",
   "metadata": {},
   "outputs": [
    {
     "data": {
      "text/html": [
       "<div><style>\n",
       ".dataframe > thead > tr > th,\n",
       ".dataframe > tbody > tr > td {\n",
       "  text-align: right;\n",
       "  white-space: pre-wrap;\n",
       "}\n",
       "</style>\n",
       "<small>shape: (5, 20)</small><table border=\"1\" class=\"dataframe\"><thead><tr><th>timestamp</th><th>aimp</th><th>amud</th><th>arnd</th><th>asin1</th><th>asin2</th><th>adbr</th><th>adfl</th><th>bed1</th><th>bed2</th><th>bfo1</th><th>bfo2</th><th>bso1</th><th>bso2</th><th>bso3</th><th>ced1</th><th>cfo1</th><th>cso1</th><th>y</th><th>category</th></tr><tr><td>str</td><td>f64</td><td>f64</td><td>f64</td><td>f64</td><td>f64</td><td>f64</td><td>f64</td><td>f64</td><td>f64</td><td>f64</td><td>f64</td><td>f64</td><td>f64</td><td>f64</td><td>f64</td><td>f64</td><td>f64</td><td>f64</td><td>f64</td></tr></thead><tbody><tr><td>&quot;2023-01-01 00:…</td><td>0.0</td><td>1.0</td><td>20.0</td><td>0.0</td><td>0.0</td><td>0.0</td><td>0.0</td><td>0.0</td><td>0.0</td><td>0.0</td><td>0.0</td><td>0.0</td><td>0.0</td><td>0.0</td><td>0.0</td><td>0.0</td><td>0.0</td><td>0.0</td><td>0.0</td></tr><tr><td>&quot;2023-01-01 00:…</td><td>0.0</td><td>1.0</td><td>20.080031</td><td>0.00002</td><td>0.0002</td><td>0.0</td><td>0.0</td><td>0.0</td><td>0.0</td><td>0.0</td><td>4.9939e-7</td><td>0.000789</td><td>0.0</td><td>0.0</td><td>0.0</td><td>0.000021</td><td>0.001229</td><td>0.0</td><td>0.0</td></tr><tr><td>&quot;2023-01-01 00:…</td><td>0.0</td><td>1.0</td><td>20.276562</td><td>0.00004</td><td>0.0004</td><td>0.0</td><td>0.0</td><td>0.0</td><td>0.0</td><td>0.0</td><td>0.000001</td><td>0.003115</td><td>0.0</td><td>0.0</td><td>0.0</td><td>0.000104</td><td>0.004833</td><td>0.0</td><td>0.0</td></tr><tr><td>&quot;2023-01-01 00:…</td><td>0.0</td><td>1.0</td><td>20.730938</td><td>0.00006</td><td>0.0006</td><td>0.0</td><td>0.0</td><td>0.0</td><td>0.0</td><td>0.0</td><td>0.000003</td><td>0.006914</td><td>0.0</td><td>0.0</td><td>0.0</td><td>0.000285</td><td>0.010688</td><td>0.0</td><td>0.0</td></tr><tr><td>&quot;2023-01-01 00:…</td><td>0.0</td><td>1.0</td><td>21.118101</td><td>0.00008</td><td>0.0008</td><td>0.0</td><td>0.0</td><td>0.0</td><td>0.0</td><td>0.0</td><td>0.000005</td><td>0.012123</td><td>0.0</td><td>0.0</td><td>0.0</td><td>0.000601</td><td>0.018669</td><td>0.0</td><td>0.0</td></tr></tbody></table></div>"
      ],
      "text/plain": [
       "shape: (5, 20)\n",
       "┌─────────────────────┬──────┬──────┬───────────┬───┬──────────┬──────────┬─────┬──────────┐\n",
       "│ timestamp           ┆ aimp ┆ amud ┆ arnd      ┆ … ┆ cfo1     ┆ cso1     ┆ y   ┆ category │\n",
       "│ ---                 ┆ ---  ┆ ---  ┆ ---       ┆   ┆ ---      ┆ ---      ┆ --- ┆ ---      │\n",
       "│ str                 ┆ f64  ┆ f64  ┆ f64       ┆   ┆ f64      ┆ f64      ┆ f64 ┆ f64      │\n",
       "╞═════════════════════╪══════╪══════╪═══════════╪═══╪══════════╪══════════╪═════╪══════════╡\n",
       "│ 2023-01-01 00:00:00 ┆ 0.0  ┆ 1.0  ┆ 20.0      ┆ … ┆ 0.0      ┆ 0.0      ┆ 0.0 ┆ 0.0      │\n",
       "│ 2023-01-01 00:00:01 ┆ 0.0  ┆ 1.0  ┆ 20.080031 ┆ … ┆ 0.000021 ┆ 0.001229 ┆ 0.0 ┆ 0.0      │\n",
       "│ 2023-01-01 00:00:02 ┆ 0.0  ┆ 1.0  ┆ 20.276562 ┆ … ┆ 0.000104 ┆ 0.004833 ┆ 0.0 ┆ 0.0      │\n",
       "│ 2023-01-01 00:00:03 ┆ 0.0  ┆ 1.0  ┆ 20.730938 ┆ … ┆ 0.000285 ┆ 0.010688 ┆ 0.0 ┆ 0.0      │\n",
       "│ 2023-01-01 00:00:04 ┆ 0.0  ┆ 1.0  ┆ 21.118101 ┆ … ┆ 0.000601 ┆ 0.018669 ┆ 0.0 ┆ 0.0      │\n",
       "└─────────────────────┴──────┴──────┴───────────┴───┴──────────┴──────────┴─────┴──────────┘"
      ]
     },
     "execution_count": 4,
     "metadata": {},
     "output_type": "execute_result"
    }
   ],
   "source": [
    "cats_df.head()"
   ]
  },
  {
   "cell_type": "code",
   "execution_count": 5,
   "id": "8b6eac40-7c24-4108-8c8c-76e3fa914456",
   "metadata": {},
   "outputs": [
    {
     "data": {
      "text/html": [
       "<div><style>\n",
       ".dataframe > thead > tr > th,\n",
       ".dataframe > tbody > tr > td {\n",
       "  text-align: right;\n",
       "  white-space: pre-wrap;\n",
       "}\n",
       "</style>\n",
       "<small>shape: (5, 5)</small><table border=\"1\" class=\"dataframe\"><thead><tr><th>start_time</th><th>end_time</th><th>root_cause</th><th>affected</th><th>category</th></tr><tr><td>str</td><td>str</td><td>str</td><td>str</td><td>i64</td></tr></thead><tbody><tr><td>&quot;2023-01-12 15:…</td><td>&quot;2023-01-12 15:…</td><td>&quot;bso3&quot;</td><td>&quot;[&#x27;cfo1&#x27;]&quot;</td><td>12</td></tr><tr><td>&quot;2023-01-12 16:…</td><td>&quot;2023-01-12 17:…</td><td>&quot;bso3&quot;</td><td>&quot;[&#x27;cfo1&#x27;]&quot;</td><td>1</td></tr><tr><td>&quot;2023-01-12 18:…</td><td>&quot;2023-01-12 18:…</td><td>&quot;bfo2&quot;</td><td>&quot;[&#x27;cso1&#x27;]&quot;</td><td>8</td></tr><tr><td>&quot;2023-01-12 20:…</td><td>&quot;2023-01-12 20:…</td><td>&quot;bed2&quot;</td><td>&quot;[&#x27;ced1&#x27;]&quot;</td><td>7</td></tr><tr><td>&quot;2023-01-13 05:…</td><td>&quot;2023-01-13 06:…</td><td>&quot;bfo1&quot;</td><td>&quot;[&#x27;cfo1&#x27;]&quot;</td><td>9</td></tr></tbody></table></div>"
      ],
      "text/plain": [
       "shape: (5, 5)\n",
       "┌─────────────────────┬─────────────────────┬────────────┬──────────┬──────────┐\n",
       "│ start_time          ┆ end_time            ┆ root_cause ┆ affected ┆ category │\n",
       "│ ---                 ┆ ---                 ┆ ---        ┆ ---      ┆ ---      │\n",
       "│ str                 ┆ str                 ┆ str        ┆ str      ┆ i64      │\n",
       "╞═════════════════════╪═════════════════════╪════════════╪══════════╪══════════╡\n",
       "│ 2023-01-12 15:11:45 ┆ 2023-01-12 15:20:05 ┆ bso3       ┆ ['cfo1'] ┆ 12       │\n",
       "│ 2023-01-12 16:27:46 ┆ 2023-01-12 17:51:06 ┆ bso3       ┆ ['cfo1'] ┆ 1        │\n",
       "│ 2023-01-12 18:19:35 ┆ 2023-01-12 18:36:15 ┆ bfo2       ┆ ['cso1'] ┆ 8        │\n",
       "│ 2023-01-12 20:46:32 ┆ 2023-01-12 20:51:32 ┆ bed2       ┆ ['ced1'] ┆ 7        │\n",
       "│ 2023-01-13 05:57:10 ┆ 2023-01-13 06:02:10 ┆ bfo1       ┆ ['cfo1'] ┆ 9        │\n",
       "└─────────────────────┴─────────────────────┴────────────┴──────────┴──────────┘"
      ]
     },
     "execution_count": 5,
     "metadata": {},
     "output_type": "execute_result"
    }
   ],
   "source": [
    "metadata.head()\n"
   ]
  },
  {
   "cell_type": "code",
   "execution_count": 6,
   "id": "3bf79826-0fcf-4c87-99fe-8132a81cac9c",
   "metadata": {},
   "outputs": [],
   "source": [
    "for col in cats_df.columns:\n",
    "    unique_vals = cats_df[col].n_unique()\n",
    "    data_type = cats_df[col].dtype\n",
    "    bad_dtypes = [pl.Date,pl.Datetime,pl.Utf8]\n",
    "    if ((unique_vals >= 50) & (data_type not in bad_dtypes) ):\n",
    "        cats_df = cats_df.with_columns(ranged_scaler(cats_df[col]))\n",
    "    else:\n",
    "        continue"
   ]
  },
  {
   "cell_type": "code",
   "execution_count": 7,
   "id": "664248d7-e960-4bcc-a36f-feed0915603c",
   "metadata": {},
   "outputs": [
    {
     "data": {
      "text/html": [
       "<div><style>\n",
       ".dataframe > thead > tr > th,\n",
       ".dataframe > tbody > tr > td {\n",
       "  text-align: right;\n",
       "  white-space: pre-wrap;\n",
       "}\n",
       "</style>\n",
       "<small>shape: (5, 20)</small><table border=\"1\" class=\"dataframe\"><thead><tr><th>timestamp</th><th>aimp</th><th>amud</th><th>arnd</th><th>asin1</th><th>asin2</th><th>adbr</th><th>adfl</th><th>bed1</th><th>bed2</th><th>bfo1</th><th>bfo2</th><th>bso1</th><th>bso2</th><th>bso3</th><th>ced1</th><th>cfo1</th><th>cso1</th><th>y</th><th>category</th></tr><tr><td>str</td><td>f64</td><td>f64</td><td>f64</td><td>f64</td><td>f64</td><td>f64</td><td>f64</td><td>f64</td><td>f64</td><td>f64</td><td>f64</td><td>f64</td><td>f64</td><td>f64</td><td>f64</td><td>f64</td><td>f64</td><td>f64</td><td>f64</td></tr></thead><tbody><tr><td>&quot;2023-01-01 00:…</td><td>0.0</td><td>0.142857</td><td>-0.5</td><td>-4.1078e-14</td><td>2.0428e-14</td><td>0.0</td><td>0.0</td><td>-0.32802</td><td>-0.369237</td><td>-0.738163</td><td>-0.767181</td><td>-0.180547</td><td>-0.507953</td><td>-0.716059</td><td>-0.774361</td><td>0.100389</td><td>-0.186623</td><td>0.0</td><td>0.0</td></tr><tr><td>&quot;2023-01-01 00:…</td><td>0.0</td><td>0.142857</td><td>-0.495998</td><td>0.00002</td><td>0.0002</td><td>0.0</td><td>0.0</td><td>-0.32802</td><td>-0.369237</td><td>-0.738163</td><td>-0.767181</td><td>-0.18054</td><td>-0.507953</td><td>-0.716059</td><td>-0.774361</td><td>0.100389</td><td>-0.186618</td><td>0.0</td><td>0.0</td></tr><tr><td>&quot;2023-01-01 00:…</td><td>0.0</td><td>0.142857</td><td>-0.486172</td><td>0.00004</td><td>0.0004</td><td>0.0</td><td>0.0</td><td>-0.32802</td><td>-0.369237</td><td>-0.738163</td><td>-0.767181</td><td>-0.180519</td><td>-0.507953</td><td>-0.716059</td><td>-0.774361</td><td>0.10039</td><td>-0.186604</td><td>0.0</td><td>0.0</td></tr><tr><td>&quot;2023-01-01 00:…</td><td>0.0</td><td>0.142857</td><td>-0.463453</td><td>0.00006</td><td>0.0006</td><td>0.0</td><td>0.0</td><td>-0.32802</td><td>-0.369237</td><td>-0.738163</td><td>-0.767181</td><td>-0.180484</td><td>-0.507953</td><td>-0.716059</td><td>-0.774361</td><td>0.100391</td><td>-0.18658</td><td>0.0</td><td>0.0</td></tr><tr><td>&quot;2023-01-01 00:…</td><td>0.0</td><td>0.142857</td><td>-0.444095</td><td>0.00008</td><td>0.0008</td><td>0.0</td><td>0.0</td><td>-0.32802</td><td>-0.369237</td><td>-0.738163</td><td>-0.767181</td><td>-0.180437</td><td>-0.507953</td><td>-0.716059</td><td>-0.774361</td><td>0.100393</td><td>-0.186548</td><td>0.0</td><td>0.0</td></tr></tbody></table></div>"
      ],
      "text/plain": [
       "shape: (5, 20)\n",
       "┌─────────────────────┬──────┬──────────┬───────────┬───┬──────────┬───────────┬─────┬──────────┐\n",
       "│ timestamp           ┆ aimp ┆ amud     ┆ arnd      ┆ … ┆ cfo1     ┆ cso1      ┆ y   ┆ category │\n",
       "│ ---                 ┆ ---  ┆ ---      ┆ ---       ┆   ┆ ---      ┆ ---       ┆ --- ┆ ---      │\n",
       "│ str                 ┆ f64  ┆ f64      ┆ f64       ┆   ┆ f64      ┆ f64       ┆ f64 ┆ f64      │\n",
       "╞═════════════════════╪══════╪══════════╪═══════════╪═══╪══════════╪═══════════╪═════╪══════════╡\n",
       "│ 2023-01-01 00:00:00 ┆ 0.0  ┆ 0.142857 ┆ -0.5      ┆ … ┆ 0.100389 ┆ -0.186623 ┆ 0.0 ┆ 0.0      │\n",
       "│ 2023-01-01 00:00:01 ┆ 0.0  ┆ 0.142857 ┆ -0.495998 ┆ … ┆ 0.100389 ┆ -0.186618 ┆ 0.0 ┆ 0.0      │\n",
       "│ 2023-01-01 00:00:02 ┆ 0.0  ┆ 0.142857 ┆ -0.486172 ┆ … ┆ 0.10039  ┆ -0.186604 ┆ 0.0 ┆ 0.0      │\n",
       "│ 2023-01-01 00:00:03 ┆ 0.0  ┆ 0.142857 ┆ -0.463453 ┆ … ┆ 0.100391 ┆ -0.18658  ┆ 0.0 ┆ 0.0      │\n",
       "│ 2023-01-01 00:00:04 ┆ 0.0  ┆ 0.142857 ┆ -0.444095 ┆ … ┆ 0.100393 ┆ -0.186548 ┆ 0.0 ┆ 0.0      │\n",
       "└─────────────────────┴──────┴──────────┴───────────┴───┴──────────┴───────────┴─────┴──────────┘"
      ]
     },
     "execution_count": 7,
     "metadata": {},
     "output_type": "execute_result"
    }
   ],
   "source": [
    "cats_df.head()\n"
   ]
  },
  {
   "cell_type": "code",
   "execution_count": 8,
   "id": "6cfff622-1687-44be-89ae-5affaf01e41f",
   "metadata": {},
   "outputs": [],
   "source": [
    "from variational_ae.vae import *\n",
    "from bayesian_inference.causal_inference import bayesian_network_inference"
   ]
  },
  {
   "cell_type": "code",
   "execution_count": null,
   "id": "3ba05bbb-a2a0-4dce-bc6d-200329595859",
   "metadata": {},
   "outputs": [
    {
     "name": "stdout",
     "output_type": "stream",
     "text": [
      "Epoch 1/50, Loss: 5816.8851\n",
      "Epoch 11/50, Loss: 1701.9171\n",
      "Epoch 21/50, Loss: 1683.6619\n",
      "Epoch 31/50, Loss: 1679.9123\n",
      "Epoch 41/50, Loss: 1679.3271\n"
     ]
    },
    {
     "data": {
      "application/vnd.jupyter.widget-view+json": {
       "model_id": "57f08c16852449518bbef6551dfdee0b",
       "version_major": 2,
       "version_minor": 0
      },
      "text/plain": [
       "  0%|          | 0/1000000 [00:00<?, ?it/s]"
      ]
     },
     "metadata": {},
     "output_type": "display_data"
    },
    {
     "name": "stdout",
     "output_type": "stream",
     "text": [
      "Epoch 1/50, Loss: 27871.8979\n",
      "Epoch 11/50, Loss: 17484.8352\n",
      "Epoch 21/50, Loss: 17415.1890\n",
      "Epoch 31/50, Loss: 17371.2430\n",
      "Epoch 41/50, Loss: 17343.3953\n"
     ]
    },
    {
     "data": {
      "application/vnd.jupyter.widget-view+json": {
       "model_id": "83c00949fa864a519eb3c5e27d894185",
       "version_major": 2,
       "version_minor": 0
      },
      "text/plain": [
       "  0%|          | 0/1000000 [00:00<?, ?it/s]"
      ]
     },
     "metadata": {},
     "output_type": "display_data"
    }
   ],
   "source": [
    "import warnings\n",
    "warnings.filterwarnings('ignore')\n",
    "new_metadata = []\n",
    "iteration = 0\n",
    "for row in metadata.iter_rows(named=True):\n",
    "    try:\n",
    "        start = row['start_time']\n",
    "        end = row['end_time']\n",
    "        anomaly = eval(row['affected'])[0]\n",
    "        root_cause = row['root_cause']\n",
    "        mod_df = cats_df.filter( (pl.col('timestamp')>= start) & (pl.col('timestamp') <= end))\n",
    "        cols_to_exclude=['timestamp','y','category']\n",
    "        mod_df = mod_df.drop(cols_to_exclude)\n",
    "        data = mod_df.to_numpy()\n",
    "        vae = VAE(input_dim = data.shape[1],latent_dim = data.shape[1])\n",
    "        train_vae(vae,data,epochs=50)\n",
    "        bnn = bayesian_network_inference(anomaly=anomaly,vae_model=vae,model_dataframe=mod_df,input_numpy_data=data)\n",
    "        bnn.causal_inference()\n",
    "        if root_cause == bnn.potential_causes[0][0]:\n",
    "            row['cause_1']=1\n",
    "        else:\n",
    "            row['cause_1']=0\n",
    "        if root_cause == bnn.potential_causes[1][0]:\n",
    "            row['cause_2']=1\n",
    "        else:\n",
    "            row['cause_2']=0\n",
    "        if root_cause == bnn.potential_causes[2][0]:\n",
    "            row['cause_3']=1\n",
    "        else:\n",
    "            row['cause_3']=0\n",
    "    \n",
    "        new_metadata.append(row)\n",
    "    except MemoryError:\n",
    "        start = row['start_time']\n",
    "        end = row['end_time']\n",
    "        anomaly = eval(row['affected'])[0]\n",
    "        root_cause = row['root_cause']\n",
    "        mod_df = cats_df.filter( (pl.col('timestamp')>= start) & (pl.col('timestamp') <= end))\n",
    "        cols_to_exclude=['timestamp','y','category']\n",
    "        mod_df = mod_df.drop(cols_to_exclude)\n",
    "        data = mod_df.to_numpy()\n",
    "        vae = VAE(input_dim = data.shape[1],latent_dim = data.shape[1])\n",
    "        train_vae(vae,data,epochs=50)\n",
    "        bnn = bayesian_network_inference(anomaly=anomaly,vae_model=vae,model_dataframe=mod_df,input_numpy_data=data,scoring_method = 'bicscore')\n",
    "        bnn.causal_inference()\n",
    "        if root_cause == bnn.potential_causes[0][0]:\n",
    "            row['cause_1']=1\n",
    "        else:\n",
    "            row['cause_1']=0\n",
    "        if root_cause == bnn.potential_causes[1][0]:\n",
    "            row['cause_2']=1\n",
    "        else:\n",
    "            row['cause_2']=0\n",
    "        if root_cause == bnn.potential_causes[2][0]:\n",
    "            row['cause_3']=1\n",
    "        else:\n",
    "            row['cause_3']=0\n",
    "    \n",
    "        new_metadata.append(row)\n",
    "    except:\n",
    "        continue\n",
    "        "
   ]
  },
  {
   "cell_type": "code",
   "execution_count": 10,
   "id": "134a27c2-e72f-4aac-aefd-3331941e475d",
   "metadata": {},
   "outputs": [
    {
     "data": {
      "text/plain": [
       "[{'start_time': '2023-01-12 15:11:45',\n",
       "  'end_time': '2023-01-12 15:20:05',\n",
       "  'root_cause': 'bso3',\n",
       "  'affected': \"['cfo1']\",\n",
       "  'category': 12,\n",
       "  'cause_1': 0,\n",
       "  'cause_2': 0,\n",
       "  'cause_3': 0}]"
      ]
     },
     "execution_count": 10,
     "metadata": {},
     "output_type": "execute_result"
    }
   ],
   "source": [
    "new_metadata"
   ]
  },
  {
   "cell_type": "code",
   "execution_count": 11,
   "id": "df65dd78-82b1-4859-89de-af261d33d17b",
   "metadata": {},
   "outputs": [
    {
     "data": {
      "text/plain": [
       "'b'"
      ]
     },
     "execution_count": 11,
     "metadata": {},
     "output_type": "execute_result"
    }
   ],
   "source": [
    "bnn.potential_causes[0][0]"
   ]
  },
  {
   "cell_type": "code",
   "execution_count": null,
   "id": "11d0cd82-aef8-4762-a6de-a57707ccc9ac",
   "metadata": {},
   "outputs": [],
   "source": [
    "cols_to_exclude=['timestamp','y','category']\n",
    "mod_df = mod_df.drop(cols_to_exclude)\n",
    "data = mod_df.to_numpy()"
   ]
  },
  {
   "cell_type": "code",
   "execution_count": null,
   "id": "8cb368aa-7ff4-45bc-a25d-55757ebe6720",
   "metadata": {},
   "outputs": [],
   "source": [
    "vae = VAE(input_dim = data.shape[1],latent_dim = data.shape[1])\n",
    "train_vae(vae,data,epochs=50)"
   ]
  },
  {
   "cell_type": "code",
   "execution_count": null,
   "id": "0afd311c-dbfc-42ed-bd76-97488b850f70",
   "metadata": {},
   "outputs": [],
   "source": [
    "data.shape[1]"
   ]
  },
  {
   "cell_type": "code",
   "execution_count": null,
   "id": "64939597-77e2-4e01-b983-d3e003ef77d2",
   "metadata": {},
   "outputs": [],
   "source": [
    "class bayesian_network_inference:\n",
    "    def __init__(self,anomaly,vae_model,model_dataframe,input_numpy_data, scoring_method = 'bdeuscore'):\n",
    "        self.anomaly = anomaly\n",
    "        self.vae_model = vae_model\n",
    "        self.mod_df = model_dataframe\n",
    "        self.column_names = self.mod_df.columns\n",
    "        self.input_numpy_data = input_numpy_data\n",
    "        self.scoring_method=scoring_method\n",
    "        self.latent_df = None\n",
    "        self.bayesian_model = None\n",
    "        self.rca_scores = None\n",
    "        self.potential_causes = []\n",
    "\n",
    "    def _get_latent_variables(self):\n",
    "        self.vae_model.eval()\n",
    "        with torch.no_grad():\n",
    "            data_tensor = torch.tensor(self.input_numpy_data, dtype=torch.float32)\n",
    "            mu, _ = self.vae_model.encode(data_tensor)\n",
    "            return mu.numpy()\n",
    "\n",
    "    def _prep_latent_data(self):\n",
    "        latent_data = get_latent_variables(vae, data)\n",
    "        self.latent_df = pd.DataFrame(latent_data, columns=[f\"z{i}\" for i in range(latent_data.shape[1])])\n",
    "        self.latent_df.columns = self.mod_df.columns\n",
    "\n",
    "    def _train_bayes(self):\n",
    "        # Train Bayesian Network\n",
    "        hc = HillClimbSearch(self.latent_df)\n",
    "        best_model = hc.estimate(scoring_method=self.scoring_method)\n",
    "        self.bayesian_model = BayesianNetwork(best_model.edges())\n",
    "        self.bayesian_model.fit(self.latent_df, estimator=MaximumLikelihoodEstimator)\n",
    "\n",
    "    def draw_graph(self,name):\n",
    "        viz = bayesian_model.to_graphviz()\n",
    "        viz.draw( name + '.png', prog='neato')\n",
    "        Image(name + '.png')\n",
    "\n",
    "    def causal_inference(self,n_causes=3):\n",
    "        self._get_latent_variables()\n",
    "        self._prep_latent_data()\n",
    "        self._train_bayes()\n",
    "\n",
    "        inference = CausalInference(self.bayesian_model)\n",
    "        scores = []\n",
    "        columns = self.latent_df.columns\n",
    "        test_columns = []\n",
    "        for col in columns:\n",
    "            if col != self.anomaly:\n",
    "                try:\n",
    "                    inference.get_all_backdoor_adjustment_sets(X=col, Y=self.anomaly)\n",
    "                except:\n",
    "                    None\n",
    "                try:\n",
    "                    inference.get_all_frontdoor_adjustment_sets(X=col, Y=self.anomaly)\n",
    "                except:\n",
    "                    None\n",
    "                test_columns.append(col)\n",
    "                scores.append(inference.estimate_ate(X=col, Y=self.anomaly, data=self.latent_df, estimator_type=\"linear\"))\n",
    "\n",
    "        rca_indices = sorted(range(len(scores)), key=lambda i: scores[i])[-n_causes:]\n",
    "        self.rca_scores = dict(zip(test_columns,scores))\n",
    "        for index in rca_indices:\n",
    "            self.potential_causes.append( (test_columns[index]))\n",
    "        self.potential_causes.sort(key=lambda tup: tup[1],reverse=True)\n",
    "\n",
    "\n",
    " \n",
    "        "
   ]
  },
  {
   "cell_type": "code",
   "execution_count": null,
   "id": "591044f9-95b1-46b0-9a7b-60d81230d3d2",
   "metadata": {},
   "outputs": [],
   "source": [
    "bnn = bayesian_network_inference(anomaly=anomaly,vae_model=vae,model_dataframe=mod_df,input_numpy_data=data)\n",
    "bnn.causal_inference()"
   ]
  },
  {
   "cell_type": "code",
   "execution_count": null,
   "id": "defa00f2-2012-4859-a3e5-33765a2844ca",
   "metadata": {},
   "outputs": [],
   "source": [
    "causes = bnn.potential_causes"
   ]
  },
  {
   "cell_type": "code",
   "execution_count": null,
   "id": "814e96db-8836-46f1-b27c-b6f449a82621",
   "metadata": {},
   "outputs": [],
   "source": [
    "causes.sort(key=lambda tup: tup[1],reverse=True)"
   ]
  },
  {
   "cell_type": "code",
   "execution_count": null,
   "id": "2c15a53b-c338-4835-a1bd-fe202bd52793",
   "metadata": {},
   "outputs": [],
   "source": [
    "causes"
   ]
  },
  {
   "cell_type": "code",
   "execution_count": null,
   "id": "33b3a9fd-4a89-4e10-b7f1-e6f006b827f4",
   "metadata": {},
   "outputs": [],
   "source": [
    "bnn.draw_graph(name='mod1')"
   ]
  },
  {
   "cell_type": "code",
   "execution_count": null,
   "id": "c842373c-54d0-4815-b60c-04853b3365e3",
   "metadata": {},
   "outputs": [],
   "source": [
    "# Define Bayesian Network\n",
    "def get_latent_variables(model, data):\n",
    "    model.eval()\n",
    "    with torch.no_grad():\n",
    "        data_tensor = torch.tensor(data, dtype=torch.float32)\n",
    "        mu, _ = model.encode(data_tensor)\n",
    "        return mu.numpy()\n"
   ]
  },
  {
   "cell_type": "code",
   "execution_count": null,
   "id": "9f46ced8-7a2e-40f8-9157-0c5ee32c78c4",
   "metadata": {},
   "outputs": [],
   "source": [
    "def train_bayes(latent_df,scoring_method = 'bdeuscore'):\n",
    "    # Train Bayesian Network\n",
    "    hc = HillClimbSearch(latent_df)\n",
    "    best_model = hc.estimate(scoring_method='bdeuscore')\n",
    "    bayesian_model = BayesianNetwork(best_model.edges())\n",
    "    bayesian_model.fit(latent_df, estimator=MaximumLikelihoodEstimator)\n",
    "    return bayesian_model"
   ]
  },
  {
   "cell_type": "code",
   "execution_count": null,
   "id": "5f72f6a6-d205-40c8-a343-0df2876c2b68",
   "metadata": {},
   "outputs": [],
   "source": [
    "# Prepare latent data\n",
    "latent_data = get_latent_variables(vae, data)\n",
    "latent_df = pd.DataFrame(latent_data, columns=[f\"z{i}\" for i in range(latent_data.shape[1])])\n",
    "latent_df.columns = mod_df.columns"
   ]
  },
  {
   "cell_type": "code",
   "execution_count": null,
   "id": "913bebe9-1bc8-4198-b38b-03583d777c1b",
   "metadata": {},
   "outputs": [],
   "source": [
    "latent_df.shape"
   ]
  },
  {
   "cell_type": "code",
   "execution_count": null,
   "id": "443aabc4-080a-4704-b155-ded5356151a8",
   "metadata": {},
   "outputs": [],
   "source": [
    "# Train Bayesian Network\n",
    "hc = HillClimbSearch(latent_df)\n",
    "best_model = hc.estimate(scoring_method='bdeuscore')\n",
    "bayesian_model = BayesianNetwork(best_model.edges())\n",
    "bayesian_model.fit(latent_df, estimator=MaximumLikelihoodEstimator)\n"
   ]
  },
  {
   "cell_type": "code",
   "execution_count": null,
   "id": "33c0d6bf-cecf-4d8d-acf8-65227566f7c2",
   "metadata": {},
   "outputs": [],
   "source": [
    "from IPython.display import Image\n",
    "\n",
    "viz = bayesian_model.to_graphviz()\n",
    "viz.draw('test.png', prog='neato')\n",
    "Image('test.png')"
   ]
  },
  {
   "cell_type": "code",
   "execution_count": null,
   "id": "324bece2-7ca0-4e08-8ca3-09b0a62ab48e",
   "metadata": {},
   "outputs": [],
   "source": [
    "from pgmpy.inference.CausalInference import CausalInference\n",
    "inference = CausalInference(bayesian_model)\n",
    "inference.get_all_backdoor_adjustment_sets(X=\"bso3\", Y=anomaly)\n",
    "inference.get_all_frontdoor_adjustment_sets(X=\"bso3\", Y=anomaly)"
   ]
  },
  {
   "cell_type": "code",
   "execution_count": null,
   "id": "e3ca54f0-ed3a-48be-9b9b-fe7833cca7d2",
   "metadata": {},
   "outputs": [],
   "source": [
    "scores = []\n",
    "columns = latent_df.columns\n",
    "test_columns = []\n",
    "for col in latent_df.columns:\n",
    "    if col != anomaly:\n",
    "        inference.get_all_backdoor_adjustment_sets(X=col, Y=anomaly)\n",
    "        inference.get_all_frontdoor_adjustment_sets(X=col, Y=anomaly)\n",
    "        test_columns.append(col)\n",
    "        scores.append(inference.estimate_ate(X=col, Y=anomaly, data=latent_df, estimator_type=\"linear\"))"
   ]
  },
  {
   "cell_type": "code",
   "execution_count": null,
   "id": "b65ca49c-d279-4e2b-a17e-0fefc1f209f2",
   "metadata": {},
   "outputs": [],
   "source": [
    "rca_indices = sorted(range(len(scores)), key=lambda i: scores[i])[-3:]"
   ]
  },
  {
   "cell_type": "code",
   "execution_count": null,
   "id": "7abbe394-4ef4-42f3-ac3a-3d71836187e8",
   "metadata": {},
   "outputs": [],
   "source": [
    "potential_causes = []\n",
    "for index in rca_indices:\n",
    "    potential_causes.append( (test_columns[index],scores[index]))\n"
   ]
  },
  {
   "cell_type": "code",
   "execution_count": null,
   "id": "bcb73d6a-dc61-4f52-9f4a-f7ffa601d0cb",
   "metadata": {},
   "outputs": [],
   "source": [
    "potential_causes"
   ]
  },
  {
   "cell_type": "code",
   "execution_count": null,
   "id": "839510fc-7803-42ee-ae28-bd45cb899d99",
   "metadata": {},
   "outputs": [],
   "source": [
    "test_columns[13]"
   ]
  },
  {
   "cell_type": "code",
   "execution_count": null,
   "id": "b73f0e5f-0b38-46b0-beb4-25fbbac31f2f",
   "metadata": {},
   "outputs": [],
   "source": [
    "test_columns[12]"
   ]
  },
  {
   "cell_type": "code",
   "execution_count": null,
   "id": "5e604c45-51b1-48e9-beb1-361ad681998a",
   "metadata": {},
   "outputs": [],
   "source": [
    "test_columns[1]"
   ]
  },
  {
   "cell_type": "code",
   "execution_count": null,
   "id": "17bdf668-06b8-471e-abf7-f57cc44d3733",
   "metadata": {},
   "outputs": [],
   "source": [
    "metadata"
   ]
  },
  {
   "cell_type": "code",
   "execution_count": null,
   "id": "d25dc258-dda0-4f2a-b710-b286ace25dd3",
   "metadata": {},
   "outputs": [],
   "source": []
  }
 ],
 "metadata": {
  "kernelspec": {
   "display_name": "rca",
   "language": "python",
   "name": "rca"
  },
  "language_info": {
   "codemirror_mode": {
    "name": "ipython",
    "version": 3
   },
   "file_extension": ".py",
   "mimetype": "text/x-python",
   "name": "python",
   "nbconvert_exporter": "python",
   "pygments_lexer": "ipython3",
   "version": "3.11.7"
  }
 },
 "nbformat": 4,
 "nbformat_minor": 5
}
