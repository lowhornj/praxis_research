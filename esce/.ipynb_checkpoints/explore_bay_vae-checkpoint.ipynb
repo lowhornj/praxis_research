{
 "cells": [
  {
   "cell_type": "code",
   "execution_count": 1,
   "id": "6dffde21-aa42-4f4d-b368-f006e8592bd7",
   "metadata": {},
   "outputs": [],
   "source": [
    "import os\n",
    "import torch\n",
    "import polars as pl\n",
    "import numpy as np\n",
    "import seaborn as sns\n",
    "import warnings\n",
    "from feature_eng.scalers import ranged_scaler\n",
    "warnings.filterwarnings(\"ignore\", category=UserWarning) "
   ]
  },
  {
   "cell_type": "code",
   "execution_count": 2,
   "id": "c390f8eb-8264-459d-b5f2-1de365e6c223",
   "metadata": {},
   "outputs": [],
   "source": [
    "cats_df = pl.read_csv(\"data/data.csv\", separator=\",\")  "
   ]
  },
  {
   "cell_type": "code",
   "execution_count": 3,
   "id": "819b9f17-5bc3-49ee-b48d-a4e155ad96d1",
   "metadata": {},
   "outputs": [],
   "source": [
    "metadata = pl.read_csv('data/metadata.csv',separator=',')\n"
   ]
  },
  {
   "cell_type": "code",
   "execution_count": 4,
   "id": "084c6abc-d959-409e-a4cc-693eb02edd10",
   "metadata": {},
   "outputs": [
    {
     "data": {
      "text/html": [
       "<div><style>\n",
       ".dataframe > thead > tr,\n",
       ".dataframe > tbody > tr {\n",
       "  text-align: right;\n",
       "  white-space: pre-wrap;\n",
       "}\n",
       "</style>\n",
       "<small>shape: (5, 20)</small><table border=\"1\" class=\"dataframe\"><thead><tr><th>timestamp</th><th>aimp</th><th>amud</th><th>arnd</th><th>asin1</th><th>asin2</th><th>adbr</th><th>adfl</th><th>bed1</th><th>bed2</th><th>bfo1</th><th>bfo2</th><th>bso1</th><th>bso2</th><th>bso3</th><th>ced1</th><th>cfo1</th><th>cso1</th><th>y</th><th>category</th></tr><tr><td>str</td><td>f64</td><td>f64</td><td>f64</td><td>f64</td><td>f64</td><td>f64</td><td>f64</td><td>f64</td><td>f64</td><td>f64</td><td>f64</td><td>f64</td><td>f64</td><td>f64</td><td>f64</td><td>f64</td><td>f64</td><td>f64</td><td>f64</td></tr></thead><tbody><tr><td>&quot;2023-01-01 00:00:00&quot;</td><td>0.0</td><td>1.0</td><td>20.0</td><td>0.0</td><td>0.0</td><td>0.0</td><td>0.0</td><td>0.0</td><td>0.0</td><td>0.0</td><td>0.0</td><td>0.0</td><td>0.0</td><td>0.0</td><td>0.0</td><td>0.0</td><td>0.0</td><td>0.0</td><td>0.0</td></tr><tr><td>&quot;2023-01-01 00:00:01&quot;</td><td>0.0</td><td>1.0</td><td>20.080031</td><td>0.00002</td><td>0.0002</td><td>0.0</td><td>0.0</td><td>0.0</td><td>0.0</td><td>0.0</td><td>4.9939e-7</td><td>0.000789</td><td>0.0</td><td>0.0</td><td>0.0</td><td>0.000021</td><td>0.001229</td><td>0.0</td><td>0.0</td></tr><tr><td>&quot;2023-01-01 00:00:02&quot;</td><td>0.0</td><td>1.0</td><td>20.276562</td><td>0.00004</td><td>0.0004</td><td>0.0</td><td>0.0</td><td>0.0</td><td>0.0</td><td>0.0</td><td>0.000001</td><td>0.003115</td><td>0.0</td><td>0.0</td><td>0.0</td><td>0.000104</td><td>0.004833</td><td>0.0</td><td>0.0</td></tr><tr><td>&quot;2023-01-01 00:00:03&quot;</td><td>0.0</td><td>1.0</td><td>20.730938</td><td>0.00006</td><td>0.0006</td><td>0.0</td><td>0.0</td><td>0.0</td><td>0.0</td><td>0.0</td><td>0.000003</td><td>0.006914</td><td>0.0</td><td>0.0</td><td>0.0</td><td>0.000285</td><td>0.010688</td><td>0.0</td><td>0.0</td></tr><tr><td>&quot;2023-01-01 00:00:04&quot;</td><td>0.0</td><td>1.0</td><td>21.118101</td><td>0.00008</td><td>0.0008</td><td>0.0</td><td>0.0</td><td>0.0</td><td>0.0</td><td>0.0</td><td>0.000005</td><td>0.012123</td><td>0.0</td><td>0.0</td><td>0.0</td><td>0.000601</td><td>0.018669</td><td>0.0</td><td>0.0</td></tr></tbody></table></div>"
      ],
      "text/plain": [
       "shape: (5, 20)\n",
       "┌─────────────────────┬──────┬──────┬───────────┬───┬──────────┬──────────┬─────┬──────────┐\n",
       "│ timestamp           ┆ aimp ┆ amud ┆ arnd      ┆ … ┆ cfo1     ┆ cso1     ┆ y   ┆ category │\n",
       "│ ---                 ┆ ---  ┆ ---  ┆ ---       ┆   ┆ ---      ┆ ---      ┆ --- ┆ ---      │\n",
       "│ str                 ┆ f64  ┆ f64  ┆ f64       ┆   ┆ f64      ┆ f64      ┆ f64 ┆ f64      │\n",
       "╞═════════════════════╪══════╪══════╪═══════════╪═══╪══════════╪══════════╪═════╪══════════╡\n",
       "│ 2023-01-01 00:00:00 ┆ 0.0  ┆ 1.0  ┆ 20.0      ┆ … ┆ 0.0      ┆ 0.0      ┆ 0.0 ┆ 0.0      │\n",
       "│ 2023-01-01 00:00:01 ┆ 0.0  ┆ 1.0  ┆ 20.080031 ┆ … ┆ 0.000021 ┆ 0.001229 ┆ 0.0 ┆ 0.0      │\n",
       "│ 2023-01-01 00:00:02 ┆ 0.0  ┆ 1.0  ┆ 20.276562 ┆ … ┆ 0.000104 ┆ 0.004833 ┆ 0.0 ┆ 0.0      │\n",
       "│ 2023-01-01 00:00:03 ┆ 0.0  ┆ 1.0  ┆ 20.730938 ┆ … ┆ 0.000285 ┆ 0.010688 ┆ 0.0 ┆ 0.0      │\n",
       "│ 2023-01-01 00:00:04 ┆ 0.0  ┆ 1.0  ┆ 21.118101 ┆ … ┆ 0.000601 ┆ 0.018669 ┆ 0.0 ┆ 0.0      │\n",
       "└─────────────────────┴──────┴──────┴───────────┴───┴──────────┴──────────┴─────┴──────────┘"
      ]
     },
     "execution_count": 4,
     "metadata": {},
     "output_type": "execute_result"
    }
   ],
   "source": [
    "cats_df.head()"
   ]
  },
  {
   "cell_type": "code",
   "execution_count": 5,
   "id": "8b6eac40-7c24-4108-8c8c-76e3fa914456",
   "metadata": {},
   "outputs": [
    {
     "data": {
      "text/html": [
       "<div><style>\n",
       ".dataframe > thead > tr,\n",
       ".dataframe > tbody > tr {\n",
       "  text-align: right;\n",
       "  white-space: pre-wrap;\n",
       "}\n",
       "</style>\n",
       "<small>shape: (5, 5)</small><table border=\"1\" class=\"dataframe\"><thead><tr><th>start_time</th><th>end_time</th><th>root_cause</th><th>affected</th><th>category</th></tr><tr><td>str</td><td>str</td><td>str</td><td>str</td><td>i64</td></tr></thead><tbody><tr><td>&quot;2023-01-12 15:11:45&quot;</td><td>&quot;2023-01-12 15:20:05&quot;</td><td>&quot;bso3&quot;</td><td>&quot;[&#x27;cfo1&#x27;]&quot;</td><td>12</td></tr><tr><td>&quot;2023-01-12 16:27:46&quot;</td><td>&quot;2023-01-12 17:51:06&quot;</td><td>&quot;bso3&quot;</td><td>&quot;[&#x27;cfo1&#x27;]&quot;</td><td>1</td></tr><tr><td>&quot;2023-01-12 18:19:35&quot;</td><td>&quot;2023-01-12 18:36:15&quot;</td><td>&quot;bfo2&quot;</td><td>&quot;[&#x27;cso1&#x27;]&quot;</td><td>8</td></tr><tr><td>&quot;2023-01-12 20:46:32&quot;</td><td>&quot;2023-01-12 20:51:32&quot;</td><td>&quot;bed2&quot;</td><td>&quot;[&#x27;ced1&#x27;]&quot;</td><td>7</td></tr><tr><td>&quot;2023-01-13 05:57:10&quot;</td><td>&quot;2023-01-13 06:02:10&quot;</td><td>&quot;bfo1&quot;</td><td>&quot;[&#x27;cfo1&#x27;]&quot;</td><td>9</td></tr></tbody></table></div>"
      ],
      "text/plain": [
       "shape: (5, 5)\n",
       "┌─────────────────────┬─────────────────────┬────────────┬──────────┬──────────┐\n",
       "│ start_time          ┆ end_time            ┆ root_cause ┆ affected ┆ category │\n",
       "│ ---                 ┆ ---                 ┆ ---        ┆ ---      ┆ ---      │\n",
       "│ str                 ┆ str                 ┆ str        ┆ str      ┆ i64      │\n",
       "╞═════════════════════╪═════════════════════╪════════════╪══════════╪══════════╡\n",
       "│ 2023-01-12 15:11:45 ┆ 2023-01-12 15:20:05 ┆ bso3       ┆ ['cfo1'] ┆ 12       │\n",
       "│ 2023-01-12 16:27:46 ┆ 2023-01-12 17:51:06 ┆ bso3       ┆ ['cfo1'] ┆ 1        │\n",
       "│ 2023-01-12 18:19:35 ┆ 2023-01-12 18:36:15 ┆ bfo2       ┆ ['cso1'] ┆ 8        │\n",
       "│ 2023-01-12 20:46:32 ┆ 2023-01-12 20:51:32 ┆ bed2       ┆ ['ced1'] ┆ 7        │\n",
       "│ 2023-01-13 05:57:10 ┆ 2023-01-13 06:02:10 ┆ bfo1       ┆ ['cfo1'] ┆ 9        │\n",
       "└─────────────────────┴─────────────────────┴────────────┴──────────┴──────────┘"
      ]
     },
     "execution_count": 5,
     "metadata": {},
     "output_type": "execute_result"
    }
   ],
   "source": [
    "metadata.head()\n"
   ]
  },
  {
   "cell_type": "code",
   "execution_count": 6,
   "id": "3bf79826-0fcf-4c87-99fe-8132a81cac9c",
   "metadata": {},
   "outputs": [],
   "source": [
    "for col in cats_df.columns:\n",
    "    unique_vals = cats_df[col].n_unique()\n",
    "    data_type = cats_df[col].dtype\n",
    "    bad_dtypes = [pl.Date,pl.Datetime,pl.Utf8]\n",
    "    if ((unique_vals >= 50) & (data_type not in bad_dtypes) ):\n",
    "        cats_df = cats_df.with_columns(ranged_scaler(cats_df[col]))\n",
    "    else:\n",
    "        continue"
   ]
  },
  {
   "cell_type": "code",
   "execution_count": 7,
   "id": "664248d7-e960-4bcc-a36f-feed0915603c",
   "metadata": {},
   "outputs": [
    {
     "data": {
      "text/html": [
       "<div><style>\n",
       ".dataframe > thead > tr,\n",
       ".dataframe > tbody > tr {\n",
       "  text-align: right;\n",
       "  white-space: pre-wrap;\n",
       "}\n",
       "</style>\n",
       "<small>shape: (5, 20)</small><table border=\"1\" class=\"dataframe\"><thead><tr><th>timestamp</th><th>aimp</th><th>amud</th><th>arnd</th><th>asin1</th><th>asin2</th><th>adbr</th><th>adfl</th><th>bed1</th><th>bed2</th><th>bfo1</th><th>bfo2</th><th>bso1</th><th>bso2</th><th>bso3</th><th>ced1</th><th>cfo1</th><th>cso1</th><th>y</th><th>category</th></tr><tr><td>str</td><td>f64</td><td>f64</td><td>f64</td><td>f64</td><td>f64</td><td>f64</td><td>f64</td><td>f64</td><td>f64</td><td>f64</td><td>f64</td><td>f64</td><td>f64</td><td>f64</td><td>f64</td><td>f64</td><td>f64</td><td>f64</td><td>f64</td></tr></thead><tbody><tr><td>&quot;2023-01-01 00:00:00&quot;</td><td>0.0</td><td>0.142857</td><td>-0.5</td><td>-4.1078e-14</td><td>2.0428e-14</td><td>0.0</td><td>0.0</td><td>-0.32802</td><td>-0.369237</td><td>-0.738163</td><td>-0.767181</td><td>-0.180547</td><td>-0.507953</td><td>-0.716059</td><td>-0.774361</td><td>0.100389</td><td>-0.186623</td><td>0.0</td><td>0.0</td></tr><tr><td>&quot;2023-01-01 00:00:01&quot;</td><td>0.0</td><td>0.142857</td><td>-0.495998</td><td>0.00002</td><td>0.0002</td><td>0.0</td><td>0.0</td><td>-0.32802</td><td>-0.369237</td><td>-0.738163</td><td>-0.767181</td><td>-0.18054</td><td>-0.507953</td><td>-0.716059</td><td>-0.774361</td><td>0.100389</td><td>-0.186618</td><td>0.0</td><td>0.0</td></tr><tr><td>&quot;2023-01-01 00:00:02&quot;</td><td>0.0</td><td>0.142857</td><td>-0.486172</td><td>0.00004</td><td>0.0004</td><td>0.0</td><td>0.0</td><td>-0.32802</td><td>-0.369237</td><td>-0.738163</td><td>-0.767181</td><td>-0.180519</td><td>-0.507953</td><td>-0.716059</td><td>-0.774361</td><td>0.10039</td><td>-0.186604</td><td>0.0</td><td>0.0</td></tr><tr><td>&quot;2023-01-01 00:00:03&quot;</td><td>0.0</td><td>0.142857</td><td>-0.463453</td><td>0.00006</td><td>0.0006</td><td>0.0</td><td>0.0</td><td>-0.32802</td><td>-0.369237</td><td>-0.738163</td><td>-0.767181</td><td>-0.180484</td><td>-0.507953</td><td>-0.716059</td><td>-0.774361</td><td>0.100391</td><td>-0.18658</td><td>0.0</td><td>0.0</td></tr><tr><td>&quot;2023-01-01 00:00:04&quot;</td><td>0.0</td><td>0.142857</td><td>-0.444095</td><td>0.00008</td><td>0.0008</td><td>0.0</td><td>0.0</td><td>-0.32802</td><td>-0.369237</td><td>-0.738163</td><td>-0.767181</td><td>-0.180437</td><td>-0.507953</td><td>-0.716059</td><td>-0.774361</td><td>0.100393</td><td>-0.186548</td><td>0.0</td><td>0.0</td></tr></tbody></table></div>"
      ],
      "text/plain": [
       "shape: (5, 20)\n",
       "┌─────────────────────┬──────┬──────────┬───────────┬───┬──────────┬───────────┬─────┬──────────┐\n",
       "│ timestamp           ┆ aimp ┆ amud     ┆ arnd      ┆ … ┆ cfo1     ┆ cso1      ┆ y   ┆ category │\n",
       "│ ---                 ┆ ---  ┆ ---      ┆ ---       ┆   ┆ ---      ┆ ---       ┆ --- ┆ ---      │\n",
       "│ str                 ┆ f64  ┆ f64      ┆ f64       ┆   ┆ f64      ┆ f64       ┆ f64 ┆ f64      │\n",
       "╞═════════════════════╪══════╪══════════╪═══════════╪═══╪══════════╪═══════════╪═════╪══════════╡\n",
       "│ 2023-01-01 00:00:00 ┆ 0.0  ┆ 0.142857 ┆ -0.5      ┆ … ┆ 0.100389 ┆ -0.186623 ┆ 0.0 ┆ 0.0      │\n",
       "│ 2023-01-01 00:00:01 ┆ 0.0  ┆ 0.142857 ┆ -0.495998 ┆ … ┆ 0.100389 ┆ -0.186618 ┆ 0.0 ┆ 0.0      │\n",
       "│ 2023-01-01 00:00:02 ┆ 0.0  ┆ 0.142857 ┆ -0.486172 ┆ … ┆ 0.10039  ┆ -0.186604 ┆ 0.0 ┆ 0.0      │\n",
       "│ 2023-01-01 00:00:03 ┆ 0.0  ┆ 0.142857 ┆ -0.463453 ┆ … ┆ 0.100391 ┆ -0.18658  ┆ 0.0 ┆ 0.0      │\n",
       "│ 2023-01-01 00:00:04 ┆ 0.0  ┆ 0.142857 ┆ -0.444095 ┆ … ┆ 0.100393 ┆ -0.186548 ┆ 0.0 ┆ 0.0      │\n",
       "└─────────────────────┴──────┴──────────┴───────────┴───┴──────────┴───────────┴─────┴──────────┘"
      ]
     },
     "execution_count": 7,
     "metadata": {},
     "output_type": "execute_result"
    }
   ],
   "source": [
    "cats_df.head()\n"
   ]
  },
  {
   "cell_type": "code",
   "execution_count": 8,
   "id": "6cfff622-1687-44be-89ae-5affaf01e41f",
   "metadata": {},
   "outputs": [
    {
     "name": "stderr",
     "output_type": "stream",
     "text": [
      "C:\\Users\\jlowh\\anaconda3\\envs\\torch\\Lib\\site-packages\\tqdm\\auto.py:21: TqdmWarning: IProgress not found. Please update jupyter and ipywidgets. See https://ipywidgets.readthedocs.io/en/stable/user_install.html\n",
      "  from .autonotebook import tqdm as notebook_tqdm\n"
     ]
    }
   ],
   "source": [
    "from variational_ae.vae import *\n",
    "from bayesian_inference.causal_inference import bayesian_network_inference"
   ]
  },
  {
   "cell_type": "code",
   "execution_count": 22,
   "id": "3ba05bbb-a2a0-4dce-bc6d-200329595859",
   "metadata": {
    "scrolled": true
   },
   "outputs": [
    {
     "name": "stdout",
     "output_type": "stream",
     "text": [
      "Epoch 1/50, Loss: 5848.5531\n",
      "Epoch 11/50, Loss: 1696.2648\n",
      "Epoch 21/50, Loss: 1683.0061\n",
      "Epoch 31/50, Loss: 1678.0531\n",
      "Epoch 41/50, Loss: 1679.4712\n"
     ]
    },
    {
     "name": "stderr",
     "output_type": "stream",
     "text": [
      "Working for n conditional variables: 1:  20%|██        | 1/5 [00:00<00:02,  1.51it/s]\n",
      "  8%|▊         | 16/200 [00:04<00:56,  3.24it/s]\n"
     ]
    },
    {
     "name": "stdout",
     "output_type": "stream",
     "text": [
      "Epoch 1/50, Loss: 28413.0248\n",
      "Epoch 11/50, Loss: 17466.1543\n",
      "Epoch 21/50, Loss: 17389.3960\n",
      "Epoch 31/50, Loss: 17349.0800\n",
      "Epoch 41/50, Loss: 17327.6404\n"
     ]
    },
    {
     "name": "stderr",
     "output_type": "stream",
     "text": [
      "Working for n conditional variables: 1:  20%|██        | 1/5 [01:04<04:19, 64.86s/it]\n",
      "  8%|▊         | 16/200 [07:34<1:27:06, 28.41s/it] \n"
     ]
    },
    {
     "name": "stdout",
     "output_type": "stream",
     "text": [
      "Epoch 1/50, Loss: 10618.6175\n",
      "Epoch 11/50, Loss: 3805.1151\n",
      "Epoch 21/50, Loss: 3797.9766\n",
      "Epoch 31/50, Loss: 3793.5887\n",
      "Epoch 41/50, Loss: 3795.0265\n"
     ]
    },
    {
     "name": "stderr",
     "output_type": "stream",
     "text": [
      "Working for n conditional variables: 1:  20%|██        | 1/5 [00:02<00:09,  2.36s/it]\n",
      "  8%|▊         | 16/200 [00:17<03:21,  1.09s/it]\n"
     ]
    },
    {
     "name": "stdout",
     "output_type": "stream",
     "text": [
      "Epoch 1/50, Loss: 3461.9361\n",
      "Epoch 11/50, Loss: 1042.5378\n",
      "Epoch 21/50, Loss: 995.5276\n",
      "Epoch 31/50, Loss: 989.9216\n",
      "Epoch 41/50, Loss: 989.2687\n"
     ]
    },
    {
     "name": "stderr",
     "output_type": "stream",
     "text": [
      "Working for n conditional variables: 1:  20%|██        | 1/5 [00:00<00:00,  6.28it/s]\n",
      "  8%|▊         | 16/200 [00:01<00:20,  8.84it/s]\n"
     ]
    },
    {
     "name": "stdout",
     "output_type": "stream",
     "text": [
      "Epoch 1/50, Loss: 3612.4383\n",
      "Epoch 11/50, Loss: 1176.5223\n",
      "Epoch 21/50, Loss: 1129.9194\n",
      "Epoch 31/50, Loss: 1127.3494\n",
      "Epoch 41/50, Loss: 1125.9034\n"
     ]
    },
    {
     "name": "stderr",
     "output_type": "stream",
     "text": [
      "Working for n conditional variables: 1:  20%|██        | 1/5 [00:00<00:00,  6.16it/s]\n",
      "  8%|▊         | 16/200 [00:01<00:20,  8.84it/s]\n"
     ]
    },
    {
     "name": "stdout",
     "output_type": "stream",
     "text": [
      "Epoch 1/50, Loss: 7778.8805\n",
      "Epoch 11/50, Loss: 2631.6403\n",
      "Epoch 21/50, Loss: 2620.7938\n",
      "Epoch 31/50, Loss: 2616.0945\n",
      "Epoch 41/50, Loss: 2616.9486\n"
     ]
    },
    {
     "name": "stderr",
     "output_type": "stream",
     "text": [
      "Working for n conditional variables: 1:  20%|██        | 1/5 [00:01<00:04,  1.17s/it]\n",
      "  8%|▊         | 16/200 [00:08<01:41,  1.81it/s]\n"
     ]
    },
    {
     "name": "stdout",
     "output_type": "stream",
     "text": [
      "Epoch 1/50, Loss: 3495.5234\n",
      "Epoch 11/50, Loss: 1048.7002\n",
      "Epoch 21/50, Loss: 998.2679\n",
      "Epoch 31/50, Loss: 991.0567\n",
      "Epoch 41/50, Loss: 990.4140\n"
     ]
    },
    {
     "name": "stderr",
     "output_type": "stream",
     "text": [
      "Working for n conditional variables: 1:  20%|██        | 1/5 [00:00<00:00,  6.17it/s]\n",
      "  8%|▊         | 16/200 [00:01<00:19,  9.51it/s]\n"
     ]
    },
    {
     "name": "stdout",
     "output_type": "stream",
     "text": [
      "Epoch 1/50, Loss: 5361.5688\n",
      "Epoch 11/50, Loss: 1566.0129\n",
      "Epoch 21/50, Loss: 1530.4344\n",
      "Epoch 31/50, Loss: 1525.5229\n",
      "Epoch 41/50, Loss: 1523.9573\n"
     ]
    },
    {
     "name": "stderr",
     "output_type": "stream",
     "text": [
      "Working for n conditional variables: 1:  20%|██        | 1/5 [00:00<00:01,  2.38it/s]\n",
      "  8%|▊         | 16/200 [00:03<00:36,  4.98it/s]\n"
     ]
    },
    {
     "name": "stdout",
     "output_type": "stream",
     "text": [
      "Epoch 1/50, Loss: 9097.1680\n",
      "Epoch 11/50, Loss: 2890.9722\n",
      "Epoch 21/50, Loss: 2883.2169\n",
      "Epoch 31/50, Loss: 2881.5832\n",
      "Epoch 41/50, Loss: 2880.9895\n"
     ]
    },
    {
     "name": "stderr",
     "output_type": "stream",
     "text": [
      "Working for n conditional variables: 1:  20%|██        | 1/5 [00:01<00:04,  1.20s/it]\n",
      "  8%|▊         | 16/200 [00:08<01:41,  1.82it/s]\n"
     ]
    },
    {
     "name": "stdout",
     "output_type": "stream",
     "text": [
      "Epoch 1/50, Loss: 6382.6412\n",
      "Epoch 11/50, Loss: 1970.6627\n",
      "Epoch 21/50, Loss: 1950.7975\n",
      "Epoch 31/50, Loss: 1949.0642\n",
      "Epoch 41/50, Loss: 1951.4609\n"
     ]
    },
    {
     "name": "stderr",
     "output_type": "stream",
     "text": [
      "Working for n conditional variables: 1:  20%|██        | 1/5 [00:00<00:02,  1.47it/s]\n",
      "  8%|▊         | 16/200 [00:04<00:54,  3.37it/s]\n"
     ]
    },
    {
     "name": "stdout",
     "output_type": "stream",
     "text": [
      "Epoch 1/50, Loss: 3754.2694\n",
      "Epoch 11/50, Loss: 1230.7101\n",
      "Epoch 21/50, Loss: 1156.3661\n",
      "Epoch 31/50, Loss: 1149.5586\n",
      "Epoch 41/50, Loss: 1147.7396\n"
     ]
    },
    {
     "name": "stderr",
     "output_type": "stream",
     "text": [
      "Working for n conditional variables: 1:  20%|██        | 1/5 [00:00<00:00,  5.59it/s]\n",
      "  8%|▊         | 16/200 [00:01<00:19,  9.66it/s]\n"
     ]
    },
    {
     "name": "stdout",
     "output_type": "stream",
     "text": [
      "Epoch 1/50, Loss: 9395.2148\n",
      "Epoch 11/50, Loss: 3201.5134\n",
      "Epoch 21/50, Loss: 3191.3666\n",
      "Epoch 31/50, Loss: 3187.4934\n",
      "Epoch 41/50, Loss: 3186.3956\n"
     ]
    },
    {
     "name": "stderr",
     "output_type": "stream",
     "text": [
      "Working for n conditional variables: 1:  20%|██        | 1/5 [00:01<00:05,  1.31s/it]\n",
      "  8%|▊         | 16/200 [00:09<01:50,  1.66it/s]\n"
     ]
    },
    {
     "name": "stdout",
     "output_type": "stream",
     "text": [
      "Epoch 1/50, Loss: 11424.1371\n",
      "Epoch 11/50, Loss: 3817.1554\n",
      "Epoch 21/50, Loss: 3808.7814\n",
      "Epoch 31/50, Loss: 3805.0909\n",
      "Epoch 41/50, Loss: 3801.3733\n"
     ]
    },
    {
     "name": "stderr",
     "output_type": "stream",
     "text": [
      "Working for n conditional variables: 1:  20%|██        | 1/5 [00:02<00:09,  2.37s/it]\n",
      "  8%|▊         | 16/200 [00:18<03:37,  1.18s/it]\n"
     ]
    },
    {
     "name": "stdout",
     "output_type": "stream",
     "text": [
      "Epoch 1/50, Loss: 3951.9300\n",
      "Epoch 11/50, Loss: 1354.6700\n",
      "Epoch 21/50, Loss: 1290.7439\n",
      "Epoch 31/50, Loss: 1284.8468\n",
      "Epoch 41/50, Loss: 1282.3602\n"
     ]
    },
    {
     "name": "stderr",
     "output_type": "stream",
     "text": [
      "Working for n conditional variables: 1:  20%|██        | 1/5 [00:00<00:00,  5.34it/s]\n",
      "  8%|▊         | 16/200 [00:02<00:23,  7.98it/s]\n"
     ]
    },
    {
     "name": "stdout",
     "output_type": "stream",
     "text": [
      "Epoch 1/50, Loss: 3728.0005\n",
      "Epoch 11/50, Loss: 1126.2523\n",
      "Epoch 21/50, Loss: 1070.9862\n",
      "Epoch 31/50, Loss: 1063.7286\n",
      "Epoch 41/50, Loss: 1061.6367\n"
     ]
    },
    {
     "name": "stderr",
     "output_type": "stream",
     "text": [
      "Working for n conditional variables: 1:  20%|██        | 1/5 [00:00<00:00,  4.72it/s]\n",
      "  8%|▊         | 16/200 [00:01<00:21,  8.53it/s]\n"
     ]
    },
    {
     "name": "stdout",
     "output_type": "stream",
     "text": [
      "Epoch 1/50, Loss: 6290.8402\n",
      "Epoch 11/50, Loss: 2010.0530\n",
      "Epoch 21/50, Loss: 1994.8198\n",
      "Epoch 31/50, Loss: 1992.0111\n",
      "Epoch 41/50, Loss: 1989.6965\n"
     ]
    },
    {
     "name": "stderr",
     "output_type": "stream",
     "text": [
      "Working for n conditional variables: 1:  20%|██        | 1/5 [00:00<00:02,  1.39it/s]\n",
      "  8%|▊         | 16/200 [00:05<00:59,  3.12it/s]\n"
     ]
    },
    {
     "name": "stdout",
     "output_type": "stream",
     "text": [
      "Epoch 1/50, Loss: 9138.8489\n",
      "Epoch 11/50, Loss: 3140.0993\n",
      "Epoch 21/50, Loss: 3121.9459\n",
      "Epoch 31/50, Loss: 3120.3471\n",
      "Epoch 41/50, Loss: 3120.3168\n"
     ]
    },
    {
     "name": "stderr",
     "output_type": "stream",
     "text": [
      "Working for n conditional variables: 1:  20%|██        | 1/5 [00:01<00:05,  1.28s/it]\n",
      "  8%|▊         | 16/200 [00:09<01:46,  1.73it/s]\n"
     ]
    },
    {
     "name": "stdout",
     "output_type": "stream",
     "text": [
      "Epoch 1/50, Loss: 28689.2150\n",
      "Epoch 11/50, Loss: 18130.8559\n",
      "Epoch 21/50, Loss: 18097.2578\n",
      "Epoch 31/50, Loss: 18056.7433\n",
      "Epoch 41/50, Loss: 18036.7217\n"
     ]
    },
    {
     "name": "stderr",
     "output_type": "stream",
     "text": [
      "Working for n conditional variables: 1:  20%|██        | 1/5 [01:00<04:02, 60.71s/it]\n",
      "  8%|▊         | 16/200 [07:40<1:28:11, 28.76s/it] \n"
     ]
    },
    {
     "name": "stdout",
     "output_type": "stream",
     "text": [
      "Epoch 1/50, Loss: 6052.3259\n",
      "Epoch 11/50, Loss: 1912.9047\n",
      "Epoch 21/50, Loss: 1896.6162\n",
      "Epoch 31/50, Loss: 1892.7381\n",
      "Epoch 41/50, Loss: 1893.3167\n"
     ]
    },
    {
     "name": "stderr",
     "output_type": "stream",
     "text": [
      "Working for n conditional variables: 1:  20%|██        | 1/5 [00:00<00:02,  1.47it/s]\n",
      "  8%|▊         | 16/200 [00:04<00:55,  3.29it/s]\n"
     ]
    },
    {
     "name": "stdout",
     "output_type": "stream",
     "text": [
      "Epoch 1/50, Loss: 3271.4376\n",
      "Epoch 11/50, Loss: 932.3346\n",
      "Epoch 21/50, Loss: 873.6065\n",
      "Epoch 31/50, Loss: 867.3850\n",
      "Epoch 41/50, Loss: 864.6465\n"
     ]
    },
    {
     "name": "stderr",
     "output_type": "stream",
     "text": [
      "Working for n conditional variables: 1:  20%|██        | 1/5 [00:00<00:00,  5.45it/s]\n",
      "  8%|▊         | 16/200 [00:01<00:21,  8.58it/s]\n"
     ]
    },
    {
     "name": "stdout",
     "output_type": "stream",
     "text": [
      "Epoch 1/50, Loss: 4045.1752\n",
      "Epoch 11/50, Loss: 1397.7944\n",
      "Epoch 21/50, Loss: 1336.6161\n",
      "Epoch 31/50, Loss: 1329.6061\n",
      "Epoch 41/50, Loss: 1328.1295\n"
     ]
    },
    {
     "name": "stderr",
     "output_type": "stream",
     "text": [
      "Working for n conditional variables: 1:  20%|██        | 1/5 [00:00<00:00,  5.42it/s]\n",
      "  8%|▊         | 16/200 [00:01<00:20,  9.03it/s]\n"
     ]
    },
    {
     "name": "stdout",
     "output_type": "stream",
     "text": [
      "Epoch 1/50, Loss: 5705.3435\n",
      "Epoch 11/50, Loss: 1818.9868\n",
      "Epoch 21/50, Loss: 1798.3577\n",
      "Epoch 31/50, Loss: 1794.9701\n",
      "Epoch 41/50, Loss: 1794.9769\n"
     ]
    },
    {
     "name": "stderr",
     "output_type": "stream",
     "text": [
      "Working for n conditional variables: 1:  20%|██        | 1/5 [00:00<00:02,  1.54it/s]\n",
      "  8%|▊         | 16/200 [00:04<00:54,  3.35it/s]\n"
     ]
    },
    {
     "name": "stdout",
     "output_type": "stream",
     "text": [
      "Epoch 1/50, Loss: 5957.1051\n",
      "Epoch 11/50, Loss: 2103.8543\n",
      "Epoch 21/50, Loss: 2068.9875\n",
      "Epoch 31/50, Loss: 2064.8212\n",
      "Epoch 41/50, Loss: 2061.5537\n"
     ]
    },
    {
     "name": "stderr",
     "output_type": "stream",
     "text": [
      "Working for n conditional variables: 1:  20%|██        | 1/5 [00:00<00:01,  2.19it/s]\n",
      "  8%|▊         | 16/200 [00:03<00:37,  4.91it/s]\n"
     ]
    },
    {
     "name": "stdout",
     "output_type": "stream",
     "text": [
      "Epoch 1/50, Loss: 26311.8591\n",
      "Epoch 11/50, Loss: 16190.5372\n",
      "Epoch 21/50, Loss: 16113.2253\n",
      "Epoch 31/50, Loss: 16079.5241\n",
      "Epoch 41/50, Loss: 16062.2186\n"
     ]
    },
    {
     "name": "stderr",
     "output_type": "stream",
     "text": [
      "Working for n conditional variables: 1:  20%|██        | 1/5 [01:05<04:21, 65.48s/it]\n",
      "  8%|▊         | 16/200 [07:40<1:28:20, 28.81s/it] \n"
     ]
    },
    {
     "name": "stdout",
     "output_type": "stream",
     "text": [
      "Epoch 1/50, Loss: 2884.6112\n",
      "Epoch 11/50, Loss: 872.4768\n",
      "Epoch 21/50, Loss: 834.2858\n",
      "Epoch 31/50, Loss: 829.6940\n",
      "Epoch 41/50, Loss: 828.6660\n"
     ]
    },
    {
     "name": "stderr",
     "output_type": "stream",
     "text": [
      "Working for n conditional variables: 1:  20%|██        | 1/5 [00:00<00:00,  5.93it/s]\n",
      "  8%|▊         | 16/200 [00:01<00:20,  8.95it/s]\n"
     ]
    },
    {
     "name": "stdout",
     "output_type": "stream",
     "text": [
      "Epoch 1/50, Loss: 3510.0902\n",
      "Epoch 11/50, Loss: 1171.3186\n",
      "Epoch 21/50, Loss: 1124.5200\n",
      "Epoch 31/50, Loss: 1120.0949\n",
      "Epoch 41/50, Loss: 1119.2684\n"
     ]
    },
    {
     "name": "stderr",
     "output_type": "stream",
     "text": [
      "Working for n conditional variables: 1:  20%|██        | 1/5 [00:00<00:00,  5.87it/s]\n",
      "  8%|▊         | 16/200 [00:01<00:20,  9.13it/s]\n"
     ]
    },
    {
     "name": "stdout",
     "output_type": "stream",
     "text": [
      "Epoch 1/50, Loss: 6732.4088\n",
      "Epoch 11/50, Loss: 1840.8922\n",
      "Epoch 21/50, Loss: 1830.9107\n",
      "Epoch 31/50, Loss: 1830.9051\n",
      "Epoch 41/50, Loss: 1830.0693\n"
     ]
    },
    {
     "name": "stderr",
     "output_type": "stream",
     "text": [
      "Working for n conditional variables: 1:  20%|██        | 1/5 [00:01<00:04,  1.15s/it]\n",
      "  8%|▊         | 16/200 [00:08<01:37,  1.89it/s]\n"
     ]
    },
    {
     "name": "stdout",
     "output_type": "stream",
     "text": [
      "Epoch 1/50, Loss: 4252.0844\n",
      "Epoch 11/50, Loss: 1383.0950\n",
      "Epoch 21/50, Loss: 1361.2937\n",
      "Epoch 31/50, Loss: 1356.8650\n",
      "Epoch 41/50, Loss: 1357.6740\n"
     ]
    },
    {
     "name": "stderr",
     "output_type": "stream",
     "text": [
      "Working for n conditional variables: 1:  20%|██        | 1/5 [00:00<00:01,  2.35it/s]\n",
      "  8%|▊         | 16/200 [00:03<00:37,  4.90it/s]\n"
     ]
    },
    {
     "name": "stdout",
     "output_type": "stream",
     "text": [
      "Epoch 1/50, Loss: 5898.6599\n",
      "Epoch 11/50, Loss: 1879.9891\n",
      "Epoch 21/50, Loss: 1861.1611\n",
      "Epoch 31/50, Loss: 1859.3964\n",
      "Epoch 41/50, Loss: 1857.3764\n"
     ]
    },
    {
     "name": "stderr",
     "output_type": "stream",
     "text": [
      "Working for n conditional variables: 1:  20%|██        | 1/5 [00:00<00:02,  1.63it/s]\n",
      "  8%|▊         | 16/200 [00:04<00:54,  3.35it/s]\n"
     ]
    },
    {
     "name": "stdout",
     "output_type": "stream",
     "text": [
      "Epoch 1/50, Loss: 3603.6649\n",
      "Epoch 11/50, Loss: 1005.3885\n",
      "Epoch 21/50, Loss: 945.9458\n",
      "Epoch 31/50, Loss: 940.8018\n",
      "Epoch 41/50, Loss: 939.3067\n"
     ]
    },
    {
     "name": "stderr",
     "output_type": "stream",
     "text": [
      "Working for n conditional variables: 1:  20%|██        | 1/5 [00:00<00:00,  5.83it/s]\n",
      "  8%|▊         | 16/200 [00:01<00:20,  8.87it/s]\n"
     ]
    },
    {
     "name": "stdout",
     "output_type": "stream",
     "text": [
      "Epoch 1/50, Loss: 7755.5722\n",
      "Epoch 11/50, Loss: 2449.0384\n",
      "Epoch 21/50, Loss: 2440.4293\n",
      "Epoch 31/50, Loss: 2440.1104\n",
      "Epoch 41/50, Loss: 2437.1221\n"
     ]
    },
    {
     "name": "stderr",
     "output_type": "stream",
     "text": [
      "Working for n conditional variables: 1:  20%|██        | 1/5 [00:01<00:04,  1.16s/it]\n",
      "  8%|▊         | 16/200 [00:08<01:42,  1.80it/s]\n"
     ]
    },
    {
     "name": "stdout",
     "output_type": "stream",
     "text": [
      "Epoch 1/50, Loss: 7702.8797\n",
      "Epoch 11/50, Loss: 2399.3231\n",
      "Epoch 21/50, Loss: 2386.3368\n",
      "Epoch 31/50, Loss: 2385.6334\n",
      "Epoch 41/50, Loss: 2383.7455\n"
     ]
    },
    {
     "name": "stderr",
     "output_type": "stream",
     "text": [
      "Working for n conditional variables: 1:  20%|██        | 1/5 [00:01<00:04,  1.16s/it]\n",
      "  8%|▊         | 16/200 [00:08<01:37,  1.88it/s]\n"
     ]
    },
    {
     "name": "stdout",
     "output_type": "stream",
     "text": [
      "Epoch 1/50, Loss: 8722.5285\n",
      "Epoch 11/50, Loss: 3019.6430\n",
      "Epoch 21/50, Loss: 3010.3362\n",
      "Epoch 31/50, Loss: 3009.0734\n",
      "Epoch 41/50, Loss: 3009.1017\n"
     ]
    },
    {
     "name": "stderr",
     "output_type": "stream",
     "text": [
      "Working for n conditional variables: 1:  20%|██        | 1/5 [00:01<00:04,  1.16s/it]\n",
      "  8%|▊         | 16/200 [00:08<01:41,  1.81it/s]\n"
     ]
    },
    {
     "name": "stdout",
     "output_type": "stream",
     "text": [
      "Epoch 1/50, Loss: 3441.4554\n",
      "Epoch 11/50, Loss: 994.7175\n",
      "Epoch 21/50, Loss: 938.2678\n",
      "Epoch 31/50, Loss: 934.2946\n",
      "Epoch 41/50, Loss: 932.3520\n"
     ]
    },
    {
     "name": "stderr",
     "output_type": "stream",
     "text": [
      "Working for n conditional variables: 1:  20%|██        | 1/5 [00:00<00:00,  6.47it/s]\n",
      "  8%|▊         | 16/200 [00:01<00:21,  8.53it/s]\n"
     ]
    },
    {
     "name": "stdout",
     "output_type": "stream",
     "text": [
      "Epoch 1/50, Loss: 5291.7496\n",
      "Epoch 11/50, Loss: 1593.2654\n",
      "Epoch 21/50, Loss: 1559.4495\n",
      "Epoch 31/50, Loss: 1552.6289\n",
      "Epoch 41/50, Loss: 1552.2481\n"
     ]
    },
    {
     "name": "stderr",
     "output_type": "stream",
     "text": [
      "Working for n conditional variables: 1:  20%|██        | 1/5 [00:00<00:01,  2.38it/s]\n",
      "  8%|▊         | 16/200 [00:03<00:38,  4.84it/s]\n"
     ]
    },
    {
     "name": "stdout",
     "output_type": "stream",
     "text": [
      "Epoch 1/50, Loss: 3042.0653\n",
      "Epoch 11/50, Loss: 887.1048\n",
      "Epoch 21/50, Loss: 852.0154\n",
      "Epoch 31/50, Loss: 846.9827\n",
      "Epoch 41/50, Loss: 847.2865\n"
     ]
    },
    {
     "name": "stderr",
     "output_type": "stream",
     "text": [
      "Working for n conditional variables: 1:  20%|██        | 1/5 [00:00<00:00,  5.62it/s]\n",
      "  8%|▊         | 16/200 [00:01<00:19,  9.27it/s]\n"
     ]
    },
    {
     "name": "stdout",
     "output_type": "stream",
     "text": [
      "Epoch 1/50, Loss: 5664.1926\n",
      "Epoch 11/50, Loss: 1724.4794\n",
      "Epoch 21/50, Loss: 1709.8848\n",
      "Epoch 31/50, Loss: 1709.2431\n",
      "Epoch 41/50, Loss: 1710.6592\n"
     ]
    },
    {
     "name": "stderr",
     "output_type": "stream",
     "text": [
      "Working for n conditional variables: 1:  20%|██        | 1/5 [00:00<00:02,  1.62it/s]\n",
      "  8%|▊         | 16/200 [00:04<00:53,  3.44it/s]\n"
     ]
    },
    {
     "name": "stdout",
     "output_type": "stream",
     "text": [
      "Epoch 1/50, Loss: 3430.5730\n",
      "Epoch 11/50, Loss: 1037.7676\n",
      "Epoch 21/50, Loss: 983.7625\n",
      "Epoch 31/50, Loss: 978.8454\n",
      "Epoch 41/50, Loss: 975.5192\n"
     ]
    },
    {
     "name": "stderr",
     "output_type": "stream",
     "text": [
      "Working for n conditional variables: 1:  20%|██        | 1/5 [00:00<00:00,  6.40it/s]\n",
      "  8%|▊         | 16/200 [00:01<00:20,  8.81it/s]\n"
     ]
    },
    {
     "name": "stdout",
     "output_type": "stream",
     "text": [
      "Epoch 1/50, Loss: 4433.3783\n",
      "Epoch 11/50, Loss: 1416.9262\n",
      "Epoch 21/50, Loss: 1390.8533\n",
      "Epoch 31/50, Loss: 1389.3803\n",
      "Epoch 41/50, Loss: 1387.5163\n"
     ]
    },
    {
     "name": "stderr",
     "output_type": "stream",
     "text": [
      "Working for n conditional variables: 1:  20%|██        | 1/5 [00:00<00:01,  2.06it/s]\n",
      "  8%|▊         | 16/200 [00:03<00:39,  4.66it/s]\n"
     ]
    },
    {
     "name": "stdout",
     "output_type": "stream",
     "text": [
      "Epoch 1/50, Loss: 7186.9203\n",
      "Epoch 11/50, Loss: 2193.2043\n",
      "Epoch 21/50, Loss: 2186.0728\n",
      "Epoch 31/50, Loss: 2184.3861\n",
      "Epoch 41/50, Loss: 2183.5260\n"
     ]
    },
    {
     "name": "stderr",
     "output_type": "stream",
     "text": [
      "Working for n conditional variables: 1:  20%|██        | 1/5 [00:01<00:04,  1.23s/it]\n",
      "  8%|▊         | 16/200 [00:09<01:44,  1.76it/s]\n"
     ]
    },
    {
     "name": "stdout",
     "output_type": "stream",
     "text": [
      "Epoch 1/50, Loss: 12100.9172\n",
      "Epoch 11/50, Loss: 4437.7781\n",
      "Epoch 21/50, Loss: 4426.9050\n",
      "Epoch 31/50, Loss: 4425.0775\n",
      "Epoch 41/50, Loss: 4424.9456\n"
     ]
    },
    {
     "name": "stderr",
     "output_type": "stream",
     "text": [
      "Working for n conditional variables: 1:  20%|██        | 1/5 [00:02<00:09,  2.43s/it]\n",
      "  8%|▊         | 16/200 [00:18<03:31,  1.15s/it]\n"
     ]
    },
    {
     "name": "stdout",
     "output_type": "stream",
     "text": [
      "Epoch 1/50, Loss: 6721.3783\n",
      "Epoch 11/50, Loss: 2359.6622\n",
      "Epoch 21/50, Loss: 2337.0652\n",
      "Epoch 31/50, Loss: 2333.0896\n",
      "Epoch 41/50, Loss: 2332.3132\n"
     ]
    },
    {
     "name": "stderr",
     "output_type": "stream",
     "text": [
      "Working for n conditional variables: 1:  20%|██        | 1/5 [00:00<00:02,  1.54it/s]\n",
      "  8%|▊         | 16/200 [00:04<00:56,  3.28it/s]\n"
     ]
    },
    {
     "name": "stdout",
     "output_type": "stream",
     "text": [
      "Epoch 1/50, Loss: 7465.3789\n",
      "Epoch 11/50, Loss: 2223.8261\n",
      "Epoch 21/50, Loss: 2213.2893\n",
      "Epoch 31/50, Loss: 2211.5140\n",
      "Epoch 41/50, Loss: 2211.0000\n"
     ]
    },
    {
     "name": "stderr",
     "output_type": "stream",
     "text": [
      "Working for n conditional variables: 1:  20%|██        | 1/5 [00:01<00:04,  1.20s/it]\n",
      "  8%|▊         | 16/200 [00:09<01:45,  1.74it/s]\n"
     ]
    },
    {
     "name": "stdout",
     "output_type": "stream",
     "text": [
      "Epoch 1/50, Loss: 5729.7716\n",
      "Epoch 11/50, Loss: 1904.8177\n",
      "Epoch 21/50, Loss: 1872.1591\n",
      "Epoch 31/50, Loss: 1870.4209\n",
      "Epoch 41/50, Loss: 1866.2067\n"
     ]
    },
    {
     "name": "stderr",
     "output_type": "stream",
     "text": [
      "Working for n conditional variables: 1:  20%|██        | 1/5 [00:00<00:01,  2.12it/s]\n",
      "  8%|▊         | 16/200 [00:03<00:38,  4.79it/s]\n"
     ]
    },
    {
     "name": "stdout",
     "output_type": "stream",
     "text": [
      "Epoch 1/50, Loss: 4591.6062\n",
      "Epoch 11/50, Loss: 1285.4548\n",
      "Epoch 21/50, Loss: 1258.9878\n",
      "Epoch 31/50, Loss: 1254.7121\n",
      "Epoch 41/50, Loss: 1254.4656\n"
     ]
    },
    {
     "name": "stderr",
     "output_type": "stream",
     "text": [
      "Working for n conditional variables: 1:  20%|██        | 1/5 [00:00<00:01,  2.07it/s]\n",
      "  8%|▊         | 16/200 [00:03<00:37,  4.85it/s]\n"
     ]
    },
    {
     "name": "stdout",
     "output_type": "stream",
     "text": [
      "Epoch 1/50, Loss: 7955.9239\n",
      "Epoch 11/50, Loss: 2474.3225\n",
      "Epoch 21/50, Loss: 2464.7536\n",
      "Epoch 31/50, Loss: 2461.1215\n",
      "Epoch 41/50, Loss: 2460.2000\n"
     ]
    },
    {
     "name": "stderr",
     "output_type": "stream",
     "text": [
      "Working for n conditional variables: 1:  20%|██        | 1/5 [00:01<00:04,  1.22s/it]\n",
      "  8%|▊         | 16/200 [00:08<01:43,  1.78it/s]\n"
     ]
    },
    {
     "name": "stdout",
     "output_type": "stream",
     "text": [
      "Epoch 1/50, Loss: 7674.9332\n",
      "Epoch 11/50, Loss: 2662.0624\n",
      "Epoch 21/50, Loss: 2636.3847\n",
      "Epoch 31/50, Loss: 2633.0648\n",
      "Epoch 41/50, Loss: 2632.2881\n"
     ]
    },
    {
     "name": "stderr",
     "output_type": "stream",
     "text": [
      "Working for n conditional variables: 1:  20%|██        | 1/5 [00:00<00:02,  1.54it/s]\n",
      "  8%|▊         | 16/200 [00:04<00:54,  3.36it/s]\n"
     ]
    },
    {
     "name": "stdout",
     "output_type": "stream",
     "text": [
      "Epoch 1/50, Loss: 33547.8960\n",
      "Epoch 11/50, Loss: 21082.6407\n",
      "Epoch 21/50, Loss: 21013.6478\n",
      "Epoch 31/50, Loss: 20973.3120\n",
      "Epoch 41/50, Loss: 20951.1024\n"
     ]
    },
    {
     "name": "stderr",
     "output_type": "stream",
     "text": [
      "Working for n conditional variables: 1:  20%|██        | 1/5 [01:01<04:05, 61.29s/it]\n",
      "  8%|▊         | 16/200 [07:35<1:27:20, 28.48s/it] \n"
     ]
    },
    {
     "name": "stdout",
     "output_type": "stream",
     "text": [
      "Epoch 1/50, Loss: 4455.1585\n",
      "Epoch 11/50, Loss: 1266.7432\n",
      "Epoch 21/50, Loss: 1228.8225\n",
      "Epoch 31/50, Loss: 1224.1117\n",
      "Epoch 41/50, Loss: 1225.4292\n"
     ]
    },
    {
     "name": "stderr",
     "output_type": "stream",
     "text": [
      "Working for n conditional variables: 1:  20%|██        | 1/5 [00:00<00:01,  2.27it/s]\n",
      "  8%|▊         | 16/200 [00:03<00:40,  4.57it/s]\n"
     ]
    },
    {
     "name": "stdout",
     "output_type": "stream",
     "text": [
      "Epoch 1/50, Loss: 23937.3768\n",
      "Epoch 11/50, Loss: 14494.9496\n",
      "Epoch 21/50, Loss: 14375.3215\n",
      "Epoch 31/50, Loss: 14314.1434\n",
      "Epoch 41/50, Loss: 14279.4212\n"
     ]
    },
    {
     "name": "stderr",
     "output_type": "stream",
     "text": [
      "Working for n conditional variables: 1:  20%|██        | 1/5 [01:04<04:19, 64.76s/it]\n",
      "  8%|▊         | 16/200 [07:29<1:26:09, 28.10s/it] \n"
     ]
    },
    {
     "name": "stdout",
     "output_type": "stream",
     "text": [
      "Epoch 1/50, Loss: 4273.7014\n",
      "Epoch 11/50, Loss: 1270.4974\n",
      "Epoch 21/50, Loss: 1241.0398\n",
      "Epoch 31/50, Loss: 1238.0487\n",
      "Epoch 41/50, Loss: 1235.9670\n"
     ]
    },
    {
     "name": "stderr",
     "output_type": "stream",
     "text": [
      "Working for n conditional variables: 1:  20%|██        | 1/5 [00:00<00:01,  2.34it/s]\n",
      "  8%|▊         | 16/200 [00:03<00:37,  4.86it/s]\n"
     ]
    },
    {
     "name": "stdout",
     "output_type": "stream",
     "text": [
      "Epoch 1/50, Loss: 10363.9730\n",
      "Epoch 11/50, Loss: 3482.5255\n",
      "Epoch 21/50, Loss: 3473.0913\n",
      "Epoch 31/50, Loss: 3470.5888\n",
      "Epoch 41/50, Loss: 3468.2022\n"
     ]
    },
    {
     "name": "stderr",
     "output_type": "stream",
     "text": [
      "Working for n conditional variables: 1:  20%|██        | 1/5 [00:02<00:09,  2.34s/it]\n",
      "  8%|▊         | 16/200 [00:17<03:25,  1.12s/it]\n"
     ]
    },
    {
     "name": "stdout",
     "output_type": "stream",
     "text": [
      "Epoch 1/50, Loss: 5627.1230\n",
      "Epoch 11/50, Loss: 1720.7490\n",
      "Epoch 21/50, Loss: 1700.2628\n",
      "Epoch 31/50, Loss: 1699.2351\n",
      "Epoch 41/50, Loss: 1697.1335\n"
     ]
    },
    {
     "name": "stderr",
     "output_type": "stream",
     "text": [
      "Working for n conditional variables: 1:  20%|██        | 1/5 [00:00<00:02,  1.60it/s]\n",
      "  8%|▊         | 16/200 [00:04<00:54,  3.40it/s]\n"
     ]
    },
    {
     "name": "stdout",
     "output_type": "stream",
     "text": [
      "Epoch 1/50, Loss: 35805.3428\n",
      "Epoch 11/50, Loss: 23418.3797\n",
      "Epoch 21/50, Loss: 23361.2518\n",
      "Epoch 31/50, Loss: 23327.2305\n",
      "Epoch 41/50, Loss: 23304.1940\n"
     ]
    },
    {
     "name": "stderr",
     "output_type": "stream",
     "text": [
      "Working for n conditional variables: 1:  20%|██        | 1/5 [01:00<04:02, 60.71s/it]\n",
      "  8%|▊         | 16/200 [07:31<1:26:33, 28.22s/it] \n"
     ]
    },
    {
     "name": "stdout",
     "output_type": "stream",
     "text": [
      "Epoch 1/50, Loss: 9708.7881\n",
      "Epoch 11/50, Loss: 3278.7325\n",
      "Epoch 21/50, Loss: 3276.1724\n",
      "Epoch 31/50, Loss: 3274.0406\n",
      "Epoch 41/50, Loss: 3271.7161\n"
     ]
    },
    {
     "name": "stderr",
     "output_type": "stream",
     "text": [
      "Working for n conditional variables: 1:  20%|██        | 1/5 [00:02<00:09,  2.41s/it]\n",
      "  8%|▊         | 16/200 [00:19<03:40,  1.20s/it]\n"
     ]
    },
    {
     "name": "stdout",
     "output_type": "stream",
     "text": [
      "Epoch 1/50, Loss: 5210.2679\n",
      "Epoch 11/50, Loss: 1528.7691\n",
      "Epoch 21/50, Loss: 1513.5577\n",
      "Epoch 31/50, Loss: 1511.6847\n",
      "Epoch 41/50, Loss: 1512.4599\n"
     ]
    },
    {
     "name": "stderr",
     "output_type": "stream",
     "text": [
      "Working for n conditional variables: 1:  20%|██        | 1/5 [00:00<00:02,  1.47it/s]\n",
      "  8%|▊         | 16/200 [00:05<01:00,  3.06it/s]\n"
     ]
    },
    {
     "name": "stdout",
     "output_type": "stream",
     "text": [
      "Epoch 1/50, Loss: 9600.8449\n",
      "Epoch 11/50, Loss: 3015.6465\n",
      "Epoch 21/50, Loss: 3009.7161\n",
      "Epoch 31/50, Loss: 3006.9868\n",
      "Epoch 41/50, Loss: 3005.5523\n"
     ]
    },
    {
     "name": "stderr",
     "output_type": "stream",
     "text": [
      "Working for n conditional variables: 1:  20%|██        | 1/5 [00:02<00:10,  2.55s/it]\n",
      "  8%|▊         | 16/200 [00:17<03:24,  1.11s/it]\n"
     ]
    },
    {
     "name": "stdout",
     "output_type": "stream",
     "text": [
      "Epoch 1/50, Loss: 4763.4763\n",
      "Epoch 11/50, Loss: 1494.4072\n",
      "Epoch 21/50, Loss: 1473.4074\n",
      "Epoch 31/50, Loss: 1471.5582\n",
      "Epoch 41/50, Loss: 1469.4618\n"
     ]
    },
    {
     "name": "stderr",
     "output_type": "stream",
     "text": [
      "Working for n conditional variables: 1:  20%|██        | 1/5 [00:00<00:01,  2.17it/s]\n",
      "  8%|▊         | 16/200 [00:03<00:36,  4.98it/s]\n"
     ]
    },
    {
     "name": "stdout",
     "output_type": "stream",
     "text": [
      "Epoch 1/50, Loss: 6701.9457\n",
      "Epoch 11/50, Loss: 2355.5258\n",
      "Epoch 21/50, Loss: 2332.2315\n",
      "Epoch 31/50, Loss: 2327.8095\n",
      "Epoch 41/50, Loss: 2326.5406\n"
     ]
    },
    {
     "name": "stderr",
     "output_type": "stream",
     "text": [
      "Working for n conditional variables: 1:  20%|██        | 1/5 [00:00<00:02,  1.59it/s]\n",
      "  8%|▊         | 16/200 [00:04<00:54,  3.36it/s]\n"
     ]
    },
    {
     "name": "stdout",
     "output_type": "stream",
     "text": [
      "Epoch 1/50, Loss: 4557.4328\n",
      "Epoch 11/50, Loss: 1468.5921\n",
      "Epoch 21/50, Loss: 1409.7858\n",
      "Epoch 31/50, Loss: 1402.8150\n",
      "Epoch 41/50, Loss: 1401.4799\n"
     ]
    },
    {
     "name": "stderr",
     "output_type": "stream",
     "text": [
      "Working for n conditional variables: 1:  20%|██        | 1/5 [00:00<00:00,  5.81it/s]\n",
      "  8%|▊         | 16/200 [00:01<00:20,  8.87it/s]\n"
     ]
    },
    {
     "name": "stdout",
     "output_type": "stream",
     "text": [
      "Epoch 1/50, Loss: 5437.7944\n",
      "Epoch 11/50, Loss: 1787.8536\n",
      "Epoch 21/50, Loss: 1771.0082\n",
      "Epoch 31/50, Loss: 1765.3421\n",
      "Epoch 41/50, Loss: 1766.7722\n"
     ]
    },
    {
     "name": "stderr",
     "output_type": "stream",
     "text": [
      "Working for n conditional variables: 1:  20%|██        | 1/5 [00:00<00:02,  1.53it/s]\n",
      "  8%|▊         | 16/200 [00:04<00:53,  3.41it/s]\n"
     ]
    },
    {
     "name": "stdout",
     "output_type": "stream",
     "text": [
      "Epoch 1/50, Loss: 10984.2905\n",
      "Epoch 11/50, Loss: 3732.7731\n",
      "Epoch 21/50, Loss: 3720.7862\n",
      "Epoch 31/50, Loss: 3717.8805\n",
      "Epoch 41/50, Loss: 3712.0646\n"
     ]
    },
    {
     "name": "stderr",
     "output_type": "stream",
     "text": [
      "Working for n conditional variables: 1:  20%|██        | 1/5 [00:02<00:09,  2.29s/it]\n",
      "  8%|▊         | 16/200 [00:18<03:28,  1.13s/it]\n"
     ]
    },
    {
     "name": "stdout",
     "output_type": "stream",
     "text": [
      "Epoch 1/50, Loss: 5105.3284\n",
      "Epoch 11/50, Loss: 1698.3428\n",
      "Epoch 21/50, Loss: 1673.5607\n",
      "Epoch 31/50, Loss: 1671.3186\n",
      "Epoch 41/50, Loss: 1668.7391\n"
     ]
    },
    {
     "name": "stderr",
     "output_type": "stream",
     "text": [
      "Working for n conditional variables: 1:  20%|██        | 1/5 [00:00<00:01,  2.16it/s]\n",
      "  8%|▊         | 16/200 [00:03<00:37,  4.90it/s]\n"
     ]
    },
    {
     "name": "stdout",
     "output_type": "stream",
     "text": [
      "Epoch 1/50, Loss: 9778.1969\n",
      "Epoch 11/50, Loss: 3140.8862\n",
      "Epoch 21/50, Loss: 3132.5081\n",
      "Epoch 31/50, Loss: 3125.3572\n",
      "Epoch 41/50, Loss: 3118.2577\n"
     ]
    },
    {
     "name": "stderr",
     "output_type": "stream",
     "text": [
      "Working for n conditional variables: 1:  20%|██        | 1/5 [00:02<00:09,  2.25s/it]\n",
      "  8%|▊         | 16/200 [00:17<03:26,  1.12s/it]\n"
     ]
    },
    {
     "name": "stdout",
     "output_type": "stream",
     "text": [
      "Epoch 1/50, Loss: 4173.2811\n",
      "Epoch 11/50, Loss: 1222.6205\n",
      "Epoch 21/50, Loss: 1191.8579\n",
      "Epoch 31/50, Loss: 1186.8178\n",
      "Epoch 41/50, Loss: 1186.2749\n"
     ]
    },
    {
     "name": "stderr",
     "output_type": "stream",
     "text": [
      "Working for n conditional variables: 1:  20%|██        | 1/5 [00:00<00:01,  2.23it/s]\n",
      "  8%|▊         | 16/200 [00:03<00:37,  4.88it/s]\n"
     ]
    },
    {
     "name": "stdout",
     "output_type": "stream",
     "text": [
      "Epoch 1/50, Loss: 9098.1159\n",
      "Epoch 11/50, Loss: 3190.8662\n",
      "Epoch 21/50, Loss: 3175.3013\n",
      "Epoch 31/50, Loss: 3172.0956\n",
      "Epoch 41/50, Loss: 3171.3227\n"
     ]
    },
    {
     "name": "stderr",
     "output_type": "stream",
     "text": [
      "Working for n conditional variables: 1:  20%|██        | 1/5 [00:01<00:04,  1.20s/it]\n",
      "  8%|▊         | 16/200 [00:08<01:39,  1.85it/s]\n"
     ]
    },
    {
     "name": "stdout",
     "output_type": "stream",
     "text": [
      "Epoch 1/50, Loss: 7752.4068\n",
      "Epoch 11/50, Loss: 2302.1842\n",
      "Epoch 21/50, Loss: 2291.1471\n",
      "Epoch 31/50, Loss: 2288.9847\n",
      "Epoch 41/50, Loss: 2289.5908\n"
     ]
    },
    {
     "name": "stderr",
     "output_type": "stream",
     "text": [
      "Working for n conditional variables: 1:  20%|██        | 1/5 [00:01<00:04,  1.22s/it]\n",
      "  8%|▊         | 16/200 [00:09<01:44,  1.77it/s]\n"
     ]
    },
    {
     "name": "stdout",
     "output_type": "stream",
     "text": [
      "Epoch 1/50, Loss: 3799.8923\n",
      "Epoch 11/50, Loss: 1159.7195\n",
      "Epoch 21/50, Loss: 1101.3244\n",
      "Epoch 31/50, Loss: 1094.7536\n",
      "Epoch 41/50, Loss: 1094.2178\n"
     ]
    },
    {
     "name": "stderr",
     "output_type": "stream",
     "text": [
      "Working for n conditional variables: 1:  20%|██        | 1/5 [00:00<00:00,  5.32it/s]\n",
      "  8%|▊         | 16/200 [00:01<00:19,  9.22it/s]\n"
     ]
    },
    {
     "name": "stdout",
     "output_type": "stream",
     "text": [
      "Epoch 1/50, Loss: 5645.6955\n",
      "Epoch 11/50, Loss: 1871.6502\n",
      "Epoch 21/50, Loss: 1839.2628\n",
      "Epoch 31/50, Loss: 1834.4343\n",
      "Epoch 41/50, Loss: 1833.8786\n"
     ]
    },
    {
     "name": "stderr",
     "output_type": "stream",
     "text": [
      "Working for n conditional variables: 1:  20%|██        | 1/5 [00:00<00:01,  2.29it/s]\n",
      "  8%|▊         | 16/200 [00:03<00:37,  4.91it/s]\n"
     ]
    },
    {
     "name": "stdout",
     "output_type": "stream",
     "text": [
      "Epoch 1/50, Loss: 16151.6875\n",
      "Epoch 11/50, Loss: 7006.7332\n",
      "Epoch 21/50, Loss: 6988.1785\n",
      "Epoch 31/50, Loss: 6973.2359\n",
      "Epoch 41/50, Loss: 6961.5057\n"
     ]
    },
    {
     "name": "stderr",
     "output_type": "stream",
     "text": [
      "Working for n conditional variables: 1:  20%|██        | 1/5 [00:10<00:41, 10.31s/it]\n",
      "  8%|▊         | 16/200 [01:16<14:38,  4.77s/it] \n"
     ]
    },
    {
     "name": "stdout",
     "output_type": "stream",
     "text": [
      "Epoch 1/50, Loss: 3594.0896\n",
      "Epoch 11/50, Loss: 1133.7459\n",
      "Epoch 21/50, Loss: 1082.4139\n",
      "Epoch 31/50, Loss: 1077.0312\n",
      "Epoch 41/50, Loss: 1073.8792\n"
     ]
    },
    {
     "name": "stderr",
     "output_type": "stream",
     "text": [
      "Working for n conditional variables: 1:  20%|██        | 1/5 [00:00<00:00,  5.77it/s]\n",
      "  8%|▊         | 16/200 [00:01<00:22,  8.09it/s]\n"
     ]
    },
    {
     "name": "stdout",
     "output_type": "stream",
     "text": [
      "Epoch 1/50, Loss: 4758.5583\n",
      "Epoch 11/50, Loss: 1407.3575\n",
      "Epoch 21/50, Loss: 1390.8517\n",
      "Epoch 31/50, Loss: 1385.8199\n",
      "Epoch 41/50, Loss: 1388.1813\n"
     ]
    },
    {
     "name": "stderr",
     "output_type": "stream",
     "text": [
      "Working for n conditional variables: 1:  20%|██        | 1/5 [00:00<00:02,  1.46it/s]\n",
      "  8%|▊         | 16/200 [00:05<00:57,  3.19it/s]\n"
     ]
    },
    {
     "name": "stdout",
     "output_type": "stream",
     "text": [
      "Epoch 1/50, Loss: 34159.1740\n",
      "Epoch 11/50, Loss: 22187.5657\n",
      "Epoch 21/50, Loss: 22122.8973\n",
      "Epoch 31/50, Loss: 22089.2648\n",
      "Epoch 41/50, Loss: 22071.1848\n"
     ]
    },
    {
     "name": "stderr",
     "output_type": "stream",
     "text": [
      "Working for n conditional variables: 1:  20%|██        | 1/5 [01:05<04:23, 65.81s/it]\n",
      "  8%|▊         | 16/200 [07:35<1:27:17, 28.46s/it] \n"
     ]
    },
    {
     "name": "stdout",
     "output_type": "stream",
     "text": [
      "Epoch 1/50, Loss: 4920.9642\n",
      "Epoch 11/50, Loss: 1483.5583\n",
      "Epoch 21/50, Loss: 1449.8344\n",
      "Epoch 31/50, Loss: 1445.4942\n",
      "Epoch 41/50, Loss: 1443.4347\n"
     ]
    },
    {
     "name": "stderr",
     "output_type": "stream",
     "text": [
      "Working for n conditional variables: 1:  20%|██        | 1/5 [00:00<00:01,  2.35it/s]\n",
      "  8%|▊         | 16/200 [00:03<00:36,  4.99it/s]\n"
     ]
    },
    {
     "name": "stdout",
     "output_type": "stream",
     "text": [
      "Epoch 1/50, Loss: 8133.5523\n",
      "Epoch 11/50, Loss: 2480.9746\n",
      "Epoch 21/50, Loss: 2471.5081\n",
      "Epoch 31/50, Loss: 2467.8615\n",
      "Epoch 41/50, Loss: 2465.2186\n"
     ]
    },
    {
     "name": "stderr",
     "output_type": "stream",
     "text": [
      "Working for n conditional variables: 1:  20%|██        | 1/5 [00:01<00:04,  1.12s/it]\n",
      "  8%|▊         | 16/200 [00:08<01:41,  1.82it/s]\n"
     ]
    },
    {
     "name": "stdout",
     "output_type": "stream",
     "text": [
      "Epoch 1/50, Loss: 3651.7032\n",
      "Epoch 11/50, Loss: 1102.5128\n",
      "Epoch 21/50, Loss: 1046.7271\n",
      "Epoch 31/50, Loss: 1042.5767\n",
      "Epoch 41/50, Loss: 1041.0340\n"
     ]
    },
    {
     "name": "stderr",
     "output_type": "stream",
     "text": [
      "Working for n conditional variables: 1:  20%|██        | 1/5 [00:00<00:00,  6.33it/s]\n",
      "  8%|▊         | 16/200 [00:01<00:19,  9.21it/s]\n"
     ]
    },
    {
     "name": "stdout",
     "output_type": "stream",
     "text": [
      "Epoch 1/50, Loss: 14056.4734\n",
      "Epoch 11/50, Loss: 4827.6008\n",
      "Epoch 21/50, Loss: 4823.8621\n",
      "Epoch 31/50, Loss: 4820.7291\n",
      "Epoch 41/50, Loss: 4821.3376\n"
     ]
    },
    {
     "name": "stderr",
     "output_type": "stream",
     "text": [
      "Working for n conditional variables: 1:  20%|██        | 1/5 [00:02<00:09,  2.32s/it]\n",
      "  8%|▊         | 16/200 [00:17<03:25,  1.12s/it]\n"
     ]
    },
    {
     "name": "stdout",
     "output_type": "stream",
     "text": [
      "Epoch 1/50, Loss: 4509.8214\n",
      "Epoch 11/50, Loss: 1632.7430\n",
      "Epoch 21/50, Loss: 1568.2222\n",
      "Epoch 31/50, Loss: 1562.3107\n",
      "Epoch 41/50, Loss: 1559.0720\n"
     ]
    },
    {
     "name": "stderr",
     "output_type": "stream",
     "text": [
      "Working for n conditional variables: 1:  20%|██        | 1/5 [00:00<00:00,  5.92it/s]\n",
      "  8%|▊         | 16/200 [00:01<00:19,  9.28it/s]\n"
     ]
    },
    {
     "name": "stdout",
     "output_type": "stream",
     "text": [
      "Epoch 1/50, Loss: 10291.5250\n",
      "Epoch 11/50, Loss: 3901.2413\n",
      "Epoch 21/50, Loss: 3887.8227\n",
      "Epoch 31/50, Loss: 3884.1225\n",
      "Epoch 41/50, Loss: 3885.0951\n"
     ]
    },
    {
     "name": "stderr",
     "output_type": "stream",
     "text": [
      "Working for n conditional variables: 1:  20%|██        | 1/5 [00:01<00:04,  1.22s/it]\n",
      "  8%|▊         | 16/200 [00:09<01:44,  1.76it/s]\n"
     ]
    },
    {
     "name": "stdout",
     "output_type": "stream",
     "text": [
      "Epoch 1/50, Loss: 4038.3480\n",
      "Epoch 11/50, Loss: 1295.2657\n",
      "Epoch 21/50, Loss: 1240.9852\n",
      "Epoch 31/50, Loss: 1237.1719\n",
      "Epoch 41/50, Loss: 1236.7765\n"
     ]
    },
    {
     "name": "stderr",
     "output_type": "stream",
     "text": [
      "Working for n conditional variables: 1:  20%|██        | 1/5 [00:00<00:00,  5.73it/s]\n",
      "  8%|▊         | 16/200 [00:01<00:20,  8.98it/s]\n"
     ]
    },
    {
     "name": "stdout",
     "output_type": "stream",
     "text": [
      "Epoch 1/50, Loss: 9317.7332\n",
      "Epoch 11/50, Loss: 3221.1895\n",
      "Epoch 21/50, Loss: 3207.7483\n",
      "Epoch 31/50, Loss: 3205.1925\n",
      "Epoch 41/50, Loss: 3202.0189\n"
     ]
    },
    {
     "name": "stderr",
     "output_type": "stream",
     "text": [
      "Working for n conditional variables: 1:  20%|██        | 1/5 [00:01<00:04,  1.19s/it]\n",
      "  8%|▊         | 16/200 [00:09<01:45,  1.74it/s]\n"
     ]
    },
    {
     "name": "stdout",
     "output_type": "stream",
     "text": [
      "Epoch 1/50, Loss: 9830.6501\n",
      "Epoch 11/50, Loss: 3396.2149\n",
      "Epoch 21/50, Loss: 3382.3225\n",
      "Epoch 31/50, Loss: 3378.7294\n",
      "Epoch 41/50, Loss: 3376.5798\n"
     ]
    },
    {
     "name": "stderr",
     "output_type": "stream",
     "text": [
      "Working for n conditional variables: 1:  20%|██        | 1/5 [00:01<00:04,  1.20s/it]\n",
      "  8%|▊         | 16/200 [00:09<01:46,  1.73it/s]\n"
     ]
    },
    {
     "name": "stdout",
     "output_type": "stream",
     "text": [
      "Epoch 1/50, Loss: 5524.1048\n",
      "Epoch 11/50, Loss: 1833.1531\n",
      "Epoch 21/50, Loss: 1788.9556\n",
      "Epoch 31/50, Loss: 1787.1036\n",
      "Epoch 41/50, Loss: 1782.4917\n"
     ]
    },
    {
     "name": "stderr",
     "output_type": "stream",
     "text": [
      "Working for n conditional variables: 1:  20%|██        | 1/5 [00:00<00:01,  2.12it/s]\n",
      "  8%|▊         | 16/200 [00:03<00:39,  4.71it/s]\n"
     ]
    },
    {
     "name": "stdout",
     "output_type": "stream",
     "text": [
      "Epoch 1/50, Loss: 8926.3940\n",
      "Epoch 11/50, Loss: 2714.8772\n",
      "Epoch 21/50, Loss: 2703.7586\n",
      "Epoch 31/50, Loss: 2702.4853\n",
      "Epoch 41/50, Loss: 2702.8239\n"
     ]
    },
    {
     "name": "stderr",
     "output_type": "stream",
     "text": [
      "Working for n conditional variables: 1:  20%|██        | 1/5 [00:01<00:04,  1.23s/it]\n",
      "  8%|▊         | 16/200 [00:09<01:47,  1.71it/s]\n"
     ]
    },
    {
     "name": "stdout",
     "output_type": "stream",
     "text": [
      "Epoch 1/50, Loss: 8657.1190\n",
      "Epoch 11/50, Loss: 2808.2662\n",
      "Epoch 21/50, Loss: 2795.5274\n",
      "Epoch 31/50, Loss: 2793.4904\n",
      "Epoch 41/50, Loss: 2793.2846\n"
     ]
    },
    {
     "name": "stderr",
     "output_type": "stream",
     "text": [
      "Working for n conditional variables: 1:  20%|██        | 1/5 [00:01<00:04,  1.22s/it]\n",
      "  8%|▊         | 16/200 [00:09<01:46,  1.72it/s]\n"
     ]
    },
    {
     "name": "stdout",
     "output_type": "stream",
     "text": [
      "Epoch 1/50, Loss: 7302.6976\n",
      "Epoch 11/50, Loss: 2499.9130\n",
      "Epoch 21/50, Loss: 2484.2946\n",
      "Epoch 31/50, Loss: 2478.3327\n",
      "Epoch 41/50, Loss: 2478.2331\n"
     ]
    },
    {
     "name": "stderr",
     "output_type": "stream",
     "text": [
      "Working for n conditional variables: 1:  20%|██        | 1/5 [00:00<00:02,  1.56it/s]\n",
      "  8%|▊         | 16/200 [00:04<00:54,  3.36it/s]\n"
     ]
    },
    {
     "name": "stdout",
     "output_type": "stream",
     "text": [
      "Epoch 1/50, Loss: 40080.8061\n",
      "Epoch 11/50, Loss: 26385.7732\n",
      "Epoch 21/50, Loss: 26335.7169\n",
      "Epoch 31/50, Loss: 26299.5910\n",
      "Epoch 41/50, Loss: 26282.2101\n"
     ]
    },
    {
     "name": "stderr",
     "output_type": "stream",
     "text": [
      "Working for n conditional variables: 1:  20%|██        | 1/5 [01:03<04:15, 63.87s/it]\n",
      "  8%|▊         | 16/200 [07:36<1:27:25, 28.51s/it] \n"
     ]
    },
    {
     "name": "stdout",
     "output_type": "stream",
     "text": [
      "Epoch 1/50, Loss: 6496.6841\n",
      "Epoch 11/50, Loss: 2096.8696\n",
      "Epoch 21/50, Loss: 2077.3402\n",
      "Epoch 31/50, Loss: 2072.9109\n",
      "Epoch 41/50, Loss: 2074.2167\n"
     ]
    },
    {
     "name": "stderr",
     "output_type": "stream",
     "text": [
      "Working for n conditional variables: 1:  20%|██        | 1/5 [00:00<00:02,  1.54it/s]\n",
      "  8%|▊         | 16/200 [00:04<00:54,  3.37it/s]\n"
     ]
    },
    {
     "name": "stdout",
     "output_type": "stream",
     "text": [
      "Epoch 1/50, Loss: 29900.5881\n",
      "Epoch 11/50, Loss: 18557.8635\n",
      "Epoch 21/50, Loss: 18563.8945\n",
      "Epoch 31/50, Loss: 18542.3362\n",
      "Epoch 41/50, Loss: 18531.7931\n"
     ]
    },
    {
     "name": "stderr",
     "output_type": "stream",
     "text": [
      "Working for n conditional variables: 1:  20%|██        | 1/5 [01:04<04:18, 64.54s/it]\n",
      "  8%|▊         | 16/200 [07:25<1:25:26, 27.86s/it] \n"
     ]
    },
    {
     "name": "stdout",
     "output_type": "stream",
     "text": [
      "Epoch 1/50, Loss: 30074.3396\n",
      "Epoch 11/50, Loss: 18263.2898\n",
      "Epoch 21/50, Loss: 18232.3505\n",
      "Epoch 31/50, Loss: 18172.9914\n",
      "Epoch 41/50, Loss: 18147.4194\n"
     ]
    },
    {
     "name": "stderr",
     "output_type": "stream",
     "text": [
      "Working for n conditional variables: 1:  20%|██        | 1/5 [01:00<04:02, 60.71s/it]\n",
      "  8%|▊         | 16/200 [07:36<1:27:33, 28.55s/it] \n"
     ]
    },
    {
     "name": "stdout",
     "output_type": "stream",
     "text": [
      "Epoch 1/50, Loss: 15833.4962\n",
      "Epoch 11/50, Loss: 7142.4300\n",
      "Epoch 21/50, Loss: 7103.9056\n",
      "Epoch 31/50, Loss: 7072.5152\n",
      "Epoch 41/50, Loss: 7054.3948\n"
     ]
    },
    {
     "name": "stderr",
     "output_type": "stream",
     "text": [
      "Working for n conditional variables: 1:  20%|██        | 1/5 [00:10<00:40, 10.21s/it]\n",
      "  8%|▊         | 16/200 [01:16<14:37,  4.77s/it] \n"
     ]
    },
    {
     "name": "stdout",
     "output_type": "stream",
     "text": [
      "Epoch 1/50, Loss: 4313.8252\n",
      "Epoch 11/50, Loss: 1450.7521\n",
      "Epoch 21/50, Loss: 1392.1127\n",
      "Epoch 31/50, Loss: 1385.2988\n",
      "Epoch 41/50, Loss: 1383.8399\n"
     ]
    },
    {
     "name": "stderr",
     "output_type": "stream",
     "text": [
      "Working for n conditional variables: 1:  20%|██        | 1/5 [00:00<00:00,  4.89it/s]\n",
      "  8%|▊         | 16/200 [00:01<00:21,  8.45it/s]\n"
     ]
    },
    {
     "name": "stdout",
     "output_type": "stream",
     "text": [
      "Epoch 1/50, Loss: 24362.4500\n",
      "Epoch 11/50, Loss: 10977.8683\n",
      "Epoch 21/50, Loss: 10953.0151\n",
      "Epoch 31/50, Loss: 10935.3669\n",
      "Epoch 41/50, Loss: 10919.7155\n"
     ]
    },
    {
     "name": "stderr",
     "output_type": "stream",
     "text": [
      "Working for n conditional variables: 1:  20%|██        | 1/5 [00:09<00:39, 10.00s/it]\n",
      "  8%|▊         | 16/200 [01:12<13:53,  4.53s/it] \n"
     ]
    },
    {
     "name": "stdout",
     "output_type": "stream",
     "text": [
      "Epoch 1/50, Loss: 5875.6549\n",
      "Epoch 11/50, Loss: 1949.7861\n",
      "Epoch 21/50, Loss: 1911.7336\n",
      "Epoch 31/50, Loss: 1906.1716\n",
      "Epoch 41/50, Loss: 1906.6152\n"
     ]
    },
    {
     "name": "stderr",
     "output_type": "stream",
     "text": [
      "Working for n conditional variables: 1:  20%|██        | 1/5 [00:00<00:01,  2.22it/s]\n",
      "  8%|▊         | 16/200 [00:03<00:36,  5.00it/s]\n"
     ]
    },
    {
     "name": "stdout",
     "output_type": "stream",
     "text": [
      "Epoch 1/50, Loss: 7267.8395\n",
      "Epoch 11/50, Loss: 2357.7718\n",
      "Epoch 21/50, Loss: 2332.5431\n",
      "Epoch 31/50, Loss: 2329.5361\n",
      "Epoch 41/50, Loss: 2329.8493\n"
     ]
    },
    {
     "name": "stderr",
     "output_type": "stream",
     "text": [
      "Working for n conditional variables: 1:  20%|██        | 1/5 [00:00<00:02,  1.62it/s]\n",
      "  8%|▊         | 16/200 [00:04<00:53,  3.45it/s]\n"
     ]
    },
    {
     "name": "stdout",
     "output_type": "stream",
     "text": [
      "Epoch 1/50, Loss: 5994.6175\n",
      "Epoch 11/50, Loss: 1730.9947\n",
      "Epoch 21/50, Loss: 1713.2856\n",
      "Epoch 31/50, Loss: 1710.9739\n",
      "Epoch 41/50, Loss: 1710.5600\n"
     ]
    },
    {
     "name": "stderr",
     "output_type": "stream",
     "text": [
      "Working for n conditional variables: 1:  20%|██        | 1/5 [00:00<00:02,  1.58it/s]\n",
      "  8%|▊         | 16/200 [00:04<00:56,  3.27it/s]\n"
     ]
    },
    {
     "name": "stdout",
     "output_type": "stream",
     "text": [
      "Epoch 1/50, Loss: 4045.8181\n",
      "Epoch 11/50, Loss: 1060.2613\n",
      "Epoch 21/50, Loss: 1037.6293\n",
      "Epoch 31/50, Loss: 1034.9219\n",
      "Epoch 41/50, Loss: 1033.9139\n"
     ]
    },
    {
     "name": "stderr",
     "output_type": "stream",
     "text": [
      "Working for n conditional variables: 1:  20%|██        | 1/5 [00:00<00:01,  2.22it/s]\n",
      "  8%|▊         | 16/200 [00:03<00:37,  4.95it/s]\n"
     ]
    },
    {
     "name": "stdout",
     "output_type": "stream",
     "text": [
      "Epoch 1/50, Loss: 5937.8250\n",
      "Epoch 11/50, Loss: 1913.4577\n",
      "Epoch 21/50, Loss: 1895.6672\n",
      "Epoch 31/50, Loss: 1894.0904\n",
      "Epoch 41/50, Loss: 1891.8141\n"
     ]
    },
    {
     "name": "stderr",
     "output_type": "stream",
     "text": [
      "Working for n conditional variables: 1:  20%|██        | 1/5 [00:00<00:02,  1.58it/s]\n",
      "  8%|▊         | 16/200 [00:04<00:54,  3.41it/s]\n"
     ]
    },
    {
     "name": "stdout",
     "output_type": "stream",
     "text": [
      "Epoch 1/50, Loss: 11238.8208\n",
      "Epoch 11/50, Loss: 3876.7509\n",
      "Epoch 21/50, Loss: 3871.2127\n",
      "Epoch 31/50, Loss: 3866.2857\n",
      "Epoch 41/50, Loss: 3866.6710\n"
     ]
    },
    {
     "name": "stderr",
     "output_type": "stream",
     "text": [
      "Working for n conditional variables: 1:  20%|██        | 1/5 [00:02<00:08,  2.23s/it]\n",
      "  8%|▊         | 16/200 [00:17<03:21,  1.09s/it]\n"
     ]
    },
    {
     "name": "stdout",
     "output_type": "stream",
     "text": [
      "Epoch 1/50, Loss: 5958.7257\n",
      "Epoch 11/50, Loss: 1953.7297\n",
      "Epoch 21/50, Loss: 1939.1470\n",
      "Epoch 31/50, Loss: 1937.2615\n",
      "Epoch 41/50, Loss: 1934.6743\n"
     ]
    },
    {
     "name": "stderr",
     "output_type": "stream",
     "text": [
      "Working for n conditional variables: 1:  20%|██        | 1/5 [00:00<00:02,  1.56it/s]\n",
      "  8%|▊         | 16/200 [00:04<00:54,  3.39it/s]\n"
     ]
    },
    {
     "name": "stdout",
     "output_type": "stream",
     "text": [
      "Epoch 1/50, Loss: 21121.6350\n",
      "Epoch 11/50, Loss: 9335.4540\n",
      "Epoch 21/50, Loss: 9296.9444\n",
      "Epoch 31/50, Loss: 9268.9499\n",
      "Epoch 41/50, Loss: 9255.3580\n"
     ]
    },
    {
     "name": "stderr",
     "output_type": "stream",
     "text": [
      "Working for n conditional variables: 1:  20%|██        | 1/5 [00:09<00:39,  9.93s/it]\n",
      "  8%|▊         | 16/200 [01:16<14:40,  4.78s/it] \n"
     ]
    },
    {
     "name": "stdout",
     "output_type": "stream",
     "text": [
      "Epoch 1/50, Loss: 17398.9282\n",
      "Epoch 11/50, Loss: 6671.9244\n",
      "Epoch 21/50, Loss: 6656.3253\n",
      "Epoch 31/50, Loss: 6644.4716\n",
      "Epoch 41/50, Loss: 6630.5500\n"
     ]
    },
    {
     "name": "stderr",
     "output_type": "stream",
     "text": [
      "Working for n conditional variables: 1:  20%|██        | 1/5 [00:10<00:42, 10.57s/it]\n",
      "  8%|▊         | 16/200 [01:15<14:29,  4.73s/it] \n"
     ]
    },
    {
     "name": "stdout",
     "output_type": "stream",
     "text": [
      "Epoch 1/50, Loss: 6074.8546\n",
      "Epoch 11/50, Loss: 1847.7340\n",
      "Epoch 21/50, Loss: 1831.3963\n",
      "Epoch 31/50, Loss: 1831.9073\n",
      "Epoch 41/50, Loss: 1831.3591\n"
     ]
    },
    {
     "name": "stderr",
     "output_type": "stream",
     "text": [
      "Working for n conditional variables: 1:  20%|██        | 1/5 [00:00<00:02,  1.65it/s]\n",
      "  8%|▊         | 16/200 [00:04<00:57,  3.21it/s]\n"
     ]
    },
    {
     "name": "stdout",
     "output_type": "stream",
     "text": [
      "Epoch 1/50, Loss: 8639.4098\n",
      "Epoch 11/50, Loss: 2886.7955\n",
      "Epoch 21/50, Loss: 2873.2925\n",
      "Epoch 31/50, Loss: 2870.7788\n",
      "Epoch 41/50, Loss: 2870.9270\n"
     ]
    },
    {
     "name": "stderr",
     "output_type": "stream",
     "text": [
      "Working for n conditional variables: 1:  20%|██        | 1/5 [00:01<00:04,  1.20s/it]\n",
      "  8%|▊         | 16/200 [00:09<01:44,  1.77it/s]\n"
     ]
    },
    {
     "name": "stdout",
     "output_type": "stream",
     "text": [
      "Epoch 1/50, Loss: 29079.7785\n",
      "Epoch 11/50, Loss: 17894.3521\n",
      "Epoch 21/50, Loss: 17884.4477\n",
      "Epoch 31/50, Loss: 17854.8863\n",
      "Epoch 41/50, Loss: 17840.4363\n"
     ]
    },
    {
     "name": "stderr",
     "output_type": "stream",
     "text": [
      "Working for n conditional variables: 1:  20%|██        | 1/5 [01:04<04:18, 64.71s/it]\n",
      "  8%|▊         | 16/200 [07:24<1:25:06, 27.75s/it] \n"
     ]
    },
    {
     "name": "stdout",
     "output_type": "stream",
     "text": [
      "Epoch 1/50, Loss: 15173.3198\n",
      "Epoch 11/50, Loss: 5971.4735\n",
      "Epoch 21/50, Loss: 5964.7466\n",
      "Epoch 31/50, Loss: 5955.4217\n",
      "Epoch 41/50, Loss: 5945.4618\n"
     ]
    },
    {
     "name": "stderr",
     "output_type": "stream",
     "text": [
      "Working for n conditional variables: 1:  20%|██        | 1/5 [00:10<00:41, 10.32s/it]\n",
      "  8%|▊         | 16/200 [01:18<15:01,  4.90s/it] \n"
     ]
    },
    {
     "name": "stdout",
     "output_type": "stream",
     "text": [
      "Epoch 1/50, Loss: 3851.9538\n",
      "Epoch 11/50, Loss: 1164.4618\n",
      "Epoch 21/50, Loss: 1097.6099\n",
      "Epoch 31/50, Loss: 1091.0296\n",
      "Epoch 41/50, Loss: 1088.0045\n"
     ]
    },
    {
     "name": "stderr",
     "output_type": "stream",
     "text": [
      "Working for n conditional variables: 1:  20%|██        | 1/5 [00:00<00:00,  5.99it/s]\n",
      "  8%|▊         | 16/200 [00:01<00:22,  8.23it/s]\n"
     ]
    },
    {
     "name": "stdout",
     "output_type": "stream",
     "text": [
      "Epoch 1/50, Loss: 5756.9109\n",
      "Epoch 11/50, Loss: 1689.7722\n",
      "Epoch 21/50, Loss: 1675.1001\n",
      "Epoch 31/50, Loss: 1672.4812\n",
      "Epoch 41/50, Loss: 1671.5971\n"
     ]
    },
    {
     "name": "stderr",
     "output_type": "stream",
     "text": [
      "Working for n conditional variables: 1:  20%|██        | 1/5 [00:00<00:02,  1.47it/s]\n",
      "  8%|▊         | 16/200 [00:05<00:58,  3.14it/s]\n"
     ]
    },
    {
     "name": "stdout",
     "output_type": "stream",
     "text": [
      "Epoch 1/50, Loss: 3407.7783\n",
      "Epoch 11/50, Loss: 1063.9336\n",
      "Epoch 21/50, Loss: 1015.8324\n",
      "Epoch 31/50, Loss: 1011.4648\n",
      "Epoch 41/50, Loss: 1009.4845\n"
     ]
    },
    {
     "name": "stderr",
     "output_type": "stream",
     "text": [
      "Working for n conditional variables: 1:  20%|██        | 1/5 [00:00<00:00,  6.35it/s]\n",
      "  8%|▊         | 16/200 [00:01<00:22,  8.04it/s]\n"
     ]
    },
    {
     "name": "stdout",
     "output_type": "stream",
     "text": [
      "Epoch 1/50, Loss: 4516.7979\n",
      "Epoch 11/50, Loss: 1345.0839\n",
      "Epoch 21/50, Loss: 1319.0680\n",
      "Epoch 31/50, Loss: 1318.9716\n",
      "Epoch 41/50, Loss: 1315.1412\n"
     ]
    },
    {
     "name": "stderr",
     "output_type": "stream",
     "text": [
      "Working for n conditional variables: 1:  20%|██        | 1/5 [00:00<00:01,  2.16it/s]\n",
      "  8%|▊         | 16/200 [00:03<00:38,  4.75it/s]\n"
     ]
    },
    {
     "name": "stdout",
     "output_type": "stream",
     "text": [
      "Epoch 1/50, Loss: 4366.4642\n",
      "Epoch 11/50, Loss: 1392.4549\n",
      "Epoch 21/50, Loss: 1368.6472\n",
      "Epoch 31/50, Loss: 1365.5724\n",
      "Epoch 41/50, Loss: 1361.9059\n"
     ]
    },
    {
     "name": "stderr",
     "output_type": "stream",
     "text": [
      "Working for n conditional variables: 1:  20%|██        | 1/5 [00:00<00:01,  2.14it/s]\n",
      "  8%|▊         | 16/200 [00:03<00:38,  4.84it/s]\n"
     ]
    },
    {
     "name": "stdout",
     "output_type": "stream",
     "text": [
      "Epoch 1/50, Loss: 5061.9562\n",
      "Epoch 11/50, Loss: 1482.2744\n",
      "Epoch 21/50, Loss: 1464.1157\n",
      "Epoch 31/50, Loss: 1460.8866\n",
      "Epoch 41/50, Loss: 1460.0726\n"
     ]
    },
    {
     "name": "stderr",
     "output_type": "stream",
     "text": [
      "Working for n conditional variables: 1:  20%|██        | 1/5 [00:00<00:02,  1.58it/s]\n",
      "  8%|▊         | 16/200 [00:04<00:52,  3.48it/s]\n"
     ]
    },
    {
     "name": "stdout",
     "output_type": "stream",
     "text": [
      "Epoch 1/50, Loss: 15566.8128\n",
      "Epoch 11/50, Loss: 6614.8235\n",
      "Epoch 21/50, Loss: 6581.0195\n",
      "Epoch 31/50, Loss: 6557.5463\n",
      "Epoch 41/50, Loss: 6540.6360\n"
     ]
    },
    {
     "name": "stderr",
     "output_type": "stream",
     "text": [
      "Working for n conditional variables: 1:  20%|██        | 1/5 [00:10<00:40, 10.22s/it]\n",
      "  8%|▊         | 16/200 [01:13<14:09,  4.62s/it] \n"
     ]
    },
    {
     "name": "stdout",
     "output_type": "stream",
     "text": [
      "Epoch 1/50, Loss: 3778.4231\n",
      "Epoch 11/50, Loss: 1230.5770\n",
      "Epoch 21/50, Loss: 1182.5407\n",
      "Epoch 31/50, Loss: 1176.3848\n",
      "Epoch 41/50, Loss: 1175.4839\n"
     ]
    },
    {
     "name": "stderr",
     "output_type": "stream",
     "text": [
      "Working for n conditional variables: 1:  20%|██        | 1/5 [00:00<00:00,  6.04it/s]\n",
      "  8%|▊         | 16/200 [00:01<00:20,  9.17it/s]\n"
     ]
    },
    {
     "name": "stdout",
     "output_type": "stream",
     "text": [
      "Epoch 1/50, Loss: 3468.9274\n",
      "Epoch 11/50, Loss: 1011.0007\n",
      "Epoch 21/50, Loss: 947.4057\n",
      "Epoch 31/50, Loss: 939.9553\n",
      "Epoch 41/50, Loss: 938.2448\n"
     ]
    },
    {
     "name": "stderr",
     "output_type": "stream",
     "text": [
      "Working for n conditional variables: 1:  20%|██        | 1/5 [00:00<00:00,  5.41it/s]\n",
      "  8%|▊         | 16/200 [00:01<00:19,  9.60it/s]\n"
     ]
    },
    {
     "name": "stdout",
     "output_type": "stream",
     "text": [
      "Epoch 1/50, Loss: 18439.3667\n",
      "Epoch 11/50, Loss: 7157.5251\n",
      "Epoch 21/50, Loss: 7141.7408\n",
      "Epoch 31/50, Loss: 7129.9850\n",
      "Epoch 41/50, Loss: 7118.4819\n"
     ]
    },
    {
     "name": "stderr",
     "output_type": "stream",
     "text": [
      "Working for n conditional variables: 1:  20%|██        | 1/5 [00:10<00:41, 10.43s/it]\n",
      "  8%|▊         | 16/200 [01:15<14:28,  4.72s/it] \n"
     ]
    },
    {
     "name": "stdout",
     "output_type": "stream",
     "text": [
      "Epoch 1/50, Loss: 9313.2024\n",
      "Epoch 11/50, Loss: 3116.5716\n",
      "Epoch 21/50, Loss: 3100.0786\n",
      "Epoch 31/50, Loss: 3099.8109\n",
      "Epoch 41/50, Loss: 3095.9498\n"
     ]
    },
    {
     "name": "stderr",
     "output_type": "stream",
     "text": [
      "Working for n conditional variables: 1:  20%|██        | 1/5 [00:01<00:04,  1.18s/it]\n",
      "  8%|▊         | 16/200 [00:09<01:47,  1.70it/s]\n"
     ]
    },
    {
     "name": "stdout",
     "output_type": "stream",
     "text": [
      "Epoch 1/50, Loss: 4039.5934\n",
      "Epoch 11/50, Loss: 1334.6050\n",
      "Epoch 21/50, Loss: 1278.5686\n",
      "Epoch 31/50, Loss: 1274.3455\n",
      "Epoch 41/50, Loss: 1271.7691\n"
     ]
    },
    {
     "name": "stderr",
     "output_type": "stream",
     "text": [
      "Working for n conditional variables: 1:  20%|██        | 1/5 [00:00<00:00,  5.92it/s]\n",
      "  8%|▊         | 16/200 [00:01<00:19,  9.32it/s]\n"
     ]
    },
    {
     "name": "stdout",
     "output_type": "stream",
     "text": [
      "Epoch 1/50, Loss: 8338.4065\n",
      "Epoch 11/50, Loss: 2745.9999\n",
      "Epoch 21/50, Loss: 2735.0838\n",
      "Epoch 31/50, Loss: 2733.4209\n",
      "Epoch 41/50, Loss: 2734.5733\n"
     ]
    },
    {
     "name": "stderr",
     "output_type": "stream",
     "text": [
      "Working for n conditional variables: 1:  20%|██        | 1/5 [00:01<00:05,  1.27s/it]\n",
      "  8%|▊         | 16/200 [00:09<01:50,  1.67it/s]\n"
     ]
    },
    {
     "name": "stdout",
     "output_type": "stream",
     "text": [
      "Epoch 1/50, Loss: 6927.1761\n",
      "Epoch 11/50, Loss: 2217.9342\n",
      "Epoch 21/50, Loss: 2196.4389\n",
      "Epoch 31/50, Loss: 2197.5344\n",
      "Epoch 41/50, Loss: 2194.0795\n"
     ]
    },
    {
     "name": "stderr",
     "output_type": "stream",
     "text": [
      "Working for n conditional variables: 1:  20%|██        | 1/5 [00:00<00:02,  1.48it/s]\n",
      "  8%|▊         | 16/200 [00:05<00:57,  3.19it/s]\n"
     ]
    },
    {
     "name": "stdout",
     "output_type": "stream",
     "text": [
      "Epoch 1/50, Loss: 5734.3969\n",
      "Epoch 11/50, Loss: 2042.5626\n",
      "Epoch 21/50, Loss: 2008.6373\n",
      "Epoch 31/50, Loss: 2004.2150\n",
      "Epoch 41/50, Loss: 2000.5086\n"
     ]
    },
    {
     "name": "stderr",
     "output_type": "stream",
     "text": [
      "Working for n conditional variables: 1:  20%|██        | 1/5 [00:00<00:01,  2.25it/s]\n",
      "  8%|▊         | 16/200 [00:03<00:37,  4.85it/s]\n"
     ]
    },
    {
     "name": "stdout",
     "output_type": "stream",
     "text": [
      "Epoch 1/50, Loss: 7848.0122\n",
      "Epoch 11/50, Loss: 2668.3996\n",
      "Epoch 21/50, Loss: 2656.6631\n",
      "Epoch 31/50, Loss: 2653.7981\n",
      "Epoch 41/50, Loss: 2651.1363\n"
     ]
    },
    {
     "name": "stderr",
     "output_type": "stream",
     "text": [
      "Working for n conditional variables: 1:  20%|██        | 1/5 [00:01<00:04,  1.18s/it]\n",
      "  8%|▊         | 16/200 [00:08<01:43,  1.78it/s]\n"
     ]
    },
    {
     "name": "stdout",
     "output_type": "stream",
     "text": [
      "Epoch 1/50, Loss: 5175.2068\n",
      "Epoch 11/50, Loss: 1649.7257\n",
      "Epoch 21/50, Loss: 1635.5903\n",
      "Epoch 31/50, Loss: 1631.6624\n",
      "Epoch 41/50, Loss: 1629.9975\n"
     ]
    },
    {
     "name": "stderr",
     "output_type": "stream",
     "text": [
      "Working for n conditional variables: 1:  20%|██        | 1/5 [00:00<00:02,  1.57it/s]\n",
      "  8%|▊         | 16/200 [00:04<00:51,  3.57it/s]\n"
     ]
    },
    {
     "name": "stdout",
     "output_type": "stream",
     "text": [
      "Epoch 1/50, Loss: 5280.2943\n",
      "Epoch 11/50, Loss: 1547.3741\n",
      "Epoch 21/50, Loss: 1532.0406\n",
      "Epoch 31/50, Loss: 1529.7748\n",
      "Epoch 41/50, Loss: 1525.2821\n"
     ]
    },
    {
     "name": "stderr",
     "output_type": "stream",
     "text": [
      "Working for n conditional variables: 1:  20%|██        | 1/5 [00:00<00:02,  1.51it/s]\n",
      "  8%|▊         | 16/200 [00:04<00:54,  3.35it/s]\n"
     ]
    },
    {
     "name": "stdout",
     "output_type": "stream",
     "text": [
      "Epoch 1/50, Loss: 11198.1491\n",
      "Epoch 11/50, Loss: 3497.0729\n",
      "Epoch 21/50, Loss: 3486.0385\n",
      "Epoch 31/50, Loss: 3481.6645\n",
      "Epoch 41/50, Loss: 3478.8959\n"
     ]
    },
    {
     "name": "stderr",
     "output_type": "stream",
     "text": [
      "Working for n conditional variables: 1:  20%|██        | 1/5 [00:02<00:09,  2.41s/it]\n",
      "  8%|▊         | 16/200 [00:17<03:24,  1.11s/it]\n"
     ]
    },
    {
     "name": "stdout",
     "output_type": "stream",
     "text": [
      "Epoch 1/50, Loss: 6308.9521\n",
      "Epoch 11/50, Loss: 1964.5010\n",
      "Epoch 21/50, Loss: 1947.9209\n",
      "Epoch 31/50, Loss: 1941.9583\n",
      "Epoch 41/50, Loss: 1942.8837\n"
     ]
    },
    {
     "name": "stderr",
     "output_type": "stream",
     "text": [
      "Working for n conditional variables: 1:  20%|██        | 1/5 [00:00<00:02,  1.49it/s]\n",
      "  8%|▊         | 16/200 [00:04<00:54,  3.38it/s]\n"
     ]
    },
    {
     "name": "stdout",
     "output_type": "stream",
     "text": [
      "Epoch 1/50, Loss: 6892.3849\n",
      "Epoch 11/50, Loss: 2216.9129\n",
      "Epoch 21/50, Loss: 2189.7525\n",
      "Epoch 31/50, Loss: 2186.2747\n",
      "Epoch 41/50, Loss: 2183.9255\n"
     ]
    },
    {
     "name": "stderr",
     "output_type": "stream",
     "text": [
      "Working for n conditional variables: 1:  20%|██        | 1/5 [00:00<00:02,  1.49it/s]\n",
      "  8%|▊         | 16/200 [00:04<00:55,  3.32it/s]\n"
     ]
    },
    {
     "name": "stdout",
     "output_type": "stream",
     "text": [
      "Epoch 1/50, Loss: 6627.7631\n",
      "Epoch 11/50, Loss: 2026.4559\n",
      "Epoch 21/50, Loss: 2010.4548\n",
      "Epoch 31/50, Loss: 2007.1243\n",
      "Epoch 41/50, Loss: 2006.7500\n"
     ]
    },
    {
     "name": "stderr",
     "output_type": "stream",
     "text": [
      "Working for n conditional variables: 1:  20%|██        | 1/5 [00:00<00:02,  1.51it/s]\n",
      "  8%|▊         | 16/200 [00:04<00:56,  3.25it/s]\n"
     ]
    },
    {
     "name": "stdout",
     "output_type": "stream",
     "text": [
      "Epoch 1/50, Loss: 6691.8903\n",
      "Epoch 11/50, Loss: 2260.3155\n",
      "Epoch 21/50, Loss: 2241.0497\n",
      "Epoch 31/50, Loss: 2238.5340\n",
      "Epoch 41/50, Loss: 2237.6453\n"
     ]
    },
    {
     "name": "stderr",
     "output_type": "stream",
     "text": [
      "Working for n conditional variables: 1:  20%|██        | 1/5 [00:00<00:02,  1.50it/s]\n",
      "  8%|▊         | 16/200 [00:05<00:58,  3.16it/s]\n"
     ]
    },
    {
     "name": "stdout",
     "output_type": "stream",
     "text": [
      "Epoch 1/50, Loss: 4125.4351\n",
      "Epoch 11/50, Loss: 1468.9560\n",
      "Epoch 21/50, Loss: 1415.3942\n",
      "Epoch 31/50, Loss: 1405.0924\n",
      "Epoch 41/50, Loss: 1402.9863\n"
     ]
    },
    {
     "name": "stderr",
     "output_type": "stream",
     "text": [
      "Working for n conditional variables: 1:  20%|██        | 1/5 [00:00<00:00,  5.95it/s]\n",
      "  8%|▊         | 16/200 [00:01<00:20,  9.10it/s]\n"
     ]
    },
    {
     "name": "stdout",
     "output_type": "stream",
     "text": [
      "Epoch 1/50, Loss: 3845.2643\n",
      "Epoch 11/50, Loss: 1194.4597\n",
      "Epoch 21/50, Loss: 1137.1204\n",
      "Epoch 31/50, Loss: 1130.5666\n",
      "Epoch 41/50, Loss: 1128.3656\n"
     ]
    },
    {
     "name": "stderr",
     "output_type": "stream",
     "text": [
      "Working for n conditional variables: 1:  20%|██        | 1/5 [00:00<00:00,  5.22it/s]\n",
      "  8%|▊         | 16/200 [00:01<00:20,  8.93it/s]\n"
     ]
    },
    {
     "name": "stdout",
     "output_type": "stream",
     "text": [
      "Epoch 1/50, Loss: 9846.2303\n",
      "Epoch 11/50, Loss: 3281.5793\n",
      "Epoch 21/50, Loss: 3266.1760\n",
      "Epoch 31/50, Loss: 3267.1375\n",
      "Epoch 41/50, Loss: 3265.2811\n"
     ]
    },
    {
     "name": "stderr",
     "output_type": "stream",
     "text": [
      "Working for n conditional variables: 1:  20%|██        | 1/5 [00:01<00:05,  1.26s/it]\n",
      "  8%|▊         | 16/200 [00:08<01:42,  1.80it/s]\n"
     ]
    },
    {
     "name": "stdout",
     "output_type": "stream",
     "text": [
      "Epoch 1/50, Loss: 11546.8374\n",
      "Epoch 11/50, Loss: 3775.6080\n",
      "Epoch 21/50, Loss: 3769.0486\n",
      "Epoch 31/50, Loss: 3769.1769\n",
      "Epoch 41/50, Loss: 3771.0315\n"
     ]
    },
    {
     "name": "stderr",
     "output_type": "stream",
     "text": [
      "Working for n conditional variables: 1:  20%|██        | 1/5 [00:02<00:09,  2.45s/it]\n",
      "  8%|▊         | 16/200 [00:17<03:25,  1.12s/it]\n"
     ]
    },
    {
     "name": "stdout",
     "output_type": "stream",
     "text": [
      "Epoch 1/50, Loss: 9833.5931\n",
      "Epoch 11/50, Loss: 3532.3427\n",
      "Epoch 21/50, Loss: 3522.5842\n",
      "Epoch 31/50, Loss: 3519.5436\n",
      "Epoch 41/50, Loss: 3517.9576\n"
     ]
    },
    {
     "name": "stderr",
     "output_type": "stream",
     "text": [
      "Working for n conditional variables: 1:  20%|██        | 1/5 [00:01<00:04,  1.22s/it]\n",
      "  8%|▊         | 16/200 [00:09<01:47,  1.71it/s]\n"
     ]
    },
    {
     "name": "stdout",
     "output_type": "stream",
     "text": [
      "Epoch 1/50, Loss: 5096.3530\n",
      "Epoch 11/50, Loss: 1380.2379\n",
      "Epoch 21/50, Loss: 1360.8437\n",
      "Epoch 31/50, Loss: 1358.9862\n",
      "Epoch 41/50, Loss: 1358.0280\n"
     ]
    },
    {
     "name": "stderr",
     "output_type": "stream",
     "text": [
      "Working for n conditional variables: 1:  20%|██        | 1/5 [00:00<00:02,  1.39it/s]\n",
      "  8%|▊         | 16/200 [00:05<00:58,  3.16it/s]\n"
     ]
    },
    {
     "name": "stdout",
     "output_type": "stream",
     "text": [
      "Epoch 1/50, Loss: 30839.5651\n",
      "Epoch 11/50, Loss: 19966.5890\n",
      "Epoch 21/50, Loss: 19928.7885\n",
      "Epoch 31/50, Loss: 19899.5628\n",
      "Epoch 41/50, Loss: 19880.0619\n"
     ]
    },
    {
     "name": "stderr",
     "output_type": "stream",
     "text": [
      "Working for n conditional variables: 1:  20%|██        | 1/5 [01:13<04:52, 73.09s/it]\n",
      "  8%|▊         | 16/200 [07:45<1:29:11, 29.08s/it] \n"
     ]
    },
    {
     "name": "stdout",
     "output_type": "stream",
     "text": [
      "Epoch 1/50, Loss: 10148.1120\n",
      "Epoch 11/50, Loss: 3035.1377\n",
      "Epoch 21/50, Loss: 3029.9481\n",
      "Epoch 31/50, Loss: 3029.2724\n",
      "Epoch 41/50, Loss: 3026.3957\n"
     ]
    },
    {
     "name": "stderr",
     "output_type": "stream",
     "text": [
      "Working for n conditional variables: 1:  20%|██        | 1/5 [00:02<00:09,  2.27s/it]\n",
      "  8%|▊         | 16/200 [00:17<03:25,  1.12s/it]\n"
     ]
    },
    {
     "name": "stdout",
     "output_type": "stream",
     "text": [
      "Epoch 1/50, Loss: 3945.6727\n",
      "Epoch 11/50, Loss: 1234.4056\n",
      "Epoch 21/50, Loss: 1193.7955\n",
      "Epoch 31/50, Loss: 1187.3519\n",
      "Epoch 41/50, Loss: 1186.4594\n"
     ]
    },
    {
     "name": "stderr",
     "output_type": "stream",
     "text": [
      "Working for n conditional variables: 1:  20%|██        | 1/5 [00:00<00:00,  6.38it/s]\n",
      "  8%|▊         | 16/200 [00:01<00:20,  8.99it/s]\n"
     ]
    },
    {
     "name": "stdout",
     "output_type": "stream",
     "text": [
      "Epoch 1/50, Loss: 36815.0832\n",
      "Epoch 11/50, Loss: 25194.7774\n",
      "Epoch 21/50, Loss: 25143.5038\n",
      "Epoch 31/50, Loss: 25104.5424\n",
      "Epoch 41/50, Loss: 25078.6234\n"
     ]
    },
    {
     "name": "stderr",
     "output_type": "stream",
     "text": [
      "Working for n conditional variables: 1:  20%|██        | 1/5 [01:00<04:01, 60.27s/it]\n",
      "  8%|▊         | 16/200 [07:27<1:25:44, 27.96s/it] \n"
     ]
    },
    {
     "name": "stdout",
     "output_type": "stream",
     "text": [
      "Epoch 1/50, Loss: 7244.1715\n",
      "Epoch 11/50, Loss: 2214.6826\n",
      "Epoch 21/50, Loss: 2202.4228\n",
      "Epoch 31/50, Loss: 2199.2476\n",
      "Epoch 41/50, Loss: 2195.4932\n"
     ]
    },
    {
     "name": "stderr",
     "output_type": "stream",
     "text": [
      "Working for n conditional variables: 1:  20%|██        | 1/5 [00:01<00:05,  1.26s/it]\n",
      "  8%|▊         | 16/200 [00:09<01:49,  1.69it/s]\n"
     ]
    },
    {
     "name": "stdout",
     "output_type": "stream",
     "text": [
      "Epoch 1/50, Loss: 4842.2570\n",
      "Epoch 11/50, Loss: 1533.8958\n",
      "Epoch 21/50, Loss: 1500.3375\n",
      "Epoch 31/50, Loss: 1497.6600\n",
      "Epoch 41/50, Loss: 1495.4863\n"
     ]
    },
    {
     "name": "stderr",
     "output_type": "stream",
     "text": [
      "Working for n conditional variables: 1:  20%|██        | 1/5 [00:00<00:01,  2.08it/s]\n",
      "  8%|▊         | 16/200 [00:03<00:38,  4.80it/s]\n"
     ]
    },
    {
     "name": "stdout",
     "output_type": "stream",
     "text": [
      "Epoch 1/50, Loss: 3480.0026\n",
      "Epoch 11/50, Loss: 1007.1364\n",
      "Epoch 21/50, Loss: 944.0223\n",
      "Epoch 31/50, Loss: 940.2124\n",
      "Epoch 41/50, Loss: 937.4506\n"
     ]
    },
    {
     "name": "stderr",
     "output_type": "stream",
     "text": [
      "Working for n conditional variables: 1:  20%|██        | 1/5 [00:00<00:00,  5.35it/s]\n",
      "  8%|▊         | 16/200 [00:01<00:21,  8.67it/s]\n"
     ]
    },
    {
     "name": "stdout",
     "output_type": "stream",
     "text": [
      "Epoch 1/50, Loss: 19935.9008\n",
      "Epoch 11/50, Loss: 9344.4042\n",
      "Epoch 21/50, Loss: 9321.8606\n",
      "Epoch 31/50, Loss: 9302.3283\n",
      "Epoch 41/50, Loss: 9282.8150\n"
     ]
    },
    {
     "name": "stderr",
     "output_type": "stream",
     "text": [
      "Working for n conditional variables: 1:  20%|██        | 1/5 [00:09<00:39,  9.98s/it]\n",
      "  8%|▊         | 16/200 [01:12<13:59,  4.56s/it] \n"
     ]
    },
    {
     "name": "stdout",
     "output_type": "stream",
     "text": [
      "Epoch 1/50, Loss: 7116.0377\n",
      "Epoch 11/50, Loss: 2270.6845\n",
      "Epoch 21/50, Loss: 2262.7557\n",
      "Epoch 31/50, Loss: 2261.0966\n",
      "Epoch 41/50, Loss: 2256.7633\n"
     ]
    },
    {
     "name": "stderr",
     "output_type": "stream",
     "text": [
      "Working for n conditional variables: 1:  20%|██        | 1/5 [00:01<00:04,  1.13s/it]\n",
      "  8%|▊         | 16/200 [00:08<01:41,  1.81it/s]\n"
     ]
    },
    {
     "name": "stdout",
     "output_type": "stream",
     "text": [
      "Epoch 1/50, Loss: 5701.6527\n",
      "Epoch 11/50, Loss: 1882.9838\n",
      "Epoch 21/50, Loss: 1852.3969\n",
      "Epoch 31/50, Loss: 1848.5202\n",
      "Epoch 41/50, Loss: 1846.8326\n"
     ]
    },
    {
     "name": "stderr",
     "output_type": "stream",
     "text": [
      "Working for n conditional variables: 1:  20%|██        | 1/5 [00:00<00:01,  2.19it/s]\n",
      "  8%|▊         | 16/200 [00:03<00:38,  4.77it/s]\n"
     ]
    },
    {
     "name": "stdout",
     "output_type": "stream",
     "text": [
      "Epoch 1/50, Loss: 23350.7740\n",
      "Epoch 11/50, Loss: 10367.8616\n",
      "Epoch 21/50, Loss: 10345.6315\n",
      "Epoch 31/50, Loss: 10328.3323\n",
      "Epoch 41/50, Loss: 10315.5760\n"
     ]
    },
    {
     "name": "stderr",
     "output_type": "stream",
     "text": [
      "Working for n conditional variables: 1:  20%|██        | 1/5 [00:10<00:40, 10.04s/it]\n",
      "  8%|▊         | 16/200 [01:13<14:01,  4.58s/it] \n"
     ]
    },
    {
     "name": "stdout",
     "output_type": "stream",
     "text": [
      "Epoch 1/50, Loss: 5186.7839\n",
      "Epoch 11/50, Loss: 1673.0974\n",
      "Epoch 21/50, Loss: 1645.5410\n",
      "Epoch 31/50, Loss: 1640.4136\n",
      "Epoch 41/50, Loss: 1639.3586\n"
     ]
    },
    {
     "name": "stderr",
     "output_type": "stream",
     "text": [
      "Working for n conditional variables: 1:  20%|██        | 1/5 [00:00<00:01,  2.17it/s]\n",
      "  8%|▊         | 16/200 [00:03<00:37,  4.97it/s]\n"
     ]
    },
    {
     "name": "stdout",
     "output_type": "stream",
     "text": [
      "Epoch 1/50, Loss: 17547.5403\n",
      "Epoch 11/50, Loss: 7940.3705\n",
      "Epoch 21/50, Loss: 7919.6577\n",
      "Epoch 31/50, Loss: 7910.4207\n",
      "Epoch 41/50, Loss: 7895.6028\n"
     ]
    },
    {
     "name": "stderr",
     "output_type": "stream",
     "text": [
      "Working for n conditional variables: 1:  20%|██        | 1/5 [00:10<00:41, 10.30s/it]\n",
      "  8%|▊         | 16/200 [01:15<14:32,  4.74s/it] \n"
     ]
    },
    {
     "name": "stdout",
     "output_type": "stream",
     "text": [
      "Epoch 1/50, Loss: 9368.9605\n",
      "Epoch 11/50, Loss: 3368.0590\n",
      "Epoch 21/50, Loss: 3352.9430\n",
      "Epoch 31/50, Loss: 3350.5329\n",
      "Epoch 41/50, Loss: 3348.8851\n"
     ]
    },
    {
     "name": "stderr",
     "output_type": "stream",
     "text": [
      "Working for n conditional variables: 1:  20%|██        | 1/5 [00:01<00:04,  1.15s/it]\n",
      "  8%|▊         | 16/200 [00:08<01:41,  1.81it/s]\n"
     ]
    },
    {
     "name": "stdout",
     "output_type": "stream",
     "text": [
      "Epoch 1/50, Loss: 4961.6702\n",
      "Epoch 11/50, Loss: 1609.4382\n",
      "Epoch 21/50, Loss: 1576.6627\n",
      "Epoch 31/50, Loss: 1572.7626\n",
      "Epoch 41/50, Loss: 1572.3152\n"
     ]
    },
    {
     "name": "stderr",
     "output_type": "stream",
     "text": [
      "Working for n conditional variables: 1:  20%|██        | 1/5 [00:00<00:01,  2.14it/s]\n",
      "  8%|▊         | 16/200 [00:03<00:37,  4.94it/s]\n"
     ]
    },
    {
     "name": "stdout",
     "output_type": "stream",
     "text": [
      "Epoch 1/50, Loss: 10002.6803\n",
      "Epoch 11/50, Loss: 3355.1170\n",
      "Epoch 21/50, Loss: 3343.0652\n",
      "Epoch 31/50, Loss: 3338.8095\n",
      "Epoch 41/50, Loss: 3332.3651\n"
     ]
    },
    {
     "name": "stderr",
     "output_type": "stream",
     "text": [
      "Working for n conditional variables: 1:  20%|██        | 1/5 [00:02<00:09,  2.27s/it]\n",
      "  8%|▊         | 16/200 [00:17<03:20,  1.09s/it]\n"
     ]
    },
    {
     "name": "stdout",
     "output_type": "stream",
     "text": [
      "Epoch 1/50, Loss: 5138.2685\n",
      "Epoch 11/50, Loss: 1654.4368\n",
      "Epoch 21/50, Loss: 1615.6104\n",
      "Epoch 31/50, Loss: 1612.4299\n",
      "Epoch 41/50, Loss: 1611.5511\n"
     ]
    },
    {
     "name": "stderr",
     "output_type": "stream",
     "text": [
      "Working for n conditional variables: 1:  20%|██        | 1/5 [00:00<00:01,  2.25it/s]\n",
      "  8%|▊         | 16/200 [00:03<00:37,  4.96it/s]\n"
     ]
    },
    {
     "name": "stdout",
     "output_type": "stream",
     "text": [
      "Epoch 1/50, Loss: 2889.1412\n",
      "Epoch 11/50, Loss: 822.9811\n",
      "Epoch 21/50, Loss: 782.3153\n",
      "Epoch 31/50, Loss: 777.4744\n",
      "Epoch 41/50, Loss: 777.5129\n"
     ]
    },
    {
     "name": "stderr",
     "output_type": "stream",
     "text": [
      "Working for n conditional variables: 1:  20%|██        | 1/5 [00:00<00:00,  6.52it/s]\n",
      "  8%|▊         | 16/200 [00:01<00:20,  9.19it/s]\n"
     ]
    },
    {
     "name": "stdout",
     "output_type": "stream",
     "text": [
      "Epoch 1/50, Loss: 9271.8896\n",
      "Epoch 11/50, Loss: 3018.1077\n",
      "Epoch 21/50, Loss: 3005.0952\n",
      "Epoch 31/50, Loss: 3005.6754\n",
      "Epoch 41/50, Loss: 3004.0664\n"
     ]
    },
    {
     "name": "stderr",
     "output_type": "stream",
     "text": [
      "Working for n conditional variables: 1:  20%|██        | 1/5 [00:01<00:04,  1.20s/it]\n",
      "  8%|▊         | 16/200 [00:08<01:41,  1.82it/s]\n"
     ]
    },
    {
     "name": "stdout",
     "output_type": "stream",
     "text": [
      "Epoch 1/50, Loss: 9290.7157\n",
      "Epoch 11/50, Loss: 3274.8683\n",
      "Epoch 21/50, Loss: 3261.2568\n",
      "Epoch 31/50, Loss: 3263.4137\n",
      "Epoch 41/50, Loss: 3260.5248\n"
     ]
    },
    {
     "name": "stderr",
     "output_type": "stream",
     "text": [
      "Working for n conditional variables: 1:  20%|██        | 1/5 [00:01<00:04,  1.16s/it]\n",
      "  8%|▊         | 16/200 [00:08<01:40,  1.83it/s]\n"
     ]
    },
    {
     "name": "stdout",
     "output_type": "stream",
     "text": [
      "Epoch 1/50, Loss: 12967.5741\n",
      "Epoch 11/50, Loss: 4506.7530\n",
      "Epoch 21/50, Loss: 4491.4314\n",
      "Epoch 31/50, Loss: 4490.0723\n",
      "Epoch 41/50, Loss: 4488.6112\n"
     ]
    },
    {
     "name": "stderr",
     "output_type": "stream",
     "text": [
      "Working for n conditional variables: 1:  20%|██        | 1/5 [00:02<00:09,  2.26s/it]\n",
      "  8%|▊         | 16/200 [00:17<03:25,  1.12s/it]\n"
     ]
    },
    {
     "name": "stdout",
     "output_type": "stream",
     "text": [
      "Epoch 1/50, Loss: 6995.1814\n",
      "Epoch 11/50, Loss: 2114.0983\n",
      "Epoch 21/50, Loss: 2088.6483\n",
      "Epoch 31/50, Loss: 2087.6864\n",
      "Epoch 41/50, Loss: 2084.6828\n"
     ]
    },
    {
     "name": "stderr",
     "output_type": "stream",
     "text": [
      "Working for n conditional variables: 1:  20%|██        | 1/5 [00:00<00:02,  1.54it/s]\n",
      "  8%|▊         | 16/200 [00:04<00:55,  3.31it/s]\n"
     ]
    },
    {
     "name": "stdout",
     "output_type": "stream",
     "text": [
      "Epoch 1/50, Loss: 14124.1360\n",
      "Epoch 11/50, Loss: 5940.3861\n",
      "Epoch 21/50, Loss: 5919.3991\n",
      "Epoch 31/50, Loss: 5903.7429\n",
      "Epoch 41/50, Loss: 5891.5775\n"
     ]
    },
    {
     "name": "stderr",
     "output_type": "stream",
     "text": [
      "Working for n conditional variables: 1:  20%|██        | 1/5 [00:02<00:09,  2.29s/it]\n",
      "  8%|▊         | 16/200 [00:17<03:19,  1.09s/it]\n"
     ]
    },
    {
     "name": "stdout",
     "output_type": "stream",
     "text": [
      "Epoch 1/50, Loss: 5126.4602\n",
      "Epoch 11/50, Loss: 1398.3064\n",
      "Epoch 21/50, Loss: 1367.7613\n",
      "Epoch 31/50, Loss: 1364.9260\n",
      "Epoch 41/50, Loss: 1361.4359\n"
     ]
    },
    {
     "name": "stderr",
     "output_type": "stream",
     "text": [
      "Working for n conditional variables: 1:  20%|██        | 1/5 [00:00<00:01,  2.16it/s]\n",
      "  8%|▊         | 16/200 [00:03<00:39,  4.68it/s]\n"
     ]
    },
    {
     "name": "stdout",
     "output_type": "stream",
     "text": [
      "Epoch 1/50, Loss: 7908.2062\n",
      "Epoch 11/50, Loss: 2637.3113\n",
      "Epoch 21/50, Loss: 2625.7375\n",
      "Epoch 31/50, Loss: 2623.3801\n",
      "Epoch 41/50, Loss: 2619.5667\n"
     ]
    },
    {
     "name": "stderr",
     "output_type": "stream",
     "text": [
      "Working for n conditional variables: 1:  20%|██        | 1/5 [00:01<00:04,  1.20s/it]\n",
      "  8%|▊         | 16/200 [00:09<01:46,  1.73it/s]\n"
     ]
    },
    {
     "name": "stdout",
     "output_type": "stream",
     "text": [
      "Epoch 1/50, Loss: 3184.6847\n",
      "Epoch 11/50, Loss: 966.6314\n",
      "Epoch 21/50, Loss: 923.5502\n",
      "Epoch 31/50, Loss: 918.8074\n",
      "Epoch 41/50, Loss: 917.6539\n"
     ]
    },
    {
     "name": "stderr",
     "output_type": "stream",
     "text": [
      "Working for n conditional variables: 1:  20%|██        | 1/5 [00:00<00:00,  5.01it/s]\n",
      "  8%|▊         | 16/200 [00:01<00:21,  8.70it/s]\n"
     ]
    },
    {
     "name": "stdout",
     "output_type": "stream",
     "text": [
      "Epoch 1/50, Loss: 3796.8071\n",
      "Epoch 11/50, Loss: 1098.5836\n",
      "Epoch 21/50, Loss: 1071.3730\n",
      "Epoch 31/50, Loss: 1065.4138\n",
      "Epoch 41/50, Loss: 1063.9809\n"
     ]
    },
    {
     "name": "stderr",
     "output_type": "stream",
     "text": [
      "Working for n conditional variables: 1:  20%|██        | 1/5 [00:00<00:01,  2.18it/s]\n",
      "  8%|▊         | 16/200 [00:03<00:41,  4.40it/s]\n"
     ]
    },
    {
     "name": "stdout",
     "output_type": "stream",
     "text": [
      "Epoch 1/50, Loss: 3545.9185\n",
      "Epoch 11/50, Loss: 1118.9941\n",
      "Epoch 21/50, Loss: 1061.0193\n",
      "Epoch 31/50, Loss: 1056.0757\n",
      "Epoch 41/50, Loss: 1054.6553\n"
     ]
    },
    {
     "name": "stderr",
     "output_type": "stream",
     "text": [
      "Working for n conditional variables: 1:  20%|██        | 1/5 [00:00<00:00,  6.12it/s]\n",
      "  8%|▊         | 16/200 [00:01<00:21,  8.44it/s]\n"
     ]
    },
    {
     "name": "stdout",
     "output_type": "stream",
     "text": [
      "Epoch 1/50, Loss: 3549.9470\n",
      "Epoch 11/50, Loss: 1138.4069\n",
      "Epoch 21/50, Loss: 1097.5182\n",
      "Epoch 31/50, Loss: 1091.4758\n",
      "Epoch 41/50, Loss: 1090.9685\n"
     ]
    },
    {
     "name": "stderr",
     "output_type": "stream",
     "text": [
      "Working for n conditional variables: 1:  20%|██        | 1/5 [00:00<00:00,  5.51it/s]\n",
      "  8%|▊         | 16/200 [00:01<00:21,  8.44it/s]\n"
     ]
    },
    {
     "name": "stdout",
     "output_type": "stream",
     "text": [
      "Epoch 1/50, Loss: 6097.6691\n",
      "Epoch 11/50, Loss: 1945.0373\n",
      "Epoch 21/50, Loss: 1929.2052\n",
      "Epoch 31/50, Loss: 1926.4452\n",
      "Epoch 41/50, Loss: 1926.7464\n"
     ]
    },
    {
     "name": "stderr",
     "output_type": "stream",
     "text": [
      "Working for n conditional variables: 1:  20%|██        | 1/5 [00:00<00:02,  1.48it/s]\n",
      "  8%|▊         | 16/200 [00:05<00:59,  3.09it/s]\n"
     ]
    },
    {
     "name": "stdout",
     "output_type": "stream",
     "text": [
      "Epoch 1/50, Loss: 11630.9089\n",
      "Epoch 11/50, Loss: 4266.6948\n",
      "Epoch 21/50, Loss: 4250.7512\n",
      "Epoch 31/50, Loss: 4244.9395\n",
      "Epoch 41/50, Loss: 4239.9504\n"
     ]
    },
    {
     "name": "stderr",
     "output_type": "stream",
     "text": [
      "Working for n conditional variables: 1:  20%|██        | 1/5 [00:02<00:09,  2.40s/it]\n",
      "  8%|▊         | 16/200 [00:18<03:36,  1.18s/it]\n"
     ]
    },
    {
     "name": "stdout",
     "output_type": "stream",
     "text": [
      "Epoch 1/50, Loss: 4446.6746\n",
      "Epoch 11/50, Loss: 1459.9929\n",
      "Epoch 21/50, Loss: 1387.5721\n",
      "Epoch 31/50, Loss: 1379.0051\n",
      "Epoch 41/50, Loss: 1376.7012\n"
     ]
    },
    {
     "name": "stderr",
     "output_type": "stream",
     "text": [
      "Working for n conditional variables: 1:  20%|██        | 1/5 [00:00<00:00,  5.32it/s]\n",
      "  8%|▊         | 16/200 [00:01<00:21,  8.68it/s]\n"
     ]
    },
    {
     "name": "stdout",
     "output_type": "stream",
     "text": [
      "Epoch 1/50, Loss: 9287.8001\n",
      "Epoch 11/50, Loss: 3132.0794\n",
      "Epoch 21/50, Loss: 3118.8344\n",
      "Epoch 31/50, Loss: 3118.3548\n",
      "Epoch 41/50, Loss: 3115.5441\n"
     ]
    },
    {
     "name": "stderr",
     "output_type": "stream",
     "text": [
      "Working for n conditional variables: 1:  20%|██        | 1/5 [00:01<00:04,  1.15s/it]\n",
      "  8%|▊         | 16/200 [00:09<01:44,  1.76it/s]\n"
     ]
    },
    {
     "name": "stdout",
     "output_type": "stream",
     "text": [
      "Epoch 1/50, Loss: 37324.3498\n",
      "Epoch 11/50, Loss: 25143.2880\n",
      "Epoch 21/50, Loss: 25058.2968\n",
      "Epoch 31/50, Loss: 25011.8270\n",
      "Epoch 41/50, Loss: 24988.7089\n"
     ]
    },
    {
     "name": "stderr",
     "output_type": "stream",
     "text": [
      "Working for n conditional variables: 1:  20%|██        | 1/5 [01:02<04:09, 62.49s/it]\n",
      "  8%|▊         | 16/200 [07:33<1:26:54, 28.34s/it] \n"
     ]
    },
    {
     "name": "stdout",
     "output_type": "stream",
     "text": [
      "Epoch 1/50, Loss: 5268.3501\n",
      "Epoch 11/50, Loss: 1604.0172\n",
      "Epoch 21/50, Loss: 1574.2293\n",
      "Epoch 31/50, Loss: 1570.5888\n",
      "Epoch 41/50, Loss: 1568.3390\n"
     ]
    },
    {
     "name": "stderr",
     "output_type": "stream",
     "text": [
      "Working for n conditional variables: 1:  20%|██        | 1/5 [00:00<00:01,  2.23it/s]\n",
      "  8%|▊         | 16/200 [00:03<00:36,  5.03it/s]\n"
     ]
    },
    {
     "name": "stdout",
     "output_type": "stream",
     "text": [
      "Epoch 1/50, Loss: 3524.8769\n",
      "Epoch 11/50, Loss: 955.0330\n",
      "Epoch 21/50, Loss: 916.0641\n",
      "Epoch 31/50, Loss: 911.0734\n",
      "Epoch 41/50, Loss: 910.8656\n"
     ]
    },
    {
     "name": "stderr",
     "output_type": "stream",
     "text": [
      "Working for n conditional variables: 1:  20%|██        | 1/5 [00:00<00:00,  5.99it/s]\n",
      "  8%|▊         | 16/200 [00:01<00:20,  8.82it/s]\n"
     ]
    },
    {
     "name": "stdout",
     "output_type": "stream",
     "text": [
      "Epoch 1/50, Loss: 7049.9584\n",
      "Epoch 11/50, Loss: 2106.4931\n",
      "Epoch 21/50, Loss: 2095.8655\n",
      "Epoch 31/50, Loss: 2092.3081\n",
      "Epoch 41/50, Loss: 2092.7995\n"
     ]
    },
    {
     "name": "stderr",
     "output_type": "stream",
     "text": [
      "Working for n conditional variables: 1:  20%|██        | 1/5 [00:01<00:04,  1.07s/it]\n",
      "  8%|▊         | 16/200 [00:09<01:44,  1.75it/s]\n"
     ]
    },
    {
     "name": "stdout",
     "output_type": "stream",
     "text": [
      "Epoch 1/50, Loss: 5967.1562\n",
      "Epoch 11/50, Loss: 1849.6432\n",
      "Epoch 21/50, Loss: 1831.4143\n",
      "Epoch 31/50, Loss: 1828.1523\n",
      "Epoch 41/50, Loss: 1825.9178\n"
     ]
    },
    {
     "name": "stderr",
     "output_type": "stream",
     "text": [
      "Working for n conditional variables: 1:  20%|██        | 1/5 [00:00<00:02,  1.50it/s]\n",
      "  8%|▊         | 16/200 [00:05<01:02,  2.94it/s]\n"
     ]
    },
    {
     "name": "stdout",
     "output_type": "stream",
     "text": [
      "Epoch 1/50, Loss: 5558.7775\n",
      "Epoch 11/50, Loss: 1704.6337\n",
      "Epoch 21/50, Loss: 1685.7504\n",
      "Epoch 31/50, Loss: 1681.3787\n",
      "Epoch 41/50, Loss: 1678.2025\n"
     ]
    },
    {
     "name": "stderr",
     "output_type": "stream",
     "text": [
      "Working for n conditional variables: 1:  20%|██        | 1/5 [00:00<00:02,  1.57it/s]\n",
      "  8%|▊         | 16/200 [00:04<00:57,  3.21it/s]\n"
     ]
    },
    {
     "name": "stdout",
     "output_type": "stream",
     "text": [
      "Epoch 1/50, Loss: 5076.9953\n",
      "Epoch 11/50, Loss: 1669.1929\n",
      "Epoch 21/50, Loss: 1639.3718\n",
      "Epoch 31/50, Loss: 1635.4845\n",
      "Epoch 41/50, Loss: 1633.4164\n"
     ]
    },
    {
     "name": "stderr",
     "output_type": "stream",
     "text": [
      "Working for n conditional variables: 1:  20%|██        | 1/5 [00:00<00:01,  2.11it/s]\n",
      "  8%|▊         | 16/200 [00:03<00:40,  4.58it/s]\n"
     ]
    },
    {
     "name": "stdout",
     "output_type": "stream",
     "text": [
      "Epoch 1/50, Loss: 6187.4313\n",
      "Epoch 11/50, Loss: 1986.4792\n",
      "Epoch 21/50, Loss: 1964.6721\n",
      "Epoch 31/50, Loss: 1961.8928\n",
      "Epoch 41/50, Loss: 1962.9585\n"
     ]
    },
    {
     "name": "stderr",
     "output_type": "stream",
     "text": [
      "Working for n conditional variables: 1:  20%|██        | 1/5 [00:00<00:02,  1.56it/s]\n",
      "  8%|▊         | 16/200 [00:04<00:57,  3.22it/s]\n"
     ]
    },
    {
     "name": "stdout",
     "output_type": "stream",
     "text": [
      "Epoch 1/50, Loss: 5750.3364\n",
      "Epoch 11/50, Loss: 1841.8934\n",
      "Epoch 21/50, Loss: 1821.9323\n",
      "Epoch 31/50, Loss: 1818.7453\n",
      "Epoch 41/50, Loss: 1820.7660\n"
     ]
    },
    {
     "name": "stderr",
     "output_type": "stream",
     "text": [
      "Working for n conditional variables: 1:  20%|██        | 1/5 [00:00<00:02,  1.49it/s]\n",
      "  8%|▊         | 16/200 [00:05<00:58,  3.17it/s]\n"
     ]
    },
    {
     "name": "stdout",
     "output_type": "stream",
     "text": [
      "Epoch 1/50, Loss: 4408.7339\n",
      "Epoch 11/50, Loss: 1534.4609\n",
      "Epoch 21/50, Loss: 1512.4107\n",
      "Epoch 31/50, Loss: 1507.5097\n",
      "Epoch 41/50, Loss: 1507.8198\n"
     ]
    },
    {
     "name": "stderr",
     "output_type": "stream",
     "text": [
      "Working for n conditional variables: 1:  20%|██        | 1/5 [00:00<00:01,  2.15it/s]\n",
      "  8%|▊         | 16/200 [00:03<00:38,  4.84it/s]\n"
     ]
    },
    {
     "name": "stdout",
     "output_type": "stream",
     "text": [
      "Epoch 1/50, Loss: 8098.9353\n",
      "Epoch 11/50, Loss: 2690.4761\n",
      "Epoch 21/50, Loss: 2677.8194\n",
      "Epoch 31/50, Loss: 2677.9200\n",
      "Epoch 41/50, Loss: 2677.2588\n"
     ]
    },
    {
     "name": "stderr",
     "output_type": "stream",
     "text": [
      "Working for n conditional variables: 1:  20%|██        | 1/5 [00:01<00:04,  1.24s/it]\n",
      "  8%|▊         | 16/200 [00:09<01:49,  1.69it/s]\n"
     ]
    },
    {
     "name": "stdout",
     "output_type": "stream",
     "text": [
      "Epoch 1/50, Loss: 6995.8090\n",
      "Epoch 11/50, Loss: 2131.8915\n",
      "Epoch 21/50, Loss: 2119.6757\n",
      "Epoch 31/50, Loss: 2117.6945\n",
      "Epoch 41/50, Loss: 2116.9439\n"
     ]
    },
    {
     "name": "stderr",
     "output_type": "stream",
     "text": [
      "Working for n conditional variables: 1:  20%|██        | 1/5 [00:01<00:05,  1.28s/it]\n",
      "  8%|▊         | 16/200 [00:09<01:45,  1.75it/s]\n"
     ]
    },
    {
     "name": "stdout",
     "output_type": "stream",
     "text": [
      "Epoch 1/50, Loss: 3756.4830\n",
      "Epoch 11/50, Loss: 1251.1371\n",
      "Epoch 21/50, Loss: 1196.6511\n",
      "Epoch 31/50, Loss: 1194.8206\n",
      "Epoch 41/50, Loss: 1190.2462\n"
     ]
    },
    {
     "name": "stderr",
     "output_type": "stream",
     "text": [
      "Working for n conditional variables: 1:  20%|██        | 1/5 [00:00<00:00,  5.86it/s]\n",
      "  8%|▊         | 16/200 [00:01<00:20,  9.14it/s]\n"
     ]
    },
    {
     "name": "stdout",
     "output_type": "stream",
     "text": [
      "Epoch 1/50, Loss: 5161.9032\n",
      "Epoch 11/50, Loss: 1636.3921\n",
      "Epoch 21/50, Loss: 1606.5925\n",
      "Epoch 31/50, Loss: 1600.9975\n",
      "Epoch 41/50, Loss: 1600.1018\n"
     ]
    },
    {
     "name": "stderr",
     "output_type": "stream",
     "text": [
      "Working for n conditional variables: 1:  20%|██        | 1/5 [00:00<00:01,  2.26it/s]\n",
      "  8%|▊         | 16/200 [00:03<00:38,  4.81it/s]\n"
     ]
    },
    {
     "name": "stdout",
     "output_type": "stream",
     "text": [
      "Epoch 1/50, Loss: 5035.5609\n",
      "Epoch 11/50, Loss: 1543.7327\n",
      "Epoch 21/50, Loss: 1526.7971\n",
      "Epoch 31/50, Loss: 1524.7843\n",
      "Epoch 41/50, Loss: 1522.7240\n"
     ]
    },
    {
     "name": "stderr",
     "output_type": "stream",
     "text": [
      "Working for n conditional variables: 1:  20%|██        | 1/5 [00:00<00:02,  1.51it/s]\n",
      "  8%|▊         | 16/200 [00:05<00:58,  3.14it/s]\n"
     ]
    },
    {
     "name": "stdout",
     "output_type": "stream",
     "text": [
      "Epoch 1/50, Loss: 11373.2815\n",
      "Epoch 11/50, Loss: 3642.4181\n",
      "Epoch 21/50, Loss: 3635.3347\n",
      "Epoch 31/50, Loss: 3632.3010\n",
      "Epoch 41/50, Loss: 3630.8573\n"
     ]
    },
    {
     "name": "stderr",
     "output_type": "stream",
     "text": [
      "Working for n conditional variables: 1:  20%|██        | 1/5 [00:02<00:09,  2.39s/it]\n",
      "  8%|▊         | 16/200 [00:17<03:25,  1.12s/it]\n"
     ]
    },
    {
     "name": "stdout",
     "output_type": "stream",
     "text": [
      "Epoch 1/50, Loss: 4480.1993\n",
      "Epoch 11/50, Loss: 1376.3149\n",
      "Epoch 21/50, Loss: 1346.7402\n",
      "Epoch 31/50, Loss: 1343.8761\n",
      "Epoch 41/50, Loss: 1342.0919\n"
     ]
    },
    {
     "name": "stderr",
     "output_type": "stream",
     "text": [
      "Working for n conditional variables: 1:  20%|██        | 1/5 [00:00<00:01,  2.04it/s]\n",
      "  8%|▊         | 16/200 [00:03<00:38,  4.80it/s]\n"
     ]
    },
    {
     "name": "stdout",
     "output_type": "stream",
     "text": [
      "Epoch 1/50, Loss: 6806.5138\n",
      "Epoch 11/50, Loss: 2217.7434\n",
      "Epoch 21/50, Loss: 2195.9259\n",
      "Epoch 31/50, Loss: 2196.3247\n",
      "Epoch 41/50, Loss: 2191.6733\n"
     ]
    },
    {
     "name": "stderr",
     "output_type": "stream",
     "text": [
      "Working for n conditional variables: 1:  20%|██        | 1/5 [00:00<00:02,  1.52it/s]\n",
      "  8%|▊         | 16/200 [00:04<00:55,  3.33it/s]\n"
     ]
    },
    {
     "name": "stdout",
     "output_type": "stream",
     "text": [
      "Epoch 1/50, Loss: 4790.7555\n",
      "Epoch 11/50, Loss: 1455.1854\n",
      "Epoch 21/50, Loss: 1422.0798\n",
      "Epoch 31/50, Loss: 1420.7320\n",
      "Epoch 41/50, Loss: 1419.9168\n"
     ]
    },
    {
     "name": "stderr",
     "output_type": "stream",
     "text": [
      "Working for n conditional variables: 1:  20%|██        | 1/5 [00:00<00:01,  2.36it/s]\n",
      "  8%|▊         | 16/200 [00:03<00:37,  4.87it/s]\n"
     ]
    },
    {
     "name": "stdout",
     "output_type": "stream",
     "text": [
      "Epoch 1/50, Loss: 4857.4585\n",
      "Epoch 11/50, Loss: 1542.3251\n",
      "Epoch 21/50, Loss: 1517.6664\n",
      "Epoch 31/50, Loss: 1512.7497\n",
      "Epoch 41/50, Loss: 1513.0015\n"
     ]
    },
    {
     "name": "stderr",
     "output_type": "stream",
     "text": [
      "Working for n conditional variables: 1:  20%|██        | 1/5 [00:00<00:01,  2.30it/s]\n",
      "  8%|▊         | 16/200 [00:03<00:39,  4.71it/s]\n"
     ]
    },
    {
     "name": "stdout",
     "output_type": "stream",
     "text": [
      "Epoch 1/50, Loss: 11290.7747\n",
      "Epoch 11/50, Loss: 3922.6963\n",
      "Epoch 21/50, Loss: 3908.9130\n",
      "Epoch 31/50, Loss: 3904.9668\n",
      "Epoch 41/50, Loss: 3900.8051\n"
     ]
    },
    {
     "name": "stderr",
     "output_type": "stream",
     "text": [
      "Working for n conditional variables: 1:  20%|██        | 1/5 [00:02<00:09,  2.34s/it]\n",
      "  8%|▊         | 16/200 [00:17<03:20,  1.09s/it]\n"
     ]
    },
    {
     "name": "stdout",
     "output_type": "stream",
     "text": [
      "Epoch 1/50, Loss: 8667.6107\n",
      "Epoch 11/50, Loss: 2684.7243\n",
      "Epoch 21/50, Loss: 2674.2184\n",
      "Epoch 31/50, Loss: 2671.2143\n",
      "Epoch 41/50, Loss: 2670.9166\n"
     ]
    },
    {
     "name": "stderr",
     "output_type": "stream",
     "text": [
      "Working for n conditional variables: 1:  20%|██        | 1/5 [00:01<00:04,  1.16s/it]\n",
      "  8%|▊         | 16/200 [00:09<01:45,  1.75it/s]\n"
     ]
    },
    {
     "name": "stdout",
     "output_type": "stream",
     "text": [
      "Epoch 1/50, Loss: 3580.4480\n",
      "Epoch 11/50, Loss: 1152.9534\n",
      "Epoch 21/50, Loss: 1090.8990\n",
      "Epoch 31/50, Loss: 1085.4666\n",
      "Epoch 41/50, Loss: 1083.8841\n"
     ]
    },
    {
     "name": "stderr",
     "output_type": "stream",
     "text": [
      "Working for n conditional variables: 1:  20%|██        | 1/5 [00:00<00:00,  6.47it/s]\n",
      "  8%|▊         | 16/200 [00:01<00:20,  9.11it/s]\n"
     ]
    },
    {
     "name": "stdout",
     "output_type": "stream",
     "text": [
      "Epoch 1/50, Loss: 8648.4834\n",
      "Epoch 11/50, Loss: 2743.5174\n",
      "Epoch 21/50, Loss: 2731.7909\n",
      "Epoch 31/50, Loss: 2724.6751\n",
      "Epoch 41/50, Loss: 2723.0855\n"
     ]
    },
    {
     "name": "stderr",
     "output_type": "stream",
     "text": [
      "Working for n conditional variables: 1:  20%|██        | 1/5 [00:02<00:09,  2.32s/it]\n",
      "  8%|▊         | 16/200 [00:18<03:28,  1.13s/it]\n"
     ]
    },
    {
     "name": "stdout",
     "output_type": "stream",
     "text": [
      "Epoch 1/50, Loss: 3822.2041\n",
      "Epoch 11/50, Loss: 1129.2818\n",
      "Epoch 21/50, Loss: 1106.9132\n",
      "Epoch 31/50, Loss: 1103.0653\n",
      "Epoch 41/50, Loss: 1102.8865\n"
     ]
    },
    {
     "name": "stderr",
     "output_type": "stream",
     "text": [
      "Working for n conditional variables: 1:  20%|██        | 1/5 [00:00<00:02,  1.99it/s]\n",
      "  8%|▊         | 16/200 [00:03<00:38,  4.73it/s]\n"
     ]
    },
    {
     "name": "stdout",
     "output_type": "stream",
     "text": [
      "Epoch 1/50, Loss: 27790.3101\n",
      "Epoch 11/50, Loss: 18015.2266\n",
      "Epoch 21/50, Loss: 17941.7015\n",
      "Epoch 31/50, Loss: 17914.9720\n",
      "Epoch 41/50, Loss: 17904.3301\n"
     ]
    },
    {
     "name": "stderr",
     "output_type": "stream",
     "text": [
      "Working for n conditional variables: 1:  20%|██        | 1/5 [01:04<04:18, 64.57s/it]\n",
      "  8%|▊         | 16/200 [07:44<1:29:01, 29.03s/it] \n"
     ]
    },
    {
     "name": "stdout",
     "output_type": "stream",
     "text": [
      "Epoch 1/50, Loss: 3339.2369\n",
      "Epoch 11/50, Loss: 1106.6968\n",
      "Epoch 21/50, Loss: 1074.7609\n",
      "Epoch 31/50, Loss: 1069.3711\n",
      "Epoch 41/50, Loss: 1068.9880\n"
     ]
    },
    {
     "name": "stderr",
     "output_type": "stream",
     "text": [
      "Working for n conditional variables: 1:  20%|██        | 1/5 [00:00<00:00,  5.62it/s]\n",
      "  8%|▊         | 16/200 [00:01<00:19,  9.65it/s]\n"
     ]
    },
    {
     "name": "stdout",
     "output_type": "stream",
     "text": [
      "Epoch 1/50, Loss: 4526.1958\n",
      "Epoch 11/50, Loss: 1419.0553\n",
      "Epoch 21/50, Loss: 1397.6021\n",
      "Epoch 31/50, Loss: 1394.9643\n",
      "Epoch 41/50, Loss: 1393.1694\n"
     ]
    },
    {
     "name": "stderr",
     "output_type": "stream",
     "text": [
      "Working for n conditional variables: 1:  20%|██        | 1/5 [00:00<00:01,  2.05it/s]\n",
      "  8%|▊         | 16/200 [00:03<00:39,  4.71it/s]\n"
     ]
    },
    {
     "name": "stdout",
     "output_type": "stream",
     "text": [
      "Epoch 1/50, Loss: 4136.9998\n",
      "Epoch 11/50, Loss: 1482.9401\n",
      "Epoch 21/50, Loss: 1383.0501\n",
      "Epoch 31/50, Loss: 1375.9790\n",
      "Epoch 41/50, Loss: 1375.0740\n"
     ]
    },
    {
     "name": "stderr",
     "output_type": "stream",
     "text": [
      "Working for n conditional variables: 1:  20%|██        | 1/5 [00:00<00:00,  6.05it/s]\n",
      "  8%|▊         | 16/200 [00:01<00:20,  8.96it/s]\n"
     ]
    },
    {
     "name": "stdout",
     "output_type": "stream",
     "text": [
      "Epoch 1/50, Loss: 3855.3221\n",
      "Epoch 11/50, Loss: 1298.0541\n",
      "Epoch 21/50, Loss: 1254.8260\n",
      "Epoch 31/50, Loss: 1248.3534\n",
      "Epoch 41/50, Loss: 1246.7793\n"
     ]
    },
    {
     "name": "stderr",
     "output_type": "stream",
     "text": [
      "Working for n conditional variables: 1:  20%|██        | 1/5 [00:00<00:00,  6.17it/s]\n",
      "  8%|▊         | 16/200 [00:01<00:21,  8.60it/s]\n"
     ]
    },
    {
     "name": "stdout",
     "output_type": "stream",
     "text": [
      "Epoch 1/50, Loss: 11503.8166\n",
      "Epoch 11/50, Loss: 4067.8018\n",
      "Epoch 21/50, Loss: 4055.1694\n",
      "Epoch 31/50, Loss: 4054.6303\n",
      "Epoch 41/50, Loss: 4048.8974\n"
     ]
    },
    {
     "name": "stderr",
     "output_type": "stream",
     "text": [
      "Working for n conditional variables: 1:  20%|██        | 1/5 [00:02<00:09,  2.30s/it]\n",
      "  8%|▊         | 16/200 [00:17<03:24,  1.11s/it]\n"
     ]
    },
    {
     "name": "stdout",
     "output_type": "stream",
     "text": [
      "Epoch 1/50, Loss: 9358.6548\n",
      "Epoch 11/50, Loss: 2773.5278\n",
      "Epoch 21/50, Loss: 2762.6443\n",
      "Epoch 31/50, Loss: 2758.9265\n",
      "Epoch 41/50, Loss: 2758.9914\n"
     ]
    },
    {
     "name": "stderr",
     "output_type": "stream",
     "text": [
      "Working for n conditional variables: 1:  20%|██        | 1/5 [00:01<00:04,  1.16s/it]\n",
      "  8%|▊         | 16/200 [00:08<01:42,  1.79it/s]\n"
     ]
    }
   ],
   "source": [
    "import warnings\n",
    "warnings.filterwarnings('ignore')\n",
    "new_metadata = []\n",
    "iteration = 0\n",
    "for row in metadata.iter_rows(named=True):\n",
    "    start = row['start_time']\n",
    "    end = row['end_time']\n",
    "    anomaly = eval(row['affected'])[0]\n",
    "    root_cause = row['root_cause']\n",
    "    mod_df = cats_df.filter( (pl.col('timestamp')>= start) & (pl.col('timestamp') <= end))\n",
    "    cols_to_exclude=['timestamp','y','category']\n",
    "    mod_df = mod_df.drop(cols_to_exclude)\n",
    "    data = mod_df.to_numpy()\n",
    "    vae = VAE(input_dim = data.shape[1],latent_dim = data.shape[1])\n",
    "    train_vae(vae,data,epochs=50)\n",
    "    bnn = bayesian_network_inference(anomaly=anomaly,vae_model=vae,model_dataframe=mod_df,input_numpy_data=data)\n",
    "    bnn.causal_inference()\n",
    "    if root_cause == bnn.potential_causes[0]:\n",
    "        row['cause_1']=1\n",
    "    else:\n",
    "        row['cause_1']=0\n",
    "    if root_cause == bnn.potential_causes[1]:\n",
    "        row['cause_2']=1\n",
    "    else:\n",
    "        row['cause_2']=0\n",
    "    if root_cause == bnn.potential_causes[2]:\n",
    "        row['cause_3']=1\n",
    "    else:\n",
    "        row['cause_3']=0\n",
    "\n",
    "    new_metadata.append(row)\n",
    "   "
   ]
  },
  {
   "cell_type": "code",
   "execution_count": 23,
   "id": "134a27c2-e72f-4aac-aefd-3331941e475d",
   "metadata": {},
   "outputs": [
    {
     "data": {
      "text/plain": [
       "'cfo1'"
      ]
     },
     "execution_count": 23,
     "metadata": {},
     "output_type": "execute_result"
    }
   ],
   "source": [
    "bnn.potential_causes[2]"
   ]
  },
  {
   "cell_type": "code",
   "execution_count": 24,
   "id": "4d9f3503-4abd-4139-9983-f4282fa68c55",
   "metadata": {},
   "outputs": [
    {
     "data": {
      "text/plain": [
       "0.12"
      ]
     },
     "execution_count": 24,
     "metadata": {},
     "output_type": "execute_result"
    }
   ],
   "source": [
    "bnn_stats = pl.DataFrame(new_metadata)\n",
    "agg_stats = bnn_stats.select(pl.sum(\"cause_1\", \"cause_2\",'cause_3'))\n",
    "agg_stats.select(pl.sum_horizontal(pl.all())).item()/bnn_stats.shape[0]"
   ]
  },
  {
   "cell_type": "code",
   "execution_count": 14,
   "id": "df65dd78-82b1-4859-89de-af261d33d17b",
   "metadata": {},
   "outputs": [
    {
     "data": {
      "text/plain": [
       "'asin1'"
      ]
     },
     "execution_count": 14,
     "metadata": {},
     "output_type": "execute_result"
    }
   ],
   "source": [
    "bnn.potential_causes[0]"
   ]
  },
  {
   "cell_type": "code",
   "execution_count": null,
   "id": "11d0cd82-aef8-4762-a6de-a57707ccc9ac",
   "metadata": {},
   "outputs": [],
   "source": [
    "cols_to_exclude=['timestamp','y','category']\n",
    "mod_df = mod_df.drop(cols_to_exclude)\n",
    "data = mod_df.to_numpy()"
   ]
  },
  {
   "cell_type": "code",
   "execution_count": null,
   "id": "8cb368aa-7ff4-45bc-a25d-55757ebe6720",
   "metadata": {},
   "outputs": [],
   "source": [
    "vae = VAE(input_dim = data.shape[1],latent_dim = data.shape[1])\n",
    "train_vae(vae,data,epochs=50)"
   ]
  },
  {
   "cell_type": "code",
   "execution_count": null,
   "id": "0afd311c-dbfc-42ed-bd76-97488b850f70",
   "metadata": {},
   "outputs": [],
   "source": [
    "data.shape[1]"
   ]
  },
  {
   "cell_type": "code",
   "execution_count": null,
   "id": "64939597-77e2-4e01-b983-d3e003ef77d2",
   "metadata": {},
   "outputs": [],
   "source": [
    "class bayesian_network_inference:\n",
    "    def __init__(self,anomaly,vae_model,model_dataframe,input_numpy_data, scoring_method = 'bdeuscore'):\n",
    "        self.anomaly = anomaly\n",
    "        self.vae_model = vae_model\n",
    "        self.mod_df = model_dataframe\n",
    "        self.column_names = self.mod_df.columns\n",
    "        self.input_numpy_data = input_numpy_data\n",
    "        self.scoring_method=scoring_method\n",
    "        self.latent_df = None\n",
    "        self.bayesian_model = None\n",
    "        self.rca_scores = None\n",
    "        self.potential_causes = []\n",
    "\n",
    "    def _get_latent_variables(self):\n",
    "        self.vae_model.eval()\n",
    "        with torch.no_grad():\n",
    "            data_tensor = torch.tensor(self.input_numpy_data, dtype=torch.float32)\n",
    "            mu, _ = self.vae_model.encode(data_tensor)\n",
    "            return mu.numpy()\n",
    "\n",
    "    def _prep_latent_data(self):\n",
    "        latent_data = get_latent_variables(vae, data)\n",
    "        self.latent_df = pd.DataFrame(latent_data, columns=[f\"z{i}\" for i in range(latent_data.shape[1])])\n",
    "        self.latent_df.columns = self.mod_df.columns\n",
    "\n",
    "    def _train_bayes(self):\n",
    "        # Train Bayesian Network\n",
    "        hc = HillClimbSearch(self.latent_df)\n",
    "        best_model = hc.estimate(scoring_method=self.scoring_method)\n",
    "        self.bayesian_model = BayesianNetwork(best_model.edges())\n",
    "        self.bayesian_model.fit(self.latent_df, estimator=MaximumLikelihoodEstimator)\n",
    "\n",
    "    def draw_graph(self,name):\n",
    "        viz = bayesian_model.to_graphviz()\n",
    "        viz.draw( name + '.png', prog='neato')\n",
    "        Image(name + '.png')\n",
    "\n",
    "    def causal_inference(self,n_causes=3):\n",
    "        self._get_latent_variables()\n",
    "        self._prep_latent_data()\n",
    "        self._train_bayes()\n",
    "\n",
    "        inference = CausalInference(self.bayesian_model)\n",
    "        scores = []\n",
    "        columns = self.latent_df.columns\n",
    "        test_columns = []\n",
    "        for col in columns:\n",
    "            if col != self.anomaly:\n",
    "                try:\n",
    "                    inference.get_all_backdoor_adjustment_sets(X=col, Y=self.anomaly)\n",
    "                except:\n",
    "                    None\n",
    "                try:\n",
    "                    inference.get_all_frontdoor_adjustment_sets(X=col, Y=self.anomaly)\n",
    "                except:\n",
    "                    None\n",
    "                test_columns.append(col)\n",
    "                scores.append(inference.estimate_ate(X=col, Y=self.anomaly, data=self.latent_df, estimator_type=\"linear\"))\n",
    "\n",
    "        rca_indices = sorted(range(len(scores)), key=lambda i: scores[i])[-n_causes:]\n",
    "        self.rca_scores = dict(zip(test_columns,scores))\n",
    "        for index in rca_indices:\n",
    "            self.potential_causes.append( (test_columns[index]))\n",
    "        self.potential_causes.sort(key=lambda tup: tup[1],reverse=True)\n",
    "\n",
    "\n",
    " \n",
    "        "
   ]
  },
  {
   "cell_type": "code",
   "execution_count": null,
   "id": "591044f9-95b1-46b0-9a7b-60d81230d3d2",
   "metadata": {},
   "outputs": [],
   "source": [
    "bnn = bayesian_network_inference(anomaly=anomaly,vae_model=vae,model_dataframe=mod_df,input_numpy_data=data)\n",
    "bnn.causal_inference()"
   ]
  },
  {
   "cell_type": "code",
   "execution_count": null,
   "id": "defa00f2-2012-4859-a3e5-33765a2844ca",
   "metadata": {},
   "outputs": [],
   "source": [
    "causes = bnn.potential_causes"
   ]
  },
  {
   "cell_type": "code",
   "execution_count": null,
   "id": "814e96db-8836-46f1-b27c-b6f449a82621",
   "metadata": {},
   "outputs": [],
   "source": [
    "causes.sort(key=lambda tup: tup[1],reverse=True)"
   ]
  },
  {
   "cell_type": "code",
   "execution_count": null,
   "id": "2c15a53b-c338-4835-a1bd-fe202bd52793",
   "metadata": {},
   "outputs": [],
   "source": [
    "causes"
   ]
  },
  {
   "cell_type": "code",
   "execution_count": null,
   "id": "33b3a9fd-4a89-4e10-b7f1-e6f006b827f4",
   "metadata": {},
   "outputs": [],
   "source": [
    "bnn.draw_graph(name='mod1')"
   ]
  },
  {
   "cell_type": "code",
   "execution_count": null,
   "id": "c842373c-54d0-4815-b60c-04853b3365e3",
   "metadata": {},
   "outputs": [],
   "source": [
    "# Define Bayesian Network\n",
    "def get_latent_variables(model, data):\n",
    "    model.eval()\n",
    "    with torch.no_grad():\n",
    "        data_tensor = torch.tensor(data, dtype=torch.float32)\n",
    "        mu, _ = model.encode(data_tensor)\n",
    "        return mu.numpy()\n"
   ]
  },
  {
   "cell_type": "code",
   "execution_count": null,
   "id": "9f46ced8-7a2e-40f8-9157-0c5ee32c78c4",
   "metadata": {},
   "outputs": [],
   "source": [
    "def train_bayes(latent_df,scoring_method = 'bdeuscore'):\n",
    "    # Train Bayesian Network\n",
    "    hc = HillClimbSearch(latent_df)\n",
    "    best_model = hc.estimate(scoring_method='bdeuscore')\n",
    "    bayesian_model = BayesianNetwork(best_model.edges())\n",
    "    bayesian_model.fit(latent_df, estimator=MaximumLikelihoodEstimator)\n",
    "    return bayesian_model"
   ]
  },
  {
   "cell_type": "code",
   "execution_count": null,
   "id": "5f72f6a6-d205-40c8-a343-0df2876c2b68",
   "metadata": {},
   "outputs": [],
   "source": [
    "# Prepare latent data\n",
    "latent_data = get_latent_variables(vae, data)\n",
    "latent_df = pd.DataFrame(latent_data, columns=[f\"z{i}\" for i in range(latent_data.shape[1])])\n",
    "latent_df.columns = mod_df.columns"
   ]
  },
  {
   "cell_type": "code",
   "execution_count": null,
   "id": "913bebe9-1bc8-4198-b38b-03583d777c1b",
   "metadata": {},
   "outputs": [],
   "source": [
    "latent_df.shape"
   ]
  },
  {
   "cell_type": "code",
   "execution_count": null,
   "id": "443aabc4-080a-4704-b155-ded5356151a8",
   "metadata": {},
   "outputs": [],
   "source": [
    "# Train Bayesian Network\n",
    "hc = HillClimbSearch(latent_df)\n",
    "best_model = hc.estimate(scoring_method='bdeuscore')\n",
    "bayesian_model = BayesianNetwork(best_model.edges())\n",
    "bayesian_model.fit(latent_df, estimator=MaximumLikelihoodEstimator)\n"
   ]
  },
  {
   "cell_type": "code",
   "execution_count": null,
   "id": "33c0d6bf-cecf-4d8d-acf8-65227566f7c2",
   "metadata": {},
   "outputs": [],
   "source": [
    "from IPython.display import Image\n",
    "\n",
    "viz = bayesian_model.to_graphviz()\n",
    "viz.draw('test.png', prog='neato')\n",
    "Image('test.png')"
   ]
  },
  {
   "cell_type": "code",
   "execution_count": null,
   "id": "324bece2-7ca0-4e08-8ca3-09b0a62ab48e",
   "metadata": {},
   "outputs": [],
   "source": [
    "from pgmpy.inference.CausalInference import CausalInference\n",
    "inference = CausalInference(bayesian_model)\n",
    "inference.get_all_backdoor_adjustment_sets(X=\"bso3\", Y=anomaly)\n",
    "inference.get_all_frontdoor_adjustment_sets(X=\"bso3\", Y=anomaly)"
   ]
  },
  {
   "cell_type": "code",
   "execution_count": null,
   "id": "e3ca54f0-ed3a-48be-9b9b-fe7833cca7d2",
   "metadata": {},
   "outputs": [],
   "source": [
    "scores = []\n",
    "columns = latent_df.columns\n",
    "test_columns = []\n",
    "for col in latent_df.columns:\n",
    "    if col != anomaly:\n",
    "        inference.get_all_backdoor_adjustment_sets(X=col, Y=anomaly)\n",
    "        inference.get_all_frontdoor_adjustment_sets(X=col, Y=anomaly)\n",
    "        test_columns.append(col)\n",
    "        scores.append(inference.estimate_ate(X=col, Y=anomaly, data=latent_df, estimator_type=\"linear\"))"
   ]
  },
  {
   "cell_type": "code",
   "execution_count": null,
   "id": "b65ca49c-d279-4e2b-a17e-0fefc1f209f2",
   "metadata": {},
   "outputs": [],
   "source": [
    "rca_indices = sorted(range(len(scores)), key=lambda i: scores[i])[-3:]"
   ]
  },
  {
   "cell_type": "code",
   "execution_count": null,
   "id": "7abbe394-4ef4-42f3-ac3a-3d71836187e8",
   "metadata": {},
   "outputs": [],
   "source": [
    "potential_causes = []\n",
    "for index in rca_indices:\n",
    "    potential_causes.append( (test_columns[index],scores[index]))\n"
   ]
  },
  {
   "cell_type": "code",
   "execution_count": null,
   "id": "bcb73d6a-dc61-4f52-9f4a-f7ffa601d0cb",
   "metadata": {},
   "outputs": [],
   "source": [
    "potential_causes"
   ]
  },
  {
   "cell_type": "code",
   "execution_count": null,
   "id": "839510fc-7803-42ee-ae28-bd45cb899d99",
   "metadata": {},
   "outputs": [],
   "source": [
    "test_columns[13]"
   ]
  },
  {
   "cell_type": "code",
   "execution_count": null,
   "id": "b73f0e5f-0b38-46b0-beb4-25fbbac31f2f",
   "metadata": {},
   "outputs": [],
   "source": [
    "test_columns[12]"
   ]
  },
  {
   "cell_type": "code",
   "execution_count": null,
   "id": "5e604c45-51b1-48e9-beb1-361ad681998a",
   "metadata": {},
   "outputs": [],
   "source": [
    "test_columns[1]"
   ]
  },
  {
   "cell_type": "code",
   "execution_count": null,
   "id": "17bdf668-06b8-471e-abf7-f57cc44d3733",
   "metadata": {},
   "outputs": [],
   "source": [
    "metadata"
   ]
  },
  {
   "cell_type": "code",
   "execution_count": null,
   "id": "d25dc258-dda0-4f2a-b710-b286ace25dd3",
   "metadata": {},
   "outputs": [],
   "source": []
  }
 ],
 "metadata": {
  "kernelspec": {
   "display_name": "Python 3 (ipykernel)",
   "language": "python",
   "name": "python3"
  },
  "language_info": {
   "codemirror_mode": {
    "name": "ipython",
    "version": 3
   },
   "file_extension": ".py",
   "mimetype": "text/x-python",
   "name": "python",
   "nbconvert_exporter": "python",
   "pygments_lexer": "ipython3",
   "version": "3.9.19"
  }
 },
 "nbformat": 4,
 "nbformat_minor": 5
}
