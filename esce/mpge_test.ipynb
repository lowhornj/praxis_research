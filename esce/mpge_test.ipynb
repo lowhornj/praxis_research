{
 "cells": [
  {
   "cell_type": "code",
   "execution_count": 18,
   "id": "b5909fec-227d-465c-a82e-b507a0c1caed",
   "metadata": {},
   "outputs": [],
   "source": [
    "import os\n",
    "import torch\n",
    "import polars as pl\n",
    "import numpy as np\n",
    "import seaborn as sns\n",
    "import warnings\n",
    "from feature_eng.scalers import ranged_scaler\n",
    "warnings.filterwarnings(\"ignore\", category=UserWarning) "
   ]
  },
  {
   "cell_type": "code",
   "execution_count": 19,
   "id": "215b1039-a5d0-411f-b0ae-5d901f2a45e9",
   "metadata": {},
   "outputs": [],
   "source": [
    "os.environ[\"CUBLAS_WORKSPACE_CONFIG\"] = \":4096:8\"\n"
   ]
  },
  {
   "cell_type": "code",
   "execution_count": 20,
   "id": "5d7d517a-2a12-416a-9c9c-9c79fa3576ff",
   "metadata": {},
   "outputs": [],
   "source": [
    "cats_df = pl.read_csv(\"data/data.csv\", separator=\",\")  "
   ]
  },
  {
   "cell_type": "code",
   "execution_count": 21,
   "id": "78c9e4d2-88d5-4a53-99e0-df7b8096c9e3",
   "metadata": {},
   "outputs": [],
   "source": [
    "metadata = pl.read_csv('data/metadata.csv',separator=',')"
   ]
  },
  {
   "cell_type": "code",
   "execution_count": 22,
   "id": "85ac5887-0b0e-4ddc-86e5-bebd8a936b1d",
   "metadata": {},
   "outputs": [
    {
     "data": {
      "text/html": [
       "<div><style>\n",
       ".dataframe > thead > tr,\n",
       ".dataframe > tbody > tr {\n",
       "  text-align: right;\n",
       "  white-space: pre-wrap;\n",
       "}\n",
       "</style>\n",
       "<small>shape: (5, 20)</small><table border=\"1\" class=\"dataframe\"><thead><tr><th>timestamp</th><th>aimp</th><th>amud</th><th>arnd</th><th>asin1</th><th>asin2</th><th>adbr</th><th>adfl</th><th>bed1</th><th>bed2</th><th>bfo1</th><th>bfo2</th><th>bso1</th><th>bso2</th><th>bso3</th><th>ced1</th><th>cfo1</th><th>cso1</th><th>y</th><th>category</th></tr><tr><td>str</td><td>f64</td><td>f64</td><td>f64</td><td>f64</td><td>f64</td><td>f64</td><td>f64</td><td>f64</td><td>f64</td><td>f64</td><td>f64</td><td>f64</td><td>f64</td><td>f64</td><td>f64</td><td>f64</td><td>f64</td><td>f64</td><td>f64</td></tr></thead><tbody><tr><td>&quot;2023-01-01 00:00:00&quot;</td><td>0.0</td><td>1.0</td><td>20.0</td><td>0.0</td><td>0.0</td><td>0.0</td><td>0.0</td><td>0.0</td><td>0.0</td><td>0.0</td><td>0.0</td><td>0.0</td><td>0.0</td><td>0.0</td><td>0.0</td><td>0.0</td><td>0.0</td><td>0.0</td><td>0.0</td></tr><tr><td>&quot;2023-01-01 00:00:01&quot;</td><td>0.0</td><td>1.0</td><td>20.080031</td><td>0.00002</td><td>0.0002</td><td>0.0</td><td>0.0</td><td>0.0</td><td>0.0</td><td>0.0</td><td>4.9939e-7</td><td>0.000789</td><td>0.0</td><td>0.0</td><td>0.0</td><td>0.000021</td><td>0.001229</td><td>0.0</td><td>0.0</td></tr><tr><td>&quot;2023-01-01 00:00:02&quot;</td><td>0.0</td><td>1.0</td><td>20.276562</td><td>0.00004</td><td>0.0004</td><td>0.0</td><td>0.0</td><td>0.0</td><td>0.0</td><td>0.0</td><td>0.000001</td><td>0.003115</td><td>0.0</td><td>0.0</td><td>0.0</td><td>0.000104</td><td>0.004833</td><td>0.0</td><td>0.0</td></tr><tr><td>&quot;2023-01-01 00:00:03&quot;</td><td>0.0</td><td>1.0</td><td>20.730938</td><td>0.00006</td><td>0.0006</td><td>0.0</td><td>0.0</td><td>0.0</td><td>0.0</td><td>0.0</td><td>0.000003</td><td>0.006914</td><td>0.0</td><td>0.0</td><td>0.0</td><td>0.000285</td><td>0.010688</td><td>0.0</td><td>0.0</td></tr><tr><td>&quot;2023-01-01 00:00:04&quot;</td><td>0.0</td><td>1.0</td><td>21.118101</td><td>0.00008</td><td>0.0008</td><td>0.0</td><td>0.0</td><td>0.0</td><td>0.0</td><td>0.0</td><td>0.000005</td><td>0.012123</td><td>0.0</td><td>0.0</td><td>0.0</td><td>0.000601</td><td>0.018669</td><td>0.0</td><td>0.0</td></tr></tbody></table></div>"
      ],
      "text/plain": [
       "shape: (5, 20)\n",
       "┌─────────────────────┬──────┬──────┬───────────┬───┬──────────┬──────────┬─────┬──────────┐\n",
       "│ timestamp           ┆ aimp ┆ amud ┆ arnd      ┆ … ┆ cfo1     ┆ cso1     ┆ y   ┆ category │\n",
       "│ ---                 ┆ ---  ┆ ---  ┆ ---       ┆   ┆ ---      ┆ ---      ┆ --- ┆ ---      │\n",
       "│ str                 ┆ f64  ┆ f64  ┆ f64       ┆   ┆ f64      ┆ f64      ┆ f64 ┆ f64      │\n",
       "╞═════════════════════╪══════╪══════╪═══════════╪═══╪══════════╪══════════╪═════╪══════════╡\n",
       "│ 2023-01-01 00:00:00 ┆ 0.0  ┆ 1.0  ┆ 20.0      ┆ … ┆ 0.0      ┆ 0.0      ┆ 0.0 ┆ 0.0      │\n",
       "│ 2023-01-01 00:00:01 ┆ 0.0  ┆ 1.0  ┆ 20.080031 ┆ … ┆ 0.000021 ┆ 0.001229 ┆ 0.0 ┆ 0.0      │\n",
       "│ 2023-01-01 00:00:02 ┆ 0.0  ┆ 1.0  ┆ 20.276562 ┆ … ┆ 0.000104 ┆ 0.004833 ┆ 0.0 ┆ 0.0      │\n",
       "│ 2023-01-01 00:00:03 ┆ 0.0  ┆ 1.0  ┆ 20.730938 ┆ … ┆ 0.000285 ┆ 0.010688 ┆ 0.0 ┆ 0.0      │\n",
       "│ 2023-01-01 00:00:04 ┆ 0.0  ┆ 1.0  ┆ 21.118101 ┆ … ┆ 0.000601 ┆ 0.018669 ┆ 0.0 ┆ 0.0      │\n",
       "└─────────────────────┴──────┴──────┴───────────┴───┴──────────┴──────────┴─────┴──────────┘"
      ]
     },
     "execution_count": 22,
     "metadata": {},
     "output_type": "execute_result"
    }
   ],
   "source": [
    "cats_df.head()"
   ]
  },
  {
   "cell_type": "code",
   "execution_count": 6,
   "id": "3070f609-a644-4844-9803-69f2e24823f1",
   "metadata": {},
   "outputs": [
    {
     "data": {
      "text/html": [
       "<div><style>\n",
       ".dataframe > thead > tr,\n",
       ".dataframe > tbody > tr {\n",
       "  text-align: right;\n",
       "  white-space: pre-wrap;\n",
       "}\n",
       "</style>\n",
       "<small>shape: (5, 5)</small><table border=\"1\" class=\"dataframe\"><thead><tr><th>start_time</th><th>end_time</th><th>root_cause</th><th>affected</th><th>category</th></tr><tr><td>str</td><td>str</td><td>str</td><td>str</td><td>i64</td></tr></thead><tbody><tr><td>&quot;2023-01-12 15:11:45&quot;</td><td>&quot;2023-01-12 15:20:05&quot;</td><td>&quot;bso3&quot;</td><td>&quot;[&#x27;cfo1&#x27;]&quot;</td><td>12</td></tr><tr><td>&quot;2023-01-12 16:27:46&quot;</td><td>&quot;2023-01-12 17:51:06&quot;</td><td>&quot;bso3&quot;</td><td>&quot;[&#x27;cfo1&#x27;]&quot;</td><td>1</td></tr><tr><td>&quot;2023-01-12 18:19:35&quot;</td><td>&quot;2023-01-12 18:36:15&quot;</td><td>&quot;bfo2&quot;</td><td>&quot;[&#x27;cso1&#x27;]&quot;</td><td>8</td></tr><tr><td>&quot;2023-01-12 20:46:32&quot;</td><td>&quot;2023-01-12 20:51:32&quot;</td><td>&quot;bed2&quot;</td><td>&quot;[&#x27;ced1&#x27;]&quot;</td><td>7</td></tr><tr><td>&quot;2023-01-13 05:57:10&quot;</td><td>&quot;2023-01-13 06:02:10&quot;</td><td>&quot;bfo1&quot;</td><td>&quot;[&#x27;cfo1&#x27;]&quot;</td><td>9</td></tr></tbody></table></div>"
      ],
      "text/plain": [
       "shape: (5, 5)\n",
       "┌─────────────────────┬─────────────────────┬────────────┬──────────┬──────────┐\n",
       "│ start_time          ┆ end_time            ┆ root_cause ┆ affected ┆ category │\n",
       "│ ---                 ┆ ---                 ┆ ---        ┆ ---      ┆ ---      │\n",
       "│ str                 ┆ str                 ┆ str        ┆ str      ┆ i64      │\n",
       "╞═════════════════════╪═════════════════════╪════════════╪══════════╪══════════╡\n",
       "│ 2023-01-12 15:11:45 ┆ 2023-01-12 15:20:05 ┆ bso3       ┆ ['cfo1'] ┆ 12       │\n",
       "│ 2023-01-12 16:27:46 ┆ 2023-01-12 17:51:06 ┆ bso3       ┆ ['cfo1'] ┆ 1        │\n",
       "│ 2023-01-12 18:19:35 ┆ 2023-01-12 18:36:15 ┆ bfo2       ┆ ['cso1'] ┆ 8        │\n",
       "│ 2023-01-12 20:46:32 ┆ 2023-01-12 20:51:32 ┆ bed2       ┆ ['ced1'] ┆ 7        │\n",
       "│ 2023-01-13 05:57:10 ┆ 2023-01-13 06:02:10 ┆ bfo1       ┆ ['cfo1'] ┆ 9        │\n",
       "└─────────────────────┴─────────────────────┴────────────┴──────────┴──────────┘"
      ]
     },
     "execution_count": 6,
     "metadata": {},
     "output_type": "execute_result"
    }
   ],
   "source": [
    "metadata.head()"
   ]
  },
  {
   "cell_type": "markdown",
   "id": "ddab8d33-8b00-4c3b-85de-3144cac4376c",
   "metadata": {},
   "source": [
    "# Feature Engineering"
   ]
  },
  {
   "cell_type": "code",
   "execution_count": 40,
   "id": "57ba5530-048a-42e2-8098-9e89fc179fd0",
   "metadata": {},
   "outputs": [],
   "source": [
    "for col in cats_df.columns:\n",
    "    unique_vals = cats_df[col].n_unique()\n",
    "    data_type = cats_df[col].dtype\n",
    "    bad_dtypes = [pl.String,pl.Date,pl.Datetime,pl.Utf8]\n",
    "    if ((unique_vals >= 50) & (data_type not in bad_dtypes) ):\n",
    "        cats_df = cats_df.with_columns(ranged_scaler(cats_df[col]))\n",
    "    else:\n",
    "        continue"
   ]
  },
  {
   "cell_type": "code",
   "execution_count": 41,
   "id": "826266db-b108-47a3-b237-98b6cd676f06",
   "metadata": {},
   "outputs": [
    {
     "data": {
      "text/html": [
       "<div><style>\n",
       ".dataframe > thead > tr,\n",
       ".dataframe > tbody > tr {\n",
       "  text-align: right;\n",
       "  white-space: pre-wrap;\n",
       "}\n",
       "</style>\n",
       "<small>shape: (5, 20)</small><table border=\"1\" class=\"dataframe\"><thead><tr><th>timestamp</th><th>aimp</th><th>amud</th><th>arnd</th><th>asin1</th><th>asin2</th><th>adbr</th><th>adfl</th><th>bed1</th><th>bed2</th><th>bfo1</th><th>bfo2</th><th>bso1</th><th>bso2</th><th>bso3</th><th>ced1</th><th>cfo1</th><th>cso1</th><th>y</th><th>category</th></tr><tr><td>str</td><td>f64</td><td>f64</td><td>f64</td><td>f64</td><td>f64</td><td>f64</td><td>f64</td><td>f64</td><td>f64</td><td>f64</td><td>f64</td><td>f64</td><td>f64</td><td>f64</td><td>f64</td><td>f64</td><td>f64</td><td>f64</td><td>f64</td></tr></thead><tbody><tr><td>&quot;2023-01-01 00:00:00&quot;</td><td>0.0</td><td>0.142857</td><td>-0.5</td><td>-4.1078e-14</td><td>2.0428e-14</td><td>0.0</td><td>0.0</td><td>-0.32802</td><td>-0.369237</td><td>-0.738163</td><td>-0.767181</td><td>-0.180547</td><td>-0.507953</td><td>-0.716059</td><td>-0.774361</td><td>0.100389</td><td>-0.186623</td><td>0.0</td><td>0.0</td></tr><tr><td>&quot;2023-01-01 00:00:01&quot;</td><td>0.0</td><td>0.142857</td><td>-0.495998</td><td>0.00002</td><td>0.0002</td><td>0.0</td><td>0.0</td><td>-0.32802</td><td>-0.369237</td><td>-0.738163</td><td>-0.767181</td><td>-0.18054</td><td>-0.507953</td><td>-0.716059</td><td>-0.774361</td><td>0.100389</td><td>-0.186618</td><td>0.0</td><td>0.0</td></tr><tr><td>&quot;2023-01-01 00:00:02&quot;</td><td>0.0</td><td>0.142857</td><td>-0.486172</td><td>0.00004</td><td>0.0004</td><td>0.0</td><td>0.0</td><td>-0.32802</td><td>-0.369237</td><td>-0.738163</td><td>-0.767181</td><td>-0.180519</td><td>-0.507953</td><td>-0.716059</td><td>-0.774361</td><td>0.10039</td><td>-0.186604</td><td>0.0</td><td>0.0</td></tr><tr><td>&quot;2023-01-01 00:00:03&quot;</td><td>0.0</td><td>0.142857</td><td>-0.463453</td><td>0.00006</td><td>0.0006</td><td>0.0</td><td>0.0</td><td>-0.32802</td><td>-0.369237</td><td>-0.738163</td><td>-0.767181</td><td>-0.180484</td><td>-0.507953</td><td>-0.716059</td><td>-0.774361</td><td>0.100391</td><td>-0.18658</td><td>0.0</td><td>0.0</td></tr><tr><td>&quot;2023-01-01 00:00:04&quot;</td><td>0.0</td><td>0.142857</td><td>-0.444095</td><td>0.00008</td><td>0.0008</td><td>0.0</td><td>0.0</td><td>-0.32802</td><td>-0.369237</td><td>-0.738163</td><td>-0.767181</td><td>-0.180437</td><td>-0.507953</td><td>-0.716059</td><td>-0.774361</td><td>0.100393</td><td>-0.186548</td><td>0.0</td><td>0.0</td></tr></tbody></table></div>"
      ],
      "text/plain": [
       "shape: (5, 20)\n",
       "┌─────────────────────┬──────┬──────────┬───────────┬───┬──────────┬───────────┬─────┬──────────┐\n",
       "│ timestamp           ┆ aimp ┆ amud     ┆ arnd      ┆ … ┆ cfo1     ┆ cso1      ┆ y   ┆ category │\n",
       "│ ---                 ┆ ---  ┆ ---      ┆ ---       ┆   ┆ ---      ┆ ---       ┆ --- ┆ ---      │\n",
       "│ str                 ┆ f64  ┆ f64      ┆ f64       ┆   ┆ f64      ┆ f64       ┆ f64 ┆ f64      │\n",
       "╞═════════════════════╪══════╪══════════╪═══════════╪═══╪══════════╪═══════════╪═════╪══════════╡\n",
       "│ 2023-01-01 00:00:00 ┆ 0.0  ┆ 0.142857 ┆ -0.5      ┆ … ┆ 0.100389 ┆ -0.186623 ┆ 0.0 ┆ 0.0      │\n",
       "│ 2023-01-01 00:00:01 ┆ 0.0  ┆ 0.142857 ┆ -0.495998 ┆ … ┆ 0.100389 ┆ -0.186618 ┆ 0.0 ┆ 0.0      │\n",
       "│ 2023-01-01 00:00:02 ┆ 0.0  ┆ 0.142857 ┆ -0.486172 ┆ … ┆ 0.10039  ┆ -0.186604 ┆ 0.0 ┆ 0.0      │\n",
       "│ 2023-01-01 00:00:03 ┆ 0.0  ┆ 0.142857 ┆ -0.463453 ┆ … ┆ 0.100391 ┆ -0.18658  ┆ 0.0 ┆ 0.0      │\n",
       "│ 2023-01-01 00:00:04 ┆ 0.0  ┆ 0.142857 ┆ -0.444095 ┆ … ┆ 0.100393 ┆ -0.186548 ┆ 0.0 ┆ 0.0      │\n",
       "└─────────────────────┴──────┴──────────┴───────────┴───┴──────────┴───────────┴─────┴──────────┘"
      ]
     },
     "execution_count": 41,
     "metadata": {},
     "output_type": "execute_result"
    }
   ],
   "source": [
    "cats_df.head()"
   ]
  },
  {
   "cell_type": "markdown",
   "id": "0cbb7c76-5653-4785-9c00-00c8fb6a1ba9",
   "metadata": {},
   "source": [
    "## Filter Cats by Anomalies Only"
   ]
  },
  {
   "cell_type": "code",
   "execution_count": 42,
   "id": "494072d4-c444-4205-a802-7159d033cc08",
   "metadata": {},
   "outputs": [],
   "source": [
    "from mpge.rca import mpge_root_cause_diagnosis"
   ]
  },
  {
   "cell_type": "code",
   "execution_count": 43,
   "id": "2e87f9a1-2996-45c8-b119-c3d63d1496cf",
   "metadata": {},
   "outputs": [
    {
     "name": "stdout",
     "output_type": "stream",
     "text": [
      "0\n",
      "50\n",
      "100\n",
      "150\n"
     ]
    }
   ],
   "source": [
    "new_metadata = []\n",
    "iteration = 0\n",
    "for row in metadata.iter_rows(named=True):\n",
    "    start = row['start_time']\n",
    "    end = row['end_time']\n",
    "    root_cause = row['root_cause']\n",
    "    mod_df = cats_df.filter( (pl.col('timestamp')>= start) & (pl.col('timestamp') <= end))\n",
    "    rca_mod = mpge_root_cause_diagnosis(input_df = mod_df, cols_to_exclude=['timestamp','y','category'])\n",
    "    rca_mod.fit()\n",
    "\n",
    "    potential_cause1 = rca_mod.root_rank_score[0]['Column'][0]\n",
    "    potential_cause2 = rca_mod.root_rank_score[1]['Column'][0]\n",
    "    potential_cause3 = rca_mod.root_rank_score[2]['Column'][0]\n",
    "    if root_cause == potential_cause1:\n",
    "        row['cause_1'] = 1\n",
    "    if root_cause == potential_cause2:\n",
    "        row['cause_2'] = 1\n",
    "    if root_cause == potential_cause3:\n",
    "        row['cause_3'] = 1\n",
    "    new_metadata.append(row)\n",
    "    if iteration%50 == 0:\n",
    "        print(iteration)\n",
    "    iteration+=1"
   ]
  },
  {
   "cell_type": "code",
   "execution_count": 44,
   "id": "125bc6d1-d700-41c6-b9b0-466faeddfc69",
   "metadata": {},
   "outputs": [],
   "source": [
    "mpge_stats = pl.DataFrame(new_metadata)"
   ]
  },
  {
   "cell_type": "code",
   "execution_count": 45,
   "id": "e3c760a9-da8c-4fd0-aa42-f7c24f41618c",
   "metadata": {},
   "outputs": [],
   "source": [
    "agg_stats = mpge_stats.select(pl.sum(\"cause_1\", \"cause_2\",'cause_3'))"
   ]
  },
  {
   "cell_type": "code",
   "execution_count": 46,
   "id": "8b96cafc-5e9d-4d71-b69d-bfcdaf214e67",
   "metadata": {},
   "outputs": [
    {
     "data": {
      "text/plain": [
       "0.23"
      ]
     },
     "execution_count": 46,
     "metadata": {},
     "output_type": "execute_result"
    }
   ],
   "source": [
    "agg_stats.select(pl.sum_horizontal(pl.all())).item()/mpge_stats.shape[0]"
   ]
  },
  {
   "cell_type": "code",
   "execution_count": null,
   "id": "2b3b49a2-0ba0-4157-80b4-931454f4ebc6",
   "metadata": {},
   "outputs": [],
   "source": [
    "new_metadata"
   ]
  }
 ],
 "metadata": {
  "kernelspec": {
   "display_name": "Python 3 (ipykernel)",
   "language": "python",
   "name": "python3"
  },
  "language_info": {
   "codemirror_mode": {
    "name": "ipython",
    "version": 3
   },
   "file_extension": ".py",
   "mimetype": "text/x-python",
   "name": "python",
   "nbconvert_exporter": "python",
   "pygments_lexer": "ipython3",
   "version": "3.9.21"
  }
 },
 "nbformat": 4,
 "nbformat_minor": 5
}
