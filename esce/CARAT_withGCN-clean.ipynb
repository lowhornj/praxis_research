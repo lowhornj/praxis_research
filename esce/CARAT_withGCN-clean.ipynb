{
 "cells": [
  {
   "cell_type": "code",
   "execution_count": 1,
   "id": "a97d3321-4427-4837-8269-048dc64686f7",
   "metadata": {},
   "outputs": [],
   "source": [
    "import os\n",
    "import torch\n",
    "import polars as pl\n",
    "import pandas as pd\n",
    "import numpy as np\n",
    "import seaborn as sns\n",
    "import warnings\n",
    "from feature_eng.scalers import ranged_scaler\n",
    "from datetime import datetime, timedelta\n",
    "#from mpge.rca import mpge_root_cause_diagnosis\n",
    "warnings.filterwarnings(\"ignore\", category=UserWarning) \n",
    "warnings.simplefilter(action='ignore', category=FutureWarning)\n",
    "pd.options.mode.chained_assignment = None\n",
    "\n",
    "import warnings\n",
    "\n",
    "def fxn():\n",
    "    warnings.warn(\"deprecated\", DeprecationWarning)\n",
    "\n",
    "with warnings.catch_warnings():\n",
    "    warnings.simplefilter(\"ignore\")\n",
    "    fxn()\n",
    "\n",
    "# Or if you are using > Python 3.11:\n",
    "with warnings.catch_warnings(action=\"ignore\"):\n",
    "    fxn()"
   ]
  },
  {
   "cell_type": "code",
   "execution_count": 2,
   "id": "68ef600a-406e-456a-98ac-8388b03ccc8e",
   "metadata": {},
   "outputs": [],
   "source": [
    "os.environ[\"CUBLAS_WORKSPACE_CONFIG\"] = \":4096:8\"\n",
    "os.environ[\"CUDA_LAUNCH_BLOCKING\"] = \"1\"\n"
   ]
  },
  {
   "cell_type": "code",
   "execution_count": 3,
   "id": "ec413833-9dbd-45bb-99a1-18e31bd014fb",
   "metadata": {},
   "outputs": [],
   "source": [
    "from tkgngc.embeddings import PretrainedTKGEmbeddingWithTimestamps\n",
    "from tkgngc.data_processing import TKGNGCDataProcessor\n",
    "from tkgngc.model import train_model"
   ]
  },
  {
   "cell_type": "code",
   "execution_count": 4,
   "id": "6981e0a1-e1c0-409d-ab6a-cf7d34bf1793",
   "metadata": {},
   "outputs": [],
   "source": [
    "cats_df = pl.read_csv(\"data/data.csv\", separator=\",\")  \n",
    "metadata = pl.read_csv('data/metadata.csv',separator=',')\n",
    "potential_causes = metadata['root_cause'].unique().to_list()\n",
    "\n",
    "for col in cats_df.columns:\n",
    "    unique_vals = cats_df[col].n_unique()\n",
    "    data_type = cats_df[col].dtype\n",
    "    bad_dtypes = [pl.Date,pl.Datetime,pl.Utf8]\n",
    "    if ((unique_vals >= 50) & (data_type not in bad_dtypes) ):\n",
    "        cats_df = cats_df.with_columns(ranged_scaler(cats_df[col]))\n",
    "    else:\n",
    "        continue"
   ]
  },
  {
   "cell_type": "code",
   "execution_count": 5,
   "id": "df0f5a4d-1cf3-4a87-a3fb-751607296c58",
   "metadata": {},
   "outputs": [],
   "source": [
    "cats_df = cats_df.with_columns(\n",
    "    pl.col('timestamp').str.to_datetime(\"%Y-%m-%d %H:%M:%S\"),\n",
    "    pl.Series(\"entity_id\",range(len(cats_df)))\n",
    ")"
   ]
  },
  {
   "cell_type": "code",
   "execution_count": 6,
   "id": "48b9af15-9315-41d4-86fe-907430746a4a",
   "metadata": {},
   "outputs": [
    {
     "data": {
      "text/html": [
       "<div><style>\n",
       ".dataframe > thead > tr,\n",
       ".dataframe > tbody > tr {\n",
       "  text-align: right;\n",
       "  white-space: pre-wrap;\n",
       "}\n",
       "</style>\n",
       "<small>shape: (5, 21)</small><table border=\"1\" class=\"dataframe\"><thead><tr><th>timestamp</th><th>aimp</th><th>amud</th><th>arnd</th><th>asin1</th><th>asin2</th><th>adbr</th><th>adfl</th><th>bed1</th><th>bed2</th><th>bfo1</th><th>bfo2</th><th>bso1</th><th>bso2</th><th>bso3</th><th>ced1</th><th>cfo1</th><th>cso1</th><th>y</th><th>category</th><th>entity_id</th></tr><tr><td>datetime[μs]</td><td>f64</td><td>f64</td><td>f64</td><td>f64</td><td>f64</td><td>f64</td><td>f64</td><td>f64</td><td>f64</td><td>f64</td><td>f64</td><td>f64</td><td>f64</td><td>f64</td><td>f64</td><td>f64</td><td>f64</td><td>f64</td><td>f64</td><td>i64</td></tr></thead><tbody><tr><td>2023-01-01 00:00:00</td><td>0.0</td><td>0.571429</td><td>0.25</td><td>0.5</td><td>0.5</td><td>0.0</td><td>0.0</td><td>0.33599</td><td>0.315382</td><td>0.130919</td><td>0.116409</td><td>0.409726</td><td>0.246024</td><td>0.14197</td><td>0.112819</td><td>0.550194</td><td>0.406688</td><td>0.0</td><td>0.0</td><td>0</td></tr><tr><td>2023-01-01 00:00:01</td><td>0.0</td><td>0.571429</td><td>0.252001</td><td>0.50001</td><td>0.5001</td><td>0.0</td><td>0.0</td><td>0.33599</td><td>0.315382</td><td>0.130919</td><td>0.116409</td><td>0.40973</td><td>0.246024</td><td>0.14197</td><td>0.112819</td><td>0.550194</td><td>0.406691</td><td>0.0</td><td>0.0</td><td>1</td></tr><tr><td>2023-01-01 00:00:02</td><td>0.0</td><td>0.571429</td><td>0.256914</td><td>0.50002</td><td>0.5002</td><td>0.0</td><td>0.0</td><td>0.33599</td><td>0.315382</td><td>0.130919</td><td>0.116409</td><td>0.409741</td><td>0.246024</td><td>0.14197</td><td>0.112819</td><td>0.550195</td><td>0.406698</td><td>0.0</td><td>0.0</td><td>2</td></tr><tr><td>2023-01-01 00:00:03</td><td>0.0</td><td>0.571429</td><td>0.268273</td><td>0.50003</td><td>0.5003</td><td>0.0</td><td>0.0</td><td>0.33599</td><td>0.315382</td><td>0.130919</td><td>0.116409</td><td>0.409758</td><td>0.246024</td><td>0.14197</td><td>0.112819</td><td>0.550195</td><td>0.40671</td><td>0.0</td><td>0.0</td><td>3</td></tr><tr><td>2023-01-01 00:00:04</td><td>0.0</td><td>0.571429</td><td>0.277953</td><td>0.50004</td><td>0.5004</td><td>0.0</td><td>0.0</td><td>0.33599</td><td>0.315382</td><td>0.130919</td><td>0.116409</td><td>0.409782</td><td>0.246024</td><td>0.14197</td><td>0.112819</td><td>0.550197</td><td>0.406726</td><td>0.0</td><td>0.0</td><td>4</td></tr></tbody></table></div>"
      ],
      "text/plain": [
       "shape: (5, 21)\n",
       "┌─────────────────────┬──────┬──────────┬──────────┬───┬──────────┬─────┬──────────┬───────────┐\n",
       "│ timestamp           ┆ aimp ┆ amud     ┆ arnd     ┆ … ┆ cso1     ┆ y   ┆ category ┆ entity_id │\n",
       "│ ---                 ┆ ---  ┆ ---      ┆ ---      ┆   ┆ ---      ┆ --- ┆ ---      ┆ ---       │\n",
       "│ datetime[μs]        ┆ f64  ┆ f64      ┆ f64      ┆   ┆ f64      ┆ f64 ┆ f64      ┆ i64       │\n",
       "╞═════════════════════╪══════╪══════════╪══════════╪═══╪══════════╪═════╪══════════╪═══════════╡\n",
       "│ 2023-01-01 00:00:00 ┆ 0.0  ┆ 0.571429 ┆ 0.25     ┆ … ┆ 0.406688 ┆ 0.0 ┆ 0.0      ┆ 0         │\n",
       "│ 2023-01-01 00:00:01 ┆ 0.0  ┆ 0.571429 ┆ 0.252001 ┆ … ┆ 0.406691 ┆ 0.0 ┆ 0.0      ┆ 1         │\n",
       "│ 2023-01-01 00:00:02 ┆ 0.0  ┆ 0.571429 ┆ 0.256914 ┆ … ┆ 0.406698 ┆ 0.0 ┆ 0.0      ┆ 2         │\n",
       "│ 2023-01-01 00:00:03 ┆ 0.0  ┆ 0.571429 ┆ 0.268273 ┆ … ┆ 0.40671  ┆ 0.0 ┆ 0.0      ┆ 3         │\n",
       "│ 2023-01-01 00:00:04 ┆ 0.0  ┆ 0.571429 ┆ 0.277953 ┆ … ┆ 0.406726 ┆ 0.0 ┆ 0.0      ┆ 4         │\n",
       "└─────────────────────┴──────┴──────────┴──────────┴───┴──────────┴─────┴──────────┴───────────┘"
      ]
     },
     "execution_count": 6,
     "metadata": {},
     "output_type": "execute_result"
    }
   ],
   "source": [
    "cats_rows_list = metadata.rows(named=True)\n",
    "cats_df.head()"
   ]
  },
  {
   "cell_type": "code",
   "execution_count": 7,
   "id": "b6b4cd0e-cacc-4d93-b0e9-a0cdca28b157",
   "metadata": {},
   "outputs": [],
   "source": [
    "cats_df = cats_df.to_pandas()"
   ]
  },
  {
   "cell_type": "code",
   "execution_count": 8,
   "id": "dc297da3-97f8-4077-898e-cc23b8c2e24a",
   "metadata": {},
   "outputs": [],
   "source": [
    "potential_causes = metadata['root_cause'].unique().to_list()"
   ]
  },
  {
   "cell_type": "code",
   "execution_count": 9,
   "id": "e8be12f8-8ca1-49a7-81aa-5e05325023a5",
   "metadata": {},
   "outputs": [
    {
     "data": {
      "text/html": [
       "<div>\n",
       "<style scoped>\n",
       "    .dataframe tbody tr th:only-of-type {\n",
       "        vertical-align: middle;\n",
       "    }\n",
       "\n",
       "    .dataframe tbody tr th {\n",
       "        vertical-align: top;\n",
       "    }\n",
       "\n",
       "    .dataframe thead th {\n",
       "        text-align: right;\n",
       "    }\n",
       "</style>\n",
       "<table border=\"1\" class=\"dataframe\">\n",
       "  <thead>\n",
       "    <tr style=\"text-align: right;\">\n",
       "      <th></th>\n",
       "      <th>aimp</th>\n",
       "      <th>amud</th>\n",
       "      <th>arnd</th>\n",
       "      <th>asin1</th>\n",
       "      <th>asin2</th>\n",
       "      <th>adbr</th>\n",
       "      <th>adfl</th>\n",
       "      <th>bed1</th>\n",
       "      <th>bed2</th>\n",
       "      <th>bfo1</th>\n",
       "      <th>bfo2</th>\n",
       "      <th>bso1</th>\n",
       "      <th>bso2</th>\n",
       "      <th>bso3</th>\n",
       "      <th>ced1</th>\n",
       "      <th>cfo1</th>\n",
       "      <th>cso1</th>\n",
       "    </tr>\n",
       "    <tr>\n",
       "      <th>timestamp</th>\n",
       "      <th></th>\n",
       "      <th></th>\n",
       "      <th></th>\n",
       "      <th></th>\n",
       "      <th></th>\n",
       "      <th></th>\n",
       "      <th></th>\n",
       "      <th></th>\n",
       "      <th></th>\n",
       "      <th></th>\n",
       "      <th></th>\n",
       "      <th></th>\n",
       "      <th></th>\n",
       "      <th></th>\n",
       "      <th></th>\n",
       "      <th></th>\n",
       "      <th></th>\n",
       "    </tr>\n",
       "  </thead>\n",
       "  <tbody>\n",
       "    <tr>\n",
       "      <th>2023-01-01 00:00:00</th>\n",
       "      <td>0.0</td>\n",
       "      <td>0.571429</td>\n",
       "      <td>0.250000</td>\n",
       "      <td>0.50000</td>\n",
       "      <td>0.5000</td>\n",
       "      <td>0.0</td>\n",
       "      <td>0.0</td>\n",
       "      <td>0.33599</td>\n",
       "      <td>0.315382</td>\n",
       "      <td>0.130919</td>\n",
       "      <td>0.116409</td>\n",
       "      <td>0.409726</td>\n",
       "      <td>0.246024</td>\n",
       "      <td>0.14197</td>\n",
       "      <td>0.112819</td>\n",
       "      <td>0.550194</td>\n",
       "      <td>0.406688</td>\n",
       "    </tr>\n",
       "    <tr>\n",
       "      <th>2023-01-01 00:00:01</th>\n",
       "      <td>0.0</td>\n",
       "      <td>0.571429</td>\n",
       "      <td>0.252001</td>\n",
       "      <td>0.50001</td>\n",
       "      <td>0.5001</td>\n",
       "      <td>0.0</td>\n",
       "      <td>0.0</td>\n",
       "      <td>0.33599</td>\n",
       "      <td>0.315382</td>\n",
       "      <td>0.130919</td>\n",
       "      <td>0.116409</td>\n",
       "      <td>0.409730</td>\n",
       "      <td>0.246024</td>\n",
       "      <td>0.14197</td>\n",
       "      <td>0.112819</td>\n",
       "      <td>0.550194</td>\n",
       "      <td>0.406691</td>\n",
       "    </tr>\n",
       "    <tr>\n",
       "      <th>2023-01-01 00:00:02</th>\n",
       "      <td>0.0</td>\n",
       "      <td>0.571429</td>\n",
       "      <td>0.256914</td>\n",
       "      <td>0.50002</td>\n",
       "      <td>0.5002</td>\n",
       "      <td>0.0</td>\n",
       "      <td>0.0</td>\n",
       "      <td>0.33599</td>\n",
       "      <td>0.315382</td>\n",
       "      <td>0.130919</td>\n",
       "      <td>0.116409</td>\n",
       "      <td>0.409741</td>\n",
       "      <td>0.246024</td>\n",
       "      <td>0.14197</td>\n",
       "      <td>0.112819</td>\n",
       "      <td>0.550195</td>\n",
       "      <td>0.406698</td>\n",
       "    </tr>\n",
       "    <tr>\n",
       "      <th>2023-01-01 00:00:03</th>\n",
       "      <td>0.0</td>\n",
       "      <td>0.571429</td>\n",
       "      <td>0.268273</td>\n",
       "      <td>0.50003</td>\n",
       "      <td>0.5003</td>\n",
       "      <td>0.0</td>\n",
       "      <td>0.0</td>\n",
       "      <td>0.33599</td>\n",
       "      <td>0.315382</td>\n",
       "      <td>0.130919</td>\n",
       "      <td>0.116409</td>\n",
       "      <td>0.409758</td>\n",
       "      <td>0.246024</td>\n",
       "      <td>0.14197</td>\n",
       "      <td>0.112819</td>\n",
       "      <td>0.550195</td>\n",
       "      <td>0.406710</td>\n",
       "    </tr>\n",
       "    <tr>\n",
       "      <th>2023-01-01 00:00:04</th>\n",
       "      <td>0.0</td>\n",
       "      <td>0.571429</td>\n",
       "      <td>0.277953</td>\n",
       "      <td>0.50004</td>\n",
       "      <td>0.5004</td>\n",
       "      <td>0.0</td>\n",
       "      <td>0.0</td>\n",
       "      <td>0.33599</td>\n",
       "      <td>0.315382</td>\n",
       "      <td>0.130919</td>\n",
       "      <td>0.116409</td>\n",
       "      <td>0.409782</td>\n",
       "      <td>0.246024</td>\n",
       "      <td>0.14197</td>\n",
       "      <td>0.112819</td>\n",
       "      <td>0.550197</td>\n",
       "      <td>0.406726</td>\n",
       "    </tr>\n",
       "  </tbody>\n",
       "</table>\n",
       "</div>"
      ],
      "text/plain": [
       "                     aimp      amud      arnd    asin1   asin2  adbr  adfl  \\\n",
       "timestamp                                                                    \n",
       "2023-01-01 00:00:00   0.0  0.571429  0.250000  0.50000  0.5000   0.0   0.0   \n",
       "2023-01-01 00:00:01   0.0  0.571429  0.252001  0.50001  0.5001   0.0   0.0   \n",
       "2023-01-01 00:00:02   0.0  0.571429  0.256914  0.50002  0.5002   0.0   0.0   \n",
       "2023-01-01 00:00:03   0.0  0.571429  0.268273  0.50003  0.5003   0.0   0.0   \n",
       "2023-01-01 00:00:04   0.0  0.571429  0.277953  0.50004  0.5004   0.0   0.0   \n",
       "\n",
       "                        bed1      bed2      bfo1      bfo2      bso1  \\\n",
       "timestamp                                                              \n",
       "2023-01-01 00:00:00  0.33599  0.315382  0.130919  0.116409  0.409726   \n",
       "2023-01-01 00:00:01  0.33599  0.315382  0.130919  0.116409  0.409730   \n",
       "2023-01-01 00:00:02  0.33599  0.315382  0.130919  0.116409  0.409741   \n",
       "2023-01-01 00:00:03  0.33599  0.315382  0.130919  0.116409  0.409758   \n",
       "2023-01-01 00:00:04  0.33599  0.315382  0.130919  0.116409  0.409782   \n",
       "\n",
       "                         bso2     bso3      ced1      cfo1      cso1  \n",
       "timestamp                                                             \n",
       "2023-01-01 00:00:00  0.246024  0.14197  0.112819  0.550194  0.406688  \n",
       "2023-01-01 00:00:01  0.246024  0.14197  0.112819  0.550194  0.406691  \n",
       "2023-01-01 00:00:02  0.246024  0.14197  0.112819  0.550195  0.406698  \n",
       "2023-01-01 00:00:03  0.246024  0.14197  0.112819  0.550195  0.406710  \n",
       "2023-01-01 00:00:04  0.246024  0.14197  0.112819  0.550197  0.406726  "
      ]
     },
     "execution_count": 9,
     "metadata": {},
     "output_type": "execute_result"
    }
   ],
   "source": [
    "cats_df=cats_df.set_index('timestamp')\n",
    "cats_df = cats_df.drop(['y','category','entity_id'],axis=1)\n",
    "cats_df.head()\n"
   ]
  },
  {
   "cell_type": "code",
   "execution_count": 10,
   "id": "f6b15ba7-0bab-44e8-95aa-c6b534da9748",
   "metadata": {},
   "outputs": [],
   "source": [
    "train_df = cats_df[0:1000000]\n",
    "test_df = cats_df[1000000:]"
   ]
  },
  {
   "cell_type": "code",
   "execution_count": 11,
   "id": "7bda4165-aa93-46ec-909c-19fb14248df3",
   "metadata": {},
   "outputs": [
    {
     "data": {
      "text/html": [
       "<div>\n",
       "<style scoped>\n",
       "    .dataframe tbody tr th:only-of-type {\n",
       "        vertical-align: middle;\n",
       "    }\n",
       "\n",
       "    .dataframe tbody tr th {\n",
       "        vertical-align: top;\n",
       "    }\n",
       "\n",
       "    .dataframe thead th {\n",
       "        text-align: right;\n",
       "    }\n",
       "</style>\n",
       "<table border=\"1\" class=\"dataframe\">\n",
       "  <thead>\n",
       "    <tr style=\"text-align: right;\">\n",
       "      <th></th>\n",
       "      <th>aimp</th>\n",
       "      <th>amud</th>\n",
       "      <th>arnd</th>\n",
       "      <th>asin1</th>\n",
       "      <th>asin2</th>\n",
       "      <th>adbr</th>\n",
       "      <th>adfl</th>\n",
       "      <th>bed1</th>\n",
       "      <th>bed2</th>\n",
       "      <th>bfo1</th>\n",
       "      <th>bfo2</th>\n",
       "      <th>bso1</th>\n",
       "      <th>bso2</th>\n",
       "      <th>bso3</th>\n",
       "      <th>ced1</th>\n",
       "      <th>cfo1</th>\n",
       "      <th>cso1</th>\n",
       "    </tr>\n",
       "    <tr>\n",
       "      <th>timestamp</th>\n",
       "      <th></th>\n",
       "      <th></th>\n",
       "      <th></th>\n",
       "      <th></th>\n",
       "      <th></th>\n",
       "      <th></th>\n",
       "      <th></th>\n",
       "      <th></th>\n",
       "      <th></th>\n",
       "      <th></th>\n",
       "      <th></th>\n",
       "      <th></th>\n",
       "      <th></th>\n",
       "      <th></th>\n",
       "      <th></th>\n",
       "      <th></th>\n",
       "      <th></th>\n",
       "    </tr>\n",
       "  </thead>\n",
       "  <tbody>\n",
       "    <tr>\n",
       "      <th>2023-01-01 00:00:00</th>\n",
       "      <td>0.0</td>\n",
       "      <td>0.571429</td>\n",
       "      <td>0.250000</td>\n",
       "      <td>0.50000</td>\n",
       "      <td>0.5000</td>\n",
       "      <td>0.0</td>\n",
       "      <td>0.0</td>\n",
       "      <td>0.33599</td>\n",
       "      <td>0.315382</td>\n",
       "      <td>0.130919</td>\n",
       "      <td>0.116409</td>\n",
       "      <td>0.409726</td>\n",
       "      <td>0.246024</td>\n",
       "      <td>0.14197</td>\n",
       "      <td>0.112819</td>\n",
       "      <td>0.550194</td>\n",
       "      <td>0.406688</td>\n",
       "    </tr>\n",
       "    <tr>\n",
       "      <th>2023-01-01 00:00:01</th>\n",
       "      <td>0.0</td>\n",
       "      <td>0.571429</td>\n",
       "      <td>0.252001</td>\n",
       "      <td>0.50001</td>\n",
       "      <td>0.5001</td>\n",
       "      <td>0.0</td>\n",
       "      <td>0.0</td>\n",
       "      <td>0.33599</td>\n",
       "      <td>0.315382</td>\n",
       "      <td>0.130919</td>\n",
       "      <td>0.116409</td>\n",
       "      <td>0.409730</td>\n",
       "      <td>0.246024</td>\n",
       "      <td>0.14197</td>\n",
       "      <td>0.112819</td>\n",
       "      <td>0.550194</td>\n",
       "      <td>0.406691</td>\n",
       "    </tr>\n",
       "    <tr>\n",
       "      <th>2023-01-01 00:00:02</th>\n",
       "      <td>0.0</td>\n",
       "      <td>0.571429</td>\n",
       "      <td>0.256914</td>\n",
       "      <td>0.50002</td>\n",
       "      <td>0.5002</td>\n",
       "      <td>0.0</td>\n",
       "      <td>0.0</td>\n",
       "      <td>0.33599</td>\n",
       "      <td>0.315382</td>\n",
       "      <td>0.130919</td>\n",
       "      <td>0.116409</td>\n",
       "      <td>0.409741</td>\n",
       "      <td>0.246024</td>\n",
       "      <td>0.14197</td>\n",
       "      <td>0.112819</td>\n",
       "      <td>0.550195</td>\n",
       "      <td>0.406698</td>\n",
       "    </tr>\n",
       "    <tr>\n",
       "      <th>2023-01-01 00:00:03</th>\n",
       "      <td>0.0</td>\n",
       "      <td>0.571429</td>\n",
       "      <td>0.268273</td>\n",
       "      <td>0.50003</td>\n",
       "      <td>0.5003</td>\n",
       "      <td>0.0</td>\n",
       "      <td>0.0</td>\n",
       "      <td>0.33599</td>\n",
       "      <td>0.315382</td>\n",
       "      <td>0.130919</td>\n",
       "      <td>0.116409</td>\n",
       "      <td>0.409758</td>\n",
       "      <td>0.246024</td>\n",
       "      <td>0.14197</td>\n",
       "      <td>0.112819</td>\n",
       "      <td>0.550195</td>\n",
       "      <td>0.406710</td>\n",
       "    </tr>\n",
       "    <tr>\n",
       "      <th>2023-01-01 00:00:04</th>\n",
       "      <td>0.0</td>\n",
       "      <td>0.571429</td>\n",
       "      <td>0.277953</td>\n",
       "      <td>0.50004</td>\n",
       "      <td>0.5004</td>\n",
       "      <td>0.0</td>\n",
       "      <td>0.0</td>\n",
       "      <td>0.33599</td>\n",
       "      <td>0.315382</td>\n",
       "      <td>0.130919</td>\n",
       "      <td>0.116409</td>\n",
       "      <td>0.409782</td>\n",
       "      <td>0.246024</td>\n",
       "      <td>0.14197</td>\n",
       "      <td>0.112819</td>\n",
       "      <td>0.550197</td>\n",
       "      <td>0.406726</td>\n",
       "    </tr>\n",
       "  </tbody>\n",
       "</table>\n",
       "</div>"
      ],
      "text/plain": [
       "                     aimp      amud      arnd    asin1   asin2  adbr  adfl  \\\n",
       "timestamp                                                                    \n",
       "2023-01-01 00:00:00   0.0  0.571429  0.250000  0.50000  0.5000   0.0   0.0   \n",
       "2023-01-01 00:00:01   0.0  0.571429  0.252001  0.50001  0.5001   0.0   0.0   \n",
       "2023-01-01 00:00:02   0.0  0.571429  0.256914  0.50002  0.5002   0.0   0.0   \n",
       "2023-01-01 00:00:03   0.0  0.571429  0.268273  0.50003  0.5003   0.0   0.0   \n",
       "2023-01-01 00:00:04   0.0  0.571429  0.277953  0.50004  0.5004   0.0   0.0   \n",
       "\n",
       "                        bed1      bed2      bfo1      bfo2      bso1  \\\n",
       "timestamp                                                              \n",
       "2023-01-01 00:00:00  0.33599  0.315382  0.130919  0.116409  0.409726   \n",
       "2023-01-01 00:00:01  0.33599  0.315382  0.130919  0.116409  0.409730   \n",
       "2023-01-01 00:00:02  0.33599  0.315382  0.130919  0.116409  0.409741   \n",
       "2023-01-01 00:00:03  0.33599  0.315382  0.130919  0.116409  0.409758   \n",
       "2023-01-01 00:00:04  0.33599  0.315382  0.130919  0.116409  0.409782   \n",
       "\n",
       "                         bso2     bso3      ced1      cfo1      cso1  \n",
       "timestamp                                                             \n",
       "2023-01-01 00:00:00  0.246024  0.14197  0.112819  0.550194  0.406688  \n",
       "2023-01-01 00:00:01  0.246024  0.14197  0.112819  0.550194  0.406691  \n",
       "2023-01-01 00:00:02  0.246024  0.14197  0.112819  0.550195  0.406698  \n",
       "2023-01-01 00:00:03  0.246024  0.14197  0.112819  0.550195  0.406710  \n",
       "2023-01-01 00:00:04  0.246024  0.14197  0.112819  0.550197  0.406726  "
      ]
     },
     "execution_count": 11,
     "metadata": {},
     "output_type": "execute_result"
    }
   ],
   "source": [
    "train_df.head()"
   ]
  },
  {
   "cell_type": "code",
   "execution_count": 12,
   "id": "af75df75-c4c5-47d3-8f48-748b82fc6160",
   "metadata": {},
   "outputs": [],
   "source": [
    "device = torch.device(\"cuda\" if torch.cuda.is_available() else \"cpu\")\n",
    "#device = torch.device(\"cpu\")\n"
   ]
  },
  {
   "cell_type": "code",
   "execution_count": 13,
   "id": "22ef7544-f092-4051-9ee2-f0894d2a42c5",
   "metadata": {},
   "outputs": [
    {
     "data": {
      "text/plain": [
       "device(type='cuda')"
      ]
     },
     "execution_count": 13,
     "metadata": {},
     "output_type": "execute_result"
    }
   ],
   "source": [
    "device"
   ]
  },
  {
   "cell_type": "code",
   "execution_count": 14,
   "id": "ad842ebd-c542-44c1-8dcd-403a591f4877",
   "metadata": {},
   "outputs": [
    {
     "data": {
      "text/plain": [
       "Index(['aimp', 'amud', 'arnd', 'asin1', 'asin2', 'adbr', 'adfl', 'bed1',\n",
       "       'bed2', 'bfo1', 'bfo2', 'bso1', 'bso2', 'bso3', 'ced1', 'cfo1', 'cso1'],\n",
       "      dtype='object')"
      ]
     },
     "execution_count": 14,
     "metadata": {},
     "output_type": "execute_result"
    }
   ],
   "source": [
    "train_df.columns"
   ]
  },
  {
   "cell_type": "code",
   "execution_count": 15,
   "id": "3d4f3cf7-daad-4a4f-849c-7a3bf5dc83b4",
   "metadata": {},
   "outputs": [],
   "source": [
    "tkgnc_data = TKGNGCDataProcessor(train_df,device,num_timestamps=20, lags=1)"
   ]
  },
  {
   "cell_type": "code",
   "execution_count": 16,
   "id": "efbb4177-4e9d-4049-8b6d-c01fc6d151b3",
   "metadata": {},
   "outputs": [],
   "source": [
    "pretrained_tkg = PretrainedTKGEmbeddingWithTimestamps(\n",
    "    num_entities=int(tkgnc_data.entity_indices.max().item()+1),\n",
    "    num_relations=int(tkgnc_data.relation_indices.max().item()+1),\n",
    "    embedding_dim=17,\n",
    "    num_timestamps=tkgnc_data.num_timestamps,\n",
    ").to(device)"
   ]
  },
  {
   "cell_type": "code",
   "execution_count": 17,
   "id": "1f91aab9-1d99-43c3-9784-471a4e0c33ca",
   "metadata": {},
   "outputs": [],
   "source": [
    "quads = (\n",
    "    tkgnc_data.entity_indices[:-1],  # Head entities\n",
    "    tkgnc_data.relation_indices,  # Relations\n",
    "    tkgnc_data.entity_indices[1:],  # Tail entities (shifted example)\n",
    "    tkgnc_data.timestamp_indices[:-1],  # Timestamps\n",
    ")\n"
   ]
  },
  {
   "cell_type": "code",
   "execution_count": 18,
   "id": "d5e27acf-c6c2-414e-ba04-414f3dbc7718",
   "metadata": {},
   "outputs": [
    {
     "data": {
      "text/plain": [
       "<All keys matched successfully>"
      ]
     },
     "execution_count": 18,
     "metadata": {},
     "output_type": "execute_result"
    }
   ],
   "source": [
    "#pretrained_tkg.pretrain(quads, learning_rate=0.01, epochs=1000)\n",
    "#torch.save(pretrained_tkg.state_dict(), 'pretrained_tkg')\n",
    "pretrained_tkg.load_state_dict(torch.load('pretrained_tkg'))"
   ]
  },
  {
   "cell_type": "code",
   "execution_count": 19,
   "id": "94e7d528-4b34-4488-86ae-dfa80511c3be",
   "metadata": {},
   "outputs": [
    {
     "name": "stdout",
     "output_type": "stream",
     "text": [
      "Using device: cuda\n"
     ]
    },
    {
     "name": "stderr",
     "output_type": "stream",
     "text": [
      "C:\\Users\\jlowh\\anaconda3\\envs\\torch\\Lib\\site-packages\\tqdm\\auto.py:21: TqdmWarning: IProgress not found. Please update jupyter and ipywidgets. See https://ipywidgets.readthedocs.io/en/stable/user_install.html\n",
      "  from .autonotebook import tqdm as notebook_tqdm\n"
     ]
    }
   ],
   "source": [
    "from CARAT.data_processing import *\n",
    "from CARAT.model import *\n",
    "from CARAT.causal_inference import causal_inference"
   ]
  },
  {
   "cell_type": "code",
   "execution_count": 20,
   "id": "ab4ff270-6892-43e6-8571-b623acdd105c",
   "metadata": {},
   "outputs": [],
   "source": [
    "try:\n",
    "    train_df = train_df.drop('time',axis=1)\n",
    "except:\n",
    "    None\n",
    "try:\n",
    "    test_df = test_df.drop('time',axis=1)\n",
    "except:\n",
    "    None"
   ]
  },
  {
   "cell_type": "code",
   "execution_count": 21,
   "id": "6a25ce54-b18f-421a-9cf8-fd1dce20eb20",
   "metadata": {},
   "outputs": [],
   "source": [
    "cols = list(train_df.columns)\n",
    "non_causal_columns = list(set(cols).difference(set(potential_causes)))\n",
    "causal_indices = [train_df.columns.get_loc(col) for col in potential_causes]\n",
    "non_causal_indices = [train_df.columns.get_loc(col) for col in non_causal_columns]\n",
    "\n",
    "num_nodes = len(train_df.columns)\n",
    "\n",
    "new_metadata = []\n",
    "A0 = get_adjacency(cols,causal_indices,non_causal_indices,num_nodes)    \n",
    "BATCH_SIZE = 64\n",
    "\n",
    "model = CausalGraphVAE(input_dim=num_nodes, hidden_dim=128,\n",
    "                   latent_dim=16, \n",
    "                   num_nodes=num_nodes, \n",
    "                   embed_dim=17,\n",
    "                   prior_adj_matrix=A0.to(torch.float))\n",
    "optimizer = torch.optim.Adam(model.parameters(), lr=0.001)"
   ]
  },
  {
   "cell_type": "code",
   "execution_count": 22,
   "id": "85f85455-f1f0-4274-8987-871b4d279b58",
   "metadata": {},
   "outputs": [
    {
     "name": "stdout",
     "output_type": "stream",
     "text": [
      "Model: 0\n",
      "Epoch 0, Loss: 0.0011\n",
      "Epoch 0: Average Loss = 226.6278, Best Loss = 226.6278\n",
      "Epoch 100: Average Loss = 38.9298, Best Loss = 38.7842\n",
      "Epoch 200: Average Loss = 34.1131, Best Loss = 34.1131\n",
      "Epoch 300: Average Loss = 32.4063, Best Loss = 32.3149\n",
      "Early stopping triggered after 383 epochs. Restoring best model.\n"
     ]
    },
    {
     "name": "stderr",
     "output_type": "stream",
     "text": [
      "Fitting causal mechanism of node cso1: 100%|██████████| 17/17 [00:01<00:00, 13.27it/s]\n",
      "Evaluating set functions...: 100%|██████████| 321/321 [00:34<00:00,  9.27it/s]\n"
     ]
    },
    {
     "name": "stdout",
     "output_type": "stream",
     "text": [
      "ROOT CAUSE FOUND!\n",
      "bso3-->bfo1 | bso3 | bfo2\n",
      "Model Accuracy: 100.0%\n",
      "--------------------------------------------------------------------------------------------------------------------------------\n",
      "Model: 1\n",
      "Epoch 0, Loss: 0.0015\n",
      "Epoch 0: Average Loss = 186.2172, Best Loss = 186.2172\n",
      "Epoch 100: Average Loss = 33.4662, Best Loss = 33.4611\n",
      "Early stopping triggered after 197 epochs. Restoring best model.\n"
     ]
    },
    {
     "name": "stderr",
     "output_type": "stream",
     "text": [
      "Fitting causal mechanism of node cso1: 100%|██████████| 17/17 [00:02<00:00,  6.59it/s]\n",
      "Evaluating set functions...: 100%|██████████| 120/120 [00:02<00:00, 59.35it/s]\n"
     ]
    },
    {
     "name": "stdout",
     "output_type": "stream",
     "text": [
      "bso3-->bfo1 | bso1 | bed1\n",
      "Model Accuracy: 50.0%\n",
      "--------------------------------------------------------------------------------------------------------------------------------\n",
      "Model: 2\n",
      "Epoch 0, Loss: 0.0005\n",
      "Epoch 0: Average Loss = 281.0646, Best Loss = 281.0646\n",
      "Epoch 100: Average Loss = 33.4065, Best Loss = 33.4065\n",
      "Epoch 200: Average Loss = 30.7679, Best Loss = 30.7679\n",
      "Early stopping triggered after 284 epochs. Restoring best model.\n"
     ]
    },
    {
     "name": "stderr",
     "output_type": "stream",
     "text": [
      "Fitting causal mechanism of node cso1: 100%|██████████| 17/17 [00:02<00:00,  6.88it/s]\n",
      "Evaluating set functions...: 100%|██████████| 375/375 [00:51<00:00,  7.21it/s]\n"
     ]
    },
    {
     "name": "stdout",
     "output_type": "stream",
     "text": [
      "bfo2-->bso1 | bso3 | bfo1\n",
      "Model Accuracy: 33.33%\n",
      "--------------------------------------------------------------------------------------------------------------------------------\n",
      "Model: 3\n",
      "Epoch 0, Loss: 0.0003\n",
      "Epoch 0: Average Loss = 210.3928, Best Loss = 210.3928\n",
      "Epoch 100: Average Loss = 32.0107, Best Loss = 32.0107\n",
      "Epoch 200: Average Loss = 24.9285, Best Loss = 24.5536\n",
      "Epoch 300: Average Loss = 21.4945, Best Loss = 21.4945\n",
      "Early stopping triggered after 364 epochs. Restoring best model.\n"
     ]
    },
    {
     "name": "stderr",
     "output_type": "stream",
     "text": [
      "Fitting causal mechanism of node cso1: 100%|██████████| 17/17 [00:00<00:00, 21.38it/s]\n",
      "Evaluating set functions...: 100%|██████████| 86/86 [00:00<00:00, 274.94it/s]\n"
     ]
    },
    {
     "name": "stdout",
     "output_type": "stream",
     "text": [
      "ROOT CAUSE FOUND!\n",
      "bed2-->bfo2 | bfo1 | bed2\n",
      "Model Accuracy: 50.0%\n",
      "--------------------------------------------------------------------------------------------------------------------------------\n",
      "Model: 4\n",
      "Epoch 0, Loss: 0.0001\n",
      "Epoch 0: Average Loss = 237.6028, Best Loss = 237.6028\n",
      "Epoch 100: Average Loss = 49.2984, Best Loss = 49.2984\n",
      "Epoch 200: Average Loss = 40.4871, Best Loss = 40.4871\n",
      "Early stopping triggered after 268 epochs. Restoring best model.\n"
     ]
    },
    {
     "name": "stderr",
     "output_type": "stream",
     "text": [
      "Fitting causal mechanism of node cso1: 100%|██████████| 17/17 [00:00<00:00, 20.74it/s]\n",
      "Evaluating set functions...: 100%|██████████| 154/154 [00:04<00:00, 33.52it/s]\n"
     ]
    },
    {
     "name": "stdout",
     "output_type": "stream",
     "text": [
      "ROOT CAUSE FOUND!\n",
      "bfo1-->bfo1 | bfo2 | bso2\n",
      "Model Accuracy: 60.0%\n",
      "--------------------------------------------------------------------------------------------------------------------------------\n",
      "Model: 5\n",
      "Epoch 0, Loss: 0.0006\n",
      "Epoch 0: Average Loss = 271.8205, Best Loss = 271.8205\n",
      "Epoch 100: Average Loss = 37.8072, Best Loss = 37.8072\n",
      "Epoch 200: Average Loss = 33.7479, Best Loss = 33.5031\n",
      "Epoch 300: Average Loss = 32.5237, Best Loss = 32.2500\n",
      "Early stopping triggered after 371 epochs. Restoring best model.\n"
     ]
    },
    {
     "name": "stderr",
     "output_type": "stream",
     "text": [
      "Fitting causal mechanism of node cso1: 100%|██████████| 17/17 [00:02<00:00,  7.84it/s]\n",
      "Evaluating set functions...: 100%|██████████| 293/293 [00:33<00:00,  8.79it/s]\n"
     ]
    },
    {
     "name": "stdout",
     "output_type": "stream",
     "text": [
      "ROOT CAUSE FOUND!\n",
      "bso1-->bso1 | bfo2 | bfo1\n",
      "Model Accuracy: 66.67%\n",
      "--------------------------------------------------------------------------------------------------------------------------------\n",
      "Model: 6\n",
      "Epoch 0, Loss: 0.0004\n",
      "Epoch 0: Average Loss = 209.7725, Best Loss = 209.7725\n",
      "Epoch 100: Average Loss = 37.1840, Best Loss = 37.1840\n",
      "Epoch 200: Average Loss = 29.7317, Best Loss = 29.7064\n",
      "Epoch 300: Average Loss = 26.7713, Best Loss = 26.6246\n",
      "Epoch 400: Average Loss = 25.2233, Best Loss = 25.1742\n",
      "Early stopping triggered after 487 epochs. Restoring best model.\n"
     ]
    },
    {
     "name": "stderr",
     "output_type": "stream",
     "text": [
      "Fitting causal mechanism of node cso1: 100%|██████████| 17/17 [00:00<00:00, 22.51it/s]\n",
      "Evaluating set functions...: 100%|██████████| 267/267 [00:15<00:00, 17.54it/s]\n"
     ]
    },
    {
     "name": "stdout",
     "output_type": "stream",
     "text": [
      "ROOT CAUSE FOUND!\n",
      "bfo2-->bfo1 | bfo2 | bso3\n",
      "Model Accuracy: 71.43%\n",
      "--------------------------------------------------------------------------------------------------------------------------------\n",
      "Model: 7\n",
      "Epoch 0, Loss: 0.0006\n",
      "Epoch 0: Average Loss = 137.0408, Best Loss = 137.0408\n",
      "Epoch 100: Average Loss = 24.8448, Best Loss = 24.8448\n",
      "Epoch 200: Average Loss = 19.1960, Best Loss = 19.1911\n",
      "Epoch 300: Average Loss = 17.0665, Best Loss = 16.8200\n",
      "Epoch 400: Average Loss = 15.7856, Best Loss = 15.7849\n",
      "Early stopping triggered after 485 epochs. Restoring best model.\n"
     ]
    },
    {
     "name": "stderr",
     "output_type": "stream",
     "text": [
      "Fitting causal mechanism of node cso1: 100%|██████████| 17/17 [00:01<00:00, 16.12it/s]\n",
      "Evaluating set functions...: 100%|██████████| 52/52 [00:00<00:00, 52003.77it/s]\n"
     ]
    },
    {
     "name": "stdout",
     "output_type": "stream",
     "text": [
      "bfo1-->bfo2 | bso1 | bso2\n",
      "Model Accuracy: 62.5%\n",
      "--------------------------------------------------------------------------------------------------------------------------------\n",
      "Model: 8\n",
      "Epoch 0, Loss: 0.0005\n",
      "Epoch 0: Average Loss = 199.5184, Best Loss = 199.5184\n",
      "Epoch 100: Average Loss = 36.1666, Best Loss = 36.1666\n",
      "Epoch 200: Average Loss = 31.9874, Best Loss = 31.7427\n",
      "Early stopping triggered after 294 epochs. Restoring best model.\n"
     ]
    },
    {
     "name": "stderr",
     "output_type": "stream",
     "text": [
      "Fitting causal mechanism of node cso1: 100%|██████████| 17/17 [00:01<00:00, 10.85it/s]\n",
      "Evaluating set functions...: 100%|██████████| 322/322 [00:28<00:00, 11.37it/s]\n"
     ]
    },
    {
     "name": "stdout",
     "output_type": "stream",
     "text": [
      "bso2-->bed1 | bfo1 | bso3\n",
      "Model Accuracy: 55.56%\n",
      "--------------------------------------------------------------------------------------------------------------------------------\n",
      "Model: 9\n",
      "Epoch 0, Loss: 0.0003\n",
      "Epoch 0: Average Loss = 206.6500, Best Loss = 206.6500\n",
      "Epoch 100: Average Loss = 37.1376, Best Loss = 37.1376\n",
      "Epoch 200: Average Loss = 32.3437, Best Loss = 32.1862\n",
      "Epoch 300: Average Loss = 30.6005, Best Loss = 30.3414\n",
      "Early stopping triggered after 330 epochs. Restoring best model.\n"
     ]
    },
    {
     "name": "stderr",
     "output_type": "stream",
     "text": [
      "Fitting causal mechanism of node cso1: 100%|██████████| 17/17 [00:01<00:00,  9.01it/s]\n",
      "Evaluating set functions...: 100%|██████████| 86/86 [00:00<00:00, 311.51it/s]\n"
     ]
    },
    {
     "name": "stdout",
     "output_type": "stream",
     "text": [
      "ROOT CAUSE FOUND!\n",
      "bed2-->bso1 | bso2 | bed2\n",
      "Model Accuracy: 60.0%\n",
      "--------------------------------------------------------------------------------------------------------------------------------\n",
      "Model: 10\n",
      "Epoch 0, Loss: 0.0003\n",
      "Epoch 0: Average Loss = 177.8277, Best Loss = 177.8277\n",
      "Epoch 100: Average Loss = 31.6710, Best Loss = 31.6490\n",
      "Epoch 200: Average Loss = 24.0987, Best Loss = 24.0987\n",
      "Epoch 300: Average Loss = 21.2459, Best Loss = 21.2459\n",
      "Epoch 400: Average Loss = 20.0009, Best Loss = 19.7464\n",
      "Early stopping triggered after 495 epochs. Restoring best model.\n"
     ]
    },
    {
     "name": "stderr",
     "output_type": "stream",
     "text": [
      "Fitting causal mechanism of node cso1: 100%|██████████| 17/17 [00:00<00:00, 22.82it/s]\n",
      "Evaluating set functions...: 100%|██████████| 321/321 [00:27<00:00, 11.75it/s]\n"
     ]
    },
    {
     "name": "stdout",
     "output_type": "stream",
     "text": [
      "bso1-->bfo2 | bfo1 | bed2\n",
      "Model Accuracy: 54.55%\n",
      "--------------------------------------------------------------------------------------------------------------------------------\n",
      "Model: 11\n",
      "Epoch 0, Loss: 0.0004\n",
      "Epoch 0: Average Loss = 166.0296, Best Loss = 166.0296\n",
      "Epoch 100: Average Loss = 35.3228, Best Loss = 35.3228\n",
      "Epoch 200: Average Loss = 31.5743, Best Loss = 31.4241\n",
      "Epoch 300: Average Loss = 30.2834, Best Loss = 30.0965\n",
      "Early stopping triggered after 309 epochs. Restoring best model.\n"
     ]
    },
    {
     "name": "stderr",
     "output_type": "stream",
     "text": [
      "Fitting causal mechanism of node cso1: 100%|██████████| 17/17 [00:01<00:00,  9.61it/s]\n",
      "Evaluating set functions...: 100%|██████████| 295/295 [00:31<00:00,  9.42it/s]\n"
     ]
    },
    {
     "name": "stdout",
     "output_type": "stream",
     "text": [
      "ROOT CAUSE FOUND!\n",
      "bfo2-->bfo2 | bso1 | bso3\n",
      "Model Accuracy: 58.33%\n",
      "--------------------------------------------------------------------------------------------------------------------------------\n",
      "Model: 12\n",
      "Epoch 0, Loss: 0.0003\n",
      "Epoch 0: Average Loss = 213.6536, Best Loss = 213.6536\n",
      "Epoch 100: Average Loss = 34.7374, Best Loss = 34.7374\n",
      "Epoch 200: Average Loss = 33.0507, Best Loss = 33.0114\n",
      "Early stopping triggered after 284 epochs. Restoring best model.\n"
     ]
    },
    {
     "name": "stderr",
     "output_type": "stream",
     "text": [
      "Fitting causal mechanism of node cso1: 100%|██████████| 17/17 [00:02<00:00,  7.03it/s]\n",
      "Evaluating set functions...: 100%|██████████| 84/84 [00:00<00:00, 367.49it/s]\n"
     ]
    },
    {
     "name": "stdout",
     "output_type": "stream",
     "text": [
      "bso2-->bso3 | bso1 | bed1\n",
      "Model Accuracy: 53.85%\n",
      "--------------------------------------------------------------------------------------------------------------------------------\n",
      "Model: 13\n",
      "Epoch 0, Loss: 0.0002\n",
      "Epoch 0: Average Loss = 267.4203, Best Loss = 267.4203\n",
      "Epoch 100: Average Loss = 42.8400, Best Loss = 42.8400\n",
      "Epoch 200: Average Loss = 35.1355, Best Loss = 35.1075\n",
      "Early stopping triggered after 295 epochs. Restoring best model.\n"
     ]
    },
    {
     "name": "stderr",
     "output_type": "stream",
     "text": [
      "Fitting causal mechanism of node cso1: 100%|██████████| 17/17 [00:00<00:00, 19.04it/s]\n",
      "Evaluating set functions...: 100%|██████████| 81/81 [00:00<00:00, 314.04it/s]\n"
     ]
    },
    {
     "name": "stdout",
     "output_type": "stream",
     "text": [
      "ROOT CAUSE FOUND!\n",
      "bfo2-->bfo2 | bso1 | bfo1\n",
      "Model Accuracy: 57.14%\n",
      "--------------------------------------------------------------------------------------------------------------------------------\n",
      "Model: 14\n",
      "Epoch 0, Loss: 0.0000\n",
      "Epoch 0: Average Loss = 243.6366, Best Loss = 243.6366\n",
      "Epoch 100: Average Loss = 40.3395, Best Loss = 40.2266\n",
      "Epoch 200: Average Loss = 31.0486, Best Loss = 31.0146\n",
      "Epoch 300: Average Loss = 27.5109, Best Loss = 27.4154\n",
      "Early stopping triggered after 377 epochs. Restoring best model.\n"
     ]
    },
    {
     "name": "stderr",
     "output_type": "stream",
     "text": [
      "Fitting causal mechanism of node cso1: 100%|██████████| 17/17 [00:01<00:00, 15.90it/s]\n",
      "Evaluating set functions...: 100%|██████████| 16/16 [00:00<?, ?it/s]\n"
     ]
    },
    {
     "name": "stdout",
     "output_type": "stream",
     "text": [
      "bso1-->bfo1 | bed1 | bfo2\n",
      "Model Accuracy: 53.33%\n",
      "--------------------------------------------------------------------------------------------------------------------------------\n",
      "Model: 15\n",
      "Epoch 0, Loss: 0.0003\n",
      "Epoch 0: Average Loss = 165.6827, Best Loss = 165.6827\n",
      "Epoch 100: Average Loss = 26.3746, Best Loss = 26.3746\n",
      "Epoch 200: Average Loss = 21.6166, Best Loss = 21.5906\n",
      "Epoch 300: Average Loss = 20.0147, Best Loss = 19.9417\n",
      "Early stopping triggered after 338 epochs. Restoring best model.\n"
     ]
    },
    {
     "name": "stderr",
     "output_type": "stream",
     "text": [
      "Fitting causal mechanism of node cso1: 100%|██████████| 17/17 [00:01<00:00, 14.14it/s]\n",
      "Evaluating set functions...: 100%|██████████| 123/123 [00:01<00:00, 64.57it/s]\n"
     ]
    },
    {
     "name": "stdout",
     "output_type": "stream",
     "text": [
      "bed1-->bso2 | bfo2 | bso3\n",
      "Model Accuracy: 50.0%\n",
      "--------------------------------------------------------------------------------------------------------------------------------\n",
      "Model: 16\n",
      "Epoch 0, Loss: 0.0003\n",
      "Epoch 0: Average Loss = 192.3375, Best Loss = 192.3375\n",
      "Epoch 100: Average Loss = 38.6687, Best Loss = 38.6687\n",
      "Epoch 200: Average Loss = 34.5476, Best Loss = 34.4344\n",
      "Early stopping triggered after 222 epochs. Restoring best model.\n"
     ]
    },
    {
     "name": "stderr",
     "output_type": "stream",
     "text": [
      "Fitting causal mechanism of node cso1: 100%|██████████| 17/17 [00:02<00:00,  8.21it/s]\n",
      "Evaluating set functions...: 100%|██████████| 380/380 [00:56<00:00,  6.72it/s]\n"
     ]
    },
    {
     "name": "stdout",
     "output_type": "stream",
     "text": [
      "ROOT CAUSE FOUND!\n",
      "bso3-->bso3 | bso1 | bfo2\n",
      "Model Accuracy: 52.94%\n",
      "--------------------------------------------------------------------------------------------------------------------------------\n",
      "Model: 17\n",
      "Epoch 0, Loss: 0.0006\n",
      "Epoch 0: Average Loss = 143.3926, Best Loss = 143.3926\n",
      "Epoch 100: Average Loss = 39.6321, Best Loss = 39.6321\n",
      "Epoch 200: Average Loss = 36.9133, Best Loss = 36.8976\n",
      "Early stopping triggered after 205 epochs. Restoring best model.\n"
     ]
    },
    {
     "name": "stderr",
     "output_type": "stream",
     "text": [
      "Fitting causal mechanism of node cso1: 100%|██████████| 17/17 [00:02<00:00,  7.27it/s]\n",
      "Evaluating set functions...: 100%|██████████| 118/118 [00:01<00:00, 75.72it/s]\n"
     ]
    },
    {
     "name": "stdout",
     "output_type": "stream",
     "text": [
      "ROOT CAUSE FOUND!\n",
      "bfo1-->bfo1 | bfo2 | bed1\n",
      "Model Accuracy: 55.56%\n",
      "--------------------------------------------------------------------------------------------------------------------------------\n",
      "Model: 18\n",
      "Epoch 0, Loss: 0.0001\n",
      "Epoch 0: Average Loss = 232.1868, Best Loss = 232.1868\n",
      "Epoch 100: Average Loss = 28.5511, Best Loss = 28.5426\n",
      "Epoch 200: Average Loss = 22.8869, Best Loss = 22.5679\n",
      "Epoch 300: Average Loss = 20.8963, Best Loss = 20.7180\n",
      "Early stopping triggered after 336 epochs. Restoring best model.\n"
     ]
    },
    {
     "name": "stderr",
     "output_type": "stream",
     "text": [
      "Fitting causal mechanism of node cso1: 100%|██████████| 17/17 [00:01<00:00, 11.84it/s]\n",
      "Evaluating set functions...: 100%|██████████| 90/90 [00:00<00:00, 396.42it/s]\n"
     ]
    },
    {
     "name": "stdout",
     "output_type": "stream",
     "text": [
      "bed1-->bfo1 | bfo2 | bso3\n",
      "Model Accuracy: 52.63%\n",
      "--------------------------------------------------------------------------------------------------------------------------------\n",
      "Model: 19\n",
      "Epoch 0, Loss: 0.0002\n",
      "Epoch 0: Average Loss = 252.6784, Best Loss = 252.6784\n",
      "Epoch 100: Average Loss = 39.2128, Best Loss = 39.2128\n",
      "Epoch 200: Average Loss = 29.4386, Best Loss = 29.4386\n",
      "Epoch 300: Average Loss = 25.9818, Best Loss = 25.5926\n",
      "Epoch 400: Average Loss = 23.9300, Best Loss = 23.9178\n",
      "Early stopping triggered after 454 epochs. Restoring best model.\n"
     ]
    },
    {
     "name": "stderr",
     "output_type": "stream",
     "text": [
      "Fitting causal mechanism of node cso1: 100%|██████████| 17/17 [00:01<00:00, 13.46it/s]\n",
      "Evaluating set functions...: 100%|██████████| 376/376 [00:57<00:00,  6.52it/s]\n"
     ]
    },
    {
     "name": "stdout",
     "output_type": "stream",
     "text": [
      "ROOT CAUSE FOUND!\n",
      "bfo2-->bfo1 | bso1 | bfo2\n",
      "Model Accuracy: 55.0%\n",
      "--------------------------------------------------------------------------------------------------------------------------------\n",
      "Model: 20\n",
      "Epoch 0, Loss: 0.0000\n",
      "Epoch 0: Average Loss = 246.1729, Best Loss = 246.1729\n",
      "Epoch 100: Average Loss = 43.3056, Best Loss = 43.3056\n",
      "Epoch 200: Average Loss = 35.3102, Best Loss = 35.0542\n",
      "Epoch 300: Average Loss = 32.2010, Best Loss = 31.8931\n",
      "Early stopping triggered after 383 epochs. Restoring best model.\n"
     ]
    },
    {
     "name": "stderr",
     "output_type": "stream",
     "text": [
      "Fitting causal mechanism of node cso1: 100%|██████████| 17/17 [00:01<00:00, 16.79it/s]\n",
      "Evaluating set functions...: 100%|██████████| 321/321 [00:37<00:00,  8.61it/s]\n"
     ]
    },
    {
     "name": "stdout",
     "output_type": "stream",
     "text": [
      "ROOT CAUSE FOUND!\n",
      "bed2-->bso1 | bed2 | bfo2\n",
      "Model Accuracy: 57.14%\n",
      "--------------------------------------------------------------------------------------------------------------------------------\n",
      "Model: 21\n",
      "Epoch 0, Loss: 0.0002\n",
      "Epoch 0: Average Loss = 287.9075, Best Loss = 287.9075\n",
      "Epoch 100: Average Loss = 36.9775, Best Loss = 36.7927\n",
      "Epoch 200: Average Loss = 31.9700, Best Loss = 31.9214\n",
      "Epoch 300: Average Loss = 30.3294, Best Loss = 30.1520\n",
      "Early stopping triggered after 374 epochs. Restoring best model.\n"
     ]
    },
    {
     "name": "stderr",
     "output_type": "stream",
     "text": [
      "Fitting causal mechanism of node cso1: 100%|██████████| 17/17 [00:01<00:00, 12.40it/s]\n",
      "Evaluating set functions...: 100%|██████████| 235/235 [00:19<00:00, 11.93it/s]\n"
     ]
    },
    {
     "name": "stdout",
     "output_type": "stream",
     "text": [
      "bso3-->bso1 | bfo1 | bfo2\n",
      "Model Accuracy: 54.55%\n",
      "--------------------------------------------------------------------------------------------------------------------------------\n",
      "Model: 22\n",
      "Epoch 0, Loss: 0.0002\n",
      "Epoch 0: Average Loss = 201.9299, Best Loss = 201.9299\n",
      "Epoch 100: Average Loss = 38.5314, Best Loss = 38.5314\n",
      "Epoch 200: Average Loss = 32.6178, Best Loss = 32.5432\n",
      "Early stopping triggered after 232 epochs. Restoring best model.\n"
     ]
    },
    {
     "name": "stderr",
     "output_type": "stream",
     "text": [
      "Fitting causal mechanism of node cso1: 100%|██████████| 17/17 [00:01<00:00, 15.35it/s]\n",
      "Evaluating set functions...: 100%|██████████| 295/295 [00:24<00:00, 11.85it/s]\n"
     ]
    },
    {
     "name": "stdout",
     "output_type": "stream",
     "text": [
      "ROOT CAUSE FOUND!\n",
      "bfo2-->bfo2 | bed2 | bfo1\n",
      "Model Accuracy: 56.52%\n",
      "--------------------------------------------------------------------------------------------------------------------------------\n",
      "Model: 23\n",
      "Epoch 0, Loss: 0.0004\n",
      "Epoch 0: Average Loss = 161.0592, Best Loss = 161.0592\n",
      "Epoch 100: Average Loss = 32.5585, Best Loss = 32.5337\n",
      "Early stopping triggered after 167 epochs. Restoring best model.\n"
     ]
    },
    {
     "name": "stderr",
     "output_type": "stream",
     "text": [
      "Fitting causal mechanism of node cso1: 100%|██████████| 17/17 [00:02<00:00,  5.71it/s]\n",
      "Evaluating set functions...: 100%|██████████| 115/115 [00:02<00:00, 39.38it/s]\n"
     ]
    },
    {
     "name": "stdout",
     "output_type": "stream",
     "text": [
      "bed1-->bso1 | bso3 | bfo2\n",
      "Model Accuracy: 54.17%\n",
      "--------------------------------------------------------------------------------------------------------------------------------\n",
      "Model: 24\n",
      "Epoch 0, Loss: 0.0001\n",
      "Epoch 0: Average Loss = 245.5003, Best Loss = 245.5003\n",
      "Epoch 100: Average Loss = 38.4807, Best Loss = 38.4807\n",
      "Epoch 200: Average Loss = 28.7720, Best Loss = 28.5452\n",
      "Epoch 300: Average Loss = 24.7401, Best Loss = 24.5323\n",
      "Epoch 400: Average Loss = 22.5679, Best Loss = 22.5627\n",
      "Early stopping triggered after 468 epochs. Restoring best model.\n"
     ]
    },
    {
     "name": "stderr",
     "output_type": "stream",
     "text": [
      "Fitting causal mechanism of node cso1: 100%|██████████| 17/17 [00:00<00:00, 20.26it/s]\n",
      "Evaluating set functions...: 100%|██████████| 347/347 [00:30<00:00, 11.39it/s]\n"
     ]
    },
    {
     "name": "stdout",
     "output_type": "stream",
     "text": [
      "ROOT CAUSE FOUND!\n",
      "bed2-->bfo1 | bed2 | bso2\n",
      "Model Accuracy: 56.0%\n",
      "--------------------------------------------------------------------------------------------------------------------------------\n",
      "Model: 25\n",
      "Epoch 0, Loss: 0.0000\n",
      "Epoch 0: Average Loss = 233.3833, Best Loss = 233.3833\n",
      "Epoch 100: Average Loss = 50.6352, Best Loss = 50.5515\n",
      "Epoch 200: Average Loss = 40.8016, Best Loss = 40.6531\n",
      "Epoch 300: Average Loss = 36.9162, Best Loss = 36.7525\n",
      "Epoch 400: Average Loss = 35.2748, Best Loss = 34.7854\n",
      "Early stopping triggered after 436 epochs. Restoring best model.\n"
     ]
    },
    {
     "name": "stderr",
     "output_type": "stream",
     "text": [
      "Fitting causal mechanism of node cso1: 100%|██████████| 17/17 [00:00<00:00, 17.97it/s]\n",
      "Evaluating set functions...: 100%|██████████| 153/153 [00:04<00:00, 36.63it/s]\n"
     ]
    },
    {
     "name": "stdout",
     "output_type": "stream",
     "text": [
      "bed2-->bso1 | bfo1 | bso2\n",
      "Model Accuracy: 53.85%\n",
      "--------------------------------------------------------------------------------------------------------------------------------\n",
      "Model: 26\n",
      "Epoch 0, Loss: 0.0002\n",
      "Epoch 0: Average Loss = 267.5913, Best Loss = 267.5913\n",
      "Epoch 100: Average Loss = 22.5782, Best Loss = 22.5782\n",
      "Epoch 200: Average Loss = 19.7978, Best Loss = 19.7408\n",
      "Epoch 300: Average Loss = 18.8981, Best Loss = 18.8524\n",
      "Early stopping triggered after 328 epochs. Restoring best model.\n"
     ]
    },
    {
     "name": "stderr",
     "output_type": "stream",
     "text": [
      "Fitting causal mechanism of node cso1: 100%|██████████| 17/17 [00:01<00:00,  9.37it/s]\n",
      "Evaluating set functions...: 100%|██████████| 177/177 [00:10<00:00, 16.18it/s]\n"
     ]
    },
    {
     "name": "stdout",
     "output_type": "stream",
     "text": [
      "ROOT CAUSE FOUND!\n",
      "bed1-->bso1 | bso3 | bed1\n",
      "Model Accuracy: 55.56%\n",
      "--------------------------------------------------------------------------------------------------------------------------------\n",
      "Model: 27\n",
      "Epoch 0, Loss: 0.0001\n",
      "Epoch 0: Average Loss = 225.1013, Best Loss = 225.1013\n",
      "Epoch 100: Average Loss = 37.6640, Best Loss = 37.6640\n",
      "Epoch 200: Average Loss = 31.4420, Best Loss = 31.0103\n",
      "Early stopping triggered after 290 epochs. Restoring best model.\n"
     ]
    },
    {
     "name": "stderr",
     "output_type": "stream",
     "text": [
      "Fitting causal mechanism of node cso1: 100%|██████████| 17/17 [00:01<00:00, 16.78it/s]\n",
      "Evaluating set functions...: 100%|██████████| 349/349 [00:30<00:00, 11.46it/s]\n"
     ]
    },
    {
     "name": "stdout",
     "output_type": "stream",
     "text": [
      "ROOT CAUSE FOUND!\n",
      "bfo2-->bso3 | bso1 | bfo2\n",
      "Model Accuracy: 57.14%\n",
      "--------------------------------------------------------------------------------------------------------------------------------\n",
      "Model: 28\n",
      "Epoch 0, Loss: 0.0001\n",
      "Epoch 0: Average Loss = 222.1536, Best Loss = 222.1536\n",
      "Epoch 100: Average Loss = 40.8596, Best Loss = 40.8596\n",
      "Epoch 200: Average Loss = 35.3126, Best Loss = 35.2145\n",
      "Early stopping triggered after 281 epochs. Restoring best model.\n"
     ]
    },
    {
     "name": "stderr",
     "output_type": "stream",
     "text": [
      "Fitting causal mechanism of node cso1: 100%|██████████| 17/17 [00:01<00:00, 12.15it/s]\n",
      "Evaluating set functions...: 100%|██████████| 320/320 [00:30<00:00, 10.33it/s]\n"
     ]
    },
    {
     "name": "stdout",
     "output_type": "stream",
     "text": [
      "bed2-->bso1 | bfo2 | bed1\n",
      "Model Accuracy: 55.17%\n",
      "--------------------------------------------------------------------------------------------------------------------------------\n",
      "Model: 29\n",
      "Epoch 0, Loss: 0.0001\n",
      "Epoch 0: Average Loss = 222.7620, Best Loss = 222.7620\n",
      "Epoch 100: Average Loss = 32.8016, Best Loss = 32.8016\n",
      "Epoch 200: Average Loss = 24.0752, Best Loss = 24.0752\n",
      "Epoch 300: Average Loss = 20.7716, Best Loss = 20.7716\n",
      "Epoch 400: Average Loss = 19.2331, Best Loss = 19.0523\n",
      "Early stopping triggered after 459 epochs. Restoring best model.\n"
     ]
    },
    {
     "name": "stderr",
     "output_type": "stream",
     "text": [
      "Fitting causal mechanism of node cso1: 100%|██████████| 17/17 [00:00<00:00, 31.49it/s]\n",
      "Evaluating set functions...: 100%|██████████| 180/180 [00:01<00:00, 129.24it/s]\n"
     ]
    },
    {
     "name": "stdout",
     "output_type": "stream",
     "text": [
      "ROOT CAUSE FOUND!\n",
      "bed1-->bfo1 | bed1 | bed2\n",
      "Model Accuracy: 56.67%\n",
      "--------------------------------------------------------------------------------------------------------------------------------\n",
      "Model: 30\n",
      "Epoch 0, Loss: 0.0002\n",
      "Epoch 0: Average Loss = 233.1105, Best Loss = 233.1105\n",
      "Epoch 100: Average Loss = 36.7795, Best Loss = 36.7795\n",
      "Epoch 200: Average Loss = 33.1051, Best Loss = 33.1051\n",
      "Epoch 300: Average Loss = 32.0553, Best Loss = 31.8455\n",
      "Early stopping triggered after 335 epochs. Restoring best model.\n"
     ]
    },
    {
     "name": "stderr",
     "output_type": "stream",
     "text": [
      "Fitting causal mechanism of node cso1: 100%|██████████| 17/17 [00:02<00:00,  7.13it/s]\n",
      "Evaluating set functions...: 100%|██████████| 84/84 [00:00<00:00, 264.09it/s]\n"
     ]
    },
    {
     "name": "stdout",
     "output_type": "stream",
     "text": [
      "bso2-->bfo2 | bso1 | bfo1\n",
      "Model Accuracy: 54.84%\n",
      "--------------------------------------------------------------------------------------------------------------------------------\n",
      "Model: 31\n",
      "Epoch 0, Loss: 0.0001\n",
      "Epoch 0: Average Loss = 221.6350, Best Loss = 221.6350\n",
      "Epoch 100: Average Loss = 34.5272, Best Loss = 34.5272\n",
      "Epoch 200: Average Loss = 30.5712, Best Loss = 30.4750\n",
      "Early stopping triggered after 291 epochs. Restoring best model.\n"
     ]
    },
    {
     "name": "stderr",
     "output_type": "stream",
     "text": [
      "Fitting causal mechanism of node cso1: 100%|██████████| 17/17 [00:01<00:00,  8.54it/s]\n",
      "Evaluating set functions...: 100%|██████████| 377/377 [00:52<00:00,  7.22it/s]\n"
     ]
    },
    {
     "name": "stdout",
     "output_type": "stream",
     "text": [
      "bso3-->bso1 | bed1 | bfo2\n",
      "Model Accuracy: 53.12%\n",
      "--------------------------------------------------------------------------------------------------------------------------------\n",
      "Model: 32\n",
      "Epoch 0, Loss: 0.0001\n",
      "Epoch 0: Average Loss = 247.3206, Best Loss = 247.3206\n",
      "Epoch 100: Average Loss = 30.6782, Best Loss = 30.6782\n",
      "Epoch 200: Average Loss = 24.8657, Best Loss = 24.8657\n",
      "Epoch 300: Average Loss = 23.1785, Best Loss = 23.1785\n",
      "Early stopping triggered after 334 epochs. Restoring best model.\n"
     ]
    },
    {
     "name": "stderr",
     "output_type": "stream",
     "text": [
      "Fitting causal mechanism of node cso1: 100%|██████████| 17/17 [00:01<00:00,  9.21it/s]\n",
      "Evaluating set functions...: 100%|██████████| 270/270 [00:24<00:00, 11.01it/s]\n"
     ]
    },
    {
     "name": "stdout",
     "output_type": "stream",
     "text": [
      "ROOT CAUSE FOUND!\n",
      "bso1-->bso3 | bfo1 | bso1\n",
      "Model Accuracy: 54.55%\n",
      "--------------------------------------------------------------------------------------------------------------------------------\n",
      "Model: 33\n",
      "Epoch 0, Loss: 0.0001\n",
      "Epoch 0: Average Loss = 242.4349, Best Loss = 242.4349\n",
      "Epoch 100: Average Loss = 42.3703, Best Loss = 42.3703\n",
      "Epoch 200: Average Loss = 35.7381, Best Loss = 35.5649\n",
      "Epoch 300: Average Loss = 32.9932, Best Loss = 32.5000\n",
      "Early stopping triggered after 356 epochs. Restoring best model.\n"
     ]
    },
    {
     "name": "stderr",
     "output_type": "stream",
     "text": [
      "Fitting causal mechanism of node cso1: 100%|██████████| 17/17 [00:01<00:00, 13.69it/s]\n",
      "Evaluating set functions...: 100%|██████████| 349/349 [00:47<00:00,  7.35it/s]\n"
     ]
    },
    {
     "name": "stdout",
     "output_type": "stream",
     "text": [
      "bso2-->bfo2 | bfo1 | bso3\n",
      "Model Accuracy: 52.94%\n",
      "--------------------------------------------------------------------------------------------------------------------------------\n",
      "Model: 34\n",
      "Epoch 0, Loss: 0.0001\n",
      "Epoch 0: Average Loss = 160.9091, Best Loss = 160.9091\n",
      "Epoch 100: Average Loss = 30.2656, Best Loss = 30.2656\n",
      "Epoch 200: Average Loss = 21.7713, Best Loss = 21.6484\n",
      "Epoch 300: Average Loss = 18.6568, Best Loss = 18.4780\n",
      "Epoch 400: Average Loss = 16.8857, Best Loss = 16.8857\n",
      "Epoch 500: Average Loss = 15.9612, Best Loss = 15.9040\n",
      "Early stopping triggered after 543 epochs. Restoring best model.\n"
     ]
    },
    {
     "name": "stderr",
     "output_type": "stream",
     "text": [
      "Fitting causal mechanism of node cso1: 100%|██████████| 17/17 [00:00<00:00, 17.71it/s]\n",
      "Evaluating set functions...: 100%|██████████| 321/321 [00:23<00:00, 13.49it/s]\n"
     ]
    },
    {
     "name": "stdout",
     "output_type": "stream",
     "text": [
      "bed2-->bso3 | bfo2 | bfo1\n",
      "Model Accuracy: 51.43%\n",
      "--------------------------------------------------------------------------------------------------------------------------------\n",
      "Model: 35\n",
      "Epoch 0, Loss: 0.0001\n",
      "Epoch 0: Average Loss = 266.6461, Best Loss = 266.6461\n",
      "Epoch 100: Average Loss = 37.9794, Best Loss = 37.9794\n",
      "Epoch 200: Average Loss = 31.6289, Best Loss = 31.6289\n",
      "Epoch 300: Average Loss = 29.6789, Best Loss = 29.2000\n",
      "Early stopping triggered after 378 epochs. Restoring best model.\n"
     ]
    },
    {
     "name": "stderr",
     "output_type": "stream",
     "text": [
      "Fitting causal mechanism of node cso1: 100%|██████████| 17/17 [00:01<00:00, 14.27it/s]\n",
      "Evaluating set functions...: 100%|██████████| 150/150 [00:07<00:00, 21.09it/s]\n"
     ]
    },
    {
     "name": "stdout",
     "output_type": "stream",
     "text": [
      "ROOT CAUSE FOUND!\n",
      "bso1-->bfo2 | bso1 | bso3\n",
      "Model Accuracy: 52.78%\n",
      "--------------------------------------------------------------------------------------------------------------------------------\n",
      "Model: 36\n",
      "Epoch 0, Loss: 0.0001\n",
      "Epoch 0: Average Loss = 217.1876, Best Loss = 217.1876\n",
      "Epoch 100: Average Loss = 38.5018, Best Loss = 38.5018\n",
      "Early stopping triggered after 182 epochs. Restoring best model.\n"
     ]
    },
    {
     "name": "stderr",
     "output_type": "stream",
     "text": [
      "Fitting causal mechanism of node cso1: 100%|██████████| 17/17 [00:01<00:00, 12.20it/s]\n",
      "Evaluating set functions...: 100%|██████████| 269/269 [00:24<00:00, 11.20it/s]\n"
     ]
    },
    {
     "name": "stdout",
     "output_type": "stream",
     "text": [
      "bso2-->bso1 | bfo1 | bfo2\n",
      "Model Accuracy: 51.35%\n",
      "--------------------------------------------------------------------------------------------------------------------------------\n",
      "Model: 37\n",
      "Epoch 0, Loss: 0.0001\n",
      "Epoch 0: Average Loss = 285.3835, Best Loss = 285.3835\n",
      "Epoch 100: Average Loss = 32.6016, Best Loss = 32.6016\n",
      "Epoch 200: Average Loss = 24.8321, Best Loss = 24.8321\n",
      "Epoch 300: Average Loss = 21.9642, Best Loss = 21.8857\n",
      "Epoch 400: Average Loss = 20.2735, Best Loss = 20.2735\n",
      "Early stopping triggered after 443 epochs. Restoring best model.\n"
     ]
    },
    {
     "name": "stderr",
     "output_type": "stream",
     "text": [
      "Fitting causal mechanism of node cso1: 100%|██████████| 17/17 [00:01<00:00, 15.58it/s]\n",
      "Evaluating set functions...: 100%|██████████| 351/351 [00:40<00:00,  8.68it/s]\n"
     ]
    },
    {
     "name": "stdout",
     "output_type": "stream",
     "text": [
      "ROOT CAUSE FOUND!\n",
      "bso3-->bfo1 | bso3 | bfo2\n",
      "Model Accuracy: 52.63%\n",
      "--------------------------------------------------------------------------------------------------------------------------------\n",
      "Model: 38\n",
      "Epoch 0, Loss: 0.0001\n",
      "Epoch 0: Average Loss = 232.6343, Best Loss = 232.6343\n",
      "Epoch 100: Average Loss = 36.0244, Best Loss = 35.9433\n",
      "Epoch 200: Average Loss = 31.1327, Best Loss = 30.5697\n",
      "Early stopping triggered after 297 epochs. Restoring best model.\n"
     ]
    },
    {
     "name": "stderr",
     "output_type": "stream",
     "text": [
      "Fitting causal mechanism of node cso1: 100%|██████████| 17/17 [00:01<00:00, 11.68it/s]\n",
      "Evaluating set functions...: 100%|██████████| 298/298 [00:33<00:00,  9.01it/s]\n"
     ]
    },
    {
     "name": "stdout",
     "output_type": "stream",
     "text": [
      "ROOT CAUSE FOUND!\n",
      "bfo1-->bfo1 | bso2 | bed2\n",
      "Model Accuracy: 53.85%\n",
      "--------------------------------------------------------------------------------------------------------------------------------\n",
      "Model: 39\n",
      "Epoch 0, Loss: 0.0001\n",
      "Epoch 0: Average Loss = 242.3070, Best Loss = 242.3070\n",
      "Epoch 100: Average Loss = 34.7077, Best Loss = 34.7077\n",
      "Epoch 200: Average Loss = 31.3524, Best Loss = 31.1243\n",
      "Early stopping triggered after 277 epochs. Restoring best model.\n"
     ]
    },
    {
     "name": "stderr",
     "output_type": "stream",
     "text": [
      "Fitting causal mechanism of node cso1: 100%|██████████| 17/17 [00:02<00:00,  8.11it/s]\n",
      "Evaluating set functions...: 100%|██████████| 147/147 [00:05<00:00, 27.11it/s]\n"
     ]
    },
    {
     "name": "stdout",
     "output_type": "stream",
     "text": [
      "ROOT CAUSE FOUND!\n",
      "bso3-->bfo2 | bed1 | bso3\n",
      "Model Accuracy: 55.0%\n",
      "--------------------------------------------------------------------------------------------------------------------------------\n",
      "Model: 40\n",
      "Epoch 0, Loss: 0.0002\n",
      "Epoch 0: Average Loss = 165.6964, Best Loss = 165.6964\n",
      "Epoch 100: Average Loss = 35.2248, Best Loss = 35.2248\n",
      "Epoch 200: Average Loss = 33.1640, Best Loss = 33.0906\n",
      "Early stopping triggered after 283 epochs. Restoring best model.\n"
     ]
    },
    {
     "name": "stderr",
     "output_type": "stream",
     "text": [
      "Fitting causal mechanism of node cso1: 100%|██████████| 17/17 [00:02<00:00,  6.95it/s]\n",
      "Evaluating set functions...: 100%|██████████| 348/348 [00:47<00:00,  7.40it/s]\n"
     ]
    },
    {
     "name": "stdout",
     "output_type": "stream",
     "text": [
      "ROOT CAUSE FOUND!\n",
      "bfo1-->bso1 | bfo1 | bfo2\n",
      "Model Accuracy: 56.1%\n",
      "--------------------------------------------------------------------------------------------------------------------------------\n",
      "Model: 41\n",
      "Epoch 0, Loss: 0.0001\n",
      "Epoch 0: Average Loss = 192.0822, Best Loss = 192.0822\n",
      "Epoch 100: Average Loss = 41.3614, Best Loss = 41.2770\n",
      "Epoch 200: Average Loss = 35.0064, Best Loss = 35.0064\n",
      "Epoch 300: Average Loss = 32.8464, Best Loss = 32.7897\n",
      "Early stopping triggered after 388 epochs. Restoring best model.\n"
     ]
    },
    {
     "name": "stderr",
     "output_type": "stream",
     "text": [
      "Fitting causal mechanism of node cso1: 100%|██████████| 17/17 [00:01<00:00, 14.70it/s]\n",
      "Evaluating set functions...: 100%|██████████| 50/50 [00:00<00:00, 49944.08it/s]\n"
     ]
    },
    {
     "name": "stdout",
     "output_type": "stream",
     "text": [
      "bed2-->bfo2 | bso3 | bso1\n",
      "Model Accuracy: 54.76%\n",
      "--------------------------------------------------------------------------------------------------------------------------------\n",
      "Model: 42\n",
      "Epoch 0, Loss: 0.0001\n",
      "Epoch 0: Average Loss = 270.4024, Best Loss = 270.4024\n",
      "Epoch 100: Average Loss = 31.2503, Best Loss = 31.2503\n",
      "Epoch 200: Average Loss = 24.8085, Best Loss = 24.8082\n",
      "Epoch 300: Average Loss = 22.7093, Best Loss = 22.6217\n",
      "Epoch 400: Average Loss = 21.7188, Best Loss = 21.7178\n",
      "Epoch 500: Average Loss = 21.2436, Best Loss = 21.1977\n",
      "Early stopping triggered after 539 epochs. Restoring best model.\n"
     ]
    },
    {
     "name": "stderr",
     "output_type": "stream",
     "text": [
      "Fitting causal mechanism of node cso1: 100%|██████████| 17/17 [00:01<00:00, 12.39it/s]\n",
      "Evaluating set functions...: 100%|██████████| 269/269 [00:16<00:00, 16.60it/s]\n"
     ]
    },
    {
     "name": "stdout",
     "output_type": "stream",
     "text": [
      "ROOT CAUSE FOUND!\n",
      "bso2-->bso2 | bso3 | bfo2\n",
      "Model Accuracy: 55.81%\n",
      "--------------------------------------------------------------------------------------------------------------------------------\n",
      "Model: 43\n",
      "Epoch 0, Loss: 0.0001\n",
      "Epoch 0: Average Loss = 154.5453, Best Loss = 154.5453\n",
      "Epoch 100: Average Loss = 33.9055, Best Loss = 33.9055\n",
      "Epoch 200: Average Loss = 27.3244, Best Loss = 27.3244\n",
      "Epoch 300: Average Loss = 25.1051, Best Loss = 24.8162\n",
      "Early stopping triggered after 382 epochs. Restoring best model.\n"
     ]
    },
    {
     "name": "stderr",
     "output_type": "stream",
     "text": [
      "Fitting causal mechanism of node cso1: 100%|██████████| 17/17 [00:01<00:00, 14.68it/s]\n",
      "Evaluating set functions...: 100%|██████████| 327/327 [00:34<00:00,  9.58it/s]\n"
     ]
    },
    {
     "name": "stdout",
     "output_type": "stream",
     "text": [
      "ROOT CAUSE FOUND!\n",
      "bso1-->bfo2 | bso1 | bso3\n",
      "Model Accuracy: 56.82%\n",
      "--------------------------------------------------------------------------------------------------------------------------------\n",
      "Model: 44\n",
      "Epoch 0, Loss: 0.0000\n",
      "Epoch 0: Average Loss = 204.4902, Best Loss = 204.4902\n",
      "Epoch 100: Average Loss = 25.1694, Best Loss = 25.0946\n",
      "Epoch 200: Average Loss = 19.6349, Best Loss = 19.4465\n",
      "Epoch 300: Average Loss = 17.6517, Best Loss = 17.5303\n",
      "Early stopping triggered after 356 epochs. Restoring best model.\n"
     ]
    },
    {
     "name": "stderr",
     "output_type": "stream",
     "text": [
      "Fitting causal mechanism of node cso1: 100%|██████████| 17/17 [00:01<00:00, 13.43it/s]\n",
      "Evaluating set functions...: 100%|██████████| 345/345 [00:41<00:00,  8.33it/s]\n"
     ]
    },
    {
     "name": "stdout",
     "output_type": "stream",
     "text": [
      "bed1-->bfo1 | bfo2 | bso1\n",
      "Model Accuracy: 55.56%\n",
      "--------------------------------------------------------------------------------------------------------------------------------\n",
      "Model: 45\n",
      "Epoch 0, Loss: 0.0001\n",
      "Epoch 0: Average Loss = 165.3468, Best Loss = 165.3468\n",
      "Epoch 100: Average Loss = 23.7754, Best Loss = 23.6619\n",
      "Epoch 200: Average Loss = 20.7050, Best Loss = 20.2428\n",
      "Early stopping triggered after 262 epochs. Restoring best model.\n"
     ]
    },
    {
     "name": "stderr",
     "output_type": "stream",
     "text": [
      "Fitting causal mechanism of node cso1: 100%|██████████| 17/17 [00:01<00:00, 10.14it/s]\n",
      "Evaluating set functions...: 100%|██████████| 240/240 [00:19<00:00, 12.04it/s]\n"
     ]
    },
    {
     "name": "stdout",
     "output_type": "stream",
     "text": [
      "ROOT CAUSE FOUND!\n",
      "bed1-->bso1 | bfo1 | bed1\n",
      "Model Accuracy: 56.52%\n",
      "--------------------------------------------------------------------------------------------------------------------------------\n",
      "Model: 46\n",
      "Epoch 0, Loss: 0.0001\n",
      "Epoch 0: Average Loss = 164.0858, Best Loss = 164.0858\n",
      "Epoch 100: Average Loss = 40.3121, Best Loss = 40.3121\n",
      "Epoch 200: Average Loss = 35.1479, Best Loss = 34.9155\n",
      "Epoch 300: Average Loss = 33.0443, Best Loss = 32.8963\n",
      "Early stopping triggered after 324 epochs. Restoring best model.\n"
     ]
    },
    {
     "name": "stderr",
     "output_type": "stream",
     "text": [
      "Fitting causal mechanism of node cso1: 100%|██████████| 17/17 [00:01<00:00, 10.93it/s]\n",
      "Evaluating set functions...: 100%|██████████| 210/210 [00:12<00:00, 17.03it/s]\n"
     ]
    },
    {
     "name": "stdout",
     "output_type": "stream",
     "text": [
      "bed2-->bso1 | bed1 | bfo1\n",
      "Model Accuracy: 55.32%\n",
      "--------------------------------------------------------------------------------------------------------------------------------\n",
      "Model: 47\n",
      "Epoch 0, Loss: 0.0003\n",
      "Epoch 0: Average Loss = 134.5300, Best Loss = 134.5300\n",
      "Epoch 100: Average Loss = 33.4163, Best Loss = 33.4163\n",
      "Early stopping triggered after 158 epochs. Restoring best model.\n"
     ]
    },
    {
     "name": "stderr",
     "output_type": "stream",
     "text": [
      "Fitting causal mechanism of node cso1: 100%|██████████| 17/17 [00:02<00:00,  5.79it/s]\n",
      "Evaluating set functions...: 100%|██████████| 115/115 [00:03<00:00, 38.06it/s]\n"
     ]
    },
    {
     "name": "stdout",
     "output_type": "stream",
     "text": [
      "ROOT CAUSE FOUND!\n",
      "bfo1-->bfo1 | bso1 | bso3\n",
      "Model Accuracy: 56.25%\n",
      "--------------------------------------------------------------------------------------------------------------------------------\n",
      "Model: 48\n",
      "Epoch 0, Loss: 0.0001\n",
      "Epoch 0: Average Loss = 177.9649, Best Loss = 177.9649\n",
      "Epoch 100: Average Loss = 38.1749, Best Loss = 38.1749\n",
      "Epoch 200: Average Loss = 32.4547, Best Loss = 32.4547\n",
      "Early stopping triggered after 217 epochs. Restoring best model.\n"
     ]
    },
    {
     "name": "stderr",
     "output_type": "stream",
     "text": [
      "Fitting causal mechanism of node cso1: 100%|██████████| 17/17 [00:01<00:00, 16.42it/s]\n",
      "Evaluating set functions...: 100%|██████████| 115/115 [00:02<00:00, 47.04it/s]\n"
     ]
    },
    {
     "name": "stdout",
     "output_type": "stream",
     "text": [
      "ROOT CAUSE FOUND!\n",
      "bed1-->bfo1 | bed1 | bso2\n",
      "Model Accuracy: 57.14%\n",
      "--------------------------------------------------------------------------------------------------------------------------------\n",
      "Model: 49\n",
      "Epoch 0, Loss: 0.0002\n",
      "Epoch 0: Average Loss = 204.1778, Best Loss = 204.1778\n",
      "Epoch 100: Average Loss = 34.4795, Best Loss = 34.4387\n",
      "Epoch 200: Average Loss = 34.0786, Best Loss = 33.9879\n",
      "Early stopping triggered after 211 epochs. Restoring best model.\n"
     ]
    },
    {
     "name": "stderr",
     "output_type": "stream",
     "text": [
      "Fitting causal mechanism of node cso1: 100%|██████████| 17/17 [00:03<00:00,  5.19it/s]\n",
      "Evaluating set functions...: 100%|██████████| 117/117 [00:03<00:00, 34.35it/s]\n"
     ]
    },
    {
     "name": "stdout",
     "output_type": "stream",
     "text": [
      "ROOT CAUSE FOUND!\n",
      "bso3-->bso3 | bfo2 | bfo1\n",
      "Model Accuracy: 58.0%\n",
      "--------------------------------------------------------------------------------------------------------------------------------\n",
      "Model: 50\n",
      "Epoch 0, Loss: 0.0000\n",
      "Epoch 0: Average Loss = 245.8086, Best Loss = 245.8086\n",
      "Epoch 100: Average Loss = 37.9584, Best Loss = 37.9584\n",
      "Epoch 200: Average Loss = 32.8518, Best Loss = 32.7104\n",
      "Epoch 300: Average Loss = 30.7586, Best Loss = 30.5405\n",
      "Epoch 400: Average Loss = 29.8573, Best Loss = 29.4608\n",
      "Early stopping triggered after 417 epochs. Restoring best model.\n"
     ]
    },
    {
     "name": "stderr",
     "output_type": "stream",
     "text": [
      "Fitting causal mechanism of node cso1: 100%|██████████| 17/17 [00:01<00:00, 13.71it/s]\n",
      "Evaluating set functions...: 100%|██████████| 319/319 [00:34<00:00,  9.27it/s]\n"
     ]
    },
    {
     "name": "stdout",
     "output_type": "stream",
     "text": [
      "bfo2-->bso3 | bfo1 | bed2\n",
      "Model Accuracy: 56.86%\n",
      "--------------------------------------------------------------------------------------------------------------------------------\n",
      "Model: 51\n",
      "Epoch 0, Loss: 0.0001\n",
      "Epoch 0: Average Loss = 274.2000, Best Loss = 274.2000\n",
      "Epoch 100: Average Loss = 36.7514, Best Loss = 36.7514\n",
      "Epoch 200: Average Loss = 33.5087, Best Loss = 33.4291\n",
      "Early stopping triggered after 293 epochs. Restoring best model.\n"
     ]
    },
    {
     "name": "stderr",
     "output_type": "stream",
     "text": [
      "Fitting causal mechanism of node cso1: 100%|██████████| 17/17 [00:01<00:00,  8.91it/s]\n",
      "Evaluating set functions...: 100%|██████████| 150/150 [00:03<00:00, 39.47it/s]\n"
     ]
    },
    {
     "name": "stdout",
     "output_type": "stream",
     "text": [
      "bed2-->bso1 | bso3 | bfo1\n",
      "Model Accuracy: 55.77%\n",
      "--------------------------------------------------------------------------------------------------------------------------------\n",
      "Model: 52\n",
      "Epoch 0, Loss: 0.0001\n",
      "Epoch 0: Average Loss = 265.2721, Best Loss = 265.2721\n",
      "Epoch 100: Average Loss = 39.8193, Best Loss = 39.7665\n",
      "Epoch 200: Average Loss = 35.3086, Best Loss = 34.8278\n",
      "Epoch 300: Average Loss = 33.3545, Best Loss = 33.3005\n",
      "Early stopping triggered after 350 epochs. Restoring best model.\n"
     ]
    },
    {
     "name": "stderr",
     "output_type": "stream",
     "text": [
      "Fitting causal mechanism of node cso1: 100%|██████████| 17/17 [00:01<00:00, 10.66it/s]\n",
      "Evaluating set functions...: 100%|██████████| 241/241 [00:19<00:00, 12.10it/s]\n"
     ]
    },
    {
     "name": "stdout",
     "output_type": "stream",
     "text": [
      "bso3-->bso1 | bfo1 | bso2\n",
      "Model Accuracy: 54.72%\n",
      "--------------------------------------------------------------------------------------------------------------------------------\n",
      "Model: 53\n",
      "Epoch 0, Loss: 0.0002\n",
      "Epoch 0: Average Loss = 152.3460, Best Loss = 152.3460\n",
      "Epoch 100: Average Loss = 35.7052, Best Loss = 35.7052\n",
      "Epoch 200: Average Loss = 35.4430, Best Loss = 35.4226\n",
      "Early stopping triggered after 207 epochs. Restoring best model.\n"
     ]
    },
    {
     "name": "stderr",
     "output_type": "stream",
     "text": [
      "Fitting causal mechanism of node cso1: 100%|██████████| 17/17 [00:03<00:00,  5.18it/s]\n",
      "Evaluating set functions...: 100%|██████████| 115/115 [00:03<00:00, 33.31it/s]\n"
     ]
    },
    {
     "name": "stdout",
     "output_type": "stream",
     "text": [
      "ROOT CAUSE FOUND!\n",
      "bfo2-->bfo2 | bso1 | bso3\n",
      "Model Accuracy: 55.56%\n",
      "--------------------------------------------------------------------------------------------------------------------------------\n",
      "Model: 54\n",
      "Epoch 0, Loss: 0.0001\n",
      "Epoch 0: Average Loss = 218.2282, Best Loss = 218.2282\n",
      "Epoch 100: Average Loss = 34.5814, Best Loss = 34.5814\n",
      "Epoch 200: Average Loss = 31.5406, Best Loss = 31.5045\n",
      "Early stopping triggered after 291 epochs. Restoring best model.\n"
     ]
    },
    {
     "name": "stderr",
     "output_type": "stream",
     "text": [
      "Fitting causal mechanism of node cso1: 100%|██████████| 17/17 [00:02<00:00,  7.79it/s]\n",
      "Evaluating set functions...: 100%|██████████| 214/214 [00:14<00:00, 14.62it/s]\n"
     ]
    },
    {
     "name": "stdout",
     "output_type": "stream",
     "text": [
      "bed1-->bso1 | bfo1 | bso3\n",
      "Model Accuracy: 54.55%\n",
      "--------------------------------------------------------------------------------------------------------------------------------\n",
      "Model: 55\n",
      "Epoch 0, Loss: 0.0001\n",
      "Epoch 0: Average Loss = 182.2520, Best Loss = 182.2520\n",
      "Epoch 100: Average Loss = 24.3619, Best Loss = 24.3619\n",
      "Epoch 200: Average Loss = 19.8793, Best Loss = 19.8793\n",
      "Epoch 300: Average Loss = 18.3537, Best Loss = 18.2892\n",
      "Early stopping triggered after 399 epochs. Restoring best model.\n"
     ]
    },
    {
     "name": "stderr",
     "output_type": "stream",
     "text": [
      "Fitting causal mechanism of node cso1: 100%|██████████| 17/17 [00:01<00:00, 11.33it/s]\n",
      "Evaluating set functions...: 100%|██████████| 84/84 [00:00<00:00, 349.17it/s]\n"
     ]
    },
    {
     "name": "stdout",
     "output_type": "stream",
     "text": [
      "ROOT CAUSE FOUND!\n",
      "bfo2-->bed1 | bfo2 | bso3\n",
      "Model Accuracy: 55.36%\n",
      "--------------------------------------------------------------------------------------------------------------------------------\n",
      "Model: 56\n",
      "Epoch 0, Loss: 0.0001\n",
      "Epoch 0: Average Loss = 232.0077, Best Loss = 232.0077\n",
      "Epoch 100: Average Loss = 20.7548, Best Loss = 20.7548\n",
      "Epoch 200: Average Loss = 18.2267, Best Loss = 18.2267\n",
      "Early stopping triggered after 286 epochs. Restoring best model.\n"
     ]
    },
    {
     "name": "stderr",
     "output_type": "stream",
     "text": [
      "Fitting causal mechanism of node cso1: 100%|██████████| 17/17 [00:02<00:00,  7.62it/s]\n",
      "Evaluating set functions...: 100%|██████████| 295/295 [00:29<00:00, 10.13it/s]\n"
     ]
    },
    {
     "name": "stdout",
     "output_type": "stream",
     "text": [
      "bed1-->bfo1 | bso1 | bso3\n",
      "Model Accuracy: 54.39%\n",
      "--------------------------------------------------------------------------------------------------------------------------------\n",
      "Model: 57\n",
      "Epoch 0, Loss: 0.0001\n",
      "Epoch 0: Average Loss = 215.5994, Best Loss = 215.5994\n",
      "Epoch 100: Average Loss = 38.6140, Best Loss = 38.6140\n",
      "Epoch 200: Average Loss = 32.2928, Best Loss = 32.2928\n",
      "Epoch 300: Average Loss = 30.3749, Best Loss = 29.9004\n",
      "Early stopping triggered after 336 epochs. Restoring best model.\n"
     ]
    },
    {
     "name": "stderr",
     "output_type": "stream",
     "text": [
      "Fitting causal mechanism of node cso1: 100%|██████████| 17/17 [00:01<00:00, 14.38it/s]\n",
      "Evaluating set functions...: 100%|██████████| 377/377 [00:43<00:00,  8.72it/s]\n"
     ]
    },
    {
     "name": "stdout",
     "output_type": "stream",
     "text": [
      "bfo1-->bfo2 | bso1 | bed2\n",
      "Model Accuracy: 53.45%\n",
      "--------------------------------------------------------------------------------------------------------------------------------\n",
      "Model: 58\n",
      "Epoch 0, Loss: 0.0001\n",
      "Epoch 0: Average Loss = 214.8409, Best Loss = 214.8409\n",
      "Epoch 100: Average Loss = 37.5118, Best Loss = 37.5118\n",
      "Epoch 200: Average Loss = 31.6751, Best Loss = 31.6107\n",
      "Epoch 300: Average Loss = 29.5373, Best Loss = 29.4757\n",
      "Early stopping triggered after 389 epochs. Restoring best model.\n"
     ]
    },
    {
     "name": "stderr",
     "output_type": "stream",
     "text": [
      "Fitting causal mechanism of node cso1: 100%|██████████| 17/17 [00:01<00:00, 13.11it/s]\n",
      "Evaluating set functions...: 100%|██████████| 289/289 [00:18<00:00, 15.49it/s]\n"
     ]
    },
    {
     "name": "stdout",
     "output_type": "stream",
     "text": [
      "ROOT CAUSE FOUND!\n",
      "bso1-->bso1 | bfo2 | bfo1\n",
      "Model Accuracy: 54.24%\n",
      "--------------------------------------------------------------------------------------------------------------------------------\n",
      "Model: 59\n",
      "Epoch 0, Loss: 0.0001\n",
      "Epoch 0: Average Loss = 141.7741, Best Loss = 141.7741\n",
      "Epoch 100: Average Loss = 28.4594, Best Loss = 28.4594\n",
      "Epoch 200: Average Loss = 21.9894, Best Loss = 21.9894\n",
      "Epoch 300: Average Loss = 19.5099, Best Loss = 19.3844\n",
      "Epoch 400: Average Loss = 17.9916, Best Loss = 17.9537\n",
      "Epoch 500: Average Loss = 17.2978, Best Loss = 17.1263\n",
      "Early stopping triggered after 530 epochs. Restoring best model.\n"
     ]
    },
    {
     "name": "stderr",
     "output_type": "stream",
     "text": [
      "Fitting causal mechanism of node cso1: 100%|██████████| 17/17 [00:00<00:00, 25.98it/s]\n",
      "Evaluating set functions...: 100%|██████████| 213/213 [00:03<00:00, 59.30it/s]\n"
     ]
    },
    {
     "name": "stdout",
     "output_type": "stream",
     "text": [
      "bfo2-->bso3 | bed1 | bfo1\n",
      "Model Accuracy: 53.33%\n",
      "--------------------------------------------------------------------------------------------------------------------------------\n",
      "Model: 60\n",
      "Epoch 0, Loss: 0.0001\n",
      "Epoch 0: Average Loss = 292.6844, Best Loss = 292.6844\n",
      "Epoch 100: Average Loss = 41.7368, Best Loss = 41.7368\n",
      "Epoch 200: Average Loss = 35.2575, Best Loss = 35.2527\n",
      "Epoch 300: Average Loss = 32.8693, Best Loss = 32.6249\n",
      "Early stopping triggered after 370 epochs. Restoring best model.\n"
     ]
    },
    {
     "name": "stderr",
     "output_type": "stream",
     "text": [
      "Fitting causal mechanism of node cso1: 100%|██████████| 17/17 [00:01<00:00, 14.07it/s]\n",
      "Evaluating set functions...: 100%|██████████| 268/268 [00:13<00:00, 20.18it/s]\n"
     ]
    },
    {
     "name": "stdout",
     "output_type": "stream",
     "text": [
      "bed1-->bso1 | bfo2 | bfo1\n",
      "Model Accuracy: 52.46%\n",
      "--------------------------------------------------------------------------------------------------------------------------------\n",
      "Model: 61\n",
      "Epoch 0, Loss: 0.0001\n",
      "Epoch 0: Average Loss = 189.5816, Best Loss = 189.5816\n",
      "Epoch 100: Average Loss = 34.3516, Best Loss = 34.3516\n",
      "Epoch 200: Average Loss = 31.3663, Best Loss = 31.2234\n",
      "Early stopping triggered after 280 epochs. Restoring best model.\n"
     ]
    },
    {
     "name": "stderr",
     "output_type": "stream",
     "text": [
      "Fitting causal mechanism of node cso1: 100%|██████████| 17/17 [00:02<00:00,  7.84it/s]\n",
      "Evaluating set functions...: 100%|██████████| 375/375 [00:49<00:00,  7.54it/s]\n"
     ]
    },
    {
     "name": "stdout",
     "output_type": "stream",
     "text": [
      "ROOT CAUSE FOUND!\n",
      "bso1-->bso1 | bfo2 | bfo1\n",
      "Model Accuracy: 53.23%\n",
      "--------------------------------------------------------------------------------------------------------------------------------\n",
      "Model: 62\n",
      "Epoch 0, Loss: 0.0001\n",
      "Epoch 0: Average Loss = 173.2118, Best Loss = 173.2118\n",
      "Epoch 100: Average Loss = 38.2468, Best Loss = 38.2468\n",
      "Epoch 200: Average Loss = 32.2540, Best Loss = 32.1892\n",
      "Epoch 300: Average Loss = 30.1795, Best Loss = 29.9814\n",
      "Epoch 400: Average Loss = 28.9925, Best Loss = 28.8145\n",
      "Early stopping triggered after 426 epochs. Restoring best model.\n"
     ]
    },
    {
     "name": "stderr",
     "output_type": "stream",
     "text": [
      "Fitting causal mechanism of node cso1: 100%|██████████| 17/17 [00:01<00:00, 11.41it/s]\n",
      "Evaluating set functions...: 100%|██████████| 321/321 [00:44<00:00,  7.18it/s]\n"
     ]
    },
    {
     "name": "stdout",
     "output_type": "stream",
     "text": [
      "ROOT CAUSE FOUND!\n",
      "bfo1-->bfo1 | bfo2 | bso1\n",
      "Model Accuracy: 53.97%\n",
      "--------------------------------------------------------------------------------------------------------------------------------\n",
      "Model: 63\n",
      "Epoch 0, Loss: 0.0001\n",
      "Epoch 0: Average Loss = 267.9131, Best Loss = 267.9131\n",
      "Epoch 100: Average Loss = 36.3682, Best Loss = 36.3682\n",
      "Epoch 200: Average Loss = 32.6846, Best Loss = 32.6846\n",
      "Epoch 300: Average Loss = 31.6489, Best Loss = 31.6188\n",
      "Early stopping triggered after 375 epochs. Restoring best model.\n"
     ]
    },
    {
     "name": "stderr",
     "output_type": "stream",
     "text": [
      "Fitting causal mechanism of node cso1: 100%|██████████| 17/17 [00:01<00:00,  9.06it/s]\n",
      "Evaluating set functions...: 100%|██████████| 238/238 [00:11<00:00, 20.57it/s]\n"
     ]
    },
    {
     "name": "stdout",
     "output_type": "stream",
     "text": [
      "bso1-->bfo2 | bso3 | bfo1\n",
      "Model Accuracy: 53.12%\n",
      "--------------------------------------------------------------------------------------------------------------------------------\n",
      "Model: 64\n",
      "Epoch 0, Loss: 0.0001\n",
      "Epoch 0: Average Loss = 268.6913, Best Loss = 268.6913\n",
      "Epoch 100: Average Loss = 36.6981, Best Loss = 36.6981\n",
      "Epoch 200: Average Loss = 28.7762, Best Loss = 28.7039\n",
      "Epoch 300: Average Loss = 25.8731, Best Loss = 25.6395\n",
      "Epoch 400: Average Loss = 24.3810, Best Loss = 24.0396\n",
      "Early stopping triggered after 428 epochs. Restoring best model.\n"
     ]
    },
    {
     "name": "stderr",
     "output_type": "stream",
     "text": [
      "Fitting causal mechanism of node cso1: 100%|██████████| 17/17 [00:01<00:00, 15.15it/s]\n",
      "Evaluating set functions...: 100%|██████████| 32/32 [00:00<00:00, 32009.95it/s]\n"
     ]
    },
    {
     "name": "stdout",
     "output_type": "stream",
     "text": [
      "ROOT CAUSE FOUND!\n",
      "bed1-->bed1 | bfo2 | bso3\n",
      "Model Accuracy: 53.85%\n",
      "--------------------------------------------------------------------------------------------------------------------------------\n",
      "Model: 65\n",
      "Epoch 0, Loss: 0.0001\n",
      "Epoch 0: Average Loss = 156.7066, Best Loss = 156.7066\n",
      "Epoch 100: Average Loss = 28.8767, Best Loss = 28.8767\n",
      "Epoch 200: Average Loss = 24.7797, Best Loss = 24.7797\n",
      "Early stopping triggered after 262 epochs. Restoring best model.\n"
     ]
    },
    {
     "name": "stderr",
     "output_type": "stream",
     "text": [
      "Fitting causal mechanism of node cso1: 100%|██████████| 17/17 [00:02<00:00,  8.01it/s]\n",
      "Evaluating set functions...: 100%|██████████| 32/32 [00:00<00:00, 395.06it/s]\n"
     ]
    },
    {
     "name": "stdout",
     "output_type": "stream",
     "text": [
      "bso1-->bfo1 | bfo2 | bed1\n",
      "Model Accuracy: 53.03%\n",
      "--------------------------------------------------------------------------------------------------------------------------------\n",
      "Model: 66\n",
      "Epoch 0, Loss: 0.0000\n",
      "Epoch 0: Average Loss = 259.9601, Best Loss = 259.9601\n",
      "Epoch 100: Average Loss = 25.2524, Best Loss = 25.2524\n",
      "Epoch 200: Average Loss = 20.2895, Best Loss = 20.2895\n",
      "Epoch 300: Average Loss = 18.7157, Best Loss = 18.6559\n",
      "Epoch 400: Average Loss = 18.0598, Best Loss = 17.8993\n",
      "Epoch 500: Average Loss = 17.5824, Best Loss = 17.4889\n",
      "Early stopping triggered after 501 epochs. Restoring best model.\n"
     ]
    },
    {
     "name": "stderr",
     "output_type": "stream",
     "text": [
      "Fitting causal mechanism of node cso1: 100%|██████████| 17/17 [00:02<00:00,  8.42it/s]\n",
      "Evaluating set functions...: 100%|██████████| 175/175 [00:09<00:00, 17.94it/s]\n"
     ]
    },
    {
     "name": "stdout",
     "output_type": "stream",
     "text": [
      "bso2-->bfo1 | bso1 | bfo2\n",
      "Model Accuracy: 52.24%\n",
      "--------------------------------------------------------------------------------------------------------------------------------\n",
      "Model: 67\n",
      "Epoch 0, Loss: 0.0001\n",
      "Epoch 0: Average Loss = 253.9613, Best Loss = 253.9613\n",
      "Epoch 100: Average Loss = 41.9591, Best Loss = 41.9591\n",
      "Epoch 200: Average Loss = 30.8845, Best Loss = 30.7582\n",
      "Epoch 300: Average Loss = 26.8157, Best Loss = 26.6133\n",
      "Early stopping triggered after 383 epochs. Restoring best model.\n"
     ]
    },
    {
     "name": "stderr",
     "output_type": "stream",
     "text": [
      "Fitting causal mechanism of node cso1: 100%|██████████| 17/17 [00:00<00:00, 17.60it/s]\n",
      "Evaluating set functions...: 100%|██████████| 324/324 [00:33<00:00,  9.59it/s]\n"
     ]
    },
    {
     "name": "stdout",
     "output_type": "stream",
     "text": [
      "bso1-->bfo2 | bfo1 | bed2\n",
      "Model Accuracy: 51.47%\n",
      "--------------------------------------------------------------------------------------------------------------------------------\n",
      "Model: 68\n",
      "Epoch 0, Loss: 0.0001\n",
      "Epoch 0: Average Loss = 214.1046, Best Loss = 214.1046\n",
      "Epoch 100: Average Loss = 29.5865, Best Loss = 29.5865\n",
      "Epoch 200: Average Loss = 24.5298, Best Loss = 24.5298\n",
      "Early stopping triggered after 246 epochs. Restoring best model.\n"
     ]
    },
    {
     "name": "stderr",
     "output_type": "stream",
     "text": [
      "Fitting causal mechanism of node cso1: 100%|██████████| 17/17 [00:01<00:00, 13.04it/s]\n",
      "Evaluating set functions...: 100%|██████████| 185/185 [00:09<00:00, 19.65it/s]\n"
     ]
    },
    {
     "name": "stdout",
     "output_type": "stream",
     "text": [
      "ROOT CAUSE FOUND!\n",
      "bso2-->bso3 | bed2 | bso2\n",
      "Model Accuracy: 52.17%\n",
      "--------------------------------------------------------------------------------------------------------------------------------\n",
      "Model: 69\n",
      "Epoch 0, Loss: 0.0001\n",
      "Epoch 0: Average Loss = 252.5739, Best Loss = 252.5739\n",
      "Epoch 100: Average Loss = 33.0956, Best Loss = 32.9821\n",
      "Epoch 200: Average Loss = 31.3607, Best Loss = 31.3607\n",
      "Epoch 300: Average Loss = 31.0336, Best Loss = 30.9358\n",
      "Early stopping triggered after 307 epochs. Restoring best model.\n"
     ]
    },
    {
     "name": "stderr",
     "output_type": "stream",
     "text": [
      "Fitting causal mechanism of node cso1: 100%|██████████| 17/17 [00:02<00:00,  6.05it/s]\n",
      "Evaluating set functions...: 100%|██████████| 210/210 [00:14<00:00, 14.57it/s]\n"
     ]
    },
    {
     "name": "stdout",
     "output_type": "stream",
     "text": [
      "bso2-->bso3 | bso1 | bed2\n",
      "Model Accuracy: 51.43%\n",
      "--------------------------------------------------------------------------------------------------------------------------------\n",
      "Model: 70\n",
      "Epoch 0, Loss: 0.0001\n",
      "Epoch 0: Average Loss = 237.3225, Best Loss = 237.3225\n",
      "Epoch 100: Average Loss = 45.5147, Best Loss = 45.3502\n",
      "Epoch 200: Average Loss = 38.3126, Best Loss = 37.9310\n",
      "Epoch 300: Average Loss = 35.2023, Best Loss = 34.6974\n",
      "Early stopping triggered after 339 epochs. Restoring best model.\n"
     ]
    },
    {
     "name": "stderr",
     "output_type": "stream",
     "text": [
      "Fitting causal mechanism of node cso1: 100%|██████████| 17/17 [00:00<00:00, 17.94it/s]\n",
      "Evaluating set functions...: 100%|██████████| 379/379 [00:42<00:00,  8.95it/s]\n"
     ]
    },
    {
     "name": "stdout",
     "output_type": "stream",
     "text": [
      "bso2-->bfo1 | bed1 | bso1\n",
      "Model Accuracy: 50.7%\n",
      "--------------------------------------------------------------------------------------------------------------------------------\n",
      "Model: 71\n",
      "Epoch 0, Loss: 0.0001\n",
      "Epoch 0: Average Loss = 237.1801, Best Loss = 237.1801\n",
      "Epoch 100: Average Loss = 36.4964, Best Loss = 36.4726\n",
      "Epoch 200: Average Loss = 33.0015, Best Loss = 33.0015\n",
      "Early stopping triggered after 294 epochs. Restoring best model.\n"
     ]
    },
    {
     "name": "stderr",
     "output_type": "stream",
     "text": [
      "Fitting causal mechanism of node cso1: 100%|██████████| 17/17 [00:01<00:00, 10.23it/s]\n",
      "Evaluating set functions...: 100%|██████████| 377/377 [00:52<00:00,  7.14it/s]\n"
     ]
    },
    {
     "name": "stdout",
     "output_type": "stream",
     "text": [
      "ROOT CAUSE FOUND!\n",
      "bed2-->bso1 | bfo2 | bed2\n",
      "Model Accuracy: 51.39%\n",
      "--------------------------------------------------------------------------------------------------------------------------------\n",
      "Model: 72\n",
      "Epoch 0, Loss: 0.0001\n",
      "Epoch 0: Average Loss = 142.4725, Best Loss = 142.4725\n",
      "Epoch 100: Average Loss = 31.7159, Best Loss = 31.7159\n",
      "Early stopping triggered after 142 epochs. Restoring best model.\n"
     ]
    },
    {
     "name": "stderr",
     "output_type": "stream",
     "text": [
      "Fitting causal mechanism of node cso1: 100%|██████████| 17/17 [00:03<00:00,  5.45it/s]\n",
      "Evaluating set functions...: 100%|██████████| 119/119 [00:02<00:00, 40.14it/s]\n"
     ]
    },
    {
     "name": "stdout",
     "output_type": "stream",
     "text": [
      "bso2-->bfo2 | bso1 | bfo1\n",
      "Model Accuracy: 50.68%\n",
      "--------------------------------------------------------------------------------------------------------------------------------\n",
      "Model: 73\n",
      "Epoch 0, Loss: 0.0000\n",
      "Epoch 0: Average Loss = 209.5296, Best Loss = 209.5296\n",
      "Epoch 100: Average Loss = 35.4625, Best Loss = 35.4625\n",
      "Epoch 200: Average Loss = 27.8934, Best Loss = 27.8934\n",
      "Epoch 300: Average Loss = 25.1381, Best Loss = 25.0477\n",
      "Early stopping triggered after 354 epochs. Restoring best model.\n"
     ]
    },
    {
     "name": "stderr",
     "output_type": "stream",
     "text": [
      "Fitting causal mechanism of node cso1: 100%|██████████| 17/17 [00:01<00:00, 16.50it/s]\n",
      "Evaluating set functions...: 100%|██████████| 55/55 [00:00<00:00, 27485.61it/s]\n"
     ]
    },
    {
     "name": "stdout",
     "output_type": "stream",
     "text": [
      "ROOT CAUSE FOUND!\n",
      "bfo1-->bso3 | bfo1 | bed2\n",
      "Model Accuracy: 51.35%\n",
      "--------------------------------------------------------------------------------------------------------------------------------\n",
      "Model: 74\n",
      "Epoch 0, Loss: 0.0001\n",
      "Epoch 0: Average Loss = 186.9776, Best Loss = 186.9776\n",
      "Epoch 100: Average Loss = 36.3088, Best Loss = 36.1668\n",
      "Epoch 200: Average Loss = 33.1339, Best Loss = 33.0656\n",
      "Epoch 300: Average Loss = 32.1711, Best Loss = 31.9399\n",
      "Early stopping triggered after 336 epochs. Restoring best model.\n"
     ]
    },
    {
     "name": "stderr",
     "output_type": "stream",
     "text": [
      "Fitting causal mechanism of node cso1: 100%|██████████| 17/17 [00:01<00:00,  8.55it/s]\n",
      "Evaluating set functions...: 100%|██████████| 209/209 [00:16<00:00, 13.02it/s]\n"
     ]
    },
    {
     "name": "stdout",
     "output_type": "stream",
     "text": [
      "bso2-->bso3 | bfo1 | bso1\n",
      "Model Accuracy: 50.67%\n",
      "--------------------------------------------------------------------------------------------------------------------------------\n",
      "Model: 75\n",
      "Epoch 0, Loss: 0.0001\n",
      "Epoch 0: Average Loss = 153.7971, Best Loss = 153.7971\n",
      "Epoch 100: Average Loss = 30.1968, Best Loss = 29.9371\n",
      "Epoch 200: Average Loss = 24.6020, Best Loss = 24.4066\n",
      "Epoch 300: Average Loss = 22.4859, Best Loss = 22.4185\n",
      "Early stopping triggered after 339 epochs. Restoring best model.\n"
     ]
    },
    {
     "name": "stderr",
     "output_type": "stream",
     "text": [
      "Fitting causal mechanism of node cso1: 100%|██████████| 17/17 [00:00<00:00, 19.53it/s]\n",
      "Evaluating set functions...: 100%|██████████| 138/138 [00:03<00:00, 39.14it/s]\n"
     ]
    },
    {
     "name": "stdout",
     "output_type": "stream",
     "text": [
      "bso3-->bfo1 | bso1 | bed1\n",
      "Model Accuracy: 50.0%\n",
      "--------------------------------------------------------------------------------------------------------------------------------\n",
      "Model: 76\n",
      "Epoch 0, Loss: 0.0001\n",
      "Epoch 0: Average Loss = 164.6242, Best Loss = 164.6242\n",
      "Epoch 100: Average Loss = 30.8897, Best Loss = 30.8897\n",
      "Epoch 200: Average Loss = 28.2548, Best Loss = 28.2201\n",
      "Epoch 300: Average Loss = 27.4657, Best Loss = 27.3424\n",
      "Early stopping triggered after 319 epochs. Restoring best model.\n"
     ]
    },
    {
     "name": "stderr",
     "output_type": "stream",
     "text": [
      "Fitting causal mechanism of node cso1: 100%|██████████| 17/17 [00:02<00:00,  6.50it/s]\n",
      "Evaluating set functions...: 100%|██████████| 295/295 [00:34<00:00,  8.45it/s]\n"
     ]
    },
    {
     "name": "stdout",
     "output_type": "stream",
     "text": [
      "ROOT CAUSE FOUND!\n",
      "bfo1-->bfo1 | bso1 | bfo2\n",
      "Model Accuracy: 50.65%\n",
      "--------------------------------------------------------------------------------------------------------------------------------\n",
      "Model: 77\n",
      "Epoch 0, Loss: 0.0001\n",
      "Epoch 0: Average Loss = 205.0765, Best Loss = 205.0765\n",
      "Epoch 100: Average Loss = 47.8328, Best Loss = 47.8328\n",
      "Epoch 200: Average Loss = 38.4228, Best Loss = 38.4228\n",
      "Epoch 300: Average Loss = 34.8265, Best Loss = 34.8265\n",
      "Epoch 400: Average Loss = 32.8568, Best Loss = 32.8568\n",
      "Early stopping triggered after 444 epochs. Restoring best model.\n"
     ]
    },
    {
     "name": "stderr",
     "output_type": "stream",
     "text": [
      "Fitting causal mechanism of node cso1: 100%|██████████| 17/17 [00:00<00:00, 19.64it/s]\n",
      "Evaluating set functions...: 100%|██████████| 293/293 [00:23<00:00, 12.32it/s]\n"
     ]
    },
    {
     "name": "stdout",
     "output_type": "stream",
     "text": [
      "bfo2-->bfo1 | bso3 | bso1\n",
      "Model Accuracy: 50.0%\n",
      "--------------------------------------------------------------------------------------------------------------------------------\n",
      "Model: 78\n",
      "Epoch 0, Loss: 0.0001\n",
      "Epoch 0: Average Loss = 156.8295, Best Loss = 156.8295\n",
      "Epoch 100: Average Loss = 32.6347, Best Loss = 32.5238\n",
      "Epoch 200: Average Loss = 29.0827, Best Loss = 28.7714\n",
      "Early stopping triggered after 210 epochs. Restoring best model.\n"
     ]
    },
    {
     "name": "stderr",
     "output_type": "stream",
     "text": [
      "Fitting causal mechanism of node cso1: 100%|██████████| 17/17 [00:01<00:00, 10.03it/s]\n",
      "Evaluating set functions...: 100%|██████████| 181/181 [00:06<00:00, 26.51it/s]\n"
     ]
    },
    {
     "name": "stdout",
     "output_type": "stream",
     "text": [
      "ROOT CAUSE FOUND!\n",
      "bfo1-->bfo1 | bfo2 | bso1\n",
      "Model Accuracy: 50.63%\n",
      "--------------------------------------------------------------------------------------------------------------------------------\n",
      "Model: 79\n",
      "Epoch 0, Loss: 0.0001\n",
      "Epoch 0: Average Loss = 179.8441, Best Loss = 179.8441\n",
      "Epoch 100: Average Loss = 26.8953, Best Loss = 26.8953\n",
      "Epoch 200: Average Loss = 20.0509, Best Loss = 19.8457\n",
      "Epoch 300: Average Loss = 17.1238, Best Loss = 17.0548\n",
      "Epoch 400: Average Loss = 15.6965, Best Loss = 15.6965\n",
      "Epoch 500: Average Loss = 14.8064, Best Loss = 14.6445\n",
      "Early stopping triggered after 512 epochs. Restoring best model.\n"
     ]
    },
    {
     "name": "stderr",
     "output_type": "stream",
     "text": [
      "Fitting causal mechanism of node cso1: 100%|██████████| 17/17 [00:00<00:00, 21.16it/s]\n",
      "Evaluating set functions...: 100%|██████████| 371/371 [00:35<00:00, 10.57it/s]\n"
     ]
    },
    {
     "name": "stdout",
     "output_type": "stream",
     "text": [
      "ROOT CAUSE FOUND!\n",
      "bed1-->bed2 | bfo1 | bed1\n",
      "Model Accuracy: 51.25%\n",
      "--------------------------------------------------------------------------------------------------------------------------------\n",
      "Model: 80\n",
      "Epoch 0, Loss: 0.0001\n",
      "Epoch 0: Average Loss = 193.2769, Best Loss = 193.2769\n",
      "Epoch 100: Average Loss = 37.9754, Best Loss = 37.7702\n",
      "Epoch 200: Average Loss = 34.0868, Best Loss = 34.0868\n",
      "Epoch 300: Average Loss = 32.9565, Best Loss = 32.8922\n",
      "Early stopping triggered after 327 epochs. Restoring best model.\n"
     ]
    },
    {
     "name": "stderr",
     "output_type": "stream",
     "text": [
      "Fitting causal mechanism of node cso1: 100%|██████████| 17/17 [00:01<00:00,  9.56it/s]\n",
      "Evaluating set functions...: 100%|██████████| 151/151 [00:06<00:00, 23.18it/s]\n"
     ]
    },
    {
     "name": "stdout",
     "output_type": "stream",
     "text": [
      "bso2-->bfo2 | bso3 | bfo1\n",
      "Model Accuracy: 50.62%\n",
      "--------------------------------------------------------------------------------------------------------------------------------\n",
      "Model: 81\n",
      "Epoch 0, Loss: 0.0000\n",
      "Epoch 0: Average Loss = 217.7048, Best Loss = 217.7048\n",
      "Epoch 100: Average Loss = 39.7042, Best Loss = 39.6608\n",
      "Epoch 200: Average Loss = 34.7391, Best Loss = 34.7391\n",
      "Early stopping triggered after 287 epochs. Restoring best model.\n"
     ]
    },
    {
     "name": "stderr",
     "output_type": "stream",
     "text": [
      "Fitting causal mechanism of node cso1: 100%|██████████| 17/17 [00:01<00:00,  9.49it/s]\n",
      "Evaluating set functions...: 100%|██████████| 325/325 [00:35<00:00,  9.24it/s]\n"
     ]
    },
    {
     "name": "stdout",
     "output_type": "stream",
     "text": [
      "bed2-->bso3 | bso1 | bfo1\n",
      "Model Accuracy: 50.0%\n",
      "--------------------------------------------------------------------------------------------------------------------------------\n",
      "Model: 82\n",
      "Epoch 0, Loss: 0.0001\n",
      "Epoch 0: Average Loss = 148.7503, Best Loss = 148.7503\n",
      "Epoch 100: Average Loss = 27.1263, Best Loss = 27.0576\n",
      "Epoch 200: Average Loss = 22.7400, Best Loss = 22.7231\n",
      "Epoch 300: Average Loss = 21.2733, Best Loss = 21.0931\n",
      "Epoch 400: Average Loss = 20.1829, Best Loss = 20.1829\n",
      "Early stopping triggered after 421 epochs. Restoring best model.\n"
     ]
    },
    {
     "name": "stderr",
     "output_type": "stream",
     "text": [
      "Fitting causal mechanism of node cso1: 100%|██████████| 17/17 [00:01<00:00, 15.10it/s]\n",
      "Evaluating set functions...: 100%|██████████| 323/323 [00:31<00:00, 10.41it/s]\n"
     ]
    },
    {
     "name": "stdout",
     "output_type": "stream",
     "text": [
      "ROOT CAUSE FOUND!\n",
      "bfo2-->bfo2 | bso1 | bso3\n",
      "Model Accuracy: 50.6%\n",
      "--------------------------------------------------------------------------------------------------------------------------------\n",
      "Model: 83\n",
      "Epoch 0, Loss: 0.0001\n",
      "Epoch 0: Average Loss = 173.8517, Best Loss = 173.8517\n",
      "Epoch 100: Average Loss = 36.1944, Best Loss = 36.1944\n",
      "Epoch 200: Average Loss = 31.7800, Best Loss = 31.6970\n",
      "Epoch 300: Average Loss = 30.1847, Best Loss = 30.1847\n",
      "Early stopping triggered after 348 epochs. Restoring best model.\n"
     ]
    },
    {
     "name": "stderr",
     "output_type": "stream",
     "text": [
      "Fitting causal mechanism of node cso1: 100%|██████████| 17/17 [00:01<00:00,  9.52it/s]\n",
      "Evaluating set functions...: 100%|██████████| 152/152 [00:04<00:00, 33.30it/s]\n"
     ]
    },
    {
     "name": "stdout",
     "output_type": "stream",
     "text": [
      "ROOT CAUSE FOUND!\n",
      "bed2-->bed2 | bso3 | bfo1\n",
      "Model Accuracy: 51.19%\n",
      "--------------------------------------------------------------------------------------------------------------------------------\n",
      "Model: 84\n",
      "Epoch 0, Loss: 0.0000\n",
      "Epoch 0: Average Loss = 202.5116, Best Loss = 202.5116\n",
      "Epoch 100: Average Loss = 31.3150, Best Loss = 31.2815\n",
      "Epoch 200: Average Loss = 26.8392, Best Loss = 26.7676\n",
      "Epoch 300: Average Loss = 25.4484, Best Loss = 25.4453\n",
      "Epoch 400: Average Loss = 24.7885, Best Loss = 24.7516\n",
      "Early stopping triggered after 444 epochs. Restoring best model.\n"
     ]
    },
    {
     "name": "stderr",
     "output_type": "stream",
     "text": [
      "Fitting causal mechanism of node cso1: 100%|██████████| 17/17 [00:01<00:00, 10.66it/s]\n",
      "Evaluating set functions...: 100%|██████████| 324/324 [00:31<00:00, 10.17it/s]\n"
     ]
    },
    {
     "name": "stdout",
     "output_type": "stream",
     "text": [
      "bed2-->bso1 | bfo1 | bfo2\n",
      "Model Accuracy: 50.59%\n",
      "--------------------------------------------------------------------------------------------------------------------------------\n",
      "Model: 85\n",
      "Epoch 0, Loss: 0.0001\n",
      "Epoch 0: Average Loss = 219.9773, Best Loss = 219.9773\n",
      "Epoch 100: Average Loss = 39.9322, Best Loss = 39.7095\n",
      "Epoch 200: Average Loss = 34.2987, Best Loss = 34.2987\n",
      "Epoch 300: Average Loss = 32.4532, Best Loss = 32.2731\n",
      "Early stopping triggered after 339 epochs. Restoring best model.\n"
     ]
    },
    {
     "name": "stderr",
     "output_type": "stream",
     "text": [
      "Fitting causal mechanism of node cso1: 100%|██████████| 17/17 [00:01<00:00, 10.70it/s]\n",
      "Evaluating set functions...: 100%|██████████| 118/118 [00:03<00:00, 35.69it/s]\n"
     ]
    },
    {
     "name": "stdout",
     "output_type": "stream",
     "text": [
      "bed2-->bso1 | bso3 | bed1\n",
      "Model Accuracy: 50.0%\n",
      "--------------------------------------------------------------------------------------------------------------------------------\n",
      "Model: 86\n",
      "Epoch 0, Loss: 0.0001\n",
      "Epoch 0: Average Loss = 156.0134, Best Loss = 156.0134\n",
      "Epoch 100: Average Loss = 32.8122, Best Loss = 32.7867\n",
      "Epoch 200: Average Loss = 32.5137, Best Loss = 32.4801\n",
      "Early stopping triggered after 240 epochs. Restoring best model.\n"
     ]
    },
    {
     "name": "stderr",
     "output_type": "stream",
     "text": [
      "Fitting causal mechanism of node cso1: 100%|██████████| 17/17 [00:02<00:00,  6.00it/s]\n",
      "Evaluating set functions...: 100%|██████████| 122/122 [00:02<00:00, 48.80it/s]\n"
     ]
    },
    {
     "name": "stdout",
     "output_type": "stream",
     "text": [
      "ROOT CAUSE FOUND!\n",
      "bfo1-->bso1 | bfo1 | bso3\n",
      "Model Accuracy: 50.57%\n",
      "--------------------------------------------------------------------------------------------------------------------------------\n",
      "Model: 87\n",
      "Epoch 0, Loss: 0.0000\n",
      "Epoch 0: Average Loss = 232.1509, Best Loss = 232.1509\n",
      "Epoch 100: Average Loss = 41.9803, Best Loss = 41.9803\n",
      "Epoch 200: Average Loss = 35.4295, Best Loss = 35.1992\n",
      "Epoch 300: Average Loss = 33.0241, Best Loss = 33.0241\n",
      "Early stopping triggered after 378 epochs. Restoring best model.\n"
     ]
    },
    {
     "name": "stderr",
     "output_type": "stream",
     "text": [
      "Fitting causal mechanism of node cso1: 100%|██████████| 17/17 [00:01<00:00, 12.16it/s]\n",
      "Evaluating set functions...: 100%|██████████| 260/260 [00:21<00:00, 12.25it/s]\n"
     ]
    },
    {
     "name": "stdout",
     "output_type": "stream",
     "text": [
      "bso1-->bed1 | bed2 | bfo1\n",
      "Model Accuracy: 50.0%\n",
      "--------------------------------------------------------------------------------------------------------------------------------\n",
      "Model: 88\n",
      "Epoch 0, Loss: 0.0001\n",
      "Epoch 0: Average Loss = 152.8125, Best Loss = 152.8125\n",
      "Epoch 100: Average Loss = 30.2492, Best Loss = 30.2492\n",
      "Epoch 200: Average Loss = 29.8573, Best Loss = 29.8573\n",
      "Early stopping triggered after 252 epochs. Restoring best model.\n"
     ]
    },
    {
     "name": "stderr",
     "output_type": "stream",
     "text": [
      "Fitting causal mechanism of node cso1: 100%|██████████| 17/17 [00:03<00:00,  5.37it/s]\n",
      "Evaluating set functions...: 100%|██████████| 115/115 [00:03<00:00, 33.67it/s]\n"
     ]
    },
    {
     "name": "stdout",
     "output_type": "stream",
     "text": [
      "ROOT CAUSE FOUND!\n",
      "bso1-->bfo2 | bso1 | bso3\n",
      "Model Accuracy: 50.56%\n",
      "--------------------------------------------------------------------------------------------------------------------------------\n",
      "Model: 89\n",
      "Epoch 0, Loss: 0.0001\n",
      "Epoch 0: Average Loss = 144.7590, Best Loss = 144.7590\n",
      "Epoch 100: Average Loss = 33.9505, Best Loss = 33.9417\n",
      "Epoch 200: Average Loss = 33.5554, Best Loss = 33.4913\n",
      "Early stopping triggered after 203 epochs. Restoring best model.\n"
     ]
    },
    {
     "name": "stderr",
     "output_type": "stream",
     "text": [
      "Fitting causal mechanism of node cso1: 100%|██████████| 17/17 [00:02<00:00,  6.59it/s]\n",
      "Evaluating set functions...: 100%|██████████| 114/114 [00:02<00:00, 54.90it/s]\n"
     ]
    },
    {
     "name": "stdout",
     "output_type": "stream",
     "text": [
      "bed2-->bso1 | bso3 | bed1\n",
      "Model Accuracy: 50.0%\n",
      "--------------------------------------------------------------------------------------------------------------------------------\n",
      "Model: 90\n",
      "Epoch 0, Loss: 0.0001\n",
      "Epoch 0: Average Loss = 222.5558, Best Loss = 222.5558\n",
      "Epoch 100: Average Loss = 35.2424, Best Loss = 35.2424\n",
      "Epoch 200: Average Loss = 33.8927, Best Loss = 33.8927\n",
      "Early stopping triggered after 242 epochs. Restoring best model.\n"
     ]
    },
    {
     "name": "stderr",
     "output_type": "stream",
     "text": [
      "Fitting causal mechanism of node cso1: 100%|██████████| 17/17 [00:02<00:00,  7.17it/s]\n",
      "Evaluating set functions...: 100%|██████████| 208/208 [00:12<00:00, 16.43it/s]\n"
     ]
    },
    {
     "name": "stdout",
     "output_type": "stream",
     "text": [
      "ROOT CAUSE FOUND!\n",
      "bfo2-->bso1 | bfo2 | bso3\n",
      "Model Accuracy: 50.55%\n",
      "--------------------------------------------------------------------------------------------------------------------------------\n",
      "Model: 91\n",
      "Epoch 0, Loss: 0.0001\n",
      "Epoch 0: Average Loss = 222.3286, Best Loss = 222.3286\n",
      "Epoch 100: Average Loss = 36.6719, Best Loss = 36.5061\n",
      "Epoch 200: Average Loss = 28.1811, Best Loss = 28.1811\n",
      "Epoch 300: Average Loss = 25.3602, Best Loss = 24.6652\n",
      "Early stopping triggered after 312 epochs. Restoring best model.\n"
     ]
    },
    {
     "name": "stderr",
     "output_type": "stream",
     "text": [
      "Fitting causal mechanism of node cso1: 100%|██████████| 17/17 [00:00<00:00, 18.23it/s]\n",
      "Evaluating set functions...: 100%|██████████| 270/270 [00:23<00:00, 11.45it/s]\n"
     ]
    },
    {
     "name": "stdout",
     "output_type": "stream",
     "text": [
      "ROOT CAUSE FOUND!\n",
      "bed1-->bfo1 | bed1 | bso1\n",
      "Model Accuracy: 51.09%\n",
      "--------------------------------------------------------------------------------------------------------------------------------\n",
      "Model: 92\n",
      "Epoch 0, Loss: 0.0001\n",
      "Epoch 0: Average Loss = 170.9454, Best Loss = 170.9454\n",
      "Epoch 100: Average Loss = 37.2548, Best Loss = 37.2548\n",
      "Epoch 200: Average Loss = 35.8068, Best Loss = 35.8068\n",
      "Epoch 300: Average Loss = 35.5253, Best Loss = 35.4261\n",
      "Early stopping triggered after 314 epochs. Restoring best model.\n"
     ]
    },
    {
     "name": "stderr",
     "output_type": "stream",
     "text": [
      "Fitting causal mechanism of node cso1: 100%|██████████| 17/17 [00:02<00:00,  6.50it/s]\n",
      "Evaluating set functions...: 100%|██████████| 146/146 [00:04<00:00, 32.21it/s]\n"
     ]
    },
    {
     "name": "stdout",
     "output_type": "stream",
     "text": [
      "bed2-->bfo2 | bso1 | bso3\n",
      "Model Accuracy: 50.54%\n",
      "--------------------------------------------------------------------------------------------------------------------------------\n",
      "Model: 93\n",
      "Epoch 0, Loss: 0.0001\n",
      "Epoch 0: Average Loss = 182.0946, Best Loss = 182.0946\n",
      "Epoch 100: Average Loss = 35.6340, Best Loss = 35.5559\n",
      "Epoch 200: Average Loss = 29.7333, Best Loss = 29.6414\n",
      "Epoch 300: Average Loss = 27.3992, Best Loss = 27.3120\n",
      "Early stopping triggered after 363 epochs. Restoring best model.\n"
     ]
    },
    {
     "name": "stderr",
     "output_type": "stream",
     "text": [
      "Fitting causal mechanism of node cso1: 100%|██████████| 17/17 [00:01<00:00, 15.88it/s]\n",
      "Evaluating set functions...: 100%|██████████| 350/350 [00:31<00:00, 11.12it/s]\n"
     ]
    },
    {
     "name": "stdout",
     "output_type": "stream",
     "text": [
      "bso2-->bed1 | bfo2 | bfo1\n",
      "Model Accuracy: 50.0%\n",
      "--------------------------------------------------------------------------------------------------------------------------------\n",
      "Model: 94\n",
      "Epoch 0, Loss: 0.0001\n",
      "Epoch 0: Average Loss = 187.1137, Best Loss = 187.1137\n",
      "Epoch 100: Average Loss = 44.7136, Best Loss = 44.7136\n",
      "Epoch 200: Average Loss = 37.2767, Best Loss = 37.2767\n",
      "Epoch 300: Average Loss = 34.9460, Best Loss = 34.7494\n",
      "Epoch 400: Average Loss = 33.8176, Best Loss = 33.5964\n",
      "Early stopping triggered after 459 epochs. Restoring best model.\n"
     ]
    },
    {
     "name": "stderr",
     "output_type": "stream",
     "text": [
      "Fitting causal mechanism of node cso1: 100%|██████████| 17/17 [00:01<00:00, 11.00it/s]\n",
      "Evaluating set functions...: 100%|██████████| 32/32 [00:00<00:00, 31994.69it/s]\n"
     ]
    },
    {
     "name": "stdout",
     "output_type": "stream",
     "text": [
      "bso2-->bso1 | bfo2 | bed1\n",
      "Model Accuracy: 49.47%\n",
      "--------------------------------------------------------------------------------------------------------------------------------\n",
      "Model: 95\n",
      "Epoch 0, Loss: 0.0000\n",
      "Epoch 0: Average Loss = 161.2269, Best Loss = 161.2269\n",
      "Epoch 100: Average Loss = 38.3028, Best Loss = 38.3028\n",
      "Epoch 200: Average Loss = 34.3528, Best Loss = 34.2297\n",
      "Early stopping triggered after 244 epochs. Restoring best model.\n"
     ]
    },
    {
     "name": "stderr",
     "output_type": "stream",
     "text": [
      "Fitting causal mechanism of node cso1: 100%|██████████| 17/17 [00:01<00:00, 13.20it/s]\n",
      "Evaluating set functions...: 100%|██████████| 120/120 [00:02<00:00, 49.82it/s]\n"
     ]
    },
    {
     "name": "stdout",
     "output_type": "stream",
     "text": [
      "ROOT CAUSE FOUND!\n",
      "bed1-->bso1 | bed1 | bed2\n",
      "Model Accuracy: 50.0%\n",
      "--------------------------------------------------------------------------------------------------------------------------------\n",
      "Model: 96\n",
      "Epoch 0, Loss: 0.0001\n",
      "Epoch 0: Average Loss = 267.0857, Best Loss = 267.0857\n",
      "Epoch 100: Average Loss = 24.4329, Best Loss = 24.4329\n",
      "Epoch 200: Average Loss = 19.4795, Best Loss = 19.4281\n",
      "Epoch 300: Average Loss = 17.5867, Best Loss = 17.4297\n",
      "Early stopping triggered after 358 epochs. Restoring best model.\n"
     ]
    },
    {
     "name": "stderr",
     "output_type": "stream",
     "text": [
      "Fitting causal mechanism of node cso1: 100%|██████████| 17/17 [00:00<00:00, 22.10it/s]\n",
      "Evaluating set functions...: 100%|██████████| 113/113 [00:00<00:00, 621.57it/s]\n"
     ]
    },
    {
     "name": "stdout",
     "output_type": "stream",
     "text": [
      "bed2-->bfo2 | bed1 | bso3\n",
      "Model Accuracy: 49.48%\n",
      "--------------------------------------------------------------------------------------------------------------------------------\n",
      "Model: 97\n",
      "Epoch 0, Loss: 0.0000\n",
      "Epoch 0: Average Loss = 309.6043, Best Loss = 309.6043\n",
      "Epoch 100: Average Loss = 46.2011, Best Loss = 46.2011\n",
      "Epoch 200: Average Loss = 36.7589, Best Loss = 36.7589\n",
      "Epoch 300: Average Loss = 33.6529, Best Loss = 33.5421\n",
      "Epoch 400: Average Loss = 32.3312, Best Loss = 32.0683\n",
      "Early stopping triggered after 408 epochs. Restoring best model.\n"
     ]
    },
    {
     "name": "stderr",
     "output_type": "stream",
     "text": [
      "Fitting causal mechanism of node cso1: 100%|██████████| 17/17 [00:01<00:00, 13.20it/s]\n",
      "Evaluating set functions...: 100%|██████████| 215/215 [00:14<00:00, 14.92it/s]\n"
     ]
    },
    {
     "name": "stdout",
     "output_type": "stream",
     "text": [
      "bso3-->bfo2 | bfo1 | bso1\n",
      "Model Accuracy: 48.98%\n",
      "--------------------------------------------------------------------------------------------------------------------------------\n",
      "Model: 98\n",
      "Epoch 0, Loss: 0.0001\n",
      "Epoch 0: Average Loss = 283.6871, Best Loss = 283.6871\n",
      "Epoch 100: Average Loss = 34.2969, Best Loss = 34.2969\n",
      "Epoch 200: Average Loss = 30.4771, Best Loss = 30.4620\n",
      "Epoch 300: Average Loss = 29.3184, Best Loss = 29.3167\n",
      "Early stopping triggered after 351 epochs. Restoring best model.\n"
     ]
    },
    {
     "name": "stderr",
     "output_type": "stream",
     "text": [
      "Fitting causal mechanism of node cso1: 100%|██████████| 17/17 [00:02<00:00,  6.26it/s]\n",
      "Evaluating set functions...: 100%|██████████| 153/153 [00:06<00:00, 24.17it/s]\n"
     ]
    },
    {
     "name": "stdout",
     "output_type": "stream",
     "text": [
      "ROOT CAUSE FOUND!\n",
      "bso3-->bso1 | bso3 | bfo1\n",
      "Model Accuracy: 49.49%\n",
      "--------------------------------------------------------------------------------------------------------------------------------\n",
      "Model: 99\n",
      "Epoch 0, Loss: 0.0000\n",
      "Epoch 0: Average Loss = 243.3213, Best Loss = 243.3213\n",
      "Epoch 100: Average Loss = 42.8757, Best Loss = 42.8757\n",
      "Epoch 200: Average Loss = 38.1589, Best Loss = 37.9292\n",
      "Epoch 300: Average Loss = 36.1423, Best Loss = 36.0494\n",
      "Early stopping triggered after 339 epochs. Restoring best model.\n"
     ]
    },
    {
     "name": "stderr",
     "output_type": "stream",
     "text": [
      "Fitting causal mechanism of node cso1: 100%|██████████| 17/17 [00:01<00:00, 11.01it/s]\n",
      "Evaluating set functions...: 100%|██████████| 90/90 [00:00<00:00, 341.10it/s]\n"
     ]
    },
    {
     "name": "stdout",
     "output_type": "stream",
     "text": [
      "ROOT CAUSE FOUND!\n",
      "bfo1-->bfo1 | bfo2 | bso3\n",
      "Model Accuracy: 50.0%\n",
      "--------------------------------------------------------------------------------------------------------------------------------\n",
      "Model: 100\n",
      "Epoch 0, Loss: 0.0001\n",
      "Epoch 0: Average Loss = 223.9654, Best Loss = 223.9654\n",
      "Epoch 100: Average Loss = 34.5860, Best Loss = 34.5860\n",
      "Epoch 200: Average Loss = 32.8612, Best Loss = 32.8221\n",
      "Epoch 300: Average Loss = 32.4495, Best Loss = 32.4418\n",
      "Epoch 400: Average Loss = 32.3756, Best Loss = 32.3012\n",
      "Early stopping triggered after 401 epochs. Restoring best model.\n"
     ]
    },
    {
     "name": "stderr",
     "output_type": "stream",
     "text": [
      "Fitting causal mechanism of node cso1: 100%|██████████| 17/17 [00:02<00:00,  6.64it/s]\n",
      "Evaluating set functions...: 100%|██████████| 117/117 [00:00<00:00, 596.79it/s]\n"
     ]
    },
    {
     "name": "stdout",
     "output_type": "stream",
     "text": [
      "bfo2-->bso1 | bso3 | bfo1\n",
      "Model Accuracy: 49.5%\n",
      "--------------------------------------------------------------------------------------------------------------------------------\n",
      "Model: 101\n",
      "Epoch 0, Loss: 0.0001\n",
      "Epoch 0: Average Loss = 237.3954, Best Loss = 237.3954\n",
      "Epoch 100: Average Loss = 33.3446, Best Loss = 33.3446\n",
      "Epoch 200: Average Loss = 31.6618, Best Loss = 31.6113\n",
      "Early stopping triggered after 277 epochs. Restoring best model.\n"
     ]
    },
    {
     "name": "stderr",
     "output_type": "stream",
     "text": [
      "Fitting causal mechanism of node cso1: 100%|██████████| 17/17 [00:02<00:00,  5.92it/s]\n",
      "Evaluating set functions...: 100%|██████████| 209/209 [00:16<00:00, 12.45it/s]\n"
     ]
    },
    {
     "name": "stdout",
     "output_type": "stream",
     "text": [
      "bso2-->bso3 | bfo2 | bfo1\n",
      "Model Accuracy: 49.02%\n",
      "--------------------------------------------------------------------------------------------------------------------------------\n",
      "Model: 102\n",
      "Epoch 0, Loss: 0.0001\n",
      "Epoch 0: Average Loss = 266.9611, Best Loss = 266.9611\n",
      "Epoch 100: Average Loss = 36.1624, Best Loss = 36.0497\n",
      "Epoch 200: Average Loss = 29.8289, Best Loss = 29.8289\n",
      "Epoch 300: Average Loss = 27.5140, Best Loss = 27.5140\n",
      "Early stopping triggered after 331 epochs. Restoring best model.\n"
     ]
    },
    {
     "name": "stderr",
     "output_type": "stream",
     "text": [
      "Fitting causal mechanism of node cso1: 100%|██████████| 17/17 [00:01<00:00, 10.78it/s]\n",
      "Evaluating set functions...: 100%|██████████| 112/112 [00:01<00:00, 57.40it/s]\n"
     ]
    },
    {
     "name": "stdout",
     "output_type": "stream",
     "text": [
      "ROOT CAUSE FOUND!\n",
      "bfo2-->bfo2 | bso3 | bso1\n",
      "Model Accuracy: 49.51%\n",
      "--------------------------------------------------------------------------------------------------------------------------------\n",
      "Model: 103\n",
      "Epoch 0, Loss: 0.0001\n",
      "Epoch 0: Average Loss = 210.9121, Best Loss = 210.9121\n",
      "Epoch 100: Average Loss = 37.5844, Best Loss = 37.5844\n",
      "Epoch 200: Average Loss = 33.5929, Best Loss = 33.3169\n",
      "Early stopping triggered after 273 epochs. Restoring best model.\n"
     ]
    },
    {
     "name": "stderr",
     "output_type": "stream",
     "text": [
      "Fitting causal mechanism of node cso1: 100%|██████████| 17/17 [00:02<00:00,  7.04it/s]\n",
      "Evaluating set functions...: 100%|██████████| 372/372 [01:01<00:00,  6.05it/s]\n"
     ]
    },
    {
     "name": "stdout",
     "output_type": "stream",
     "text": [
      "ROOT CAUSE FOUND!\n",
      "bso1-->bso3 | bfo1 | bso1\n",
      "Model Accuracy: 50.0%\n",
      "--------------------------------------------------------------------------------------------------------------------------------\n",
      "Model: 104\n",
      "Epoch 0, Loss: 0.0001\n",
      "Epoch 0: Average Loss = 147.9468, Best Loss = 147.9468\n",
      "Epoch 100: Average Loss = 32.0618, Best Loss = 32.0618\n",
      "Early stopping triggered after 190 epochs. Restoring best model.\n"
     ]
    },
    {
     "name": "stderr",
     "output_type": "stream",
     "text": [
      "Fitting causal mechanism of node cso1: 100%|██████████| 17/17 [00:03<00:00,  5.66it/s]\n",
      "Evaluating set functions...: 100%|██████████| 117/117 [00:03<00:00, 37.71it/s]\n"
     ]
    },
    {
     "name": "stdout",
     "output_type": "stream",
     "text": [
      "ROOT CAUSE FOUND!\n",
      "bfo1-->bfo1 | bso1 | bfo2\n",
      "Model Accuracy: 50.48%\n",
      "--------------------------------------------------------------------------------------------------------------------------------\n",
      "Model: 105\n",
      "Epoch 0, Loss: 0.0001\n",
      "Epoch 0: Average Loss = 183.6319, Best Loss = 183.6319\n",
      "Epoch 100: Average Loss = 31.8766, Best Loss = 31.8535\n",
      "Epoch 200: Average Loss = 30.5908, Best Loss = 30.5167\n",
      "Early stopping triggered after 229 epochs. Restoring best model.\n"
     ]
    },
    {
     "name": "stderr",
     "output_type": "stream",
     "text": [
      "Fitting causal mechanism of node cso1: 100%|██████████| 17/17 [00:02<00:00,  5.98it/s]\n",
      "Evaluating set functions...: 100%|██████████| 180/180 [00:09<00:00, 18.19it/s]\n"
     ]
    },
    {
     "name": "stdout",
     "output_type": "stream",
     "text": [
      "bed2-->bfo2 | bso3 | bso1\n",
      "Model Accuracy: 50.0%\n",
      "--------------------------------------------------------------------------------------------------------------------------------\n",
      "Model: 106\n",
      "Epoch 0, Loss: 0.0000\n",
      "Epoch 0: Average Loss = 209.8954, Best Loss = 209.8954\n",
      "Epoch 100: Average Loss = 45.8246, Best Loss = 45.0810\n",
      "Epoch 200: Average Loss = 38.0015, Best Loss = 37.0963\n",
      "Epoch 300: Average Loss = 33.9373, Best Loss = 33.9373\n",
      "Early stopping triggered after 316 epochs. Restoring best model.\n"
     ]
    },
    {
     "name": "stderr",
     "output_type": "stream",
     "text": [
      "Fitting causal mechanism of node cso1: 100%|██████████| 17/17 [00:01<00:00, 14.04it/s]\n",
      "Evaluating set functions...: 100%|██████████| 86/86 [00:00<00:00, 456.41it/s]\n"
     ]
    },
    {
     "name": "stdout",
     "output_type": "stream",
     "text": [
      "bed2-->bso1 | bed1 | bfo1\n",
      "Model Accuracy: 49.53%\n",
      "--------------------------------------------------------------------------------------------------------------------------------\n",
      "Model: 107\n",
      "Epoch 0, Loss: 0.0000\n",
      "Epoch 0: Average Loss = 206.8405, Best Loss = 206.8405\n",
      "Epoch 100: Average Loss = 41.2111, Best Loss = 41.2111\n",
      "Epoch 200: Average Loss = 35.8767, Best Loss = 35.8286\n",
      "Epoch 300: Average Loss = 34.2142, Best Loss = 33.9563\n",
      "Early stopping triggered after 319 epochs. Restoring best model.\n"
     ]
    },
    {
     "name": "stderr",
     "output_type": "stream",
     "text": [
      "Fitting causal mechanism of node cso1: 100%|██████████| 17/17 [00:01<00:00, 13.85it/s]\n",
      "Evaluating set functions...: 100%|██████████| 348/348 [00:33<00:00, 10.51it/s]\n"
     ]
    },
    {
     "name": "stdout",
     "output_type": "stream",
     "text": [
      "ROOT CAUSE FOUND!\n",
      "bfo1-->bfo1 | bso3 | bso1\n",
      "Model Accuracy: 50.0%\n",
      "--------------------------------------------------------------------------------------------------------------------------------\n",
      "Model: 108\n",
      "Epoch 0, Loss: 0.0000\n",
      "Epoch 0: Average Loss = 294.5856, Best Loss = 294.5856\n",
      "Epoch 100: Average Loss = 36.3246, Best Loss = 36.3246\n",
      "Epoch 200: Average Loss = 27.2674, Best Loss = 26.9090\n",
      "Epoch 300: Average Loss = 23.7477, Best Loss = 23.7019\n",
      "Epoch 400: Average Loss = 21.9690, Best Loss = 21.7888\n",
      "Early stopping triggered after 479 epochs. Restoring best model.\n"
     ]
    },
    {
     "name": "stderr",
     "output_type": "stream",
     "text": [
      "Fitting causal mechanism of node cso1: 100%|██████████| 17/17 [00:01<00:00, 15.76it/s]\n",
      "Evaluating set functions...: 100%|██████████| 207/207 [00:13<00:00, 15.15it/s]\n"
     ]
    },
    {
     "name": "stdout",
     "output_type": "stream",
     "text": [
      "ROOT CAUSE FOUND!\n",
      "bso1-->bfo1 | bso3 | bso1\n",
      "Model Accuracy: 50.46%\n",
      "--------------------------------------------------------------------------------------------------------------------------------\n",
      "Model: 109\n",
      "Epoch 0, Loss: 0.0001\n",
      "Epoch 0: Average Loss = 242.8894, Best Loss = 242.8894\n",
      "Epoch 100: Average Loss = 33.0543, Best Loss = 33.0543\n",
      "Epoch 200: Average Loss = 27.3326, Best Loss = 27.3326\n",
      "Epoch 300: Average Loss = 25.6428, Best Loss = 25.2720\n",
      "Early stopping triggered after 319 epochs. Restoring best model.\n"
     ]
    },
    {
     "name": "stderr",
     "output_type": "stream",
     "text": [
      "Fitting causal mechanism of node cso1: 100%|██████████| 17/17 [00:01<00:00, 12.91it/s]\n",
      "Evaluating set functions...: 100%|██████████| 321/321 [00:38<00:00,  8.42it/s]\n"
     ]
    },
    {
     "name": "stdout",
     "output_type": "stream",
     "text": [
      "bed2-->bso1 | bfo2 | bso3\n",
      "Model Accuracy: 50.0%\n",
      "--------------------------------------------------------------------------------------------------------------------------------\n",
      "Model: 110\n",
      "Epoch 0, Loss: 0.0000\n",
      "Epoch 0: Average Loss = 248.0800, Best Loss = 248.0800\n",
      "Epoch 100: Average Loss = 36.5580, Best Loss = 36.5580\n",
      "Epoch 200: Average Loss = 31.3597, Best Loss = 31.3048\n",
      "Epoch 300: Average Loss = 29.2501, Best Loss = 29.1499\n",
      "Epoch 400: Average Loss = 28.1746, Best Loss = 28.0245\n",
      "Early stopping triggered after 497 epochs. Restoring best model.\n"
     ]
    },
    {
     "name": "stderr",
     "output_type": "stream",
     "text": [
      "Fitting causal mechanism of node cso1: 100%|██████████| 17/17 [00:01<00:00, 13.85it/s]\n",
      "Evaluating set functions...: 100%|██████████| 146/146 [00:06<00:00, 23.88it/s]\n"
     ]
    },
    {
     "name": "stdout",
     "output_type": "stream",
     "text": [
      "ROOT CAUSE FOUND!\n",
      "bfo1-->bfo1 | bso1 | bfo2\n",
      "Model Accuracy: 50.45%\n",
      "--------------------------------------------------------------------------------------------------------------------------------\n",
      "Model: 111\n",
      "Epoch 0, Loss: 0.0001\n",
      "Epoch 0: Average Loss = 292.9736, Best Loss = 292.9736\n",
      "Epoch 100: Average Loss = 45.6380, Best Loss = 45.6380\n",
      "Epoch 200: Average Loss = 38.5282, Best Loss = 38.4900\n",
      "Epoch 300: Average Loss = 36.3924, Best Loss = 35.9186\n",
      "Early stopping triggered after 387 epochs. Restoring best model.\n"
     ]
    },
    {
     "name": "stderr",
     "output_type": "stream",
     "text": [
      "Fitting causal mechanism of node cso1: 100%|██████████| 17/17 [00:01<00:00, 13.24it/s]\n",
      "Evaluating set functions...: 100%|██████████| 121/121 [00:01<00:00, 65.20it/s]\n"
     ]
    },
    {
     "name": "stdout",
     "output_type": "stream",
     "text": [
      "ROOT CAUSE FOUND!\n",
      "bed1-->bso1 | bfo2 | bed1\n",
      "Model Accuracy: 50.89%\n",
      "--------------------------------------------------------------------------------------------------------------------------------\n",
      "Model: 112\n",
      "Epoch 0, Loss: 0.0001\n",
      "Epoch 0: Average Loss = 202.1014, Best Loss = 202.1014\n",
      "Epoch 100: Average Loss = 34.1974, Best Loss = 34.0961\n",
      "Epoch 200: Average Loss = 33.2389, Best Loss = 33.0706\n",
      "Early stopping triggered after 211 epochs. Restoring best model.\n"
     ]
    },
    {
     "name": "stderr",
     "output_type": "stream",
     "text": [
      "Fitting causal mechanism of node cso1: 100%|██████████| 17/17 [00:02<00:00,  6.20it/s]\n",
      "Evaluating set functions...: 100%|██████████| 117/117 [00:02<00:00, 45.86it/s]\n"
     ]
    },
    {
     "name": "stdout",
     "output_type": "stream",
     "text": [
      "ROOT CAUSE FOUND!\n",
      "bso1-->bso1 | bso3 | bfo2\n",
      "Model Accuracy: 51.33%\n",
      "--------------------------------------------------------------------------------------------------------------------------------\n",
      "Model: 113\n",
      "Epoch 0, Loss: 0.0000\n",
      "Epoch 0: Average Loss = 210.8411, Best Loss = 210.8411\n",
      "Epoch 100: Average Loss = 42.2485, Best Loss = 42.2485\n",
      "Epoch 200: Average Loss = 34.9803, Best Loss = 34.7631\n",
      "Early stopping triggered after 236 epochs. Restoring best model.\n"
     ]
    },
    {
     "name": "stderr",
     "output_type": "stream",
     "text": [
      "Fitting causal mechanism of node cso1: 100%|██████████| 17/17 [00:01<00:00, 15.63it/s]\n",
      "Evaluating set functions...: 100%|██████████| 373/373 [00:48<00:00,  7.64it/s]\n"
     ]
    },
    {
     "name": "stdout",
     "output_type": "stream",
     "text": [
      "ROOT CAUSE FOUND!\n",
      "bso1-->bso1 | bfo2 | bfo1\n",
      "Model Accuracy: 51.75%\n",
      "--------------------------------------------------------------------------------------------------------------------------------\n",
      "Model: 114\n",
      "Epoch 0, Loss: 0.0000\n",
      "Epoch 0: Average Loss = 253.1732, Best Loss = 253.1732\n",
      "Epoch 100: Average Loss = 45.1528, Best Loss = 45.1528\n",
      "Epoch 200: Average Loss = 37.5149, Best Loss = 37.4911\n",
      "Early stopping triggered after 280 epochs. Restoring best model.\n"
     ]
    },
    {
     "name": "stderr",
     "output_type": "stream",
     "text": [
      "Fitting causal mechanism of node cso1: 100%|██████████| 17/17 [00:01<00:00, 15.55it/s]\n",
      "Evaluating set functions...: 100%|██████████| 378/378 [00:51<00:00,  7.36it/s]\n"
     ]
    },
    {
     "name": "stdout",
     "output_type": "stream",
     "text": [
      "bso2-->bso1 | bfo1 | bfo2\n",
      "Model Accuracy: 51.3%\n",
      "--------------------------------------------------------------------------------------------------------------------------------\n",
      "Model: 115\n",
      "Epoch 0, Loss: 0.0001\n",
      "Epoch 0: Average Loss = 174.4042, Best Loss = 174.4042\n",
      "Epoch 100: Average Loss = 33.0084, Best Loss = 33.0084\n",
      "Epoch 200: Average Loss = 31.7917, Best Loss = 31.7317\n",
      "Early stopping triggered after 254 epochs. Restoring best model.\n"
     ]
    },
    {
     "name": "stderr",
     "output_type": "stream",
     "text": [
      "Fitting causal mechanism of node cso1: 100%|██████████| 17/17 [00:02<00:00,  6.70it/s]\n",
      "Evaluating set functions...: 100%|██████████| 149/149 [00:05<00:00, 26.68it/s]\n"
     ]
    },
    {
     "name": "stdout",
     "output_type": "stream",
     "text": [
      "bed2-->bfo2 | bed1 | bfo1\n",
      "Model Accuracy: 50.86%\n",
      "--------------------------------------------------------------------------------------------------------------------------------\n",
      "Model: 116\n",
      "Epoch 0, Loss: 0.0001\n",
      "Epoch 0: Average Loss = 219.0173, Best Loss = 219.0173\n",
      "Epoch 100: Average Loss = 27.4557, Best Loss = 27.4557\n",
      "Epoch 200: Average Loss = 24.9123, Best Loss = 24.8637\n",
      "Early stopping triggered after 276 epochs. Restoring best model.\n"
     ]
    },
    {
     "name": "stderr",
     "output_type": "stream",
     "text": [
      "Fitting causal mechanism of node cso1: 100%|██████████| 17/17 [00:02<00:00,  6.88it/s]\n",
      "Evaluating set functions...: 100%|██████████| 53/53 [00:00<00:00, 26501.92it/s]\n"
     ]
    },
    {
     "name": "stdout",
     "output_type": "stream",
     "text": [
      "ROOT CAUSE FOUND!\n",
      "bfo2-->bfo2 | bso3 | bed1\n",
      "Model Accuracy: 51.28%\n",
      "--------------------------------------------------------------------------------------------------------------------------------\n",
      "Model: 117\n",
      "Epoch 0, Loss: 0.0000\n",
      "Epoch 0: Average Loss = 265.4889, Best Loss = 265.4889\n",
      "Epoch 100: Average Loss = 44.5307, Best Loss = 44.4825\n",
      "Epoch 200: Average Loss = 34.3193, Best Loss = 34.1992\n",
      "Epoch 300: Average Loss = 30.5054, Best Loss = 30.1524\n",
      "Early stopping triggered after 350 epochs. Restoring best model.\n"
     ]
    },
    {
     "name": "stderr",
     "output_type": "stream",
     "text": [
      "Fitting causal mechanism of node cso1: 100%|██████████| 17/17 [00:00<00:00, 17.86it/s]\n",
      "Evaluating set functions...: 100%|██████████| 32/32 [00:00<00:00, 15999.25it/s]\n"
     ]
    },
    {
     "name": "stdout",
     "output_type": "stream",
     "text": [
      "ROOT CAUSE FOUND!\n",
      "bso1-->bso1 | bfo2 | bed1\n",
      "Model Accuracy: 51.69%\n",
      "--------------------------------------------------------------------------------------------------------------------------------\n",
      "Model: 118\n",
      "Epoch 0, Loss: 0.0001\n",
      "Epoch 0: Average Loss = 202.7486, Best Loss = 202.7486\n",
      "Epoch 100: Average Loss = 33.3536, Best Loss = 33.3309\n",
      "Epoch 200: Average Loss = 30.1371, Best Loss = 29.9666\n",
      "Early stopping triggered after 289 epochs. Restoring best model.\n"
     ]
    },
    {
     "name": "stderr",
     "output_type": "stream",
     "text": [
      "Fitting causal mechanism of node cso1: 100%|██████████| 17/17 [00:02<00:00,  8.40it/s]\n",
      "Evaluating set functions...: 100%|██████████| 113/113 [00:03<00:00, 37.53it/s]\n"
     ]
    },
    {
     "name": "stdout",
     "output_type": "stream",
     "text": [
      "ROOT CAUSE FOUND!\n",
      "bed1-->bso1 | bed1 | bfo2\n",
      "Model Accuracy: 52.1%\n",
      "--------------------------------------------------------------------------------------------------------------------------------\n",
      "Model: 119\n",
      "Epoch 0, Loss: 0.0001\n",
      "Epoch 0: Average Loss = 191.7279, Best Loss = 191.7279\n",
      "Epoch 100: Average Loss = 29.2226, Best Loss = 29.2226\n",
      "Epoch 200: Average Loss = 23.5456, Best Loss = 23.5456\n",
      "Epoch 300: Average Loss = 21.4816, Best Loss = 21.4816\n",
      "Epoch 400: Average Loss = 20.5582, Best Loss = 20.5049\n",
      "Early stopping triggered after 456 epochs. Restoring best model.\n"
     ]
    },
    {
     "name": "stderr",
     "output_type": "stream",
     "text": [
      "Fitting causal mechanism of node cso1: 100%|██████████| 17/17 [00:01<00:00, 12.18it/s]\n",
      "Evaluating set functions...: 100%|██████████| 291/291 [00:27<00:00, 10.61it/s]\n"
     ]
    },
    {
     "name": "stdout",
     "output_type": "stream",
     "text": [
      "ROOT CAUSE FOUND!\n",
      "bso3-->bfo1 | bso3 | bfo2\n",
      "Model Accuracy: 52.5%\n",
      "--------------------------------------------------------------------------------------------------------------------------------\n",
      "Model: 120\n",
      "Epoch 0, Loss: 0.0000\n",
      "Epoch 0: Average Loss = 201.6445, Best Loss = 201.6445\n",
      "Epoch 100: Average Loss = 42.6943, Best Loss = 42.6277\n",
      "Epoch 200: Average Loss = 34.3513, Best Loss = 34.2941\n",
      "Epoch 300: Average Loss = 31.2530, Best Loss = 31.2530\n",
      "Early stopping triggered after 383 epochs. Restoring best model.\n"
     ]
    },
    {
     "name": "stderr",
     "output_type": "stream",
     "text": [
      "Fitting causal mechanism of node cso1: 100%|██████████| 17/17 [00:01<00:00, 13.99it/s]\n",
      "Evaluating set functions...: 100%|██████████| 270/270 [00:20<00:00, 13.07it/s]\n"
     ]
    },
    {
     "name": "stdout",
     "output_type": "stream",
     "text": [
      "bed2-->bso3 | bed1 | bso2\n",
      "Model Accuracy: 52.07%\n",
      "--------------------------------------------------------------------------------------------------------------------------------\n",
      "Model: 121\n",
      "Epoch 0, Loss: 0.0000\n",
      "Epoch 0: Average Loss = 218.6332, Best Loss = 218.6332\n",
      "Epoch 100: Average Loss = 37.4077, Best Loss = 37.4077\n",
      "Epoch 200: Average Loss = 34.6056, Best Loss = 34.4186\n",
      "Epoch 300: Average Loss = 33.5048, Best Loss = 33.2442\n",
      "Early stopping triggered after 308 epochs. Restoring best model.\n"
     ]
    },
    {
     "name": "stderr",
     "output_type": "stream",
     "text": [
      "Fitting causal mechanism of node cso1: 100%|██████████| 17/17 [00:02<00:00,  8.41it/s]\n",
      "Evaluating set functions...: 100%|██████████| 79/79 [00:00<00:00, 283.47it/s]\n"
     ]
    },
    {
     "name": "stdout",
     "output_type": "stream",
     "text": [
      "ROOT CAUSE FOUND!\n",
      "bed2-->bso1 | bfo2 | bed2\n",
      "Model Accuracy: 52.46%\n",
      "--------------------------------------------------------------------------------------------------------------------------------\n",
      "Model: 122\n",
      "Epoch 0, Loss: 0.0000\n",
      "Epoch 0: Average Loss = 276.2987, Best Loss = 276.2987\n",
      "Epoch 100: Average Loss = 43.6411, Best Loss = 43.4612\n",
      "Epoch 200: Average Loss = 37.1107, Best Loss = 37.1107\n",
      "Epoch 300: Average Loss = 35.0205, Best Loss = 34.9255\n",
      "Epoch 400: Average Loss = 33.8224, Best Loss = 33.8026\n",
      "Early stopping triggered after 474 epochs. Restoring best model.\n"
     ]
    },
    {
     "name": "stderr",
     "output_type": "stream",
     "text": [
      "Fitting causal mechanism of node cso1: 100%|██████████| 17/17 [00:01<00:00, 11.76it/s]\n",
      "Evaluating set functions...: 100%|██████████| 267/267 [00:26<00:00, 10.11it/s]\n"
     ]
    },
    {
     "name": "stdout",
     "output_type": "stream",
     "text": [
      "ROOT CAUSE FOUND!\n",
      "bso3-->bfo2 | bso3 | bed1\n",
      "Model Accuracy: 52.85%\n",
      "--------------------------------------------------------------------------------------------------------------------------------\n",
      "Model: 123\n",
      "Epoch 0, Loss: 0.0000\n",
      "Epoch 0: Average Loss = 214.6225, Best Loss = 214.6225\n",
      "Epoch 100: Average Loss = 41.6304, Best Loss = 41.6304\n",
      "Epoch 200: Average Loss = 35.7096, Best Loss = 35.4816\n",
      "Epoch 300: Average Loss = 33.4946, Best Loss = 33.3434\n",
      "Early stopping triggered after 329 epochs. Restoring best model.\n"
     ]
    },
    {
     "name": "stderr",
     "output_type": "stream",
     "text": [
      "Fitting causal mechanism of node cso1: 100%|██████████| 17/17 [00:01<00:00,  9.74it/s]\n",
      "Evaluating set functions...: 100%|██████████| 322/322 [00:39<00:00,  8.13it/s]\n"
     ]
    },
    {
     "name": "stdout",
     "output_type": "stream",
     "text": [
      "ROOT CAUSE FOUND!\n",
      "bfo2-->bfo2 | bso1 | bso3\n",
      "Model Accuracy: 53.23%\n",
      "--------------------------------------------------------------------------------------------------------------------------------\n",
      "Model: 124\n",
      "Epoch 0, Loss: 0.0001\n",
      "Epoch 0: Average Loss = 224.4409, Best Loss = 224.4409\n",
      "Epoch 100: Average Loss = 37.4951, Best Loss = 37.2513\n",
      "Epoch 200: Average Loss = 34.6881, Best Loss = 34.6017\n",
      "Early stopping triggered after 217 epochs. Restoring best model.\n"
     ]
    },
    {
     "name": "stderr",
     "output_type": "stream",
     "text": [
      "Fitting causal mechanism of node cso1: 100%|██████████| 17/17 [00:02<00:00,  7.23it/s]\n",
      "Evaluating set functions...: 100%|██████████| 377/377 [00:57<00:00,  6.56it/s]\n"
     ]
    },
    {
     "name": "stdout",
     "output_type": "stream",
     "text": [
      "ROOT CAUSE FOUND!\n",
      "bfo1-->bfo2 | bso1 | bfo1\n",
      "Model Accuracy: 53.6%\n",
      "--------------------------------------------------------------------------------------------------------------------------------\n",
      "Model: 125\n",
      "Epoch 0, Loss: 0.0000\n",
      "Epoch 0: Average Loss = 241.3902, Best Loss = 241.3902\n",
      "Epoch 100: Average Loss = 40.6982, Best Loss = 40.6835\n",
      "Epoch 200: Average Loss = 34.8420, Best Loss = 34.8263\n",
      "Early stopping triggered after 291 epochs. Restoring best model.\n"
     ]
    },
    {
     "name": "stderr",
     "output_type": "stream",
     "text": [
      "Fitting causal mechanism of node cso1: 100%|██████████| 17/17 [00:01<00:00, 11.43it/s]\n",
      "Evaluating set functions...: 100%|██████████| 239/239 [00:19<00:00, 12.01it/s]\n"
     ]
    },
    {
     "name": "stdout",
     "output_type": "stream",
     "text": [
      "bed1-->bfo1 | bso3 | bfo2\n",
      "Model Accuracy: 53.17%\n",
      "--------------------------------------------------------------------------------------------------------------------------------\n",
      "Model: 126\n",
      "Epoch 0, Loss: 0.0000\n",
      "Epoch 0: Average Loss = 219.8019, Best Loss = 219.8019\n",
      "Epoch 100: Average Loss = 39.8892, Best Loss = 39.8429\n",
      "Epoch 200: Average Loss = 35.3285, Best Loss = 34.9952\n",
      "Early stopping triggered after 275 epochs. Restoring best model.\n"
     ]
    },
    {
     "name": "stderr",
     "output_type": "stream",
     "text": [
      "Fitting causal mechanism of node cso1: 100%|██████████| 17/17 [00:01<00:00,  9.49it/s]\n",
      "Evaluating set functions...: 100%|██████████| 88/88 [00:00<00:00, 312.23it/s]\n"
     ]
    },
    {
     "name": "stdout",
     "output_type": "stream",
     "text": [
      "bfo2-->bso1 | bso3 | bed2\n",
      "Model Accuracy: 52.76%\n",
      "--------------------------------------------------------------------------------------------------------------------------------\n",
      "Model: 127\n",
      "Epoch 0, Loss: 0.0001\n",
      "Epoch 0: Average Loss = 216.8478, Best Loss = 216.8478\n",
      "Epoch 100: Average Loss = 35.4699, Best Loss = 35.3306\n",
      "Epoch 200: Average Loss = 29.2414, Best Loss = 29.2414\n",
      "Epoch 300: Average Loss = 27.4210, Best Loss = 27.4119\n",
      "Early stopping triggered after 318 epochs. Restoring best model.\n"
     ]
    },
    {
     "name": "stderr",
     "output_type": "stream",
     "text": [
      "Fitting causal mechanism of node cso1: 100%|██████████| 17/17 [00:01<00:00, 13.54it/s]\n",
      "Evaluating set functions...: 100%|██████████| 349/349 [00:34<00:00,  9.98it/s]\n"
     ]
    },
    {
     "name": "stdout",
     "output_type": "stream",
     "text": [
      "ROOT CAUSE FOUND!\n",
      "bso3-->bso3 | bed1 | bfo2\n",
      "Model Accuracy: 53.12%\n",
      "--------------------------------------------------------------------------------------------------------------------------------\n",
      "Model: 128\n",
      "Epoch 0, Loss: 0.0000\n",
      "Epoch 0: Average Loss = 207.0189, Best Loss = 207.0189\n",
      "Epoch 100: Average Loss = 40.9427, Best Loss = 40.6108\n",
      "Epoch 200: Average Loss = 34.7580, Best Loss = 34.7580\n",
      "Epoch 300: Average Loss = 32.5662, Best Loss = 32.5662\n",
      "Early stopping triggered after 361 epochs. Restoring best model.\n"
     ]
    },
    {
     "name": "stderr",
     "output_type": "stream",
     "text": [
      "Fitting causal mechanism of node cso1: 100%|██████████| 17/17 [00:01<00:00, 14.39it/s]\n",
      "Evaluating set functions...: 100%|██████████| 326/326 [00:31<00:00, 10.36it/s]\n"
     ]
    },
    {
     "name": "stdout",
     "output_type": "stream",
     "text": [
      "bso2-->bso3 | bed2 | bfo2\n",
      "Model Accuracy: 52.71%\n",
      "--------------------------------------------------------------------------------------------------------------------------------\n",
      "Model: 129\n",
      "Epoch 0, Loss: 0.0001\n",
      "Epoch 0: Average Loss = 196.5964, Best Loss = 196.5964\n",
      "Epoch 100: Average Loss = 47.2947, Best Loss = 47.1763\n",
      "Epoch 200: Average Loss = 38.9205, Best Loss = 38.9205\n",
      "Early stopping triggered after 287 epochs. Restoring best model.\n"
     ]
    },
    {
     "name": "stderr",
     "output_type": "stream",
     "text": [
      "Fitting causal mechanism of node cso1: 100%|██████████| 17/17 [00:00<00:00, 22.79it/s]\n",
      "Evaluating set functions...: 100%|██████████| 179/179 [00:06<00:00, 27.24it/s]\n"
     ]
    },
    {
     "name": "stdout",
     "output_type": "stream",
     "text": [
      "ROOT CAUSE FOUND!\n",
      "bfo1-->bso1 | bso3 | bfo1\n",
      "Model Accuracy: 53.08%\n",
      "--------------------------------------------------------------------------------------------------------------------------------\n",
      "Model: 130\n",
      "Epoch 0, Loss: 0.0000\n",
      "Epoch 0: Average Loss = 255.7455, Best Loss = 255.7455\n",
      "Epoch 100: Average Loss = 38.2173, Best Loss = 38.2173\n",
      "Epoch 200: Average Loss = 29.0096, Best Loss = 28.8727\n",
      "Epoch 300: Average Loss = 25.2947, Best Loss = 25.1779\n",
      "Early stopping triggered after 394 epochs. Restoring best model.\n"
     ]
    },
    {
     "name": "stderr",
     "output_type": "stream",
     "text": [
      "Fitting causal mechanism of node cso1: 100%|██████████| 17/17 [00:01<00:00, 15.94it/s]\n",
      "Evaluating set functions...: 100%|██████████| 149/149 [00:02<00:00, 64.31it/s]\n"
     ]
    },
    {
     "name": "stdout",
     "output_type": "stream",
     "text": [
      "bfo2-->bso3 | bfo1 | bed2\n",
      "Model Accuracy: 52.67%\n",
      "--------------------------------------------------------------------------------------------------------------------------------\n",
      "Model: 131\n",
      "Epoch 0, Loss: 0.0001\n",
      "Epoch 0: Average Loss = 278.1441, Best Loss = 278.1441\n",
      "Epoch 100: Average Loss = 41.4713, Best Loss = 41.4713\n",
      "Epoch 200: Average Loss = 33.7899, Best Loss = 33.7672\n",
      "Epoch 300: Average Loss = 31.5128, Best Loss = 31.1668\n",
      "Epoch 400: Average Loss = 30.5637, Best Loss = 30.1848\n",
      "Early stopping triggered after 424 epochs. Restoring best model.\n"
     ]
    },
    {
     "name": "stderr",
     "output_type": "stream",
     "text": [
      "Fitting causal mechanism of node cso1: 100%|██████████| 17/17 [00:02<00:00,  7.99it/s]\n",
      "Evaluating set functions...: 100%|██████████| 52/52 [00:00<00:00, 25995.69it/s]\n"
     ]
    },
    {
     "name": "stdout",
     "output_type": "stream",
     "text": [
      "ROOT CAUSE FOUND!\n",
      "bso1-->bso1 | bso3 | bed2\n",
      "Model Accuracy: 53.03%\n",
      "--------------------------------------------------------------------------------------------------------------------------------\n",
      "Model: 132\n",
      "Epoch 0, Loss: 0.0001\n",
      "Epoch 0: Average Loss = 191.0320, Best Loss = 191.0320\n",
      "Epoch 100: Average Loss = 26.0457, Best Loss = 25.9878\n",
      "Epoch 200: Average Loss = 24.2005, Best Loss = 24.1019\n",
      "Epoch 300: Average Loss = 23.6184, Best Loss = 23.5045\n",
      "Early stopping triggered after 300 epochs. Restoring best model.\n"
     ]
    },
    {
     "name": "stderr",
     "output_type": "stream",
     "text": [
      "Fitting causal mechanism of node cso1: 100%|██████████| 17/17 [00:02<00:00,  6.88it/s]\n",
      "Evaluating set functions...: 100%|██████████| 295/295 [00:34<00:00,  8.49it/s]\n"
     ]
    },
    {
     "name": "stdout",
     "output_type": "stream",
     "text": [
      "bed1-->bfo1 | bso1 | bfo2\n",
      "Model Accuracy: 52.63%\n",
      "--------------------------------------------------------------------------------------------------------------------------------\n",
      "Model: 133\n",
      "Epoch 0, Loss: 0.0000\n",
      "Epoch 0: Average Loss = 161.3359, Best Loss = 161.3359\n",
      "Epoch 100: Average Loss = 38.7470, Best Loss = 38.7179\n",
      "Epoch 200: Average Loss = 35.2029, Best Loss = 35.1094\n",
      "Epoch 300: Average Loss = 33.7259, Best Loss = 33.6619\n",
      "Early stopping triggered after 368 epochs. Restoring best model.\n"
     ]
    },
    {
     "name": "stderr",
     "output_type": "stream",
     "text": [
      "Fitting causal mechanism of node cso1: 100%|██████████| 17/17 [00:01<00:00, 10.01it/s]\n",
      "Evaluating set functions...: 100%|██████████| 181/181 [00:06<00:00, 27.42it/s]\n"
     ]
    },
    {
     "name": "stdout",
     "output_type": "stream",
     "text": [
      "bed1-->bso1 | bso3 | bfo1\n",
      "Model Accuracy: 52.24%\n",
      "--------------------------------------------------------------------------------------------------------------------------------\n",
      "Model: 134\n",
      "Epoch 0, Loss: 0.0001\n",
      "Epoch 0: Average Loss = 303.5108, Best Loss = 303.5108\n",
      "Epoch 100: Average Loss = 32.9784, Best Loss = 32.9784\n",
      "Epoch 200: Average Loss = 26.1507, Best Loss = 26.1507\n",
      "Epoch 300: Average Loss = 23.8148, Best Loss = 23.8148\n",
      "Epoch 400: Average Loss = 22.7658, Best Loss = 22.5946\n",
      "Early stopping triggered after 411 epochs. Restoring best model.\n"
     ]
    },
    {
     "name": "stderr",
     "output_type": "stream",
     "text": [
      "Fitting causal mechanism of node cso1: 100%|██████████| 17/17 [00:01<00:00, 10.20it/s]\n",
      "Evaluating set functions...: 100%|██████████| 265/265 [00:26<00:00,  9.85it/s]\n"
     ]
    },
    {
     "name": "stdout",
     "output_type": "stream",
     "text": [
      "bso3-->bfo2 | bed1 | bfo1\n",
      "Model Accuracy: 51.85%\n",
      "--------------------------------------------------------------------------------------------------------------------------------\n",
      "Model: 135\n",
      "Epoch 0, Loss: 0.0001\n",
      "Epoch 0: Average Loss = 140.6445, Best Loss = 140.6445\n",
      "Epoch 100: Average Loss = 35.8480, Best Loss = 35.8480\n",
      "Epoch 200: Average Loss = 35.5596, Best Loss = 35.4762\n",
      "Early stopping triggered after 224 epochs. Restoring best model.\n"
     ]
    },
    {
     "name": "stderr",
     "output_type": "stream",
     "text": [
      "Fitting causal mechanism of node cso1: 100%|██████████| 17/17 [00:03<00:00,  5.12it/s]\n",
      "Evaluating set functions...: 100%|██████████| 112/112 [00:03<00:00, 31.59it/s]\n"
     ]
    },
    {
     "name": "stdout",
     "output_type": "stream",
     "text": [
      "bso2-->bso1 | bfo2 | bso3\n",
      "Model Accuracy: 51.47%\n",
      "--------------------------------------------------------------------------------------------------------------------------------\n",
      "Model: 136\n",
      "Epoch 0, Loss: 0.0000\n",
      "Epoch 0: Average Loss = 277.0478, Best Loss = 277.0478\n",
      "Epoch 100: Average Loss = 32.9314, Best Loss = 32.8295\n",
      "Epoch 200: Average Loss = 29.9132, Best Loss = 29.6516\n",
      "Early stopping triggered after 213 epochs. Restoring best model.\n"
     ]
    },
    {
     "name": "stderr",
     "output_type": "stream",
     "text": [
      "Fitting causal mechanism of node cso1: 100%|██████████| 17/17 [00:02<00:00,  6.69it/s]\n",
      "Evaluating set functions...: 100%|██████████| 294/294 [00:31<00:00,  9.23it/s]\n"
     ]
    },
    {
     "name": "stdout",
     "output_type": "stream",
     "text": [
      "ROOT CAUSE FOUND!\n",
      "bed2-->bso1 | bed2 | bfo1\n",
      "Model Accuracy: 51.82%\n",
      "--------------------------------------------------------------------------------------------------------------------------------\n",
      "Model: 137\n",
      "Epoch 0, Loss: 0.0000\n",
      "Epoch 0: Average Loss = 256.2188, Best Loss = 256.2188\n",
      "Epoch 100: Average Loss = 33.3277, Best Loss = 33.3277\n",
      "Epoch 200: Average Loss = 24.5892, Best Loss = 24.3236\n",
      "Epoch 300: Average Loss = 20.9417, Best Loss = 20.8364\n",
      "Epoch 400: Average Loss = 19.1764, Best Loss = 18.8941\n",
      "Early stopping triggered after 452 epochs. Restoring best model.\n"
     ]
    },
    {
     "name": "stderr",
     "output_type": "stream",
     "text": [
      "Fitting causal mechanism of node cso1: 100%|██████████| 17/17 [00:00<00:00, 23.18it/s]\n",
      "Evaluating set functions...: 100%|██████████| 78/78 [00:00<00:00, 337.50it/s]\n"
     ]
    },
    {
     "name": "stdout",
     "output_type": "stream",
     "text": [
      "bed2-->bso1 | bfo1 | bfo2\n",
      "Model Accuracy: 51.45%\n",
      "--------------------------------------------------------------------------------------------------------------------------------\n",
      "Model: 138\n",
      "Epoch 0, Loss: 0.0001\n",
      "Epoch 0: Average Loss = 162.0273, Best Loss = 162.0273\n",
      "Epoch 100: Average Loss = 35.4554, Best Loss = 35.3901\n",
      "Epoch 200: Average Loss = 34.9364, Best Loss = 34.9147\n",
      "Early stopping triggered after 269 epochs. Restoring best model.\n"
     ]
    },
    {
     "name": "stderr",
     "output_type": "stream",
     "text": [
      "Fitting causal mechanism of node cso1: 100%|██████████| 17/17 [00:03<00:00,  5.56it/s]\n",
      "Evaluating set functions...: 100%|██████████| 113/113 [00:02<00:00, 38.02it/s]\n"
     ]
    },
    {
     "name": "stdout",
     "output_type": "stream",
     "text": [
      "ROOT CAUSE FOUND!\n",
      "bfo2-->bfo2 | bed1 | bfo1\n",
      "Model Accuracy: 51.8%\n",
      "--------------------------------------------------------------------------------------------------------------------------------\n",
      "Model: 139\n",
      "Epoch 0, Loss: 0.0000\n",
      "Epoch 0: Average Loss = 292.5687, Best Loss = 292.5687\n",
      "Epoch 100: Average Loss = 41.0980, Best Loss = 41.0216\n",
      "Epoch 200: Average Loss = 35.5238, Best Loss = 35.5238\n",
      "Epoch 300: Average Loss = 33.9002, Best Loss = 33.9002\n",
      "Epoch 400: Average Loss = 33.1329, Best Loss = 33.1126\n",
      "Early stopping triggered after 406 epochs. Restoring best model.\n"
     ]
    },
    {
     "name": "stderr",
     "output_type": "stream",
     "text": [
      "Fitting causal mechanism of node cso1: 100%|██████████| 17/17 [00:02<00:00,  7.18it/s]\n",
      "Evaluating set functions...: 100%|██████████| 155/155 [00:06<00:00, 24.34it/s]\n"
     ]
    },
    {
     "name": "stdout",
     "output_type": "stream",
     "text": [
      "ROOT CAUSE FOUND!\n",
      "bfo1-->bso3 | bfo1 | bso1\n",
      "Model Accuracy: 52.14%\n",
      "--------------------------------------------------------------------------------------------------------------------------------\n",
      "Model: 140\n",
      "Epoch 0, Loss: 0.0000\n",
      "Epoch 0: Average Loss = 216.7154, Best Loss = 216.7154\n",
      "Epoch 100: Average Loss = 30.9826, Best Loss = 30.9826\n",
      "Epoch 200: Average Loss = 25.8652, Best Loss = 25.8000\n",
      "Epoch 300: Average Loss = 24.3155, Best Loss = 24.1591\n",
      "Early stopping triggered after 364 epochs. Restoring best model.\n"
     ]
    },
    {
     "name": "stderr",
     "output_type": "stream",
     "text": [
      "Fitting causal mechanism of node cso1: 100%|██████████| 17/17 [00:01<00:00, 12.02it/s]\n",
      "Evaluating set functions...: 100%|██████████| 236/236 [00:19<00:00, 11.86it/s]\n"
     ]
    },
    {
     "name": "stdout",
     "output_type": "stream",
     "text": [
      "bed2-->bfo1 | bfo2 | bso1\n",
      "Model Accuracy: 51.77%\n",
      "--------------------------------------------------------------------------------------------------------------------------------\n",
      "Model: 141\n",
      "Epoch 0, Loss: 0.0000\n",
      "Epoch 0: Average Loss = 213.6133, Best Loss = 213.6133\n",
      "Epoch 100: Average Loss = 46.9627, Best Loss = 46.9627\n",
      "Epoch 200: Average Loss = 37.6420, Best Loss = 37.6420\n",
      "Epoch 300: Average Loss = 34.3091, Best Loss = 33.2620\n",
      "Early stopping triggered after 312 epochs. Restoring best model.\n"
     ]
    },
    {
     "name": "stderr",
     "output_type": "stream",
     "text": [
      "Fitting causal mechanism of node cso1: 100%|██████████| 17/17 [00:00<00:00, 20.50it/s]\n",
      "Evaluating set functions...: 100%|██████████| 116/116 [00:02<00:00, 48.11it/s]\n"
     ]
    },
    {
     "name": "stdout",
     "output_type": "stream",
     "text": [
      "bso2-->bfo1 | bed1 | bso1\n",
      "Model Accuracy: 51.41%\n",
      "--------------------------------------------------------------------------------------------------------------------------------\n",
      "Model: 142\n",
      "Epoch 0, Loss: 0.0001\n",
      "Epoch 0: Average Loss = 186.8140, Best Loss = 186.8140\n",
      "Epoch 100: Average Loss = 34.1795, Best Loss = 34.1276\n",
      "Epoch 200: Average Loss = 32.7801, Best Loss = 32.6703\n",
      "Early stopping triggered after 244 epochs. Restoring best model.\n"
     ]
    },
    {
     "name": "stderr",
     "output_type": "stream",
     "text": [
      "Fitting causal mechanism of node cso1: 100%|██████████| 17/17 [00:02<00:00,  6.99it/s]\n",
      "Evaluating set functions...: 100%|██████████| 124/124 [00:01<00:00, 62.25it/s]\n"
     ]
    },
    {
     "name": "stdout",
     "output_type": "stream",
     "text": [
      "ROOT CAUSE FOUND!\n",
      "bfo2-->bso1 | bfo2 | bso3\n",
      "Model Accuracy: 51.75%\n",
      "--------------------------------------------------------------------------------------------------------------------------------\n",
      "Model: 143\n",
      "Epoch 0, Loss: 0.0000\n",
      "Epoch 0: Average Loss = 290.3464, Best Loss = 290.3464\n",
      "Epoch 100: Average Loss = 36.9932, Best Loss = 36.9932\n",
      "Epoch 200: Average Loss = 31.3657, Best Loss = 31.3571\n",
      "Epoch 300: Average Loss = 29.6272, Best Loss = 29.4397\n",
      "Early stopping triggered after 334 epochs. Restoring best model.\n"
     ]
    },
    {
     "name": "stderr",
     "output_type": "stream",
     "text": [
      "Fitting causal mechanism of node cso1: 100%|██████████| 17/17 [00:02<00:00,  8.36it/s]\n",
      "Evaluating set functions...: 100%|██████████| 348/348 [00:40<00:00,  8.66it/s]\n"
     ]
    },
    {
     "name": "stdout",
     "output_type": "stream",
     "text": [
      "ROOT CAUSE FOUND!\n",
      "bfo1-->bso3 | bso1 | bfo1\n",
      "Model Accuracy: 52.08%\n",
      "--------------------------------------------------------------------------------------------------------------------------------\n",
      "Model: 144\n",
      "Epoch 0, Loss: 0.0000\n",
      "Epoch 0: Average Loss = 198.3375, Best Loss = 198.3375\n",
      "Epoch 100: Average Loss = 38.5432, Best Loss = 38.5397\n",
      "Epoch 200: Average Loss = 31.2146, Best Loss = 31.1837\n",
      "Epoch 300: Average Loss = 28.6017, Best Loss = 28.4770\n",
      "Epoch 400: Average Loss = 27.4521, Best Loss = 27.1301\n",
      "Early stopping triggered after 423 epochs. Restoring best model.\n"
     ]
    },
    {
     "name": "stderr",
     "output_type": "stream",
     "text": [
      "Fitting causal mechanism of node cso1: 100%|██████████| 17/17 [00:01<00:00, 15.71it/s]\n",
      "Evaluating set functions...: 100%|██████████| 143/143 [00:05<00:00, 26.82it/s]\n"
     ]
    },
    {
     "name": "stdout",
     "output_type": "stream",
     "text": [
      "ROOT CAUSE FOUND!\n",
      "bso2-->bso3 | bfo1 | bso2\n",
      "Model Accuracy: 52.41%\n",
      "--------------------------------------------------------------------------------------------------------------------------------\n",
      "Model: 145\n",
      "Epoch 0, Loss: 0.0001\n",
      "Epoch 0: Average Loss = 199.3880, Best Loss = 199.3880\n",
      "Epoch 100: Average Loss = 32.4942, Best Loss = 32.4942\n",
      "Epoch 200: Average Loss = 30.6742, Best Loss = 30.6742\n",
      "Early stopping triggered after 252 epochs. Restoring best model.\n"
     ]
    },
    {
     "name": "stderr",
     "output_type": "stream",
     "text": [
      "Fitting causal mechanism of node cso1: 100%|██████████| 17/17 [00:02<00:00,  6.46it/s]\n",
      "Evaluating set functions...: 100%|██████████| 202/202 [00:14<00:00, 13.70it/s]\n"
     ]
    },
    {
     "name": "stdout",
     "output_type": "stream",
     "text": [
      "bed2-->bso1 | bso3 | bfo1\n",
      "Model Accuracy: 52.05%\n",
      "--------------------------------------------------------------------------------------------------------------------------------\n",
      "Model: 146\n",
      "Epoch 0, Loss: 0.0000\n",
      "Epoch 0: Average Loss = 245.1649, Best Loss = 245.1649\n",
      "Epoch 100: Average Loss = 31.4864, Best Loss = 31.4450\n",
      "Epoch 200: Average Loss = 21.5644, Best Loss = 21.5644\n",
      "Epoch 300: Average Loss = 17.9546, Best Loss = 17.9141\n",
      "Epoch 400: Average Loss = 16.1921, Best Loss = 16.1921\n",
      "Early stopping triggered after 455 epochs. Restoring best model.\n"
     ]
    },
    {
     "name": "stderr",
     "output_type": "stream",
     "text": [
      "Fitting causal mechanism of node cso1: 100%|██████████| 17/17 [00:00<00:00, 17.97it/s]\n",
      "Evaluating set functions...: 100%|██████████| 182/182 [00:06<00:00, 27.23it/s]\n"
     ]
    },
    {
     "name": "stdout",
     "output_type": "stream",
     "text": [
      "bso3-->bso1 | bfo1 | bed1\n",
      "Model Accuracy: 51.7%\n",
      "--------------------------------------------------------------------------------------------------------------------------------\n",
      "Model: 147\n",
      "Epoch 0, Loss: 0.0001\n",
      "Epoch 0: Average Loss = 227.3408, Best Loss = 227.3408\n",
      "Epoch 100: Average Loss = 29.8119, Best Loss = 29.8119\n",
      "Epoch 200: Average Loss = 28.2904, Best Loss = 28.1868\n",
      "Early stopping triggered after 232 epochs. Restoring best model.\n"
     ]
    },
    {
     "name": "stderr",
     "output_type": "stream",
     "text": [
      "Fitting causal mechanism of node cso1: 100%|██████████| 17/17 [00:02<00:00,  7.05it/s]\n",
      "Evaluating set functions...: 100%|██████████| 241/241 [00:17<00:00, 13.49it/s]\n"
     ]
    },
    {
     "name": "stdout",
     "output_type": "stream",
     "text": [
      "bed2-->bso1 | bfo2 | bfo1\n",
      "Model Accuracy: 51.35%\n",
      "--------------------------------------------------------------------------------------------------------------------------------\n",
      "Model: 148\n",
      "Epoch 0, Loss: 0.0000\n",
      "Epoch 0: Average Loss = 239.8077, Best Loss = 239.8077\n",
      "Epoch 100: Average Loss = 38.5872, Best Loss = 38.5872\n",
      "Epoch 200: Average Loss = 33.7836, Best Loss = 33.7813\n",
      "Early stopping triggered after 234 epochs. Restoring best model.\n"
     ]
    },
    {
     "name": "stderr",
     "output_type": "stream",
     "text": [
      "Fitting causal mechanism of node cso1: 100%|██████████| 17/17 [00:01<00:00, 11.19it/s]\n",
      "Evaluating set functions...: 100%|██████████| 150/150 [00:03<00:00, 41.32it/s]\n"
     ]
    },
    {
     "name": "stdout",
     "output_type": "stream",
     "text": [
      "ROOT CAUSE FOUND!\n",
      "bed1-->bed1 | bfo1 | bfo2\n",
      "Model Accuracy: 51.68%\n",
      "--------------------------------------------------------------------------------------------------------------------------------\n",
      "Model: 149\n",
      "Epoch 0, Loss: 0.0000\n",
      "Epoch 0: Average Loss = 237.8496, Best Loss = 237.8496\n",
      "Epoch 100: Average Loss = 39.2206, Best Loss = 39.2206\n",
      "Epoch 200: Average Loss = 31.4147, Best Loss = 31.3113\n",
      "Epoch 300: Average Loss = 28.5164, Best Loss = 28.4397\n",
      "Epoch 400: Average Loss = 27.1802, Best Loss = 26.7987\n",
      "Early stopping triggered after 409 epochs. Restoring best model.\n"
     ]
    },
    {
     "name": "stderr",
     "output_type": "stream",
     "text": [
      "Fitting causal mechanism of node cso1: 100%|██████████| 17/17 [00:01<00:00, 13.37it/s]\n",
      "Evaluating set functions...: 100%|██████████| 377/377 [00:46<00:00,  8.02it/s]\n"
     ]
    },
    {
     "name": "stdout",
     "output_type": "stream",
     "text": [
      "bfo2-->bso1 | bfo1 | bso3\n",
      "Model Accuracy: 51.33%\n",
      "--------------------------------------------------------------------------------------------------------------------------------\n",
      "Model: 150\n",
      "Epoch 0, Loss: 0.0001\n",
      "Epoch 0: Average Loss = 254.3740, Best Loss = 254.3740\n",
      "Epoch 100: Average Loss = 35.1172, Best Loss = 35.1172\n",
      "Epoch 200: Average Loss = 33.2294, Best Loss = 33.0214\n",
      "Early stopping triggered after 227 epochs. Restoring best model.\n"
     ]
    },
    {
     "name": "stderr",
     "output_type": "stream",
     "text": [
      "Fitting causal mechanism of node cso1: 100%|██████████| 17/17 [00:02<00:00,  6.94it/s]\n",
      "Evaluating set functions...: 100%|██████████| 287/287 [00:32<00:00,  8.93it/s]\n"
     ]
    },
    {
     "name": "stdout",
     "output_type": "stream",
     "text": [
      "bso1-->bfo2 | bso3 | bfo1\n",
      "Model Accuracy: 50.99%\n",
      "--------------------------------------------------------------------------------------------------------------------------------\n",
      "Model: 151\n",
      "Epoch 0, Loss: 0.0000\n",
      "Epoch 0: Average Loss = 165.4733, Best Loss = 165.4733\n",
      "Epoch 100: Average Loss = 34.6967, Best Loss = 34.6967\n",
      "Epoch 200: Average Loss = 31.0178, Best Loss = 31.0085\n",
      "Epoch 300: Average Loss = 29.7646, Best Loss = 29.4779\n",
      "Early stopping triggered after 313 epochs. Restoring best model.\n"
     ]
    },
    {
     "name": "stderr",
     "output_type": "stream",
     "text": [
      "Fitting causal mechanism of node cso1: 100%|██████████| 17/17 [00:01<00:00, 13.58it/s]\n",
      "Evaluating set functions...: 100%|██████████| 239/239 [00:19<00:00, 12.40it/s]\n"
     ]
    },
    {
     "name": "stdout",
     "output_type": "stream",
     "text": [
      "ROOT CAUSE FOUND!\n",
      "bso3-->bso3 | bfo2 | bed1\n",
      "Model Accuracy: 51.32%\n",
      "--------------------------------------------------------------------------------------------------------------------------------\n",
      "Model: 152\n",
      "Epoch 0, Loss: 0.0000\n",
      "Epoch 0: Average Loss = 310.9054, Best Loss = 310.9054\n",
      "Epoch 100: Average Loss = 33.8090, Best Loss = 33.8090\n",
      "Epoch 200: Average Loss = 25.2443, Best Loss = 25.2443\n",
      "Epoch 300: Average Loss = 22.0526, Best Loss = 21.9497\n",
      "Epoch 400: Average Loss = 20.1652, Best Loss = 20.1652\n",
      "Early stopping triggered after 450 epochs. Restoring best model.\n"
     ]
    },
    {
     "name": "stderr",
     "output_type": "stream",
     "text": [
      "Fitting causal mechanism of node cso1: 100%|██████████| 17/17 [00:00<00:00, 17.81it/s]\n",
      "Evaluating set functions...: 100%|██████████| 299/299 [00:26<00:00, 11.15it/s]\n"
     ]
    },
    {
     "name": "stdout",
     "output_type": "stream",
     "text": [
      "bso1-->bso3 | bed1 | bed2\n",
      "Model Accuracy: 50.98%\n",
      "--------------------------------------------------------------------------------------------------------------------------------\n",
      "Model: 153\n",
      "Epoch 0, Loss: 0.0000\n",
      "Epoch 0: Average Loss = 140.3188, Best Loss = 140.3188\n",
      "Epoch 100: Average Loss = 28.1234, Best Loss = 28.1234\n",
      "Epoch 200: Average Loss = 24.9045, Best Loss = 24.9045\n",
      "Epoch 300: Average Loss = 23.8948, Best Loss = 23.8245\n",
      "Early stopping triggered after 399 epochs. Restoring best model.\n"
     ]
    },
    {
     "name": "stderr",
     "output_type": "stream",
     "text": [
      "Fitting causal mechanism of node cso1: 100%|██████████| 17/17 [00:02<00:00,  8.19it/s]\n",
      "Evaluating set functions...: 100%|██████████| 205/205 [00:12<00:00, 16.09it/s]\n"
     ]
    },
    {
     "name": "stdout",
     "output_type": "stream",
     "text": [
      "bso2-->bfo2 | bso3 | bso1\n",
      "Model Accuracy: 50.65%\n",
      "--------------------------------------------------------------------------------------------------------------------------------\n",
      "Model: 154\n",
      "Epoch 0, Loss: 0.0000\n",
      "Epoch 0: Average Loss = 229.2799, Best Loss = 229.2799\n",
      "Epoch 100: Average Loss = 38.9473, Best Loss = 38.9473\n",
      "Epoch 200: Average Loss = 33.8008, Best Loss = 33.8008\n",
      "Epoch 300: Average Loss = 32.4210, Best Loss = 32.1206\n",
      "Early stopping triggered after 342 epochs. Restoring best model.\n"
     ]
    },
    {
     "name": "stderr",
     "output_type": "stream",
     "text": [
      "Fitting causal mechanism of node cso1: 100%|██████████| 17/17 [00:01<00:00, 11.81it/s]\n",
      "Evaluating set functions...: 100%|██████████| 375/375 [00:36<00:00, 10.30it/s]\n"
     ]
    },
    {
     "name": "stdout",
     "output_type": "stream",
     "text": [
      "ROOT CAUSE FOUND!\n",
      "bso2-->bso3 | bfo2 | bso2\n",
      "Model Accuracy: 50.97%\n",
      "--------------------------------------------------------------------------------------------------------------------------------\n",
      "Model: 155\n",
      "Epoch 0, Loss: 0.0001\n",
      "Epoch 0: Average Loss = 222.5510, Best Loss = 222.5510\n",
      "Epoch 100: Average Loss = 35.7573, Best Loss = 35.7084\n",
      "Epoch 200: Average Loss = 32.6047, Best Loss = 32.6047\n",
      "Early stopping triggered after 256 epochs. Restoring best model.\n"
     ]
    },
    {
     "name": "stderr",
     "output_type": "stream",
     "text": [
      "Fitting causal mechanism of node cso1: 100%|██████████| 17/17 [00:02<00:00,  7.97it/s]\n",
      "Evaluating set functions...: 100%|██████████| 179/179 [00:07<00:00, 25.52it/s]\n"
     ]
    },
    {
     "name": "stdout",
     "output_type": "stream",
     "text": [
      "bso3-->bfo2 | bfo1 | bed1\n",
      "Model Accuracy: 50.64%\n",
      "--------------------------------------------------------------------------------------------------------------------------------\n",
      "Model: 156\n",
      "Epoch 0, Loss: 0.0000\n",
      "Epoch 0: Average Loss = 232.5391, Best Loss = 232.5391\n",
      "Epoch 100: Average Loss = 33.9103, Best Loss = 33.9103\n",
      "Epoch 200: Average Loss = 28.2478, Best Loss = 28.2478\n",
      "Early stopping triggered after 279 epochs. Restoring best model.\n"
     ]
    },
    {
     "name": "stderr",
     "output_type": "stream",
     "text": [
      "Fitting causal mechanism of node cso1: 100%|██████████| 17/17 [00:01<00:00, 14.22it/s]\n",
      "Evaluating set functions...: 100%|██████████| 324/324 [00:31<00:00, 10.27it/s]\n"
     ]
    },
    {
     "name": "stdout",
     "output_type": "stream",
     "text": [
      "ROOT CAUSE FOUND!\n",
      "bfo2-->bso1 | bed1 | bfo2\n",
      "Model Accuracy: 50.96%\n",
      "--------------------------------------------------------------------------------------------------------------------------------\n",
      "Model: 157\n",
      "Epoch 0, Loss: 0.0000\n",
      "Epoch 0: Average Loss = 257.5633, Best Loss = 257.5633\n",
      "Epoch 100: Average Loss = 41.9526, Best Loss = 41.9293\n",
      "Epoch 200: Average Loss = 38.7502, Best Loss = 38.7502\n",
      "Early stopping triggered after 249 epochs. Restoring best model.\n"
     ]
    },
    {
     "name": "stderr",
     "output_type": "stream",
     "text": [
      "Fitting causal mechanism of node cso1: 100%|██████████| 17/17 [00:02<00:00,  5.73it/s]\n",
      "Evaluating set functions...: 100%|██████████| 153/153 [00:06<00:00, 23.81it/s]\n"
     ]
    },
    {
     "name": "stdout",
     "output_type": "stream",
     "text": [
      "ROOT CAUSE FOUND!\n",
      "bso1-->bso1 | bso3 | bfo2\n",
      "Model Accuracy: 51.27%\n",
      "--------------------------------------------------------------------------------------------------------------------------------\n",
      "Model: 158\n",
      "Epoch 0, Loss: 0.0000\n",
      "Epoch 0: Average Loss = 184.6388, Best Loss = 184.6388\n",
      "Epoch 100: Average Loss = 17.5289, Best Loss = 17.5289\n",
      "Epoch 200: Average Loss = 13.7954, Best Loss = 13.7306\n",
      "Early stopping triggered after 275 epochs. Restoring best model.\n"
     ]
    },
    {
     "name": "stderr",
     "output_type": "stream",
     "text": [
      "Fitting causal mechanism of node cso1: 100%|██████████| 17/17 [00:00<00:00, 19.29it/s]\n",
      "Evaluating set functions...: 100%|██████████| 32/32 [00:00<00:00, 32002.32it/s]\n"
     ]
    },
    {
     "name": "stdout",
     "output_type": "stream",
     "text": [
      "bfo2-->bfo1 | bed2 | bso2\n",
      "Model Accuracy: 50.94%\n",
      "--------------------------------------------------------------------------------------------------------------------------------\n",
      "Model: 159\n",
      "Epoch 0, Loss: 0.0000\n",
      "Epoch 0: Average Loss = 228.8524, Best Loss = 228.8524\n",
      "Epoch 100: Average Loss = 35.6017, Best Loss = 35.3929\n",
      "Epoch 200: Average Loss = 32.0365, Best Loss = 32.0365\n",
      "Epoch 300: Average Loss = 31.0511, Best Loss = 30.9729\n",
      "Epoch 400: Average Loss = 30.4571, Best Loss = 30.4070\n",
      "Early stopping triggered after 401 epochs. Restoring best model.\n"
     ]
    },
    {
     "name": "stderr",
     "output_type": "stream",
     "text": [
      "Fitting causal mechanism of node cso1: 100%|██████████| 17/17 [00:02<00:00,  8.30it/s]\n",
      "Evaluating set functions...: 100%|██████████| 347/347 [00:43<00:00,  8.02it/s]\n"
     ]
    },
    {
     "name": "stdout",
     "output_type": "stream",
     "text": [
      "bso3-->bso1 | bfo1 | bed2\n",
      "Model Accuracy: 50.62%\n",
      "--------------------------------------------------------------------------------------------------------------------------------\n",
      "Model: 160\n",
      "Epoch 0, Loss: 0.0000\n",
      "Epoch 0: Average Loss = 238.6321, Best Loss = 238.6321\n",
      "Epoch 100: Average Loss = 43.1228, Best Loss = 43.1228\n",
      "Epoch 200: Average Loss = 33.5383, Best Loss = 33.4483\n",
      "Epoch 300: Average Loss = 29.5028, Best Loss = 29.4513\n",
      "Epoch 400: Average Loss = 27.6163, Best Loss = 27.4317\n",
      "Early stopping triggered after 475 epochs. Restoring best model.\n"
     ]
    },
    {
     "name": "stderr",
     "output_type": "stream",
     "text": [
      "Fitting causal mechanism of node cso1: 100%|██████████| 17/17 [00:00<00:00, 21.44it/s]\n",
      "Evaluating set functions...: 100%|██████████| 347/347 [00:27<00:00, 12.54it/s]\n"
     ]
    },
    {
     "name": "stdout",
     "output_type": "stream",
     "text": [
      "bed2-->bfo1 | bfo2 | bed1\n",
      "Model Accuracy: 50.31%\n",
      "--------------------------------------------------------------------------------------------------------------------------------\n",
      "Model: 161\n",
      "Epoch 0, Loss: 0.0000\n",
      "Epoch 0: Average Loss = 245.2662, Best Loss = 245.2662\n",
      "Epoch 100: Average Loss = 40.4402, Best Loss = 40.4402\n",
      "Epoch 200: Average Loss = 33.1670, Best Loss = 33.1670\n",
      "Epoch 300: Average Loss = 30.3064, Best Loss = 30.1993\n",
      "Epoch 400: Average Loss = 28.9420, Best Loss = 28.7636\n",
      "Early stopping triggered after 419 epochs. Restoring best model.\n"
     ]
    },
    {
     "name": "stderr",
     "output_type": "stream",
     "text": [
      "Fitting causal mechanism of node cso1: 100%|██████████| 17/17 [00:01<00:00, 14.73it/s]\n",
      "Evaluating set functions...: 100%|██████████| 297/297 [00:27<00:00, 10.97it/s]\n"
     ]
    },
    {
     "name": "stdout",
     "output_type": "stream",
     "text": [
      "bso2-->bso1 | bfo1 | bso3\n",
      "Model Accuracy: 50.0%\n",
      "--------------------------------------------------------------------------------------------------------------------------------\n",
      "Model: 162\n",
      "Epoch 0, Loss: 0.0000\n",
      "Epoch 0: Average Loss = 246.6249, Best Loss = 246.6249\n",
      "Epoch 100: Average Loss = 45.8002, Best Loss = 45.6670\n",
      "Epoch 200: Average Loss = 36.5730, Best Loss = 36.5730\n",
      "Epoch 300: Average Loss = 33.3307, Best Loss = 33.0988\n",
      "Early stopping triggered after 380 epochs. Restoring best model.\n"
     ]
    },
    {
     "name": "stderr",
     "output_type": "stream",
     "text": [
      "Fitting causal mechanism of node cso1: 100%|██████████| 17/17 [00:01<00:00, 16.43it/s]\n",
      "Evaluating set functions...: 100%|██████████| 266/266 [00:22<00:00, 11.66it/s]\n"
     ]
    },
    {
     "name": "stdout",
     "output_type": "stream",
     "text": [
      "ROOT CAUSE FOUND!\n",
      "bfo1-->bfo1 | bso1 | bed1\n",
      "Model Accuracy: 50.31%\n",
      "--------------------------------------------------------------------------------------------------------------------------------\n",
      "Model: 163\n",
      "Epoch 0, Loss: 0.0000\n",
      "Epoch 0: Average Loss = 222.5770, Best Loss = 222.5770\n",
      "Epoch 100: Average Loss = 43.6568, Best Loss = 43.5883\n",
      "Epoch 200: Average Loss = 36.4477, Best Loss = 36.4477\n",
      "Epoch 300: Average Loss = 34.1346, Best Loss = 33.8281\n",
      "Early stopping triggered after 314 epochs. Restoring best model.\n"
     ]
    },
    {
     "name": "stderr",
     "output_type": "stream",
     "text": [
      "Fitting causal mechanism of node cso1: 100%|██████████| 17/17 [00:01<00:00, 13.10it/s]\n",
      "Evaluating set functions...: 100%|██████████| 318/318 [00:41<00:00,  7.65it/s]\n"
     ]
    },
    {
     "name": "stdout",
     "output_type": "stream",
     "text": [
      "bed1-->bfo1 | bfo2 | bed2\n",
      "Model Accuracy: 50.0%\n",
      "--------------------------------------------------------------------------------------------------------------------------------\n",
      "Model: 164\n",
      "Epoch 0, Loss: 0.0001\n",
      "Epoch 0: Average Loss = 260.2295, Best Loss = 260.2295\n",
      "Epoch 100: Average Loss = 44.1532, Best Loss = 44.1532\n",
      "Epoch 200: Average Loss = 35.0554, Best Loss = 34.9889\n",
      "Epoch 300: Average Loss = 31.9871, Best Loss = 31.7807\n",
      "Epoch 400: Average Loss = 30.3787, Best Loss = 30.1792\n",
      "Epoch 500: Average Loss = 29.3964, Best Loss = 29.3715\n",
      "Early stopping triggered after 530 epochs. Restoring best model.\n"
     ]
    },
    {
     "name": "stderr",
     "output_type": "stream",
     "text": [
      "Fitting causal mechanism of node cso1: 100%|██████████| 17/17 [00:01<00:00, 11.20it/s]\n",
      "Evaluating set functions...: 100%|██████████| 117/117 [00:01<00:00, 61.90it/s]\n"
     ]
    },
    {
     "name": "stdout",
     "output_type": "stream",
     "text": [
      "bed2-->bso1 | bfo1 | bso3\n",
      "Model Accuracy: 49.7%\n",
      "--------------------------------------------------------------------------------------------------------------------------------\n",
      "Model: 165\n",
      "Epoch 0, Loss: 0.0001\n",
      "Epoch 0: Average Loss = 213.2228, Best Loss = 213.2228\n",
      "Epoch 100: Average Loss = 37.0568, Best Loss = 37.0568\n",
      "Epoch 200: Average Loss = 34.2436, Best Loss = 34.0842\n",
      "Epoch 300: Average Loss = 33.2087, Best Loss = 33.2087\n",
      "Early stopping triggered after 336 epochs. Restoring best model.\n"
     ]
    },
    {
     "name": "stderr",
     "output_type": "stream",
     "text": [
      "Fitting causal mechanism of node cso1: 100%|██████████| 17/17 [00:01<00:00,  9.69it/s]\n",
      "Evaluating set functions...: 100%|██████████| 241/241 [00:15<00:00, 15.39it/s]\n"
     ]
    },
    {
     "name": "stdout",
     "output_type": "stream",
     "text": [
      "ROOT CAUSE FOUND!\n",
      "bfo1-->bfo1 | bso1 | bso3\n",
      "Model Accuracy: 50.0%\n",
      "--------------------------------------------------------------------------------------------------------------------------------\n",
      "Model: 166\n",
      "Epoch 0, Loss: 0.0000\n",
      "Epoch 0: Average Loss = 183.4564, Best Loss = 183.4564\n",
      "Epoch 100: Average Loss = 28.7827, Best Loss = 28.7827\n",
      "Epoch 200: Average Loss = 22.6936, Best Loss = 22.5854\n",
      "Epoch 300: Average Loss = 20.0832, Best Loss = 19.9634\n",
      "Early stopping triggered after 309 epochs. Restoring best model.\n"
     ]
    },
    {
     "name": "stderr",
     "output_type": "stream",
     "text": [
      "Fitting causal mechanism of node cso1: 100%|██████████| 17/17 [00:00<00:00, 23.44it/s]\n",
      "Evaluating set functions...: 100%|██████████| 212/212 [00:08<00:00, 24.51it/s]\n"
     ]
    },
    {
     "name": "stdout",
     "output_type": "stream",
     "text": [
      "ROOT CAUSE FOUND!\n",
      "bso2-->bfo1 | bfo2 | bso2\n",
      "Model Accuracy: 50.3%\n",
      "--------------------------------------------------------------------------------------------------------------------------------\n",
      "Model: 167\n",
      "Epoch 0, Loss: 0.0001\n",
      "Epoch 0: Average Loss = 166.1334, Best Loss = 166.1334\n",
      "Epoch 100: Average Loss = 38.3867, Best Loss = 38.3867\n",
      "Epoch 200: Average Loss = 34.6618, Best Loss = 34.6043\n",
      "Epoch 300: Average Loss = 33.5590, Best Loss = 33.2053\n",
      "Early stopping triggered after 311 epochs. Restoring best model.\n"
     ]
    },
    {
     "name": "stderr",
     "output_type": "stream",
     "text": [
      "Fitting causal mechanism of node cso1: 100%|██████████| 17/17 [00:02<00:00,  7.05it/s]\n",
      "Evaluating set functions...: 100%|██████████| 351/351 [00:46<00:00,  7.59it/s]\n"
     ]
    },
    {
     "name": "stdout",
     "output_type": "stream",
     "text": [
      "ROOT CAUSE FOUND!\n",
      "bed1-->bso1 | bed1 | bfo1\n",
      "Model Accuracy: 50.6%\n",
      "--------------------------------------------------------------------------------------------------------------------------------\n",
      "Model: 168\n",
      "Epoch 0, Loss: 0.0001\n",
      "Epoch 0: Average Loss = 125.3261, Best Loss = 125.3261\n",
      "Epoch 100: Average Loss = 33.6174, Best Loss = 33.5845\n",
      "Epoch 200: Average Loss = 33.3918, Best Loss = 33.3736\n",
      "Early stopping triggered after 287 epochs. Restoring best model.\n"
     ]
    },
    {
     "name": "stderr",
     "output_type": "stream",
     "text": [
      "Fitting causal mechanism of node cso1: 100%|██████████| 17/17 [00:02<00:00,  7.03it/s]\n",
      "Evaluating set functions...: 100%|██████████| 120/120 [00:00<00:00, 729.30it/s]\n"
     ]
    },
    {
     "name": "stdout",
     "output_type": "stream",
     "text": [
      "bso2-->bso3 | bfo2 | bso1\n",
      "Model Accuracy: 50.3%\n",
      "--------------------------------------------------------------------------------------------------------------------------------\n",
      "Model: 169\n",
      "Epoch 0, Loss: 0.0000\n",
      "Epoch 0: Average Loss = 148.7853, Best Loss = 148.7853\n",
      "Epoch 100: Average Loss = 22.0545, Best Loss = 22.0545\n",
      "Epoch 200: Average Loss = 17.2407, Best Loss = 17.0924\n",
      "Epoch 300: Average Loss = 15.1211, Best Loss = 15.1211\n",
      "Epoch 400: Average Loss = 14.2175, Best Loss = 14.1887\n",
      "Early stopping triggered after 453 epochs. Restoring best model.\n"
     ]
    },
    {
     "name": "stderr",
     "output_type": "stream",
     "text": [
      "Fitting causal mechanism of node cso1: 100%|██████████| 17/17 [00:00<00:00, 19.55it/s]\n",
      "Evaluating set functions...: 100%|██████████| 119/119 [00:00<00:00, 785.30it/s]\n"
     ]
    },
    {
     "name": "stdout",
     "output_type": "stream",
     "text": [
      "bso2-->bed2 | bso3 | bfo2\n",
      "Model Accuracy: 50.0%\n",
      "--------------------------------------------------------------------------------------------------------------------------------\n",
      "Model: 170\n",
      "Epoch 0, Loss: 0.0000\n",
      "Epoch 0: Average Loss = 206.9303, Best Loss = 206.9303\n",
      "Epoch 100: Average Loss = 30.3804, Best Loss = 30.3804\n",
      "Epoch 200: Average Loss = 23.1515, Best Loss = 23.1515\n",
      "Epoch 300: Average Loss = 20.5588, Best Loss = 20.2919\n",
      "Early stopping triggered after 360 epochs. Restoring best model.\n"
     ]
    },
    {
     "name": "stderr",
     "output_type": "stream",
     "text": [
      "Fitting causal mechanism of node cso1: 100%|██████████| 17/17 [00:00<00:00, 24.70it/s]\n",
      "Evaluating set functions...: 100%|██████████| 213/213 [00:03<00:00, 58.03it/s]\n"
     ]
    },
    {
     "name": "stdout",
     "output_type": "stream",
     "text": [
      "bso2-->bfo1 | bso1 | bfo2\n",
      "Model Accuracy: 49.71%\n",
      "--------------------------------------------------------------------------------------------------------------------------------\n",
      "Model: 171\n",
      "Epoch 0, Loss: 0.0000\n",
      "Epoch 0: Average Loss = 191.2402, Best Loss = 191.2402\n",
      "Epoch 100: Average Loss = 32.1134, Best Loss = 31.8831\n",
      "Epoch 200: Average Loss = 28.7882, Best Loss = 28.4149\n",
      "Epoch 300: Average Loss = 27.7127, Best Loss = 27.5613\n",
      "Early stopping triggered after 330 epochs. Restoring best model.\n"
     ]
    },
    {
     "name": "stderr",
     "output_type": "stream",
     "text": [
      "Fitting causal mechanism of node cso1: 100%|██████████| 17/17 [00:02<00:00,  7.88it/s]\n",
      "Evaluating set functions...: 100%|██████████| 317/317 [00:34<00:00,  9.18it/s]\n"
     ]
    },
    {
     "name": "stdout",
     "output_type": "stream",
     "text": [
      "bso2-->bso3 | bfo2 | bso1\n",
      "Model Accuracy: 49.42%\n",
      "--------------------------------------------------------------------------------------------------------------------------------\n",
      "Model: 172\n",
      "Epoch 0, Loss: 0.0000\n",
      "Epoch 0: Average Loss = 227.9591, Best Loss = 227.9591\n",
      "Epoch 100: Average Loss = 29.0492, Best Loss = 29.0221\n",
      "Epoch 200: Average Loss = 22.4453, Best Loss = 22.4166\n",
      "Epoch 300: Average Loss = 20.2441, Best Loss = 19.9603\n",
      "Epoch 400: Average Loss = 19.1888, Best Loss = 19.0350\n",
      "Early stopping triggered after 427 epochs. Restoring best model.\n"
     ]
    },
    {
     "name": "stderr",
     "output_type": "stream",
     "text": [
      "Fitting causal mechanism of node cso1: 100%|██████████| 17/17 [00:01<00:00, 10.89it/s]\n",
      "Evaluating set functions...: 100%|██████████| 81/81 [00:00<00:00, 295.21it/s]\n"
     ]
    },
    {
     "name": "stdout",
     "output_type": "stream",
     "text": [
      "bed1-->bfo1 | bso1 | bed2\n",
      "Model Accuracy: 49.13%\n",
      "--------------------------------------------------------------------------------------------------------------------------------\n",
      "Model: 173\n",
      "Epoch 0, Loss: 0.0000\n",
      "Epoch 0: Average Loss = 242.9655, Best Loss = 242.9655\n",
      "Epoch 100: Average Loss = 41.6114, Best Loss = 41.6114\n",
      "Epoch 200: Average Loss = 35.3198, Best Loss = 35.2129\n",
      "Early stopping triggered after 287 epochs. Restoring best model.\n"
     ]
    },
    {
     "name": "stderr",
     "output_type": "stream",
     "text": [
      "Fitting causal mechanism of node cso1: 100%|██████████| 17/17 [00:01<00:00, 11.80it/s]\n",
      "Evaluating set functions...: 100%|██████████| 351/351 [00:38<00:00,  9.01it/s]\n"
     ]
    },
    {
     "name": "stdout",
     "output_type": "stream",
     "text": [
      "ROOT CAUSE FOUND!\n",
      "bso3-->bfo1 | bso3 | bso1\n",
      "Model Accuracy: 49.43%\n",
      "--------------------------------------------------------------------------------------------------------------------------------\n",
      "Model: 174\n",
      "Epoch 0, Loss: 0.0001\n",
      "Epoch 0: Average Loss = 189.6725, Best Loss = 189.6725\n",
      "Epoch 100: Average Loss = 34.9878, Best Loss = 34.9036\n",
      "Epoch 200: Average Loss = 31.5202, Best Loss = 31.5152\n",
      "Early stopping triggered after 242 epochs. Restoring best model.\n"
     ]
    },
    {
     "name": "stderr",
     "output_type": "stream",
     "text": [
      "Fitting causal mechanism of node cso1: 100%|██████████| 17/17 [00:01<00:00, 14.25it/s]\n",
      "Evaluating set functions...: 100%|██████████| 297/297 [00:24<00:00, 12.35it/s]\n"
     ]
    },
    {
     "name": "stdout",
     "output_type": "stream",
     "text": [
      "ROOT CAUSE FOUND!\n",
      "bfo1-->bfo1 | bfo2 | bed1\n",
      "Model Accuracy: 49.71%\n",
      "--------------------------------------------------------------------------------------------------------------------------------\n",
      "Model: 175\n",
      "Epoch 0, Loss: 0.0000\n",
      "Epoch 0: Average Loss = 254.8812, Best Loss = 254.8812\n",
      "Epoch 100: Average Loss = 40.7621, Best Loss = 40.7621\n",
      "Epoch 200: Average Loss = 34.9095, Best Loss = 34.6064\n",
      "Epoch 300: Average Loss = 32.4168, Best Loss = 32.2769\n",
      "Early stopping triggered after 335 epochs. Restoring best model.\n"
     ]
    },
    {
     "name": "stderr",
     "output_type": "stream",
     "text": [
      "Fitting causal mechanism of node cso1: 100%|██████████| 17/17 [00:01<00:00, 12.39it/s]\n",
      "Evaluating set functions...: 100%|██████████| 350/350 [00:35<00:00,  9.99it/s]\n"
     ]
    },
    {
     "name": "stdout",
     "output_type": "stream",
     "text": [
      "ROOT CAUSE FOUND!\n",
      "bso3-->bso1 | bso3 | bfo1\n",
      "Model Accuracy: 50.0%\n",
      "--------------------------------------------------------------------------------------------------------------------------------\n",
      "Model: 176\n",
      "Epoch 0, Loss: 0.0000\n",
      "Epoch 0: Average Loss = 264.2824, Best Loss = 264.2824\n",
      "Epoch 100: Average Loss = 37.7715, Best Loss = 37.7378\n",
      "Epoch 200: Average Loss = 33.0832, Best Loss = 32.8689\n",
      "Epoch 300: Average Loss = 31.3257, Best Loss = 31.0190\n",
      "Early stopping triggered after 354 epochs. Restoring best model.\n"
     ]
    },
    {
     "name": "stderr",
     "output_type": "stream",
     "text": [
      "Fitting causal mechanism of node cso1: 100%|██████████| 17/17 [00:00<00:00, 18.84it/s]\n",
      "Evaluating set functions...: 100%|██████████| 269/269 [00:13<00:00, 19.88it/s]\n"
     ]
    },
    {
     "name": "stdout",
     "output_type": "stream",
     "text": [
      "ROOT CAUSE FOUND!\n",
      "bfo2-->bfo2 | bso1 | bso3\n",
      "Model Accuracy: 50.28%\n",
      "--------------------------------------------------------------------------------------------------------------------------------\n",
      "Model: 177\n",
      "Epoch 0, Loss: 0.0001\n",
      "Epoch 0: Average Loss = 214.5931, Best Loss = 214.5931\n",
      "Epoch 100: Average Loss = 36.0576, Best Loss = 36.0576\n",
      "Epoch 200: Average Loss = 31.5305, Best Loss = 31.5305\n",
      "Early stopping triggered after 275 epochs. Restoring best model.\n"
     ]
    },
    {
     "name": "stderr",
     "output_type": "stream",
     "text": [
      "Fitting causal mechanism of node cso1: 100%|██████████| 17/17 [00:01<00:00, 14.68it/s]\n",
      "Evaluating set functions...: 100%|██████████| 32/32 [00:00<00:00, 32086.48it/s]\n"
     ]
    },
    {
     "name": "stdout",
     "output_type": "stream",
     "text": [
      "bso3-->bfo1 | bso2 | bed1\n",
      "Model Accuracy: 50.0%\n",
      "--------------------------------------------------------------------------------------------------------------------------------\n",
      "Model: 178\n",
      "Epoch 0, Loss: 0.0001\n",
      "Epoch 0: Average Loss = 237.3614, Best Loss = 237.3614\n",
      "Epoch 100: Average Loss = 34.6061, Best Loss = 34.5091\n",
      "Epoch 200: Average Loss = 30.0928, Best Loss = 30.0928\n",
      "Epoch 300: Average Loss = 28.6326, Best Loss = 28.5960\n",
      "Early stopping triggered after 370 epochs. Restoring best model.\n"
     ]
    },
    {
     "name": "stderr",
     "output_type": "stream",
     "text": [
      "Fitting causal mechanism of node cso1: 100%|██████████| 17/17 [00:02<00:00,  7.88it/s]\n",
      "Evaluating set functions...: 100%|██████████| 317/317 [00:37<00:00,  8.51it/s]\n"
     ]
    },
    {
     "name": "stdout",
     "output_type": "stream",
     "text": [
      "bed2-->bfo2 | bso1 | bfo1\n",
      "Model Accuracy: 49.72%\n",
      "--------------------------------------------------------------------------------------------------------------------------------\n",
      "Model: 179\n",
      "Epoch 0, Loss: 0.0000\n",
      "Epoch 0: Average Loss = 256.2855, Best Loss = 256.2855\n",
      "Epoch 100: Average Loss = 42.4638, Best Loss = 42.2528\n",
      "Epoch 200: Average Loss = 37.2231, Best Loss = 37.0294\n",
      "Epoch 300: Average Loss = 35.5948, Best Loss = 35.3653\n",
      "Early stopping triggered after 321 epochs. Restoring best model.\n"
     ]
    },
    {
     "name": "stderr",
     "output_type": "stream",
     "text": [
      "Fitting causal mechanism of node cso1: 100%|██████████| 17/17 [00:02<00:00,  8.10it/s]\n",
      "Evaluating set functions...: 100%|██████████| 375/375 [00:52<00:00,  7.14it/s]\n"
     ]
    },
    {
     "name": "stdout",
     "output_type": "stream",
     "text": [
      "ROOT CAUSE FOUND!\n",
      "bfo2-->bed1 | bso1 | bfo2\n",
      "Model Accuracy: 50.0%\n",
      "--------------------------------------------------------------------------------------------------------------------------------\n",
      "Model: 180\n",
      "Epoch 0, Loss: 0.0001\n",
      "Epoch 0: Average Loss = 197.4421, Best Loss = 197.4421\n",
      "Epoch 100: Average Loss = 35.6952, Best Loss = 35.6952\n",
      "Epoch 200: Average Loss = 28.7175, Best Loss = 28.0900\n",
      "Early stopping triggered after 282 epochs. Restoring best model.\n"
     ]
    },
    {
     "name": "stderr",
     "output_type": "stream",
     "text": [
      "Fitting causal mechanism of node cso1: 100%|██████████| 17/17 [00:00<00:00, 18.89it/s]\n",
      "Evaluating set functions...: 100%|██████████| 347/347 [00:34<00:00, 10.13it/s]\n"
     ]
    },
    {
     "name": "stdout",
     "output_type": "stream",
     "text": [
      "bso2-->bfo2 | bso3 | bed2\n",
      "Model Accuracy: 49.72%\n",
      "--------------------------------------------------------------------------------------------------------------------------------\n",
      "Model: 181\n",
      "Epoch 0, Loss: 0.0000\n",
      "Epoch 0: Average Loss = 165.1862, Best Loss = 165.1862\n",
      "Epoch 100: Average Loss = 36.1844, Best Loss = 36.1844\n",
      "Epoch 200: Average Loss = 32.1005, Best Loss = 31.8721\n",
      "Early stopping triggered after 291 epochs. Restoring best model.\n"
     ]
    },
    {
     "name": "stderr",
     "output_type": "stream",
     "text": [
      "Fitting causal mechanism of node cso1: 100%|██████████| 17/17 [00:00<00:00, 17.23it/s]\n",
      "Evaluating set functions...: 100%|██████████| 323/323 [00:31<00:00, 10.33it/s]\n"
     ]
    },
    {
     "name": "stdout",
     "output_type": "stream",
     "text": [
      "bso2-->bso1 | bso3 | bfo2\n",
      "Model Accuracy: 49.45%\n",
      "--------------------------------------------------------------------------------------------------------------------------------\n",
      "Model: 182\n",
      "Epoch 0, Loss: 0.0000\n",
      "Epoch 0: Average Loss = 265.1341, Best Loss = 265.1341\n",
      "Epoch 100: Average Loss = 42.6100, Best Loss = 42.6100\n",
      "Epoch 200: Average Loss = 38.1478, Best Loss = 38.0511\n",
      "Epoch 300: Average Loss = 36.5872, Best Loss = 36.4677\n",
      "Early stopping triggered after 301 epochs. Restoring best model.\n"
     ]
    },
    {
     "name": "stderr",
     "output_type": "stream",
     "text": [
      "Fitting causal mechanism of node cso1: 100%|██████████| 17/17 [00:01<00:00, 14.36it/s]\n",
      "Evaluating set functions...: 100%|██████████| 53/53 [00:00<00:00, 26501.92it/s]\n"
     ]
    },
    {
     "name": "stdout",
     "output_type": "stream",
     "text": [
      "bed2-->bso1 | bfo2 | bfo1\n",
      "Model Accuracy: 49.18%\n",
      "--------------------------------------------------------------------------------------------------------------------------------\n",
      "Model: 183\n",
      "Epoch 0, Loss: 0.0001\n",
      "Epoch 0: Average Loss = 318.4745, Best Loss = 318.4745\n",
      "Epoch 100: Average Loss = 26.7307, Best Loss = 26.7307\n",
      "Epoch 200: Average Loss = 24.0531, Best Loss = 24.0263\n",
      "Early stopping triggered after 247 epochs. Restoring best model.\n"
     ]
    },
    {
     "name": "stderr",
     "output_type": "stream",
     "text": [
      "Fitting causal mechanism of node cso1: 100%|██████████| 17/17 [00:02<00:00,  7.78it/s]\n",
      "Evaluating set functions...: 100%|██████████| 113/113 [00:00<00:00, 839.99it/s]\n"
     ]
    },
    {
     "name": "stdout",
     "output_type": "stream",
     "text": [
      "ROOT CAUSE FOUND!\n",
      "bfo2-->bfo2 | bso1 | bfo1\n",
      "Model Accuracy: 49.46%\n",
      "--------------------------------------------------------------------------------------------------------------------------------\n",
      "Model: 184\n",
      "Epoch 0, Loss: 0.0000\n",
      "Epoch 0: Average Loss = 207.5177, Best Loss = 207.5177\n",
      "Epoch 100: Average Loss = 29.8830, Best Loss = 29.8830\n",
      "Epoch 200: Average Loss = 22.4526, Best Loss = 22.4180\n",
      "Epoch 300: Average Loss = 19.6340, Best Loss = 19.5981\n",
      "Epoch 400: Average Loss = 18.2773, Best Loss = 18.2418\n",
      "Epoch 500: Average Loss = 17.4035, Best Loss = 17.3213\n",
      "Early stopping triggered after 523 epochs. Restoring best model.\n"
     ]
    },
    {
     "name": "stderr",
     "output_type": "stream",
     "text": [
      "Fitting causal mechanism of node cso1: 100%|██████████| 17/17 [00:00<00:00, 17.50it/s]\n",
      "Evaluating set functions...: 100%|██████████| 320/320 [00:27<00:00, 11.55it/s]\n"
     ]
    },
    {
     "name": "stdout",
     "output_type": "stream",
     "text": [
      "bed2-->bfo1 | bfo2 | bso3\n",
      "Model Accuracy: 49.19%\n",
      "--------------------------------------------------------------------------------------------------------------------------------\n",
      "Model: 185\n",
      "Epoch 0, Loss: 0.0000\n",
      "Epoch 0: Average Loss = 208.9387, Best Loss = 208.9387\n",
      "Epoch 100: Average Loss = 32.7264, Best Loss = 32.6668\n",
      "Epoch 200: Average Loss = 28.5283, Best Loss = 28.1035\n",
      "Epoch 300: Average Loss = 26.8259, Best Loss = 26.7770\n",
      "Early stopping triggered after 323 epochs. Restoring best model.\n"
     ]
    },
    {
     "name": "stderr",
     "output_type": "stream",
     "text": [
      "Fitting causal mechanism of node cso1: 100%|██████████| 17/17 [00:01<00:00, 10.42it/s]\n",
      "Evaluating set functions...: 100%|██████████| 149/149 [00:06<00:00, 23.29it/s]\n"
     ]
    },
    {
     "name": "stdout",
     "output_type": "stream",
     "text": [
      "bso2-->bso3 | bso1 | bfo1\n",
      "Model Accuracy: 48.92%\n",
      "--------------------------------------------------------------------------------------------------------------------------------\n",
      "Model: 186\n",
      "Epoch 0, Loss: 0.0000\n",
      "Epoch 0: Average Loss = 217.2594, Best Loss = 217.2594\n",
      "Epoch 100: Average Loss = 37.6254, Best Loss = 37.6254\n",
      "Epoch 200: Average Loss = 32.2383, Best Loss = 32.1798\n",
      "Epoch 300: Average Loss = 30.0881, Best Loss = 30.0517\n",
      "Early stopping triggered after 343 epochs. Restoring best model.\n"
     ]
    },
    {
     "name": "stderr",
     "output_type": "stream",
     "text": [
      "Fitting causal mechanism of node cso1: 100%|██████████| 17/17 [00:01<00:00, 14.49it/s]\n",
      "Evaluating set functions...: 100%|██████████| 321/321 [00:31<00:00, 10.21it/s]\n"
     ]
    },
    {
     "name": "stdout",
     "output_type": "stream",
     "text": [
      "ROOT CAUSE FOUND!\n",
      "bfo2-->bso1 | bfo2 | bso3\n",
      "Model Accuracy: 49.2%\n",
      "--------------------------------------------------------------------------------------------------------------------------------\n",
      "Model: 187\n",
      "Epoch 0, Loss: 0.0000\n",
      "Epoch 0: Average Loss = 181.5627, Best Loss = 181.5627\n",
      "Epoch 100: Average Loss = 33.5666, Best Loss = 33.5666\n",
      "Epoch 200: Average Loss = 29.2651, Best Loss = 28.8900\n",
      "Epoch 300: Average Loss = 27.4427, Best Loss = 27.2436\n",
      "Early stopping triggered after 321 epochs. Restoring best model.\n"
     ]
    },
    {
     "name": "stderr",
     "output_type": "stream",
     "text": [
      "Fitting causal mechanism of node cso1: 100%|██████████| 17/17 [00:01<00:00, 15.19it/s]\n",
      "Evaluating set functions...: 100%|██████████| 32/32 [00:00<00:00, 31994.69it/s]\n"
     ]
    },
    {
     "name": "stdout",
     "output_type": "stream",
     "text": [
      "bed2-->bed1 | bso1 | bfo2\n",
      "Model Accuracy: 48.94%\n",
      "--------------------------------------------------------------------------------------------------------------------------------\n",
      "Model: 188\n",
      "Epoch 0, Loss: 0.0001\n",
      "Epoch 0: Average Loss = 211.0831, Best Loss = 211.0831\n",
      "Epoch 100: Average Loss = 35.8571, Best Loss = 35.7516\n",
      "Epoch 200: Average Loss = 32.3352, Best Loss = 32.2600\n",
      "Epoch 300: Average Loss = 31.3778, Best Loss = 31.1606\n",
      "Early stopping triggered after 311 epochs. Restoring best model.\n"
     ]
    },
    {
     "name": "stderr",
     "output_type": "stream",
     "text": [
      "Fitting causal mechanism of node cso1: 100%|██████████| 17/17 [00:02<00:00,  6.53it/s]\n",
      "Evaluating set functions...: 100%|██████████| 114/114 [00:02<00:00, 38.62it/s]\n"
     ]
    },
    {
     "name": "stdout",
     "output_type": "stream",
     "text": [
      "ROOT CAUSE FOUND!\n",
      "bed1-->bso1 | bed1 | bfo2\n",
      "Model Accuracy: 49.21%\n",
      "--------------------------------------------------------------------------------------------------------------------------------\n",
      "Model: 189\n",
      "Epoch 0, Loss: 0.0000\n",
      "Epoch 0: Average Loss = 265.1461, Best Loss = 265.1461\n",
      "Epoch 100: Average Loss = 39.5006, Best Loss = 39.5006\n",
      "Epoch 200: Average Loss = 33.3317, Best Loss = 33.1762\n",
      "Epoch 300: Average Loss = 31.2362, Best Loss = 31.1507\n",
      "Early stopping triggered after 396 epochs. Restoring best model.\n"
     ]
    },
    {
     "name": "stderr",
     "output_type": "stream",
     "text": [
      "Fitting causal mechanism of node cso1: 100%|██████████| 17/17 [00:02<00:00,  7.82it/s]\n",
      "Evaluating set functions...: 100%|██████████| 233/233 [00:19<00:00, 11.78it/s]\n"
     ]
    },
    {
     "name": "stdout",
     "output_type": "stream",
     "text": [
      "ROOT CAUSE FOUND!\n",
      "bso1-->bfo1 | bfo2 | bso1\n",
      "Model Accuracy: 49.47%\n",
      "--------------------------------------------------------------------------------------------------------------------------------\n",
      "Model: 190\n",
      "Epoch 0, Loss: 0.0000\n",
      "Epoch 0: Average Loss = 215.8091, Best Loss = 215.8091\n",
      "Epoch 100: Average Loss = 32.5244, Best Loss = 32.5244\n",
      "Epoch 200: Average Loss = 25.4953, Best Loss = 25.3228\n",
      "Epoch 300: Average Loss = 22.5253, Best Loss = 22.5253\n",
      "Epoch 400: Average Loss = 21.1814, Best Loss = 20.9140\n",
      "Epoch 500: Average Loss = 20.2579, Best Loss = 20.1058\n",
      "Early stopping triggered after 505 epochs. Restoring best model.\n"
     ]
    },
    {
     "name": "stderr",
     "output_type": "stream",
     "text": [
      "Fitting causal mechanism of node cso1: 100%|██████████| 17/17 [00:00<00:00, 19.96it/s]\n",
      "Evaluating set functions...: 100%|██████████| 327/327 [00:23<00:00, 13.64it/s]\n"
     ]
    },
    {
     "name": "stdout",
     "output_type": "stream",
     "text": [
      "bed1-->bfo1 | bfo2 | bed2\n",
      "Model Accuracy: 49.21%\n",
      "--------------------------------------------------------------------------------------------------------------------------------\n",
      "Model: 191\n",
      "Epoch 0, Loss: 0.0000\n",
      "Epoch 0: Average Loss = 260.5572, Best Loss = 260.5572\n",
      "Epoch 100: Average Loss = 37.8731, Best Loss = 37.8336\n",
      "Epoch 200: Average Loss = 35.2120, Best Loss = 35.2120\n",
      "Early stopping triggered after 251 epochs. Restoring best model.\n"
     ]
    },
    {
     "name": "stderr",
     "output_type": "stream",
     "text": [
      "Fitting causal mechanism of node cso1: 100%|██████████| 17/17 [00:02<00:00,  8.09it/s]\n",
      "Evaluating set functions...: 100%|██████████| 267/267 [00:22<00:00, 12.06it/s]\n"
     ]
    },
    {
     "name": "stdout",
     "output_type": "stream",
     "text": [
      "ROOT CAUSE FOUND!\n",
      "bfo2-->bso1 | bso3 | bfo2\n",
      "Model Accuracy: 49.48%\n",
      "--------------------------------------------------------------------------------------------------------------------------------\n",
      "Model: 192\n",
      "Epoch 0, Loss: 0.0000\n",
      "Epoch 0: Average Loss = 262.1275, Best Loss = 262.1275\n",
      "Epoch 100: Average Loss = 28.1207, Best Loss = 28.1207\n",
      "Epoch 200: Average Loss = 21.9170, Best Loss = 21.8549\n",
      "Epoch 300: Average Loss = 19.4952, Best Loss = 19.4911\n",
      "Epoch 400: Average Loss = 18.0949, Best Loss = 18.0949\n",
      "Early stopping triggered after 424 epochs. Restoring best model.\n"
     ]
    },
    {
     "name": "stderr",
     "output_type": "stream",
     "text": [
      "Fitting causal mechanism of node cso1: 100%|██████████| 17/17 [00:01<00:00, 16.15it/s]\n",
      "Evaluating set functions...: 100%|██████████| 265/265 [00:15<00:00, 16.73it/s]\n"
     ]
    },
    {
     "name": "stdout",
     "output_type": "stream",
     "text": [
      "ROOT CAUSE FOUND!\n",
      "bso1-->bfo2 | bso1 | bfo1\n",
      "Model Accuracy: 49.74%\n",
      "--------------------------------------------------------------------------------------------------------------------------------\n",
      "Model: 193\n",
      "Epoch 0, Loss: 0.0001\n",
      "Epoch 0: Average Loss = 171.9592, Best Loss = 171.9592\n",
      "Epoch 100: Average Loss = 33.1946, Best Loss = 33.1946\n",
      "Early stopping triggered after 168 epochs. Restoring best model.\n"
     ]
    },
    {
     "name": "stderr",
     "output_type": "stream",
     "text": [
      "Fitting causal mechanism of node cso1: 100%|██████████| 17/17 [00:03<00:00,  5.34it/s]\n",
      "Evaluating set functions...: 100%|██████████| 118/118 [00:03<00:00, 33.69it/s]\n"
     ]
    },
    {
     "name": "stdout",
     "output_type": "stream",
     "text": [
      "ROOT CAUSE FOUND!\n",
      "bso3-->bfo1 | bso3 | bfo2\n",
      "Model Accuracy: 50.0%\n",
      "--------------------------------------------------------------------------------------------------------------------------------\n",
      "Model: 194\n",
      "Epoch 0, Loss: 0.0000\n",
      "Epoch 0: Average Loss = 209.4152, Best Loss = 209.4152\n",
      "Epoch 100: Average Loss = 42.8207, Best Loss = 42.8207\n",
      "Epoch 200: Average Loss = 35.7306, Best Loss = 35.7306\n",
      "Epoch 300: Average Loss = 33.2241, Best Loss = 32.9234\n",
      "Early stopping triggered after 343 epochs. Restoring best model.\n"
     ]
    },
    {
     "name": "stderr",
     "output_type": "stream",
     "text": [
      "Fitting causal mechanism of node cso1: 100%|██████████| 17/17 [00:00<00:00, 19.34it/s]\n",
      "Evaluating set functions...: 100%|██████████| 214/214 [00:08<00:00, 24.77it/s]\n"
     ]
    },
    {
     "name": "stdout",
     "output_type": "stream",
     "text": [
      "bso3-->bso1 | bfo1 | bfo2\n",
      "Model Accuracy: 49.74%\n",
      "--------------------------------------------------------------------------------------------------------------------------------\n",
      "Model: 195\n",
      "Epoch 0, Loss: 0.0000\n",
      "Epoch 0: Average Loss = 194.9299, Best Loss = 194.9299\n",
      "Epoch 100: Average Loss = 38.8067, Best Loss = 38.8067\n",
      "Epoch 200: Average Loss = 33.2222, Best Loss = 33.2222\n",
      "Epoch 300: Average Loss = 31.1351, Best Loss = 31.1351\n",
      "Early stopping triggered after 321 epochs. Restoring best model.\n"
     ]
    },
    {
     "name": "stderr",
     "output_type": "stream",
     "text": [
      "Fitting causal mechanism of node cso1: 100%|██████████| 17/17 [00:00<00:00, 17.35it/s]\n",
      "Evaluating set functions...: 100%|██████████| 268/268 [00:16<00:00, 16.20it/s]\n"
     ]
    },
    {
     "name": "stdout",
     "output_type": "stream",
     "text": [
      "ROOT CAUSE FOUND!\n",
      "bfo2-->bso1 | bfo2 | bso3\n",
      "Model Accuracy: 50.0%\n",
      "--------------------------------------------------------------------------------------------------------------------------------\n",
      "Model: 196\n",
      "Epoch 0, Loss: 0.0000\n",
      "Epoch 0: Average Loss = 229.5783, Best Loss = 229.5783\n",
      "Epoch 100: Average Loss = 49.1523, Best Loss = 49.1174\n",
      "Epoch 200: Average Loss = 38.4090, Best Loss = 38.4090\n",
      "Epoch 300: Average Loss = 34.6351, Best Loss = 34.3560\n",
      "Early stopping triggered after 351 epochs. Restoring best model.\n"
     ]
    },
    {
     "name": "stderr",
     "output_type": "stream",
     "text": [
      "Fitting causal mechanism of node cso1: 100%|██████████| 17/17 [00:00<00:00, 19.81it/s]\n",
      "Evaluating set functions...: 100%|██████████| 322/322 [00:31<00:00, 10.18it/s]\n"
     ]
    },
    {
     "name": "stdout",
     "output_type": "stream",
     "text": [
      "bed2-->bso1 | bed1 | bfo2\n",
      "Model Accuracy: 49.75%\n",
      "--------------------------------------------------------------------------------------------------------------------------------\n",
      "Model: 197\n",
      "Epoch 0, Loss: 0.0000\n",
      "Epoch 0: Average Loss = 280.0073, Best Loss = 280.0073\n",
      "Epoch 100: Average Loss = 46.3090, Best Loss = 46.2039\n",
      "Epoch 200: Average Loss = 35.0720, Best Loss = 35.0720\n",
      "Epoch 300: Average Loss = 31.0301, Best Loss = 30.8155\n",
      "Epoch 400: Average Loss = 28.5986, Best Loss = 28.5154\n",
      "Epoch 500: Average Loss = 27.5098, Best Loss = 27.4185\n",
      "Early stopping triggered after 544 epochs. Restoring best model.\n"
     ]
    },
    {
     "name": "stderr",
     "output_type": "stream",
     "text": [
      "Fitting causal mechanism of node cso1: 100%|██████████| 17/17 [00:00<00:00, 22.75it/s]\n",
      "Evaluating set functions...: 100%|██████████| 117/117 [00:00<00:00, 702.28it/s]\n"
     ]
    },
    {
     "name": "stdout",
     "output_type": "stream",
     "text": [
      "bfo2-->bso3 | bso2 | bed1\n",
      "Model Accuracy: 49.49%\n",
      "--------------------------------------------------------------------------------------------------------------------------------\n",
      "Model: 198\n",
      "Epoch 0, Loss: 0.0001\n",
      "Epoch 0: Average Loss = 211.5256, Best Loss = 211.5256\n",
      "Epoch 100: Average Loss = 35.4427, Best Loss = 35.3885\n",
      "Epoch 200: Average Loss = 33.1341, Best Loss = 33.1341\n",
      "Epoch 300: Average Loss = 32.5816, Best Loss = 32.5192\n",
      "Early stopping triggered after 301 epochs. Restoring best model.\n"
     ]
    },
    {
     "name": "stderr",
     "output_type": "stream",
     "text": [
      "Fitting causal mechanism of node cso1: 100%|██████████| 17/17 [00:02<00:00,  7.89it/s]\n",
      "Evaluating set functions...: 100%|██████████| 293/293 [00:25<00:00, 11.45it/s]\n"
     ]
    },
    {
     "name": "stdout",
     "output_type": "stream",
     "text": [
      "ROOT CAUSE FOUND!\n",
      "bfo1-->bso1 | bfo2 | bfo1\n",
      "Model Accuracy: 49.75%\n",
      "--------------------------------------------------------------------------------------------------------------------------------\n",
      "Model: 199\n",
      "Epoch 0, Loss: 0.0000\n",
      "Epoch 0: Average Loss = 191.2427, Best Loss = 191.2427\n",
      "Epoch 100: Average Loss = 33.5877, Best Loss = 33.5877\n",
      "Epoch 200: Average Loss = 29.7445, Best Loss = 29.7445\n",
      "Epoch 300: Average Loss = 28.4789, Best Loss = 28.4789\n",
      "Early stopping triggered after 374 epochs. Restoring best model.\n"
     ]
    },
    {
     "name": "stderr",
     "output_type": "stream",
     "text": [
      "Fitting causal mechanism of node cso1: 100%|██████████| 17/17 [00:01<00:00,  8.67it/s]\n",
      "Evaluating set functions...: 100%|██████████| 263/263 [00:21<00:00, 12.39it/s]\n"
     ]
    },
    {
     "name": "stdout",
     "output_type": "stream",
     "text": [
      "ROOT CAUSE FOUND!\n",
      "bfo2-->bfo2 | bso1 | bso3\n",
      "Model Accuracy: 50.0%\n",
      "--------------------------------------------------------------------------------------------------------------------------------\n"
     ]
    }
   ],
   "source": [
    "from utils.utils import set_seed\n",
    "set_seed()\n",
    "n_correct = 0\n",
    "total_checked = 0\n",
    "for i, row in enumerate(cats_rows_list):\n",
    "    total_checked +=1 \n",
    "    print('Model: '+ str(i))\n",
    "    anomaly = eval(row['affected'])[0]\n",
    "\n",
    "    anomaly_time = datetime.strptime(row['start_time'],\"%Y-%m-%d %H:%M:%S\")\n",
    "    #start_time = datetime.strptime(row['start_time'],\"%Y-%m-%d %H:%M:%S\")\n",
    "    end_time = datetime.strptime(row['end_time'],\"%Y-%m-%d %H:%M:%S\")\n",
    "    root_cause = row['root_cause']\n",
    "    mod_df = test_df[(test_df.index>= anomaly_time) & (test_df.index<= end_time)]\n",
    "    mod_df = mod_df[['aimp', 'amud', 'arnd', 'asin1', 'asin2', 'adbr', 'adfl', 'bed1',\n",
    "       'bed2', 'bfo1', 'bfo2', 'bso1', 'bso2', 'bso3', 'ced1', 'cfo1', 'cso1']]\n",
    "    num_nodes = len(mod_df.columns)\n",
    "\n",
    "    start_len = mod_df.shape[0]\n",
    "    if start_len >1000:\n",
    "        start_len = 1000\n",
    "\n",
    "    start_time = anomaly_time- timedelta(seconds=start_len)\n",
    "\n",
    "    normal_df = test_df[(test_df.index>= start_time) & (test_df.index< anomaly_time)]\n",
    "\n",
    "    sample_data = TKGNGCDataProcessor(mod_df,device,num_timestamps=20, lags=1)\n",
    "    model_data = create_granger_gat_data(pretrained_tkg,sample_data)\n",
    "    model_data.retrain_tkg()\n",
    "    features = model_data.time_series_data\n",
    "    model_name = 'model_category_'+str(row['category'])\n",
    "    \"\"\"model = CausalGraphVAE(input_dim=num_nodes, hidden_dim=128,\n",
    "                   latent_dim=16, \n",
    "                   num_nodes=num_nodes, \n",
    "                   embed_dim=17,\n",
    "                   prior_adj_matrix=A0.to(torch.float))\"\"\"\n",
    "    model = CausalGraphVAE(input_dim=num_nodes, hidden_dim=128,\n",
    "                   latent_dim=16, \n",
    "                   num_nodes=num_nodes, \n",
    "                   embed_dim=17,\n",
    "                   prior_adj_matrix=A0.to(torch.float))\n",
    "    optimizer = torch.optim.Adam(model.parameters(), lr=0.001)\n",
    "    data = create_lagged_features(features, 3, pad_value=0)\n",
    "    ee = create_lagged_features(model_data.entity_emb, 3, pad_value=0)\n",
    "    tt = create_lagged_features(model_data.timestamp_emb, 3, pad_value=0)\n",
    "        \n",
    "    dataset = TimeSeriesDataset(data, ee, tt)\n",
    "    dataloader = DataLoader(dataset,batch_size = BATCH_SIZE, shuffle=False)\n",
    "    loss = train_causal_vae(model, optimizer, dataloader, A0, num_epochs=1000)\n",
    "\n",
    "    model.eval()\n",
    "    with torch.no_grad():\n",
    "        _, _, _, learned_adj_matrix = model(data,ee,tt, num_nodes=num_nodes)\n",
    "        causal_graph = learned_adj_matrix.cpu().numpy()\n",
    "\n",
    "\n",
    "    adj_data = pd.DataFrame(causal_graph,index=cols,columns=cols)\n",
    "    candidates = adj_data[anomaly].sort_values(ascending=False)\n",
    "    candidates = candidates[candidates.index.isin( potential_causes)]\n",
    "    #A0 = learned_adj_matrix\n",
    "    try:\n",
    "        ci = causal_inference(causal_graph, mod_df, normal_df,potential_causes)\n",
    "        ci.infer_causal_path(anomaly)  \n",
    "    \n",
    "        if len(ci.causal_factors) >= 3:\n",
    "            potential_cause1 = ci.causal_factors[0][0]\n",
    "            potential_cause2 = ci.causal_factors[1][0]\n",
    "            potential_cause3 = ci.causal_factors[2][0]\n",
    "        elif len(ci.causal_factors) == 2:\n",
    "            potential_cause1 = ci.causal_factors[0][0]\n",
    "            potential_cause2 = ci.causal_factors[1][0]\n",
    "            potential_cause3 = 'NA'\n",
    "        elif len(ci.causal_factors) == 1:\n",
    "            potential_cause1 = ci.causal_factors[0][0]\n",
    "            potential_cause2 = \"NA\"\n",
    "            potential_cause3 = 'NA'\n",
    "        else:\n",
    "            potential_cause1 = candidates.index[0]\n",
    "            potential_cause2 = candidates.index[1]\n",
    "            potential_cause3 = candidates.index[2]\n",
    "    except:\n",
    "        potential_cause1 = candidates.index[0]\n",
    "        potential_cause2 = candidates.index[1]\n",
    "        potential_cause3 = candidates.index[2]\n",
    "\n",
    "   \n",
    "    if root_cause in [potential_cause1,potential_cause2,potential_cause3]:\n",
    "        n_correct+=1\n",
    "\n",
    "    if root_cause == potential_cause1:\n",
    "        row['cause_1'] = 1\n",
    "    if root_cause == potential_cause2:\n",
    "        row['cause_2'] = 1\n",
    "    if root_cause == potential_cause3:\n",
    "        row['cause_3'] = 1\n",
    "    new_metadata.append(row)\n",
    "    if root_cause in [potential_cause1 , potential_cause2 , potential_cause3]:\n",
    "        print('ROOT CAUSE FOUND!')\n",
    "    print(root_cause + '-->' + potential_cause1 + ' | ' + potential_cause2 + ' | ' + potential_cause3)\n",
    "\n",
    "    print(\"Model Accuracy: \" + str(round( (n_correct/total_checked)*100,2)) + '%' )\n",
    "    \n",
    "    print('--------------------------------------------------------------------------------------------------------------------------------')\n",
    "\n"
   ]
  },
  {
   "cell_type": "code",
   "execution_count": 25,
   "id": "28f64e06-8fb9-4385-a4f7-85e9bd684e26",
   "metadata": {},
   "outputs": [],
   "source": [
    "model.eval()\n",
    "with torch.no_grad():\n",
    "    _, _, _, learned_adj_matrix = model(data,ee,tt, num_nodes=num_nodes)\n",
    "    causal_graph = learned_adj_matrix.cpu().numpy()\n"
   ]
  },
  {
   "cell_type": "code",
   "execution_count": 26,
   "id": "a8ed0186-c81b-475d-a5cc-a07abdba56b1",
   "metadata": {},
   "outputs": [
    {
     "data": {
      "text/plain": [
       "torch.Size([17, 17])"
      ]
     },
     "execution_count": 26,
     "metadata": {},
     "output_type": "execute_result"
    }
   ],
   "source": [
    "learned_adj_matrix.shape"
   ]
  },
  {
   "cell_type": "code",
   "execution_count": 27,
   "id": "71f013f4-1482-4696-9bcb-0b1080d01727",
   "metadata": {},
   "outputs": [],
   "source": [
    "test = learned_adj_matrix.view(17* 17)\n",
    "learned_adj_matrix = learned_adj_matrix.fill_diagonal_(0)"
   ]
  },
  {
   "cell_type": "code",
   "execution_count": 30,
   "id": "ed2a239c-84f9-43b3-bf87-4e78ce18bbb9",
   "metadata": {},
   "outputs": [],
   "source": [
    "test = learned_adj_matrix.view(17* 17)"
   ]
  },
  {
   "cell_type": "code",
   "execution_count": 32,
   "id": "9cb84029-e62e-419e-884b-5c2f448fbebc",
   "metadata": {},
   "outputs": [],
   "source": [
    "edge_index, edge_weights = dense_to_sparse(learned_adj_matrix)"
   ]
  },
  {
   "cell_type": "code",
   "execution_count": 33,
   "id": "1e5f7866-718a-463d-a9bf-788d5f22e7c3",
   "metadata": {},
   "outputs": [
    {
     "data": {
      "text/plain": [
       "tensor([0.2522, 0.0987, 0.2695, 0.1731, 0.4706, 0.1125, 0.3106, 0.2640, 0.4164,\n",
       "        0.4834, 0.2022, 0.0711, 0.0988, 0.3812, 0.4941, 0.4787, 0.3354, 0.4544,\n",
       "        0.5590, 0.3079, 0.3901, 0.1605, 0.0505, 0.1401, 0.1620, 0.2574, 0.1982,\n",
       "        0.3198, 0.2155, 0.0664, 0.2103, 0.5711, 0.2762, 0.0433, 0.3262, 0.5206,\n",
       "        0.1117, 0.2694, 0.1328, 0.2747, 0.4183, 0.2704, 0.3227, 0.4283, 0.2009,\n",
       "        0.2323, 0.0313, 0.2738, 0.1755, 0.3423, 0.1162, 0.1184, 0.0988, 0.4414,\n",
       "        0.1709, 0.1148, 0.2762, 0.0911, 0.2768, 0.4247, 0.3289, 0.3534, 0.3554,\n",
       "        0.5492, 0.1656, 0.0550, 0.4583, 0.2651, 0.1937, 0.2951, 0.3260, 0.1940,\n",
       "        0.4359, 0.2285, 0.3260, 0.0206, 0.3546, 0.2014, 0.2235, 0.2543, 0.4745,\n",
       "        0.1599, 0.2250, 0.0937, 0.2395, 0.1995, 0.2765, 0.2066, 0.3003, 0.1938,\n",
       "        0.2983, 0.3402, 0.5992, 0.3475, 0.1838, 0.1235, 0.2920, 0.2451, 0.3256,\n",
       "        0.2703, 0.1463, 0.1901, 0.5759, 0.1381, 0.2015, 0.0641, 0.2882, 0.1543,\n",
       "        0.3026, 0.3461, 0.0848, 0.5388, 0.5229, 1.0000, 0.4688, 0.5775, 0.4627,\n",
       "        0.5489, 0.4013, 0.2140, 0.1321, 0.2546, 0.1704, 0.1716, 0.3534, 0.6847,\n",
       "        0.5569, 0.6128, 1.0000, 0.6530, 1.0000, 0.6894, 0.4481, 0.6114, 1.0000,\n",
       "        0.2979, 0.1549, 0.2869, 0.1512, 0.3279, 0.5791, 1.0000, 1.0000, 1.0000,\n",
       "        0.4829, 0.6976, 0.4257, 0.5646, 0.6150, 1.0000, 1.0000, 0.2166, 0.4927,\n",
       "        0.3463, 0.3678, 0.1847, 0.1685, 0.4910, 0.4117, 0.6031, 0.4025, 0.4534,\n",
       "        0.5236, 0.5040, 0.6685, 1.0000, 0.4710, 0.2757, 0.3144, 0.1615, 0.1180,\n",
       "        0.2479, 0.3793, 0.4673, 0.5662, 0.5635, 0.5562, 0.4216, 0.7038, 0.6491,\n",
       "        0.5935, 0.5776, 1.0000, 0.2634, 0.2013, 0.1162, 0.1522, 0.1637, 0.0254,\n",
       "        1.0000, 0.5670, 0.4370, 0.5977, 1.0000, 0.5986, 1.0000, 0.5802, 0.6385,\n",
       "        0.6228, 0.1272, 0.2107, 0.3409, 0.6040, 0.2167, 0.3035, 0.6573, 0.6477,\n",
       "        0.4502, 0.5451, 0.5634, 0.7123, 0.6079, 0.6174, 0.5204, 0.6255, 0.1177,\n",
       "        0.2993, 0.1662, 0.3178, 0.4658, 0.3711, 1.0000, 0.5440, 1.0000, 0.1181,\n",
       "        0.3115, 0.1990, 0.1448, 0.1469, 0.3794, 0.1001, 0.2547, 0.0221, 0.4521,\n",
       "        0.2560, 0.1790, 0.4764, 0.1057, 0.2947, 0.3060, 0.2313, 0.1615, 0.0880,\n",
       "        0.4502, 0.4511, 0.2913, 0.1990, 0.2679, 0.1956, 0.2841, 0.5382, 0.1277,\n",
       "        0.3916, 0.1709, 0.1459, 0.3056, 0.2083, 0.4700, 0.2893, 0.3141, 0.0934,\n",
       "        0.3003, 0.0688, 0.3564, 0.0425, 0.4768, 0.2191, 0.0712, 0.3624, 0.1918,\n",
       "        0.1572, 0.0762], device='cuda:0')"
      ]
     },
     "execution_count": 33,
     "metadata": {},
     "output_type": "execute_result"
    }
   ],
   "source": [
    "edge_weights"
   ]
  },
  {
   "cell_type": "code",
   "execution_count": null,
   "id": "f6a482c4-1e86-431c-a5e4-58fccd658875",
   "metadata": {},
   "outputs": [],
   "source": [
    "potential_causes"
   ]
  },
  {
   "cell_type": "code",
   "execution_count": 23,
   "id": "94cb8784-41f3-4afa-8c55-84b366f27049",
   "metadata": {},
   "outputs": [
    {
     "data": {
      "image/png": "[encoded data removed]",
      "text/latex": [
       "$\\displaystyle 0.5$"
      ],
      "text/plain": [
       "0.5"
      ]
     },
     "execution_count": 23,
     "metadata": {},
     "output_type": "execute_result"
    }
   ],
   "source": [
    "stats = pl.DataFrame(new_metadata)\n",
    "agg_stats = stats.select(pl.sum(\"cause_1\", \"cause_2\",'cause_3'))\n",
    "agg_stats.select(pl.sum_horizontal(pl.all())).item()/stats.shape[0]"
   ]
  },
  {
   "cell_type": "code",
   "execution_count": 24,
   "id": "a2c473e3-a3ba-4c91-9ea9-cc0265856f2b",
   "metadata": {},
   "outputs": [
    {
     "data": {
      "text/plain": [
       "'bfo2'"
      ]
     },
     "execution_count": 24,
     "metadata": {},
     "output_type": "execute_result"
    }
   ],
   "source": [
    "root_cause"
   ]
  },
  {
   "cell_type": "code",
   "execution_count": 26,
   "id": "38bd3819-57d0-483c-be3c-85ed4c1b3e9a",
   "metadata": {},
   "outputs": [
    {
     "data": {
      "text/plain": [
       "'cso1'"
      ]
     },
     "execution_count": 26,
     "metadata": {},
     "output_type": "execute_result"
    }
   ],
   "source": [
    "anomaly"
   ]
  },
  {
   "cell_type": "code",
   "execution_count": 27,
   "id": "dbc236f1-1968-4f17-80d3-c9c2fe2e7fb7",
   "metadata": {},
   "outputs": [
    {
     "data": {
      "image/png": "[encoded data removed]",
      "text/latex": [
       "$\\displaystyle 0.371459370510164$"
      ],
      "text/plain": [
       "0.3714593705101639"
      ]
     },
     "execution_count": 27,
     "metadata": {},
     "output_type": "execute_result"
    }
   ],
   "source": [
    "np.mean(causal_graph)"
   ]
  },
  {
   "cell_type": "code",
   "execution_count": 25,
   "id": "fad9f93b-3757-48c8-85d4-891eb51f3d9a",
   "metadata": {},
   "outputs": [
    {
     "data": {
      "text/html": [
       "<div>\n",
       "<style scoped>\n",
       "    .dataframe tbody tr th:only-of-type {\n",
       "        vertical-align: middle;\n",
       "    }\n",
       "\n",
       "    .dataframe tbody tr th {\n",
       "        vertical-align: top;\n",
       "    }\n",
       "\n",
       "    .dataframe thead th {\n",
       "        text-align: right;\n",
       "    }\n",
       "</style>\n",
       "<table border=\"1\" class=\"dataframe\">\n",
       "  <thead>\n",
       "    <tr style=\"text-align: right;\">\n",
       "      <th></th>\n",
       "      <th>aimp</th>\n",
       "      <th>amud</th>\n",
       "      <th>arnd</th>\n",
       "      <th>asin1</th>\n",
       "      <th>asin2</th>\n",
       "      <th>adbr</th>\n",
       "      <th>adfl</th>\n",
       "      <th>bed1</th>\n",
       "      <th>bed2</th>\n",
       "      <th>bfo1</th>\n",
       "      <th>bfo2</th>\n",
       "      <th>bso1</th>\n",
       "      <th>bso2</th>\n",
       "      <th>bso3</th>\n",
       "      <th>ced1</th>\n",
       "      <th>cfo1</th>\n",
       "      <th>cso1</th>\n",
       "    </tr>\n",
       "  </thead>\n",
       "  <tbody>\n",
       "    <tr>\n",
       "      <th>aimp</th>\n",
       "      <td>0.000000</td>\n",
       "      <td>0.206794</td>\n",
       "      <td>0.106287</td>\n",
       "      <td>0.114569</td>\n",
       "      <td>0.042025</td>\n",
       "      <td>0.171083</td>\n",
       "      <td>0.224217</td>\n",
       "      <td>0.145663</td>\n",
       "      <td>0.703853</td>\n",
       "      <td>0.205760</td>\n",
       "      <td>0.700846</td>\n",
       "      <td>0.232163</td>\n",
       "      <td>0.245771</td>\n",
       "      <td>0.537458</td>\n",
       "      <td>0.182045</td>\n",
       "      <td>0.109733</td>\n",
       "      <td>0.269548</td>\n",
       "    </tr>\n",
       "    <tr>\n",
       "      <th>amud</th>\n",
       "      <td>0.088947</td>\n",
       "      <td>0.000000</td>\n",
       "      <td>0.272621</td>\n",
       "      <td>0.100151</td>\n",
       "      <td>0.260866</td>\n",
       "      <td>0.146192</td>\n",
       "      <td>0.521083</td>\n",
       "      <td>0.426807</td>\n",
       "      <td>0.410943</td>\n",
       "      <td>0.421164</td>\n",
       "      <td>0.243287</td>\n",
       "      <td>0.334500</td>\n",
       "      <td>0.281939</td>\n",
       "      <td>0.256136</td>\n",
       "      <td>0.151344</td>\n",
       "      <td>0.561204</td>\n",
       "      <td>0.177459</td>\n",
       "    </tr>\n",
       "    <tr>\n",
       "      <th>arnd</th>\n",
       "      <td>0.088670</td>\n",
       "      <td>0.411724</td>\n",
       "      <td>0.000000</td>\n",
       "      <td>0.395733</td>\n",
       "      <td>0.107071</td>\n",
       "      <td>0.159322</td>\n",
       "      <td>0.462963</td>\n",
       "      <td>0.221731</td>\n",
       "      <td>0.095377</td>\n",
       "      <td>0.430168</td>\n",
       "      <td>0.229864</td>\n",
       "      <td>0.260246</td>\n",
       "      <td>0.373278</td>\n",
       "      <td>0.301274</td>\n",
       "      <td>0.369075</td>\n",
       "      <td>0.497310</td>\n",
       "      <td>0.513585</td>\n",
       "    </tr>\n",
       "    <tr>\n",
       "      <th>asin1</th>\n",
       "      <td>0.617530</td>\n",
       "      <td>0.114353</td>\n",
       "      <td>0.155496</td>\n",
       "      <td>0.000000</td>\n",
       "      <td>0.431426</td>\n",
       "      <td>0.051834</td>\n",
       "      <td>0.436027</td>\n",
       "      <td>0.379045</td>\n",
       "      <td>0.286911</td>\n",
       "      <td>0.595358</td>\n",
       "      <td>0.319157</td>\n",
       "      <td>0.429096</td>\n",
       "      <td>0.174969</td>\n",
       "      <td>0.411159</td>\n",
       "      <td>0.203245</td>\n",
       "      <td>0.330509</td>\n",
       "      <td>0.263160</td>\n",
       "    </tr>\n",
       "    <tr>\n",
       "      <th>asin2</th>\n",
       "      <td>0.310336</td>\n",
       "      <td>0.200686</td>\n",
       "      <td>0.318726</td>\n",
       "      <td>0.093504</td>\n",
       "      <td>0.000000</td>\n",
       "      <td>0.104311</td>\n",
       "      <td>0.367145</td>\n",
       "      <td>0.223119</td>\n",
       "      <td>0.366079</td>\n",
       "      <td>0.267407</td>\n",
       "      <td>0.118881</td>\n",
       "      <td>0.158229</td>\n",
       "      <td>0.509285</td>\n",
       "      <td>0.371102</td>\n",
       "      <td>0.086749</td>\n",
       "      <td>0.207700</td>\n",
       "      <td>0.174803</td>\n",
       "    </tr>\n",
       "    <tr>\n",
       "      <th>adbr</th>\n",
       "      <td>0.488893</td>\n",
       "      <td>0.186875</td>\n",
       "      <td>0.090075</td>\n",
       "      <td>0.358526</td>\n",
       "      <td>0.285870</td>\n",
       "      <td>0.000000</td>\n",
       "      <td>0.593338</td>\n",
       "      <td>0.176000</td>\n",
       "      <td>0.161949</td>\n",
       "      <td>0.331045</td>\n",
       "      <td>0.145740</td>\n",
       "      <td>0.318918</td>\n",
       "      <td>0.146959</td>\n",
       "      <td>0.122803</td>\n",
       "      <td>0.162105</td>\n",
       "      <td>0.603771</td>\n",
       "      <td>0.158054</td>\n",
       "    </tr>\n",
       "    <tr>\n",
       "      <th>adfl</th>\n",
       "      <td>0.248422</td>\n",
       "      <td>0.330216</td>\n",
       "      <td>0.152258</td>\n",
       "      <td>0.137409</td>\n",
       "      <td>0.494240</td>\n",
       "      <td>0.084427</td>\n",
       "      <td>0.000000</td>\n",
       "      <td>0.129814</td>\n",
       "      <td>0.098983</td>\n",
       "      <td>0.402223</td>\n",
       "      <td>0.188431</td>\n",
       "      <td>0.087488</td>\n",
       "      <td>0.176577</td>\n",
       "      <td>0.252805</td>\n",
       "      <td>0.107801</td>\n",
       "      <td>0.243595</td>\n",
       "      <td>0.443354</td>\n",
       "    </tr>\n",
       "    <tr>\n",
       "      <th>bed1</th>\n",
       "      <td>1.000000</td>\n",
       "      <td>1.000000</td>\n",
       "      <td>0.539573</td>\n",
       "      <td>0.502296</td>\n",
       "      <td>0.668211</td>\n",
       "      <td>0.715487</td>\n",
       "      <td>0.736942</td>\n",
       "      <td>0.000000</td>\n",
       "      <td>0.227470</td>\n",
       "      <td>0.292039</td>\n",
       "      <td>0.377602</td>\n",
       "      <td>0.387577</td>\n",
       "      <td>0.548140</td>\n",
       "      <td>0.267015</td>\n",
       "      <td>0.524470</td>\n",
       "      <td>0.721918</td>\n",
       "      <td>0.616672</td>\n",
       "    </tr>\n",
       "    <tr>\n",
       "      <th>bed2</th>\n",
       "      <td>0.666273</td>\n",
       "      <td>1.000000</td>\n",
       "      <td>0.664098</td>\n",
       "      <td>0.739226</td>\n",
       "      <td>0.623086</td>\n",
       "      <td>0.702429</td>\n",
       "      <td>0.402089</td>\n",
       "      <td>0.080537</td>\n",
       "      <td>0.000000</td>\n",
       "      <td>0.358047</td>\n",
       "      <td>0.331038</td>\n",
       "      <td>0.476915</td>\n",
       "      <td>0.498533</td>\n",
       "      <td>0.227834</td>\n",
       "      <td>0.520155</td>\n",
       "      <td>1.000000</td>\n",
       "      <td>0.664415</td>\n",
       "    </tr>\n",
       "    <tr>\n",
       "      <th>bfo1</th>\n",
       "      <td>0.430894</td>\n",
       "      <td>0.609346</td>\n",
       "      <td>1.000000</td>\n",
       "      <td>0.458554</td>\n",
       "      <td>0.558583</td>\n",
       "      <td>0.636146</td>\n",
       "      <td>1.000000</td>\n",
       "      <td>0.444974</td>\n",
       "      <td>0.155243</td>\n",
       "      <td>0.000000</td>\n",
       "      <td>0.356315</td>\n",
       "      <td>0.188026</td>\n",
       "      <td>0.129515</td>\n",
       "      <td>0.344933</td>\n",
       "      <td>0.729665</td>\n",
       "      <td>0.608088</td>\n",
       "      <td>1.000000</td>\n",
       "    </tr>\n",
       "    <tr>\n",
       "      <th>bfo2</th>\n",
       "      <td>0.524003</td>\n",
       "      <td>0.544404</td>\n",
       "      <td>0.710970</td>\n",
       "      <td>0.452600</td>\n",
       "      <td>0.678151</td>\n",
       "      <td>0.478012</td>\n",
       "      <td>1.000000</td>\n",
       "      <td>0.133873</td>\n",
       "      <td>0.482594</td>\n",
       "      <td>0.370060</td>\n",
       "      <td>0.000000</td>\n",
       "      <td>0.380957</td>\n",
       "      <td>0.108369</td>\n",
       "      <td>0.541695</td>\n",
       "      <td>0.589233</td>\n",
       "      <td>1.000000</td>\n",
       "      <td>1.000000</td>\n",
       "    </tr>\n",
       "    <tr>\n",
       "      <th>bso1</th>\n",
       "      <td>1.000000</td>\n",
       "      <td>0.609209</td>\n",
       "      <td>1.000000</td>\n",
       "      <td>1.000000</td>\n",
       "      <td>1.000000</td>\n",
       "      <td>1.000000</td>\n",
       "      <td>0.485762</td>\n",
       "      <td>0.063362</td>\n",
       "      <td>0.470712</td>\n",
       "      <td>0.604374</td>\n",
       "      <td>0.342733</td>\n",
       "      <td>0.000000</td>\n",
       "      <td>0.673511</td>\n",
       "      <td>0.306427</td>\n",
       "      <td>0.597193</td>\n",
       "      <td>0.707964</td>\n",
       "      <td>0.723666</td>\n",
       "    </tr>\n",
       "    <tr>\n",
       "      <th>bso2</th>\n",
       "      <td>1.000000</td>\n",
       "      <td>0.498561</td>\n",
       "      <td>0.511815</td>\n",
       "      <td>0.545908</td>\n",
       "      <td>0.600855</td>\n",
       "      <td>1.000000</td>\n",
       "      <td>0.640838</td>\n",
       "      <td>0.228844</td>\n",
       "      <td>0.076793</td>\n",
       "      <td>0.184827</td>\n",
       "      <td>0.487907</td>\n",
       "      <td>0.213137</td>\n",
       "      <td>0.000000</td>\n",
       "      <td>0.123955</td>\n",
       "      <td>0.628526</td>\n",
       "      <td>1.000000</td>\n",
       "      <td>0.626894</td>\n",
       "    </tr>\n",
       "    <tr>\n",
       "      <th>bso3</th>\n",
       "      <td>1.000000</td>\n",
       "      <td>0.621538</td>\n",
       "      <td>0.696932</td>\n",
       "      <td>0.474588</td>\n",
       "      <td>0.503589</td>\n",
       "      <td>0.576451</td>\n",
       "      <td>0.595521</td>\n",
       "      <td>0.294233</td>\n",
       "      <td>0.425901</td>\n",
       "      <td>0.109803</td>\n",
       "      <td>0.134959</td>\n",
       "      <td>0.037064</td>\n",
       "      <td>0.243609</td>\n",
       "      <td>0.000000</td>\n",
       "      <td>0.666574</td>\n",
       "      <td>0.555470</td>\n",
       "      <td>0.715762</td>\n",
       "    </tr>\n",
       "    <tr>\n",
       "      <th>ced1</th>\n",
       "      <td>0.284729</td>\n",
       "      <td>0.446606</td>\n",
       "      <td>0.263828</td>\n",
       "      <td>0.480470</td>\n",
       "      <td>0.316159</td>\n",
       "      <td>0.579058</td>\n",
       "      <td>0.172456</td>\n",
       "      <td>0.319801</td>\n",
       "      <td>0.116708</td>\n",
       "      <td>0.356796</td>\n",
       "      <td>0.128953</td>\n",
       "      <td>0.425084</td>\n",
       "      <td>0.137865</td>\n",
       "      <td>0.115639</td>\n",
       "      <td>0.000000</td>\n",
       "      <td>0.293746</td>\n",
       "      <td>0.297379</td>\n",
       "    </tr>\n",
       "    <tr>\n",
       "      <th>cfo1</th>\n",
       "      <td>0.317377</td>\n",
       "      <td>0.391465</td>\n",
       "      <td>0.325729</td>\n",
       "      <td>0.574294</td>\n",
       "      <td>0.437881</td>\n",
       "      <td>0.275235</td>\n",
       "      <td>0.123716</td>\n",
       "      <td>0.047461</td>\n",
       "      <td>0.262764</td>\n",
       "      <td>0.057766</td>\n",
       "      <td>0.442277</td>\n",
       "      <td>0.374749</td>\n",
       "      <td>0.213047</td>\n",
       "      <td>0.414255</td>\n",
       "      <td>0.140016</td>\n",
       "      <td>0.000000</td>\n",
       "      <td>0.068363</td>\n",
       "    </tr>\n",
       "    <tr>\n",
       "      <th>cso1</th>\n",
       "      <td>0.165144</td>\n",
       "      <td>0.461853</td>\n",
       "      <td>0.336330</td>\n",
       "      <td>0.331174</td>\n",
       "      <td>0.299199</td>\n",
       "      <td>0.518918</td>\n",
       "      <td>0.299167</td>\n",
       "      <td>0.553362</td>\n",
       "      <td>0.264035</td>\n",
       "      <td>0.164368</td>\n",
       "      <td>0.037961</td>\n",
       "      <td>0.159042</td>\n",
       "      <td>0.478029</td>\n",
       "      <td>0.274612</td>\n",
       "      <td>0.586345</td>\n",
       "      <td>0.133339</td>\n",
       "      <td>0.000000</td>\n",
       "    </tr>\n",
       "  </tbody>\n",
       "</table>\n",
       "</div>"
      ],
      "text/plain": [
       "           aimp      amud      arnd     asin1     asin2      adbr      adfl  \\\n",
       "aimp   0.000000  0.206794  0.106287  0.114569  0.042025  0.171083  0.224217   \n",
       "amud   0.088947  0.000000  0.272621  0.100151  0.260866  0.146192  0.521083   \n",
       "arnd   0.088670  0.411724  0.000000  0.395733  0.107071  0.159322  0.462963   \n",
       "asin1  0.617530  0.114353  0.155496  0.000000  0.431426  0.051834  0.436027   \n",
       "asin2  0.310336  0.200686  0.318726  0.093504  0.000000  0.104311  0.367145   \n",
       "adbr   0.488893  0.186875  0.090075  0.358526  0.285870  0.000000  0.593338   \n",
       "adfl   0.248422  0.330216  0.152258  0.137409  0.494240  0.084427  0.000000   \n",
       "bed1   1.000000  1.000000  0.539573  0.502296  0.668211  0.715487  0.736942   \n",
       "bed2   0.666273  1.000000  0.664098  0.739226  0.623086  0.702429  0.402089   \n",
       "bfo1   0.430894  0.609346  1.000000  0.458554  0.558583  0.636146  1.000000   \n",
       "bfo2   0.524003  0.544404  0.710970  0.452600  0.678151  0.478012  1.000000   \n",
       "bso1   1.000000  0.609209  1.000000  1.000000  1.000000  1.000000  0.485762   \n",
       "bso2   1.000000  0.498561  0.511815  0.545908  0.600855  1.000000  0.640838   \n",
       "bso3   1.000000  0.621538  0.696932  0.474588  0.503589  0.576451  0.595521   \n",
       "ced1   0.284729  0.446606  0.263828  0.480470  0.316159  0.579058  0.172456   \n",
       "cfo1   0.317377  0.391465  0.325729  0.574294  0.437881  0.275235  0.123716   \n",
       "cso1   0.165144  0.461853  0.336330  0.331174  0.299199  0.518918  0.299167   \n",
       "\n",
       "           bed1      bed2      bfo1      bfo2      bso1      bso2      bso3  \\\n",
       "aimp   0.145663  0.703853  0.205760  0.700846  0.232163  0.245771  0.537458   \n",
       "amud   0.426807  0.410943  0.421164  0.243287  0.334500  0.281939  0.256136   \n",
       "arnd   0.221731  0.095377  0.430168  0.229864  0.260246  0.373278  0.301274   \n",
       "asin1  0.379045  0.286911  0.595358  0.319157  0.429096  0.174969  0.411159   \n",
       "asin2  0.223119  0.366079  0.267407  0.118881  0.158229  0.509285  0.371102   \n",
       "adbr   0.176000  0.161949  0.331045  0.145740  0.318918  0.146959  0.122803   \n",
       "adfl   0.129814  0.098983  0.402223  0.188431  0.087488  0.176577  0.252805   \n",
       "bed1   0.000000  0.227470  0.292039  0.377602  0.387577  0.548140  0.267015   \n",
       "bed2   0.080537  0.000000  0.358047  0.331038  0.476915  0.498533  0.227834   \n",
       "bfo1   0.444974  0.155243  0.000000  0.356315  0.188026  0.129515  0.344933   \n",
       "bfo2   0.133873  0.482594  0.370060  0.000000  0.380957  0.108369  0.541695   \n",
       "bso1   0.063362  0.470712  0.604374  0.342733  0.000000  0.673511  0.306427   \n",
       "bso2   0.228844  0.076793  0.184827  0.487907  0.213137  0.000000  0.123955   \n",
       "bso3   0.294233  0.425901  0.109803  0.134959  0.037064  0.243609  0.000000   \n",
       "ced1   0.319801  0.116708  0.356796  0.128953  0.425084  0.137865  0.115639   \n",
       "cfo1   0.047461  0.262764  0.057766  0.442277  0.374749  0.213047  0.414255   \n",
       "cso1   0.553362  0.264035  0.164368  0.037961  0.159042  0.478029  0.274612   \n",
       "\n",
       "           ced1      cfo1      cso1  \n",
       "aimp   0.182045  0.109733  0.269548  \n",
       "amud   0.151344  0.561204  0.177459  \n",
       "arnd   0.369075  0.497310  0.513585  \n",
       "asin1  0.203245  0.330509  0.263160  \n",
       "asin2  0.086749  0.207700  0.174803  \n",
       "adbr   0.162105  0.603771  0.158054  \n",
       "adfl   0.107801  0.243595  0.443354  \n",
       "bed1   0.524470  0.721918  0.616672  \n",
       "bed2   0.520155  1.000000  0.664415  \n",
       "bfo1   0.729665  0.608088  1.000000  \n",
       "bfo2   0.589233  1.000000  1.000000  \n",
       "bso1   0.597193  0.707964  0.723666  \n",
       "bso2   0.628526  1.000000  0.626894  \n",
       "bso3   0.666574  0.555470  0.715762  \n",
       "ced1   0.000000  0.293746  0.297379  \n",
       "cfo1   0.140016  0.000000  0.068363  \n",
       "cso1   0.586345  0.133339  0.000000  "
      ]
     },
     "execution_count": 25,
     "metadata": {},
     "output_type": "execute_result"
    }
   ],
   "source": [
    "adj_data"
   ]
  },
  {
   "cell_type": "code",
   "execution_count": 34,
   "id": "2ad1cd09-7618-4a00-994a-275e542c2ee6",
   "metadata": {},
   "outputs": [
    {
     "data": {
      "text/plain": [
       "'        nx.draw(self.causal_graph, with_labels=True, node_size=800, node_color=\"skyblue\", \\n            font_size=10, font_weight=\"bold\", arrowsize=20)'"
      ]
     },
     "execution_count": 34,
     "metadata": {},
     "output_type": "execute_result"
    }
   ],
   "source": [
    "from sortedcontainers import SortedSet\n",
    "import networkx as nx\n",
    "import matplotlib.pyplot as plt\n",
    "from dowhy import gcm \n",
    "import numpy as np\n",
    "import pandas as pd\n",
    "\n",
    "\n",
    "model.eval()\n",
    "with torch.no_grad():\n",
    "    _, _, _, learned_adj_matrix = model(data,ee,tt, num_nodes=num_nodes)\n",
    "    causal_graph = learned_adj_matrix.cpu().numpy()\n",
    "\n",
    "adj_matrix=causal_graph\n",
    "threshold = np.mean(adj_matrix)\n",
    "adj_matrix[adj_matrix < threshold] = 0\n",
    "np.fill_diagonal(adj_matrix, 0, wrap=False)\n",
    "new_data = mod_df\n",
    "old_data = normal_df\n",
    "potential_causes = potential_causes\n",
    "cols = list(new_data.columns)\n",
    "causal_graph = nx.DiGraph(adj_matrix)\n",
    "def topological_remove_cycles(g):\n",
    "\n",
    "    # Taken from: https://stackoverflow.com/questions/78348739/converting-cyclic-digraph-to-acyclic-digraph-dag\n",
    "    # Dictionary of sets of incoming edges. We want to pick nodes with few of them.\n",
    "    incoming = {}\n",
    "    for node in g.nodes:\n",
    "        incoming[node] = set()\n",
    "    for node in g.nodes():\n",
    "        for next_node in g.neighbors(node):\n",
    "            incoming[next_node].add(node)\n",
    "\n",
    "    # Sorted set of (count_incoming, -count_outgoing, node) triplets.\n",
    "    # The first item in the set will have as few incoming nodes as it can, and as many outgoing.\n",
    "    # In other words, it is a greedy choice for a good node to get rid of cycles.\n",
    "    todo = SortedSet()\n",
    "    for node, to_node in incoming.items():\n",
    "        todo.add((len(to_node), -len(g.adj[node]), node))\n",
    "\n",
    "    # And now let's start removing cycles.\n",
    "    while 0 < len(todo):\n",
    "        # Get the best node.\n",
    "        _, _, node = todo.pop(0)\n",
    "        to_node = incoming[node]\n",
    "        for prev_node in to_node:\n",
    "            # Each of these edges is in, or comes from, a cycle.\n",
    "            if prev_node != node:\n",
    "                # Do bookkeeping in todo.\n",
    "                len_in = len(incoming[prev_node])\n",
    "                len_out = len(g.adj[prev_node])\n",
    "                todo.remove((len_in, -len_out, prev_node))\n",
    "                todo.add((len_in, -len_out + 1, prev_node))\n",
    "            g.remove_edge(prev_node, node)\n",
    "\n",
    "        for next_node in g.neighbors(node):\n",
    "            # Do bookkeeping in todo for forgetting about node.\n",
    "            len_in = len(incoming[next_node])\n",
    "            len_out = len(g.adj[next_node])\n",
    "            todo.remove((len_in, -len_out, next_node))\n",
    "            todo.add((len_in - 1, -len_out, next_node))\n",
    "            incoming[next_node].remove(node)\n",
    "        # And now we've guaranteed that node is cycle free and gone from our bookkeeping.\n",
    "\n",
    "\n",
    "                \n",
    "\"\"\"        nx.draw(self.causal_graph, with_labels=True, node_size=800, node_color=\"skyblue\", \n",
    "            font_size=10, font_weight=\"bold\", arrowsize=20)\"\"\"\n",
    "            "
   ]
  },
  {
   "cell_type": "code",
   "execution_count": 36,
   "id": "5398564b-0d90-4c82-b5a0-15e3f85efdd3",
   "metadata": {},
   "outputs": [
    {
     "name": "stderr",
     "output_type": "stream",
     "text": [
      "Fitting causal mechanism of node cso1: 100%|██████████| 17/17 [00:01<00:00, 13.45it/s]\n"
     ]
    }
   ],
   "source": [
    "topological_remove_cycles(causal_graph) \n",
    "\n",
    "mapping = {}\n",
    "for key, value in zip(list(causal_graph.nodes),cols):\n",
    "    mapping[key] = value\n",
    "\n",
    "causal_graph = nx.relabel_nodes(causal_graph, mapping)\n",
    "causal_model = gcm.ProbabilisticCausalModel(causal_graph)\n",
    "gcm.auto.assign_causal_mechanisms(causal_model, new_data,override_models=True)\n",
    "gcm.fit(causal_model, new_data)"
   ]
  },
  {
   "cell_type": "code",
   "execution_count": null,
   "id": "e11fc351-c2b6-4ae6-b69e-30afedd8b35e",
   "metadata": {},
   "outputs": [],
   "source": []
  },
  {
   "cell_type": "code",
   "execution_count": 37,
   "id": "b36ef232-3a56-440f-b2ac-c934392c79ba",
   "metadata": {},
   "outputs": [
    {
     "name": "stderr",
     "output_type": "stream",
     "text": [
      "Evaluating set functions...: 100%|██████████| 295/295 [00:27<00:00, 10.73it/s]\n"
     ]
    }
   ],
   "source": [
    "causal_attributions = gcm.distribution_change(causal_model, old_data, new_data, anomaly)\n",
    "abs_attributions = {}\n",
    "for k, v in causal_attributions.items():\n",
    "    if (k != anomaly) & (k in potential_causes):\n",
    "        abs_attributions[k] = abs(v)"
   ]
  },
  {
   "cell_type": "code",
   "execution_count": 38,
   "id": "713deae5-7f49-4182-a3dc-cecc81a82f1b",
   "metadata": {},
   "outputs": [],
   "source": [
    "causal_factors = sorted(abs_attributions.items(), key=lambda item: item[1], reverse=True)"
   ]
  },
  {
   "cell_type": "code",
   "execution_count": 39,
   "id": "ae9a394c-f247-438f-be95-8728eca1052f",
   "metadata": {},
   "outputs": [
    {
     "data": {
      "text/plain": [
       "[('bfo2', 1.8452791789060896),\n",
       " ('bed2', 0.33095667906828574),\n",
       " ('bfo1', 0.12611635945788793),\n",
       " ('bso1', 0.08249527988003397),\n",
       " ('bso2', 0.06529990137770968),\n",
       " ('bso3', 0.019364852287029916),\n",
       " ('bed1', 0.003613218136100902)]"
      ]
     },
     "execution_count": 39,
     "metadata": {},
     "output_type": "execute_result"
    }
   ],
   "source": [
    "causal_factors"
   ]
  },
  {
   "cell_type": "code",
   "execution_count": 40,
   "id": "139d04d7-4fe2-4945-95e2-dca7428b0cc6",
   "metadata": {},
   "outputs": [
    {
     "data": {
      "text/plain": [
       "'bfo2'"
      ]
     },
     "execution_count": 40,
     "metadata": {},
     "output_type": "execute_result"
    }
   ],
   "source": [
    "root_cause"
   ]
  },
  {
   "cell_type": "code",
   "execution_count": 41,
   "id": "41557e75-e06c-4ccd-b7bf-74a9cad7a827",
   "metadata": {},
   "outputs": [
    {
     "name": "stderr",
     "output_type": "stream",
     "text": [
      "Evaluating set functions...:  65%|██████▍   | 192/297 [12:04<07:21,  4.20s/it]"
     ]
    },
    {
     "ename": "KeyboardInterrupt",
     "evalue": "",
     "output_type": "error",
     "traceback": [
      "\u001b[1;31m---------------------------------------------------------------------------\u001b[0m",
      "\u001b[1;31mKeyboardInterrupt\u001b[0m                         Traceback (most recent call last)",
      "Cell \u001b[1;32mIn[41], line 1\u001b[0m\n\u001b[1;32m----> 1\u001b[0m att \u001b[38;5;241m=\u001b[39m gcm\u001b[38;5;241m.\u001b[39mattribute_anomalies(causal_model,target_node\u001b[38;5;241m=\u001b[39manomaly,anomaly_samples\u001b[38;5;241m=\u001b[39mnew_data)\n",
      "File \u001b[1;32m~\\anaconda3\\envs\\torch\\Lib\\site-packages\\dowhy\\gcm\\anomaly.py:142\u001b[0m, in \u001b[0;36mattribute_anomalies\u001b[1;34m(causal_model, target_node, anomaly_samples, anomaly_scorer, attribute_mean_deviation, num_distribution_samples, shapley_config)\u001b[0m\n\u001b[0;32m    139\u001b[0m noise_dependent_function, nodes_order \u001b[38;5;241m=\u001b[39m get_noise_dependent_function(causal_model, target_node)\n\u001b[0;32m    140\u001b[0m anomaly_scorer\u001b[38;5;241m.\u001b[39mfit(node_samples[target_node]\u001b[38;5;241m.\u001b[39mto_numpy())\n\u001b[1;32m--> 142\u001b[0m attributions \u001b[38;5;241m=\u001b[39m attribute_anomaly_scores(\n\u001b[0;32m    143\u001b[0m     noise_of_anomaly_samples[nodes_order]\u001b[38;5;241m.\u001b[39mto_numpy(),\n\u001b[0;32m    144\u001b[0m     noise_samples[nodes_order]\u001b[38;5;241m.\u001b[39mto_numpy(),\n\u001b[0;32m    145\u001b[0m     \u001b[38;5;28;01mlambda\u001b[39;00m x: anomaly_scorer\u001b[38;5;241m.\u001b[39mscore(noise_dependent_function(x)),\n\u001b[0;32m    146\u001b[0m     attribute_mean_deviation,\n\u001b[0;32m    147\u001b[0m     shapley_config,\n\u001b[0;32m    148\u001b[0m )\n\u001b[0;32m    150\u001b[0m \u001b[38;5;28;01mreturn\u001b[39;00m {node: attributions[:, i] \u001b[38;5;28;01mfor\u001b[39;00m i, node \u001b[38;5;129;01min\u001b[39;00m \u001b[38;5;28menumerate\u001b[39m(nodes_order)}\n",
      "File \u001b[1;32m~\\anaconda3\\envs\\torch\\Lib\\site-packages\\dowhy\\gcm\\anomaly.py:208\u001b[0m, in \u001b[0;36mattribute_anomaly_scores\u001b[1;34m(anomaly_samples, distribution_samples, anomaly_scoring_func, attribute_mean_deviation, shapley_config)\u001b[0m\n\u001b[0;32m    204\u001b[0m             result[i] \u001b[38;5;241m=\u001b[39m np\u001b[38;5;241m.\u001b[39mlog(_relative_frequency(anomaly_scoring_func(feature_samples) \u001b[38;5;241m>\u001b[39m\u001b[38;5;241m=\u001b[39m anomaly_scores[i]))\n\u001b[0;32m    206\u001b[0m     \u001b[38;5;28;01mreturn\u001b[39;00m result\n\u001b[1;32m--> 208\u001b[0m \u001b[38;5;28;01mreturn\u001b[39;00m estimate_shapley_values(set_function, anomaly_samples\u001b[38;5;241m.\u001b[39mshape[\u001b[38;5;241m1\u001b[39m], shapley_config)\n",
      "File \u001b[1;32m~\\anaconda3\\envs\\torch\\Lib\\site-packages\\dowhy\\gcm\\shapley.py:118\u001b[0m, in \u001b[0;36mestimate_shapley_values\u001b[1;34m(set_func, num_players, shapley_config)\u001b[0m\n\u001b[0;32m    116\u001b[0m     \u001b[38;5;28;01mreturn\u001b[39;00m _estimate_shapley_values_exact(set_func\u001b[38;5;241m=\u001b[39mset_func, num_players\u001b[38;5;241m=\u001b[39mnum_players, n_jobs\u001b[38;5;241m=\u001b[39mshapley_config\u001b[38;5;241m.\u001b[39mn_jobs)\n\u001b[0;32m    117\u001b[0m \u001b[38;5;28;01melif\u001b[39;00m approximation_method \u001b[38;5;241m==\u001b[39m ShapleyApproximationMethods\u001b[38;5;241m.\u001b[39mPERMUTATION:\n\u001b[1;32m--> 118\u001b[0m     \u001b[38;5;28;01mreturn\u001b[39;00m _approximate_shapley_values_via_permutation_sampling(\n\u001b[0;32m    119\u001b[0m         set_func\u001b[38;5;241m=\u001b[39mset_func,\n\u001b[0;32m    120\u001b[0m         num_players\u001b[38;5;241m=\u001b[39mnum_players,\n\u001b[0;32m    121\u001b[0m         num_permutations\u001b[38;5;241m=\u001b[39mshapley_config\u001b[38;5;241m.\u001b[39mnum_permutations,\n\u001b[0;32m    122\u001b[0m         n_jobs\u001b[38;5;241m=\u001b[39mshapley_config\u001b[38;5;241m.\u001b[39mn_jobs,\n\u001b[0;32m    123\u001b[0m     )\n\u001b[0;32m    124\u001b[0m \u001b[38;5;28;01melif\u001b[39;00m approximation_method \u001b[38;5;241m==\u001b[39m ShapleyApproximationMethods\u001b[38;5;241m.\u001b[39mEARLY_STOPPING:\n\u001b[0;32m    125\u001b[0m     \u001b[38;5;28;01mreturn\u001b[39;00m _approximate_shapley_values_via_early_stopping(\n\u001b[0;32m    126\u001b[0m         set_func\u001b[38;5;241m=\u001b[39mset_func,\n\u001b[0;32m    127\u001b[0m         num_players\u001b[38;5;241m=\u001b[39mnum_players,\n\u001b[1;32m   (...)\u001b[0m\n\u001b[0;32m    130\u001b[0m         n_jobs\u001b[38;5;241m=\u001b[39mshapley_config\u001b[38;5;241m.\u001b[39mn_jobs,\n\u001b[0;32m    131\u001b[0m     )\n",
      "File \u001b[1;32m~\\anaconda3\\envs\\torch\\Lib\\site-packages\\dowhy\\gcm\\shapley.py:276\u001b[0m, in \u001b[0;36m_approximate_shapley_values_via_permutation_sampling\u001b[1;34m(set_func, num_players, num_permutations, n_jobs, use_halton_sequence)\u001b[0m\n\u001b[0;32m    273\u001b[0m     subsets_to_evaluate\u001b[38;5;241m.\u001b[39mupdate(_create_index_order_and_subset_tuples(permutation))\n\u001b[0;32m    275\u001b[0m \u001b[38;5;28;01mwith\u001b[39;00m Parallel(n_jobs\u001b[38;5;241m=\u001b[39mn_jobs) \u001b[38;5;28;01mas\u001b[39;00m parallel:\n\u001b[1;32m--> 276\u001b[0m     evaluated_subsets \u001b[38;5;241m=\u001b[39m _evaluate_set_function(set_func, subsets_to_evaluate, parallel)\n\u001b[0;32m    278\u001b[0m shapley_values \u001b[38;5;241m=\u001b[39m _estimate_shapley_values_of_permutation(\n\u001b[0;32m    279\u001b[0m     all_permutations[\u001b[38;5;241m0\u001b[39m], evaluated_subsets, full_subset_result, empty_subset_result\n\u001b[0;32m    280\u001b[0m )\n\u001b[0;32m    281\u001b[0m \u001b[38;5;28;01mfor\u001b[39;00m i \u001b[38;5;129;01min\u001b[39;00m \u001b[38;5;28mrange\u001b[39m(\u001b[38;5;241m1\u001b[39m, \u001b[38;5;28mlen\u001b[39m(all_permutations)):\n",
      "File \u001b[1;32m~\\anaconda3\\envs\\torch\\Lib\\site-packages\\dowhy\\gcm\\shapley.py:586\u001b[0m, in \u001b[0;36m_evaluate_set_function\u001b[1;34m(set_func, evaluation_subsets, parallel_context, show_progressbar)\u001b[0m\n\u001b[0;32m    583\u001b[0m     evaluation_subsets \u001b[38;5;241m=\u001b[39m \u001b[38;5;28mlist\u001b[39m(evaluation_subsets)\n\u001b[0;32m    585\u001b[0m random_seeds \u001b[38;5;241m=\u001b[39m np\u001b[38;5;241m.\u001b[39mrandom\u001b[38;5;241m.\u001b[39mrandint(np\u001b[38;5;241m.\u001b[39miinfo(np\u001b[38;5;241m.\u001b[39mint32)\u001b[38;5;241m.\u001b[39mmax, size\u001b[38;5;241m=\u001b[39m\u001b[38;5;28mlen\u001b[39m(evaluation_subsets))\n\u001b[1;32m--> 586\u001b[0m subset_results \u001b[38;5;241m=\u001b[39m parallel_context(\n\u001b[0;32m    587\u001b[0m     delayed(parallel_job)(evaluation_subsets[i], \u001b[38;5;28mint\u001b[39m(random_seeds[i]))\n\u001b[0;32m    588\u001b[0m     \u001b[38;5;28;01mfor\u001b[39;00m i \u001b[38;5;129;01min\u001b[39;00m tqdm(\n\u001b[0;32m    589\u001b[0m         \u001b[38;5;28mrange\u001b[39m(\u001b[38;5;28mlen\u001b[39m(evaluation_subsets)),\n\u001b[0;32m    590\u001b[0m         desc\u001b[38;5;241m=\u001b[39m\u001b[38;5;124m\"\u001b[39m\u001b[38;5;124mEvaluating set functions...\u001b[39m\u001b[38;5;124m\"\u001b[39m,\n\u001b[0;32m    591\u001b[0m         position\u001b[38;5;241m=\u001b[39m\u001b[38;5;241m0\u001b[39m,\n\u001b[0;32m    592\u001b[0m         leave\u001b[38;5;241m=\u001b[39m\u001b[38;5;28;01mTrue\u001b[39;00m,\n\u001b[0;32m    593\u001b[0m         disable\u001b[38;5;241m=\u001b[39m\u001b[38;5;129;01mnot\u001b[39;00m config\u001b[38;5;241m.\u001b[39mshow_progress_bars \u001b[38;5;129;01mor\u001b[39;00m \u001b[38;5;129;01mnot\u001b[39;00m show_progressbar,\n\u001b[0;32m    594\u001b[0m     )\n\u001b[0;32m    595\u001b[0m )\n\u001b[0;32m    597\u001b[0m subset_to_result_map \u001b[38;5;241m=\u001b[39m {}\n\u001b[0;32m    598\u001b[0m \u001b[38;5;28;01mfor\u001b[39;00m subset, result \u001b[38;5;129;01min\u001b[39;00m \u001b[38;5;28mzip\u001b[39m(evaluation_subsets, subset_results):\n",
      "File \u001b[1;32m~\\anaconda3\\envs\\torch\\Lib\\site-packages\\joblib\\parallel.py:2007\u001b[0m, in \u001b[0;36mParallel.__call__\u001b[1;34m(self, iterable)\u001b[0m\n\u001b[0;32m   2001\u001b[0m \u001b[38;5;66;03m# The first item from the output is blank, but it makes the interpreter\u001b[39;00m\n\u001b[0;32m   2002\u001b[0m \u001b[38;5;66;03m# progress until it enters the Try/Except block of the generator and\u001b[39;00m\n\u001b[0;32m   2003\u001b[0m \u001b[38;5;66;03m# reaches the first `yield` statement. This starts the asynchronous\u001b[39;00m\n\u001b[0;32m   2004\u001b[0m \u001b[38;5;66;03m# dispatch of the tasks to the workers.\u001b[39;00m\n\u001b[0;32m   2005\u001b[0m \u001b[38;5;28mnext\u001b[39m(output)\n\u001b[1;32m-> 2007\u001b[0m \u001b[38;5;28;01mreturn\u001b[39;00m output \u001b[38;5;28;01mif\u001b[39;00m \u001b[38;5;28mself\u001b[39m\u001b[38;5;241m.\u001b[39mreturn_generator \u001b[38;5;28;01melse\u001b[39;00m \u001b[38;5;28mlist\u001b[39m(output)\n",
      "File \u001b[1;32m~\\anaconda3\\envs\\torch\\Lib\\site-packages\\joblib\\parallel.py:1650\u001b[0m, in \u001b[0;36mParallel._get_outputs\u001b[1;34m(self, iterator, pre_dispatch)\u001b[0m\n\u001b[0;32m   1647\u001b[0m     \u001b[38;5;28;01myield\u001b[39;00m\n\u001b[0;32m   1649\u001b[0m     \u001b[38;5;28;01mwith\u001b[39;00m \u001b[38;5;28mself\u001b[39m\u001b[38;5;241m.\u001b[39m_backend\u001b[38;5;241m.\u001b[39mretrieval_context():\n\u001b[1;32m-> 1650\u001b[0m         \u001b[38;5;28;01myield from\u001b[39;00m \u001b[38;5;28mself\u001b[39m\u001b[38;5;241m.\u001b[39m_retrieve()\n\u001b[0;32m   1652\u001b[0m \u001b[38;5;28;01mexcept\u001b[39;00m \u001b[38;5;167;01mGeneratorExit\u001b[39;00m:\n\u001b[0;32m   1653\u001b[0m     \u001b[38;5;66;03m# The generator has been garbage collected before being fully\u001b[39;00m\n\u001b[0;32m   1654\u001b[0m     \u001b[38;5;66;03m# consumed. This aborts the remaining tasks if possible and warn\u001b[39;00m\n\u001b[0;32m   1655\u001b[0m     \u001b[38;5;66;03m# the user if necessary.\u001b[39;00m\n\u001b[0;32m   1656\u001b[0m     \u001b[38;5;28mself\u001b[39m\u001b[38;5;241m.\u001b[39m_exception \u001b[38;5;241m=\u001b[39m \u001b[38;5;28;01mTrue\u001b[39;00m\n",
      "File \u001b[1;32m~\\anaconda3\\envs\\torch\\Lib\\site-packages\\joblib\\parallel.py:1762\u001b[0m, in \u001b[0;36mParallel._retrieve\u001b[1;34m(self)\u001b[0m\n\u001b[0;32m   1757\u001b[0m \u001b[38;5;66;03m# If the next job is not ready for retrieval yet, we just wait for\u001b[39;00m\n\u001b[0;32m   1758\u001b[0m \u001b[38;5;66;03m# async callbacks to progress.\u001b[39;00m\n\u001b[0;32m   1759\u001b[0m \u001b[38;5;28;01mif\u001b[39;00m ((\u001b[38;5;28mlen\u001b[39m(\u001b[38;5;28mself\u001b[39m\u001b[38;5;241m.\u001b[39m_jobs) \u001b[38;5;241m==\u001b[39m \u001b[38;5;241m0\u001b[39m) \u001b[38;5;129;01mor\u001b[39;00m\n\u001b[0;32m   1760\u001b[0m     (\u001b[38;5;28mself\u001b[39m\u001b[38;5;241m.\u001b[39m_jobs[\u001b[38;5;241m0\u001b[39m]\u001b[38;5;241m.\u001b[39mget_status(\n\u001b[0;32m   1761\u001b[0m         timeout\u001b[38;5;241m=\u001b[39m\u001b[38;5;28mself\u001b[39m\u001b[38;5;241m.\u001b[39mtimeout) \u001b[38;5;241m==\u001b[39m TASK_PENDING)):\n\u001b[1;32m-> 1762\u001b[0m     time\u001b[38;5;241m.\u001b[39msleep(\u001b[38;5;241m0.01\u001b[39m)\n\u001b[0;32m   1763\u001b[0m     \u001b[38;5;28;01mcontinue\u001b[39;00m\n\u001b[0;32m   1765\u001b[0m \u001b[38;5;66;03m# We need to be careful: the job list can be filling up as\u001b[39;00m\n\u001b[0;32m   1766\u001b[0m \u001b[38;5;66;03m# we empty it and Python list are not thread-safe by\u001b[39;00m\n\u001b[0;32m   1767\u001b[0m \u001b[38;5;66;03m# default hence the use of the lock\u001b[39;00m\n",
      "\u001b[1;31mKeyboardInterrupt\u001b[0m: "
     ]
    }
   ],
   "source": [
    "att = gcm.attribute_anomalies(causal_model,target_node=anomaly,anomaly_samples=new_data)"
   ]
  },
  {
   "cell_type": "code",
   "execution_count": null,
   "id": "ed5a3048-0557-4a45-8592-4b80e2134083",
   "metadata": {},
   "outputs": [],
   "source": []
  }
 ],
 "metadata": {
  "kernelspec": {
   "display_name": "Python 3 (ipykernel)",
   "language": "python",
   "name": "python3"
  },
  "language_info": {
   "codemirror_mode": {
    "name": "ipython",
    "version": 3
   },
   "file_extension": ".py",
   "mimetype": "text/x-python",
   "name": "python",
   "nbconvert_exporter": "python",
   "pygments_lexer": "ipython3",
   "version": "3.12.7"
  }
 },
 "nbformat": 4,
 "nbformat_minor": 5
}
