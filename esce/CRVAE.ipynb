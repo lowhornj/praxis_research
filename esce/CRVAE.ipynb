{
 "cells": [
  {
   "cell_type": "code",
   "execution_count": 1,
   "id": "a33d3834-99e2-48d5-b5b1-79f06c10c129",
   "metadata": {},
   "outputs": [],
   "source": [
    "import os\n",
    "import torch\n",
    "import polars as pl\n",
    "import pandas as pd\n",
    "import numpy as np\n",
    "import seaborn as sns\n",
    "import warnings\n",
    "from feature.scalers import ranged_scaler\n",
    "from datetime import datetime, timedelta\n",
    "#from mpge.rca import mpge_root_cause_diagnosis\n",
    "warnings.filterwarnings(\"ignore\", category=UserWarning) "
   ]
  },
  {
   "cell_type": "code",
   "execution_count": 2,
   "id": "edb91079-7390-4159-8d2a-6b2fc3c99273",
   "metadata": {},
   "outputs": [],
   "source": [
    "cats_df = pl.read_csv(\"data/data.csv\", separator=\",\")  \n",
    "metadata = pl.read_csv('data/metadata.csv',separator=',')\n",
    "potential_causes = metadata['root_cause'].unique().to_list()\n",
    "\n",
    "for col in cats_df.columns:\n",
    "    unique_vals = cats_df[col].n_unique()\n",
    "    data_type = cats_df[col].dtype\n",
    "    bad_dtypes = [pl.Date,pl.Datetime,pl.Utf8]\n",
    "    if ((unique_vals >= 50) & (data_type not in bad_dtypes) ):\n",
    "        cats_df = cats_df.with_columns(ranged_scaler(cats_df[col]))\n",
    "    else:\n",
    "        continue"
   ]
  },
  {
   "cell_type": "code",
   "execution_count": 3,
   "id": "bb4ad659-3e7b-4c01-842c-86513bb715c3",
   "metadata": {},
   "outputs": [],
   "source": [
    "cats_df = cats_df.with_columns(\n",
    "    pl.col('timestamp').str.to_datetime(\"%Y-%m-%d %H:%M:%S\"),\n",
    "    pl.Series(\"entity_id\",range(len(cats_df)))\n",
    ")\n",
    "cats_rows_list = metadata.rows(named=True)"
   ]
  },
  {
   "cell_type": "code",
   "execution_count": 4,
   "id": "7e4ee5c3-713f-4086-b4e4-5d51356d7894",
   "metadata": {},
   "outputs": [
    {
     "data": {
      "text/html": [
       "<div><style>\n",
       ".dataframe > thead > tr > th,\n",
       ".dataframe > tbody > tr > td {\n",
       "  text-align: right;\n",
       "  white-space: pre-wrap;\n",
       "}\n",
       "</style>\n",
       "<small>shape: (5, 21)</small><table border=\"1\" class=\"dataframe\"><thead><tr><th>timestamp</th><th>aimp</th><th>amud</th><th>arnd</th><th>asin1</th><th>asin2</th><th>adbr</th><th>adfl</th><th>bed1</th><th>bed2</th><th>bfo1</th><th>bfo2</th><th>bso1</th><th>bso2</th><th>bso3</th><th>ced1</th><th>cfo1</th><th>cso1</th><th>y</th><th>category</th><th>entity_id</th></tr><tr><td>datetime[μs]</td><td>f64</td><td>f64</td><td>f64</td><td>f64</td><td>f64</td><td>f64</td><td>f64</td><td>f64</td><td>f64</td><td>f64</td><td>f64</td><td>f64</td><td>f64</td><td>f64</td><td>f64</td><td>f64</td><td>f64</td><td>f64</td><td>f64</td><td>i64</td></tr></thead><tbody><tr><td>2023-01-01 00:00:00</td><td>0.0</td><td>0.142857</td><td>-0.5</td><td>-4.1078e-14</td><td>2.0428e-14</td><td>0.0</td><td>0.0</td><td>-0.32802</td><td>-0.369237</td><td>-0.738163</td><td>-0.767181</td><td>-0.180547</td><td>-0.507953</td><td>-0.716059</td><td>-0.774361</td><td>0.100389</td><td>-0.186623</td><td>0.0</td><td>0.0</td><td>0</td></tr><tr><td>2023-01-01 00:00:01</td><td>0.0</td><td>0.142857</td><td>-0.495998</td><td>0.00002</td><td>0.0002</td><td>0.0</td><td>0.0</td><td>-0.32802</td><td>-0.369237</td><td>-0.738163</td><td>-0.767181</td><td>-0.18054</td><td>-0.507953</td><td>-0.716059</td><td>-0.774361</td><td>0.100389</td><td>-0.186618</td><td>0.0</td><td>0.0</td><td>1</td></tr><tr><td>2023-01-01 00:00:02</td><td>0.0</td><td>0.142857</td><td>-0.486172</td><td>0.00004</td><td>0.0004</td><td>0.0</td><td>0.0</td><td>-0.32802</td><td>-0.369237</td><td>-0.738163</td><td>-0.767181</td><td>-0.180519</td><td>-0.507953</td><td>-0.716059</td><td>-0.774361</td><td>0.10039</td><td>-0.186604</td><td>0.0</td><td>0.0</td><td>2</td></tr><tr><td>2023-01-01 00:00:03</td><td>0.0</td><td>0.142857</td><td>-0.463453</td><td>0.00006</td><td>0.0006</td><td>0.0</td><td>0.0</td><td>-0.32802</td><td>-0.369237</td><td>-0.738163</td><td>-0.767181</td><td>-0.180484</td><td>-0.507953</td><td>-0.716059</td><td>-0.774361</td><td>0.100391</td><td>-0.18658</td><td>0.0</td><td>0.0</td><td>3</td></tr><tr><td>2023-01-01 00:00:04</td><td>0.0</td><td>0.142857</td><td>-0.444095</td><td>0.00008</td><td>0.0008</td><td>0.0</td><td>0.0</td><td>-0.32802</td><td>-0.369237</td><td>-0.738163</td><td>-0.767181</td><td>-0.180437</td><td>-0.507953</td><td>-0.716059</td><td>-0.774361</td><td>0.100393</td><td>-0.186548</td><td>0.0</td><td>0.0</td><td>4</td></tr></tbody></table></div>"
      ],
      "text/plain": [
       "shape: (5, 21)\n",
       "┌─────────────────────┬──────┬──────────┬───────────┬───┬───────────┬─────┬──────────┬───────────┐\n",
       "│ timestamp           ┆ aimp ┆ amud     ┆ arnd      ┆ … ┆ cso1      ┆ y   ┆ category ┆ entity_id │\n",
       "│ ---                 ┆ ---  ┆ ---      ┆ ---       ┆   ┆ ---       ┆ --- ┆ ---      ┆ ---       │\n",
       "│ datetime[μs]        ┆ f64  ┆ f64      ┆ f64       ┆   ┆ f64       ┆ f64 ┆ f64      ┆ i64       │\n",
       "╞═════════════════════╪══════╪══════════╪═══════════╪═══╪═══════════╪═════╪══════════╪═══════════╡\n",
       "│ 2023-01-01 00:00:00 ┆ 0.0  ┆ 0.142857 ┆ -0.5      ┆ … ┆ -0.186623 ┆ 0.0 ┆ 0.0      ┆ 0         │\n",
       "│ 2023-01-01 00:00:01 ┆ 0.0  ┆ 0.142857 ┆ -0.495998 ┆ … ┆ -0.186618 ┆ 0.0 ┆ 0.0      ┆ 1         │\n",
       "│ 2023-01-01 00:00:02 ┆ 0.0  ┆ 0.142857 ┆ -0.486172 ┆ … ┆ -0.186604 ┆ 0.0 ┆ 0.0      ┆ 2         │\n",
       "│ 2023-01-01 00:00:03 ┆ 0.0  ┆ 0.142857 ┆ -0.463453 ┆ … ┆ -0.18658  ┆ 0.0 ┆ 0.0      ┆ 3         │\n",
       "│ 2023-01-01 00:00:04 ┆ 0.0  ┆ 0.142857 ┆ -0.444095 ┆ … ┆ -0.186548 ┆ 0.0 ┆ 0.0      ┆ 4         │\n",
       "└─────────────────────┴──────┴──────────┴───────────┴───┴───────────┴─────┴──────────┴───────────┘"
      ]
     },
     "execution_count": 4,
     "metadata": {},
     "output_type": "execute_result"
    }
   ],
   "source": [
    "cats_rows_list = metadata.rows(named=True)\n",
    "cats_df.head()"
   ]
  },
  {
   "cell_type": "code",
   "execution_count": 5,
   "id": "a7f59749-d8c1-4617-b1c5-42a040c2ac8e",
   "metadata": {},
   "outputs": [],
   "source": [
    "import torch\n",
    "import numpy as np\n",
    "import matplotlib.pyplot as plt\n",
    "from cr_vae.cgru_error import CRVAE, VRAE4E, train_phase1, train_phase2\n",
    "import scipy.io\n",
    "torch.set_num_threads(10)  # Limit to 4 threads\n",
    "torch.set_num_interop_threads(5)"
   ]
  },
  {
   "cell_type": "code",
   "execution_count": null,
   "id": "0237f075-f639-44b9-98e8-cdf56ce3a4f0",
   "metadata": {},
   "outputs": [
    {
     "name": "stdout",
     "output_type": "stream",
     "text": [
      "----------Iter = 0----------\n",
      "Loss = 0.140754\n",
      "KL = 0.786345\n",
      "Variable usage = 100.00%\n",
      "*********Correct*********\n",
      "Model Accuracy: 1.0\n",
      "----------Iter = 0----------\n",
      "Loss = 0.195013\n",
      "KL = 0.874375\n",
      "Variable usage = 100.00%\n"
     ]
    }
   ],
   "source": [
    "new_metadata = []\n",
    "device = torch.device('cpu')\n",
    "correct = 0\n",
    "for i, row in enumerate(cats_rows_list):\n",
    "    num_iter = i+1\n",
    "    potential_causes = metadata['root_cause'].unique().to_list()\n",
    "\n",
    "    start_time = datetime.strptime(row['start_time'],\"%Y-%m-%d %H:%M:%S\")\n",
    "    end_time = datetime.strptime(row['end_time'],\"%Y-%m-%d %H:%M:%S\")\n",
    "    anomaly = eval(row['affected'])[0]\n",
    "    root_cause = row['root_cause']\n",
    "    potential_causes.append(anomaly)\n",
    "    mod_df = cats_df.filter( (pl.col('timestamp')>= start_time) & (pl.col('timestamp') <= end_time))\n",
    "    mod_df = mod_df.drop(['timestamp',\"y\",'category','entity_id'])\n",
    "    mod_data = mod_df.to_numpy()\n",
    "    dim = mod_data.shape[-1]\n",
    "    GC = np.zeros([dim,dim])\n",
    "    for j in range(dim):\n",
    "        GC[j,j] = 1\n",
    "        if j!=0:\n",
    "            GC[j,j-1] = 1\n",
    "    X = torch.tensor(mod_data[np.newaxis], dtype=torch.float32, device=device)\n",
    "    full_connect = np.ones(GC.shape)\n",
    "    cgru = CRVAE(X.shape[-1], full_connect, hidden=64)#.cuda(device=device)\n",
    "    vrae = VRAE4E(X.shape[-1], hidden=64)#.cuda(device=device)\n",
    "    train_loss_list = train_phase1(\n",
    "    cgru, X, context=20, lam=0.1, lam_ridge=0, lr=5e-2, max_iter=250,\n",
    "    check_every=1000,verbose=0)#0.1\n",
    "    GC_est = cgru.GC().float().cpu().data.numpy()\n",
    "    adj_df = pd.DataFrame(GC_est,index=mod_df.columns,columns=mod_df.columns)\n",
    "    causes = adj_df.loc[potential_causes][anomaly].sort_values(ascending=False)\n",
    "    potential_cause1 = causes.index[0]\n",
    "    potential_cause2 = causes.index[1]\n",
    "    potential_cause3 = causes.index[2]\n",
    "    if causes[root_cause] == 1:\n",
    "        row['cause_1'] = 1\n",
    "        print('*********Correct*********')\n",
    "        correct +=1\n",
    "    else:\n",
    "        row['cause_1']=0\n",
    "        print('*********Incorrect*********')\n",
    "    new_metadata.append(row)\n",
    "    print('Model Accuracy: '+str(correct/num_iter))"
   ]
  },
  {
   "cell_type": "code",
   "execution_count": null,
   "id": "428a511a-6d35-4a87-87d1-7e67c5e65e91",
   "metadata": {},
   "outputs": [],
   "source": []
  }
 ],
 "metadata": {
  "kernelspec": {
   "display_name": "rca",
   "language": "python",
   "name": "rca"
  },
  "language_info": {
   "codemirror_mode": {
    "name": "ipython",
    "version": 3
   },
   "file_extension": ".py",
   "mimetype": "text/x-python",
   "name": "python",
   "nbconvert_exporter": "python",
   "pygments_lexer": "ipython3",
   "version": "3.11.8"
  }
 },
 "nbformat": 4,
 "nbformat_minor": 5
}
