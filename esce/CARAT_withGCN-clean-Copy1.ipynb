{
 "cells": [
  {
   "cell_type": "code",
   "execution_count": 1,
   "id": "a97d3321-4427-4837-8269-048dc64686f7",
   "metadata": {},
   "outputs": [],
   "source": [
    "import os\n",
    "import torch\n",
    "import polars as pl\n",
    "import pandas as pd\n",
    "import numpy as np\n",
    "import seaborn as sns\n",
    "import warnings\n",
    "from feature_eng.scalers import ranged_scaler\n",
    "from datetime import datetime, timedelta\n",
    "#from mpge.rca import mpge_root_cause_diagnosis\n",
    "warnings.filterwarnings(\"ignore\", category=UserWarning) \n",
    "warnings.simplefilter(action='ignore', category=FutureWarning)\n",
    "pd.options.mode.chained_assignment = None\n",
    "\n",
    "import warnings\n",
    "\n",
    "def fxn():\n",
    "    warnings.warn(\"deprecated\", DeprecationWarning)\n",
    "\n",
    "with warnings.catch_warnings():\n",
    "    warnings.simplefilter(\"ignore\")\n",
    "    fxn()\n",
    "\n",
    "# Or if you are using > Python 3.11:\n",
    "with warnings.catch_warnings(action=\"ignore\"):\n",
    "    fxn()"
   ]
  },
  {
   "cell_type": "code",
   "execution_count": 2,
   "id": "68ef600a-406e-456a-98ac-8388b03ccc8e",
   "metadata": {},
   "outputs": [],
   "source": [
    "os.environ[\"CUBLAS_WORKSPACE_CONFIG\"] = \":4096:8\"\n",
    "os.environ[\"CUDA_LAUNCH_BLOCKING\"] = \"1\"\n"
   ]
  },
  {
   "cell_type": "code",
   "execution_count": 3,
   "id": "ec413833-9dbd-45bb-99a1-18e31bd014fb",
   "metadata": {},
   "outputs": [],
   "source": [
    "from tkgngc.embeddings import PretrainedTKGEmbeddingWithTimestamps\n",
    "from tkgngc.data_processing import TKGNGCDataProcessor\n",
    "from tkgngc.model import train_model"
   ]
  },
  {
   "cell_type": "code",
   "execution_count": 4,
   "id": "6981e0a1-e1c0-409d-ab6a-cf7d34bf1793",
   "metadata": {},
   "outputs": [],
   "source": [
    "cats_df = pl.read_csv(\"data/data.csv\", separator=\",\")  \n",
    "metadata = pl.read_csv('data/metadata.csv',separator=',')\n",
    "potential_causes = metadata['root_cause'].unique().to_list()\n",
    "\n",
    "for col in cats_df.columns:\n",
    "    unique_vals = cats_df[col].n_unique()\n",
    "    data_type = cats_df[col].dtype\n",
    "    bad_dtypes = [pl.Date,pl.Datetime,pl.Utf8]\n",
    "    if ((unique_vals >= 50) & (data_type not in bad_dtypes) ):\n",
    "        cats_df = cats_df.with_columns(ranged_scaler(cats_df[col]))\n",
    "    else:\n",
    "        continue"
   ]
  },
  {
   "cell_type": "code",
   "execution_count": 5,
   "id": "df0f5a4d-1cf3-4a87-a3fb-751607296c58",
   "metadata": {},
   "outputs": [],
   "source": [
    "cats_df = cats_df.with_columns(\n",
    "    pl.col('timestamp').str.to_datetime(\"%Y-%m-%d %H:%M:%S\"),\n",
    "    pl.Series(\"entity_id\",range(len(cats_df)))\n",
    ")"
   ]
  },
  {
   "cell_type": "code",
   "execution_count": 6,
   "id": "48b9af15-9315-41d4-86fe-907430746a4a",
   "metadata": {},
   "outputs": [
    {
     "data": {
      "text/html": [
       "<div><style>\n",
       ".dataframe > thead > tr,\n",
       ".dataframe > tbody > tr {\n",
       "  text-align: right;\n",
       "  white-space: pre-wrap;\n",
       "}\n",
       "</style>\n",
       "<small>shape: (5, 21)</small><table border=\"1\" class=\"dataframe\"><thead><tr><th>timestamp</th><th>aimp</th><th>amud</th><th>arnd</th><th>asin1</th><th>asin2</th><th>adbr</th><th>adfl</th><th>bed1</th><th>bed2</th><th>bfo1</th><th>bfo2</th><th>bso1</th><th>bso2</th><th>bso3</th><th>ced1</th><th>cfo1</th><th>cso1</th><th>y</th><th>category</th><th>entity_id</th></tr><tr><td>datetime[μs]</td><td>f64</td><td>f64</td><td>f64</td><td>f64</td><td>f64</td><td>f64</td><td>f64</td><td>f64</td><td>f64</td><td>f64</td><td>f64</td><td>f64</td><td>f64</td><td>f64</td><td>f64</td><td>f64</td><td>f64</td><td>f64</td><td>f64</td><td>i64</td></tr></thead><tbody><tr><td>2023-01-01 00:00:00</td><td>0.0</td><td>0.571429</td><td>0.25</td><td>0.5</td><td>0.5</td><td>0.0</td><td>0.0</td><td>0.33599</td><td>0.315382</td><td>0.130919</td><td>0.116409</td><td>0.409726</td><td>0.246024</td><td>0.14197</td><td>0.112819</td><td>0.550194</td><td>0.406688</td><td>0.0</td><td>0.0</td><td>0</td></tr><tr><td>2023-01-01 00:00:01</td><td>0.0</td><td>0.571429</td><td>0.252001</td><td>0.50001</td><td>0.5001</td><td>0.0</td><td>0.0</td><td>0.33599</td><td>0.315382</td><td>0.130919</td><td>0.116409</td><td>0.40973</td><td>0.246024</td><td>0.14197</td><td>0.112819</td><td>0.550194</td><td>0.406691</td><td>0.0</td><td>0.0</td><td>1</td></tr><tr><td>2023-01-01 00:00:02</td><td>0.0</td><td>0.571429</td><td>0.256914</td><td>0.50002</td><td>0.5002</td><td>0.0</td><td>0.0</td><td>0.33599</td><td>0.315382</td><td>0.130919</td><td>0.116409</td><td>0.409741</td><td>0.246024</td><td>0.14197</td><td>0.112819</td><td>0.550195</td><td>0.406698</td><td>0.0</td><td>0.0</td><td>2</td></tr><tr><td>2023-01-01 00:00:03</td><td>0.0</td><td>0.571429</td><td>0.268273</td><td>0.50003</td><td>0.5003</td><td>0.0</td><td>0.0</td><td>0.33599</td><td>0.315382</td><td>0.130919</td><td>0.116409</td><td>0.409758</td><td>0.246024</td><td>0.14197</td><td>0.112819</td><td>0.550195</td><td>0.40671</td><td>0.0</td><td>0.0</td><td>3</td></tr><tr><td>2023-01-01 00:00:04</td><td>0.0</td><td>0.571429</td><td>0.277953</td><td>0.50004</td><td>0.5004</td><td>0.0</td><td>0.0</td><td>0.33599</td><td>0.315382</td><td>0.130919</td><td>0.116409</td><td>0.409782</td><td>0.246024</td><td>0.14197</td><td>0.112819</td><td>0.550197</td><td>0.406726</td><td>0.0</td><td>0.0</td><td>4</td></tr></tbody></table></div>"
      ],
      "text/plain": [
       "shape: (5, 21)\n",
       "┌─────────────────────┬──────┬──────────┬──────────┬───┬──────────┬─────┬──────────┬───────────┐\n",
       "│ timestamp           ┆ aimp ┆ amud     ┆ arnd     ┆ … ┆ cso1     ┆ y   ┆ category ┆ entity_id │\n",
       "│ ---                 ┆ ---  ┆ ---      ┆ ---      ┆   ┆ ---      ┆ --- ┆ ---      ┆ ---       │\n",
       "│ datetime[μs]        ┆ f64  ┆ f64      ┆ f64      ┆   ┆ f64      ┆ f64 ┆ f64      ┆ i64       │\n",
       "╞═════════════════════╪══════╪══════════╪══════════╪═══╪══════════╪═════╪══════════╪═══════════╡\n",
       "│ 2023-01-01 00:00:00 ┆ 0.0  ┆ 0.571429 ┆ 0.25     ┆ … ┆ 0.406688 ┆ 0.0 ┆ 0.0      ┆ 0         │\n",
       "│ 2023-01-01 00:00:01 ┆ 0.0  ┆ 0.571429 ┆ 0.252001 ┆ … ┆ 0.406691 ┆ 0.0 ┆ 0.0      ┆ 1         │\n",
       "│ 2023-01-01 00:00:02 ┆ 0.0  ┆ 0.571429 ┆ 0.256914 ┆ … ┆ 0.406698 ┆ 0.0 ┆ 0.0      ┆ 2         │\n",
       "│ 2023-01-01 00:00:03 ┆ 0.0  ┆ 0.571429 ┆ 0.268273 ┆ … ┆ 0.40671  ┆ 0.0 ┆ 0.0      ┆ 3         │\n",
       "│ 2023-01-01 00:00:04 ┆ 0.0  ┆ 0.571429 ┆ 0.277953 ┆ … ┆ 0.406726 ┆ 0.0 ┆ 0.0      ┆ 4         │\n",
       "└─────────────────────┴──────┴──────────┴──────────┴───┴──────────┴─────┴──────────┴───────────┘"
      ]
     },
     "execution_count": 6,
     "metadata": {},
     "output_type": "execute_result"
    }
   ],
   "source": [
    "cats_rows_list = metadata.rows(named=True)\n",
    "cats_df.head()"
   ]
  },
  {
   "cell_type": "code",
   "execution_count": 7,
   "id": "b6b4cd0e-cacc-4d93-b0e9-a0cdca28b157",
   "metadata": {},
   "outputs": [],
   "source": [
    "cats_df = cats_df.to_pandas()"
   ]
  },
  {
   "cell_type": "code",
   "execution_count": 8,
   "id": "dc297da3-97f8-4077-898e-cc23b8c2e24a",
   "metadata": {},
   "outputs": [],
   "source": [
    "potential_causes = metadata['root_cause'].unique().to_list()"
   ]
  },
  {
   "cell_type": "code",
   "execution_count": 9,
   "id": "e8be12f8-8ca1-49a7-81aa-5e05325023a5",
   "metadata": {},
   "outputs": [
    {
     "data": {
      "text/html": [
       "<div>\n",
       "<style scoped>\n",
       "    .dataframe tbody tr th:only-of-type {\n",
       "        vertical-align: middle;\n",
       "    }\n",
       "\n",
       "    .dataframe tbody tr th {\n",
       "        vertical-align: top;\n",
       "    }\n",
       "\n",
       "    .dataframe thead th {\n",
       "        text-align: right;\n",
       "    }\n",
       "</style>\n",
       "<table border=\"1\" class=\"dataframe\">\n",
       "  <thead>\n",
       "    <tr style=\"text-align: right;\">\n",
       "      <th></th>\n",
       "      <th>aimp</th>\n",
       "      <th>amud</th>\n",
       "      <th>arnd</th>\n",
       "      <th>asin1</th>\n",
       "      <th>asin2</th>\n",
       "      <th>adbr</th>\n",
       "      <th>adfl</th>\n",
       "      <th>bed1</th>\n",
       "      <th>bed2</th>\n",
       "      <th>bfo1</th>\n",
       "      <th>bfo2</th>\n",
       "      <th>bso1</th>\n",
       "      <th>bso2</th>\n",
       "      <th>bso3</th>\n",
       "      <th>ced1</th>\n",
       "      <th>cfo1</th>\n",
       "      <th>cso1</th>\n",
       "    </tr>\n",
       "    <tr>\n",
       "      <th>timestamp</th>\n",
       "      <th></th>\n",
       "      <th></th>\n",
       "      <th></th>\n",
       "      <th></th>\n",
       "      <th></th>\n",
       "      <th></th>\n",
       "      <th></th>\n",
       "      <th></th>\n",
       "      <th></th>\n",
       "      <th></th>\n",
       "      <th></th>\n",
       "      <th></th>\n",
       "      <th></th>\n",
       "      <th></th>\n",
       "      <th></th>\n",
       "      <th></th>\n",
       "      <th></th>\n",
       "    </tr>\n",
       "  </thead>\n",
       "  <tbody>\n",
       "    <tr>\n",
       "      <th>2023-01-01 00:00:00</th>\n",
       "      <td>0.0</td>\n",
       "      <td>0.571429</td>\n",
       "      <td>0.250000</td>\n",
       "      <td>0.50000</td>\n",
       "      <td>0.5000</td>\n",
       "      <td>0.0</td>\n",
       "      <td>0.0</td>\n",
       "      <td>0.33599</td>\n",
       "      <td>0.315382</td>\n",
       "      <td>0.130919</td>\n",
       "      <td>0.116409</td>\n",
       "      <td>0.409726</td>\n",
       "      <td>0.246024</td>\n",
       "      <td>0.14197</td>\n",
       "      <td>0.112819</td>\n",
       "      <td>0.550194</td>\n",
       "      <td>0.406688</td>\n",
       "    </tr>\n",
       "    <tr>\n",
       "      <th>2023-01-01 00:00:01</th>\n",
       "      <td>0.0</td>\n",
       "      <td>0.571429</td>\n",
       "      <td>0.252001</td>\n",
       "      <td>0.50001</td>\n",
       "      <td>0.5001</td>\n",
       "      <td>0.0</td>\n",
       "      <td>0.0</td>\n",
       "      <td>0.33599</td>\n",
       "      <td>0.315382</td>\n",
       "      <td>0.130919</td>\n",
       "      <td>0.116409</td>\n",
       "      <td>0.409730</td>\n",
       "      <td>0.246024</td>\n",
       "      <td>0.14197</td>\n",
       "      <td>0.112819</td>\n",
       "      <td>0.550194</td>\n",
       "      <td>0.406691</td>\n",
       "    </tr>\n",
       "    <tr>\n",
       "      <th>2023-01-01 00:00:02</th>\n",
       "      <td>0.0</td>\n",
       "      <td>0.571429</td>\n",
       "      <td>0.256914</td>\n",
       "      <td>0.50002</td>\n",
       "      <td>0.5002</td>\n",
       "      <td>0.0</td>\n",
       "      <td>0.0</td>\n",
       "      <td>0.33599</td>\n",
       "      <td>0.315382</td>\n",
       "      <td>0.130919</td>\n",
       "      <td>0.116409</td>\n",
       "      <td>0.409741</td>\n",
       "      <td>0.246024</td>\n",
       "      <td>0.14197</td>\n",
       "      <td>0.112819</td>\n",
       "      <td>0.550195</td>\n",
       "      <td>0.406698</td>\n",
       "    </tr>\n",
       "    <tr>\n",
       "      <th>2023-01-01 00:00:03</th>\n",
       "      <td>0.0</td>\n",
       "      <td>0.571429</td>\n",
       "      <td>0.268273</td>\n",
       "      <td>0.50003</td>\n",
       "      <td>0.5003</td>\n",
       "      <td>0.0</td>\n",
       "      <td>0.0</td>\n",
       "      <td>0.33599</td>\n",
       "      <td>0.315382</td>\n",
       "      <td>0.130919</td>\n",
       "      <td>0.116409</td>\n",
       "      <td>0.409758</td>\n",
       "      <td>0.246024</td>\n",
       "      <td>0.14197</td>\n",
       "      <td>0.112819</td>\n",
       "      <td>0.550195</td>\n",
       "      <td>0.406710</td>\n",
       "    </tr>\n",
       "    <tr>\n",
       "      <th>2023-01-01 00:00:04</th>\n",
       "      <td>0.0</td>\n",
       "      <td>0.571429</td>\n",
       "      <td>0.277953</td>\n",
       "      <td>0.50004</td>\n",
       "      <td>0.5004</td>\n",
       "      <td>0.0</td>\n",
       "      <td>0.0</td>\n",
       "      <td>0.33599</td>\n",
       "      <td>0.315382</td>\n",
       "      <td>0.130919</td>\n",
       "      <td>0.116409</td>\n",
       "      <td>0.409782</td>\n",
       "      <td>0.246024</td>\n",
       "      <td>0.14197</td>\n",
       "      <td>0.112819</td>\n",
       "      <td>0.550197</td>\n",
       "      <td>0.406726</td>\n",
       "    </tr>\n",
       "  </tbody>\n",
       "</table>\n",
       "</div>"
      ],
      "text/plain": [
       "                     aimp      amud      arnd    asin1   asin2  adbr  adfl  \\\n",
       "timestamp                                                                    \n",
       "2023-01-01 00:00:00   0.0  0.571429  0.250000  0.50000  0.5000   0.0   0.0   \n",
       "2023-01-01 00:00:01   0.0  0.571429  0.252001  0.50001  0.5001   0.0   0.0   \n",
       "2023-01-01 00:00:02   0.0  0.571429  0.256914  0.50002  0.5002   0.0   0.0   \n",
       "2023-01-01 00:00:03   0.0  0.571429  0.268273  0.50003  0.5003   0.0   0.0   \n",
       "2023-01-01 00:00:04   0.0  0.571429  0.277953  0.50004  0.5004   0.0   0.0   \n",
       "\n",
       "                        bed1      bed2      bfo1      bfo2      bso1  \\\n",
       "timestamp                                                              \n",
       "2023-01-01 00:00:00  0.33599  0.315382  0.130919  0.116409  0.409726   \n",
       "2023-01-01 00:00:01  0.33599  0.315382  0.130919  0.116409  0.409730   \n",
       "2023-01-01 00:00:02  0.33599  0.315382  0.130919  0.116409  0.409741   \n",
       "2023-01-01 00:00:03  0.33599  0.315382  0.130919  0.116409  0.409758   \n",
       "2023-01-01 00:00:04  0.33599  0.315382  0.130919  0.116409  0.409782   \n",
       "\n",
       "                         bso2     bso3      ced1      cfo1      cso1  \n",
       "timestamp                                                             \n",
       "2023-01-01 00:00:00  0.246024  0.14197  0.112819  0.550194  0.406688  \n",
       "2023-01-01 00:00:01  0.246024  0.14197  0.112819  0.550194  0.406691  \n",
       "2023-01-01 00:00:02  0.246024  0.14197  0.112819  0.550195  0.406698  \n",
       "2023-01-01 00:00:03  0.246024  0.14197  0.112819  0.550195  0.406710  \n",
       "2023-01-01 00:00:04  0.246024  0.14197  0.112819  0.550197  0.406726  "
      ]
     },
     "execution_count": 9,
     "metadata": {},
     "output_type": "execute_result"
    }
   ],
   "source": [
    "cats_df=cats_df.set_index('timestamp')\n",
    "cats_df = cats_df.drop(['y','category','entity_id'],axis=1)\n",
    "cats_df.head()\n"
   ]
  },
  {
   "cell_type": "code",
   "execution_count": 10,
   "id": "f6b15ba7-0bab-44e8-95aa-c6b534da9748",
   "metadata": {},
   "outputs": [],
   "source": [
    "train_df = cats_df[0:1000000]\n",
    "test_df = cats_df[1000000:]"
   ]
  },
  {
   "cell_type": "code",
   "execution_count": 11,
   "id": "7bda4165-aa93-46ec-909c-19fb14248df3",
   "metadata": {},
   "outputs": [
    {
     "data": {
      "text/html": [
       "<div>\n",
       "<style scoped>\n",
       "    .dataframe tbody tr th:only-of-type {\n",
       "        vertical-align: middle;\n",
       "    }\n",
       "\n",
       "    .dataframe tbody tr th {\n",
       "        vertical-align: top;\n",
       "    }\n",
       "\n",
       "    .dataframe thead th {\n",
       "        text-align: right;\n",
       "    }\n",
       "</style>\n",
       "<table border=\"1\" class=\"dataframe\">\n",
       "  <thead>\n",
       "    <tr style=\"text-align: right;\">\n",
       "      <th></th>\n",
       "      <th>aimp</th>\n",
       "      <th>amud</th>\n",
       "      <th>arnd</th>\n",
       "      <th>asin1</th>\n",
       "      <th>asin2</th>\n",
       "      <th>adbr</th>\n",
       "      <th>adfl</th>\n",
       "      <th>bed1</th>\n",
       "      <th>bed2</th>\n",
       "      <th>bfo1</th>\n",
       "      <th>bfo2</th>\n",
       "      <th>bso1</th>\n",
       "      <th>bso2</th>\n",
       "      <th>bso3</th>\n",
       "      <th>ced1</th>\n",
       "      <th>cfo1</th>\n",
       "      <th>cso1</th>\n",
       "    </tr>\n",
       "    <tr>\n",
       "      <th>timestamp</th>\n",
       "      <th></th>\n",
       "      <th></th>\n",
       "      <th></th>\n",
       "      <th></th>\n",
       "      <th></th>\n",
       "      <th></th>\n",
       "      <th></th>\n",
       "      <th></th>\n",
       "      <th></th>\n",
       "      <th></th>\n",
       "      <th></th>\n",
       "      <th></th>\n",
       "      <th></th>\n",
       "      <th></th>\n",
       "      <th></th>\n",
       "      <th></th>\n",
       "      <th></th>\n",
       "    </tr>\n",
       "  </thead>\n",
       "  <tbody>\n",
       "    <tr>\n",
       "      <th>2023-01-01 00:00:00</th>\n",
       "      <td>0.0</td>\n",
       "      <td>0.571429</td>\n",
       "      <td>0.250000</td>\n",
       "      <td>0.50000</td>\n",
       "      <td>0.5000</td>\n",
       "      <td>0.0</td>\n",
       "      <td>0.0</td>\n",
       "      <td>0.33599</td>\n",
       "      <td>0.315382</td>\n",
       "      <td>0.130919</td>\n",
       "      <td>0.116409</td>\n",
       "      <td>0.409726</td>\n",
       "      <td>0.246024</td>\n",
       "      <td>0.14197</td>\n",
       "      <td>0.112819</td>\n",
       "      <td>0.550194</td>\n",
       "      <td>0.406688</td>\n",
       "    </tr>\n",
       "    <tr>\n",
       "      <th>2023-01-01 00:00:01</th>\n",
       "      <td>0.0</td>\n",
       "      <td>0.571429</td>\n",
       "      <td>0.252001</td>\n",
       "      <td>0.50001</td>\n",
       "      <td>0.5001</td>\n",
       "      <td>0.0</td>\n",
       "      <td>0.0</td>\n",
       "      <td>0.33599</td>\n",
       "      <td>0.315382</td>\n",
       "      <td>0.130919</td>\n",
       "      <td>0.116409</td>\n",
       "      <td>0.409730</td>\n",
       "      <td>0.246024</td>\n",
       "      <td>0.14197</td>\n",
       "      <td>0.112819</td>\n",
       "      <td>0.550194</td>\n",
       "      <td>0.406691</td>\n",
       "    </tr>\n",
       "    <tr>\n",
       "      <th>2023-01-01 00:00:02</th>\n",
       "      <td>0.0</td>\n",
       "      <td>0.571429</td>\n",
       "      <td>0.256914</td>\n",
       "      <td>0.50002</td>\n",
       "      <td>0.5002</td>\n",
       "      <td>0.0</td>\n",
       "      <td>0.0</td>\n",
       "      <td>0.33599</td>\n",
       "      <td>0.315382</td>\n",
       "      <td>0.130919</td>\n",
       "      <td>0.116409</td>\n",
       "      <td>0.409741</td>\n",
       "      <td>0.246024</td>\n",
       "      <td>0.14197</td>\n",
       "      <td>0.112819</td>\n",
       "      <td>0.550195</td>\n",
       "      <td>0.406698</td>\n",
       "    </tr>\n",
       "    <tr>\n",
       "      <th>2023-01-01 00:00:03</th>\n",
       "      <td>0.0</td>\n",
       "      <td>0.571429</td>\n",
       "      <td>0.268273</td>\n",
       "      <td>0.50003</td>\n",
       "      <td>0.5003</td>\n",
       "      <td>0.0</td>\n",
       "      <td>0.0</td>\n",
       "      <td>0.33599</td>\n",
       "      <td>0.315382</td>\n",
       "      <td>0.130919</td>\n",
       "      <td>0.116409</td>\n",
       "      <td>0.409758</td>\n",
       "      <td>0.246024</td>\n",
       "      <td>0.14197</td>\n",
       "      <td>0.112819</td>\n",
       "      <td>0.550195</td>\n",
       "      <td>0.406710</td>\n",
       "    </tr>\n",
       "    <tr>\n",
       "      <th>2023-01-01 00:00:04</th>\n",
       "      <td>0.0</td>\n",
       "      <td>0.571429</td>\n",
       "      <td>0.277953</td>\n",
       "      <td>0.50004</td>\n",
       "      <td>0.5004</td>\n",
       "      <td>0.0</td>\n",
       "      <td>0.0</td>\n",
       "      <td>0.33599</td>\n",
       "      <td>0.315382</td>\n",
       "      <td>0.130919</td>\n",
       "      <td>0.116409</td>\n",
       "      <td>0.409782</td>\n",
       "      <td>0.246024</td>\n",
       "      <td>0.14197</td>\n",
       "      <td>0.112819</td>\n",
       "      <td>0.550197</td>\n",
       "      <td>0.406726</td>\n",
       "    </tr>\n",
       "  </tbody>\n",
       "</table>\n",
       "</div>"
      ],
      "text/plain": [
       "                     aimp      amud      arnd    asin1   asin2  adbr  adfl  \\\n",
       "timestamp                                                                    \n",
       "2023-01-01 00:00:00   0.0  0.571429  0.250000  0.50000  0.5000   0.0   0.0   \n",
       "2023-01-01 00:00:01   0.0  0.571429  0.252001  0.50001  0.5001   0.0   0.0   \n",
       "2023-01-01 00:00:02   0.0  0.571429  0.256914  0.50002  0.5002   0.0   0.0   \n",
       "2023-01-01 00:00:03   0.0  0.571429  0.268273  0.50003  0.5003   0.0   0.0   \n",
       "2023-01-01 00:00:04   0.0  0.571429  0.277953  0.50004  0.5004   0.0   0.0   \n",
       "\n",
       "                        bed1      bed2      bfo1      bfo2      bso1  \\\n",
       "timestamp                                                              \n",
       "2023-01-01 00:00:00  0.33599  0.315382  0.130919  0.116409  0.409726   \n",
       "2023-01-01 00:00:01  0.33599  0.315382  0.130919  0.116409  0.409730   \n",
       "2023-01-01 00:00:02  0.33599  0.315382  0.130919  0.116409  0.409741   \n",
       "2023-01-01 00:00:03  0.33599  0.315382  0.130919  0.116409  0.409758   \n",
       "2023-01-01 00:00:04  0.33599  0.315382  0.130919  0.116409  0.409782   \n",
       "\n",
       "                         bso2     bso3      ced1      cfo1      cso1  \n",
       "timestamp                                                             \n",
       "2023-01-01 00:00:00  0.246024  0.14197  0.112819  0.550194  0.406688  \n",
       "2023-01-01 00:00:01  0.246024  0.14197  0.112819  0.550194  0.406691  \n",
       "2023-01-01 00:00:02  0.246024  0.14197  0.112819  0.550195  0.406698  \n",
       "2023-01-01 00:00:03  0.246024  0.14197  0.112819  0.550195  0.406710  \n",
       "2023-01-01 00:00:04  0.246024  0.14197  0.112819  0.550197  0.406726  "
      ]
     },
     "execution_count": 11,
     "metadata": {},
     "output_type": "execute_result"
    }
   ],
   "source": [
    "train_df.head()"
   ]
  },
  {
   "cell_type": "code",
   "execution_count": 12,
   "id": "af75df75-c4c5-47d3-8f48-748b82fc6160",
   "metadata": {},
   "outputs": [],
   "source": [
    "device = torch.device(\"cuda\" if torch.cuda.is_available() else \"cpu\")\n",
    "#device = torch.device(\"cpu\")\n"
   ]
  },
  {
   "cell_type": "code",
   "execution_count": 13,
   "id": "22ef7544-f092-4051-9ee2-f0894d2a42c5",
   "metadata": {},
   "outputs": [
    {
     "data": {
      "text/plain": [
       "device(type='cuda')"
      ]
     },
     "execution_count": 13,
     "metadata": {},
     "output_type": "execute_result"
    }
   ],
   "source": [
    "device"
   ]
  },
  {
   "cell_type": "code",
   "execution_count": 14,
   "id": "ad842ebd-c542-44c1-8dcd-403a591f4877",
   "metadata": {},
   "outputs": [
    {
     "data": {
      "text/plain": [
       "Index(['aimp', 'amud', 'arnd', 'asin1', 'asin2', 'adbr', 'adfl', 'bed1',\n",
       "       'bed2', 'bfo1', 'bfo2', 'bso1', 'bso2', 'bso3', 'ced1', 'cfo1', 'cso1'],\n",
       "      dtype='object')"
      ]
     },
     "execution_count": 14,
     "metadata": {},
     "output_type": "execute_result"
    }
   ],
   "source": [
    "train_df.columns"
   ]
  },
  {
   "cell_type": "code",
   "execution_count": 15,
   "id": "3d4f3cf7-daad-4a4f-849c-7a3bf5dc83b4",
   "metadata": {},
   "outputs": [],
   "source": [
    "tkgnc_data = TKGNGCDataProcessor(train_df,device,num_timestamps=20, lags=1)"
   ]
  },
  {
   "cell_type": "code",
   "execution_count": 16,
   "id": "efbb4177-4e9d-4049-8b6d-c01fc6d151b3",
   "metadata": {},
   "outputs": [],
   "source": [
    "pretrained_tkg = PretrainedTKGEmbeddingWithTimestamps(\n",
    "    num_entities=int(tkgnc_data.entity_indices.max().item()+1),\n",
    "    num_relations=int(tkgnc_data.relation_indices.max().item()+1),\n",
    "    embedding_dim=17,\n",
    "    num_timestamps=tkgnc_data.num_timestamps,\n",
    ").to(device)"
   ]
  },
  {
   "cell_type": "code",
   "execution_count": 17,
   "id": "1f91aab9-1d99-43c3-9784-471a4e0c33ca",
   "metadata": {},
   "outputs": [],
   "source": [
    "quads = (\n",
    "    tkgnc_data.entity_indices[:-1],  # Head entities\n",
    "    tkgnc_data.relation_indices,  # Relations\n",
    "    tkgnc_data.entity_indices[1:],  # Tail entities (shifted example)\n",
    "    tkgnc_data.timestamp_indices[:-1],  # Timestamps\n",
    ")\n"
   ]
  },
  {
   "cell_type": "code",
   "execution_count": 18,
   "id": "d5e27acf-c6c2-414e-ba04-414f3dbc7718",
   "metadata": {},
   "outputs": [
    {
     "data": {
      "text/plain": [
       "<All keys matched successfully>"
      ]
     },
     "execution_count": 18,
     "metadata": {},
     "output_type": "execute_result"
    }
   ],
   "source": [
    "#pretrained_tkg.pretrain(quads, learning_rate=0.01, epochs=1000)\n",
    "#torch.save(pretrained_tkg.state_dict(), 'pretrained_tkg')\n",
    "pretrained_tkg.load_state_dict(torch.load('pretrained_tkg'))"
   ]
  },
  {
   "cell_type": "code",
   "execution_count": 19,
   "id": "94e7d528-4b34-4488-86ae-dfa80511c3be",
   "metadata": {},
   "outputs": [
    {
     "name": "stdout",
     "output_type": "stream",
     "text": [
      "Using device: cuda\n"
     ]
    },
    {
     "name": "stderr",
     "output_type": "stream",
     "text": [
      "C:\\Users\\jlowh\\anaconda3\\envs\\torch\\Lib\\site-packages\\tqdm\\auto.py:21: TqdmWarning: IProgress not found. Please update jupyter and ipywidgets. See https://ipywidgets.readthedocs.io/en/stable/user_install.html\n",
      "  from .autonotebook import tqdm as notebook_tqdm\n"
     ]
    }
   ],
   "source": [
    "from CARAT.data_processing import *\n",
    "from CARAT.model import *\n",
    "from CARAT.causal_inference import causal_inference"
   ]
  },
  {
   "cell_type": "code",
   "execution_count": 20,
   "id": "ab4ff270-6892-43e6-8571-b623acdd105c",
   "metadata": {},
   "outputs": [],
   "source": [
    "try:\n",
    "    train_df = train_df.drop('time',axis=1)\n",
    "except:\n",
    "    None\n",
    "try:\n",
    "    test_df = test_df.drop('time',axis=1)\n",
    "except:\n",
    "    None"
   ]
  },
  {
   "cell_type": "code",
   "execution_count": 21,
   "id": "6a25ce54-b18f-421a-9cf8-fd1dce20eb20",
   "metadata": {},
   "outputs": [],
   "source": [
    "cols = list(train_df.columns)\n",
    "non_causal_columns = list(set(cols).difference(set(potential_causes)))\n",
    "causal_indices = [train_df.columns.get_loc(col) for col in potential_causes]\n",
    "non_causal_indices = [train_df.columns.get_loc(col) for col in non_causal_columns]\n",
    "\n",
    "num_nodes = len(train_df.columns)\n",
    "\n",
    "new_metadata = []\n",
    "A0 = get_adjacency(cols,causal_indices,non_causal_indices,num_nodes)    \n",
    "BATCH_SIZE = 64\n",
    "\n",
    "model = CausalGraphVAE(input_dim=num_nodes, hidden_dim=128,\n",
    "                   latent_dim=16, \n",
    "                   num_nodes=num_nodes, \n",
    "                   embed_dim=17,\n",
    "                   prior_adj_matrix=A0.to(torch.float))\n",
    "optimizer = torch.optim.Adam(model.parameters(), lr=0.001)"
   ]
  },
  {
   "cell_type": "code",
   "execution_count": null,
   "id": "85f85455-f1f0-4274-8987-871b4d279b58",
   "metadata": {
    "scrolled": true
   },
   "outputs": [
    {
     "name": "stdout",
     "output_type": "stream",
     "text": [
      "Model: 0\n",
      "Anomaly: cfo1\n",
      "Epoch 0, Loss: 0.0011\n",
      "Epoch 0: Average Loss = 10480.3547, Best Loss = 10480.3547\n",
      "Epoch 100: Average Loss = 386.0594, Best Loss = 386.0594\n",
      "Epoch 200: Average Loss = 140.8277, Best Loss = 140.8277\n",
      "Epoch 300: Average Loss = 82.0645, Best Loss = 82.0645\n",
      "Epoch 400: Average Loss = 58.7239, Best Loss = 58.7239\n",
      "Epoch 500: Average Loss = 47.3852, Best Loss = 47.3831\n",
      "Early stopping triggered after 587 epochs. Restoring best model.\n"
     ]
    },
    {
     "name": "stderr",
     "output_type": "stream",
     "text": [
      "Fitting causal mechanism of node cso1: 100%|██████████| 17/17 [00:01<00:00, 16.42it/s]\n",
      "Evaluating set functions...: 100%|██████████| 85/85 [00:00<00:00, 852.66it/s]\n"
     ]
    },
    {
     "name": "stdout",
     "output_type": "stream",
     "text": [
      "ROOT CAUSE FOUND!\n",
      "bso3-->bfo1 | bso3 | bfo2\n",
      "bso3-->bfo1 | bfo2 | bso1\n",
      "Model Accuracy Method 1: 100.0%\n",
      "Model Accuracy Method 2: 0.0%\n",
      "--------------------------------------------------------------------------------------------------------------------------------\n",
      "Model: 1\n",
      "Anomaly: cfo1\n",
      "Epoch 0, Loss: 0.0015\n",
      "Epoch 0: Average Loss = 8405.7438, Best Loss = 8405.7438\n",
      "Epoch 100: Average Loss = 35.6933, Best Loss = 35.6933\n",
      "Early stopping triggered after 141 epochs. Restoring best model.\n"
     ]
    },
    {
     "name": "stderr",
     "output_type": "stream",
     "text": [
      "Fitting causal mechanism of node cso1: 100%|██████████| 17/17 [00:01<00:00,  8.87it/s]\n",
      "Evaluating set functions...: 100%|██████████| 53/53 [00:00<00:00, 26498.76it/s]\n"
     ]
    },
    {
     "name": "stdout",
     "output_type": "stream",
     "text": [
      "ROOT CAUSE FOUND!\n",
      "bso3-->bso1 | bso3 | bso2\n",
      "bso3-->bfo2 | bso1 | bso3\n",
      "Model Accuracy Method 1: 100.0%\n",
      "Model Accuracy Method 2: 50.0%\n",
      "--------------------------------------------------------------------------------------------------------------------------------\n",
      "Model: 2\n",
      "Anomaly: cso1\n",
      "Epoch 0, Loss: 0.0005\n",
      "Epoch 0: Average Loss = 8300.5010, Best Loss = 8300.5010\n",
      "Epoch 100: Average Loss = 97.1750, Best Loss = 97.1750\n",
      "Epoch 200: Average Loss = 46.8654, Best Loss = 46.8654\n",
      "Epoch 300: Average Loss = 43.8596, Best Loss = 36.2039\n",
      "Epoch 400: Average Loss = 34.8425, Best Loss = 32.3858\n",
      "Epoch 500: Average Loss = 30.4188, Best Loss = 30.4068\n",
      "Early stopping triggered after 579 epochs. Restoring best model.\n"
     ]
    },
    {
     "name": "stderr",
     "output_type": "stream",
     "text": [
      "Fitting causal mechanism of node cso1: 100%|██████████| 17/17 [00:01<00:00, 13.92it/s]\n",
      "Evaluating set functions...: 100%|██████████| 84/84 [00:00<00:00, 1531.81it/s]\n"
     ]
    },
    {
     "name": "stdout",
     "output_type": "stream",
     "text": [
      "bfo2-->bso3 | bfo1 | bso1\n",
      "bfo2-->bso1 | bso3 | bfo1\n",
      "Model Accuracy Method 1: 66.67%\n",
      "Model Accuracy Method 2: 33.33%\n",
      "--------------------------------------------------------------------------------------------------------------------------------\n",
      "Model: 3\n",
      "Anomaly: ced1\n",
      "Epoch 0, Loss: 0.0003\n",
      "Epoch 0: Average Loss = 10318.4888, Best Loss = 10318.4888\n",
      "Early stopping triggered after 15 epochs. Restoring best model.\n"
     ]
    },
    {
     "name": "stderr",
     "output_type": "stream",
     "text": [
      "Fitting causal mechanism of node cso1: 100%|██████████| 17/17 [00:00<00:00, 19.04it/s]\n",
      "Evaluating set functions...: 100%|██████████| 81/81 [00:00<00:00, 349.82it/s]\n"
     ]
    },
    {
     "name": "stdout",
     "output_type": "stream",
     "text": [
      "bed2-->bso1 | bed1 | bfo2\n",
      "bed2-->bfo2 | bso1 | bed1\n",
      "Model Accuracy Method 1: 50.0%\n",
      "Model Accuracy Method 2: 25.0%\n",
      "--------------------------------------------------------------------------------------------------------------------------------\n",
      "Model: 4\n",
      "Anomaly: cfo1\n",
      "Epoch 0, Loss: 0.0001\n",
      "Epoch 0: Average Loss = 8765.5610, Best Loss = 8765.5610\n",
      "Early stopping triggered after 15 epochs. Restoring best model.\n"
     ]
    },
    {
     "name": "stderr",
     "output_type": "stream",
     "text": [
      "Fitting causal mechanism of node cso1: 100%|██████████| 17/17 [00:00<00:00, 20.16it/s]\n",
      "Evaluating set functions...: 100%|██████████| 209/209 [00:07<00:00, 26.20it/s]\n"
     ]
    },
    {
     "name": "stdout",
     "output_type": "stream",
     "text": [
      "ROOT CAUSE FOUND!\n",
      "bfo1-->bfo1 | bso3 | bed2\n",
      "bfo1-->bfo2 | bso3 | bso2\n",
      "Model Accuracy Method 1: 60.0%\n",
      "Model Accuracy Method 2: 20.0%\n",
      "--------------------------------------------------------------------------------------------------------------------------------\n",
      "Model: 5\n",
      "Anomaly: cfo1\n",
      "Epoch 0, Loss: 0.0006\n",
      "Epoch 0: Average Loss = 6763.1683, Best Loss = 6763.1683\n",
      "Epoch 100: Average Loss = 143.0340, Best Loss = 143.0340\n",
      "Epoch 200: Average Loss = 65.0748, Best Loss = 65.0748\n",
      "Epoch 300: Average Loss = 46.6258, Best Loss = 46.6258\n",
      "Epoch 400: Average Loss = 39.6220, Best Loss = 39.5208\n",
      "Early stopping triggered after 443 epochs. Restoring best model.\n"
     ]
    },
    {
     "name": "stderr",
     "output_type": "stream",
     "text": [
      "Fitting causal mechanism of node cso1: 100%|██████████| 17/17 [00:01<00:00, 12.64it/s]\n",
      "Evaluating set functions...: 100%|██████████| 84/84 [00:00<00:00, 919.34it/s]\n"
     ]
    },
    {
     "name": "stdout",
     "output_type": "stream",
     "text": [
      "ROOT CAUSE FOUND!\n",
      "bso1-->bfo2 | bso1 | bfo1\n",
      "bso1-->bso1 | bfo1 | bed1\n",
      "Model Accuracy Method 1: 66.67%\n",
      "Model Accuracy Method 2: 33.33%\n",
      "--------------------------------------------------------------------------------------------------------------------------------\n",
      "Model: 6\n",
      "Anomaly: cso1\n",
      "Epoch 0, Loss: 0.0004\n",
      "Epoch 0: Average Loss = 21002.4524, Best Loss = 21002.4524\n",
      "Early stopping triggered after 15 epochs. Restoring best model.\n"
     ]
    },
    {
     "name": "stderr",
     "output_type": "stream",
     "text": [
      "Fitting causal mechanism of node cso1: 100%|██████████| 17/17 [00:00<00:00, 21.09it/s]\n",
      "Evaluating set functions...: 100%|██████████| 8/8 [00:00<?, ?it/s]\n"
     ]
    },
    {
     "name": "stdout",
     "output_type": "stream",
     "text": [
      "ROOT CAUSE FOUND!\n",
      "bfo2-->bed2 | bfo2 | NA\n",
      "bfo2-->bfo2 | bed2 | NA\n",
      "Model Accuracy Method 1: 71.43%\n",
      "Model Accuracy Method 2: 42.86%\n",
      "--------------------------------------------------------------------------------------------------------------------------------\n",
      "Model: 7\n",
      "Anomaly: cfo1\n",
      "Epoch 0, Loss: 0.0006\n",
      "Epoch 0: Average Loss = 16870.8540, Best Loss = 16870.8540\n",
      "Epoch 100: Average Loss = 1044.1498, Best Loss = 1044.1498\n",
      "Epoch 200: Average Loss = 346.6627, Best Loss = 346.6627\n",
      "Epoch 300: Average Loss = 177.4058, Best Loss = 177.4058\n",
      "Epoch 400: Average Loss = 108.7833, Best Loss = 108.7833\n",
      "Epoch 500: Average Loss = 73.8368, Best Loss = 73.8368\n",
      "Epoch 600: Average Loss = 53.8866, Best Loss = 53.8866\n",
      "Epoch 700: Average Loss = 41.4261, Best Loss = 41.4261\n",
      "Epoch 800: Average Loss = 33.2793, Best Loss = 33.2793\n",
      "Epoch 900: Average Loss = 28.0438, Best Loss = 27.6697\n"
     ]
    },
    {
     "name": "stderr",
     "output_type": "stream",
     "text": [
      "Fitting causal mechanism of node cso1: 100%|██████████| 17/17 [00:00<00:00, 27.43it/s]\n",
      "Evaluating set functions...: 100%|██████████| 114/114 [00:00<00:00, 1818.13it/s]\n"
     ]
    },
    {
     "name": "stdout",
     "output_type": "stream",
     "text": [
      "ROOT CAUSE FOUND!\n",
      "bfo1-->bfo2 | bfo1 | bed2\n",
      "bfo1-->bfo2 | bfo1 | bso2\n",
      "Model Accuracy Method 1: 75.0%\n",
      "Model Accuracy Method 2: 50.0%\n",
      "--------------------------------------------------------------------------------------------------------------------------------\n",
      "Model: 8\n",
      "Anomaly: cso1\n",
      "Epoch 0, Loss: 0.0005\n",
      "Epoch 0: Average Loss = 13538.0053, Best Loss = 13538.0053\n",
      "Epoch 100: Average Loss = 262.6964, Best Loss = 262.6964\n",
      "Epoch 200: Average Loss = 96.5717, Best Loss = 96.5717\n",
      "Epoch 300: Average Loss = 58.1324, Best Loss = 58.1324\n",
      "Epoch 400: Average Loss = 43.7870, Best Loss = 43.7870\n",
      "Epoch 500: Average Loss = 37.0170, Best Loss = 37.0170\n",
      "Early stopping triggered after 574 epochs. Restoring best model.\n"
     ]
    },
    {
     "name": "stderr",
     "output_type": "stream",
     "text": [
      "Fitting causal mechanism of node cso1: 100%|██████████| 17/17 [00:00<00:00, 17.81it/s]\n",
      "Evaluating set functions...: 100%|██████████| 52/52 [00:00<00:00, 51966.60it/s]\n"
     ]
    },
    {
     "name": "stdout",
     "output_type": "stream",
     "text": [
      "bso2-->bfo1 | bso3 | bed2\n",
      "bso2-->bfo1 | bso3 | bso2\n",
      "Model Accuracy Method 1: 66.67%\n",
      "Model Accuracy Method 2: 55.56%\n",
      "--------------------------------------------------------------------------------------------------------------------------------\n",
      "Model: 9\n",
      "Anomaly: ced1\n",
      "Epoch 0, Loss: 0.0003\n",
      "Epoch 0: Average Loss = 11285.3581, Best Loss = 11285.3581\n",
      "Epoch 100: Average Loss = 412.7289, Best Loss = 412.7289\n",
      "Epoch 200: Average Loss = 145.1939, Best Loss = 145.1939\n",
      "Epoch 300: Average Loss = 84.3075, Best Loss = 84.3075\n",
      "Epoch 400: Average Loss = 57.9556, Best Loss = 57.9556\n",
      "Epoch 500: Average Loss = 45.7766, Best Loss = 45.7766\n",
      "Epoch 600: Average Loss = 39.2406, Best Loss = 39.2406\n",
      "Epoch 700: Average Loss = 35.2553, Best Loss = 35.2553\n",
      "Early stopping triggered after 746 epochs. Restoring best model.\n"
     ]
    },
    {
     "name": "stderr",
     "output_type": "stream",
     "text": [
      "Fitting causal mechanism of node cso1: 100%|██████████| 17/17 [00:01<00:00, 13.90it/s]\n",
      "Evaluating set functions...: 100%|██████████| 155/155 [00:01<00:00, 119.33it/s]\n"
     ]
    },
    {
     "name": "stdout",
     "output_type": "stream",
     "text": [
      "bed2-->bso1 | bso3 | bfo1\n",
      "bed2-->bso1 | bed1 | bso3\n",
      "Model Accuracy Method 1: 60.0%\n",
      "Model Accuracy Method 2: 50.0%\n",
      "--------------------------------------------------------------------------------------------------------------------------------\n",
      "Model: 10\n",
      "Anomaly: cfo1\n",
      "Epoch 0, Loss: 0.0003\n",
      "Epoch 0: Average Loss = 16336.4093, Best Loss = 16336.4093\n",
      "Early stopping triggered after 15 epochs. Restoring best model.\n"
     ]
    },
    {
     "name": "stderr",
     "output_type": "stream",
     "text": [
      "Fitting causal mechanism of node cso1: 100%|██████████| 17/17 [00:00<00:00, 18.99it/s]\n",
      "Evaluating set functions...: 100%|██████████| 374/374 [00:38<00:00,  9.60it/s]\n"
     ]
    },
    {
     "name": "stdout",
     "output_type": "stream",
     "text": [
      "bso1-->bfo1 | bed2 | bfo2\n",
      "bso1-->bfo2 | bso2 | bso1\n",
      "Model Accuracy Method 1: 54.55%\n",
      "Model Accuracy Method 2: 54.55%\n",
      "--------------------------------------------------------------------------------------------------------------------------------\n",
      "Model: 11\n",
      "Anomaly: cso1\n",
      "Epoch 0, Loss: 0.0004\n",
      "Epoch 0: Average Loss = 14960.1688, Best Loss = 14960.1688\n",
      "Epoch 100: Average Loss = 285.7256, Best Loss = 285.7256\n",
      "Epoch 200: Average Loss = 102.0740, Best Loss = 102.0740\n",
      "Epoch 300: Average Loss = 60.1582, Best Loss = 60.1582\n",
      "Epoch 400: Average Loss = 44.4218, Best Loss = 44.4218\n",
      "Epoch 500: Average Loss = 37.2638, Best Loss = 37.1871\n",
      "Epoch 600: Average Loss = 33.6542, Best Loss = 33.5856\n",
      "Early stopping triggered after 643 epochs. Restoring best model.\n"
     ]
    },
    {
     "name": "stderr",
     "output_type": "stream",
     "text": [
      "Fitting causal mechanism of node cso1: 100%|██████████| 17/17 [00:01<00:00, 14.39it/s]\n",
      "Evaluating set functions...: 100%|██████████| 151/151 [00:00<00:00, 162.74it/s]\n"
     ]
    },
    {
     "name": "stdout",
     "output_type": "stream",
     "text": [
      "ROOT CAUSE FOUND!\n",
      "bfo2-->bfo2 | bso1 | bed2\n",
      "bfo2-->bfo2 | bso1 | bso2\n",
      "Model Accuracy Method 1: 58.33%\n",
      "Model Accuracy Method 2: 58.33%\n",
      "--------------------------------------------------------------------------------------------------------------------------------\n",
      "Model: 12\n",
      "Anomaly: cso1\n",
      "Epoch 0, Loss: 0.0003\n",
      "Epoch 0: Average Loss = 14479.5418, Best Loss = 14479.5418\n",
      "Epoch 100: Average Loss = 149.4339, Best Loss = 149.4339\n",
      "Epoch 200: Average Loss = 75.6362, Best Loss = 66.6271\n",
      "Epoch 300: Average Loss = 43.2660, Best Loss = 43.2660\n",
      "Early stopping triggered after 359 epochs. Restoring best model.\n"
     ]
    },
    {
     "name": "stderr",
     "output_type": "stream",
     "text": [
      "Fitting causal mechanism of node cso1: 100%|██████████| 17/17 [00:01<00:00, 11.71it/s]\n",
      "Evaluating set functions...: 100%|██████████| 148/148 [00:00<00:00, 295.40it/s]\n"
     ]
    },
    {
     "name": "stdout",
     "output_type": "stream",
     "text": [
      "bso2-->bfo1 | bso3 | bso1\n",
      "bso2-->bso3 | bfo1 | bso1\n",
      "Model Accuracy Method 1: 53.85%\n",
      "Model Accuracy Method 2: 53.85%\n",
      "--------------------------------------------------------------------------------------------------------------------------------\n",
      "Model: 13\n",
      "Anomaly: cso1\n",
      "Epoch 0, Loss: 0.0002\n",
      "Epoch 0: Average Loss = 13355.6157, Best Loss = 13355.6157\n",
      "Early stopping triggered after 15 epochs. Restoring best model.\n"
     ]
    },
    {
     "name": "stderr",
     "output_type": "stream",
     "text": [
      "Fitting causal mechanism of node cso1: 100%|██████████| 17/17 [00:00<00:00, 18.23it/s]\n",
      "Evaluating set functions...: 100%|██████████| 348/348 [00:34<00:00, 10.06it/s]\n"
     ]
    },
    {
     "name": "stdout",
     "output_type": "stream",
     "text": [
      "ROOT CAUSE FOUND!\n",
      "bfo2-->bfo2 | bed1 | bfo1\n",
      "bfo2-->bso2 | bfo1 | bso3\n",
      "Model Accuracy Method 1: 57.14%\n",
      "Model Accuracy Method 2: 50.0%\n",
      "--------------------------------------------------------------------------------------------------------------------------------\n",
      "Model: 14\n",
      "Anomaly: cfo1\n",
      "Epoch 0, Loss: 0.0000\n",
      "Epoch 0: Average Loss = 14013.3805, Best Loss = 14013.3805\n",
      "Early stopping triggered after 15 epochs. Restoring best model.\n"
     ]
    },
    {
     "name": "stderr",
     "output_type": "stream",
     "text": [
      "Fitting causal mechanism of node cso1: 100%|██████████| 17/17 [00:01<00:00, 15.86it/s]\n",
      "Evaluating set functions...: 100%|██████████| 379/379 [00:46<00:00,  8.10it/s]\n"
     ]
    },
    {
     "name": "stdout",
     "output_type": "stream",
     "text": [
      "ROOT CAUSE FOUND!\n",
      "bso1-->bso1 | bfo1 | bso3\n",
      "bso1-->bso3 | bfo1 | bso1\n",
      "Model Accuracy Method 1: 60.0%\n",
      "Model Accuracy Method 2: 53.33%\n",
      "--------------------------------------------------------------------------------------------------------------------------------\n",
      "Model: 15\n",
      "Anomaly: ced1\n",
      "Epoch 0, Loss: 0.0003\n",
      "Epoch 0: Average Loss = 21568.4363, Best Loss = 21568.4363\n",
      "Epoch 100: Average Loss = 713.4707, Best Loss = 713.4707\n",
      "Epoch 200: Average Loss = 233.1905, Best Loss = 233.1905\n",
      "Epoch 300: Average Loss = 119.1187, Best Loss = 119.1187\n",
      "Epoch 400: Average Loss = 73.5351, Best Loss = 73.5351\n",
      "Epoch 500: Average Loss = 51.3680, Best Loss = 51.3680\n",
      "Epoch 600: Average Loss = 38.6021, Best Loss = 38.6021\n",
      "Epoch 700: Average Loss = 31.2707, Best Loss = 31.2603\n",
      "Epoch 800: Average Loss = 26.5911, Best Loss = 26.5911\n",
      "Epoch 900: Average Loss = 23.6439, Best Loss = 23.6439\n"
     ]
    },
    {
     "name": "stderr",
     "output_type": "stream",
     "text": [
      "Fitting causal mechanism of node cso1: 100%|██████████| 17/17 [00:00<00:00, 27.04it/s]\n",
      "Evaluating set functions...: 100%|██████████| 82/82 [00:00<00:00, 1085.79it/s]\n"
     ]
    },
    {
     "name": "stdout",
     "output_type": "stream",
     "text": [
      "ROOT CAUSE FOUND!\n",
      "bed1-->bfo2 | bed1 | bso3\n",
      "bed1-->bfo1 | bfo2 | bso1\n",
      "Model Accuracy Method 1: 62.5%\n",
      "Model Accuracy Method 2: 50.0%\n",
      "--------------------------------------------------------------------------------------------------------------------------------\n",
      "Model: 16\n",
      "Anomaly: cfo1\n",
      "Epoch 0, Loss: 0.0003\n",
      "Epoch 0: Average Loss = 15931.9051, Best Loss = 15931.9051\n",
      "Epoch 100: Average Loss = 301.1017, Best Loss = 301.1017\n",
      "Epoch 200: Average Loss = 110.0216, Best Loss = 110.0216\n",
      "Epoch 300: Average Loss = 65.6443, Best Loss = 65.6443\n",
      "Epoch 400: Average Loss = 48.6605, Best Loss = 48.6605\n",
      "Early stopping triggered after 474 epochs. Restoring best model.\n"
     ]
    },
    {
     "name": "stderr",
     "output_type": "stream",
     "text": [
      "Fitting causal mechanism of node cso1: 100%|██████████| 17/17 [00:01<00:00, 12.46it/s]\n",
      "Evaluating set functions...: 100%|██████████| 85/85 [00:00<00:00, 521.75it/s]\n"
     ]
    },
    {
     "name": "stdout",
     "output_type": "stream",
     "text": [
      "bso3-->bso1 | bfo2 | bfo1\n",
      "bso3-->bfo1 | bfo2 | bso3\n",
      "Model Accuracy Method 1: 58.82%\n",
      "Model Accuracy Method 2: 52.94%\n",
      "--------------------------------------------------------------------------------------------------------------------------------\n",
      "Model: 17\n",
      "Anomaly: cfo1\n",
      "Epoch 0, Loss: 0.0006\n",
      "Epoch 0: Average Loss = 6254.0500, Best Loss = 6254.0500\n",
      "Epoch 100: Average Loss = 41.5783, Best Loss = 39.3492\n",
      "Early stopping triggered after 166 epochs. Restoring best model.\n"
     ]
    },
    {
     "name": "stderr",
     "output_type": "stream",
     "text": [
      "Fitting causal mechanism of node cso1: 100%|██████████| 17/17 [00:02<00:00,  8.49it/s]\n",
      "Evaluating set functions...: 100%|██████████| 84/84 [00:00<00:00, 993.76it/s]\n"
     ]
    },
    {
     "name": "stdout",
     "output_type": "stream",
     "text": [
      "ROOT CAUSE FOUND!\n",
      "bfo1-->bfo1 | bfo2 | bso1\n",
      "bfo1-->bfo1 | bfo2 | bso1\n",
      "Model Accuracy Method 1: 61.11%\n",
      "Model Accuracy Method 2: 55.56%\n",
      "--------------------------------------------------------------------------------------------------------------------------------\n",
      "Model: 18\n",
      "Anomaly: ced1\n",
      "Epoch 0, Loss: 0.0001\n",
      "Epoch 0: Average Loss = 29434.2420, Best Loss = 29434.2420\n",
      "Epoch 100: Average Loss = 965.0790, Best Loss = 965.0790\n",
      "Epoch 200: Average Loss = 311.2677, Best Loss = 311.2677\n",
      "Epoch 300: Average Loss = 155.6651, Best Loss = 155.6651\n",
      "Epoch 400: Average Loss = 93.7309, Best Loss = 93.7309\n",
      "Epoch 500: Average Loss = 63.3411, Best Loss = 63.3411\n",
      "Epoch 600: Average Loss = 46.2881, Best Loss = 46.2881\n",
      "Epoch 700: Average Loss = 36.2309, Best Loss = 36.2309\n",
      "Epoch 800: Average Loss = 30.0075, Best Loss = 30.0075\n",
      "Epoch 900: Average Loss = 26.1900, Best Loss = 25.9984\n"
     ]
    },
    {
     "name": "stderr",
     "output_type": "stream",
     "text": [
      "Fitting causal mechanism of node cso1: 100%|██████████| 17/17 [00:00<00:00, 22.35it/s]\n",
      "Evaluating set functions...: 100%|██████████| 55/55 [00:00<00:00, 54951.58it/s]\n"
     ]
    },
    {
     "name": "stdout",
     "output_type": "stream",
     "text": [
      "ROOT CAUSE FOUND!\n",
      "bed1-->bed1 | bfo1 | bso1\n",
      "bed1-->bso1 | bfo1 | bso3\n",
      "Model Accuracy Method 1: 63.16%\n",
      "Model Accuracy Method 2: 52.63%\n",
      "--------------------------------------------------------------------------------------------------------------------------------\n",
      "Model: 19\n",
      "Anomaly: cso1\n",
      "Epoch 0, Loss: 0.0002\n",
      "Epoch 0: Average Loss = 12951.2394, Best Loss = 12951.2394\n",
      "Early stopping triggered after 15 epochs. Restoring best model.\n"
     ]
    },
    {
     "name": "stderr",
     "output_type": "stream",
     "text": [
      "Fitting causal mechanism of node cso1: 100%|██████████| 17/17 [00:01<00:00, 16.93it/s]\n",
      "Evaluating set functions...: 100%|██████████| 378/378 [00:49<00:00,  7.58it/s]\n"
     ]
    },
    {
     "name": "stdout",
     "output_type": "stream",
     "text": [
      "ROOT CAUSE FOUND!\n",
      "bfo2-->bfo1 | bfo2 | bso1\n",
      "bfo2-->bfo1 | bso2 | bfo2\n",
      "Model Accuracy Method 1: 65.0%\n",
      "Model Accuracy Method 2: 55.0%\n",
      "--------------------------------------------------------------------------------------------------------------------------------\n",
      "Model: 20\n",
      "Anomaly: ced1\n",
      "Epoch 0, Loss: 0.0000\n",
      "Epoch 0: Average Loss = 6972.2634, Best Loss = 6972.2634\n",
      "Early stopping triggered after 15 epochs. Restoring best model.\n"
     ]
    },
    {
     "name": "stderr",
     "output_type": "stream",
     "text": [
      "Fitting causal mechanism of node cso1: 100%|██████████| 17/17 [00:00<00:00, 17.31it/s]\n",
      "Evaluating set functions...: 100%|██████████| 149/149 [00:05<00:00, 27.68it/s]\n"
     ]
    },
    {
     "name": "stdout",
     "output_type": "stream",
     "text": [
      "ROOT CAUSE FOUND!\n",
      "bed2-->bfo2 | bso1 | bed2\n",
      "bed2-->bfo2 | bso3 | bso1\n",
      "Model Accuracy Method 1: 66.67%\n",
      "Model Accuracy Method 2: 52.38%\n",
      "--------------------------------------------------------------------------------------------------------------------------------\n",
      "Model: 21\n",
      "Anomaly: cfo1\n",
      "Epoch 0, Loss: 0.0002\n",
      "Epoch 0: Average Loss = 7088.9269, Best Loss = 7088.9269\n",
      "Epoch 100: Average Loss = 263.6458, Best Loss = 263.6458\n",
      "Epoch 200: Average Loss = 100.6383, Best Loss = 100.6383\n",
      "Epoch 300: Average Loss = 62.0756, Best Loss = 62.0756\n",
      "Epoch 400: Average Loss = 48.8380, Best Loss = 47.0798\n",
      "Epoch 500: Average Loss = 39.2676, Best Loss = 39.2676\n",
      "Epoch 600: Average Loss = 35.0852, Best Loss = 35.0307\n",
      "Epoch 700: Average Loss = 32.5398, Best Loss = 32.5203\n",
      "Epoch 800: Average Loss = 31.1564, Best Loss = 31.0353\n",
      "Early stopping triggered after 848 epochs. Restoring best model.\n"
     ]
    },
    {
     "name": "stderr",
     "output_type": "stream",
     "text": [
      "Fitting causal mechanism of node cso1: 100%|██████████| 17/17 [00:00<00:00, 24.13it/s]\n",
      "Evaluating set functions...: 100%|██████████| 87/87 [00:00<00:00, 1298.19it/s]\n"
     ]
    },
    {
     "name": "stdout",
     "output_type": "stream",
     "text": [
      "bso3-->bfo2 | bed1 | bfo1\n",
      "bso3-->bfo1 | bfo2 | bso3\n",
      "Model Accuracy Method 1: 63.64%\n",
      "Model Accuracy Method 2: 54.55%\n",
      "--------------------------------------------------------------------------------------------------------------------------------\n",
      "Model: 22\n",
      "Anomaly: cso1\n",
      "Epoch 0, Loss: 0.0002\n",
      "Epoch 0: Average Loss = 9369.7205, Best Loss = 9369.7205\n",
      "Epoch 100: Average Loss = 609.9502, Best Loss = 609.9502\n",
      "Epoch 200: Average Loss = 215.2805, Best Loss = 215.2805\n",
      "Epoch 300: Average Loss = 119.4794, Best Loss = 119.4794\n",
      "Epoch 400: Average Loss = 80.5491, Best Loss = 80.5491\n",
      "Epoch 500: Average Loss = 60.8837, Best Loss = 60.8837\n",
      "Epoch 600: Average Loss = 49.7718, Best Loss = 49.6362\n",
      "Epoch 700: Average Loss = 42.5172, Best Loss = 42.5172\n",
      "Epoch 800: Average Loss = 38.0135, Best Loss = 37.7820\n",
      "Epoch 900: Average Loss = 34.8652, Best Loss = 34.8652\n"
     ]
    },
    {
     "name": "stderr",
     "output_type": "stream",
     "text": [
      "Fitting causal mechanism of node cso1: 100%|██████████| 17/17 [00:00<00:00, 18.20it/s]\n",
      "Evaluating set functions...: 100%|██████████| 81/81 [00:00<00:00, 817.98it/s]\n"
     ]
    },
    {
     "name": "stdout",
     "output_type": "stream",
     "text": [
      "bfo2-->bfo1 | bso1 | bed1\n",
      "bfo2-->bfo1 | bed1 | bso3\n",
      "Model Accuracy Method 1: 60.87%\n",
      "Model Accuracy Method 2: 52.17%\n",
      "--------------------------------------------------------------------------------------------------------------------------------\n",
      "Model: 23\n",
      "Anomaly: ced1\n",
      "Epoch 0, Loss: 0.0004\n",
      "Epoch 0: Average Loss = 7355.7651, Best Loss = 7355.7651\n",
      "Epoch 100: Average Loss = 34.8695, Best Loss = 34.8695\n",
      "Early stopping triggered after 174 epochs. Restoring best model.\n"
     ]
    },
    {
     "name": "stderr",
     "output_type": "stream",
     "text": [
      "Fitting causal mechanism of node cso1: 100%|██████████| 17/17 [00:01<00:00,  8.94it/s]\n",
      "Evaluating set functions...: 100%|██████████| 84/84 [00:00<00:00, 1494.36it/s]\n"
     ]
    },
    {
     "name": "stdout",
     "output_type": "stream",
     "text": [
      "ROOT CAUSE FOUND!\n",
      "bed1-->bed1 | bso3 | bed2\n",
      "bed1-->bed1 | bfo2 | bfo1\n",
      "Model Accuracy Method 1: 62.5%\n",
      "Model Accuracy Method 2: 54.17%\n",
      "--------------------------------------------------------------------------------------------------------------------------------\n",
      "Model: 24\n",
      "Anomaly: ced1\n",
      "Epoch 0, Loss: 0.0001\n",
      "Epoch 0: Average Loss = 17644.2942, Best Loss = 17644.2942\n",
      "Early stopping triggered after 15 epochs. Restoring best model.\n"
     ]
    },
    {
     "name": "stderr",
     "output_type": "stream",
     "text": [
      "Fitting causal mechanism of node cso1: 100%|██████████| 17/17 [00:01<00:00, 16.52it/s]\n",
      "Evaluating set functions...: 100%|██████████| 351/351 [00:38<00:00,  9.21it/s]\n"
     ]
    },
    {
     "name": "stdout",
     "output_type": "stream",
     "text": [
      "bed2-->bfo1 | bso2 | bfo2\n",
      "bed2-->bso1 | bfo1 | bed2\n",
      "Model Accuracy Method 1: 60.0%\n",
      "Model Accuracy Method 2: 56.0%\n",
      "--------------------------------------------------------------------------------------------------------------------------------\n",
      "Model: 25\n",
      "Anomaly: ced1\n",
      "Epoch 0, Loss: 0.0000\n",
      "Epoch 0: Average Loss = 19855.2098, Best Loss = 19855.2098\n",
      "Early stopping triggered after 15 epochs. Restoring best model.\n"
     ]
    },
    {
     "name": "stderr",
     "output_type": "stream",
     "text": [
      "Fitting causal mechanism of node cso1: 100%|██████████| 17/17 [00:01<00:00, 12.10it/s]\n",
      "Evaluating set functions...: 100%|██████████| 351/351 [00:52<00:00,  6.71it/s]\n"
     ]
    },
    {
     "name": "stdout",
     "output_type": "stream",
     "text": [
      "bed2-->bso3 | bfo1 | bed1\n",
      "bed2-->bfo1 | bed1 | bso1\n",
      "Model Accuracy Method 1: 57.69%\n",
      "Model Accuracy Method 2: 53.85%\n",
      "--------------------------------------------------------------------------------------------------------------------------------\n",
      "Model: 26\n",
      "Anomaly: ced1\n",
      "Epoch 0, Loss: 0.0002\n",
      "Epoch 0: Average Loss = 9212.1777, Best Loss = 9212.1777\n",
      "Epoch 100: Average Loss = 171.8085, Best Loss = 171.8085\n",
      "Epoch 200: Average Loss = 63.1101, Best Loss = 63.1101\n",
      "Epoch 300: Average Loss = 37.5389, Best Loss = 37.5389\n",
      "Epoch 400: Average Loss = 27.7412, Best Loss = 27.7412\n",
      "Epoch 500: Average Loss = 23.1592, Best Loss = 23.1592\n",
      "Epoch 600: Average Loss = 20.8670, Best Loss = 20.8442\n",
      "Early stopping triggered after 642 epochs. Restoring best model.\n"
     ]
    },
    {
     "name": "stderr",
     "output_type": "stream",
     "text": [
      "Fitting causal mechanism of node cso1: 100%|██████████| 17/17 [00:01<00:00, 13.15it/s]\n",
      "Evaluating set functions...: 100%|██████████| 85/85 [00:00<00:00, 1770.37it/s]\n"
     ]
    },
    {
     "name": "stdout",
     "output_type": "stream",
     "text": [
      "bed1-->bfo2 | bfo1 | bso1\n",
      "bed1-->bso1 | bfo2 | bed2\n",
      "Model Accuracy Method 1: 55.56%\n",
      "Model Accuracy Method 2: 51.85%\n",
      "--------------------------------------------------------------------------------------------------------------------------------\n",
      "Model: 27\n",
      "Anomaly: cso1\n",
      "Epoch 0, Loss: 0.0001\n",
      "Epoch 0: Average Loss = 12573.2286, Best Loss = 12573.2286\n",
      "Epoch 100: Average Loss = 792.0826, Best Loss = 792.0826\n",
      "Epoch 200: Average Loss = 271.4205, Best Loss = 271.4205\n",
      "Epoch 300: Average Loss = 145.8405, Best Loss = 145.8405\n",
      "Epoch 400: Average Loss = 95.2890, Best Loss = 95.2890\n",
      "Epoch 500: Average Loss = 69.5513, Best Loss = 69.5513\n",
      "Epoch 600: Average Loss = 54.6868, Best Loss = 54.6868\n",
      "Epoch 700: Average Loss = 45.5419, Best Loss = 45.5419\n",
      "Epoch 800: Average Loss = 39.6893, Best Loss = 39.6893\n",
      "Epoch 900: Average Loss = 35.7205, Best Loss = 35.6838\n"
     ]
    },
    {
     "name": "stderr",
     "output_type": "stream",
     "text": [
      "Fitting causal mechanism of node cso1: 100%|██████████| 17/17 [00:00<00:00, 24.59it/s]\n",
      "Evaluating set functions...: 100%|██████████| 87/87 [00:00<00:00, 546.31it/s]\n"
     ]
    },
    {
     "name": "stdout",
     "output_type": "stream",
     "text": [
      "ROOT CAUSE FOUND!\n",
      "bfo2-->bfo1 | bfo2 | bed1\n",
      "bfo2-->bfo2 | bfo1 | bso1\n",
      "Model Accuracy Method 1: 57.14%\n",
      "Model Accuracy Method 2: 53.57%\n",
      "--------------------------------------------------------------------------------------------------------------------------------\n",
      "Model: 28\n",
      "Anomaly: ced1\n",
      "Epoch 0, Loss: 0.0001\n",
      "Epoch 0: Average Loss = 12488.6306, Best Loss = 12488.6306\n",
      "Epoch 100: Average Loss = 443.7299, Best Loss = 443.7299\n",
      "Epoch 200: Average Loss = 158.7349, Best Loss = 158.7349\n",
      "Epoch 300: Average Loss = 90.6738, Best Loss = 90.6738\n",
      "Epoch 400: Average Loss = 63.9357, Best Loss = 63.8579\n",
      "Epoch 500: Average Loss = 50.2388, Best Loss = 50.2388\n",
      "Epoch 600: Average Loss = 42.9731, Best Loss = 42.9731\n",
      "Epoch 700: Average Loss = 38.6252, Best Loss = 38.6252\n",
      "Early stopping triggered after 763 epochs. Restoring best model.\n"
     ]
    },
    {
     "name": "stderr",
     "output_type": "stream",
     "text": [
      "Fitting causal mechanism of node cso1: 100%|██████████| 17/17 [00:00<00:00, 18.11it/s]\n",
      "Evaluating set functions...: 100%|██████████| 82/82 [00:00<00:00, 1368.51it/s]\n"
     ]
    },
    {
     "name": "stdout",
     "output_type": "stream",
     "text": [
      "ROOT CAUSE FOUND!\n",
      "bed2-->bfo1 | bed2 | bso3\n",
      "bed2-->bso1 | bed2 | bfo1\n",
      "Model Accuracy Method 1: 58.62%\n",
      "Model Accuracy Method 2: 55.17%\n",
      "--------------------------------------------------------------------------------------------------------------------------------\n",
      "Model: 29\n",
      "Anomaly: ced1\n",
      "Epoch 0, Loss: 0.0001\n",
      "Epoch 0: Average Loss = 9543.6664, Best Loss = 9543.6664\n",
      "Early stopping triggered after 15 epochs. Restoring best model.\n"
     ]
    },
    {
     "name": "stderr",
     "output_type": "stream",
     "text": [
      "Fitting causal mechanism of node cso1: 100%|██████████| 17/17 [00:00<00:00, 25.67it/s]\n",
      "Evaluating set functions...: 100%|██████████| 91/91 [00:00<00:00, 545.90it/s]\n"
     ]
    },
    {
     "name": "stdout",
     "output_type": "stream",
     "text": [
      "bed1-->bed2 | bso1 | bso2\n",
      "bed1-->bso1 | bso3 | bed2\n",
      "Model Accuracy Method 1: 56.67%\n",
      "Model Accuracy Method 2: 53.33%\n",
      "--------------------------------------------------------------------------------------------------------------------------------\n",
      "Model: 30\n",
      "Anomaly: cso1\n",
      "Epoch 0, Loss: 0.0002\n",
      "Epoch 0: Average Loss = 21262.4124, Best Loss = 21262.4124\n",
      "Epoch 100: Average Loss = 382.8540, Best Loss = 382.8540\n",
      "Epoch 200: Average Loss = 132.7745, Best Loss = 132.7745\n",
      "Epoch 300: Average Loss = 74.7343, Best Loss = 74.7343\n",
      "Epoch 400: Average Loss = 52.5731, Best Loss = 52.5731\n",
      "Epoch 500: Average Loss = 42.4028, Best Loss = 42.4028\n",
      "Epoch 600: Average Loss = 37.1055, Best Loss = 37.1055\n",
      "Epoch 700: Average Loss = 34.3622, Best Loss = 34.3622\n",
      "Early stopping triggered after 727 epochs. Restoring best model.\n"
     ]
    },
    {
     "name": "stderr",
     "output_type": "stream",
     "text": [
      "Fitting causal mechanism of node cso1: 100%|██████████| 17/17 [00:01<00:00, 12.41it/s]\n",
      "Evaluating set functions...: 100%|██████████| 51/51 [00:00<00:00, 25501.85it/s]\n"
     ]
    },
    {
     "name": "stdout",
     "output_type": "stream",
     "text": [
      "bso2-->bfo2 | bso1 | bfo1\n",
      "bso2-->bfo2 | bso2 | bso1\n",
      "Model Accuracy Method 1: 54.84%\n",
      "Model Accuracy Method 2: 54.84%\n",
      "--------------------------------------------------------------------------------------------------------------------------------\n",
      "Model: 31\n",
      "Anomaly: cfo1\n",
      "Epoch 0, Loss: 0.0001\n",
      "Epoch 0: Average Loss = 45998.0824, Best Loss = 45998.0824\n",
      "Epoch 100: Average Loss = 760.9352, Best Loss = 760.9352\n",
      "Epoch 200: Average Loss = 244.0990, Best Loss = 244.0990\n",
      "Epoch 300: Average Loss = 121.8426, Best Loss = 121.8426\n",
      "Epoch 400: Average Loss = 75.0685, Best Loss = 75.0685\n",
      "Epoch 500: Average Loss = 53.0473, Best Loss = 53.0473\n",
      "Epoch 600: Average Loss = 41.9399, Best Loss = 41.8606\n",
      "Epoch 700: Average Loss = 35.6602, Best Loss = 35.6602\n",
      "Epoch 800: Average Loss = 32.3454, Best Loss = 32.3454\n",
      "Epoch 900: Average Loss = 30.5606, Best Loss = 30.3374\n"
     ]
    },
    {
     "name": "stderr",
     "output_type": "stream",
     "text": [
      "Fitting causal mechanism of node cso1: 100%|██████████| 17/17 [00:01<00:00, 10.99it/s]\n",
      "Evaluating set functions...: 100%|██████████| 16/16 [00:00<00:00, 16001.16it/s]\n"
     ]
    },
    {
     "name": "stdout",
     "output_type": "stream",
     "text": [
      "ROOT CAUSE FOUND!\n",
      "bso3-->bso3 | bso2 | bso1\n",
      "bso3-->bso1 | bso3 | bso2\n",
      "Model Accuracy Method 1: 56.25%\n",
      "Model Accuracy Method 2: 56.25%\n",
      "--------------------------------------------------------------------------------------------------------------------------------\n",
      "Model: 32\n",
      "Anomaly: cfo1\n",
      "Epoch 0, Loss: 0.0001\n",
      "Epoch 0: Average Loss = 15477.6518, Best Loss = 15477.6518\n",
      "Epoch 100: Average Loss = 279.3155, Best Loss = 279.3155\n",
      "Epoch 200: Average Loss = 97.7397, Best Loss = 97.7397\n",
      "Epoch 300: Average Loss = 55.0122, Best Loss = 55.0122\n",
      "Epoch 400: Average Loss = 38.6322, Best Loss = 38.6322\n",
      "Early stopping triggered after 441 epochs. Restoring best model.\n"
     ]
    },
    {
     "name": "stderr",
     "output_type": "stream",
     "text": [
      "Fitting causal mechanism of node cso1: 100%|██████████| 17/17 [00:01<00:00, 10.95it/s]\n",
      "Evaluating set functions...: 100%|██████████| 112/112 [00:00<00:00, 914.57it/s]\n"
     ]
    },
    {
     "name": "stdout",
     "output_type": "stream",
     "text": [
      "ROOT CAUSE FOUND!\n",
      "bso1-->bfo2 | bso1 | bed2\n",
      "bso1-->bso1 | bso3 | bfo1\n",
      "Model Accuracy Method 1: 57.58%\n",
      "Model Accuracy Method 2: 57.58%\n",
      "--------------------------------------------------------------------------------------------------------------------------------\n",
      "Model: 33\n",
      "Anomaly: cso1\n",
      "Epoch 0, Loss: 0.0001\n",
      "Epoch 0: Average Loss = 18989.5356, Best Loss = 18989.5356\n",
      "Early stopping triggered after 15 epochs. Restoring best model.\n"
     ]
    },
    {
     "name": "stderr",
     "output_type": "stream",
     "text": [
      "Fitting causal mechanism of node cso1: 100%|██████████| 17/17 [00:01<00:00, 14.10it/s]\n",
      "Evaluating set functions...: 100%|██████████| 147/147 [00:06<00:00, 24.21it/s]\n"
     ]
    },
    {
     "name": "stdout",
     "output_type": "stream",
     "text": [
      "bso2-->bso1 | bfo1 | bso3\n",
      "bso2-->bso3 | bfo1 | bso1\n",
      "Model Accuracy Method 1: 55.88%\n",
      "Model Accuracy Method 2: 55.88%\n",
      "--------------------------------------------------------------------------------------------------------------------------------\n",
      "Model: 34\n",
      "Anomaly: ced1\n",
      "Epoch 0, Loss: 0.0001\n",
      "Epoch 0: Average Loss = 15103.7938, Best Loss = 15103.7938\n",
      "Epoch 100: Average Loss = 990.3645, Best Loss = 990.3645\n",
      "Epoch 200: Average Loss = 322.0060, Best Loss = 322.0060\n",
      "Epoch 300: Average Loss = 164.2586, Best Loss = 164.2586\n",
      "Epoch 400: Average Loss = 100.7398, Best Loss = 100.7398\n",
      "Epoch 500: Average Loss = 68.7751, Best Loss = 68.7751\n",
      "Epoch 600: Average Loss = 50.4408, Best Loss = 50.4408\n",
      "Epoch 700: Average Loss = 39.0667, Best Loss = 39.0667\n",
      "Epoch 800: Average Loss = 31.6650, Best Loss = 31.6650\n",
      "Epoch 900: Average Loss = 26.5874, Best Loss = 26.5874\n"
     ]
    },
    {
     "name": "stderr",
     "output_type": "stream",
     "text": [
      "Fitting causal mechanism of node cso1: 100%|██████████| 17/17 [00:00<00:00, 26.66it/s]\n",
      "Evaluating set functions...: 100%|██████████| 80/80 [00:00<00:00, 1294.72it/s]\n"
     ]
    },
    {
     "name": "stdout",
     "output_type": "stream",
     "text": [
      "bed2-->bfo1 | bfo2 | bed1\n",
      "bed2-->bfo1 | bed1 | bso1\n",
      "Model Accuracy Method 1: 54.29%\n",
      "Model Accuracy Method 2: 54.29%\n",
      "--------------------------------------------------------------------------------------------------------------------------------\n",
      "Model: 35\n",
      "Anomaly: cfo1\n",
      "Epoch 0, Loss: 0.0001\n",
      "Epoch 0: Average Loss = 11108.7537, Best Loss = 11108.7537\n",
      "Early stopping triggered after 15 epochs. Restoring best model.\n"
     ]
    },
    {
     "name": "stderr",
     "output_type": "stream",
     "text": [
      "Fitting causal mechanism of node cso1: 100%|██████████| 17/17 [00:01<00:00, 14.75it/s]\n",
      "Evaluating set functions...: 100%|██████████| 85/85 [00:00<00:00, 479.42it/s]\n"
     ]
    },
    {
     "name": "stdout",
     "output_type": "stream",
     "text": [
      "ROOT CAUSE FOUND!\n",
      "bso1-->bfo2 | bfo1 | bso1\n",
      "bso1-->bfo2 | bfo1 | bso1\n",
      "Model Accuracy Method 1: 55.56%\n",
      "Model Accuracy Method 2: 55.56%\n",
      "--------------------------------------------------------------------------------------------------------------------------------\n",
      "Model: 36\n",
      "Anomaly: cso1\n",
      "Epoch 0, Loss: 0.0001\n",
      "Epoch 0: Average Loss = 27756.1270, Best Loss = 27756.1270\n",
      "Epoch 100: Average Loss = 935.6106, Best Loss = 935.6106\n",
      "Epoch 200: Average Loss = 311.5411, Best Loss = 311.5411\n",
      "Epoch 300: Average Loss = 162.9714, Best Loss = 162.9714\n",
      "Epoch 400: Average Loss = 104.0094, Best Loss = 104.0094\n",
      "Epoch 500: Average Loss = 75.0231, Best Loss = 75.0231\n",
      "Epoch 600: Average Loss = 59.0708, Best Loss = 59.0708\n",
      "Epoch 700: Average Loss = 49.5061, Best Loss = 49.5061\n",
      "Epoch 800: Average Loss = 43.5116, Best Loss = 43.5116\n",
      "Epoch 900: Average Loss = 39.8689, Best Loss = 39.7296\n"
     ]
    },
    {
     "name": "stderr",
     "output_type": "stream",
     "text": [
      "Fitting causal mechanism of node cso1: 100%|██████████| 17/17 [00:01<00:00, 16.61it/s]\n",
      "Evaluating set functions...: 100%|██████████| 32/32 [00:00<00:00, 31956.60it/s]\n"
     ]
    },
    {
     "name": "stdout",
     "output_type": "stream",
     "text": [
      "bso2-->bfo1 | bso1 | bed2\n",
      "bso2-->bso1 | bfo1 | bed1\n",
      "Model Accuracy Method 1: 54.05%\n",
      "Model Accuracy Method 2: 54.05%\n",
      "--------------------------------------------------------------------------------------------------------------------------------\n",
      "Model: 37\n",
      "Anomaly: cfo1\n",
      "Epoch 0, Loss: 0.0001\n",
      "Epoch 0: Average Loss = 17280.3586, Best Loss = 17280.3586\n",
      "Early stopping triggered after 15 epochs. Restoring best model.\n"
     ]
    },
    {
     "name": "stderr",
     "output_type": "stream",
     "text": [
      "Fitting causal mechanism of node cso1: 100%|██████████| 17/17 [00:00<00:00, 24.45it/s]\n",
      "Evaluating set functions...: 100%|██████████| 206/206 [00:08<00:00, 23.96it/s]\n"
     ]
    },
    {
     "name": "stdout",
     "output_type": "stream",
     "text": [
      "ROOT CAUSE FOUND!\n",
      "bso3-->bfo1 | bfo2 | bso3\n",
      "bso3-->bso1 | bso2 | bfo2\n",
      "Model Accuracy Method 1: 55.26%\n",
      "Model Accuracy Method 2: 52.63%\n",
      "--------------------------------------------------------------------------------------------------------------------------------\n",
      "Model: 38\n",
      "Anomaly: cfo1\n",
      "Epoch 0, Loss: 0.0001\n",
      "Epoch 0: Average Loss = 10967.0973, Best Loss = 10967.0973\n",
      "Epoch 100: Average Loss = 671.5048, Best Loss = 671.5048\n",
      "Epoch 200: Average Loss = 236.8896, Best Loss = 236.8896\n",
      "Epoch 300: Average Loss = 130.5304, Best Loss = 130.5304\n",
      "Epoch 400: Average Loss = 87.0002, Best Loss = 87.0002\n",
      "Epoch 500: Average Loss = 64.8963, Best Loss = 64.8963\n",
      "Epoch 600: Average Loss = 52.8520, Best Loss = 52.3460\n",
      "Epoch 700: Average Loss = 44.2495, Best Loss = 44.1465\n",
      "Epoch 800: Average Loss = 39.0306, Best Loss = 38.8806\n",
      "Epoch 900: Average Loss = 35.3139, Best Loss = 35.3139\n"
     ]
    },
    {
     "name": "stderr",
     "output_type": "stream",
     "text": [
      "Fitting causal mechanism of node cso1: 100%|██████████| 17/17 [00:00<00:00, 17.27it/s]\n",
      "Evaluating set functions...: 100%|██████████| 84/84 [00:00<00:00, 784.85it/s]\n"
     ]
    },
    {
     "name": "stdout",
     "output_type": "stream",
     "text": [
      "bfo1-->bso1 | bfo2 | bed2\n",
      "bfo1-->bfo1 | bso1 | bso3\n",
      "Model Accuracy Method 1: 53.85%\n",
      "Model Accuracy Method 2: 53.85%\n",
      "--------------------------------------------------------------------------------------------------------------------------------\n",
      "Model: 39\n",
      "Anomaly: cfo1\n",
      "Epoch 0, Loss: 0.0001\n",
      "Epoch 0: Average Loss = 17135.8827, Best Loss = 17135.8827\n",
      "Epoch 100: Average Loss = 314.5333, Best Loss = 314.5333\n",
      "Epoch 200: Average Loss = 113.0764, Best Loss = 113.0764\n",
      "Epoch 300: Average Loss = 65.5399, Best Loss = 65.5399\n",
      "Epoch 400: Average Loss = 47.3072, Best Loss = 47.3072\n",
      "Epoch 500: Average Loss = 38.8409, Best Loss = 38.8409\n",
      "Epoch 600: Average Loss = 34.4844, Best Loss = 34.4844\n",
      "Epoch 700: Average Loss = 31.9775, Best Loss = 31.9775\n",
      "Epoch 800: Average Loss = 30.8583, Best Loss = 30.6361\n",
      "Epoch 900: Average Loss = 29.9844, Best Loss = 29.8977\n",
      "Early stopping triggered after 916 epochs. Restoring best model.\n"
     ]
    },
    {
     "name": "stderr",
     "output_type": "stream",
     "text": [
      "Fitting causal mechanism of node cso1: 100%|██████████| 17/17 [00:01<00:00, 12.55it/s]\n",
      "Evaluating set functions...: 100%|██████████| 85/85 [00:00<00:00, 1231.66it/s]\n"
     ]
    },
    {
     "name": "stdout",
     "output_type": "stream",
     "text": [
      "ROOT CAUSE FOUND!\n",
      "bso3-->bfo2 | bed1 | bso3\n",
      "bso3-->bfo2 | bfo1 | bed1\n",
      "Model Accuracy Method 1: 55.0%\n",
      "Model Accuracy Method 2: 52.5%\n",
      "--------------------------------------------------------------------------------------------------------------------------------\n",
      "Model: 40\n",
      "Anomaly: cfo1\n",
      "Epoch 0, Loss: 0.0002\n",
      "Epoch 0: Average Loss = 13494.7364, Best Loss = 13494.7364\n",
      "Epoch 100: Average Loss = 142.8589, Best Loss = 142.8589\n",
      "Epoch 200: Average Loss = 60.5520, Best Loss = 60.5520\n",
      "Epoch 300: Average Loss = 42.5712, Best Loss = 42.5712\n",
      "Epoch 400: Average Loss = 36.4945, Best Loss = 36.4945\n",
      "Early stopping triggered after 495 epochs. Restoring best model.\n"
     ]
    },
    {
     "name": "stderr",
     "output_type": "stream",
     "text": [
      "Fitting causal mechanism of node cso1: 100%|██████████| 17/17 [00:01<00:00,  9.84it/s]\n",
      "Evaluating set functions...: 100%|██████████| 117/117 [00:00<00:00, 1237.04it/s]\n"
     ]
    },
    {
     "name": "stdout",
     "output_type": "stream",
     "text": [
      "ROOT CAUSE FOUND!\n",
      "bfo1-->bso3 | bfo1 | bso1\n",
      "bfo1-->bfo1 | bso3 | bso1\n",
      "Model Accuracy Method 1: 56.1%\n",
      "Model Accuracy Method 2: 53.66%\n",
      "--------------------------------------------------------------------------------------------------------------------------------\n",
      "Model: 41\n",
      "Anomaly: ced1\n",
      "Epoch 0, Loss: 0.0001\n",
      "Epoch 0: Average Loss = 11602.4610, Best Loss = 11602.4610\n",
      "Epoch 100: Average Loss = 410.7985, Best Loss = 410.7985\n",
      "Epoch 200: Average Loss = 146.8602, Best Loss = 146.8602\n",
      "Epoch 300: Average Loss = 84.6321, Best Loss = 84.6321\n",
      "Epoch 400: Average Loss = 60.0562, Best Loss = 60.0562\n",
      "Epoch 500: Average Loss = 47.9495, Best Loss = 47.9495\n",
      "Epoch 600: Average Loss = 41.2657, Best Loss = 41.2569\n",
      "Epoch 700: Average Loss = 37.3029, Best Loss = 37.2750\n",
      "Epoch 800: Average Loss = 34.7816, Best Loss = 34.7474\n",
      "Early stopping triggered after 813 epochs. Restoring best model.\n"
     ]
    },
    {
     "name": "stderr",
     "output_type": "stream",
     "text": [
      "Fitting causal mechanism of node cso1: 100%|██████████| 17/17 [00:00<00:00, 19.03it/s]\n",
      "Evaluating set functions...: 100%|██████████| 32/32 [00:00<00:00, 32002.32it/s]\n"
     ]
    },
    {
     "name": "stdout",
     "output_type": "stream",
     "text": [
      "bed2-->bfo2 | bfo1 | bed1\n",
      "bed2-->bfo2 | bfo1 | bso2\n",
      "Model Accuracy Method 1: 54.76%\n",
      "Model Accuracy Method 2: 52.38%\n",
      "--------------------------------------------------------------------------------------------------------------------------------\n",
      "Model: 42\n",
      "Anomaly: cso1\n",
      "Epoch 0, Loss: 0.0001\n",
      "Epoch 0: Average Loss = 8362.3397, Best Loss = 8362.3397\n",
      "Epoch 100: Average Loss = 160.4815, Best Loss = 160.4815\n",
      "Epoch 200: Average Loss = 61.8000, Best Loss = 61.8000\n",
      "Epoch 300: Average Loss = 38.4543, Best Loss = 38.4543\n",
      "Epoch 400: Average Loss = 29.6210, Best Loss = 29.6210\n",
      "Epoch 500: Average Loss = 25.3759, Best Loss = 25.3759\n",
      "Epoch 600: Average Loss = 23.2586, Best Loss = 23.2432\n",
      "Early stopping triggered after 623 epochs. Restoring best model.\n"
     ]
    },
    {
     "name": "stderr",
     "output_type": "stream",
     "text": [
      "Fitting causal mechanism of node cso1: 100%|██████████| 17/17 [00:01<00:00, 13.10it/s]\n",
      "Evaluating set functions...: 100%|██████████| 32/32 [00:00<00:00, 16001.16it/s]\n"
     ]
    },
    {
     "name": "stdout",
     "output_type": "stream",
     "text": [
      "ROOT CAUSE FOUND!\n",
      "bso2-->bso3 | bso2 | bed2\n",
      "bso2-->bso1 | bso2 | bed2\n",
      "Model Accuracy Method 1: 55.81%\n",
      "Model Accuracy Method 2: 53.49%\n",
      "--------------------------------------------------------------------------------------------------------------------------------\n",
      "Model: 43\n",
      "Anomaly: cfo1\n",
      "Epoch 0, Loss: 0.0001\n",
      "Epoch 0: Average Loss = 33097.1052, Best Loss = 33097.1052\n",
      "Epoch 100: Average Loss = 2005.0632, Best Loss = 2005.0632\n",
      "Epoch 200: Average Loss = 666.1779, Best Loss = 666.1779\n",
      "Epoch 300: Average Loss = 339.3743, Best Loss = 339.3743\n",
      "Epoch 400: Average Loss = 206.1689, Best Loss = 206.1689\n",
      "Epoch 500: Average Loss = 138.9090, Best Loss = 138.9090\n",
      "Epoch 600: Average Loss = 99.5296, Best Loss = 99.5296\n",
      "Epoch 700: Average Loss = 75.1181, Best Loss = 75.1181\n",
      "Epoch 800: Average Loss = 59.1353, Best Loss = 59.1353\n",
      "Epoch 900: Average Loss = 48.4886, Best Loss = 48.4886\n"
     ]
    },
    {
     "name": "stderr",
     "output_type": "stream",
     "text": [
      "Fitting causal mechanism of node cso1: 100%|██████████| 17/17 [00:00<00:00, 17.19it/s]\n",
      "Evaluating set functions...: 100%|██████████| 113/113 [00:00<00:00, 1315.72it/s]\n"
     ]
    },
    {
     "name": "stdout",
     "output_type": "stream",
     "text": [
      "ROOT CAUSE FOUND!\n",
      "bso1-->bso3 | bso1 | bed1\n",
      "bso1-->bso3 | bso1 | bfo2\n",
      "Model Accuracy Method 1: 56.82%\n",
      "Model Accuracy Method 2: 54.55%\n",
      "--------------------------------------------------------------------------------------------------------------------------------\n",
      "Model: 44\n",
      "Anomaly: ced1\n",
      "Epoch 0, Loss: 0.0000\n",
      "Epoch 0: Average Loss = 12951.7565, Best Loss = 12951.7565\n",
      "Epoch 100: Average Loss = 819.5566, Best Loss = 819.5566\n",
      "Epoch 200: Average Loss = 269.8335, Best Loss = 269.8335\n",
      "Epoch 300: Average Loss = 139.2055, Best Loss = 139.2055\n",
      "Epoch 400: Average Loss = 86.6248, Best Loss = 86.6248\n",
      "Epoch 500: Average Loss = 60.0208, Best Loss = 60.0208\n",
      "Epoch 600: Average Loss = 44.8142, Best Loss = 44.8142\n",
      "Epoch 700: Average Loss = 35.4018, Best Loss = 35.4018\n",
      "Epoch 800: Average Loss = 29.1606, Best Loss = 29.1606\n",
      "Epoch 900: Average Loss = 25.0865, Best Loss = 25.0865\n"
     ]
    },
    {
     "name": "stderr",
     "output_type": "stream",
     "text": [
      "Fitting causal mechanism of node cso1: 100%|██████████| 17/17 [00:00<00:00, 19.04it/s]\n",
      "Evaluating set functions...: 100%|██████████| 115/115 [00:00<00:00, 798.40it/s]\n"
     ]
    },
    {
     "name": "stdout",
     "output_type": "stream",
     "text": [
      "bed1-->bfo1 | bso3 | bso1\n",
      "bed1-->bso3 | bed2 | bfo1\n",
      "Model Accuracy Method 1: 55.56%\n",
      "Model Accuracy Method 2: 53.33%\n",
      "--------------------------------------------------------------------------------------------------------------------------------\n",
      "Model: 45\n",
      "Anomaly: ced1\n",
      "Epoch 0, Loss: 0.0001\n",
      "Epoch 0: Average Loss = 16803.8091, Best Loss = 16803.8091\n",
      "Epoch 100: Average Loss = 301.4732, Best Loss = 301.4732\n",
      "Epoch 200: Average Loss = 101.8201, Best Loss = 101.8201\n",
      "Epoch 300: Average Loss = 54.7151, Best Loss = 54.7151\n",
      "Epoch 400: Average Loss = 36.6529, Best Loss = 36.6529\n",
      "Early stopping triggered after 431 epochs. Restoring best model.\n"
     ]
    },
    {
     "name": "stderr",
     "output_type": "stream",
     "text": [
      "Fitting causal mechanism of node cso1: 100%|██████████| 17/17 [00:01<00:00, 12.11it/s]\n",
      "Evaluating set functions...: 100%|██████████| 183/183 [00:04<00:00, 43.98it/s]\n"
     ]
    },
    {
     "name": "stdout",
     "output_type": "stream",
     "text": [
      "ROOT CAUSE FOUND!\n",
      "bed1-->bso1 | bfo1 | bed1\n",
      "bed1-->bfo1 | bso1 | bfo2\n",
      "Model Accuracy Method 1: 56.52%\n",
      "Model Accuracy Method 2: 52.17%\n",
      "--------------------------------------------------------------------------------------------------------------------------------\n",
      "Model: 46\n",
      "Anomaly: ced1\n",
      "Epoch 0, Loss: 0.0001\n",
      "Epoch 0: Average Loss = 15946.3264, Best Loss = 15946.3264\n",
      "Epoch 100: Average Loss = 555.2028, Best Loss = 555.2028\n",
      "Epoch 200: Average Loss = 192.4790, Best Loss = 192.4790\n",
      "Epoch 300: Average Loss = 106.2206, Best Loss = 106.2206\n",
      "Epoch 400: Average Loss = 72.2234, Best Loss = 72.2234\n",
      "Epoch 500: Average Loss = 57.4731, Best Loss = 55.7578\n",
      "Epoch 600: Average Loss = 46.1897, Best Loss = 46.1897\n",
      "Epoch 700: Average Loss = 40.7424, Best Loss = 40.7186\n",
      "Epoch 800: Average Loss = 37.3716, Best Loss = 37.2447\n",
      "Epoch 900: Average Loss = 35.4476, Best Loss = 35.1690\n"
     ]
    },
    {
     "name": "stderr",
     "output_type": "stream",
     "text": [
      "Fitting causal mechanism of node cso1: 100%|██████████| 17/17 [00:01<00:00, 16.59it/s]\n",
      "Evaluating set functions...: 100%|██████████| 53/53 [00:00<00:00, 26498.76it/s]\n"
     ]
    },
    {
     "name": "stdout",
     "output_type": "stream",
     "text": [
      "bed2-->bso1 | bfo2 | bso3\n",
      "bed2-->bso1 | bso3 | bed2\n",
      "Model Accuracy Method 1: 55.32%\n",
      "Model Accuracy Method 2: 53.19%\n",
      "--------------------------------------------------------------------------------------------------------------------------------\n",
      "Model: 47\n",
      "Anomaly: cfo1\n",
      "Epoch 0, Loss: 0.0003\n",
      "Epoch 0: Average Loss = 13137.8679, Best Loss = 13137.8679\n",
      "Epoch 100: Average Loss = 37.6365, Best Loss = 37.6365\n",
      "Epoch 200: Average Loss = 33.6950, Best Loss = 33.6950\n",
      "Early stopping triggered after 219 epochs. Restoring best model.\n"
     ]
    },
    {
     "name": "stderr",
     "output_type": "stream",
     "text": [
      "Fitting causal mechanism of node cso1: 100%|██████████| 17/17 [00:01<00:00,  9.23it/s]\n",
      "Evaluating set functions...: 100%|██████████| 92/92 [00:00<00:00, 1210.28it/s]\n"
     ]
    },
    {
     "name": "stdout",
     "output_type": "stream",
     "text": [
      "ROOT CAUSE FOUND!\n",
      "bfo1-->bfo1 | bfo2 | bso3\n",
      "bfo1-->bfo1 | bfo2 | bed1\n",
      "Model Accuracy Method 1: 56.25%\n",
      "Model Accuracy Method 2: 54.17%\n",
      "--------------------------------------------------------------------------------------------------------------------------------\n",
      "Model: 48\n",
      "Anomaly: ced1\n",
      "Epoch 0, Loss: 0.0001\n",
      "Epoch 0: Average Loss = 17576.9353, Best Loss = 17576.9353\n",
      "Epoch 100: Average Loss = 1097.4629, Best Loss = 1097.4629\n",
      "Epoch 200: Average Loss = 374.6334, Best Loss = 374.6334\n",
      "Epoch 300: Average Loss = 197.5683, Best Loss = 197.5683\n",
      "Epoch 400: Average Loss = 125.8115, Best Loss = 125.8115\n",
      "Epoch 500: Average Loss = 89.5789, Best Loss = 89.5789\n",
      "Epoch 600: Average Loss = 68.4992, Best Loss = 68.4992\n",
      "Epoch 700: Average Loss = 55.6383, Best Loss = 55.6383\n",
      "Epoch 800: Average Loss = 47.1268, Best Loss = 47.1268\n",
      "Early stopping triggered after 864 epochs. Restoring best model.\n"
     ]
    },
    {
     "name": "stderr",
     "output_type": "stream",
     "text": [
      "Fitting causal mechanism of node cso1: 100%|██████████| 17/17 [00:00<00:00, 25.17it/s]\n",
      "Evaluating set functions...: 100%|██████████| 32/32 [00:00<00:00, 15985.91it/s]\n"
     ]
    },
    {
     "name": "stdout",
     "output_type": "stream",
     "text": [
      "bed1-->bfo2 | bso3 | bso2\n",
      "bed1-->bso1 | bfo2 | bso3\n",
      "Model Accuracy Method 1: 55.1%\n",
      "Model Accuracy Method 2: 53.06%\n",
      "--------------------------------------------------------------------------------------------------------------------------------\n",
      "Model: 49\n",
      "Anomaly: cfo1\n",
      "Epoch 0, Loss: 0.0002\n",
      "Epoch 0: Average Loss = 2535.5269, Best Loss = 2535.5269\n",
      "Early stopping triggered after 94 epochs. Restoring best model.\n"
     ]
    },
    {
     "name": "stderr",
     "output_type": "stream",
     "text": [
      "Fitting causal mechanism of node cso1: 100%|██████████| 17/17 [00:02<00:00,  8.46it/s]\n",
      "Evaluating set functions...: 100%|██████████| 52/52 [00:00<00:00, 25986.39it/s]\n"
     ]
    },
    {
     "name": "stdout",
     "output_type": "stream",
     "text": [
      "bso3-->bfo2 | bfo1 | bed1\n",
      "bso3-->bfo1 | bfo2 | bso1\n",
      "Model Accuracy Method 1: 54.0%\n",
      "Model Accuracy Method 2: 52.0%\n",
      "--------------------------------------------------------------------------------------------------------------------------------\n",
      "Model: 50\n",
      "Anomaly: cso1\n",
      "Epoch 0, Loss: 0.0000\n",
      "Epoch 0: Average Loss = 15479.6705, Best Loss = 15479.6705\n",
      "Epoch 100: Average Loss = 1023.2711, Best Loss = 1023.2711\n",
      "Epoch 200: Average Loss = 343.6987, Best Loss = 343.6987\n",
      "Epoch 300: Average Loss = 182.2813, Best Loss = 182.2813\n",
      "Epoch 400: Average Loss = 117.2362, Best Loss = 117.2362\n",
      "Epoch 500: Average Loss = 84.3379, Best Loss = 84.3379\n",
      "Epoch 600: Average Loss = 65.3358, Best Loss = 65.3358\n",
      "Epoch 700: Average Loss = 53.6258, Best Loss = 53.6258\n",
      "Epoch 800: Average Loss = 46.0679, Best Loss = 46.0518\n",
      "Epoch 900: Average Loss = 40.7013, Best Loss = 40.7013\n"
     ]
    },
    {
     "name": "stderr",
     "output_type": "stream",
     "text": [
      "Fitting causal mechanism of node cso1: 100%|██████████| 17/17 [00:00<00:00, 17.12it/s]\n",
      "Evaluating set functions...: 100%|██████████| 118/118 [00:00<00:00, 778.73it/s]\n"
     ]
    },
    {
     "name": "stdout",
     "output_type": "stream",
     "text": [
      "bfo2-->bed1 | bso3 | bso2\n",
      "bfo2-->bfo1 | bso1 | bed2\n",
      "Model Accuracy Method 1: 52.94%\n",
      "Model Accuracy Method 2: 50.98%\n",
      "--------------------------------------------------------------------------------------------------------------------------------\n",
      "Model: 51\n",
      "Anomaly: ced1\n",
      "Epoch 0, Loss: 0.0001\n",
      "Epoch 0: Average Loss = 10407.0860, Best Loss = 10407.0860\n",
      "Epoch 100: Average Loss = 116.4459, Best Loss = 116.4459\n",
      "Epoch 200: Average Loss = 57.4779, Best Loss = 54.8086\n",
      "Epoch 300: Average Loss = 40.0115, Best Loss = 39.9965\n",
      "Early stopping triggered after 314 epochs. Restoring best model.\n"
     ]
    },
    {
     "name": "stderr",
     "output_type": "stream",
     "text": [
      "Fitting causal mechanism of node cso1: 100%|██████████| 17/17 [00:01<00:00, 10.51it/s]\n",
      "Evaluating set functions...: 100%|██████████| 59/59 [00:00<00:00, 58990.21it/s]\n"
     ]
    },
    {
     "name": "stdout",
     "output_type": "stream",
     "text": [
      "bed2-->bso1 | bfo2 | bso3\n",
      "bed2-->bfo2 | bed1 | bso3\n",
      "Model Accuracy Method 1: 51.92%\n",
      "Model Accuracy Method 2: 50.0%\n",
      "--------------------------------------------------------------------------------------------------------------------------------\n",
      "Model: 52\n",
      "Anomaly: cfo1\n",
      "Epoch 0, Loss: 0.0001\n",
      "Epoch 0: Average Loss = 47392.2961, Best Loss = 47392.2961\n",
      "Epoch 100: Average Loss = 1594.3795, Best Loss = 1594.3795\n",
      "Epoch 200: Average Loss = 515.0452, Best Loss = 515.0452\n",
      "Epoch 300: Average Loss = 257.0876, Best Loss = 257.0876\n",
      "Epoch 400: Average Loss = 154.6656, Best Loss = 154.6656\n",
      "Epoch 500: Average Loss = 104.8794, Best Loss = 104.4159\n",
      "Epoch 600: Average Loss = 77.6561, Best Loss = 77.3397\n",
      "Epoch 700: Average Loss = 60.3821, Best Loss = 60.3821\n",
      "Epoch 800: Average Loss = 50.5731, Best Loss = 50.5731\n",
      "Epoch 900: Average Loss = 43.5618, Best Loss = 43.5618\n"
     ]
    },
    {
     "name": "stderr",
     "output_type": "stream",
     "text": [
      "Fitting causal mechanism of node cso1: 100%|██████████| 17/17 [00:01<00:00, 16.14it/s]\n",
      "Evaluating set functions...: 100%|██████████| 82/82 [00:00<00:00, 1291.07it/s]\n"
     ]
    },
    {
     "name": "stdout",
     "output_type": "stream",
     "text": [
      "ROOT CAUSE FOUND!\n",
      "bso3-->bso3 | bfo2 | bed2\n",
      "bso3-->bed2 | bfo2 | bed1\n",
      "Model Accuracy Method 1: 52.83%\n",
      "Model Accuracy Method 2: 49.06%\n",
      "--------------------------------------------------------------------------------------------------------------------------------\n",
      "Model: 53\n",
      "Anomaly: cso1\n",
      "Epoch 0, Loss: 0.0002\n",
      "Epoch 0: Average Loss = 7451.5915, Best Loss = 7451.5915\n",
      "Epoch 100: Average Loss = 37.6419, Best Loss = 37.6419\n",
      "Epoch 200: Average Loss = 35.5997, Best Loss = 35.5729\n",
      "Early stopping triggered after 200 epochs. Restoring best model.\n"
     ]
    },
    {
     "name": "stderr",
     "output_type": "stream",
     "text": [
      "Fitting causal mechanism of node cso1: 100%|██████████| 17/17 [00:01<00:00,  9.44it/s]\n",
      "Evaluating set functions...: 100%|██████████| 16/16 [00:00<00:00, 16001.16it/s]\n"
     ]
    },
    {
     "name": "stdout",
     "output_type": "stream",
     "text": [
      "bfo2-->bso3 | bfo1 | bed1\n",
      "bfo2-->bso3 | bfo1 | bed1\n",
      "Model Accuracy Method 1: 51.85%\n",
      "Model Accuracy Method 2: 48.15%\n",
      "--------------------------------------------------------------------------------------------------------------------------------\n",
      "Model: 54\n",
      "Anomaly: ced1\n",
      "Epoch 0, Loss: 0.0001\n",
      "Epoch 0: Average Loss = 17881.7761, Best Loss = 17881.7761\n",
      "Epoch 100: Average Loss = 176.6565, Best Loss = 176.6565\n",
      "Epoch 200: Average Loss = 67.9404, Best Loss = 67.9404\n",
      "Epoch 300: Average Loss = 45.8971, Best Loss = 44.7299\n",
      "Epoch 400: Average Loss = 36.6081, Best Loss = 36.2843\n",
      "Early stopping triggered after 409 epochs. Restoring best model.\n"
     ]
    },
    {
     "name": "stderr",
     "output_type": "stream",
     "text": [
      "Fitting causal mechanism of node cso1: 100%|██████████| 17/17 [00:01<00:00, 14.05it/s]\n",
      "Evaluating set functions...: 100%|██████████| 82/82 [00:00<00:00, 755.61it/s]\n"
     ]
    },
    {
     "name": "stdout",
     "output_type": "stream",
     "text": [
      "bed1-->bso1 | bfo1 | bso3\n",
      "bed1-->bso1 | bed1 | bso3\n",
      "Model Accuracy Method 1: 50.91%\n",
      "Model Accuracy Method 2: 49.09%\n",
      "--------------------------------------------------------------------------------------------------------------------------------\n",
      "Model: 55\n",
      "Anomaly: cso1\n",
      "Epoch 0, Loss: 0.0001\n",
      "Epoch 0: Average Loss = 16238.6329, Best Loss = 16238.6329\n",
      "Epoch 100: Average Loss = 535.1082, Best Loss = 535.1082\n",
      "Epoch 200: Average Loss = 178.7455, Best Loss = 178.7455\n",
      "Epoch 300: Average Loss = 92.8592, Best Loss = 92.8592\n",
      "Epoch 400: Average Loss = 58.4589, Best Loss = 58.4589\n",
      "Epoch 500: Average Loss = 41.4497, Best Loss = 41.4497\n",
      "Epoch 600: Average Loss = 31.9915, Best Loss = 31.9915\n",
      "Epoch 700: Average Loss = 26.3728, Best Loss = 26.3301\n",
      "Epoch 800: Average Loss = 22.7880, Best Loss = 22.7880\n",
      "Epoch 900: Average Loss = 20.6539, Best Loss = 20.6154\n"
     ]
    },
    {
     "name": "stderr",
     "output_type": "stream",
     "text": [
      "Fitting causal mechanism of node cso1: 100%|██████████| 17/17 [00:00<00:00, 21.78it/s]\n",
      "Evaluating set functions...: 100%|██████████| 84/84 [00:00<00:00, 1452.95it/s]\n"
     ]
    },
    {
     "name": "stdout",
     "output_type": "stream",
     "text": [
      "bfo2-->bfo1 | bed1 | bso3\n",
      "bfo2-->bed1 | bfo1 | bso1\n",
      "Model Accuracy Method 1: 50.0%\n",
      "Model Accuracy Method 2: 48.21%\n",
      "--------------------------------------------------------------------------------------------------------------------------------\n",
      "Model: 56\n",
      "Anomaly: ced1\n",
      "Epoch 0, Loss: 0.0001\n",
      "Epoch 0: Average Loss = 12308.6841, Best Loss = 12308.6841\n",
      "Epoch 100: Average Loss = 119.0068, Best Loss = 119.0068\n",
      "Epoch 200: Average Loss = 43.4292, Best Loss = 43.4292\n",
      "Epoch 300: Average Loss = 26.7608, Best Loss = 26.7608\n",
      "Early stopping triggered after 380 epochs. Restoring best model.\n"
     ]
    },
    {
     "name": "stderr",
     "output_type": "stream",
     "text": [
      "Fitting causal mechanism of node cso1: 100%|██████████| 17/17 [00:01<00:00, 11.40it/s]\n",
      "Evaluating set functions...: 100%|██████████| 53/53 [00:00<00:00, 26498.76it/s]\n"
     ]
    },
    {
     "name": "stdout",
     "output_type": "stream",
     "text": [
      "bed1-->bso3 | bso1 | bed2\n",
      "bed1-->bso1 | bso3 | bso2\n",
      "Model Accuracy Method 1: 49.12%\n",
      "Model Accuracy Method 2: 47.37%\n",
      "--------------------------------------------------------------------------------------------------------------------------------\n",
      "Model: 57\n",
      "Anomaly: cfo1\n",
      "Epoch 0, Loss: 0.0001\n",
      "Epoch 0: Average Loss = 6948.8839, Best Loss = 6948.8839\n",
      "Epoch 100: Average Loss = 476.2512, Best Loss = 476.2512\n",
      "Epoch 200: Average Loss = 169.0499, Best Loss = 169.0499\n",
      "Epoch 300: Average Loss = 96.0012, Best Loss = 96.0012\n",
      "Epoch 400: Average Loss = 66.7563, Best Loss = 66.7563\n",
      "Epoch 500: Average Loss = 52.0641, Best Loss = 52.0641\n",
      "Epoch 600: Average Loss = 43.5180, Best Loss = 43.5180\n",
      "Epoch 700: Average Loss = 38.2996, Best Loss = 38.2996\n",
      "Epoch 800: Average Loss = 34.7800, Best Loss = 34.7800\n",
      "Early stopping triggered after 838 epochs. Restoring best model.\n"
     ]
    },
    {
     "name": "stderr",
     "output_type": "stream",
     "text": [
      "Fitting causal mechanism of node cso1: 100%|██████████| 17/17 [00:00<00:00, 21.80it/s]\n",
      "Evaluating set functions...: 100%|██████████| 142/142 [00:01<00:00, 101.04it/s]\n"
     ]
    },
    {
     "name": "stdout",
     "output_type": "stream",
     "text": [
      "ROOT CAUSE FOUND!\n",
      "bfo1-->bed2 | bfo1 | bso2\n",
      "bfo1-->bfo2 | bso3 | bfo1\n",
      "Model Accuracy Method 1: 50.0%\n",
      "Model Accuracy Method 2: 48.28%\n",
      "--------------------------------------------------------------------------------------------------------------------------------\n",
      "Model: 58\n",
      "Anomaly: cfo1\n",
      "Epoch 0, Loss: 0.0001\n",
      "Epoch 0: Average Loss = 39198.6854, Best Loss = 39198.6854\n",
      "Epoch 100: Average Loss = 1247.9618, Best Loss = 1247.9618\n",
      "Epoch 200: Average Loss = 405.7431, Best Loss = 405.7431\n",
      "Epoch 300: Average Loss = 205.1695, Best Loss = 205.1695\n",
      "Epoch 400: Average Loss = 124.8718, Best Loss = 124.8718\n",
      "Epoch 500: Average Loss = 85.2390, Best Loss = 85.2390\n",
      "Epoch 600: Average Loss = 63.1794, Best Loss = 63.1794\n",
      "Epoch 700: Average Loss = 50.4088, Best Loss = 50.3389\n",
      "Epoch 800: Average Loss = 42.2312, Best Loss = 42.2312\n",
      "Epoch 900: Average Loss = 37.0609, Best Loss = 37.0609\n"
     ]
    },
    {
     "name": "stderr",
     "output_type": "stream",
     "text": [
      "Fitting causal mechanism of node cso1: 100%|██████████| 17/17 [00:00<00:00, 22.28it/s]\n",
      "Evaluating set functions...: 100%|██████████| 82/82 [00:00<00:00, 1143.20it/s]\n"
     ]
    },
    {
     "name": "stdout",
     "output_type": "stream",
     "text": [
      "ROOT CAUSE FOUND!\n",
      "bso1-->bso1 | bso2 | bed2\n",
      "bso1-->bso1 | bed1 | bso3\n",
      "Model Accuracy Method 1: 50.85%\n",
      "Model Accuracy Method 2: 49.15%\n",
      "--------------------------------------------------------------------------------------------------------------------------------\n",
      "Model: 59\n",
      "Anomaly: cso1\n",
      "Epoch 0, Loss: 0.0001\n",
      "Epoch 0: Average Loss = 15542.4146, Best Loss = 15542.4146\n",
      "Early stopping triggered after 15 epochs. Restoring best model.\n"
     ]
    },
    {
     "name": "stderr",
     "output_type": "stream",
     "text": [
      "Fitting causal mechanism of node cso1: 100%|██████████| 17/17 [00:00<00:00, 23.57it/s]\n",
      "Evaluating set functions...: 100%|██████████| 375/375 [00:35<00:00, 10.65it/s]\n"
     ]
    },
    {
     "name": "stdout",
     "output_type": "stream",
     "text": [
      "ROOT CAUSE FOUND!\n",
      "bfo2-->bso1 | bfo1 | bfo2\n",
      "bfo2-->bfo2 | bed1 | bed2\n",
      "Model Accuracy Method 1: 51.67%\n",
      "Model Accuracy Method 2: 50.0%\n",
      "--------------------------------------------------------------------------------------------------------------------------------\n",
      "Model: 60\n",
      "Anomaly: ced1\n",
      "Epoch 0, Loss: 0.0001\n",
      "Epoch 0: Average Loss = 17671.4573, Best Loss = 17671.4573\n",
      "Epoch 100: Average Loss = 603.3185, Best Loss = 603.3185\n",
      "Epoch 200: Average Loss = 207.2382, Best Loss = 207.2382\n",
      "Epoch 300: Average Loss = 113.1904, Best Loss = 113.1904\n",
      "Epoch 400: Average Loss = 76.0004, Best Loss = 75.9728\n",
      "Epoch 500: Average Loss = 57.4470, Best Loss = 57.4470\n",
      "Epoch 600: Average Loss = 47.1372, Best Loss = 47.1372\n",
      "Early stopping triggered after 656 epochs. Restoring best model.\n"
     ]
    },
    {
     "name": "stderr",
     "output_type": "stream",
     "text": [
      "Fitting causal mechanism of node cso1: 100%|██████████| 17/17 [00:00<00:00, 22.21it/s]\n",
      "Evaluating set functions...: 100%|██████████| 84/84 [00:00<00:00, 1206.81it/s]\n"
     ]
    },
    {
     "name": "stdout",
     "output_type": "stream",
     "text": [
      "bed1-->bed2 | bso1 | bso3\n",
      "bed1-->bso1 | bfo2 | bso3\n",
      "Model Accuracy Method 1: 50.82%\n",
      "Model Accuracy Method 2: 49.18%\n",
      "--------------------------------------------------------------------------------------------------------------------------------\n",
      "Model: 61\n",
      "Anomaly: cfo1\n",
      "Epoch 0, Loss: 0.0001\n",
      "Epoch 0: Average Loss = 6611.6910, Best Loss = 6611.6910\n",
      "Epoch 100: Average Loss = 96.8261, Best Loss = 87.8585\n",
      "Epoch 200: Average Loss = 48.9180, Best Loss = 45.5805\n",
      "Epoch 300: Average Loss = 35.0772, Best Loss = 35.0494\n",
      "Early stopping triggered after 338 epochs. Restoring best model.\n"
     ]
    },
    {
     "name": "stderr",
     "output_type": "stream",
     "text": [
      "Fitting causal mechanism of node cso1: 100%|██████████| 17/17 [00:01<00:00, 10.69it/s]\n",
      "Evaluating set functions...: 100%|██████████| 55/55 [00:00<00:00, 27498.71it/s]\n"
     ]
    },
    {
     "name": "stdout",
     "output_type": "stream",
     "text": [
      "ROOT CAUSE FOUND!\n",
      "bso1-->bso1 | bfo2 | bed1\n",
      "bso1-->bfo2 | bso1 | bso3\n",
      "Model Accuracy Method 1: 51.61%\n",
      "Model Accuracy Method 2: 50.0%\n",
      "--------------------------------------------------------------------------------------------------------------------------------\n",
      "Model: 62\n",
      "Anomaly: cfo1\n",
      "Epoch 0, Loss: 0.0001\n",
      "Epoch 0: Average Loss = 20511.5476, Best Loss = 20511.5476\n",
      "Epoch 100: Average Loss = 1354.9472, Best Loss = 1354.9472\n",
      "Epoch 200: Average Loss = 446.4131, Best Loss = 446.4131\n",
      "Epoch 300: Average Loss = 231.4049, Best Loss = 231.4049\n",
      "Epoch 400: Average Loss = 144.6893, Best Loss = 144.6893\n",
      "Epoch 500: Average Loss = 101.0121, Best Loss = 101.0121\n",
      "Epoch 600: Average Loss = 76.2291, Best Loss = 76.2291\n",
      "Epoch 700: Average Loss = 60.6278, Best Loss = 60.6278\n",
      "Epoch 800: Average Loss = 50.6130, Best Loss = 50.5748\n",
      "Epoch 900: Average Loss = 43.7454, Best Loss = 43.7454\n"
     ]
    },
    {
     "name": "stderr",
     "output_type": "stream",
     "text": [
      "Fitting causal mechanism of node cso1: 100%|██████████| 17/17 [00:00<00:00, 18.96it/s]\n",
      "Evaluating set functions...: 100%|██████████| 143/143 [00:01<00:00, 140.42it/s]\n"
     ]
    },
    {
     "name": "stdout",
     "output_type": "stream",
     "text": [
      "ROOT CAUSE FOUND!\n",
      "bfo1-->bfo1 | bso1 | bfo2\n",
      "bfo1-->bfo2 | bfo1 | bed1\n",
      "Model Accuracy Method 1: 52.38%\n",
      "Model Accuracy Method 2: 50.79%\n",
      "--------------------------------------------------------------------------------------------------------------------------------\n",
      "Model: 63\n",
      "Anomaly: cfo1\n",
      "Epoch 0, Loss: 0.0001\n",
      "Epoch 0: Average Loss = 16632.7467, Best Loss = 16632.7467\n",
      "Epoch 100: Average Loss = 164.6424, Best Loss = 164.6424\n",
      "Epoch 200: Average Loss = 65.3939, Best Loss = 65.3939\n",
      "Early stopping triggered after 287 epochs. Restoring best model.\n"
     ]
    },
    {
     "name": "stderr",
     "output_type": "stream",
     "text": [
      "Fitting causal mechanism of node cso1: 100%|██████████| 17/17 [00:01<00:00,  9.92it/s]\n",
      "Evaluating set functions...: 100%|██████████| 146/146 [00:01<00:00, 96.15it/s]\n"
     ]
    },
    {
     "name": "stdout",
     "output_type": "stream",
     "text": [
      "bso1-->bso3 | bfo1 | bfo2\n",
      "bso1-->bfo1 | bso3 | bso1\n",
      "Model Accuracy Method 1: 51.56%\n",
      "Model Accuracy Method 2: 51.56%\n",
      "--------------------------------------------------------------------------------------------------------------------------------\n",
      "Model: 64\n",
      "Anomaly: ced1\n",
      "Epoch 0, Loss: 0.0001\n",
      "Epoch 0: Average Loss = 24853.5719, Best Loss = 24853.5719\n",
      "Epoch 100: Average Loss = 1549.9203, Best Loss = 1549.9203\n",
      "Epoch 200: Average Loss = 506.5046, Best Loss = 506.5046\n",
      "Epoch 300: Average Loss = 257.8233, Best Loss = 257.8233\n",
      "Epoch 400: Average Loss = 157.7610, Best Loss = 157.7610\n",
      "Epoch 500: Average Loss = 107.1820, Best Loss = 107.1820\n",
      "Epoch 600: Average Loss = 78.2729, Best Loss = 78.2729\n",
      "Epoch 700: Average Loss = 60.4075, Best Loss = 60.4075\n",
      "Epoch 800: Average Loss = 48.6293, Best Loss = 48.6293\n",
      "Early stopping triggered after 868 epochs. Restoring best model.\n"
     ]
    },
    {
     "name": "stderr",
     "output_type": "stream",
     "text": [
      "Fitting causal mechanism of node cso1: 100%|██████████| 17/17 [00:00<00:00, 23.55it/s]\n",
      "Evaluating set functions...: 100%|██████████| 181/181 [00:00<00:00, 185.53it/s]\n"
     ]
    },
    {
     "name": "stdout",
     "output_type": "stream",
     "text": [
      "ROOT CAUSE FOUND!\n",
      "bed1-->bed1 | bfo1 | bfo2\n",
      "bed1-->bfo2 | bfo1 | bed1\n",
      "Model Accuracy Method 1: 52.31%\n",
      "Model Accuracy Method 2: 52.31%\n",
      "--------------------------------------------------------------------------------------------------------------------------------\n",
      "Model: 65\n",
      "Anomaly: cfo1\n",
      "Epoch 0, Loss: 0.0001\n",
      "Epoch 0: Average Loss = 12968.5500, Best Loss = 12968.5500\n",
      "Epoch 100: Average Loss = 246.9579, Best Loss = 246.9579\n",
      "Epoch 200: Average Loss = 88.1137, Best Loss = 88.1137\n",
      "Epoch 300: Average Loss = 51.2595, Best Loss = 51.2595\n",
      "Epoch 400: Average Loss = 37.1433, Best Loss = 37.1433\n",
      "Epoch 500: Average Loss = 30.6514, Best Loss = 30.6514\n",
      "Epoch 600: Average Loss = 27.3583, Best Loss = 27.3583\n",
      "Early stopping triggered after 676 epochs. Restoring best model.\n"
     ]
    },
    {
     "name": "stderr",
     "output_type": "stream",
     "text": [
      "Fitting causal mechanism of node cso1: 100%|██████████| 17/17 [00:01<00:00, 11.91it/s]\n",
      "Evaluating set functions...: 100%|██████████| 51/51 [00:00<00:00, 25498.81it/s]\n"
     ]
    },
    {
     "name": "stdout",
     "output_type": "stream",
     "text": [
      "ROOT CAUSE FOUND!\n",
      "bso1-->bfo2 | bso3 | bso1\n",
      "bso1-->bso1 | bfo2 | bso3\n",
      "Model Accuracy Method 1: 53.03%\n",
      "Model Accuracy Method 2: 53.03%\n",
      "--------------------------------------------------------------------------------------------------------------------------------\n",
      "Model: 66\n",
      "Anomaly: cso1\n",
      "Epoch 0, Loss: 0.0000\n",
      "Epoch 0: Average Loss = 21671.0850, Best Loss = 21671.0850\n",
      "Epoch 100: Average Loss = 370.4663, Best Loss = 370.4663\n",
      "Epoch 200: Average Loss = 120.0146, Best Loss = 120.0146\n",
      "Epoch 300: Average Loss = 61.7052, Best Loss = 61.7052\n",
      "Epoch 400: Average Loss = 39.5353, Best Loss = 39.5353\n",
      "Epoch 500: Average Loss = 29.1462, Best Loss = 29.1462\n",
      "Epoch 600: Average Loss = 23.9005, Best Loss = 23.8907\n",
      "Early stopping triggered after 629 epochs. Restoring best model.\n"
     ]
    },
    {
     "name": "stderr",
     "output_type": "stream",
     "text": [
      "Fitting causal mechanism of node cso1: 100%|██████████| 17/17 [00:01<00:00, 15.25it/s]\n",
      "Evaluating set functions...: 100%|██████████| 32/32 [00:00<00:00, 666.68it/s]\n"
     ]
    },
    {
     "name": "stdout",
     "output_type": "stream",
     "text": [
      "bso2-->bfo1 | bso1 | bed1\n",
      "bso2-->bso1 | bfo1 | bed1\n",
      "Model Accuracy Method 1: 52.24%\n",
      "Model Accuracy Method 2: 52.24%\n",
      "--------------------------------------------------------------------------------------------------------------------------------\n",
      "Model: 67\n",
      "Anomaly: cfo1\n",
      "Epoch 0, Loss: 0.0001\n",
      "Epoch 0: Average Loss = 16129.6838, Best Loss = 16129.6838\n",
      "Early stopping triggered after 15 epochs. Restoring best model.\n"
     ]
    },
    {
     "name": "stderr",
     "output_type": "stream",
     "text": [
      "Fitting causal mechanism of node cso1: 100%|██████████| 17/17 [00:00<00:00, 17.46it/s]\n",
      "Evaluating set functions...: 100%|██████████| 169/169 [00:10<00:00, 16.19it/s]\n"
     ]
    },
    {
     "name": "stdout",
     "output_type": "stream",
     "text": [
      "ROOT CAUSE FOUND!\n",
      "bso1-->bfo1 | bso1 | bso3\n",
      "bso1-->bso1 | bed2 | bfo1\n",
      "Model Accuracy Method 1: 52.94%\n",
      "Model Accuracy Method 2: 52.94%\n",
      "--------------------------------------------------------------------------------------------------------------------------------\n",
      "Model: 68\n",
      "Anomaly: cso1\n",
      "Epoch 0, Loss: 0.0001\n",
      "Epoch 0: Average Loss = 7746.5396, Best Loss = 7746.5396\n",
      "Epoch 100: Average Loss = 520.0086, Best Loss = 520.0086\n",
      "Epoch 200: Average Loss = 179.9650, Best Loss = 179.9650\n",
      "Epoch 300: Average Loss = 98.1470, Best Loss = 98.1470\n",
      "Epoch 400: Average Loss = 65.0836, Best Loss = 65.0836\n",
      "Epoch 500: Average Loss = 48.3306, Best Loss = 48.3306\n",
      "Epoch 600: Average Loss = 38.7145, Best Loss = 38.7145\n",
      "Epoch 700: Average Loss = 32.8375, Best Loss = 32.7570\n",
      "Epoch 800: Average Loss = 29.3153, Best Loss = 28.8816\n",
      "Epoch 900: Average Loss = 26.4929, Best Loss = 26.2937\n"
     ]
    },
    {
     "name": "stderr",
     "output_type": "stream",
     "text": [
      "Fitting causal mechanism of node cso1: 100%|██████████| 17/17 [00:00<00:00, 26.28it/s]\n",
      "Evaluating set functions...: 100%|██████████| 81/81 [00:00<00:00, 323.22it/s]\n"
     ]
    },
    {
     "name": "stdout",
     "output_type": "stream",
     "text": [
      "bso2-->bfo1 | bso3 | bed2\n",
      "bso2-->bso1 | bfo1 | bed1\n",
      "Model Accuracy Method 1: 52.17%\n",
      "Model Accuracy Method 2: 52.17%\n",
      "--------------------------------------------------------------------------------------------------------------------------------\n",
      "Model: 69\n",
      "Anomaly: cso1\n",
      "Epoch 0, Loss: 0.0001\n",
      "Epoch 0: Average Loss = 10957.8682, Best Loss = 10957.8682\n",
      "Epoch 100: Average Loss = 59.1212, Best Loss = 59.1212\n",
      "Epoch 200: Average Loss = 38.1140, Best Loss = 36.7849\n",
      "Epoch 300: Average Loss = 33.0175, Best Loss = 32.5668\n",
      "Early stopping triggered after 303 epochs. Restoring best model.\n"
     ]
    },
    {
     "name": "stderr",
     "output_type": "stream",
     "text": [
      "Fitting causal mechanism of node cso1: 100%|██████████| 17/17 [00:01<00:00,  9.09it/s]\n",
      "Evaluating set functions...: 100%|██████████| 32/32 [00:00<00:00, 31994.69it/s]\n"
     ]
    },
    {
     "name": "stdout",
     "output_type": "stream",
     "text": [
      "ROOT CAUSE FOUND!\n",
      "bso2-->bfo2 | bso3 | bso2\n",
      "bso2-->bfo2 | bso3 | bso2\n",
      "Model Accuracy Method 1: 52.86%\n",
      "Model Accuracy Method 2: 52.86%\n",
      "--------------------------------------------------------------------------------------------------------------------------------\n",
      "Model: 70\n",
      "Anomaly: cso1\n",
      "Epoch 0, Loss: 0.0001\n",
      "Epoch 0: Average Loss = 11757.7290, Best Loss = 11757.7290\n",
      "Early stopping triggered after 15 epochs. Restoring best model.\n"
     ]
    },
    {
     "name": "stderr",
     "output_type": "stream",
     "text": [
      "Fitting causal mechanism of node cso1: 100%|██████████| 17/17 [00:01<00:00, 16.15it/s]\n",
      "Evaluating set functions...: 100%|██████████| 376/376 [00:47<00:00,  7.99it/s]\n"
     ]
    },
    {
     "name": "stdout",
     "output_type": "stream",
     "text": [
      "ROOT CAUSE FOUND!\n",
      "bso2-->bfo2 | bso2 | bed1\n",
      "bso2-->bed1 | bso2 | bso3\n",
      "Model Accuracy Method 1: 53.52%\n",
      "Model Accuracy Method 2: 53.52%\n",
      "--------------------------------------------------------------------------------------------------------------------------------\n",
      "Model: 71\n",
      "Anomaly: ced1\n",
      "Epoch 0, Loss: 0.0001\n",
      "Epoch 0: Average Loss = 17602.2139, Best Loss = 17602.2139\n",
      "Epoch 100: Average Loss = 597.3879, Best Loss = 597.3879\n",
      "Epoch 200: Average Loss = 207.0792, Best Loss = 207.0792\n",
      "Epoch 300: Average Loss = 113.2969, Best Loss = 113.2969\n",
      "Epoch 400: Average Loss = 75.8777, Best Loss = 75.8777\n",
      "Epoch 500: Average Loss = 57.3519, Best Loss = 57.3519\n",
      "Epoch 600: Average Loss = 51.3709, Best Loss = 47.6205\n",
      "Epoch 700: Average Loss = 41.1162, Best Loss = 41.0539\n",
      "Epoch 800: Average Loss = 37.2187, Best Loss = 37.2187\n",
      "Epoch 900: Average Loss = 35.0401, Best Loss = 34.8946\n",
      "Early stopping triggered after 929 epochs. Restoring best model.\n"
     ]
    },
    {
     "name": "stderr",
     "output_type": "stream",
     "text": [
      "Fitting causal mechanism of node cso1: 100%|██████████| 17/17 [00:01<00:00, 16.81it/s]\n",
      "Evaluating set functions...: 100%|██████████| 16/16 [00:00<?, ?it/s]\n"
     ]
    },
    {
     "name": "stdout",
     "output_type": "stream",
     "text": [
      "bed2-->bso1 | bed1 | bfo2\n",
      "bed2-->bfo2 | bed1 | bso1\n",
      "Model Accuracy Method 1: 52.78%\n",
      "Model Accuracy Method 2: 52.78%\n",
      "--------------------------------------------------------------------------------------------------------------------------------\n",
      "Model: 72\n",
      "Anomaly: cso1\n",
      "Epoch 0, Loss: 0.0001\n",
      "Epoch 0: Average Loss = 1949.4149, Best Loss = 1949.4149\n",
      "Epoch 100: Average Loss = 32.3820, Best Loss = 32.3820\n",
      "Early stopping triggered after 130 epochs. Restoring best model.\n"
     ]
    },
    {
     "name": "stderr",
     "output_type": "stream",
     "text": [
      "Fitting causal mechanism of node cso1: 100%|██████████| 17/17 [00:01<00:00,  9.18it/s]\n",
      "Evaluating set functions...: 100%|██████████| 85/85 [00:00<00:00, 1066.21it/s]\n"
     ]
    },
    {
     "name": "stdout",
     "output_type": "stream",
     "text": [
      "bso2-->bfo2 | bso3 | bso1\n",
      "bso2-->bfo2 | bso3 | bso1\n",
      "Model Accuracy Method 1: 52.05%\n",
      "Model Accuracy Method 2: 52.05%\n",
      "--------------------------------------------------------------------------------------------------------------------------------\n",
      "Model: 73\n",
      "Anomaly: cfo1\n",
      "Epoch 0, Loss: 0.0000\n",
      "Epoch 0: Average Loss = 13574.4695, Best Loss = 13574.4695\n",
      "Epoch 100: Average Loss = 823.2786, Best Loss = 823.2786\n",
      "Epoch 200: Average Loss = 280.3258, Best Loss = 280.3258\n",
      "Epoch 300: Average Loss = 149.5125, Best Loss = 149.5125\n",
      "Epoch 400: Average Loss = 95.8906, Best Loss = 95.8906\n",
      "Epoch 500: Average Loss = 68.5628, Best Loss = 68.5628\n",
      "Epoch 600: Average Loss = 52.7954, Best Loss = 52.7954\n",
      "Epoch 700: Average Loss = 42.9001, Best Loss = 42.9001\n",
      "Epoch 800: Average Loss = 36.4295, Best Loss = 36.4295\n",
      "Epoch 900: Average Loss = 32.2254, Best Loss = 32.0873\n"
     ]
    },
    {
     "name": "stderr",
     "output_type": "stream",
     "text": [
      "Fitting causal mechanism of node cso1: 100%|██████████| 17/17 [00:00<00:00, 30.50it/s]\n",
      "Evaluating set functions...: 100%|██████████| 55/55 [00:00<00:00, 27505.27it/s]\n"
     ]
    },
    {
     "name": "stdout",
     "output_type": "stream",
     "text": [
      "ROOT CAUSE FOUND!\n",
      "bfo1-->bfo1 | bed2 | bfo2\n",
      "bfo1-->bso1 | bfo2 | bed1\n",
      "Model Accuracy Method 1: 52.7%\n",
      "Model Accuracy Method 2: 51.35%\n",
      "--------------------------------------------------------------------------------------------------------------------------------\n",
      "Model: 74\n",
      "Anomaly: cso1\n",
      "Epoch 0, Loss: 0.0001\n",
      "Epoch 0: Average Loss = 4190.0097, Best Loss = 4190.0097\n",
      "Epoch 100: Average Loss = 104.5857, Best Loss = 104.5857\n",
      "Epoch 200: Average Loss = 51.9876, Best Loss = 51.9876\n",
      "Epoch 300: Average Loss = 40.0185, Best Loss = 40.0185\n",
      "Early stopping triggered after 377 epochs. Restoring best model.\n"
     ]
    },
    {
     "name": "stderr",
     "output_type": "stream",
     "text": [
      "Fitting causal mechanism of node cso1: 100%|██████████| 17/17 [00:01<00:00, 13.36it/s]\n",
      "Evaluating set functions...: 100%|██████████| 143/143 [00:03<00:00, 39.69it/s]\n"
     ]
    },
    {
     "name": "stdout",
     "output_type": "stream",
     "text": [
      "bso2-->bfo2 | bso1 | bfo1\n",
      "bso2-->bfo2 | bed2 | bfo1\n",
      "Model Accuracy Method 1: 52.0%\n",
      "Model Accuracy Method 2: 50.67%\n",
      "--------------------------------------------------------------------------------------------------------------------------------\n",
      "Model: 75\n",
      "Anomaly: cfo1\n",
      "Epoch 0, Loss: 0.0001\n",
      "Epoch 0: Average Loss = 9688.3087, Best Loss = 9688.3087\n",
      "Early stopping triggered after 15 epochs. Restoring best model.\n"
     ]
    },
    {
     "name": "stderr",
     "output_type": "stream",
     "text": [
      "Fitting causal mechanism of node cso1: 100%|██████████| 17/17 [00:00<00:00, 19.50it/s]\n",
      "Evaluating set functions...: 100%|██████████| 374/374 [00:39<00:00,  9.47it/s]\n"
     ]
    },
    {
     "name": "stdout",
     "output_type": "stream",
     "text": [
      "ROOT CAUSE FOUND!\n",
      "bso3-->bfo2 | bso1 | bso3\n",
      "bso3-->bfo2 | bed2 | bed1\n",
      "Model Accuracy Method 1: 52.63%\n",
      "Model Accuracy Method 2: 50.0%\n",
      "--------------------------------------------------------------------------------------------------------------------------------\n",
      "Model: 76\n",
      "Anomaly: cfo1\n",
      "Epoch 0, Loss: 0.0001\n",
      "Epoch 0: Average Loss = 11855.2368, Best Loss = 11855.2368\n",
      "Epoch 100: Average Loss = 121.8499, Best Loss = 121.8499\n",
      "Epoch 200: Average Loss = 51.7960, Best Loss = 51.7960\n",
      "Epoch 300: Average Loss = 36.4639, Best Loss = 36.4639\n",
      "Early stopping triggered after 399 epochs. Restoring best model.\n"
     ]
    },
    {
     "name": "stderr",
     "output_type": "stream",
     "text": [
      "Fitting causal mechanism of node cso1: 100%|██████████| 17/17 [00:01<00:00,  9.75it/s]\n",
      "Evaluating set functions...: 100%|██████████| 56/56 [00:00<00:00, 56004.06it/s]\n"
     ]
    },
    {
     "name": "stdout",
     "output_type": "stream",
     "text": [
      "ROOT CAUSE FOUND!\n",
      "bfo1-->bso1 | bfo1 | bfo2\n",
      "bfo1-->bso3 | bfo1 | bso1\n",
      "Model Accuracy Method 1: 53.25%\n",
      "Model Accuracy Method 2: 50.65%\n",
      "--------------------------------------------------------------------------------------------------------------------------------\n",
      "Model: 77\n",
      "Anomaly: cso1\n",
      "Epoch 0, Loss: 0.0001\n",
      "Epoch 0: Average Loss = 26090.7814, Best Loss = 26090.7814\n",
      "Early stopping triggered after 15 epochs. Restoring best model.\n"
     ]
    },
    {
     "name": "stderr",
     "output_type": "stream",
     "text": [
      "Fitting causal mechanism of node cso1: 100%|██████████| 17/17 [00:01<00:00, 15.75it/s]\n",
      "Evaluating set functions...: 100%|██████████| 16/16 [00:00<?, ?it/s]\n"
     ]
    },
    {
     "name": "stdout",
     "output_type": "stream",
     "text": [
      "bfo2-->bed2 | NA | NA\n",
      "bfo2-->bed2 | NA | NA\n",
      "Model Accuracy Method 1: 52.56%\n",
      "Model Accuracy Method 2: 50.0%\n",
      "--------------------------------------------------------------------------------------------------------------------------------\n",
      "Model: 78\n",
      "Anomaly: cfo1\n",
      "Epoch 0, Loss: 0.0001\n",
      "Epoch 0: Average Loss = 28891.2493, Best Loss = 28891.2493\n",
      "Epoch 100: Average Loss = 506.5405, Best Loss = 506.5405\n",
      "Epoch 200: Average Loss = 166.1204, Best Loss = 166.1204\n",
      "Epoch 300: Average Loss = 86.7831, Best Loss = 86.7831\n",
      "Epoch 400: Average Loss = 56.5447, Best Loss = 56.5447\n"
     ]
    }
   ],
   "source": [
    "from utils.utils import set_seed\n",
    "set_seed()\n",
    "n_correct = 0\n",
    "method2_correct=0\n",
    "total_checked = 0\n",
    "for i, row in enumerate(cats_rows_list):\n",
    "    total_checked +=1 \n",
    "    print('Model: '+ str(i))\n",
    "    anomaly = eval(row['affected'])[0]\n",
    "    print('Anomaly: ' + anomaly)\n",
    "    anomaly_time = datetime.strptime(row['start_time'],\"%Y-%m-%d %H:%M:%S\")\n",
    "    #start_time = datetime.strptime(row['start_time'],\"%Y-%m-%d %H:%M:%S\")\n",
    "    end_time = datetime.strptime(row['end_time'],\"%Y-%m-%d %H:%M:%S\")\n",
    "    root_cause = row['root_cause']\n",
    "    mod_df = test_df[(test_df.index>= anomaly_time) & (test_df.index<= end_time)]\n",
    "    mod_df = mod_df[['aimp', 'amud', 'arnd', 'asin1', 'asin2', 'adbr', 'adfl', 'bed1',\n",
    "       'bed2', 'bfo1', 'bfo2', 'bso1', 'bso2', 'bso3', 'ced1', 'cfo1', 'cso1']]\n",
    "    num_nodes = len(mod_df.columns)\n",
    "\n",
    "    start_len = mod_df.shape[0]\n",
    "    if start_len >1000:\n",
    "        start_len = 1000\n",
    "\n",
    "    start_time = anomaly_time- timedelta(seconds=start_len)\n",
    "\n",
    "    normal_df = test_df[(test_df.index>= start_time) & (test_df.index< anomaly_time)]\n",
    "\n",
    "    sample_data = TKGNGCDataProcessor(mod_df,device,num_timestamps=20, lags=1)\n",
    "    model_data = create_granger_gat_data(pretrained_tkg,sample_data)\n",
    "    model_data.retrain_tkg()\n",
    "    features = model_data.time_series_data\n",
    "    model_name = 'model_category_'+str(row['category'])\n",
    "    \"\"\"model = CausalGraphVAE(input_dim=num_nodes, hidden_dim=128,\n",
    "                   latent_dim=16, \n",
    "                   num_nodes=num_nodes, \n",
    "                   embed_dim=17,\n",
    "                   prior_adj_matrix=A0.to(torch.float))\"\"\"\n",
    "    model = CausalGraphVAE(input_dim=num_nodes, hidden_dim=128,\n",
    "                   latent_dim=16, \n",
    "                   num_nodes=num_nodes, \n",
    "                   embed_dim=17,\n",
    "                   prior_adj_matrix=A0.to(torch.float))\n",
    "    optimizer = torch.optim.Adam(model.parameters(), lr=0.001)\n",
    "    data = create_lagged_features(features, 3, pad_value=0)\n",
    "    ee = create_lagged_features(model_data.entity_emb, 3, pad_value=0)\n",
    "    tt = create_lagged_features(model_data.timestamp_emb, 3, pad_value=0)\n",
    "        \n",
    "    dataset = TimeSeriesDataset(data, ee, tt)\n",
    "    dataloader = DataLoader(dataset,batch_size = BATCH_SIZE, shuffle=False)\n",
    "    loss = train_causal_vae(model, optimizer, dataloader, A0, num_epochs=1000)\n",
    "\n",
    "    model.eval()\n",
    "    with torch.no_grad():\n",
    "        _, _, _, learned_adj_matrix = model(data,ee,tt, num_nodes=num_nodes)\n",
    "        # small threshold\n",
    "        threshold = 0.2  \n",
    "        final_W = (learned_adj_matrix.abs() > threshold).float() * learned_adj_matrix\n",
    "        causal_graph = final_W.cpu().numpy()\n",
    "\n",
    "    adj_data = pd.DataFrame(causal_graph,index=cols,columns=cols)\n",
    "    candidates = adj_data[anomaly].sort_values(ascending=False)\n",
    "    candidates = candidates[candidates.index.isin( potential_causes)]\n",
    "    #A0 = learned_adj_matrix\n",
    "    #try:\n",
    "        \n",
    "    ci = causal_inference(causal_graph, mod_df, normal_df,potential_causes)\n",
    "    ci.infer_causal_path(anomaly)  \n",
    "\n",
    "    if len(ci.causal_factors) >= 3:\n",
    "        potential_cause1 = ci.causal_factors[0][0]\n",
    "        potential_cause2 = ci.causal_factors[1][0]\n",
    "        potential_cause3 = ci.causal_factors[2][0]\n",
    "\n",
    "    elif len(ci.causal_factors) == 2:\n",
    "        potential_cause1 = ci.causal_factors[0][0]\n",
    "        potential_cause2 = ci.causal_factors[1][0]\n",
    "        potential_cause3 = 'NA'\n",
    "    elif len(ci.causal_factors) == 1:\n",
    "        potential_cause1 = ci.causal_factors[0][0]\n",
    "        potential_cause2 = \"NA\"\n",
    "        potential_cause3 = 'NA'\n",
    "    else:\n",
    "        potential_cause1 = candidates.index[0]\n",
    "        potential_cause2 = candidates.index[1]\n",
    "        potential_cause3 = candidates.index[2]\n",
    "\n",
    "    if len(ci.causal_effects) >= 3:\n",
    "        causal_effet1 = ci.causal_effects[0][0]\n",
    "        causal_effet2 = ci.causal_effects[1][0]\n",
    "        causal_effet3 = ci.causal_effects[2][0]\n",
    "    elif len(ci.causal_effects) == 2:\n",
    "        causal_effet1 = ci.causal_effects[0][0]\n",
    "        causal_effet2 = ci.causal_effects[1][0]\n",
    "        causal_effet3 = 'NA'\n",
    "    elif len(ci.causal_effects) == 1:\n",
    "        causal_effet1 = ci.causal_effects[0][0]\n",
    "        causal_effet2 = 'NA'\n",
    "        causal_effet3 = 'NA'\n",
    "    else:\n",
    "        potential_cause1 = candidates.index[0]\n",
    "        potential_cause2 = candidates.index[1]\n",
    "        potential_cause3 = candidates.index[2]\n",
    "\n",
    "    \"\"\"except:\n",
    "        potential_cause1 = candidates.index[0]\n",
    "        potential_cause2 = candidates.index[1]\n",
    "        potential_cause3 = candidates.index[2]\n",
    "        causal_effet1 = candidates.index[0]\n",
    "        causal_effet2 = candidates.index[1]\n",
    "        causal_effet3 = candidates.index[2]\"\"\"\n",
    "\n",
    "   \n",
    "    if root_cause in [potential_cause1,potential_cause2,potential_cause3]:\n",
    "        n_correct+=1\n",
    "\n",
    "    if root_cause in [causal_effet1,causal_effet2,causal_effet3]:\n",
    "        method2_correct+=1\n",
    "\n",
    "    if root_cause == potential_cause1:\n",
    "        row['cause_1'] = 1\n",
    "    if root_cause == potential_cause2:\n",
    "        row['cause_2'] = 1\n",
    "    if root_cause == potential_cause3:\n",
    "        row['cause_3'] = 1\n",
    "    new_metadata.append(row)\n",
    "    if root_cause in [potential_cause1 , potential_cause2 , potential_cause3]:\n",
    "        print('ROOT CAUSE FOUND!')\n",
    "    print(root_cause + '-->' + potential_cause1 + ' | ' + potential_cause2 + ' | ' + potential_cause3)\n",
    "    print(root_cause + '-->' + causal_effet1 + ' | ' + causal_effet2 + ' | ' + causal_effet3)\n",
    "\n",
    "    print(\"Model Accuracy Method 1: \" + str(round( (n_correct/total_checked)*100,2)) + '%' )\n",
    "    print(\"Model Accuracy Method 2: \" + str(round( (method2_correct/total_checked)*100,2)) + '%' )\n",
    "    \n",
    "    print('--------------------------------------------------------------------------------------------------------------------------------')\n",
    "\n",
    "\n"
   ]
  },
  {
   "cell_type": "code",
   "execution_count": null,
   "id": "d127bc5a-c040-4a98-b7a2-d5481f4e098f",
   "metadata": {},
   "outputs": [],
   "source": []
  }
 ],
 "metadata": {
  "kernelspec": {
   "display_name": "Python 3 (ipykernel)",
   "language": "python",
   "name": "python3"
  },
  "language_info": {
   "codemirror_mode": {
    "name": "ipython",
    "version": 3
   },
   "file_extension": ".py",
   "mimetype": "text/x-python",
   "name": "python",
   "nbconvert_exporter": "python",
   "pygments_lexer": "ipython3",
   "version": "3.12.7"
  }
 },
 "nbformat": 4,
 "nbformat_minor": 5
}
