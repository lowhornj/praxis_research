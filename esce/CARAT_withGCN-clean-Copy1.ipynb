{
 "cells": [
  {
   "cell_type": "code",
   "execution_count": 1,
   "id": "a97d3321-4427-4837-8269-048dc64686f7",
   "metadata": {},
   "outputs": [],
   "source": [
    "import os\n",
    "import torch\n",
    "import polars as pl\n",
    "import pandas as pd\n",
    "import numpy as np\n",
    "import seaborn as sns\n",
    "import warnings\n",
    "from feature_eng.scalers import ranged_scaler\n",
    "from datetime import datetime, timedelta\n",
    "#from mpge.rca import mpge_root_cause_diagnosis\n",
    "warnings.filterwarnings(\"ignore\", category=UserWarning) \n",
    "warnings.simplefilter(action='ignore', category=FutureWarning)\n",
    "pd.options.mode.chained_assignment = None\n",
    "\n",
    "import warnings\n",
    "\n",
    "def fxn():\n",
    "    warnings.warn(\"deprecated\", DeprecationWarning)\n",
    "\n",
    "with warnings.catch_warnings():\n",
    "    warnings.simplefilter(\"ignore\")\n",
    "    fxn()\n",
    "\n",
    "# Or if you are using > Python 3.11:\n",
    "with warnings.catch_warnings(action=\"ignore\"):\n",
    "    fxn()"
   ]
  },
  {
   "cell_type": "code",
   "execution_count": 2,
   "id": "68ef600a-406e-456a-98ac-8388b03ccc8e",
   "metadata": {},
   "outputs": [],
   "source": [
    "os.environ[\"CUBLAS_WORKSPACE_CONFIG\"] = \":4096:8\"\n",
    "os.environ[\"CUDA_LAUNCH_BLOCKING\"] = \"1\"\n"
   ]
  },
  {
   "cell_type": "code",
   "execution_count": 3,
   "id": "ec413833-9dbd-45bb-99a1-18e31bd014fb",
   "metadata": {},
   "outputs": [],
   "source": [
    "from tkgngc.embeddings import PretrainedTKGEmbeddingWithTimestamps\n",
    "from tkgngc.data_processing import TKGNGCDataProcessor\n",
    "from tkgngc.model import train_model"
   ]
  },
  {
   "cell_type": "code",
   "execution_count": 4,
   "id": "6981e0a1-e1c0-409d-ab6a-cf7d34bf1793",
   "metadata": {},
   "outputs": [],
   "source": [
    "cats_df = pl.read_csv(\"data/data.csv\", separator=\",\")  \n",
    "metadata = pl.read_csv('data/metadata.csv',separator=',')\n",
    "potential_causes = metadata['root_cause'].unique().to_list()\n",
    "\n",
    "for col in cats_df.columns:\n",
    "    unique_vals = cats_df[col].n_unique()\n",
    "    data_type = cats_df[col].dtype\n",
    "    bad_dtypes = [pl.Date,pl.Datetime,pl.Utf8]\n",
    "    if ((unique_vals >= 50) & (data_type not in bad_dtypes) ):\n",
    "        cats_df = cats_df.with_columns(ranged_scaler(cats_df[col]))\n",
    "    else:\n",
    "        continue"
   ]
  },
  {
   "cell_type": "code",
   "execution_count": 5,
   "id": "df0f5a4d-1cf3-4a87-a3fb-751607296c58",
   "metadata": {},
   "outputs": [],
   "source": [
    "cats_df = cats_df.with_columns(\n",
    "    pl.col('timestamp').str.to_datetime(\"%Y-%m-%d %H:%M:%S\"),\n",
    "    pl.Series(\"entity_id\",range(len(cats_df)))\n",
    ")"
   ]
  },
  {
   "cell_type": "code",
   "execution_count": 6,
   "id": "48b9af15-9315-41d4-86fe-907430746a4a",
   "metadata": {},
   "outputs": [
    {
     "data": {
      "text/html": [
       "<div><style>\n",
       ".dataframe > thead > tr,\n",
       ".dataframe > tbody > tr {\n",
       "  text-align: right;\n",
       "  white-space: pre-wrap;\n",
       "}\n",
       "</style>\n",
       "<small>shape: (5, 21)</small><table border=\"1\" class=\"dataframe\"><thead><tr><th>timestamp</th><th>aimp</th><th>amud</th><th>arnd</th><th>asin1</th><th>asin2</th><th>adbr</th><th>adfl</th><th>bed1</th><th>bed2</th><th>bfo1</th><th>bfo2</th><th>bso1</th><th>bso2</th><th>bso3</th><th>ced1</th><th>cfo1</th><th>cso1</th><th>y</th><th>category</th><th>entity_id</th></tr><tr><td>datetime[μs]</td><td>f64</td><td>f64</td><td>f64</td><td>f64</td><td>f64</td><td>f64</td><td>f64</td><td>f64</td><td>f64</td><td>f64</td><td>f64</td><td>f64</td><td>f64</td><td>f64</td><td>f64</td><td>f64</td><td>f64</td><td>f64</td><td>f64</td><td>i64</td></tr></thead><tbody><tr><td>2023-01-01 00:00:00</td><td>0.0</td><td>0.571429</td><td>0.25</td><td>0.5</td><td>0.5</td><td>0.0</td><td>0.0</td><td>0.33599</td><td>0.315382</td><td>0.130919</td><td>0.116409</td><td>0.409726</td><td>0.246024</td><td>0.14197</td><td>0.112819</td><td>0.550194</td><td>0.406688</td><td>0.0</td><td>0.0</td><td>0</td></tr><tr><td>2023-01-01 00:00:01</td><td>0.0</td><td>0.571429</td><td>0.252001</td><td>0.50001</td><td>0.5001</td><td>0.0</td><td>0.0</td><td>0.33599</td><td>0.315382</td><td>0.130919</td><td>0.116409</td><td>0.40973</td><td>0.246024</td><td>0.14197</td><td>0.112819</td><td>0.550194</td><td>0.406691</td><td>0.0</td><td>0.0</td><td>1</td></tr><tr><td>2023-01-01 00:00:02</td><td>0.0</td><td>0.571429</td><td>0.256914</td><td>0.50002</td><td>0.5002</td><td>0.0</td><td>0.0</td><td>0.33599</td><td>0.315382</td><td>0.130919</td><td>0.116409</td><td>0.409741</td><td>0.246024</td><td>0.14197</td><td>0.112819</td><td>0.550195</td><td>0.406698</td><td>0.0</td><td>0.0</td><td>2</td></tr><tr><td>2023-01-01 00:00:03</td><td>0.0</td><td>0.571429</td><td>0.268273</td><td>0.50003</td><td>0.5003</td><td>0.0</td><td>0.0</td><td>0.33599</td><td>0.315382</td><td>0.130919</td><td>0.116409</td><td>0.409758</td><td>0.246024</td><td>0.14197</td><td>0.112819</td><td>0.550195</td><td>0.40671</td><td>0.0</td><td>0.0</td><td>3</td></tr><tr><td>2023-01-01 00:00:04</td><td>0.0</td><td>0.571429</td><td>0.277953</td><td>0.50004</td><td>0.5004</td><td>0.0</td><td>0.0</td><td>0.33599</td><td>0.315382</td><td>0.130919</td><td>0.116409</td><td>0.409782</td><td>0.246024</td><td>0.14197</td><td>0.112819</td><td>0.550197</td><td>0.406726</td><td>0.0</td><td>0.0</td><td>4</td></tr></tbody></table></div>"
      ],
      "text/plain": [
       "shape: (5, 21)\n",
       "┌─────────────────────┬──────┬──────────┬──────────┬───┬──────────┬─────┬──────────┬───────────┐\n",
       "│ timestamp           ┆ aimp ┆ amud     ┆ arnd     ┆ … ┆ cso1     ┆ y   ┆ category ┆ entity_id │\n",
       "│ ---                 ┆ ---  ┆ ---      ┆ ---      ┆   ┆ ---      ┆ --- ┆ ---      ┆ ---       │\n",
       "│ datetime[μs]        ┆ f64  ┆ f64      ┆ f64      ┆   ┆ f64      ┆ f64 ┆ f64      ┆ i64       │\n",
       "╞═════════════════════╪══════╪══════════╪══════════╪═══╪══════════╪═════╪══════════╪═══════════╡\n",
       "│ 2023-01-01 00:00:00 ┆ 0.0  ┆ 0.571429 ┆ 0.25     ┆ … ┆ 0.406688 ┆ 0.0 ┆ 0.0      ┆ 0         │\n",
       "│ 2023-01-01 00:00:01 ┆ 0.0  ┆ 0.571429 ┆ 0.252001 ┆ … ┆ 0.406691 ┆ 0.0 ┆ 0.0      ┆ 1         │\n",
       "│ 2023-01-01 00:00:02 ┆ 0.0  ┆ 0.571429 ┆ 0.256914 ┆ … ┆ 0.406698 ┆ 0.0 ┆ 0.0      ┆ 2         │\n",
       "│ 2023-01-01 00:00:03 ┆ 0.0  ┆ 0.571429 ┆ 0.268273 ┆ … ┆ 0.40671  ┆ 0.0 ┆ 0.0      ┆ 3         │\n",
       "│ 2023-01-01 00:00:04 ┆ 0.0  ┆ 0.571429 ┆ 0.277953 ┆ … ┆ 0.406726 ┆ 0.0 ┆ 0.0      ┆ 4         │\n",
       "└─────────────────────┴──────┴──────────┴──────────┴───┴──────────┴─────┴──────────┴───────────┘"
      ]
     },
     "execution_count": 6,
     "metadata": {},
     "output_type": "execute_result"
    }
   ],
   "source": [
    "cats_rows_list = metadata.rows(named=True)\n",
    "cats_df.head()"
   ]
  },
  {
   "cell_type": "code",
   "execution_count": 7,
   "id": "b6b4cd0e-cacc-4d93-b0e9-a0cdca28b157",
   "metadata": {},
   "outputs": [],
   "source": [
    "cats_df = cats_df.to_pandas()"
   ]
  },
  {
   "cell_type": "code",
   "execution_count": 8,
   "id": "dc297da3-97f8-4077-898e-cc23b8c2e24a",
   "metadata": {},
   "outputs": [],
   "source": [
    "potential_causes = metadata['root_cause'].unique().to_list()"
   ]
  },
  {
   "cell_type": "code",
   "execution_count": 9,
   "id": "e8be12f8-8ca1-49a7-81aa-5e05325023a5",
   "metadata": {},
   "outputs": [
    {
     "data": {
      "text/html": [
       "<div>\n",
       "<style scoped>\n",
       "    .dataframe tbody tr th:only-of-type {\n",
       "        vertical-align: middle;\n",
       "    }\n",
       "\n",
       "    .dataframe tbody tr th {\n",
       "        vertical-align: top;\n",
       "    }\n",
       "\n",
       "    .dataframe thead th {\n",
       "        text-align: right;\n",
       "    }\n",
       "</style>\n",
       "<table border=\"1\" class=\"dataframe\">\n",
       "  <thead>\n",
       "    <tr style=\"text-align: right;\">\n",
       "      <th></th>\n",
       "      <th>aimp</th>\n",
       "      <th>amud</th>\n",
       "      <th>arnd</th>\n",
       "      <th>asin1</th>\n",
       "      <th>asin2</th>\n",
       "      <th>adbr</th>\n",
       "      <th>adfl</th>\n",
       "      <th>bed1</th>\n",
       "      <th>bed2</th>\n",
       "      <th>bfo1</th>\n",
       "      <th>bfo2</th>\n",
       "      <th>bso1</th>\n",
       "      <th>bso2</th>\n",
       "      <th>bso3</th>\n",
       "      <th>ced1</th>\n",
       "      <th>cfo1</th>\n",
       "      <th>cso1</th>\n",
       "    </tr>\n",
       "    <tr>\n",
       "      <th>timestamp</th>\n",
       "      <th></th>\n",
       "      <th></th>\n",
       "      <th></th>\n",
       "      <th></th>\n",
       "      <th></th>\n",
       "      <th></th>\n",
       "      <th></th>\n",
       "      <th></th>\n",
       "      <th></th>\n",
       "      <th></th>\n",
       "      <th></th>\n",
       "      <th></th>\n",
       "      <th></th>\n",
       "      <th></th>\n",
       "      <th></th>\n",
       "      <th></th>\n",
       "      <th></th>\n",
       "    </tr>\n",
       "  </thead>\n",
       "  <tbody>\n",
       "    <tr>\n",
       "      <th>2023-01-01 00:00:00</th>\n",
       "      <td>0.0</td>\n",
       "      <td>0.571429</td>\n",
       "      <td>0.250000</td>\n",
       "      <td>0.50000</td>\n",
       "      <td>0.5000</td>\n",
       "      <td>0.0</td>\n",
       "      <td>0.0</td>\n",
       "      <td>0.33599</td>\n",
       "      <td>0.315382</td>\n",
       "      <td>0.130919</td>\n",
       "      <td>0.116409</td>\n",
       "      <td>0.409726</td>\n",
       "      <td>0.246024</td>\n",
       "      <td>0.14197</td>\n",
       "      <td>0.112819</td>\n",
       "      <td>0.550194</td>\n",
       "      <td>0.406688</td>\n",
       "    </tr>\n",
       "    <tr>\n",
       "      <th>2023-01-01 00:00:01</th>\n",
       "      <td>0.0</td>\n",
       "      <td>0.571429</td>\n",
       "      <td>0.252001</td>\n",
       "      <td>0.50001</td>\n",
       "      <td>0.5001</td>\n",
       "      <td>0.0</td>\n",
       "      <td>0.0</td>\n",
       "      <td>0.33599</td>\n",
       "      <td>0.315382</td>\n",
       "      <td>0.130919</td>\n",
       "      <td>0.116409</td>\n",
       "      <td>0.409730</td>\n",
       "      <td>0.246024</td>\n",
       "      <td>0.14197</td>\n",
       "      <td>0.112819</td>\n",
       "      <td>0.550194</td>\n",
       "      <td>0.406691</td>\n",
       "    </tr>\n",
       "    <tr>\n",
       "      <th>2023-01-01 00:00:02</th>\n",
       "      <td>0.0</td>\n",
       "      <td>0.571429</td>\n",
       "      <td>0.256914</td>\n",
       "      <td>0.50002</td>\n",
       "      <td>0.5002</td>\n",
       "      <td>0.0</td>\n",
       "      <td>0.0</td>\n",
       "      <td>0.33599</td>\n",
       "      <td>0.315382</td>\n",
       "      <td>0.130919</td>\n",
       "      <td>0.116409</td>\n",
       "      <td>0.409741</td>\n",
       "      <td>0.246024</td>\n",
       "      <td>0.14197</td>\n",
       "      <td>0.112819</td>\n",
       "      <td>0.550195</td>\n",
       "      <td>0.406698</td>\n",
       "    </tr>\n",
       "    <tr>\n",
       "      <th>2023-01-01 00:00:03</th>\n",
       "      <td>0.0</td>\n",
       "      <td>0.571429</td>\n",
       "      <td>0.268273</td>\n",
       "      <td>0.50003</td>\n",
       "      <td>0.5003</td>\n",
       "      <td>0.0</td>\n",
       "      <td>0.0</td>\n",
       "      <td>0.33599</td>\n",
       "      <td>0.315382</td>\n",
       "      <td>0.130919</td>\n",
       "      <td>0.116409</td>\n",
       "      <td>0.409758</td>\n",
       "      <td>0.246024</td>\n",
       "      <td>0.14197</td>\n",
       "      <td>0.112819</td>\n",
       "      <td>0.550195</td>\n",
       "      <td>0.406710</td>\n",
       "    </tr>\n",
       "    <tr>\n",
       "      <th>2023-01-01 00:00:04</th>\n",
       "      <td>0.0</td>\n",
       "      <td>0.571429</td>\n",
       "      <td>0.277953</td>\n",
       "      <td>0.50004</td>\n",
       "      <td>0.5004</td>\n",
       "      <td>0.0</td>\n",
       "      <td>0.0</td>\n",
       "      <td>0.33599</td>\n",
       "      <td>0.315382</td>\n",
       "      <td>0.130919</td>\n",
       "      <td>0.116409</td>\n",
       "      <td>0.409782</td>\n",
       "      <td>0.246024</td>\n",
       "      <td>0.14197</td>\n",
       "      <td>0.112819</td>\n",
       "      <td>0.550197</td>\n",
       "      <td>0.406726</td>\n",
       "    </tr>\n",
       "  </tbody>\n",
       "</table>\n",
       "</div>"
      ],
      "text/plain": [
       "                     aimp      amud      arnd    asin1   asin2  adbr  adfl  \\\n",
       "timestamp                                                                    \n",
       "2023-01-01 00:00:00   0.0  0.571429  0.250000  0.50000  0.5000   0.0   0.0   \n",
       "2023-01-01 00:00:01   0.0  0.571429  0.252001  0.50001  0.5001   0.0   0.0   \n",
       "2023-01-01 00:00:02   0.0  0.571429  0.256914  0.50002  0.5002   0.0   0.0   \n",
       "2023-01-01 00:00:03   0.0  0.571429  0.268273  0.50003  0.5003   0.0   0.0   \n",
       "2023-01-01 00:00:04   0.0  0.571429  0.277953  0.50004  0.5004   0.0   0.0   \n",
       "\n",
       "                        bed1      bed2      bfo1      bfo2      bso1  \\\n",
       "timestamp                                                              \n",
       "2023-01-01 00:00:00  0.33599  0.315382  0.130919  0.116409  0.409726   \n",
       "2023-01-01 00:00:01  0.33599  0.315382  0.130919  0.116409  0.409730   \n",
       "2023-01-01 00:00:02  0.33599  0.315382  0.130919  0.116409  0.409741   \n",
       "2023-01-01 00:00:03  0.33599  0.315382  0.130919  0.116409  0.409758   \n",
       "2023-01-01 00:00:04  0.33599  0.315382  0.130919  0.116409  0.409782   \n",
       "\n",
       "                         bso2     bso3      ced1      cfo1      cso1  \n",
       "timestamp                                                             \n",
       "2023-01-01 00:00:00  0.246024  0.14197  0.112819  0.550194  0.406688  \n",
       "2023-01-01 00:00:01  0.246024  0.14197  0.112819  0.550194  0.406691  \n",
       "2023-01-01 00:00:02  0.246024  0.14197  0.112819  0.550195  0.406698  \n",
       "2023-01-01 00:00:03  0.246024  0.14197  0.112819  0.550195  0.406710  \n",
       "2023-01-01 00:00:04  0.246024  0.14197  0.112819  0.550197  0.406726  "
      ]
     },
     "execution_count": 9,
     "metadata": {},
     "output_type": "execute_result"
    }
   ],
   "source": [
    "cats_df=cats_df.set_index('timestamp')\n",
    "cats_df = cats_df.drop(['y','category','entity_id'],axis=1)\n",
    "cats_df.head()\n"
   ]
  },
  {
   "cell_type": "code",
   "execution_count": 10,
   "id": "f6b15ba7-0bab-44e8-95aa-c6b534da9748",
   "metadata": {},
   "outputs": [],
   "source": [
    "train_df = cats_df[0:1000000]\n",
    "test_df = cats_df[1000000:]"
   ]
  },
  {
   "cell_type": "code",
   "execution_count": 11,
   "id": "7bda4165-aa93-46ec-909c-19fb14248df3",
   "metadata": {},
   "outputs": [
    {
     "data": {
      "text/html": [
       "<div>\n",
       "<style scoped>\n",
       "    .dataframe tbody tr th:only-of-type {\n",
       "        vertical-align: middle;\n",
       "    }\n",
       "\n",
       "    .dataframe tbody tr th {\n",
       "        vertical-align: top;\n",
       "    }\n",
       "\n",
       "    .dataframe thead th {\n",
       "        text-align: right;\n",
       "    }\n",
       "</style>\n",
       "<table border=\"1\" class=\"dataframe\">\n",
       "  <thead>\n",
       "    <tr style=\"text-align: right;\">\n",
       "      <th></th>\n",
       "      <th>aimp</th>\n",
       "      <th>amud</th>\n",
       "      <th>arnd</th>\n",
       "      <th>asin1</th>\n",
       "      <th>asin2</th>\n",
       "      <th>adbr</th>\n",
       "      <th>adfl</th>\n",
       "      <th>bed1</th>\n",
       "      <th>bed2</th>\n",
       "      <th>bfo1</th>\n",
       "      <th>bfo2</th>\n",
       "      <th>bso1</th>\n",
       "      <th>bso2</th>\n",
       "      <th>bso3</th>\n",
       "      <th>ced1</th>\n",
       "      <th>cfo1</th>\n",
       "      <th>cso1</th>\n",
       "    </tr>\n",
       "    <tr>\n",
       "      <th>timestamp</th>\n",
       "      <th></th>\n",
       "      <th></th>\n",
       "      <th></th>\n",
       "      <th></th>\n",
       "      <th></th>\n",
       "      <th></th>\n",
       "      <th></th>\n",
       "      <th></th>\n",
       "      <th></th>\n",
       "      <th></th>\n",
       "      <th></th>\n",
       "      <th></th>\n",
       "      <th></th>\n",
       "      <th></th>\n",
       "      <th></th>\n",
       "      <th></th>\n",
       "      <th></th>\n",
       "    </tr>\n",
       "  </thead>\n",
       "  <tbody>\n",
       "    <tr>\n",
       "      <th>2023-01-01 00:00:00</th>\n",
       "      <td>0.0</td>\n",
       "      <td>0.571429</td>\n",
       "      <td>0.250000</td>\n",
       "      <td>0.50000</td>\n",
       "      <td>0.5000</td>\n",
       "      <td>0.0</td>\n",
       "      <td>0.0</td>\n",
       "      <td>0.33599</td>\n",
       "      <td>0.315382</td>\n",
       "      <td>0.130919</td>\n",
       "      <td>0.116409</td>\n",
       "      <td>0.409726</td>\n",
       "      <td>0.246024</td>\n",
       "      <td>0.14197</td>\n",
       "      <td>0.112819</td>\n",
       "      <td>0.550194</td>\n",
       "      <td>0.406688</td>\n",
       "    </tr>\n",
       "    <tr>\n",
       "      <th>2023-01-01 00:00:01</th>\n",
       "      <td>0.0</td>\n",
       "      <td>0.571429</td>\n",
       "      <td>0.252001</td>\n",
       "      <td>0.50001</td>\n",
       "      <td>0.5001</td>\n",
       "      <td>0.0</td>\n",
       "      <td>0.0</td>\n",
       "      <td>0.33599</td>\n",
       "      <td>0.315382</td>\n",
       "      <td>0.130919</td>\n",
       "      <td>0.116409</td>\n",
       "      <td>0.409730</td>\n",
       "      <td>0.246024</td>\n",
       "      <td>0.14197</td>\n",
       "      <td>0.112819</td>\n",
       "      <td>0.550194</td>\n",
       "      <td>0.406691</td>\n",
       "    </tr>\n",
       "    <tr>\n",
       "      <th>2023-01-01 00:00:02</th>\n",
       "      <td>0.0</td>\n",
       "      <td>0.571429</td>\n",
       "      <td>0.256914</td>\n",
       "      <td>0.50002</td>\n",
       "      <td>0.5002</td>\n",
       "      <td>0.0</td>\n",
       "      <td>0.0</td>\n",
       "      <td>0.33599</td>\n",
       "      <td>0.315382</td>\n",
       "      <td>0.130919</td>\n",
       "      <td>0.116409</td>\n",
       "      <td>0.409741</td>\n",
       "      <td>0.246024</td>\n",
       "      <td>0.14197</td>\n",
       "      <td>0.112819</td>\n",
       "      <td>0.550195</td>\n",
       "      <td>0.406698</td>\n",
       "    </tr>\n",
       "    <tr>\n",
       "      <th>2023-01-01 00:00:03</th>\n",
       "      <td>0.0</td>\n",
       "      <td>0.571429</td>\n",
       "      <td>0.268273</td>\n",
       "      <td>0.50003</td>\n",
       "      <td>0.5003</td>\n",
       "      <td>0.0</td>\n",
       "      <td>0.0</td>\n",
       "      <td>0.33599</td>\n",
       "      <td>0.315382</td>\n",
       "      <td>0.130919</td>\n",
       "      <td>0.116409</td>\n",
       "      <td>0.409758</td>\n",
       "      <td>0.246024</td>\n",
       "      <td>0.14197</td>\n",
       "      <td>0.112819</td>\n",
       "      <td>0.550195</td>\n",
       "      <td>0.406710</td>\n",
       "    </tr>\n",
       "    <tr>\n",
       "      <th>2023-01-01 00:00:04</th>\n",
       "      <td>0.0</td>\n",
       "      <td>0.571429</td>\n",
       "      <td>0.277953</td>\n",
       "      <td>0.50004</td>\n",
       "      <td>0.5004</td>\n",
       "      <td>0.0</td>\n",
       "      <td>0.0</td>\n",
       "      <td>0.33599</td>\n",
       "      <td>0.315382</td>\n",
       "      <td>0.130919</td>\n",
       "      <td>0.116409</td>\n",
       "      <td>0.409782</td>\n",
       "      <td>0.246024</td>\n",
       "      <td>0.14197</td>\n",
       "      <td>0.112819</td>\n",
       "      <td>0.550197</td>\n",
       "      <td>0.406726</td>\n",
       "    </tr>\n",
       "  </tbody>\n",
       "</table>\n",
       "</div>"
      ],
      "text/plain": [
       "                     aimp      amud      arnd    asin1   asin2  adbr  adfl  \\\n",
       "timestamp                                                                    \n",
       "2023-01-01 00:00:00   0.0  0.571429  0.250000  0.50000  0.5000   0.0   0.0   \n",
       "2023-01-01 00:00:01   0.0  0.571429  0.252001  0.50001  0.5001   0.0   0.0   \n",
       "2023-01-01 00:00:02   0.0  0.571429  0.256914  0.50002  0.5002   0.0   0.0   \n",
       "2023-01-01 00:00:03   0.0  0.571429  0.268273  0.50003  0.5003   0.0   0.0   \n",
       "2023-01-01 00:00:04   0.0  0.571429  0.277953  0.50004  0.5004   0.0   0.0   \n",
       "\n",
       "                        bed1      bed2      bfo1      bfo2      bso1  \\\n",
       "timestamp                                                              \n",
       "2023-01-01 00:00:00  0.33599  0.315382  0.130919  0.116409  0.409726   \n",
       "2023-01-01 00:00:01  0.33599  0.315382  0.130919  0.116409  0.409730   \n",
       "2023-01-01 00:00:02  0.33599  0.315382  0.130919  0.116409  0.409741   \n",
       "2023-01-01 00:00:03  0.33599  0.315382  0.130919  0.116409  0.409758   \n",
       "2023-01-01 00:00:04  0.33599  0.315382  0.130919  0.116409  0.409782   \n",
       "\n",
       "                         bso2     bso3      ced1      cfo1      cso1  \n",
       "timestamp                                                             \n",
       "2023-01-01 00:00:00  0.246024  0.14197  0.112819  0.550194  0.406688  \n",
       "2023-01-01 00:00:01  0.246024  0.14197  0.112819  0.550194  0.406691  \n",
       "2023-01-01 00:00:02  0.246024  0.14197  0.112819  0.550195  0.406698  \n",
       "2023-01-01 00:00:03  0.246024  0.14197  0.112819  0.550195  0.406710  \n",
       "2023-01-01 00:00:04  0.246024  0.14197  0.112819  0.550197  0.406726  "
      ]
     },
     "execution_count": 11,
     "metadata": {},
     "output_type": "execute_result"
    }
   ],
   "source": [
    "train_df.head()"
   ]
  },
  {
   "cell_type": "code",
   "execution_count": 12,
   "id": "af75df75-c4c5-47d3-8f48-748b82fc6160",
   "metadata": {},
   "outputs": [],
   "source": [
    "device = torch.device(\"cuda\" if torch.cuda.is_available() else \"cpu\")\n",
    "#device = torch.device(\"cpu\")\n"
   ]
  },
  {
   "cell_type": "code",
   "execution_count": 13,
   "id": "22ef7544-f092-4051-9ee2-f0894d2a42c5",
   "metadata": {},
   "outputs": [
    {
     "data": {
      "text/plain": [
       "device(type='cuda')"
      ]
     },
     "execution_count": 13,
     "metadata": {},
     "output_type": "execute_result"
    }
   ],
   "source": [
    "device"
   ]
  },
  {
   "cell_type": "code",
   "execution_count": 14,
   "id": "ad842ebd-c542-44c1-8dcd-403a591f4877",
   "metadata": {},
   "outputs": [
    {
     "data": {
      "text/plain": [
       "Index(['aimp', 'amud', 'arnd', 'asin1', 'asin2', 'adbr', 'adfl', 'bed1',\n",
       "       'bed2', 'bfo1', 'bfo2', 'bso1', 'bso2', 'bso3', 'ced1', 'cfo1', 'cso1'],\n",
       "      dtype='object')"
      ]
     },
     "execution_count": 14,
     "metadata": {},
     "output_type": "execute_result"
    }
   ],
   "source": [
    "train_df.columns"
   ]
  },
  {
   "cell_type": "code",
   "execution_count": 15,
   "id": "3d4f3cf7-daad-4a4f-849c-7a3bf5dc83b4",
   "metadata": {},
   "outputs": [],
   "source": [
    "tkgnc_data = TKGNGCDataProcessor(train_df,device,num_timestamps=20, lags=1)"
   ]
  },
  {
   "cell_type": "code",
   "execution_count": 16,
   "id": "efbb4177-4e9d-4049-8b6d-c01fc6d151b3",
   "metadata": {},
   "outputs": [],
   "source": [
    "pretrained_tkg = PretrainedTKGEmbeddingWithTimestamps(\n",
    "    num_entities=int(tkgnc_data.entity_indices.max().item()+1),\n",
    "    num_relations=int(tkgnc_data.relation_indices.max().item()+1),\n",
    "    embedding_dim=17,\n",
    "    num_timestamps=tkgnc_data.num_timestamps,\n",
    ").to(device)"
   ]
  },
  {
   "cell_type": "code",
   "execution_count": 17,
   "id": "1f91aab9-1d99-43c3-9784-471a4e0c33ca",
   "metadata": {},
   "outputs": [],
   "source": [
    "quads = (\n",
    "    tkgnc_data.entity_indices[:-1],  # Head entities\n",
    "    tkgnc_data.relation_indices,  # Relations\n",
    "    tkgnc_data.entity_indices[1:],  # Tail entities (shifted example)\n",
    "    tkgnc_data.timestamp_indices[:-1],  # Timestamps\n",
    ")\n"
   ]
  },
  {
   "cell_type": "code",
   "execution_count": 18,
   "id": "d5e27acf-c6c2-414e-ba04-414f3dbc7718",
   "metadata": {},
   "outputs": [
    {
     "data": {
      "text/plain": [
       "<All keys matched successfully>"
      ]
     },
     "execution_count": 18,
     "metadata": {},
     "output_type": "execute_result"
    }
   ],
   "source": [
    "#pretrained_tkg.pretrain(quads, learning_rate=0.01, epochs=1000)\n",
    "#torch.save(pretrained_tkg.state_dict(), 'pretrained_tkg')\n",
    "pretrained_tkg.load_state_dict(torch.load('pretrained_tkg'))"
   ]
  },
  {
   "cell_type": "code",
   "execution_count": 19,
   "id": "94e7d528-4b34-4488-86ae-dfa80511c3be",
   "metadata": {},
   "outputs": [
    {
     "name": "stdout",
     "output_type": "stream",
     "text": [
      "Using device: cuda\n"
     ]
    },
    {
     "name": "stderr",
     "output_type": "stream",
     "text": [
      "C:\\Users\\jlowh\\anaconda3\\envs\\torch\\Lib\\site-packages\\tqdm\\auto.py:21: TqdmWarning: IProgress not found. Please update jupyter and ipywidgets. See https://ipywidgets.readthedocs.io/en/stable/user_install.html\n",
      "  from .autonotebook import tqdm as notebook_tqdm\n"
     ]
    }
   ],
   "source": [
    "from CARAT.data_processing import *\n",
    "from CARAT.model import *\n",
    "from CARAT.causal_inference import causal_inference"
   ]
  },
  {
   "cell_type": "code",
   "execution_count": 20,
   "id": "ab4ff270-6892-43e6-8571-b623acdd105c",
   "metadata": {},
   "outputs": [],
   "source": [
    "try:\n",
    "    train_df = train_df.drop('time',axis=1)\n",
    "except:\n",
    "    None\n",
    "try:\n",
    "    test_df = test_df.drop('time',axis=1)\n",
    "except:\n",
    "    None"
   ]
  },
  {
   "cell_type": "code",
   "execution_count": 21,
   "id": "6a25ce54-b18f-421a-9cf8-fd1dce20eb20",
   "metadata": {},
   "outputs": [],
   "source": [
    "cols = list(train_df.columns)\n",
    "non_causal_columns = list(set(cols).difference(set(potential_causes)))\n",
    "causal_indices = [train_df.columns.get_loc(col) for col in potential_causes]\n",
    "non_causal_indices = [train_df.columns.get_loc(col) for col in non_causal_columns]\n",
    "\n",
    "num_nodes = len(train_df.columns)\n",
    "\n",
    "new_metadata = []\n",
    "A0 = get_adjacency(cols,causal_indices,non_causal_indices,num_nodes)    \n",
    "BATCH_SIZE = 64\n",
    "\n",
    "model = CausalGraphVAE(input_dim=num_nodes, hidden_dim=128,\n",
    "                   latent_dim=16, \n",
    "                   num_nodes=num_nodes, \n",
    "                   embed_dim=17,\n",
    "                   prior_adj_matrix=A0.to(torch.float))\n",
    "optimizer = torch.optim.Adam(model.parameters(), lr=0.001)"
   ]
  },
  {
   "cell_type": "code",
   "execution_count": 22,
   "id": "85f85455-f1f0-4274-8987-871b4d279b58",
   "metadata": {},
   "outputs": [
    {
     "name": "stdout",
     "output_type": "stream",
     "text": [
      "Model: 0\n",
      "Anomaly: cfo1\n",
      "Epoch 0, Loss: 0.0011\n",
      "Epoch 0: Average Loss = 150.2616, Best Loss = 150.2616\n",
      "Epoch 100: Average Loss = 31.1117, Best Loss = 30.8912\n",
      "Early stopping triggered after 139 epochs. Restoring best model.\n"
     ]
    },
    {
     "name": "stderr",
     "output_type": "stream",
     "text": [
      "Fitting causal mechanism of node cso1: 100%|██████████| 17/17 [00:01<00:00, 10.78it/s]\n",
      "Evaluating set functions...: 100%|██████████| 213/213 [00:13<00:00, 16.21it/s]\n"
     ]
    },
    {
     "name": "stdout",
     "output_type": "stream",
     "text": [
      "ROOT CAUSE FOUND!\n",
      "bso3-->bso3 | bfo1 | bso1\n",
      "bso3-->bfo1 | bed1 | bso2\n",
      "Model Accuracy Method 1: 100.0%\n",
      "Model Accuracy Method 2: 0.0%\n",
      "--------------------------------------------------------------------------------------------------------------------------------\n",
      "Model: 1\n",
      "Anomaly: cfo1\n",
      "Epoch 0, Loss: 0.0015\n",
      "Epoch 0: Average Loss = 61.3180, Best Loss = 61.3180\n",
      "Early stopping triggered after 41 epochs. Restoring best model.\n"
     ]
    },
    {
     "name": "stderr",
     "output_type": "stream",
     "text": [
      "Fitting causal mechanism of node cso1: 100%|██████████| 17/17 [00:03<00:00,  5.47it/s]\n",
      "Evaluating set functions...: 100%|██████████| 263/263 [00:30<00:00,  8.54it/s]\n"
     ]
    },
    {
     "name": "stdout",
     "output_type": "stream",
     "text": [
      "bso3-->bfo1 | bso1 | bed1\n",
      "bso3-->bfo1 | bfo2 | bso3\n",
      "Model Accuracy Method 1: 50.0%\n",
      "Model Accuracy Method 2: 50.0%\n",
      "--------------------------------------------------------------------------------------------------------------------------------\n",
      "Model: 2\n",
      "Anomaly: cso1\n",
      "Epoch 0, Loss: 0.0005\n",
      "Epoch 0: Average Loss = 151.0029, Best Loss = 151.0029\n",
      "Epoch 100: Average Loss = 29.4992, Best Loss = 29.4992\n",
      "Early stopping triggered after 128 epochs. Restoring best model.\n"
     ]
    },
    {
     "name": "stderr",
     "output_type": "stream",
     "text": [
      "Fitting causal mechanism of node cso1: 100%|██████████| 17/17 [00:02<00:00,  7.48it/s]\n",
      "Evaluating set functions...: 100%|██████████| 242/242 [00:16<00:00, 14.70it/s]\n"
     ]
    },
    {
     "name": "stdout",
     "output_type": "stream",
     "text": [
      "bfo2-->bso1 | bso3 | bfo1\n",
      "bfo2-->bso1 | bso3 | bfo2\n",
      "Model Accuracy Method 1: 33.33%\n",
      "Model Accuracy Method 2: 66.67%\n",
      "--------------------------------------------------------------------------------------------------------------------------------\n",
      "Model: 3\n",
      "Anomaly: ced1\n",
      "Epoch 0, Loss: 0.0003\n",
      "Epoch 0: Average Loss = 159.0508, Best Loss = 159.0508\n",
      "Early stopping triggered after 94 epochs. Restoring best model.\n"
     ]
    },
    {
     "name": "stderr",
     "output_type": "stream",
     "text": [
      "Fitting causal mechanism of node cso1: 100%|██████████| 17/17 [00:00<00:00, 21.36it/s]\n",
      "Evaluating set functions...: 100%|██████████| 265/265 [00:16<00:00, 16.48it/s]\n"
     ]
    },
    {
     "name": "stdout",
     "output_type": "stream",
     "text": [
      "bed2-->bso1 | bfo1 | bso2\n",
      "bed2-->bso2 | bed2 | bso1\n",
      "Model Accuracy Method 1: 25.0%\n",
      "Model Accuracy Method 2: 75.0%\n",
      "--------------------------------------------------------------------------------------------------------------------------------\n",
      "Model: 4\n",
      "Anomaly: cfo1\n",
      "Epoch 0, Loss: 0.0001\n",
      "Epoch 0: Average Loss = 168.1148, Best Loss = 168.1148\n",
      "Early stopping triggered after 95 epochs. Restoring best model.\n"
     ]
    },
    {
     "name": "stderr",
     "output_type": "stream",
     "text": [
      "Fitting causal mechanism of node cso1: 100%|██████████| 17/17 [00:00<00:00, 18.84it/s]\n",
      "Evaluating set functions...: 100%|██████████| 293/293 [00:25<00:00, 11.51it/s]\n"
     ]
    },
    {
     "name": "stdout",
     "output_type": "stream",
     "text": [
      "ROOT CAUSE FOUND!\n",
      "bfo1-->bfo1 | bso3 | bfo2\n",
      "bfo1-->bfo1 | bso3 | bed1\n",
      "Model Accuracy Method 1: 40.0%\n",
      "Model Accuracy Method 2: 80.0%\n",
      "--------------------------------------------------------------------------------------------------------------------------------\n",
      "Model: 5\n",
      "Anomaly: cfo1\n",
      "Epoch 0, Loss: 0.0006\n",
      "Epoch 0: Average Loss = 172.6125, Best Loss = 172.6125\n",
      "Epoch 100: Average Loss = 31.2964, Best Loss = 31.1910\n",
      "Early stopping triggered after 116 epochs. Restoring best model.\n"
     ]
    },
    {
     "name": "stderr",
     "output_type": "stream",
     "text": [
      "Fitting causal mechanism of node cso1: 100%|██████████| 17/17 [00:01<00:00,  8.69it/s]\n",
      "Evaluating set functions...: 100%|██████████| 325/325 [00:41<00:00,  7.89it/s]\n"
     ]
    },
    {
     "name": "stdout",
     "output_type": "stream",
     "text": [
      "bso1-->bfo2 | bfo1 | bso2\n",
      "bso1-->bso1 | bfo2 | bso3\n",
      "Model Accuracy Method 1: 33.33%\n",
      "Model Accuracy Method 2: 83.33%\n",
      "--------------------------------------------------------------------------------------------------------------------------------\n",
      "Model: 6\n",
      "Anomaly: cso1\n",
      "Epoch 0, Loss: 0.0004\n",
      "Epoch 0: Average Loss = 173.4840, Best Loss = 173.4840\n",
      "Epoch 100: Average Loss = 23.2862, Best Loss = 23.2738\n",
      "Early stopping triggered after 187 epochs. Restoring best model.\n"
     ]
    },
    {
     "name": "stderr",
     "output_type": "stream",
     "text": [
      "Fitting causal mechanism of node cso1: 100%|██████████| 17/17 [00:00<00:00, 26.65it/s]\n",
      "Evaluating set functions...: 100%|██████████| 141/141 [00:04<00:00, 29.49it/s]\n"
     ]
    },
    {
     "name": "stdout",
     "output_type": "stream",
     "text": [
      "ROOT CAUSE FOUND!\n",
      "bfo2-->bso3 | bfo1 | bfo2\n",
      "bfo2-->bso1 | bfo2 | bed1\n",
      "Model Accuracy Method 1: 42.86%\n",
      "Model Accuracy Method 2: 85.71%\n",
      "--------------------------------------------------------------------------------------------------------------------------------\n",
      "Model: 7\n",
      "Anomaly: cfo1\n",
      "Epoch 0, Loss: 0.0006\n",
      "Epoch 0: Average Loss = 101.7949, Best Loss = 101.7949\n",
      "Early stopping triggered after 99 epochs. Restoring best model.\n"
     ]
    },
    {
     "name": "stderr",
     "output_type": "stream",
     "text": [
      "Fitting causal mechanism of node cso1: 100%|██████████| 17/17 [00:01<00:00, 13.51it/s]\n",
      "Evaluating set functions...: 100%|██████████| 117/117 [00:03<00:00, 35.63it/s]\n"
     ]
    },
    {
     "name": "stdout",
     "output_type": "stream",
     "text": [
      "bfo1-->bso1 | bso3 | bfo2\n",
      "bfo1-->bfo2 | bso1 | bed1\n",
      "Model Accuracy Method 1: 37.5%\n",
      "Model Accuracy Method 2: 75.0%\n",
      "--------------------------------------------------------------------------------------------------------------------------------\n",
      "Model: 8\n",
      "Anomaly: cso1\n",
      "Epoch 0, Loss: 0.0005\n",
      "Epoch 0: Average Loss = 135.6697, Best Loss = 135.6697\n",
      "Epoch 100: Average Loss = 29.9981, Best Loss = 29.8611\n",
      "Early stopping triggered after 139 epochs. Restoring best model.\n"
     ]
    },
    {
     "name": "stderr",
     "output_type": "stream",
     "text": [
      "Fitting causal mechanism of node cso1: 100%|██████████| 17/17 [00:01<00:00,  9.95it/s]\n",
      "Evaluating set functions...: 100%|██████████| 212/212 [00:13<00:00, 15.86it/s]\n"
     ]
    },
    {
     "name": "stdout",
     "output_type": "stream",
     "text": [
      "bso2-->bso1 | bfo1 | bfo2\n",
      "bso2-->bfo1 | bfo2 | bso1\n",
      "Model Accuracy Method 1: 33.33%\n",
      "Model Accuracy Method 2: 66.67%\n",
      "--------------------------------------------------------------------------------------------------------------------------------\n",
      "Model: 9\n",
      "Anomaly: ced1\n",
      "Epoch 0, Loss: 0.0003\n",
      "Epoch 0: Average Loss = 157.1842, Best Loss = 157.1842\n",
      "Epoch 100: Average Loss = 28.7316, Best Loss = 28.6530\n",
      "Early stopping triggered after 119 epochs. Restoring best model.\n"
     ]
    },
    {
     "name": "stderr",
     "output_type": "stream",
     "text": [
      "Fitting causal mechanism of node cso1: 100%|██████████| 17/17 [00:01<00:00, 12.32it/s]\n",
      "Evaluating set functions...: 100%|██████████| 235/235 [00:18<00:00, 12.68it/s]\n"
     ]
    },
    {
     "name": "stdout",
     "output_type": "stream",
     "text": [
      "ROOT CAUSE FOUND!\n",
      "bed2-->bed1 | bed2 | bfo1\n",
      "bed2-->bfo1 | bso3 | bfo2\n",
      "Model Accuracy Method 1: 40.0%\n",
      "Model Accuracy Method 2: 60.0%\n",
      "--------------------------------------------------------------------------------------------------------------------------------\n",
      "Model: 10\n",
      "Anomaly: cfo1\n",
      "Epoch 0, Loss: 0.0003\n",
      "Epoch 0: Average Loss = 137.7565, Best Loss = 137.7565\n",
      "Epoch 100: Average Loss = 17.5865, Best Loss = 17.3340\n",
      "Early stopping triggered after 170 epochs. Restoring best model.\n"
     ]
    },
    {
     "name": "stderr",
     "output_type": "stream",
     "text": [
      "Fitting causal mechanism of node cso1: 100%|██████████| 17/17 [00:00<00:00, 20.78it/s]\n",
      "C:\\Users\\jlowh\\anaconda3\\envs\\torch\\Lib\\site-packages\\dowhy\\gcm\\causal_mechanisms.py:255: RuntimeWarning: invalid value encountered in cast\n",
      "  return np.round(self._prediction_model.predict(X).astype(float)).astype(np.int32)\n",
      "Evaluating set functions...: 100%|██████████| 290/290 [00:25<00:00, 11.29it/s]\n"
     ]
    },
    {
     "name": "stdout",
     "output_type": "stream",
     "text": [
      "bso1-->bfo1 | bed1 | bfo2\n",
      "bso1-->bfo1 | bed1 | bso2\n",
      "Model Accuracy Method 1: 36.36%\n",
      "Model Accuracy Method 2: 54.55%\n",
      "--------------------------------------------------------------------------------------------------------------------------------\n",
      "Model: 11\n",
      "Anomaly: cso1\n",
      "Epoch 0, Loss: 0.0004\n",
      "Epoch 0: Average Loss = 97.0436, Best Loss = 97.0436\n",
      "Epoch 100: Average Loss = 29.3599, Best Loss = 29.3191\n",
      "Early stopping triggered after 140 epochs. Restoring best model.\n"
     ]
    },
    {
     "name": "stderr",
     "output_type": "stream",
     "text": [
      "Fitting causal mechanism of node cso1: 100%|██████████| 17/17 [00:01<00:00, 10.07it/s]\n",
      "Evaluating set functions...: 100%|██████████| 345/345 [00:37<00:00,  9.14it/s]\n"
     ]
    },
    {
     "name": "stdout",
     "output_type": "stream",
     "text": [
      "ROOT CAUSE FOUND!\n",
      "bfo2-->bfo2 | bso3 | bso1\n",
      "bfo2-->bso3 | bso1 | bfo1\n",
      "Model Accuracy Method 1: 41.67%\n",
      "Model Accuracy Method 2: 50.0%\n",
      "--------------------------------------------------------------------------------------------------------------------------------\n",
      "Model: 12\n",
      "Anomaly: cso1\n",
      "Epoch 0, Loss: 0.0003\n",
      "Epoch 0: Average Loss = 129.7866, Best Loss = 129.7866\n",
      "Epoch 100: Average Loss = 32.4382, Best Loss = 32.4000\n",
      "Early stopping triggered after 138 epochs. Restoring best model.\n"
     ]
    },
    {
     "name": "stderr",
     "output_type": "stream",
     "text": [
      "Fitting causal mechanism of node cso1: 100%|██████████| 17/17 [00:02<00:00,  6.51it/s]\n",
      "Evaluating set functions...: 100%|██████████| 267/267 [00:31<00:00,  8.48it/s]\n"
     ]
    },
    {
     "name": "stdout",
     "output_type": "stream",
     "text": [
      "bso2-->bso1 | bso3 | bed1\n",
      "bso2-->bso3 | bfo1 | bso1\n",
      "Model Accuracy Method 1: 38.46%\n",
      "Model Accuracy Method 2: 46.15%\n",
      "--------------------------------------------------------------------------------------------------------------------------------\n",
      "Model: 13\n",
      "Anomaly: cso1\n",
      "Epoch 0, Loss: 0.0002\n",
      "Epoch 0: Average Loss = 215.6984, Best Loss = 215.6984\n",
      "Epoch 100: Average Loss = 28.3644, Best Loss = 28.3644\n",
      "Early stopping triggered after 118 epochs. Restoring best model.\n"
     ]
    },
    {
     "name": "stderr",
     "output_type": "stream",
     "text": [
      "Fitting causal mechanism of node cso1: 100%|██████████| 17/17 [00:00<00:00, 19.75it/s]\n",
      "Evaluating set functions...: 100%|██████████| 16/16 [00:00<?, ?it/s]\n"
     ]
    },
    {
     "name": "stdout",
     "output_type": "stream",
     "text": [
      "bfo2-->bed1 | bso1 | bso2\n",
      "bfo2-->bed1 | bso2 | bso1\n",
      "Model Accuracy Method 1: 35.71%\n",
      "Model Accuracy Method 2: 42.86%\n",
      "--------------------------------------------------------------------------------------------------------------------------------\n",
      "Model: 14\n",
      "Anomaly: cfo1\n",
      "Epoch 0, Loss: 0.0000\n",
      "Epoch 0: Average Loss = 176.5928, Best Loss = 176.5928\n",
      "Early stopping triggered after 71 epochs. Restoring best model.\n"
     ]
    },
    {
     "name": "stderr",
     "output_type": "stream",
     "text": [
      "Fitting causal mechanism of node cso1: 100%|██████████| 17/17 [00:00<00:00, 18.39it/s]\n",
      "Evaluating set functions...: 100%|██████████| 180/180 [00:06<00:00, 26.07it/s]\n"
     ]
    },
    {
     "name": "stdout",
     "output_type": "stream",
     "text": [
      "ROOT CAUSE FOUND!\n",
      "bso1-->bfo1 | bso1 | bso2\n",
      "bso1-->bfo1 | bso2 | bso1\n",
      "Model Accuracy Method 1: 40.0%\n",
      "Model Accuracy Method 2: 46.67%\n",
      "--------------------------------------------------------------------------------------------------------------------------------\n",
      "Model: 15\n",
      "Anomaly: ced1\n",
      "Epoch 0, Loss: 0.0003\n",
      "Epoch 0: Average Loss = 117.7391, Best Loss = 117.7391\n",
      "Epoch 100: Average Loss = 18.3692, Best Loss = 18.2826\n",
      "Early stopping triggered after 129 epochs. Restoring best model.\n"
     ]
    },
    {
     "name": "stderr",
     "output_type": "stream",
     "text": [
      "Fitting causal mechanism of node cso1: 100%|██████████| 17/17 [00:01<00:00, 12.77it/s]\n",
      "Evaluating set functions...: 100%|██████████| 110/110 [00:02<00:00, 45.23it/s]\n"
     ]
    },
    {
     "name": "stdout",
     "output_type": "stream",
     "text": [
      "bed1-->bso3 | bfo2 | bso2\n",
      "bed1-->bso2 | bed1 | bfo2\n",
      "Model Accuracy Method 1: 37.5%\n",
      "Model Accuracy Method 2: 50.0%\n",
      "--------------------------------------------------------------------------------------------------------------------------------\n",
      "Model: 16\n",
      "Anomaly: cfo1\n",
      "Epoch 0, Loss: 0.0003\n",
      "Epoch 0: Average Loss = 135.5784, Best Loss = 135.5784\n",
      "Epoch 100: Average Loss = 32.9015, Best Loss = 32.3523\n",
      "Early stopping triggered after 105 epochs. Restoring best model.\n"
     ]
    },
    {
     "name": "stderr",
     "output_type": "stream",
     "text": [
      "Fitting causal mechanism of node cso1: 100%|██████████| 17/17 [00:01<00:00,  8.62it/s]\n",
      "Evaluating set functions...: 100%|██████████| 265/265 [00:25<00:00, 10.47it/s]\n"
     ]
    },
    {
     "name": "stdout",
     "output_type": "stream",
     "text": [
      "ROOT CAUSE FOUND!\n",
      "bso3-->bso3 | bso1 | bfo2\n",
      "bso3-->bfo2 | bso1 | bed2\n",
      "Model Accuracy Method 1: 41.18%\n",
      "Model Accuracy Method 2: 47.06%\n",
      "--------------------------------------------------------------------------------------------------------------------------------\n",
      "Model: 17\n",
      "Anomaly: cfo1\n",
      "Epoch 0, Loss: 0.0006\n",
      "Epoch 0: Average Loss = 68.6279, Best Loss = 68.6279\n",
      "Early stopping triggered after 24 epochs. Restoring best model.\n"
     ]
    },
    {
     "name": "stderr",
     "output_type": "stream",
     "text": [
      "Fitting causal mechanism of node cso1: 100%|██████████| 17/17 [00:02<00:00,  6.02it/s]\n",
      "Evaluating set functions...: 100%|██████████| 349/349 [00:50<00:00,  6.89it/s]\n"
     ]
    },
    {
     "name": "stdout",
     "output_type": "stream",
     "text": [
      "bfo1-->bfo2 | bso3 | bso1\n",
      "bfo1-->bfo2 | bso1 | bso3\n",
      "Model Accuracy Method 1: 38.89%\n",
      "Model Accuracy Method 2: 44.44%\n",
      "--------------------------------------------------------------------------------------------------------------------------------\n",
      "Model: 18\n",
      "Anomaly: ced1\n",
      "Epoch 0, Loss: 0.0001\n",
      "Epoch 0: Average Loss = 158.2347, Best Loss = 158.2347\n",
      "Epoch 100: Average Loss = 19.5118, Best Loss = 19.4686\n",
      "Early stopping triggered after 118 epochs. Restoring best model.\n"
     ]
    },
    {
     "name": "stderr",
     "output_type": "stream",
     "text": [
      "Fitting causal mechanism of node cso1: 100%|██████████| 17/17 [00:01<00:00, 12.94it/s]\n",
      "Evaluating set functions...: 100%|██████████| 325/325 [00:33<00:00,  9.81it/s]\n"
     ]
    },
    {
     "name": "stdout",
     "output_type": "stream",
     "text": [
      "bed1-->bso1 | bfo2 | bfo1\n",
      "bed1-->bfo2 | bso1 | bfo1\n",
      "Model Accuracy Method 1: 36.84%\n",
      "Model Accuracy Method 2: 42.11%\n",
      "--------------------------------------------------------------------------------------------------------------------------------\n",
      "Model: 19\n",
      "Anomaly: cso1\n",
      "Epoch 0, Loss: 0.0002\n",
      "Epoch 0: Average Loss = 198.7944, Best Loss = 198.7944\n",
      "Epoch 100: Average Loss = 20.9534, Best Loss = 20.8384\n",
      "Early stopping triggered after 142 epochs. Restoring best model.\n"
     ]
    },
    {
     "name": "stderr",
     "output_type": "stream",
     "text": [
      "Fitting causal mechanism of node cso1: 100%|██████████| 17/17 [00:00<00:00, 17.24it/s]\n",
      "Evaluating set functions...: 100%|██████████| 297/297 [00:34<00:00,  8.56it/s]\n"
     ]
    },
    {
     "name": "stdout",
     "output_type": "stream",
     "text": [
      "ROOT CAUSE FOUND!\n",
      "bfo2-->bso1 | bed1 | bfo2\n",
      "bfo2-->bfo1 | bfo2 | bso3\n",
      "Model Accuracy Method 1: 40.0%\n",
      "Model Accuracy Method 2: 45.0%\n",
      "--------------------------------------------------------------------------------------------------------------------------------\n",
      "Model: 20\n",
      "Anomaly: ced1\n",
      "Epoch 0, Loss: 0.0000\n",
      "Epoch 0: Average Loss = 196.7430, Best Loss = 196.7430\n",
      "Early stopping triggered after 78 epochs. Restoring best model.\n"
     ]
    },
    {
     "name": "stderr",
     "output_type": "stream",
     "text": [
      "Fitting causal mechanism of node cso1: 100%|██████████| 17/17 [00:01<00:00, 16.50it/s]\n",
      "Evaluating set functions...: 100%|██████████| 266/266 [00:23<00:00, 11.13it/s]\n"
     ]
    },
    {
     "name": "stdout",
     "output_type": "stream",
     "text": [
      "bed2-->bfo1 | bfo2 | bed1\n",
      "bed2-->bed2 | bed1 | bfo2\n",
      "Model Accuracy Method 1: 38.1%\n",
      "Model Accuracy Method 2: 47.62%\n",
      "--------------------------------------------------------------------------------------------------------------------------------\n",
      "Model: 21\n",
      "Anomaly: cfo1\n",
      "Epoch 0, Loss: 0.0002\n",
      "Epoch 0: Average Loss = 202.3263, Best Loss = 202.3263\n",
      "Epoch 100: Average Loss = 28.8463, Best Loss = 28.7425\n",
      "Early stopping triggered after 126 epochs. Restoring best model.\n"
     ]
    },
    {
     "name": "stderr",
     "output_type": "stream",
     "text": [
      "Fitting causal mechanism of node cso1: 100%|██████████| 17/17 [00:01<00:00, 10.70it/s]\n",
      "Evaluating set functions...: 100%|██████████| 266/266 [00:25<00:00, 10.52it/s]\n"
     ]
    },
    {
     "name": "stdout",
     "output_type": "stream",
     "text": [
      "bso3-->bfo2 | bso1 | bed2\n",
      "bso3-->bfo1 | bfo2 | bso3\n",
      "Model Accuracy Method 1: 36.36%\n",
      "Model Accuracy Method 2: 50.0%\n",
      "--------------------------------------------------------------------------------------------------------------------------------\n",
      "Model: 22\n",
      "Anomaly: cso1\n",
      "Epoch 0, Loss: 0.0002\n",
      "Epoch 0: Average Loss = 147.2941, Best Loss = 147.2941\n",
      "Epoch 100: Average Loss = 27.9797, Best Loss = 27.9250\n",
      "Early stopping triggered after 126 epochs. Restoring best model.\n"
     ]
    },
    {
     "name": "stderr",
     "output_type": "stream",
     "text": [
      "Fitting causal mechanism of node cso1: 100%|██████████| 17/17 [00:01<00:00, 13.99it/s]\n",
      "Evaluating set functions...: 100%|██████████| 268/268 [00:21<00:00, 12.22it/s]\n"
     ]
    },
    {
     "name": "stdout",
     "output_type": "stream",
     "text": [
      "ROOT CAUSE FOUND!\n",
      "bfo2-->bso3 | bfo2 | bso1\n",
      "bfo2-->bed1 | bed2 | bso1\n",
      "Model Accuracy Method 1: 39.13%\n",
      "Model Accuracy Method 2: 47.83%\n",
      "--------------------------------------------------------------------------------------------------------------------------------\n",
      "Model: 23\n",
      "Anomaly: ced1\n",
      "Epoch 0, Loss: 0.0004\n",
      "Epoch 0: Average Loss = 72.7134, Best Loss = 72.7134\n",
      "Early stopping triggered after 66 epochs. Restoring best model.\n"
     ]
    },
    {
     "name": "stderr",
     "output_type": "stream",
     "text": [
      "Fitting causal mechanism of node cso1: 100%|██████████| 17/17 [00:03<00:00,  5.29it/s]\n",
      "Evaluating set functions...: 100%|██████████| 268/268 [00:34<00:00,  7.85it/s]\n"
     ]
    },
    {
     "name": "stdout",
     "output_type": "stream",
     "text": [
      "ROOT CAUSE FOUND!\n",
      "bed1-->bed1 | bso1 | bfo2\n",
      "bed1-->bed1 | bso1 | bfo2\n",
      "Model Accuracy Method 1: 41.67%\n",
      "Model Accuracy Method 2: 50.0%\n",
      "--------------------------------------------------------------------------------------------------------------------------------\n",
      "Model: 24\n",
      "Anomaly: ced1\n",
      "Epoch 0, Loss: 0.0001\n",
      "Epoch 0: Average Loss = 173.5709, Best Loss = 173.5709\n",
      "Epoch 100: Average Loss = 19.5997, Best Loss = 19.5997\n",
      "Early stopping triggered after 174 epochs. Restoring best model.\n"
     ]
    },
    {
     "name": "stderr",
     "output_type": "stream",
     "text": [
      "Fitting causal mechanism of node cso1: 100%|██████████| 17/17 [00:01<00:00, 15.74it/s]\n",
      "Evaluating set functions...: 100%|██████████| 146/146 [00:05<00:00, 26.78it/s]\n"
     ]
    },
    {
     "name": "stdout",
     "output_type": "stream",
     "text": [
      "bed2-->bfo1 | bed1 | bfo2\n",
      "bed2-->bfo2 | bso2 | bso3\n",
      "Model Accuracy Method 1: 40.0%\n",
      "Model Accuracy Method 2: 48.0%\n",
      "--------------------------------------------------------------------------------------------------------------------------------\n",
      "Model: 25\n",
      "Anomaly: ced1\n",
      "Epoch 0, Loss: 0.0000\n",
      "Epoch 0: Average Loss = 170.5421, Best Loss = 170.5421\n",
      "Epoch 100: Average Loss = 31.6394, Best Loss = 31.5504\n",
      "Early stopping triggered after 107 epochs. Restoring best model.\n"
     ]
    },
    {
     "name": "stderr",
     "output_type": "stream",
     "text": [
      "Fitting causal mechanism of node cso1: 100%|██████████| 17/17 [00:01<00:00, 16.62it/s]\n",
      "Evaluating set functions...: 100%|██████████| 214/214 [00:14<00:00, 14.67it/s]\n"
     ]
    },
    {
     "name": "stdout",
     "output_type": "stream",
     "text": [
      "bed2-->bfo1 | bso1 | bed1\n",
      "bed2-->bfo1 | bed1 | bso1\n",
      "Model Accuracy Method 1: 38.46%\n",
      "Model Accuracy Method 2: 46.15%\n",
      "--------------------------------------------------------------------------------------------------------------------------------\n",
      "Model: 26\n",
      "Anomaly: ced1\n",
      "Epoch 0, Loss: 0.0002\n",
      "Epoch 0: Average Loss = 167.2180, Best Loss = 167.2180\n",
      "Epoch 100: Average Loss = 18.3357, Best Loss = 18.2141\n",
      "Early stopping triggered after 157 epochs. Restoring best model.\n"
     ]
    },
    {
     "name": "stderr",
     "output_type": "stream",
     "text": [
      "Fitting causal mechanism of node cso1: 100%|██████████| 17/17 [00:01<00:00,  8.67it/s]\n",
      "Evaluating set functions...: 100%|██████████| 323/323 [00:37<00:00,  8.66it/s]\n"
     ]
    },
    {
     "name": "stdout",
     "output_type": "stream",
     "text": [
      "ROOT CAUSE FOUND!\n",
      "bed1-->bso3 | bfo1 | bed1\n",
      "bed1-->bso3 | bso1 | bfo2\n",
      "Model Accuracy Method 1: 40.74%\n",
      "Model Accuracy Method 2: 44.44%\n",
      "--------------------------------------------------------------------------------------------------------------------------------\n",
      "Model: 27\n",
      "Anomaly: cso1\n",
      "Epoch 0, Loss: 0.0001\n",
      "Epoch 0: Average Loss = 151.0305, Best Loss = 151.0305\n",
      "Epoch 100: Average Loss = 26.2378, Best Loss = 26.0644\n",
      "Early stopping triggered after 101 epochs. Restoring best model.\n"
     ]
    },
    {
     "name": "stderr",
     "output_type": "stream",
     "text": [
      "Fitting causal mechanism of node cso1: 100%|██████████| 17/17 [00:01<00:00, 11.82it/s]\n",
      "Evaluating set functions...: 100%|██████████| 180/180 [00:12<00:00, 14.38it/s]\n"
     ]
    },
    {
     "name": "stdout",
     "output_type": "stream",
     "text": [
      "ROOT CAUSE FOUND!\n",
      "bfo2-->bso3 | bfo2 | bed2\n",
      "bfo2-->bso3 | bfo2 | bso2\n",
      "Model Accuracy Method 1: 42.86%\n",
      "Model Accuracy Method 2: 46.43%\n",
      "--------------------------------------------------------------------------------------------------------------------------------\n",
      "Model: 28\n",
      "Anomaly: ced1\n",
      "Epoch 0, Loss: 0.0001\n",
      "Epoch 0: Average Loss = 155.1399, Best Loss = 155.1399\n",
      "Early stopping triggered after 97 epochs. Restoring best model.\n"
     ]
    },
    {
     "name": "stderr",
     "output_type": "stream",
     "text": [
      "Fitting causal mechanism of node cso1: 100%|██████████| 17/17 [00:01<00:00, 12.73it/s]\n",
      "Evaluating set functions...: 100%|██████████| 122/122 [00:02<00:00, 48.60it/s]\n"
     ]
    },
    {
     "name": "stdout",
     "output_type": "stream",
     "text": [
      "bed2-->bed1 | bso1 | bfo1\n",
      "bed2-->bso1 | bed1 | bfo1\n",
      "Model Accuracy Method 1: 41.38%\n",
      "Model Accuracy Method 2: 44.83%\n",
      "--------------------------------------------------------------------------------------------------------------------------------\n",
      "Model: 29\n",
      "Anomaly: ced1\n",
      "Epoch 0, Loss: 0.0001\n",
      "Epoch 0: Average Loss = 152.8504, Best Loss = 152.8504\n",
      "Epoch 100: Average Loss = 16.5775, Best Loss = 16.3685\n",
      "Early stopping triggered after 173 epochs. Restoring best model.\n"
     ]
    },
    {
     "name": "stderr",
     "output_type": "stream",
     "text": [
      "Fitting causal mechanism of node cso1: 100%|██████████| 17/17 [00:00<00:00, 27.26it/s]\n",
      "Evaluating set functions...: 100%|██████████| 152/152 [00:04<00:00, 32.14it/s]\n"
     ]
    },
    {
     "name": "stdout",
     "output_type": "stream",
     "text": [
      "bed1-->bed2 | bso3 | bso1\n",
      "bed1-->bso1 | bed1 | bfo2\n",
      "Model Accuracy Method 1: 40.0%\n",
      "Model Accuracy Method 2: 46.67%\n",
      "--------------------------------------------------------------------------------------------------------------------------------\n",
      "Model: 30\n",
      "Anomaly: cso1\n",
      "Epoch 0, Loss: 0.0002\n",
      "Epoch 0: Average Loss = 154.6530, Best Loss = 154.6530\n",
      "Early stopping triggered after 91 epochs. Restoring best model.\n"
     ]
    },
    {
     "name": "stderr",
     "output_type": "stream",
     "text": [
      "Fitting causal mechanism of node cso1: 100%|██████████| 17/17 [00:02<00:00,  7.51it/s]\n",
      "Evaluating set functions...: 100%|██████████| 210/210 [00:15<00:00, 13.64it/s]\n"
     ]
    },
    {
     "name": "stdout",
     "output_type": "stream",
     "text": [
      "bso2-->bfo2 | bso3 | bfo1\n",
      "bso2-->bfo2 | bso1 | bfo1\n",
      "Model Accuracy Method 1: 38.71%\n",
      "Model Accuracy Method 2: 45.16%\n",
      "--------------------------------------------------------------------------------------------------------------------------------\n",
      "Model: 31\n",
      "Anomaly: cfo1\n",
      "Epoch 0, Loss: 0.0001\n",
      "Epoch 0: Average Loss = 132.2158, Best Loss = 132.2158\n",
      "Epoch 100: Average Loss = 28.0446, Best Loss = 28.0446\n",
      "Early stopping triggered after 115 epochs. Restoring best model.\n"
     ]
    },
    {
     "name": "stderr",
     "output_type": "stream",
     "text": [
      "Fitting causal mechanism of node cso1: 100%|██████████| 17/17 [00:02<00:00,  6.71it/s]\n",
      "Evaluating set functions...: 100%|██████████| 322/322 [00:48<00:00,  6.58it/s]\n"
     ]
    },
    {
     "name": "stdout",
     "output_type": "stream",
     "text": [
      "bso3-->bfo2 | bfo1 | bso1\n",
      "bso3-->bfo1 | bso1 | bfo2\n",
      "Model Accuracy Method 1: 37.5%\n",
      "Model Accuracy Method 2: 43.75%\n",
      "--------------------------------------------------------------------------------------------------------------------------------\n",
      "Model: 32\n",
      "Anomaly: cfo1\n",
      "Epoch 0, Loss: 0.0001\n",
      "Epoch 0: Average Loss = 142.8796, Best Loss = 142.8796\n",
      "Epoch 100: Average Loss = 21.7519, Best Loss = 21.5662\n",
      "Early stopping triggered after 136 epochs. Restoring best model.\n"
     ]
    },
    {
     "name": "stderr",
     "output_type": "stream",
     "text": [
      "Fitting causal mechanism of node cso1: 100%|██████████| 17/17 [00:02<00:00,  8.47it/s]\n",
      "Evaluating set functions...: 100%|██████████| 348/348 [00:45<00:00,  7.58it/s]\n"
     ]
    },
    {
     "name": "stdout",
     "output_type": "stream",
     "text": [
      "ROOT CAUSE FOUND!\n",
      "bso1-->bfo2 | bso3 | bso1\n",
      "bso1-->bfo1 | bfo2 | bso1\n",
      "Model Accuracy Method 1: 39.39%\n",
      "Model Accuracy Method 2: 45.45%\n",
      "--------------------------------------------------------------------------------------------------------------------------------\n",
      "Model: 33\n",
      "Anomaly: cso1\n",
      "Epoch 0, Loss: 0.0001\n",
      "Epoch 0: Average Loss = 205.5219, Best Loss = 205.5219\n",
      "Epoch 100: Average Loss = 29.7291, Best Loss = 29.3939\n",
      "Early stopping triggered after 104 epochs. Restoring best model.\n"
     ]
    },
    {
     "name": "stderr",
     "output_type": "stream",
     "text": [
      "Fitting causal mechanism of node cso1: 100%|██████████| 17/17 [00:01<00:00, 16.38it/s]\n",
      "Evaluating set functions...: 100%|██████████| 8/8 [00:00<?, ?it/s]\n"
     ]
    },
    {
     "name": "stdout",
     "output_type": "stream",
     "text": [
      "bso2-->bso3 | bed1 | NA\n",
      "bso2-->bso3 | bed1 | NA\n",
      "Model Accuracy Method 1: 38.24%\n",
      "Model Accuracy Method 2: 44.12%\n",
      "--------------------------------------------------------------------------------------------------------------------------------\n",
      "Model: 34\n",
      "Anomaly: ced1\n",
      "Epoch 0, Loss: 0.0001\n",
      "Epoch 0: Average Loss = 97.8256, Best Loss = 97.8256\n",
      "Epoch 100: Average Loss = 14.5307, Best Loss = 14.5122\n",
      "Early stopping triggered after 102 epochs. Restoring best model.\n"
     ]
    },
    {
     "name": "stderr",
     "output_type": "stream",
     "text": [
      "Fitting causal mechanism of node cso1: 100%|██████████| 17/17 [00:00<00:00, 17.83it/s]\n",
      "Evaluating set functions...: 100%|██████████| 181/181 [00:08<00:00, 21.41it/s]\n"
     ]
    },
    {
     "name": "stdout",
     "output_type": "stream",
     "text": [
      "bed2-->bso1 | bfo1 | bed1\n",
      "bed2-->bfo1 | bso2 | bed1\n",
      "Model Accuracy Method 1: 37.14%\n",
      "Model Accuracy Method 2: 42.86%\n",
      "--------------------------------------------------------------------------------------------------------------------------------\n",
      "Model: 35\n",
      "Anomaly: cfo1\n",
      "Epoch 0, Loss: 0.0001\n",
      "Epoch 0: Average Loss = 196.4948, Best Loss = 196.4948\n",
      "Epoch 100: Average Loss = 26.0489, Best Loss = 25.9590\n",
      "Early stopping triggered after 101 epochs. Restoring best model.\n"
     ]
    },
    {
     "name": "stderr",
     "output_type": "stream",
     "text": [
      "Fitting causal mechanism of node cso1: 100%|██████████| 17/17 [00:00<00:00, 19.34it/s]\n",
      "Evaluating set functions...: 100%|██████████| 116/116 [00:01<00:00, 58.99it/s]\n"
     ]
    },
    {
     "name": "stdout",
     "output_type": "stream",
     "text": [
      "ROOT CAUSE FOUND!\n",
      "bso1-->bso1 | bfo1 | bed1\n",
      "bso1-->bso2 | bso3 | bfo1\n",
      "Model Accuracy Method 1: 38.89%\n",
      "Model Accuracy Method 2: 41.67%\n",
      "--------------------------------------------------------------------------------------------------------------------------------\n",
      "Model: 36\n",
      "Anomaly: cso1\n",
      "Epoch 0, Loss: 0.0001\n",
      "Epoch 0: Average Loss = 181.4008, Best Loss = 181.4008\n",
      "Epoch 100: Average Loss = 33.0189, Best Loss = 32.9226\n",
      "Early stopping triggered after 141 epochs. Restoring best model.\n"
     ]
    },
    {
     "name": "stderr",
     "output_type": "stream",
     "text": [
      "Fitting causal mechanism of node cso1: 100%|██████████| 17/17 [00:01<00:00, 12.44it/s]\n",
      "Evaluating set functions...: 100%|██████████| 118/118 [00:02<00:00, 56.49it/s]\n"
     ]
    },
    {
     "name": "stdout",
     "output_type": "stream",
     "text": [
      "bso2-->bso3 | bso1 | bfo1\n",
      "bso2-->bso1 | bso3 | bfo1\n",
      "Model Accuracy Method 1: 37.84%\n",
      "Model Accuracy Method 2: 40.54%\n",
      "--------------------------------------------------------------------------------------------------------------------------------\n",
      "Model: 37\n",
      "Anomaly: cfo1\n",
      "Epoch 0, Loss: 0.0001\n",
      "Epoch 0: Average Loss = 239.0888, Best Loss = 239.0888\n",
      "Epoch 100: Average Loss = 18.4518, Best Loss = 18.3711\n",
      "Early stopping triggered after 151 epochs. Restoring best model.\n"
     ]
    },
    {
     "name": "stderr",
     "output_type": "stream",
     "text": [
      "Fitting causal mechanism of node cso1: 100%|██████████| 17/17 [00:01<00:00, 14.56it/s]\n",
      "Evaluating set functions...: 100%|██████████| 8/8 [00:00<00:00, 7998.67it/s]\n"
     ]
    },
    {
     "name": "stdout",
     "output_type": "stream",
     "text": [
      "bso3-->bso2 | bed2 | NA\n",
      "bso3-->bed2 | bso2 | NA\n",
      "Model Accuracy Method 1: 36.84%\n",
      "Model Accuracy Method 2: 39.47%\n",
      "--------------------------------------------------------------------------------------------------------------------------------\n",
      "Model: 38\n",
      "Anomaly: cfo1\n",
      "Epoch 0, Loss: 0.0001\n",
      "Epoch 0: Average Loss = 176.6075, Best Loss = 176.6075\n",
      "Epoch 100: Average Loss = 27.0648, Best Loss = 27.0248\n",
      "Early stopping triggered after 100 epochs. Restoring best model.\n"
     ]
    },
    {
     "name": "stderr",
     "output_type": "stream",
     "text": [
      "Fitting causal mechanism of node cso1: 100%|██████████| 17/17 [00:01<00:00, 13.56it/s]\n",
      "Evaluating set functions...: 100%|██████████| 120/120 [00:02<00:00, 48.61it/s]\n"
     ]
    },
    {
     "name": "stdout",
     "output_type": "stream",
     "text": [
      "bfo1-->bso1 | bfo2 | bso2\n",
      "bfo1-->bso3 | bso1 | bed1\n",
      "Model Accuracy Method 1: 35.9%\n",
      "Model Accuracy Method 2: 38.46%\n",
      "--------------------------------------------------------------------------------------------------------------------------------\n",
      "Model: 39\n",
      "Anomaly: cfo1\n",
      "Epoch 0, Loss: 0.0001\n",
      "Epoch 0: Average Loss = 163.6911, Best Loss = 163.6911\n",
      "Epoch 100: Average Loss = 29.3275, Best Loss = 29.2634\n",
      "Early stopping triggered after 151 epochs. Restoring best model.\n"
     ]
    },
    {
     "name": "stderr",
     "output_type": "stream",
     "text": [
      "Fitting causal mechanism of node cso1: 100%|██████████| 17/17 [00:02<00:00,  8.18it/s]\n",
      "Evaluating set functions...: 100%|██████████| 376/376 [00:52<00:00,  7.23it/s]\n"
     ]
    },
    {
     "name": "stdout",
     "output_type": "stream",
     "text": [
      "ROOT CAUSE FOUND!\n",
      "bso3-->bso3 | bed1 | bfo1\n",
      "bso3-->bfo2 | bfo1 | bed2\n",
      "Model Accuracy Method 1: 37.5%\n",
      "Model Accuracy Method 2: 37.5%\n",
      "--------------------------------------------------------------------------------------------------------------------------------\n",
      "Model: 40\n",
      "Anomaly: cfo1\n",
      "Epoch 0, Loss: 0.0002\n",
      "Epoch 0: Average Loss = 102.1952, Best Loss = 102.1952\n",
      "Epoch 100: Average Loss = 32.3883, Best Loss = 32.2704\n",
      "Early stopping triggered after 154 epochs. Restoring best model.\n"
     ]
    },
    {
     "name": "stderr",
     "output_type": "stream",
     "text": [
      "Fitting causal mechanism of node cso1: 100%|██████████| 17/17 [00:02<00:00,  6.71it/s]\n",
      "Evaluating set functions...: 100%|██████████| 378/378 [01:00<00:00,  6.25it/s]\n"
     ]
    },
    {
     "name": "stdout",
     "output_type": "stream",
     "text": [
      "bfo1-->bso1 | bed1 | bso3\n",
      "bfo1-->bso3 | bfo1 | bed1\n",
      "Model Accuracy Method 1: 36.59%\n",
      "Model Accuracy Method 2: 39.02%\n",
      "--------------------------------------------------------------------------------------------------------------------------------\n",
      "Model: 41\n",
      "Anomaly: ced1\n",
      "Epoch 0, Loss: 0.0001\n",
      "Epoch 0: Average Loss = 143.1992, Best Loss = 143.1992\n",
      "Early stopping triggered after 92 epochs. Restoring best model.\n"
     ]
    },
    {
     "name": "stderr",
     "output_type": "stream",
     "text": [
      "Fitting causal mechanism of node cso1: 100%|██████████| 17/17 [00:01<00:00, 12.34it/s]\n",
      "Evaluating set functions...: 100%|██████████| 2/2 [00:00<?, ?it/s]\n"
     ]
    },
    {
     "name": "stdout",
     "output_type": "stream",
     "text": [
      "bed2-->bso2 | bed1 | bso3\n",
      "bed2-->bso3 | bfo1 | bed1\n",
      "Model Accuracy Method 1: 35.71%\n",
      "Model Accuracy Method 2: 38.1%\n",
      "--------------------------------------------------------------------------------------------------------------------------------\n",
      "Model: 42\n",
      "Anomaly: cso1\n",
      "Epoch 0, Loss: 0.0001\n",
      "Epoch 0: Average Loss = 136.1897, Best Loss = 136.1897\n",
      "Epoch 100: Average Loss = 20.8735, Best Loss = 20.8335\n",
      "Early stopping triggered after 132 epochs. Restoring best model.\n"
     ]
    },
    {
     "name": "stderr",
     "output_type": "stream",
     "text": [
      "Fitting causal mechanism of node cso1: 100%|██████████| 17/17 [00:01<00:00,  9.07it/s]\n",
      "Evaluating set functions...: 100%|██████████| 238/238 [00:21<00:00, 11.14it/s]\n"
     ]
    },
    {
     "name": "stdout",
     "output_type": "stream",
     "text": [
      "ROOT CAUSE FOUND!\n",
      "bso2-->bso3 | bso2 | bfo1\n",
      "bso2-->bso1 | bso2 | bed1\n",
      "Model Accuracy Method 1: 37.21%\n",
      "Model Accuracy Method 2: 39.53%\n",
      "--------------------------------------------------------------------------------------------------------------------------------\n",
      "Model: 43\n",
      "Anomaly: cfo1\n",
      "Epoch 0, Loss: 0.0001\n",
      "Epoch 0: Average Loss = 130.8668, Best Loss = 130.8668\n",
      "Epoch 100: Average Loss = 22.2346, Best Loss = 22.1513\n",
      "Early stopping triggered after 169 epochs. Restoring best model.\n"
     ]
    },
    {
     "name": "stderr",
     "output_type": "stream",
     "text": [
      "Fitting causal mechanism of node cso1: 100%|██████████| 17/17 [00:01<00:00, 16.84it/s]\n",
      "Evaluating set functions...: 100%|██████████| 209/209 [00:11<00:00, 18.59it/s]\n"
     ]
    },
    {
     "name": "stdout",
     "output_type": "stream",
     "text": [
      "bso1-->bso3 | bfo2 | bfo1\n",
      "bso1-->bed1 | bso3 | bfo2\n",
      "Model Accuracy Method 1: 36.36%\n",
      "Model Accuracy Method 2: 38.64%\n",
      "--------------------------------------------------------------------------------------------------------------------------------\n",
      "Model: 44\n",
      "Anomaly: ced1\n",
      "Epoch 0, Loss: 0.0000\n",
      "Epoch 0: Average Loss = 165.0019, Best Loss = 165.0019\n",
      "Epoch 100: Average Loss = 15.1968, Best Loss = 15.0641\n",
      "Early stopping triggered after 171 epochs. Restoring best model.\n"
     ]
    },
    {
     "name": "stderr",
     "output_type": "stream",
     "text": [
      "Fitting causal mechanism of node cso1: 100%|██████████| 17/17 [00:01<00:00, 13.81it/s]\n",
      "Evaluating set functions...: 100%|██████████| 207/207 [00:12<00:00, 16.16it/s]\n"
     ]
    },
    {
     "name": "stdout",
     "output_type": "stream",
     "text": [
      "bed1-->bfo1 | bfo2 | bso3\n",
      "bed1-->bso3 | bfo2 | bed2\n",
      "Model Accuracy Method 1: 35.56%\n",
      "Model Accuracy Method 2: 37.78%\n",
      "--------------------------------------------------------------------------------------------------------------------------------\n",
      "Model: 45\n",
      "Anomaly: ced1\n",
      "Epoch 0, Loss: 0.0001\n",
      "Epoch 0: Average Loss = 113.2069, Best Loss = 113.2069\n",
      "Early stopping triggered after 76 epochs. Restoring best model.\n"
     ]
    },
    {
     "name": "stderr",
     "output_type": "stream",
     "text": [
      "Fitting causal mechanism of node cso1: 100%|██████████| 17/17 [00:02<00:00,  8.50it/s]\n",
      "Evaluating set functions...: 100%|██████████| 349/349 [00:45<00:00,  7.66it/s]\n"
     ]
    },
    {
     "name": "stdout",
     "output_type": "stream",
     "text": [
      "ROOT CAUSE FOUND!\n",
      "bed1-->bfo1 | bso1 | bed1\n",
      "bed1-->bfo1 | bso1 | bfo2\n",
      "Model Accuracy Method 1: 36.96%\n",
      "Model Accuracy Method 2: 36.96%\n",
      "--------------------------------------------------------------------------------------------------------------------------------\n",
      "Model: 46\n",
      "Anomaly: ced1\n",
      "Epoch 0, Loss: 0.0001\n",
      "Epoch 0: Average Loss = 125.1016, Best Loss = 125.1016\n",
      "Early stopping triggered after 90 epochs. Restoring best model.\n"
     ]
    },
    {
     "name": "stderr",
     "output_type": "stream",
     "text": [
      "Fitting causal mechanism of node cso1: 100%|██████████| 17/17 [00:01<00:00, 12.31it/s]\n",
      "Evaluating set functions...: 100%|██████████| 8/8 [00:00<?, ?it/s]\n"
     ]
    },
    {
     "name": "stdout",
     "output_type": "stream",
     "text": [
      "bed2-->bso3 | bfo1 | NA\n",
      "bed2-->bfo1 | bso3 | NA\n",
      "Model Accuracy Method 1: 36.17%\n",
      "Model Accuracy Method 2: 36.17%\n",
      "--------------------------------------------------------------------------------------------------------------------------------\n",
      "Model: 47\n",
      "Anomaly: cfo1\n",
      "Epoch 0, Loss: 0.0003\n",
      "Epoch 0: Average Loss = 56.9258, Best Loss = 56.9258\n",
      "Early stopping triggered after 69 epochs. Restoring best model.\n"
     ]
    },
    {
     "name": "stderr",
     "output_type": "stream",
     "text": [
      "Fitting causal mechanism of node cso1: 100%|██████████| 17/17 [00:03<00:00,  5.54it/s]\n",
      "Evaluating set functions...: 100%|██████████| 297/297 [00:35<00:00,  8.26it/s]\n"
     ]
    },
    {
     "name": "stdout",
     "output_type": "stream",
     "text": [
      "ROOT CAUSE FOUND!\n",
      "bfo1-->bfo1 | bso3 | bfo2\n",
      "bfo1-->bfo1 | bso1 | bfo2\n",
      "Model Accuracy Method 1: 37.5%\n",
      "Model Accuracy Method 2: 37.5%\n",
      "--------------------------------------------------------------------------------------------------------------------------------\n",
      "Model: 48\n",
      "Anomaly: ced1\n",
      "Epoch 0, Loss: 0.0001\n",
      "Epoch 0: Average Loss = 130.2760, Best Loss = 130.2760\n",
      "Epoch 100: Average Loss = 27.9397, Best Loss = 27.7220\n",
      "Early stopping triggered after 107 epochs. Restoring best model.\n"
     ]
    },
    {
     "name": "stderr",
     "output_type": "stream",
     "text": [
      "Fitting causal mechanism of node cso1: 100%|██████████| 17/17 [00:01<00:00, 15.47it/s]\n",
      "Evaluating set functions...: 100%|██████████| 352/352 [00:44<00:00,  7.86it/s]\n"
     ]
    },
    {
     "name": "stdout",
     "output_type": "stream",
     "text": [
      "ROOT CAUSE FOUND!\n",
      "bed1-->bfo1 | bed1 | bed2\n",
      "bed1-->bso1 | bso3 | bfo1\n",
      "Model Accuracy Method 1: 38.78%\n",
      "Model Accuracy Method 2: 36.73%\n",
      "--------------------------------------------------------------------------------------------------------------------------------\n",
      "Model: 49\n",
      "Anomaly: cfo1\n",
      "Epoch 0, Loss: 0.0002\n",
      "Epoch 0: Average Loss = 77.6447, Best Loss = 77.6447\n",
      "Early stopping triggered after 56 epochs. Restoring best model.\n"
     ]
    },
    {
     "name": "stderr",
     "output_type": "stream",
     "text": [
      "Fitting causal mechanism of node cso1: 100%|██████████| 17/17 [00:03<00:00,  5.55it/s]\n",
      "Evaluating set functions...: 100%|██████████| 85/85 [00:00<00:00, 301.78it/s]\n"
     ]
    },
    {
     "name": "stdout",
     "output_type": "stream",
     "text": [
      "bso3-->bfo2 | bso1 | bed1\n",
      "bso3-->bfo1 | bfo2 | bso2\n",
      "Model Accuracy Method 1: 38.0%\n",
      "Model Accuracy Method 2: 36.0%\n",
      "--------------------------------------------------------------------------------------------------------------------------------\n",
      "Model: 50\n",
      "Anomaly: cso1\n",
      "Epoch 0, Loss: 0.0000\n",
      "Epoch 0: Average Loss = 192.7365, Best Loss = 192.7365\n",
      "Epoch 100: Average Loss = 28.2175, Best Loss = 28.1617\n",
      "Early stopping triggered after 142 epochs. Restoring best model.\n"
     ]
    },
    {
     "name": "stderr",
     "output_type": "stream",
     "text": [
      "Fitting causal mechanism of node cso1: 100%|██████████| 17/17 [00:01<00:00, 16.77it/s]\n",
      "Evaluating set functions...: 100%|██████████| 324/324 [00:36<00:00,  8.95it/s]\n"
     ]
    },
    {
     "name": "stdout",
     "output_type": "stream",
     "text": [
      "bfo2-->bso3 | bfo1 | bso1\n",
      "bfo2-->bso1 | bso3 | bfo1\n",
      "Model Accuracy Method 1: 37.25%\n",
      "Model Accuracy Method 2: 35.29%\n",
      "--------------------------------------------------------------------------------------------------------------------------------\n",
      "Model: 51\n",
      "Anomaly: ced1\n",
      "Epoch 0, Loss: 0.0001\n",
      "Epoch 0: Average Loss = 144.6239, Best Loss = 144.6239\n",
      "Epoch 100: Average Loss = 32.0030, Best Loss = 32.0030\n",
      "Early stopping triggered after 127 epochs. Restoring best model.\n"
     ]
    },
    {
     "name": "stderr",
     "output_type": "stream",
     "text": [
      "Fitting causal mechanism of node cso1: 100%|██████████| 17/17 [00:02<00:00,  7.63it/s]\n",
      "Evaluating set functions...: 100%|██████████| 322/322 [00:37<00:00,  8.53it/s]\n"
     ]
    },
    {
     "name": "stdout",
     "output_type": "stream",
     "text": [
      "bed2-->bso1 | bed1 | bfo1\n",
      "bed2-->bfo1 | bfo2 | bed1\n",
      "Model Accuracy Method 1: 36.54%\n",
      "Model Accuracy Method 2: 34.62%\n",
      "--------------------------------------------------------------------------------------------------------------------------------\n",
      "Model: 52\n",
      "Anomaly: cfo1\n",
      "Epoch 0, Loss: 0.0001\n",
      "Epoch 0: Average Loss = 195.5903, Best Loss = 195.5903\n",
      "Epoch 100: Average Loss = 31.8661, Best Loss = 31.8004\n",
      "Early stopping triggered after 100 epochs. Restoring best model.\n"
     ]
    },
    {
     "name": "stderr",
     "output_type": "stream",
     "text": [
      "Fitting causal mechanism of node cso1: 100%|██████████| 17/17 [00:01<00:00, 11.78it/s]\n",
      "Evaluating set functions...: 100%|██████████| 180/180 [00:10<00:00, 17.77it/s]\n"
     ]
    },
    {
     "name": "stdout",
     "output_type": "stream",
     "text": [
      "ROOT CAUSE FOUND!\n",
      "bso3-->bso3 | bfo1 | bfo2\n",
      "bso3-->bfo1 | bso2 | bfo2\n",
      "Model Accuracy Method 1: 37.74%\n",
      "Model Accuracy Method 2: 33.96%\n",
      "--------------------------------------------------------------------------------------------------------------------------------\n",
      "Model: 53\n",
      "Anomaly: cso1\n",
      "Epoch 0, Loss: 0.0002\n",
      "Epoch 0: Average Loss = 61.5327, Best Loss = 61.5327\n",
      "Early stopping triggered after 90 epochs. Restoring best model.\n"
     ]
    },
    {
     "name": "stderr",
     "output_type": "stream",
     "text": [
      "Fitting causal mechanism of node cso1: 100%|██████████| 17/17 [00:03<00:00,  5.56it/s]\n",
      "Evaluating set functions...: 100%|██████████| 182/182 [00:11<00:00, 15.57it/s]\n"
     ]
    },
    {
     "name": "stdout",
     "output_type": "stream",
     "text": [
      "ROOT CAUSE FOUND!\n",
      "bfo2-->bfo2 | bso3 | bfo1\n",
      "bfo2-->bfo2 | bso3 | bfo1\n",
      "Model Accuracy Method 1: 38.89%\n",
      "Model Accuracy Method 2: 35.19%\n",
      "--------------------------------------------------------------------------------------------------------------------------------\n",
      "Model: 54\n",
      "Anomaly: ced1\n",
      "Epoch 0, Loss: 0.0001\n",
      "Epoch 0: Average Loss = 94.1493, Best Loss = 94.1493\n",
      "Early stopping triggered after 75 epochs. Restoring best model.\n"
     ]
    },
    {
     "name": "stderr",
     "output_type": "stream",
     "text": [
      "Fitting causal mechanism of node cso1: 100%|██████████| 17/17 [00:01<00:00,  8.60it/s]\n",
      "Evaluating set functions...: 100%|██████████| 323/323 [00:33<00:00,  9.51it/s]\n"
     ]
    },
    {
     "name": "stdout",
     "output_type": "stream",
     "text": [
      "bed1-->bso1 | bfo1 | bed2\n",
      "bed1-->bso1 | bfo2 | bso2\n",
      "Model Accuracy Method 1: 38.18%\n",
      "Model Accuracy Method 2: 34.55%\n",
      "--------------------------------------------------------------------------------------------------------------------------------\n",
      "Model: 55\n",
      "Anomaly: cso1\n",
      "Epoch 0, Loss: 0.0001\n",
      "Epoch 0: Average Loss = 118.7870, Best Loss = 118.7870\n",
      "Epoch 100: Average Loss = 16.5693, Best Loss = 16.5693\n",
      "Early stopping triggered after 175 epochs. Restoring best model.\n"
     ]
    },
    {
     "name": "stderr",
     "output_type": "stream",
     "text": [
      "Fitting causal mechanism of node cso1: 100%|██████████| 17/17 [00:01<00:00, 12.79it/s]\n",
      "Evaluating set functions...: 100%|██████████| 118/118 [00:01<00:00, 61.01it/s]\n"
     ]
    },
    {
     "name": "stdout",
     "output_type": "stream",
     "text": [
      "ROOT CAUSE FOUND!\n",
      "bfo2-->bfo1 | bfo2 | bso2\n",
      "bfo2-->bed2 | bfo1 | bfo2\n",
      "Model Accuracy Method 1: 39.29%\n",
      "Model Accuracy Method 2: 35.71%\n",
      "--------------------------------------------------------------------------------------------------------------------------------\n",
      "Model: 56\n",
      "Anomaly: ced1\n",
      "Epoch 0, Loss: 0.0001\n",
      "Epoch 0: Average Loss = 136.5875, Best Loss = 136.5875\n",
      "Epoch 100: Average Loss = 17.1068, Best Loss = 17.1068\n",
      "Epoch 200: Average Loss = 16.9806, Best Loss = 16.9507\n",
      "Early stopping triggered after 233 epochs. Restoring best model.\n"
     ]
    },
    {
     "name": "stderr",
     "output_type": "stream",
     "text": [
      "Fitting causal mechanism of node cso1: 100%|██████████| 17/17 [00:02<00:00,  6.80it/s]\n",
      "Evaluating set functions...: 100%|██████████| 116/116 [00:03<00:00, 37.42it/s]\n"
     ]
    },
    {
     "name": "stdout",
     "output_type": "stream",
     "text": [
      "bed1-->bfo1 | bso3 | bfo2\n",
      "bed1-->bso3 | bso2 | bso1\n",
      "Model Accuracy Method 1: 38.6%\n",
      "Model Accuracy Method 2: 35.09%\n",
      "--------------------------------------------------------------------------------------------------------------------------------\n",
      "Model: 57\n",
      "Anomaly: cfo1\n",
      "Epoch 0, Loss: 0.0001\n",
      "Epoch 0: Average Loss = 183.2137, Best Loss = 183.2137\n",
      "Epoch 100: Average Loss = 27.7981, Best Loss = 27.7741\n",
      "Early stopping triggered after 149 epochs. Restoring best model.\n"
     ]
    },
    {
     "name": "stderr",
     "output_type": "stream",
     "text": [
      "Fitting causal mechanism of node cso1: 100%|██████████| 17/17 [00:01<00:00, 14.59it/s]\n",
      "Evaluating set functions...: 100%|██████████| 117/117 [00:03<00:00, 34.26it/s]\n"
     ]
    },
    {
     "name": "stdout",
     "output_type": "stream",
     "text": [
      "ROOT CAUSE FOUND!\n",
      "bfo1-->bfo1 | bso3 | bed2\n",
      "bfo1-->bso3 | bfo1 | bed2\n",
      "Model Accuracy Method 1: 39.66%\n",
      "Model Accuracy Method 2: 36.21%\n",
      "--------------------------------------------------------------------------------------------------------------------------------\n",
      "Model: 58\n",
      "Anomaly: cfo1\n",
      "Epoch 0, Loss: 0.0001\n",
      "Epoch 0: Average Loss = 149.8492, Best Loss = 149.8492\n",
      "Epoch 100: Average Loss = 27.7414, Best Loss = 27.6871\n",
      "Early stopping triggered after 145 epochs. Restoring best model.\n"
     ]
    },
    {
     "name": "stderr",
     "output_type": "stream",
     "text": [
      "Fitting causal mechanism of node cso1: 100%|██████████| 17/17 [00:01<00:00, 12.38it/s]\n",
      "Evaluating set functions...: 100%|██████████| 32/32 [00:00<00:00, 32002.32it/s]\n"
     ]
    },
    {
     "name": "stdout",
     "output_type": "stream",
     "text": [
      "ROOT CAUSE FOUND!\n",
      "bso1-->bfo1 | bso1 | bso2\n",
      "bso1-->bso1 | bfo1 | bso2\n",
      "Model Accuracy Method 1: 40.68%\n",
      "Model Accuracy Method 2: 37.29%\n",
      "--------------------------------------------------------------------------------------------------------------------------------\n",
      "Model: 59\n",
      "Anomaly: cso1\n",
      "Epoch 0, Loss: 0.0001\n",
      "Epoch 0: Average Loss = 91.9502, Best Loss = 91.9502\n",
      "Epoch 100: Average Loss = 15.8951, Best Loss = 15.7565\n",
      "Early stopping triggered after 138 epochs. Restoring best model.\n"
     ]
    },
    {
     "name": "stderr",
     "output_type": "stream",
     "text": [
      "Fitting causal mechanism of node cso1: 100%|██████████| 17/17 [00:00<00:00, 17.41it/s]\n",
      "Evaluating set functions...: 100%|██████████| 239/239 [00:17<00:00, 13.45it/s]\n"
     ]
    },
    {
     "name": "stdout",
     "output_type": "stream",
     "text": [
      "ROOT CAUSE FOUND!\n",
      "bfo2-->bso1 | bfo2 | bed2\n",
      "bfo2-->bso1 | bfo2 | bed2\n",
      "Model Accuracy Method 1: 41.67%\n",
      "Model Accuracy Method 2: 38.33%\n",
      "--------------------------------------------------------------------------------------------------------------------------------\n",
      "Model: 60\n",
      "Anomaly: ced1\n",
      "Epoch 0, Loss: 0.0001\n",
      "Epoch 0: Average Loss = 205.5189, Best Loss = 205.5189\n",
      "Early stopping triggered after 94 epochs. Restoring best model.\n"
     ]
    },
    {
     "name": "stderr",
     "output_type": "stream",
     "text": [
      "Fitting causal mechanism of node cso1: 100%|██████████| 17/17 [00:01<00:00, 12.37it/s]\n",
      "Evaluating set functions...: 100%|██████████| 347/347 [00:36<00:00,  9.39it/s]\n"
     ]
    },
    {
     "name": "stdout",
     "output_type": "stream",
     "text": [
      "bed1-->bfo2 | bso1 | bfo1\n",
      "bed1-->bso1 | bso3 | bso2\n",
      "Model Accuracy Method 1: 40.98%\n",
      "Model Accuracy Method 2: 37.7%\n",
      "--------------------------------------------------------------------------------------------------------------------------------\n",
      "Model: 61\n",
      "Anomaly: cfo1\n",
      "Epoch 0, Loss: 0.0001\n",
      "Epoch 0: Average Loss = 119.2009, Best Loss = 119.2009\n",
      "Epoch 100: Average Loss = 29.9600, Best Loss = 29.9044\n",
      "Early stopping triggered after 103 epochs. Restoring best model.\n"
     ]
    },
    {
     "name": "stderr",
     "output_type": "stream",
     "text": [
      "Fitting causal mechanism of node cso1: 100%|██████████| 17/17 [00:02<00:00,  8.36it/s]\n",
      "Evaluating set functions...: 100%|██████████| 186/186 [00:07<00:00, 25.86it/s]\n"
     ]
    },
    {
     "name": "stdout",
     "output_type": "stream",
     "text": [
      "ROOT CAUSE FOUND!\n",
      "bso1-->bso1 | bfo1 | bfo2\n",
      "bso1-->bfo1 | bed2 | bfo2\n",
      "Model Accuracy Method 1: 41.94%\n",
      "Model Accuracy Method 2: 37.1%\n",
      "--------------------------------------------------------------------------------------------------------------------------------\n",
      "Model: 62\n",
      "Anomaly: cfo1\n",
      "Epoch 0, Loss: 0.0001\n",
      "Epoch 0: Average Loss = 116.4244, Best Loss = 116.4244\n",
      "Early stopping triggered after 87 epochs. Restoring best model.\n"
     ]
    },
    {
     "name": "stderr",
     "output_type": "stream",
     "text": [
      "Fitting causal mechanism of node cso1: 100%|██████████| 17/17 [00:01<00:00, 13.47it/s]\n",
      "Evaluating set functions...: 100%|██████████| 298/298 [00:34<00:00,  8.56it/s]\n"
     ]
    },
    {
     "name": "stdout",
     "output_type": "stream",
     "text": [
      "ROOT CAUSE FOUND!\n",
      "bfo1-->bso3 | bfo2 | bfo1\n",
      "bfo1-->bfo1 | bed1 | bso1\n",
      "Model Accuracy Method 1: 42.86%\n",
      "Model Accuracy Method 2: 38.1%\n",
      "--------------------------------------------------------------------------------------------------------------------------------\n",
      "Model: 63\n",
      "Anomaly: cfo1\n",
      "Epoch 0, Loss: 0.0001\n",
      "Epoch 0: Average Loss = 143.9616, Best Loss = 143.9616\n",
      "Epoch 100: Average Loss = 31.0570, Best Loss = 31.0349\n",
      "Early stopping triggered after 143 epochs. Restoring best model.\n"
     ]
    },
    {
     "name": "stderr",
     "output_type": "stream",
     "text": [
      "Fitting causal mechanism of node cso1: 100%|██████████| 17/17 [00:02<00:00,  6.81it/s]\n",
      "Evaluating set functions...: 100%|██████████| 266/266 [00:27<00:00,  9.74it/s]\n"
     ]
    },
    {
     "name": "stdout",
     "output_type": "stream",
     "text": [
      "bso1-->bfo2 | bfo1 | bed1\n",
      "bso1-->bfo1 | bfo2 | bso1\n",
      "Model Accuracy Method 1: 42.19%\n",
      "Model Accuracy Method 2: 39.06%\n",
      "--------------------------------------------------------------------------------------------------------------------------------\n",
      "Model: 64\n",
      "Anomaly: ced1\n",
      "Epoch 0, Loss: 0.0001\n",
      "Epoch 0: Average Loss = 186.8395, Best Loss = 186.8395\n",
      "Epoch 100: Average Loss = 22.0518, Best Loss = 21.9165\n",
      "Early stopping triggered after 142 epochs. Restoring best model.\n"
     ]
    },
    {
     "name": "stderr",
     "output_type": "stream",
     "text": [
      "Fitting causal mechanism of node cso1: 100%|██████████| 17/17 [00:01<00:00, 13.53it/s]\n",
      "Evaluating set functions...: 100%|██████████| 207/207 [00:12<00:00, 16.32it/s]\n"
     ]
    },
    {
     "name": "stdout",
     "output_type": "stream",
     "text": [
      "bed1-->bso1 | bed2 | bfo2\n",
      "bed1-->bed2 | bso1 | bed1\n",
      "Model Accuracy Method 1: 41.54%\n",
      "Model Accuracy Method 2: 40.0%\n",
      "--------------------------------------------------------------------------------------------------------------------------------\n",
      "Model: 65\n",
      "Anomaly: cfo1\n",
      "Epoch 0, Loss: 0.0001\n",
      "Epoch 0: Average Loss = 104.5413, Best Loss = 104.5413\n",
      "Epoch 100: Average Loss = 23.3462, Best Loss = 23.3289\n",
      "Early stopping triggered after 138 epochs. Restoring best model.\n"
     ]
    },
    {
     "name": "stderr",
     "output_type": "stream",
     "text": [
      "Fitting causal mechanism of node cso1: 100%|██████████| 17/17 [00:02<00:00,  8.02it/s]\n",
      "Evaluating set functions...: 100%|██████████| 152/152 [00:05<00:00, 26.56it/s]\n"
     ]
    },
    {
     "name": "stdout",
     "output_type": "stream",
     "text": [
      "ROOT CAUSE FOUND!\n",
      "bso1-->bso1 | bso3 | bfo1\n",
      "bso1-->bso1 | bso3 | bso2\n",
      "Model Accuracy Method 1: 42.42%\n",
      "Model Accuracy Method 2: 40.91%\n",
      "--------------------------------------------------------------------------------------------------------------------------------\n",
      "Model: 66\n",
      "Anomaly: cso1\n",
      "Epoch 0, Loss: 0.0000\n",
      "Epoch 0: Average Loss = 134.9080, Best Loss = 134.9080\n",
      "Early stopping triggered after 92 epochs. Restoring best model.\n"
     ]
    },
    {
     "name": "stderr",
     "output_type": "stream",
     "text": [
      "Fitting causal mechanism of node cso1: 100%|██████████| 17/17 [00:02<00:00,  8.21it/s]\n",
      "Evaluating set functions...: 100%|██████████| 269/269 [00:25<00:00, 10.65it/s]\n"
     ]
    },
    {
     "name": "stdout",
     "output_type": "stream",
     "text": [
      "bso2-->bso1 | bed2 | bed1\n",
      "bso2-->bfo2 | bso1 | bed1\n",
      "Model Accuracy Method 1: 41.79%\n",
      "Model Accuracy Method 2: 40.3%\n",
      "--------------------------------------------------------------------------------------------------------------------------------\n",
      "Model: 67\n",
      "Anomaly: cfo1\n",
      "Epoch 0, Loss: 0.0001\n",
      "Epoch 0: Average Loss = 187.4487, Best Loss = 187.4487\n",
      "Epoch 100: Average Loss = 21.6588, Best Loss = 21.5878\n",
      "Early stopping triggered after 131 epochs. Restoring best model.\n"
     ]
    },
    {
     "name": "stderr",
     "output_type": "stream",
     "text": [
      "Fitting causal mechanism of node cso1: 100%|██████████| 17/17 [00:00<00:00, 19.49it/s]\n",
      "Evaluating set functions...: 100%|██████████| 375/375 [00:40<00:00,  9.23it/s]\n"
     ]
    },
    {
     "name": "stdout",
     "output_type": "stream",
     "text": [
      "bso1-->bfo2 | bso3 | bfo1\n",
      "bso1-->bso3 | bso1 | bfo1\n",
      "Model Accuracy Method 1: 41.18%\n",
      "Model Accuracy Method 2: 41.18%\n",
      "--------------------------------------------------------------------------------------------------------------------------------\n",
      "Model: 68\n",
      "Anomaly: cso1\n",
      "Epoch 0, Loss: 0.0001\n",
      "Epoch 0: Average Loss = 163.6228, Best Loss = 163.6228\n",
      "Epoch 100: Average Loss = 20.3013, Best Loss = 20.3013\n",
      "Early stopping triggered after 124 epochs. Restoring best model.\n"
     ]
    },
    {
     "name": "stderr",
     "output_type": "stream",
     "text": [
      "Fitting causal mechanism of node cso1: 100%|██████████| 17/17 [00:01<00:00, 12.22it/s]\n",
      "Evaluating set functions...: 100%|██████████| 55/55 [00:00<00:00, 27498.71it/s]\n"
     ]
    },
    {
     "name": "stdout",
     "output_type": "stream",
     "text": [
      "bso2-->bso3 | bed2 | bed1\n",
      "bso2-->bso3 | bed2 | bed1\n",
      "Model Accuracy Method 1: 40.58%\n",
      "Model Accuracy Method 2: 40.58%\n",
      "--------------------------------------------------------------------------------------------------------------------------------\n",
      "Model: 69\n",
      "Anomaly: cso1\n",
      "Epoch 0, Loss: 0.0001\n",
      "Epoch 0: Average Loss = 97.3771, Best Loss = 97.3771\n",
      "Early stopping triggered after 97 epochs. Restoring best model.\n"
     ]
    },
    {
     "name": "stderr",
     "output_type": "stream",
     "text": [
      "Fitting causal mechanism of node cso1: 100%|██████████| 17/17 [00:02<00:00,  6.04it/s]\n",
      "Evaluating set functions...: 100%|██████████| 264/264 [00:31<00:00,  8.33it/s]\n"
     ]
    },
    {
     "name": "stdout",
     "output_type": "stream",
     "text": [
      "bso2-->bfo2 | bso3 | bso1\n",
      "bso2-->bfo2 | bfo1 | bso3\n",
      "Model Accuracy Method 1: 40.0%\n",
      "Model Accuracy Method 2: 40.0%\n",
      "--------------------------------------------------------------------------------------------------------------------------------\n",
      "Model: 70\n",
      "Anomaly: cso1\n",
      "Epoch 0, Loss: 0.0001\n",
      "Epoch 0: Average Loss = 177.9188, Best Loss = 177.9188\n",
      "Epoch 100: Average Loss = 31.2628, Best Loss = 31.2426\n",
      "Early stopping triggered after 100 epochs. Restoring best model.\n"
     ]
    },
    {
     "name": "stderr",
     "output_type": "stream",
     "text": [
      "Fitting causal mechanism of node cso1: 100%|██████████| 17/17 [00:01<00:00, 16.45it/s]\n",
      "Evaluating set functions...: 100%|██████████| 376/376 [00:52<00:00,  7.20it/s]\n"
     ]
    },
    {
     "name": "stdout",
     "output_type": "stream",
     "text": [
      "bso2-->bed1 | bfo1 | bed2\n",
      "bso2-->bso1 | bso2 | bfo1\n",
      "Model Accuracy Method 1: 39.44%\n",
      "Model Accuracy Method 2: 40.85%\n",
      "--------------------------------------------------------------------------------------------------------------------------------\n",
      "Model: 71\n",
      "Anomaly: ced1\n",
      "Epoch 0, Loss: 0.0001\n",
      "Epoch 0: Average Loss = 177.4827, Best Loss = 177.4827\n",
      "Epoch 100: Average Loss = 30.8434, Best Loss = 30.8313\n",
      "Early stopping triggered after 141 epochs. Restoring best model.\n"
     ]
    },
    {
     "name": "stderr",
     "output_type": "stream",
     "text": [
      "Fitting causal mechanism of node cso1: 100%|██████████| 17/17 [00:01<00:00, 11.25it/s]\n",
      "Evaluating set functions...: 100%|██████████| 118/118 [00:02<00:00, 40.04it/s]\n"
     ]
    },
    {
     "name": "stdout",
     "output_type": "stream",
     "text": [
      "bed2-->bso1 | bfo1 | bfo2\n",
      "bed2-->bfo1 | bfo2 | bed1\n",
      "Model Accuracy Method 1: 38.89%\n",
      "Model Accuracy Method 2: 40.28%\n",
      "--------------------------------------------------------------------------------------------------------------------------------\n",
      "Model: 72\n",
      "Anomaly: cso1\n",
      "Epoch 0, Loss: 0.0001\n",
      "Epoch 0: Average Loss = 56.5025, Best Loss = 56.5025\n",
      "Early stopping triggered after 49 epochs. Restoring best model.\n"
     ]
    },
    {
     "name": "stderr",
     "output_type": "stream",
     "text": [
      "Fitting causal mechanism of node cso1: 100%|██████████| 17/17 [00:03<00:00,  5.60it/s]\n",
      "Evaluating set functions...: 100%|██████████| 375/375 [01:05<00:00,  5.75it/s]\n"
     ]
    },
    {
     "name": "stdout",
     "output_type": "stream",
     "text": [
      "bso2-->bso3 | bfo2 | bso1\n",
      "bso2-->bso3 | bfo2 | bso2\n",
      "Model Accuracy Method 1: 38.36%\n",
      "Model Accuracy Method 2: 41.1%\n",
      "--------------------------------------------------------------------------------------------------------------------------------\n",
      "Model: 73\n",
      "Anomaly: cfo1\n",
      "Epoch 0, Loss: 0.0000\n",
      "Epoch 0: Average Loss = 145.3125, Best Loss = 145.3125\n",
      "Epoch 100: Average Loss = 21.6548, Best Loss = 21.4709\n",
      "Early stopping triggered after 162 epochs. Restoring best model.\n"
     ]
    },
    {
     "name": "stderr",
     "output_type": "stream",
     "text": [
      "Fitting causal mechanism of node cso1: 100%|██████████| 17/17 [00:01<00:00, 14.32it/s]\n",
      "Evaluating set functions...: 100%|██████████| 121/121 [00:02<00:00, 42.91it/s]\n"
     ]
    },
    {
     "name": "stdout",
     "output_type": "stream",
     "text": [
      "ROOT CAUSE FOUND!\n",
      "bfo1-->bso1 | bso3 | bfo1\n",
      "bfo1-->bso1 | bso3 | bed2\n",
      "Model Accuracy Method 1: 39.19%\n",
      "Model Accuracy Method 2: 40.54%\n",
      "--------------------------------------------------------------------------------------------------------------------------------\n",
      "Model: 74\n",
      "Anomaly: cso1\n",
      "Epoch 0, Loss: 0.0001\n",
      "Epoch 0: Average Loss = 132.1752, Best Loss = 132.1752\n",
      "Epoch 100: Average Loss = 31.3413, Best Loss = 31.2151\n",
      "Early stopping triggered after 124 epochs. Restoring best model.\n"
     ]
    },
    {
     "name": "stderr",
     "output_type": "stream",
     "text": [
      "Fitting causal mechanism of node cso1: 100%|██████████| 17/17 [00:02<00:00,  8.43it/s]\n",
      "Evaluating set functions...: 100%|██████████| 88/88 [00:00<00:00, 302.11it/s]\n"
     ]
    },
    {
     "name": "stdout",
     "output_type": "stream",
     "text": [
      "bso2-->bso1 | bso3 | bed1\n",
      "bso2-->bso3 | bfo1 | bso1\n",
      "Model Accuracy Method 1: 38.67%\n",
      "Model Accuracy Method 2: 40.0%\n",
      "--------------------------------------------------------------------------------------------------------------------------------\n",
      "Model: 75\n",
      "Anomaly: cfo1\n",
      "Epoch 0, Loss: 0.0001\n",
      "Epoch 0: Average Loss = 128.2310, Best Loss = 128.2310\n",
      "Epoch 100: Average Loss = 20.4208, Best Loss = 19.8853\n",
      "Early stopping triggered after 121 epochs. Restoring best model.\n"
     ]
    },
    {
     "name": "stderr",
     "output_type": "stream",
     "text": [
      "Fitting causal mechanism of node cso1: 100%|██████████| 17/17 [00:00<00:00, 18.17it/s]\n",
      "Evaluating set functions...: 100%|██████████| 268/268 [00:18<00:00, 14.21it/s]\n"
     ]
    },
    {
     "name": "stdout",
     "output_type": "stream",
     "text": [
      "ROOT CAUSE FOUND!\n",
      "bso3-->bso3 | bfo1 | bed2\n",
      "bso3-->bfo1 | bso2 | bso1\n",
      "Model Accuracy Method 1: 39.47%\n",
      "Model Accuracy Method 2: 39.47%\n",
      "--------------------------------------------------------------------------------------------------------------------------------\n",
      "Model: 76\n",
      "Anomaly: cfo1\n",
      "Epoch 0, Loss: 0.0001\n",
      "Epoch 0: Average Loss = 90.8227, Best Loss = 90.8227\n",
      "Epoch 100: Average Loss = 27.4493, Best Loss = 27.2497\n",
      "Early stopping triggered after 124 epochs. Restoring best model.\n"
     ]
    },
    {
     "name": "stderr",
     "output_type": "stream",
     "text": [
      "Fitting causal mechanism of node cso1: 100%|██████████| 17/17 [00:02<00:00,  6.06it/s]\n",
      "Evaluating set functions...: 100%|██████████| 270/270 [00:31<00:00,  8.60it/s]\n"
     ]
    },
    {
     "name": "stdout",
     "output_type": "stream",
     "text": [
      "ROOT CAUSE FOUND!\n",
      "bfo1-->bfo1 | bso1 | bfo2\n",
      "bfo1-->bso3 | bso1 | bfo1\n",
      "Model Accuracy Method 1: 40.26%\n",
      "Model Accuracy Method 2: 40.26%\n",
      "--------------------------------------------------------------------------------------------------------------------------------\n",
      "Model: 77\n",
      "Anomaly: cso1\n",
      "Epoch 0, Loss: 0.0001\n",
      "Epoch 0: Average Loss = 163.3417, Best Loss = 163.3417\n",
      "Epoch 100: Average Loss = 30.0137, Best Loss = 29.8733\n",
      "Early stopping triggered after 160 epochs. Restoring best model.\n"
     ]
    },
    {
     "name": "stderr",
     "output_type": "stream",
     "text": [
      "Fitting causal mechanism of node cso1: 100%|██████████| 17/17 [00:00<00:00, 22.08it/s]\n",
      "Evaluating set functions...: 100%|██████████| 372/372 [00:44<00:00,  8.40it/s]\n"
     ]
    },
    {
     "name": "stdout",
     "output_type": "stream",
     "text": [
      "bfo2-->bed1 | bso3 | bed2\n",
      "bfo2-->bfo2 | bso3 | bfo1\n",
      "Model Accuracy Method 1: 39.74%\n",
      "Model Accuracy Method 2: 41.03%\n",
      "--------------------------------------------------------------------------------------------------------------------------------\n",
      "Model: 78\n",
      "Anomaly: cfo1\n",
      "Epoch 0, Loss: 0.0001\n",
      "Epoch 0: Average Loss = 100.3833, Best Loss = 100.3833\n",
      "Epoch 100: Average Loss = 27.2718, Best Loss = 27.2349\n",
      "Early stopping triggered after 137 epochs. Restoring best model.\n"
     ]
    },
    {
     "name": "stderr",
     "output_type": "stream",
     "text": [
      "Fitting causal mechanism of node cso1: 100%|██████████| 17/17 [00:01<00:00,  9.42it/s]\n",
      "Evaluating set functions...: 100%|██████████| 380/380 [00:46<00:00,  8.11it/s]\n"
     ]
    },
    {
     "name": "stdout",
     "output_type": "stream",
     "text": [
      "ROOT CAUSE FOUND!\n",
      "bfo1-->bso1 | bfo1 | bfo2\n",
      "bfo1-->bso1 | bfo1 | bfo2\n",
      "Model Accuracy Method 1: 40.51%\n",
      "Model Accuracy Method 2: 41.77%\n",
      "--------------------------------------------------------------------------------------------------------------------------------\n",
      "Model: 79\n",
      "Anomaly: ced1\n",
      "Epoch 0, Loss: 0.0001\n",
      "Epoch 0: Average Loss = 135.8955, Best Loss = 135.8955\n",
      "Epoch 100: Average Loss = 13.3662, Best Loss = 13.2425\n",
      "Early stopping triggered after 181 epochs. Restoring best model.\n"
     ]
    },
    {
     "name": "stderr",
     "output_type": "stream",
     "text": [
      "Fitting causal mechanism of node cso1: 100%|██████████| 17/17 [00:00<00:00, 18.99it/s]\n",
      "Evaluating set functions...: 100%|██████████| 32/32 [00:00<00:00, 31971.83it/s]\n"
     ]
    },
    {
     "name": "stdout",
     "output_type": "stream",
     "text": [
      "bed1-->bfo1 | bso3 | bso1\n",
      "bed1-->bfo1 | bso3 | bso2\n",
      "Model Accuracy Method 1: 40.0%\n",
      "Model Accuracy Method 2: 41.25%\n",
      "--------------------------------------------------------------------------------------------------------------------------------\n",
      "Model: 80\n",
      "Anomaly: cso1\n",
      "Epoch 0, Loss: 0.0001\n",
      "Epoch 0: Average Loss = 101.3658, Best Loss = 101.3658\n",
      "Epoch 100: Average Loss = 31.9191, Best Loss = 31.9170\n",
      "Early stopping triggered after 100 epochs. Restoring best model.\n"
     ]
    },
    {
     "name": "stderr",
     "output_type": "stream",
     "text": [
      "Fitting causal mechanism of node cso1: 100%|██████████| 17/17 [00:01<00:00,  9.69it/s]\n",
      "Evaluating set functions...: 100%|██████████| 181/181 [00:10<00:00, 17.61it/s]\n"
     ]
    },
    {
     "name": "stdout",
     "output_type": "stream",
     "text": [
      "ROOT CAUSE FOUND!\n",
      "bso2-->bfo2 | bed1 | bso2\n",
      "bso2-->bfo2 | bso1 | bed1\n",
      "Model Accuracy Method 1: 40.74%\n",
      "Model Accuracy Method 2: 40.74%\n",
      "--------------------------------------------------------------------------------------------------------------------------------\n",
      "Model: 81\n",
      "Anomaly: ced1\n",
      "Epoch 0, Loss: 0.0000\n",
      "Epoch 0: Average Loss = 120.4069, Best Loss = 120.4069\n",
      "Epoch 100: Average Loss = 31.8798, Best Loss = 31.8236\n",
      "Early stopping triggered after 118 epochs. Restoring best model.\n"
     ]
    },
    {
     "name": "stderr",
     "output_type": "stream",
     "text": [
      "Fitting causal mechanism of node cso1: 100%|██████████| 17/17 [00:02<00:00,  7.60it/s]\n",
      "Evaluating set functions...: 100%|██████████| 299/299 [00:33<00:00,  9.03it/s]\n"
     ]
    },
    {
     "name": "stdout",
     "output_type": "stream",
     "text": [
      "bed2-->bso1 | bed1 | bfo1\n",
      "bed2-->bfo1 | bed1 | bso1\n",
      "Model Accuracy Method 1: 40.24%\n",
      "Model Accuracy Method 2: 40.24%\n",
      "--------------------------------------------------------------------------------------------------------------------------------\n",
      "Model: 82\n",
      "Anomaly: cso1\n",
      "Epoch 0, Loss: 0.0001\n",
      "Epoch 0: Average Loss = 108.2585, Best Loss = 108.2585\n",
      "Epoch 100: Average Loss = 19.1356, Best Loss = 19.1257\n",
      "Early stopping triggered after 155 epochs. Restoring best model.\n"
     ]
    },
    {
     "name": "stderr",
     "output_type": "stream",
     "text": [
      "Fitting causal mechanism of node cso1: 100%|██████████| 17/17 [00:01<00:00, 14.32it/s]\n",
      "Evaluating set functions...: 100%|██████████| 295/295 [00:32<00:00,  8.96it/s]\n"
     ]
    },
    {
     "name": "stdout",
     "output_type": "stream",
     "text": [
      "ROOT CAUSE FOUND!\n",
      "bfo2-->bfo2 | bso1 | bfo1\n",
      "bfo2-->bed1 | bso1 | bfo2\n",
      "Model Accuracy Method 1: 40.96%\n",
      "Model Accuracy Method 2: 40.96%\n",
      "--------------------------------------------------------------------------------------------------------------------------------\n",
      "Model: 83\n",
      "Anomaly: ced1\n",
      "Epoch 0, Loss: 0.0001\n",
      "Epoch 0: Average Loss = 114.3795, Best Loss = 114.3795\n",
      "Epoch 100: Average Loss = 29.2499, Best Loss = 29.1214\n",
      "Early stopping triggered after 102 epochs. Restoring best model.\n"
     ]
    },
    {
     "name": "stderr",
     "output_type": "stream",
     "text": [
      "Fitting causal mechanism of node cso1: 100%|██████████| 17/17 [00:02<00:00,  8.34it/s]\n",
      "Evaluating set functions...: 100%|██████████| 293/293 [00:37<00:00,  7.86it/s]\n"
     ]
    },
    {
     "name": "stdout",
     "output_type": "stream",
     "text": [
      "bed2-->bso1 | bfo2 | bed1\n",
      "bed2-->bso3 | bso1 | bed1\n",
      "Model Accuracy Method 1: 40.48%\n",
      "Model Accuracy Method 2: 40.48%\n",
      "--------------------------------------------------------------------------------------------------------------------------------\n",
      "Model: 84\n",
      "Anomaly: ced1\n",
      "Epoch 0, Loss: 0.0000\n",
      "Epoch 0: Average Loss = 114.4684, Best Loss = 114.4684\n",
      "Epoch 100: Average Loss = 24.3736, Best Loss = 24.3434\n",
      "Early stopping triggered after 110 epochs. Restoring best model.\n"
     ]
    },
    {
     "name": "stderr",
     "output_type": "stream",
     "text": [
      "Fitting causal mechanism of node cso1: 100%|██████████| 17/17 [00:01<00:00, 10.18it/s]\n",
      "Evaluating set functions...: 100%|██████████| 16/16 [00:00<00:00, 16001.16it/s]\n"
     ]
    },
    {
     "name": "stdout",
     "output_type": "stream",
     "text": [
      "ROOT CAUSE FOUND!\n",
      "bed2-->bfo1 | bso1 | bed2\n",
      "bed2-->bso1 | bfo1 | bed2\n",
      "Model Accuracy Method 1: 41.18%\n",
      "Model Accuracy Method 2: 41.18%\n",
      "--------------------------------------------------------------------------------------------------------------------------------\n",
      "Model: 85\n",
      "Anomaly: ced1\n",
      "Epoch 0, Loss: 0.0001\n",
      "Epoch 0: Average Loss = 161.8387, Best Loss = 161.8387\n",
      "Epoch 100: Average Loss = 30.8921, Best Loss = 30.6573\n",
      "Early stopping triggered after 127 epochs. Restoring best model.\n"
     ]
    },
    {
     "name": "stderr",
     "output_type": "stream",
     "text": [
      "Fitting causal mechanism of node cso1: 100%|██████████| 17/17 [00:01<00:00,  9.69it/s]\n",
      "Evaluating set functions...: 100%|██████████| 150/150 [00:06<00:00, 22.06it/s]\n"
     ]
    },
    {
     "name": "stdout",
     "output_type": "stream",
     "text": [
      "ROOT CAUSE FOUND!\n",
      "bed2-->bfo2 | bed2 | bfo1\n",
      "bed2-->bed1 | bfo2 | bso3\n",
      "Model Accuracy Method 1: 41.86%\n",
      "Model Accuracy Method 2: 40.7%\n",
      "--------------------------------------------------------------------------------------------------------------------------------\n",
      "Model: 86\n",
      "Anomaly: cfo1\n",
      "Epoch 0, Loss: 0.0001\n",
      "Epoch 0: Average Loss = 56.9540, Best Loss = 56.9540\n",
      "Early stopping triggered after 57 epochs. Restoring best model.\n"
     ]
    },
    {
     "name": "stderr",
     "output_type": "stream",
     "text": [
      "Fitting causal mechanism of node cso1: 100%|██████████| 17/17 [00:02<00:00,  5.77it/s]\n",
      "Evaluating set functions...: 100%|██████████| 344/344 [00:49<00:00,  6.98it/s]\n"
     ]
    },
    {
     "name": "stdout",
     "output_type": "stream",
     "text": [
      "bfo1-->bso1 | bfo2 | bso3\n",
      "bfo1-->bfo1 | bfo2 | bso3\n",
      "Model Accuracy Method 1: 41.38%\n",
      "Model Accuracy Method 2: 41.38%\n",
      "--------------------------------------------------------------------------------------------------------------------------------\n",
      "Model: 87\n",
      "Anomaly: cfo1\n",
      "Epoch 0, Loss: 0.0000\n",
      "Epoch 0: Average Loss = 142.3444, Best Loss = 142.3444\n",
      "Epoch 100: Average Loss = 30.7011, Best Loss = 30.6215\n",
      "Early stopping triggered after 103 epochs. Restoring best model.\n"
     ]
    },
    {
     "name": "stderr",
     "output_type": "stream",
     "text": [
      "Fitting causal mechanism of node cso1: 100%|██████████| 17/17 [00:01<00:00, 12.15it/s]\n",
      "Evaluating set functions...: 100%|██████████| 32/32 [00:00<00:00, 15999.25it/s]\n"
     ]
    },
    {
     "name": "stdout",
     "output_type": "stream",
     "text": [
      "bso1-->bso3 | bed1 | bfo1\n",
      "bso1-->bfo2 | bso3 | bfo1\n",
      "Model Accuracy Method 1: 40.91%\n",
      "Model Accuracy Method 2: 40.91%\n",
      "--------------------------------------------------------------------------------------------------------------------------------\n",
      "Model: 88\n",
      "Anomaly: cfo1\n",
      "Epoch 0, Loss: 0.0001\n",
      "Epoch 0: Average Loss = 66.6387, Best Loss = 66.6387\n",
      "Early stopping triggered after 46 epochs. Restoring best model.\n"
     ]
    },
    {
     "name": "stderr",
     "output_type": "stream",
     "text": [
      "Fitting causal mechanism of node cso1: 100%|██████████| 17/17 [00:03<00:00,  5.19it/s]\n",
      "Evaluating set functions...: 100%|██████████| 325/325 [00:49<00:00,  6.62it/s]\n"
     ]
    },
    {
     "name": "stdout",
     "output_type": "stream",
     "text": [
      "ROOT CAUSE FOUND!\n",
      "bso1-->bso1 | bfo2 | bfo1\n",
      "bso1-->bso1 | bfo1 | bed1\n",
      "Model Accuracy Method 1: 41.57%\n",
      "Model Accuracy Method 2: 41.57%\n",
      "--------------------------------------------------------------------------------------------------------------------------------\n",
      "Model: 89\n",
      "Anomaly: ced1\n",
      "Epoch 0, Loss: 0.0001\n",
      "Epoch 0: Average Loss = 72.2893, Best Loss = 72.2893\n",
      "Early stopping triggered after 60 epochs. Restoring best model.\n"
     ]
    },
    {
     "name": "stderr",
     "output_type": "stream",
     "text": [
      "Fitting causal mechanism of node cso1: 100%|██████████| 17/17 [00:03<00:00,  5.19it/s]\n",
      "Evaluating set functions...: 100%|██████████| 233/233 [00:26<00:00,  8.80it/s]\n"
     ]
    },
    {
     "name": "stdout",
     "output_type": "stream",
     "text": [
      "bed2-->bso1 | bfo2 | bed1\n",
      "bed2-->bso1 | bed2 | bed1\n",
      "Model Accuracy Method 1: 41.11%\n",
      "Model Accuracy Method 2: 42.22%\n",
      "--------------------------------------------------------------------------------------------------------------------------------\n",
      "Model: 90\n",
      "Anomaly: cso1\n",
      "Epoch 0, Loss: 0.0001\n",
      "Epoch 0: Average Loss = 87.0282, Best Loss = 87.0282\n",
      "Early stopping triggered after 72 epochs. Restoring best model.\n"
     ]
    },
    {
     "name": "stderr",
     "output_type": "stream",
     "text": [
      "Fitting causal mechanism of node cso1: 100%|██████████| 17/17 [00:02<00:00,  6.59it/s]\n",
      "Evaluating set functions...: 100%|██████████| 244/244 [00:21<00:00, 11.24it/s]\n"
     ]
    },
    {
     "name": "stdout",
     "output_type": "stream",
     "text": [
      "ROOT CAUSE FOUND!\n",
      "bfo2-->bfo2 | bso1 | bed2\n",
      "bfo2-->bfo2 | bed2 | bso1\n",
      "Model Accuracy Method 1: 41.76%\n",
      "Model Accuracy Method 2: 42.86%\n",
      "--------------------------------------------------------------------------------------------------------------------------------\n",
      "Model: 91\n",
      "Anomaly: ced1\n",
      "Epoch 0, Loss: 0.0001\n",
      "Epoch 0: Average Loss = 135.7787, Best Loss = 135.7787\n",
      "Epoch 100: Average Loss = 20.3654, Best Loss = 20.3120\n",
      "Early stopping triggered after 137 epochs. Restoring best model.\n"
     ]
    },
    {
     "name": "stderr",
     "output_type": "stream",
     "text": [
      "Fitting causal mechanism of node cso1: 100%|██████████| 17/17 [00:01<00:00, 14.81it/s]\n",
      "Evaluating set functions...: 100%|██████████| 51/51 [00:00<00:00, 25504.89it/s]\n"
     ]
    },
    {
     "name": "stdout",
     "output_type": "stream",
     "text": [
      "bed1-->bso1 | bfo2 | bso3\n",
      "bed1-->bfo2 | bso1 | bso2\n",
      "Model Accuracy Method 1: 41.3%\n",
      "Model Accuracy Method 2: 42.39%\n",
      "--------------------------------------------------------------------------------------------------------------------------------\n",
      "Model: 92\n",
      "Anomaly: ced1\n",
      "Epoch 0, Loss: 0.0001\n",
      "Epoch 0: Average Loss = 73.9084, Best Loss = 73.9084\n",
      "Early stopping triggered after 55 epochs. Restoring best model.\n"
     ]
    },
    {
     "name": "stderr",
     "output_type": "stream",
     "text": [
      "Fitting causal mechanism of node cso1: 100%|██████████| 17/17 [00:03<00:00,  5.64it/s]\n",
      "Evaluating set functions...: 100%|██████████| 119/119 [00:03<00:00, 38.57it/s]\n"
     ]
    },
    {
     "name": "stdout",
     "output_type": "stream",
     "text": [
      "bed2-->bso1 | bfo2 | bso3\n",
      "bed2-->bso1 | bfo2 | bed2\n",
      "Model Accuracy Method 1: 40.86%\n",
      "Model Accuracy Method 2: 43.01%\n",
      "--------------------------------------------------------------------------------------------------------------------------------\n",
      "Model: 93\n",
      "Anomaly: cso1\n",
      "Epoch 0, Loss: 0.0001\n",
      "Epoch 0: Average Loss = 118.5637, Best Loss = 118.5637\n",
      "Epoch 100: Average Loss = 24.9765, Best Loss = 24.6555\n",
      "Early stopping triggered after 108 epochs. Restoring best model.\n"
     ]
    },
    {
     "name": "stderr",
     "output_type": "stream",
     "text": [
      "Fitting causal mechanism of node cso1: 100%|██████████| 17/17 [00:01<00:00, 13.27it/s]\n",
      "Evaluating set functions...: 100%|██████████| 109/109 [00:02<00:00, 53.90it/s]\n"
     ]
    },
    {
     "name": "stdout",
     "output_type": "stream",
     "text": [
      "bso2-->bso3 | bfo2 | bed2\n",
      "bso2-->bfo1 | bfo2 | bed2\n",
      "Model Accuracy Method 1: 40.43%\n",
      "Model Accuracy Method 2: 42.55%\n",
      "--------------------------------------------------------------------------------------------------------------------------------\n",
      "Model: 94\n",
      "Anomaly: cso1\n",
      "Epoch 0, Loss: 0.0001\n",
      "Epoch 0: Average Loss = 116.0743, Best Loss = 116.0743\n",
      "Epoch 100: Average Loss = 32.2332, Best Loss = 32.1904\n",
      "Early stopping triggered after 182 epochs. Restoring best model.\n"
     ]
    },
    {
     "name": "stderr",
     "output_type": "stream",
     "text": [
      "Fitting causal mechanism of node cso1: 100%|██████████| 17/17 [00:01<00:00, 10.90it/s]\n",
      "Evaluating set functions...: 100%|██████████| 241/241 [00:21<00:00, 11.46it/s]\n"
     ]
    },
    {
     "name": "stdout",
     "output_type": "stream",
     "text": [
      "bso2-->bfo1 | bso1 | bso3\n",
      "bso2-->bfo1 | bso3 | bfo2\n",
      "Model Accuracy Method 1: 40.0%\n",
      "Model Accuracy Method 2: 42.11%\n",
      "--------------------------------------------------------------------------------------------------------------------------------\n",
      "Model: 95\n",
      "Anomaly: ced1\n",
      "Epoch 0, Loss: 0.0000\n",
      "Epoch 0: Average Loss = 117.2410, Best Loss = 117.2410\n",
      "Epoch 100: Average Loss = 31.6338, Best Loss = 31.6091\n",
      "Early stopping triggered after 143 epochs. Restoring best model.\n"
     ]
    },
    {
     "name": "stderr",
     "output_type": "stream",
     "text": [
      "Fitting causal mechanism of node cso1: 100%|██████████| 17/17 [00:01<00:00, 14.24it/s]\n",
      "Evaluating set functions...: 100%|██████████| 267/267 [00:16<00:00, 16.17it/s]\n"
     ]
    },
    {
     "name": "stdout",
     "output_type": "stream",
     "text": [
      "bed1-->bed2 | bfo2 | bso2\n",
      "bed1-->bfo2 | bso1 | bso3\n",
      "Model Accuracy Method 1: 39.58%\n",
      "Model Accuracy Method 2: 41.67%\n",
      "--------------------------------------------------------------------------------------------------------------------------------\n",
      "Model: 96\n",
      "Anomaly: ced1\n",
      "Epoch 0, Loss: 0.0001\n",
      "Epoch 0: Average Loss = 194.5270, Best Loss = 194.5270\n",
      "Epoch 100: Average Loss = 15.4281, Best Loss = 15.3778\n",
      "Epoch 200: Average Loss = 15.0876, Best Loss = 15.0869\n",
      "Early stopping triggered after 218 epochs. Restoring best model.\n"
     ]
    },
    {
     "name": "stderr",
     "output_type": "stream",
     "text": [
      "Fitting causal mechanism of node cso1: 100%|██████████| 17/17 [00:00<00:00, 17.66it/s]\n",
      "Evaluating set functions...: 100%|██████████| 378/378 [00:36<00:00, 10.29it/s]\n"
     ]
    },
    {
     "name": "stdout",
     "output_type": "stream",
     "text": [
      "bed2-->bso1 | bed1 | bfo2\n",
      "bed2-->bso1 | bfo1 | bed1\n",
      "Model Accuracy Method 1: 39.18%\n",
      "Model Accuracy Method 2: 41.24%\n",
      "--------------------------------------------------------------------------------------------------------------------------------\n",
      "Model: 97\n",
      "Anomaly: cfo1\n",
      "Epoch 0, Loss: 0.0000\n",
      "Epoch 0: Average Loss = 151.4343, Best Loss = 151.4343\n",
      "Epoch 100: Average Loss = 30.3697, Best Loss = 30.2151\n",
      "Early stopping triggered after 146 epochs. Restoring best model.\n"
     ]
    },
    {
     "name": "stderr",
     "output_type": "stream",
     "text": [
      "Fitting causal mechanism of node cso1: 100%|██████████| 17/17 [00:01<00:00, 13.69it/s]\n",
      "Evaluating set functions...: 100%|██████████| 373/373 [00:41<00:00,  9.06it/s]\n"
     ]
    },
    {
     "name": "stdout",
     "output_type": "stream",
     "text": [
      "bso3-->bfo1 | bfo2 | bed1\n",
      "bso3-->bed1 | bfo2 | bfo1\n",
      "Model Accuracy Method 1: 38.78%\n",
      "Model Accuracy Method 2: 40.82%\n",
      "--------------------------------------------------------------------------------------------------------------------------------\n",
      "Model: 98\n",
      "Anomaly: cfo1\n",
      "Epoch 0, Loss: 0.0001\n",
      "Epoch 0: Average Loss = 135.5101, Best Loss = 135.5101\n",
      "Epoch 100: Average Loss = 35.5267, Best Loss = 28.7104\n",
      "Early stopping triggered after 106 epochs. Restoring best model.\n"
     ]
    },
    {
     "name": "stderr",
     "output_type": "stream",
     "text": [
      "Fitting causal mechanism of node cso1: 100%|██████████| 17/17 [00:02<00:00,  6.79it/s]\n",
      "Evaluating set functions...: 100%|██████████| 323/323 [00:41<00:00,  7.69it/s]\n"
     ]
    },
    {
     "name": "stdout",
     "output_type": "stream",
     "text": [
      "ROOT CAUSE FOUND!\n",
      "bso3-->bso3 | bso1 | bfo2\n",
      "bso3-->bfo2 | bfo1 | bso3\n",
      "Model Accuracy Method 1: 39.39%\n",
      "Model Accuracy Method 2: 41.41%\n",
      "--------------------------------------------------------------------------------------------------------------------------------\n",
      "Model: 99\n",
      "Anomaly: cfo1\n",
      "Epoch 0, Loss: 0.0000\n",
      "Epoch 0: Average Loss = 178.3721, Best Loss = 178.3721\n",
      "Epoch 100: Average Loss = 34.3692, Best Loss = 34.2340\n",
      "Early stopping triggered after 163 epochs. Restoring best model.\n"
     ]
    },
    {
     "name": "stderr",
     "output_type": "stream",
     "text": [
      "Fitting causal mechanism of node cso1: 100%|██████████| 17/17 [00:01<00:00, 11.00it/s]\n",
      "Evaluating set functions...: 100%|██████████| 183/183 [00:09<00:00, 18.33it/s]\n"
     ]
    },
    {
     "name": "stdout",
     "output_type": "stream",
     "text": [
      "bfo1-->bso1 | bfo2 | bso2\n",
      "bfo1-->bed1 | bfo1 | bfo2\n",
      "Model Accuracy Method 1: 39.0%\n",
      "Model Accuracy Method 2: 42.0%\n",
      "--------------------------------------------------------------------------------------------------------------------------------\n",
      "Model: 100\n",
      "Anomaly: cso1\n",
      "Epoch 0, Loss: 0.0001\n",
      "Epoch 0: Average Loss = 84.2715, Best Loss = 84.2715\n",
      "Early stopping triggered after 55 epochs. Restoring best model.\n"
     ]
    },
    {
     "name": "stderr",
     "output_type": "stream",
     "text": [
      "Fitting causal mechanism of node cso1: 100%|██████████| 17/17 [00:02<00:00,  6.20it/s]\n",
      "Evaluating set functions...: 100%|██████████| 374/374 [01:00<00:00,  6.14it/s]\n"
     ]
    },
    {
     "name": "stdout",
     "output_type": "stream",
     "text": [
      "bfo2-->bso1 | bfo1 | bed1\n",
      "bfo2-->bso3 | bso1 | bed1\n",
      "Model Accuracy Method 1: 38.61%\n",
      "Model Accuracy Method 2: 41.58%\n",
      "--------------------------------------------------------------------------------------------------------------------------------\n",
      "Model: 101\n",
      "Anomaly: cso1\n",
      "Epoch 0, Loss: 0.0001\n",
      "Epoch 0: Average Loss = 89.6497, Best Loss = 89.6497\n",
      "Early stopping triggered after 90 epochs. Restoring best model.\n"
     ]
    },
    {
     "name": "stderr",
     "output_type": "stream",
     "text": [
      "Fitting causal mechanism of node cso1: 100%|██████████| 17/17 [00:03<00:00,  5.58it/s]\n",
      "Evaluating set functions...: 100%|██████████| 86/86 [00:00<00:00, 327.86it/s]\n"
     ]
    },
    {
     "name": "stdout",
     "output_type": "stream",
     "text": [
      "bso2-->bso3 | bso1 | bfo1\n",
      "bso2-->bso3 | bfo2 | bed1\n",
      "Model Accuracy Method 1: 38.24%\n",
      "Model Accuracy Method 2: 41.18%\n",
      "--------------------------------------------------------------------------------------------------------------------------------\n",
      "Model: 102\n",
      "Anomaly: cso1\n",
      "Epoch 0, Loss: 0.0001\n",
      "Epoch 0: Average Loss = 178.7397, Best Loss = 178.7397\n",
      "Epoch 100: Average Loss = 25.6054, Best Loss = 25.5339\n",
      "Early stopping triggered after 138 epochs. Restoring best model.\n"
     ]
    },
    {
     "name": "stderr",
     "output_type": "stream",
     "text": [
      "Fitting causal mechanism of node cso1: 100%|██████████| 17/17 [00:01<00:00, 11.91it/s]\n",
      "Evaluating set functions...: 100%|██████████| 209/209 [00:12<00:00, 16.12it/s]\n"
     ]
    },
    {
     "name": "stdout",
     "output_type": "stream",
     "text": [
      "ROOT CAUSE FOUND!\n",
      "bfo2-->bfo2 | bso3 | bed1\n",
      "bfo2-->bfo2 | bed1 | bso3\n",
      "Model Accuracy Method 1: 38.83%\n",
      "Model Accuracy Method 2: 41.75%\n",
      "--------------------------------------------------------------------------------------------------------------------------------\n",
      "Model: 103\n",
      "Anomaly: cfo1\n",
      "Epoch 0, Loss: 0.0001\n",
      "Epoch 0: Average Loss = 133.2012, Best Loss = 133.2012\n",
      "Epoch 100: Average Loss = 32.4043, Best Loss = 30.9433\n",
      "Early stopping triggered after 107 epochs. Restoring best model.\n"
     ]
    },
    {
     "name": "stderr",
     "output_type": "stream",
     "text": [
      "Fitting causal mechanism of node cso1: 100%|██████████| 17/17 [00:02<00:00,  8.25it/s]\n",
      "Evaluating set functions...: 100%|██████████| 273/273 [00:29<00:00,  9.41it/s]\n"
     ]
    },
    {
     "name": "stdout",
     "output_type": "stream",
     "text": [
      "ROOT CAUSE FOUND!\n",
      "bso1-->bfo1 | bso1 | bed1\n",
      "bso1-->bfo1 | bfo2 | bso3\n",
      "Model Accuracy Method 1: 39.42%\n",
      "Model Accuracy Method 2: 41.35%\n",
      "--------------------------------------------------------------------------------------------------------------------------------\n",
      "Model: 104\n",
      "Anomaly: cfo1\n",
      "Epoch 0, Loss: 0.0001\n",
      "Epoch 0: Average Loss = 59.5543, Best Loss = 59.5543\n",
      "Early stopping triggered after 43 epochs. Restoring best model.\n"
     ]
    },
    {
     "name": "stderr",
     "output_type": "stream",
     "text": [
      "Fitting causal mechanism of node cso1: 100%|██████████| 17/17 [00:03<00:00,  5.20it/s]\n",
      "Evaluating set functions...: 100%|██████████| 124/124 [00:03<00:00, 34.45it/s]\n"
     ]
    },
    {
     "name": "stdout",
     "output_type": "stream",
     "text": [
      "ROOT CAUSE FOUND!\n",
      "bfo1-->bso3 | bfo1 | bfo2\n",
      "bfo1-->bfo1 | bfo2 | bed2\n",
      "Model Accuracy Method 1: 40.0%\n",
      "Model Accuracy Method 2: 41.9%\n",
      "--------------------------------------------------------------------------------------------------------------------------------\n",
      "Model: 105\n",
      "Anomaly: ced1\n",
      "Epoch 0, Loss: 0.0001\n",
      "Epoch 0: Average Loss = 85.8110, Best Loss = 85.8110\n",
      "Epoch 100: Average Loss = 30.2024, Best Loss = 30.1906\n",
      "Early stopping triggered after 117 epochs. Restoring best model.\n"
     ]
    },
    {
     "name": "stderr",
     "output_type": "stream",
     "text": [
      "Fitting causal mechanism of node cso1: 100%|██████████| 17/17 [00:02<00:00,  6.28it/s]\n",
      "Evaluating set functions...: 100%|██████████| 181/181 [00:10<00:00, 18.09it/s]\n"
     ]
    },
    {
     "name": "stdout",
     "output_type": "stream",
     "text": [
      "bed2-->bfo2 | bso1 | bed1\n",
      "bed2-->bso1 | bed1 | bfo1\n",
      "Model Accuracy Method 1: 39.62%\n",
      "Model Accuracy Method 2: 41.51%\n",
      "--------------------------------------------------------------------------------------------------------------------------------\n",
      "Model: 106\n",
      "Anomaly: ced1\n",
      "Epoch 0, Loss: 0.0000\n",
      "Epoch 0: Average Loss = 173.3388, Best Loss = 173.3388\n",
      "Epoch 100: Average Loss = 30.5598, Best Loss = 30.4396\n",
      "Early stopping triggered after 138 epochs. Restoring best model.\n"
     ]
    },
    {
     "name": "stderr",
     "output_type": "stream",
     "text": [
      "Fitting causal mechanism of node cso1: 100%|██████████| 17/17 [00:00<00:00, 17.07it/s]\n",
      "Evaluating set functions...: 100%|██████████| 53/53 [00:00<00:00, 52978.58it/s]\n"
     ]
    },
    {
     "name": "stdout",
     "output_type": "stream",
     "text": [
      "bed2-->bso1 | bso3 | bed1\n",
      "bed2-->bso1 | bso3 | bed2\n",
      "Model Accuracy Method 1: 39.25%\n",
      "Model Accuracy Method 2: 42.06%\n",
      "--------------------------------------------------------------------------------------------------------------------------------\n",
      "Model: 107\n",
      "Anomaly: cfo1\n",
      "Epoch 0, Loss: 0.0000\n",
      "Epoch 0: Average Loss = 157.4482, Best Loss = 157.4482\n",
      "Epoch 100: Average Loss = 32.1011, Best Loss = 32.0908\n",
      "Early stopping triggered after 136 epochs. Restoring best model.\n"
     ]
    },
    {
     "name": "stderr",
     "output_type": "stream",
     "text": [
      "Fitting causal mechanism of node cso1: 100%|██████████| 17/17 [00:01<00:00, 13.62it/s]\n",
      "Evaluating set functions...: 100%|██████████| 322/322 [00:38<00:00,  8.46it/s]\n"
     ]
    },
    {
     "name": "stdout",
     "output_type": "stream",
     "text": [
      "bfo1-->bso3 | bed2 | bfo2\n",
      "bfo1-->bfo2 | bed1 | bfo1\n",
      "Model Accuracy Method 1: 38.89%\n",
      "Model Accuracy Method 2: 42.59%\n",
      "--------------------------------------------------------------------------------------------------------------------------------\n",
      "Model: 108\n",
      "Anomaly: cfo1\n",
      "Epoch 0, Loss: 0.0000\n",
      "Epoch 0: Average Loss = 221.7580, Best Loss = 221.7580\n",
      "Early stopping triggered after 86 epochs. Restoring best model.\n"
     ]
    },
    {
     "name": "stderr",
     "output_type": "stream",
     "text": [
      "Fitting causal mechanism of node cso1: 100%|██████████| 17/17 [00:00<00:00, 17.49it/s]\n",
      "Evaluating set functions...: 100%|██████████| 175/175 [00:09<00:00, 18.68it/s]\n"
     ]
    },
    {
     "name": "stdout",
     "output_type": "stream",
     "text": [
      "bso1-->bfo1 | bso3 | bfo2\n",
      "bso1-->bso2 | bso3 | bfo1\n",
      "Model Accuracy Method 1: 38.53%\n",
      "Model Accuracy Method 2: 42.2%\n",
      "--------------------------------------------------------------------------------------------------------------------------------\n",
      "Model: 109\n",
      "Anomaly: ced1\n",
      "Epoch 0, Loss: 0.0001\n",
      "Epoch 0: Average Loss = 188.0804, Best Loss = 188.0804\n",
      "Epoch 100: Average Loss = 23.4012, Best Loss = 23.2297\n",
      "Early stopping triggered after 153 epochs. Restoring best model.\n"
     ]
    },
    {
     "name": "stderr",
     "output_type": "stream",
     "text": [
      "Fitting causal mechanism of node cso1: 100%|██████████| 17/17 [00:01<00:00, 15.14it/s]\n",
      "Evaluating set functions...: 100%|██████████| 379/379 [00:45<00:00,  8.28it/s]\n"
     ]
    },
    {
     "name": "stdout",
     "output_type": "stream",
     "text": [
      "bed2-->bso1 | bso3 | bfo2\n",
      "bed2-->bfo2 | bso3 | bfo1\n",
      "Model Accuracy Method 1: 38.18%\n",
      "Model Accuracy Method 2: 41.82%\n",
      "--------------------------------------------------------------------------------------------------------------------------------\n",
      "Model: 110\n",
      "Anomaly: cfo1\n",
      "Epoch 0, Loss: 0.0000\n",
      "Epoch 0: Average Loss = 182.7817, Best Loss = 182.7817\n",
      "Epoch 100: Average Loss = 26.4820, Best Loss = 26.4505\n",
      "Early stopping triggered after 139 epochs. Restoring best model.\n"
     ]
    },
    {
     "name": "stderr",
     "output_type": "stream",
     "text": [
      "Fitting causal mechanism of node cso1: 100%|██████████| 17/17 [00:01<00:00, 13.69it/s]\n",
      "Evaluating set functions...: 100%|██████████| 269/269 [00:24<00:00, 10.89it/s]\n"
     ]
    },
    {
     "name": "stdout",
     "output_type": "stream",
     "text": [
      "ROOT CAUSE FOUND!\n",
      "bfo1-->bfo1 | bfo2 | bed1\n",
      "bfo1-->bfo2 | bfo1 | bso3\n",
      "Model Accuracy Method 1: 38.74%\n",
      "Model Accuracy Method 2: 42.34%\n",
      "--------------------------------------------------------------------------------------------------------------------------------\n",
      "Model: 111\n",
      "Anomaly: ced1\n",
      "Epoch 0, Loss: 0.0001\n",
      "Epoch 0: Average Loss = 182.5073, Best Loss = 182.5073\n",
      "Epoch 100: Average Loss = 33.5795, Best Loss = 33.5459\n",
      "Early stopping triggered after 123 epochs. Restoring best model.\n"
     ]
    },
    {
     "name": "stderr",
     "output_type": "stream",
     "text": [
      "Fitting causal mechanism of node cso1: 100%|██████████| 17/17 [00:01<00:00,  8.64it/s]\n",
      "Evaluating set functions...: 100%|██████████| 321/321 [00:52<00:00,  6.10it/s]\n"
     ]
    },
    {
     "name": "stdout",
     "output_type": "stream",
     "text": [
      "bed1-->bso1 | bfo1 | bso3\n",
      "bed1-->bso3 | bfo1 | bfo2\n",
      "Model Accuracy Method 1: 38.39%\n",
      "Model Accuracy Method 2: 41.96%\n",
      "--------------------------------------------------------------------------------------------------------------------------------\n",
      "Model: 112\n",
      "Anomaly: cfo1\n",
      "Epoch 0, Loss: 0.0001\n",
      "Epoch 0: Average Loss = 99.5944, Best Loss = 99.5944\n",
      "Early stopping triggered after 62 epochs. Restoring best model.\n"
     ]
    },
    {
     "name": "stderr",
     "output_type": "stream",
     "text": [
      "Fitting causal mechanism of node cso1: 100%|██████████| 17/17 [00:02<00:00,  6.23it/s]\n",
      "Evaluating set functions...: 100%|██████████| 239/239 [00:22<00:00, 10.85it/s]\n"
     ]
    },
    {
     "name": "stdout",
     "output_type": "stream",
     "text": [
      "ROOT CAUSE FOUND!\n",
      "bso1-->bfo2 | bso1 | bso3\n",
      "bso1-->bso1 | bfo1 | bfo2\n",
      "Model Accuracy Method 1: 38.94%\n",
      "Model Accuracy Method 2: 42.48%\n",
      "--------------------------------------------------------------------------------------------------------------------------------\n",
      "Model: 113\n",
      "Anomaly: cfo1\n",
      "Epoch 0, Loss: 0.0000\n",
      "Epoch 0: Average Loss = 171.9259, Best Loss = 171.9259\n",
      "Epoch 100: Average Loss = 28.3345, Best Loss = 28.1235\n",
      "Early stopping triggered after 135 epochs. Restoring best model.\n"
     ]
    },
    {
     "name": "stderr",
     "output_type": "stream",
     "text": [
      "Fitting causal mechanism of node cso1: 100%|██████████| 17/17 [00:01<00:00, 14.99it/s]\n",
      "Evaluating set functions...: 100%|██████████| 295/295 [00:30<00:00,  9.52it/s]\n"
     ]
    },
    {
     "name": "stdout",
     "output_type": "stream",
     "text": [
      "ROOT CAUSE FOUND!\n",
      "bso1-->bso1 | bfo2 | bso3\n",
      "bso1-->bso1 | bed2 | bfo2\n",
      "Model Accuracy Method 1: 39.47%\n",
      "Model Accuracy Method 2: 42.98%\n",
      "--------------------------------------------------------------------------------------------------------------------------------\n",
      "Model: 114\n",
      "Anomaly: cso1\n",
      "Epoch 0, Loss: 0.0000\n",
      "Epoch 0: Average Loss = 195.5493, Best Loss = 195.5493\n",
      "Epoch 100: Average Loss = 30.7765, Best Loss = 30.5285\n",
      "Early stopping triggered after 110 epochs. Restoring best model.\n"
     ]
    },
    {
     "name": "stderr",
     "output_type": "stream",
     "text": [
      "Fitting causal mechanism of node cso1: 100%|██████████| 17/17 [00:00<00:00, 21.76it/s]\n",
      "Evaluating set functions...: 100%|██████████| 230/230 [00:17<00:00, 12.80it/s]\n"
     ]
    },
    {
     "name": "stdout",
     "output_type": "stream",
     "text": [
      "ROOT CAUSE FOUND!\n",
      "bso2-->bfo2 | bso3 | bso2\n",
      "bso2-->bfo1 | bso2 | bed2\n",
      "Model Accuracy Method 1: 40.0%\n",
      "Model Accuracy Method 2: 43.48%\n",
      "--------------------------------------------------------------------------------------------------------------------------------\n",
      "Model: 115\n",
      "Anomaly: ced1\n",
      "Epoch 0, Loss: 0.0001\n",
      "Epoch 0: Average Loss = 80.2578, Best Loss = 80.2578\n",
      "Early stopping triggered after 68 epochs. Restoring best model.\n"
     ]
    },
    {
     "name": "stderr",
     "output_type": "stream",
     "text": [
      "Fitting causal mechanism of node cso1: 100%|██████████| 17/17 [00:02<00:00,  6.44it/s]\n",
      "Evaluating set functions...: 100%|██████████| 380/380 [00:55<00:00,  6.79it/s]\n"
     ]
    },
    {
     "name": "stdout",
     "output_type": "stream",
     "text": [
      "bed2-->bfo1 | bed1 | bso2\n",
      "bed2-->bed1 | bfo2 | bso1\n",
      "Model Accuracy Method 1: 39.66%\n",
      "Model Accuracy Method 2: 43.1%\n",
      "--------------------------------------------------------------------------------------------------------------------------------\n",
      "Model: 116\n",
      "Anomaly: cso1\n",
      "Epoch 0, Loss: 0.0001\n",
      "Epoch 0: Average Loss = 148.7527, Best Loss = 148.7527\n",
      "Epoch 100: Average Loss = 23.6050, Best Loss = 23.5349\n",
      "Early stopping triggered after 174 epochs. Restoring best model.\n"
     ]
    },
    {
     "name": "stderr",
     "output_type": "stream",
     "text": [
      "Fitting causal mechanism of node cso1: 100%|██████████| 17/17 [00:02<00:00,  7.01it/s]\n",
      "Evaluating set functions...: 100%|██████████| 183/183 [00:11<00:00, 15.97it/s]\n"
     ]
    },
    {
     "name": "stdout",
     "output_type": "stream",
     "text": [
      "ROOT CAUSE FOUND!\n",
      "bfo2-->bso1 | bfo2 | bfo1\n",
      "bfo2-->bfo2 | bso1 | bso3\n",
      "Model Accuracy Method 1: 40.17%\n",
      "Model Accuracy Method 2: 43.59%\n",
      "--------------------------------------------------------------------------------------------------------------------------------\n",
      "Model: 117\n",
      "Anomaly: cfo1\n",
      "Epoch 0, Loss: 0.0000\n",
      "Epoch 0: Average Loss = 185.0742, Best Loss = 185.0742\n",
      "Epoch 100: Average Loss = 24.8341, Best Loss = 24.7635\n",
      "Early stopping triggered after 136 epochs. Restoring best model.\n"
     ]
    },
    {
     "name": "stderr",
     "output_type": "stream",
     "text": [
      "Fitting causal mechanism of node cso1: 100%|██████████| 17/17 [00:01<00:00, 16.85it/s]\n",
      "Evaluating set functions...: 100%|██████████| 352/352 [00:41<00:00,  8.42it/s]\n"
     ]
    },
    {
     "name": "stdout",
     "output_type": "stream",
     "text": [
      "bso1-->bfo2 | bso3 | bfo1\n",
      "bso1-->bfo2 | bso1 | bfo1\n",
      "Model Accuracy Method 1: 39.83%\n",
      "Model Accuracy Method 2: 44.07%\n",
      "--------------------------------------------------------------------------------------------------------------------------------\n",
      "Model: 118\n",
      "Anomaly: ced1\n",
      "Epoch 0, Loss: 0.0001\n",
      "Epoch 0: Average Loss = 126.4363, Best Loss = 126.4363\n",
      "Epoch 100: Average Loss = 28.1741, Best Loss = 27.9164\n",
      "Early stopping triggered after 109 epochs. Restoring best model.\n"
     ]
    },
    {
     "name": "stderr",
     "output_type": "stream",
     "text": [
      "Fitting causal mechanism of node cso1: 100%|██████████| 17/17 [00:01<00:00,  9.22it/s]\n",
      "Evaluating set functions...: 100%|██████████| 246/246 [00:14<00:00, 17.23it/s]\n"
     ]
    },
    {
     "name": "stdout",
     "output_type": "stream",
     "text": [
      "ROOT CAUSE FOUND!\n",
      "bed1-->bso1 | bfo2 | bed1\n",
      "bed1-->bfo2 | bed1 | bso1\n",
      "Model Accuracy Method 1: 40.34%\n",
      "Model Accuracy Method 2: 44.54%\n",
      "--------------------------------------------------------------------------------------------------------------------------------\n",
      "Model: 119\n",
      "Anomaly: cfo1\n",
      "Epoch 0, Loss: 0.0001\n",
      "Epoch 0: Average Loss = 114.7705, Best Loss = 114.7705\n",
      "Epoch 100: Average Loss = 19.4698, Best Loss = 19.4372\n",
      "Early stopping triggered after 128 epochs. Restoring best model.\n"
     ]
    },
    {
     "name": "stderr",
     "output_type": "stream",
     "text": [
      "Fitting causal mechanism of node cso1: 100%|██████████| 17/17 [00:01<00:00, 10.77it/s]\n",
      "Evaluating set functions...: 100%|██████████| 211/211 [00:14<00:00, 14.20it/s]\n"
     ]
    },
    {
     "name": "stdout",
     "output_type": "stream",
     "text": [
      "ROOT CAUSE FOUND!\n",
      "bso3-->bfo1 | bso3 | bfo2\n",
      "bso3-->bfo2 | bso3 | bed1\n",
      "Model Accuracy Method 1: 40.83%\n",
      "Model Accuracy Method 2: 45.0%\n",
      "--------------------------------------------------------------------------------------------------------------------------------\n",
      "Model: 120\n",
      "Anomaly: ced1\n",
      "Epoch 0, Loss: 0.0000\n",
      "Epoch 0: Average Loss = 144.7951, Best Loss = 144.7951\n",
      "Epoch 100: Average Loss = 27.5856, Best Loss = 27.5105\n",
      "Early stopping triggered after 149 epochs. Restoring best model.\n"
     ]
    },
    {
     "name": "stderr",
     "output_type": "stream",
     "text": [
      "Fitting causal mechanism of node cso1: 100%|██████████| 17/17 [00:01<00:00, 15.31it/s]\n",
      "Evaluating set functions...: 100%|██████████| 318/318 [00:32<00:00,  9.82it/s]\n"
     ]
    },
    {
     "name": "stdout",
     "output_type": "stream",
     "text": [
      "bed2-->bso1 | bso3 | bfo1\n",
      "bed2-->bso1 | bfo2 | bed2\n",
      "Model Accuracy Method 1: 40.5%\n",
      "Model Accuracy Method 2: 45.45%\n",
      "--------------------------------------------------------------------------------------------------------------------------------\n",
      "Model: 121\n",
      "Anomaly: ced1\n",
      "Epoch 0, Loss: 0.0000\n",
      "Epoch 0: Average Loss = 134.2484, Best Loss = 134.2484\n",
      "Epoch 100: Average Loss = 32.8080, Best Loss = 32.7467\n",
      "Early stopping triggered after 116 epochs. Restoring best model.\n"
     ]
    },
    {
     "name": "stderr",
     "output_type": "stream",
     "text": [
      "Fitting causal mechanism of node cso1: 100%|██████████| 17/17 [00:02<00:00,  7.39it/s]\n",
      "Evaluating set functions...: 100%|██████████| 347/347 [00:49<00:00,  7.04it/s]\n"
     ]
    },
    {
     "name": "stdout",
     "output_type": "stream",
     "text": [
      "bed2-->bso1 | bfo1 | bso3\n",
      "bed2-->bso3 | bso1 | bfo1\n",
      "Model Accuracy Method 1: 40.16%\n",
      "Model Accuracy Method 2: 45.08%\n",
      "--------------------------------------------------------------------------------------------------------------------------------\n",
      "Model: 122\n",
      "Anomaly: cfo1\n",
      "Epoch 0, Loss: 0.0000\n",
      "Epoch 0: Average Loss = 190.9872, Best Loss = 190.9872\n",
      "Epoch 100: Average Loss = 32.9037, Best Loss = 32.9037\n",
      "Early stopping triggered after 131 epochs. Restoring best model.\n"
     ]
    },
    {
     "name": "stderr",
     "output_type": "stream",
     "text": [
      "Fitting causal mechanism of node cso1: 100%|██████████| 17/17 [00:01<00:00, 14.09it/s]\n",
      "Evaluating set functions...: 100%|██████████| 292/292 [00:19<00:00, 14.92it/s]\n"
     ]
    },
    {
     "name": "stdout",
     "output_type": "stream",
     "text": [
      "bso3-->bfo1 | bso1 | bed1\n",
      "bso3-->bfo1 | bed1 | bso1\n",
      "Model Accuracy Method 1: 39.84%\n",
      "Model Accuracy Method 2: 44.72%\n",
      "--------------------------------------------------------------------------------------------------------------------------------\n",
      "Model: 123\n",
      "Anomaly: cso1\n",
      "Epoch 0, Loss: 0.0000\n",
      "Epoch 0: Average Loss = 143.3532, Best Loss = 143.3532\n",
      "Epoch 100: Average Loss = 31.0627, Best Loss = 31.0199\n",
      "Early stopping triggered after 107 epochs. Restoring best model.\n"
     ]
    },
    {
     "name": "stderr",
     "output_type": "stream",
     "text": [
      "Fitting causal mechanism of node cso1: 100%|██████████| 17/17 [00:01<00:00, 10.64it/s]\n",
      "Evaluating set functions...: 100%|██████████| 348/348 [00:45<00:00,  7.66it/s]\n"
     ]
    },
    {
     "name": "stdout",
     "output_type": "stream",
     "text": [
      "ROOT CAUSE FOUND!\n",
      "bfo2-->bfo2 | bfo1 | bso3\n",
      "bfo2-->bfo2 | bso1 | bso2\n",
      "Model Accuracy Method 1: 40.32%\n",
      "Model Accuracy Method 2: 45.16%\n",
      "--------------------------------------------------------------------------------------------------------------------------------\n",
      "Model: 124\n",
      "Anomaly: cfo1\n",
      "Epoch 0, Loss: 0.0001\n",
      "Epoch 0: Average Loss = 129.6473, Best Loss = 129.6473\n",
      "Epoch 100: Average Loss = 32.1625, Best Loss = 32.0133\n",
      "Early stopping triggered after 152 epochs. Restoring best model.\n"
     ]
    },
    {
     "name": "stderr",
     "output_type": "stream",
     "text": [
      "Fitting causal mechanism of node cso1: 100%|██████████| 17/17 [00:02<00:00,  6.88it/s]\n"
     ]
    },
    {
     "ename": "KeyboardInterrupt",
     "evalue": "",
     "output_type": "error",
     "traceback": [
      "\u001b[1;31m---------------------------------------------------------------------------\u001b[0m",
      "\u001b[1;31mKeyboardInterrupt\u001b[0m                         Traceback (most recent call last)",
      "Cell \u001b[1;32mIn[22], line 65\u001b[0m\n\u001b[0;32m     61\u001b[0m \u001b[38;5;66;03m#A0 = learned_adj_matrix\u001b[39;00m\n\u001b[0;32m     62\u001b[0m \u001b[38;5;66;03m#try:\u001b[39;00m\n\u001b[0;32m     64\u001b[0m ci \u001b[38;5;241m=\u001b[39m causal_inference(causal_graph, mod_df, normal_df,potential_causes)\n\u001b[1;32m---> 65\u001b[0m ci\u001b[38;5;241m.\u001b[39minfer_causal_path(anomaly)  \n\u001b[0;32m     67\u001b[0m \u001b[38;5;28;01mif\u001b[39;00m \u001b[38;5;28mlen\u001b[39m(ci\u001b[38;5;241m.\u001b[39mcausal_factors) \u001b[38;5;241m>\u001b[39m\u001b[38;5;241m=\u001b[39m \u001b[38;5;241m3\u001b[39m:\n\u001b[0;32m     68\u001b[0m     potential_cause1 \u001b[38;5;241m=\u001b[39m ci\u001b[38;5;241m.\u001b[39mcausal_factors[\u001b[38;5;241m0\u001b[39m][\u001b[38;5;241m0\u001b[39m]\n",
      "File \u001b[1;32m~\\Documents\\Doctorate\\praxis_research\\praxis_research\\esce\\CARAT\\causal_inference.py:80\u001b[0m, in \u001b[0;36mcausal_inference.infer_causal_path\u001b[1;34m(self, anomaly)\u001b[0m\n\u001b[0;32m     76\u001b[0m \u001b[38;5;28;01mdef\u001b[39;00m \u001b[38;5;21minfer_causal_path\u001b[39m(\u001b[38;5;28mself\u001b[39m,anomaly):\n\u001b[0;32m     77\u001b[0m     \u001b[38;5;66;03m#self.summary_evaluation = gcm.evaluate_causal_model(self.causal_model, self.new_data, \u001b[39;00m\n\u001b[0;32m     78\u001b[0m     \u001b[38;5;66;03m#                                                    compare_mechanism_baselines=True)\u001b[39;00m\n\u001b[1;32m---> 80\u001b[0m     \u001b[38;5;28mself\u001b[39m\u001b[38;5;241m.\u001b[39mcausal_attributions \u001b[38;5;241m=\u001b[39m gcm\u001b[38;5;241m.\u001b[39mdistribution_change(\u001b[38;5;28mself\u001b[39m\u001b[38;5;241m.\u001b[39mcausal_model, \u001b[38;5;28mself\u001b[39m\u001b[38;5;241m.\u001b[39mold_data, \u001b[38;5;28mself\u001b[39m\u001b[38;5;241m.\u001b[39mnew_data, anomaly)\n\u001b[0;32m     81\u001b[0m     abs_attributions \u001b[38;5;241m=\u001b[39m {}\n\u001b[0;32m     82\u001b[0m     \u001b[38;5;28;01mfor\u001b[39;00m k, v \u001b[38;5;129;01min\u001b[39;00m \u001b[38;5;28mself\u001b[39m\u001b[38;5;241m.\u001b[39mcausal_attributions\u001b[38;5;241m.\u001b[39mitems():\n",
      "File \u001b[1;32m~\\anaconda3\\envs\\torch\\Lib\\site-packages\\dowhy\\gcm\\distribution_change.py:170\u001b[0m, in \u001b[0;36mdistribution_change\u001b[1;34m(causal_model, old_data, new_data, target_node, invariant_nodes, num_samples, difference_estimation_func, independence_test, conditional_independence_test, mechanism_change_test_significance_level, mechanism_change_test_fdr_control_method, auto_assignment_quality, return_additional_info, shapley_config, graph_factory)\u001b[0m\n\u001b[0;32m    167\u001b[0m \u001b[38;5;28;01melse\u001b[39;00m:\n\u001b[0;32m    168\u001b[0m     assign_causal_mechanisms(causal_model_new, new_data, override_models\u001b[38;5;241m=\u001b[39m\u001b[38;5;28;01mTrue\u001b[39;00m, quality\u001b[38;5;241m=\u001b[39mauto_assignment_quality)\n\u001b[1;32m--> 170\u001b[0m mechanism_changes \u001b[38;5;241m=\u001b[39m _fit_accounting_for_mechanism_change(\n\u001b[0;32m    171\u001b[0m     causal_model_old,\n\u001b[0;32m    172\u001b[0m     causal_model_new,\n\u001b[0;32m    173\u001b[0m     old_data[\u001b[38;5;28mlist\u001b[39m(causal_graph_old\u001b[38;5;241m.\u001b[39mnodes)],\n\u001b[0;32m    174\u001b[0m     new_data[\u001b[38;5;28mlist\u001b[39m(causal_graph_new\u001b[38;5;241m.\u001b[39mnodes)],\n\u001b[0;32m    175\u001b[0m     independence_test,\n\u001b[0;32m    176\u001b[0m     conditional_independence_test,\n\u001b[0;32m    177\u001b[0m     mechanism_change_test_significance_level,\n\u001b[0;32m    178\u001b[0m     mechanism_change_test_fdr_control_method,\n\u001b[0;32m    179\u001b[0m     invariant_nodes,\n\u001b[0;32m    180\u001b[0m )\n\u001b[0;32m    182\u001b[0m attributions \u001b[38;5;241m=\u001b[39m distribution_change_of_graphs(\n\u001b[0;32m    183\u001b[0m     causal_model_old,\n\u001b[0;32m    184\u001b[0m     causal_model_new,\n\u001b[1;32m   (...)\u001b[0m\n\u001b[0;32m    189\u001b[0m     graph_factory,\n\u001b[0;32m    190\u001b[0m )\n\u001b[0;32m    191\u001b[0m \u001b[38;5;66;03m# set attributions to zero for left out invariant nodes\u001b[39;00m\n",
      "File \u001b[1;32m~\\anaconda3\\envs\\torch\\Lib\\site-packages\\dowhy\\gcm\\distribution_change.py:286\u001b[0m, in \u001b[0;36m_fit_accounting_for_mechanism_change\u001b[1;34m(causal_model_old, causal_model_new, old_data, new_data, independence_test, conditional_independence_test, significance_level, fdr_control_method, invariant_nodes)\u001b[0m\n\u001b[0;32m    275\u001b[0m \u001b[38;5;28;01mdef\u001b[39;00m \u001b[38;5;21m_fit_accounting_for_mechanism_change\u001b[39m(\n\u001b[0;32m    276\u001b[0m     causal_model_old: ProbabilisticCausalModel,\n\u001b[0;32m    277\u001b[0m     causal_model_new: ProbabilisticCausalModel,\n\u001b[1;32m   (...)\u001b[0m\n\u001b[0;32m    284\u001b[0m     invariant_nodes: List[Any],\n\u001b[0;32m    285\u001b[0m ) \u001b[38;5;241m-\u001b[39m\u001b[38;5;241m>\u001b[39m Dict[Any, \u001b[38;5;28mbool\u001b[39m]:\n\u001b[1;32m--> 286\u001b[0m     mechanism_changed_for_node \u001b[38;5;241m=\u001b[39m _check_significant_mechanism_change(\n\u001b[0;32m    287\u001b[0m         causal_model_old\u001b[38;5;241m.\u001b[39mgraph,\n\u001b[0;32m    288\u001b[0m         old_data,\n\u001b[0;32m    289\u001b[0m         new_data,\n\u001b[0;32m    290\u001b[0m         independence_test,\n\u001b[0;32m    291\u001b[0m         conditional_independence_test,\n\u001b[0;32m    292\u001b[0m         significance_level,\n\u001b[0;32m    293\u001b[0m         fdr_control_method,\n\u001b[0;32m    294\u001b[0m     )\n\u001b[0;32m    296\u001b[0m     joint_data \u001b[38;5;241m=\u001b[39m pd\u001b[38;5;241m.\u001b[39mconcat([old_data, new_data], ignore_index\u001b[38;5;241m=\u001b[39m\u001b[38;5;28;01mTrue\u001b[39;00m, sort\u001b[38;5;241m=\u001b[39m\u001b[38;5;28;01mTrue\u001b[39;00m)\n\u001b[0;32m    298\u001b[0m     \u001b[38;5;28;01mfor\u001b[39;00m node \u001b[38;5;129;01min\u001b[39;00m causal_model_new\u001b[38;5;241m.\u001b[39mgraph\u001b[38;5;241m.\u001b[39mnodes:\n",
      "File \u001b[1;32m~\\anaconda3\\envs\\torch\\Lib\\site-packages\\dowhy\\gcm\\distribution_change.py:452\u001b[0m, in \u001b[0;36m_check_significant_mechanism_change\u001b[1;34m(graph, old_data, new_data, independence_test, conditional_independence_test, significance_level, fdr_control_method)\u001b[0m\n\u001b[0;32m    448\u001b[0m         parents_org_data \u001b[38;5;241m=\u001b[39m old_data[get_ordered_predecessors(graph, node)]\u001b[38;5;241m.\u001b[39mto_numpy()\n\u001b[0;32m    449\u001b[0m         parents_new_data \u001b[38;5;241m=\u001b[39m new_data[get_ordered_predecessors(graph, node)]\u001b[38;5;241m.\u001b[39mto_numpy()\n\u001b[0;32m    451\u001b[0m     all_p_values\u001b[38;5;241m.\u001b[39mappend(\n\u001b[1;32m--> 452\u001b[0m         mechanism_change_test(\n\u001b[0;32m    453\u001b[0m             old_data[node]\u001b[38;5;241m.\u001b[39mto_numpy(),\n\u001b[0;32m    454\u001b[0m             new_data[node]\u001b[38;5;241m.\u001b[39mto_numpy(),\n\u001b[0;32m    455\u001b[0m             parents_org_data,\n\u001b[0;32m    456\u001b[0m             parents_new_data,\n\u001b[0;32m    457\u001b[0m             independence_test\u001b[38;5;241m=\u001b[39mindependence_test,\n\u001b[0;32m    458\u001b[0m             conditional_independence_test\u001b[38;5;241m=\u001b[39mconditional_independence_test,\n\u001b[0;32m    459\u001b[0m         )\n\u001b[0;32m    460\u001b[0m     )\n\u001b[0;32m    462\u001b[0m \u001b[38;5;28;01mif\u001b[39;00m fdr_control_method \u001b[38;5;129;01mis\u001b[39;00m \u001b[38;5;28;01mNone\u001b[39;00m:\n\u001b[0;32m    463\u001b[0m     successes \u001b[38;5;241m=\u001b[39m np\u001b[38;5;241m.\u001b[39marray(all_p_values) \u001b[38;5;241m<\u001b[39m\u001b[38;5;241m=\u001b[39m significance_level\n",
      "File \u001b[1;32m~\\anaconda3\\envs\\torch\\Lib\\site-packages\\dowhy\\gcm\\distribution_change.py:84\u001b[0m, in \u001b[0;36mmechanism_change_test\u001b[1;34m(target_original_data, target_new_data, parents_original_data, parents_new_data, independence_test, conditional_independence_test)\u001b[0m\n\u001b[0;32m     79\u001b[0m parents_new_data: np\u001b[38;5;241m.\u001b[39mndarray\n\u001b[0;32m     80\u001b[0m joint_parent_data \u001b[38;5;241m=\u001b[39m np\u001b[38;5;241m.\u001b[39mvstack(\n\u001b[0;32m     81\u001b[0m     [shape_into_2d(parents_original_data[original_indices]), shape_into_2d(parents_new_data[new_indices])]\n\u001b[0;32m     82\u001b[0m )\n\u001b[1;32m---> 84\u001b[0m \u001b[38;5;28;01mreturn\u001b[39;00m conditional_independence_test(joint_target_samples, data_set_indices, joint_parent_data)\n",
      "File \u001b[1;32m~\\anaconda3\\envs\\torch\\Lib\\site-packages\\dowhy\\gcm\\independence_test\\kernel.py:103\u001b[0m, in \u001b[0;36mkernel_based\u001b[1;34m(X, Y, Z, use_bootstrap, bootstrap_num_runs, max_num_samples_run, bootstrap_n_jobs, p_value_adjust_func, **kwargs)\u001b[0m\n\u001b[0;32m     97\u001b[0m random_indices \u001b[38;5;241m=\u001b[39m [\n\u001b[0;32m     98\u001b[0m     np\u001b[38;5;241m.\u001b[39mrandom\u001b[38;5;241m.\u001b[39mchoice(X\u001b[38;5;241m.\u001b[39mshape[\u001b[38;5;241m0\u001b[39m], \u001b[38;5;28mmin\u001b[39m(X\u001b[38;5;241m.\u001b[39mshape[\u001b[38;5;241m0\u001b[39m], max_num_samples_run), replace\u001b[38;5;241m=\u001b[39m\u001b[38;5;28;01mFalse\u001b[39;00m)\n\u001b[0;32m     99\u001b[0m     \u001b[38;5;28;01mfor\u001b[39;00m run \u001b[38;5;129;01min\u001b[39;00m \u001b[38;5;28mrange\u001b[39m(bootstrap_num_runs)\n\u001b[0;32m    100\u001b[0m ]\n\u001b[0;32m    102\u001b[0m random_seeds \u001b[38;5;241m=\u001b[39m np\u001b[38;5;241m.\u001b[39mrandom\u001b[38;5;241m.\u001b[39mrandint(np\u001b[38;5;241m.\u001b[39miinfo(np\u001b[38;5;241m.\u001b[39mint32)\u001b[38;5;241m.\u001b[39mmax, size\u001b[38;5;241m=\u001b[39m\u001b[38;5;28mlen\u001b[39m(random_indices))\n\u001b[1;32m--> 103\u001b[0m p_values \u001b[38;5;241m=\u001b[39m Parallel(n_jobs\u001b[38;5;241m=\u001b[39mbootstrap_n_jobs)(\n\u001b[0;32m    104\u001b[0m     delayed(evaluate_kernel_test_on_samples)(\n\u001b[0;32m    105\u001b[0m         X[indices], Y[indices], Z[indices] \u001b[38;5;28;01mif\u001b[39;00m Z \u001b[38;5;129;01mis\u001b[39;00m \u001b[38;5;129;01mnot\u001b[39;00m \u001b[38;5;28;01mNone\u001b[39;00m \u001b[38;5;28;01melse\u001b[39;00m \u001b[38;5;28;01mNone\u001b[39;00m, \u001b[38;5;28mint\u001b[39m(random_seed)\n\u001b[0;32m    106\u001b[0m     )\n\u001b[0;32m    107\u001b[0m     \u001b[38;5;28;01mfor\u001b[39;00m indices, random_seed \u001b[38;5;129;01min\u001b[39;00m \u001b[38;5;28mzip\u001b[39m(random_indices, random_seeds)\n\u001b[0;32m    108\u001b[0m )\n\u001b[0;32m    110\u001b[0m \u001b[38;5;28;01mreturn\u001b[39;00m p_value_adjust_func(p_values)\n",
      "File \u001b[1;32m~\\anaconda3\\envs\\torch\\Lib\\site-packages\\joblib\\parallel.py:2007\u001b[0m, in \u001b[0;36mParallel.__call__\u001b[1;34m(self, iterable)\u001b[0m\n\u001b[0;32m   2001\u001b[0m \u001b[38;5;66;03m# The first item from the output is blank, but it makes the interpreter\u001b[39;00m\n\u001b[0;32m   2002\u001b[0m \u001b[38;5;66;03m# progress until it enters the Try/Except block of the generator and\u001b[39;00m\n\u001b[0;32m   2003\u001b[0m \u001b[38;5;66;03m# reaches the first `yield` statement. This starts the asynchronous\u001b[39;00m\n\u001b[0;32m   2004\u001b[0m \u001b[38;5;66;03m# dispatch of the tasks to the workers.\u001b[39;00m\n\u001b[0;32m   2005\u001b[0m \u001b[38;5;28mnext\u001b[39m(output)\n\u001b[1;32m-> 2007\u001b[0m \u001b[38;5;28;01mreturn\u001b[39;00m output \u001b[38;5;28;01mif\u001b[39;00m \u001b[38;5;28mself\u001b[39m\u001b[38;5;241m.\u001b[39mreturn_generator \u001b[38;5;28;01melse\u001b[39;00m \u001b[38;5;28mlist\u001b[39m(output)\n",
      "File \u001b[1;32m~\\anaconda3\\envs\\torch\\Lib\\site-packages\\joblib\\parallel.py:1650\u001b[0m, in \u001b[0;36mParallel._get_outputs\u001b[1;34m(self, iterator, pre_dispatch)\u001b[0m\n\u001b[0;32m   1647\u001b[0m     \u001b[38;5;28;01myield\u001b[39;00m\n\u001b[0;32m   1649\u001b[0m     \u001b[38;5;28;01mwith\u001b[39;00m \u001b[38;5;28mself\u001b[39m\u001b[38;5;241m.\u001b[39m_backend\u001b[38;5;241m.\u001b[39mretrieval_context():\n\u001b[1;32m-> 1650\u001b[0m         \u001b[38;5;28;01myield from\u001b[39;00m \u001b[38;5;28mself\u001b[39m\u001b[38;5;241m.\u001b[39m_retrieve()\n\u001b[0;32m   1652\u001b[0m \u001b[38;5;28;01mexcept\u001b[39;00m \u001b[38;5;167;01mGeneratorExit\u001b[39;00m:\n\u001b[0;32m   1653\u001b[0m     \u001b[38;5;66;03m# The generator has been garbage collected before being fully\u001b[39;00m\n\u001b[0;32m   1654\u001b[0m     \u001b[38;5;66;03m# consumed. This aborts the remaining tasks if possible and warn\u001b[39;00m\n\u001b[0;32m   1655\u001b[0m     \u001b[38;5;66;03m# the user if necessary.\u001b[39;00m\n\u001b[0;32m   1656\u001b[0m     \u001b[38;5;28mself\u001b[39m\u001b[38;5;241m.\u001b[39m_exception \u001b[38;5;241m=\u001b[39m \u001b[38;5;28;01mTrue\u001b[39;00m\n",
      "File \u001b[1;32m~\\anaconda3\\envs\\torch\\Lib\\site-packages\\joblib\\parallel.py:1762\u001b[0m, in \u001b[0;36mParallel._retrieve\u001b[1;34m(self)\u001b[0m\n\u001b[0;32m   1757\u001b[0m \u001b[38;5;66;03m# If the next job is not ready for retrieval yet, we just wait for\u001b[39;00m\n\u001b[0;32m   1758\u001b[0m \u001b[38;5;66;03m# async callbacks to progress.\u001b[39;00m\n\u001b[0;32m   1759\u001b[0m \u001b[38;5;28;01mif\u001b[39;00m ((\u001b[38;5;28mlen\u001b[39m(\u001b[38;5;28mself\u001b[39m\u001b[38;5;241m.\u001b[39m_jobs) \u001b[38;5;241m==\u001b[39m \u001b[38;5;241m0\u001b[39m) \u001b[38;5;129;01mor\u001b[39;00m\n\u001b[0;32m   1760\u001b[0m     (\u001b[38;5;28mself\u001b[39m\u001b[38;5;241m.\u001b[39m_jobs[\u001b[38;5;241m0\u001b[39m]\u001b[38;5;241m.\u001b[39mget_status(\n\u001b[0;32m   1761\u001b[0m         timeout\u001b[38;5;241m=\u001b[39m\u001b[38;5;28mself\u001b[39m\u001b[38;5;241m.\u001b[39mtimeout) \u001b[38;5;241m==\u001b[39m TASK_PENDING)):\n\u001b[1;32m-> 1762\u001b[0m     time\u001b[38;5;241m.\u001b[39msleep(\u001b[38;5;241m0.01\u001b[39m)\n\u001b[0;32m   1763\u001b[0m     \u001b[38;5;28;01mcontinue\u001b[39;00m\n\u001b[0;32m   1765\u001b[0m \u001b[38;5;66;03m# We need to be careful: the job list can be filling up as\u001b[39;00m\n\u001b[0;32m   1766\u001b[0m \u001b[38;5;66;03m# we empty it and Python list are not thread-safe by\u001b[39;00m\n\u001b[0;32m   1767\u001b[0m \u001b[38;5;66;03m# default hence the use of the lock\u001b[39;00m\n",
      "\u001b[1;31mKeyboardInterrupt\u001b[0m: "
     ]
    }
   ],
   "source": [
    "from utils.utils import set_seed\n",
    "set_seed()\n",
    "n_correct = 0\n",
    "method2_correct=0\n",
    "total_checked = 0\n",
    "for i, row in enumerate(cats_rows_list):\n",
    "    total_checked +=1 \n",
    "    print('Model: '+ str(i))\n",
    "    anomaly = eval(row['affected'])[0]\n",
    "    print('Anomaly: ' + anomaly)\n",
    "    anomaly_time = datetime.strptime(row['start_time'],\"%Y-%m-%d %H:%M:%S\")\n",
    "    #start_time = datetime.strptime(row['start_time'],\"%Y-%m-%d %H:%M:%S\")\n",
    "    end_time = datetime.strptime(row['end_time'],\"%Y-%m-%d %H:%M:%S\")\n",
    "    root_cause = row['root_cause']\n",
    "    mod_df = test_df[(test_df.index>= anomaly_time) & (test_df.index<= end_time)]\n",
    "    mod_df = mod_df[['aimp', 'amud', 'arnd', 'asin1', 'asin2', 'adbr', 'adfl', 'bed1',\n",
    "       'bed2', 'bfo1', 'bfo2', 'bso1', 'bso2', 'bso3', 'ced1', 'cfo1', 'cso1']]\n",
    "    num_nodes = len(mod_df.columns)\n",
    "\n",
    "    start_len = mod_df.shape[0]\n",
    "    if start_len >1000:\n",
    "        start_len = 1000\n",
    "\n",
    "    start_time = anomaly_time- timedelta(seconds=start_len)\n",
    "\n",
    "    normal_df = test_df[(test_df.index>= start_time) & (test_df.index< anomaly_time)]\n",
    "\n",
    "    sample_data = TKGNGCDataProcessor(mod_df,device,num_timestamps=20, lags=1)\n",
    "    model_data = create_granger_gat_data(pretrained_tkg,sample_data)\n",
    "    model_data.retrain_tkg()\n",
    "    features = model_data.time_series_data\n",
    "    model_name = 'model_category_'+str(row['category'])\n",
    "    \"\"\"model = CausalGraphVAE(input_dim=num_nodes, hidden_dim=128,\n",
    "                   latent_dim=16, \n",
    "                   num_nodes=num_nodes, \n",
    "                   embed_dim=17,\n",
    "                   prior_adj_matrix=A0.to(torch.float))\"\"\"\n",
    "    model = CausalGraphVAE(input_dim=num_nodes, hidden_dim=128,\n",
    "                   latent_dim=16, \n",
    "                   num_nodes=num_nodes, \n",
    "                   embed_dim=17,\n",
    "                   prior_adj_matrix=A0.to(torch.float))\n",
    "    optimizer = torch.optim.Adam(model.parameters(), lr=0.01)\n",
    "    data = create_lagged_features(features, 3, pad_value=0)\n",
    "    ee = create_lagged_features(model_data.entity_emb, 3, pad_value=0)\n",
    "    tt = create_lagged_features(model_data.timestamp_emb, 3, pad_value=0)\n",
    "        \n",
    "    dataset = TimeSeriesDataset(data, ee, tt)\n",
    "    dataloader = DataLoader(dataset,batch_size = BATCH_SIZE, shuffle=False)\n",
    "    loss = train_causal_vae(model, optimizer, dataloader, A0, num_epochs=1000)\n",
    "\n",
    "    model.eval()\n",
    "    with torch.no_grad():\n",
    "        _, _, _, learned_adj_matrix = model(data,ee,tt, num_nodes=num_nodes)\n",
    "        causal_graph = learned_adj_matrix.cpu().numpy()\n",
    "\n",
    "\n",
    "    adj_data = pd.DataFrame(causal_graph,index=cols,columns=cols)\n",
    "    candidates = adj_data[anomaly].sort_values(ascending=False)\n",
    "    candidates = candidates[candidates.index.isin( potential_causes)]\n",
    "    #A0 = learned_adj_matrix\n",
    "    #try:\n",
    "        \n",
    "    ci = causal_inference(causal_graph, mod_df, normal_df,potential_causes)\n",
    "    ci.infer_causal_path(anomaly)  \n",
    "\n",
    "    if len(ci.causal_factors) >= 3:\n",
    "        potential_cause1 = ci.causal_factors[0][0]\n",
    "        potential_cause2 = ci.causal_factors[1][0]\n",
    "        potential_cause3 = ci.causal_factors[2][0]\n",
    "\n",
    "    elif len(ci.causal_factors) == 2:\n",
    "        potential_cause1 = ci.causal_factors[0][0]\n",
    "        potential_cause2 = ci.causal_factors[1][0]\n",
    "        potential_cause3 = 'NA'\n",
    "    elif len(ci.causal_factors) == 1:\n",
    "        potential_cause1 = ci.causal_factors[0][0]\n",
    "        potential_cause2 = \"NA\"\n",
    "        potential_cause3 = 'NA'\n",
    "    else:\n",
    "        potential_cause1 = candidates.index[0]\n",
    "        potential_cause2 = candidates.index[1]\n",
    "        potential_cause3 = candidates.index[2]\n",
    "\n",
    "    if len(ci.causal_effects) >= 3:\n",
    "        causal_effet1 = ci.causal_effects[0][0]\n",
    "        causal_effet2 = ci.causal_effects[1][0]\n",
    "        causal_effet3 = ci.causal_effects[2][0]\n",
    "    elif len(ci.causal_effects) == 2:\n",
    "        causal_effet1 = ci.causal_effects[0][0]\n",
    "        causal_effet2 = ci.causal_effects[1][0]\n",
    "        causal_effet3 = 'NA'\n",
    "    elif len(ci.causal_effects) == 1:\n",
    "        causal_effet1 = ci.causal_effects[0][0]\n",
    "        causal_effet2 = 'NA'\n",
    "        causal_effet3 = 'NA'\n",
    "    else:\n",
    "        potential_cause1 = candidates.index[0]\n",
    "        potential_cause2 = candidates.index[1]\n",
    "        potential_cause3 = candidates.index[2]\n",
    "\n",
    "    \"\"\"except:\n",
    "        potential_cause1 = candidates.index[0]\n",
    "        potential_cause2 = candidates.index[1]\n",
    "        potential_cause3 = candidates.index[2]\n",
    "        causal_effet1 = candidates.index[0]\n",
    "        causal_effet2 = candidates.index[1]\n",
    "        causal_effet3 = candidates.index[2]\"\"\"\n",
    "\n",
    "   \n",
    "    if root_cause in [potential_cause1,potential_cause2,potential_cause3]:\n",
    "        n_correct+=1\n",
    "\n",
    "    if root_cause in [causal_effet1,causal_effet2,causal_effet3]:\n",
    "        method2_correct+=1\n",
    "\n",
    "    if root_cause == potential_cause1:\n",
    "        row['cause_1'] = 1\n",
    "    if root_cause == potential_cause2:\n",
    "        row['cause_2'] = 1\n",
    "    if root_cause == potential_cause3:\n",
    "        row['cause_3'] = 1\n",
    "    new_metadata.append(row)\n",
    "    if root_cause in [potential_cause1 , potential_cause2 , potential_cause3]:\n",
    "        print('ROOT CAUSE FOUND!')\n",
    "    print(root_cause + '-->' + potential_cause1 + ' | ' + potential_cause2 + ' | ' + potential_cause3)\n",
    "    print(root_cause + '-->' + causal_effet1 + ' | ' + causal_effet2 + ' | ' + causal_effet3)\n",
    "\n",
    "    print(\"Model Accuracy Method 1: \" + str(round( (n_correct/total_checked)*100,2)) + '%' )\n",
    "    print(\"Model Accuracy Method 2: \" + str(round( (method2_correct/total_checked)*100,2)) + '%' )\n",
    "    \n",
    "    print('--------------------------------------------------------------------------------------------------------------------------------')\n",
    "\n",
    "\n"
   ]
  },
  {
   "cell_type": "code",
   "execution_count": null,
   "id": "ed5a3048-0557-4a45-8592-4b80e2134083",
   "metadata": {},
   "outputs": [],
   "source": []
  },
  {
   "cell_type": "code",
   "execution_count": null,
   "id": "6e28c6ec-022b-414c-a63a-97be36f9395f",
   "metadata": {},
   "outputs": [],
   "source": []
  },
  {
   "cell_type": "code",
   "execution_count": null,
   "id": "98961048-e609-4060-9388-49575992c96e",
   "metadata": {},
   "outputs": [],
   "source": []
  }
 ],
 "metadata": {
  "kernelspec": {
   "display_name": "Python 3 (ipykernel)",
   "language": "python",
   "name": "python3"
  },
  "language_info": {
   "codemirror_mode": {
    "name": "ipython",
    "version": 3
   },
   "file_extension": ".py",
   "mimetype": "text/x-python",
   "name": "python",
   "nbconvert_exporter": "python",
   "pygments_lexer": "ipython3",
   "version": "3.12.7"
  }
 },
 "nbformat": 4,
 "nbformat_minor": 5
}
