{
 "cells": [
  {
   "cell_type": "code",
   "execution_count": 1,
   "id": "a97d3321-4427-4837-8269-048dc64686f7",
   "metadata": {},
   "outputs": [],
   "source": [
    "import os\n",
    "import torch\n",
    "import polars as pl\n",
    "import pandas as pd\n",
    "import numpy as np\n",
    "import seaborn as sns\n",
    "import warnings\n",
    "from feature_eng.scalers import ranged_scaler\n",
    "from datetime import datetime, timedelta\n",
    "#from mpge.rca import mpge_root_cause_diagnosis\n",
    "warnings.filterwarnings(\"ignore\", category=UserWarning) \n",
    "warnings.simplefilter(action='ignore', category=FutureWarning)\n",
    "pd.options.mode.chained_assignment = None\n",
    "\n",
    "import warnings\n",
    "\n",
    "def fxn():\n",
    "    warnings.warn(\"deprecated\", DeprecationWarning)\n",
    "\n",
    "with warnings.catch_warnings():\n",
    "    warnings.simplefilter(\"ignore\")\n",
    "    fxn()\n",
    "\n",
    "# Or if you are using > Python 3.11:\n",
    "with warnings.catch_warnings(action=\"ignore\"):\n",
    "    fxn()"
   ]
  },
  {
   "cell_type": "code",
   "execution_count": 2,
   "id": "68ef600a-406e-456a-98ac-8388b03ccc8e",
   "metadata": {},
   "outputs": [],
   "source": [
    "os.environ[\"CUBLAS_WORKSPACE_CONFIG\"] = \":4096:8\"\n",
    "os.environ[\"CUDA_LAUNCH_BLOCKING\"] = \"1\"\n"
   ]
  },
  {
   "cell_type": "code",
   "execution_count": 3,
   "id": "ec413833-9dbd-45bb-99a1-18e31bd014fb",
   "metadata": {},
   "outputs": [],
   "source": [
    "from tkgngc.embeddings import PretrainedTKGEmbeddingWithTimestamps\n",
    "from tkgngc.data_processing import TKGNGCDataProcessor\n",
    "from tkgngc.model import train_model"
   ]
  },
  {
   "cell_type": "code",
   "execution_count": 4,
   "id": "6981e0a1-e1c0-409d-ab6a-cf7d34bf1793",
   "metadata": {},
   "outputs": [],
   "source": [
    "cats_df = pl.read_csv(\"data/data.csv\", separator=\",\")  \n",
    "metadata = pl.read_csv('data/metadata.csv',separator=',')\n",
    "potential_causes = metadata['root_cause'].unique().to_list()\n",
    "\n",
    "for col in cats_df.columns:\n",
    "    unique_vals = cats_df[col].n_unique()\n",
    "    data_type = cats_df[col].dtype\n",
    "    bad_dtypes = [pl.Date,pl.Datetime,pl.Utf8]\n",
    "    if ((unique_vals >= 50) & (data_type not in bad_dtypes) ):\n",
    "        cats_df = cats_df.with_columns(ranged_scaler(cats_df[col]))\n",
    "    else:\n",
    "        continue"
   ]
  },
  {
   "cell_type": "code",
   "execution_count": 5,
   "id": "df0f5a4d-1cf3-4a87-a3fb-751607296c58",
   "metadata": {},
   "outputs": [],
   "source": [
    "cats_df = cats_df.with_columns(\n",
    "    pl.col('timestamp').str.to_datetime(\"%Y-%m-%d %H:%M:%S\"),\n",
    "    pl.Series(\"entity_id\",range(len(cats_df)))\n",
    ")"
   ]
  },
  {
   "cell_type": "code",
   "execution_count": 6,
   "id": "48b9af15-9315-41d4-86fe-907430746a4a",
   "metadata": {},
   "outputs": [
    {
     "data": {
      "text/html": [
       "<div><style>\n",
       ".dataframe > thead > tr,\n",
       ".dataframe > tbody > tr {\n",
       "  text-align: right;\n",
       "  white-space: pre-wrap;\n",
       "}\n",
       "</style>\n",
       "<small>shape: (5, 21)</small><table border=\"1\" class=\"dataframe\"><thead><tr><th>timestamp</th><th>aimp</th><th>amud</th><th>arnd</th><th>asin1</th><th>asin2</th><th>adbr</th><th>adfl</th><th>bed1</th><th>bed2</th><th>bfo1</th><th>bfo2</th><th>bso1</th><th>bso2</th><th>bso3</th><th>ced1</th><th>cfo1</th><th>cso1</th><th>y</th><th>category</th><th>entity_id</th></tr><tr><td>datetime[μs]</td><td>f64</td><td>f64</td><td>f64</td><td>f64</td><td>f64</td><td>f64</td><td>f64</td><td>f64</td><td>f64</td><td>f64</td><td>f64</td><td>f64</td><td>f64</td><td>f64</td><td>f64</td><td>f64</td><td>f64</td><td>f64</td><td>f64</td><td>i64</td></tr></thead><tbody><tr><td>2023-01-01 00:00:00</td><td>0.0</td><td>0.571429</td><td>0.25</td><td>0.5</td><td>0.5</td><td>0.0</td><td>0.0</td><td>0.33599</td><td>0.315382</td><td>0.130919</td><td>0.116409</td><td>0.409726</td><td>0.246024</td><td>0.14197</td><td>0.112819</td><td>0.550194</td><td>0.406688</td><td>0.0</td><td>0.0</td><td>0</td></tr><tr><td>2023-01-01 00:00:01</td><td>0.0</td><td>0.571429</td><td>0.252001</td><td>0.50001</td><td>0.5001</td><td>0.0</td><td>0.0</td><td>0.33599</td><td>0.315382</td><td>0.130919</td><td>0.116409</td><td>0.40973</td><td>0.246024</td><td>0.14197</td><td>0.112819</td><td>0.550194</td><td>0.406691</td><td>0.0</td><td>0.0</td><td>1</td></tr><tr><td>2023-01-01 00:00:02</td><td>0.0</td><td>0.571429</td><td>0.256914</td><td>0.50002</td><td>0.5002</td><td>0.0</td><td>0.0</td><td>0.33599</td><td>0.315382</td><td>0.130919</td><td>0.116409</td><td>0.409741</td><td>0.246024</td><td>0.14197</td><td>0.112819</td><td>0.550195</td><td>0.406698</td><td>0.0</td><td>0.0</td><td>2</td></tr><tr><td>2023-01-01 00:00:03</td><td>0.0</td><td>0.571429</td><td>0.268273</td><td>0.50003</td><td>0.5003</td><td>0.0</td><td>0.0</td><td>0.33599</td><td>0.315382</td><td>0.130919</td><td>0.116409</td><td>0.409758</td><td>0.246024</td><td>0.14197</td><td>0.112819</td><td>0.550195</td><td>0.40671</td><td>0.0</td><td>0.0</td><td>3</td></tr><tr><td>2023-01-01 00:00:04</td><td>0.0</td><td>0.571429</td><td>0.277953</td><td>0.50004</td><td>0.5004</td><td>0.0</td><td>0.0</td><td>0.33599</td><td>0.315382</td><td>0.130919</td><td>0.116409</td><td>0.409782</td><td>0.246024</td><td>0.14197</td><td>0.112819</td><td>0.550197</td><td>0.406726</td><td>0.0</td><td>0.0</td><td>4</td></tr></tbody></table></div>"
      ],
      "text/plain": [
       "shape: (5, 21)\n",
       "┌─────────────────────┬──────┬──────────┬──────────┬───┬──────────┬─────┬──────────┬───────────┐\n",
       "│ timestamp           ┆ aimp ┆ amud     ┆ arnd     ┆ … ┆ cso1     ┆ y   ┆ category ┆ entity_id │\n",
       "│ ---                 ┆ ---  ┆ ---      ┆ ---      ┆   ┆ ---      ┆ --- ┆ ---      ┆ ---       │\n",
       "│ datetime[μs]        ┆ f64  ┆ f64      ┆ f64      ┆   ┆ f64      ┆ f64 ┆ f64      ┆ i64       │\n",
       "╞═════════════════════╪══════╪══════════╪══════════╪═══╪══════════╪═════╪══════════╪═══════════╡\n",
       "│ 2023-01-01 00:00:00 ┆ 0.0  ┆ 0.571429 ┆ 0.25     ┆ … ┆ 0.406688 ┆ 0.0 ┆ 0.0      ┆ 0         │\n",
       "│ 2023-01-01 00:00:01 ┆ 0.0  ┆ 0.571429 ┆ 0.252001 ┆ … ┆ 0.406691 ┆ 0.0 ┆ 0.0      ┆ 1         │\n",
       "│ 2023-01-01 00:00:02 ┆ 0.0  ┆ 0.571429 ┆ 0.256914 ┆ … ┆ 0.406698 ┆ 0.0 ┆ 0.0      ┆ 2         │\n",
       "│ 2023-01-01 00:00:03 ┆ 0.0  ┆ 0.571429 ┆ 0.268273 ┆ … ┆ 0.40671  ┆ 0.0 ┆ 0.0      ┆ 3         │\n",
       "│ 2023-01-01 00:00:04 ┆ 0.0  ┆ 0.571429 ┆ 0.277953 ┆ … ┆ 0.406726 ┆ 0.0 ┆ 0.0      ┆ 4         │\n",
       "└─────────────────────┴──────┴──────────┴──────────┴───┴──────────┴─────┴──────────┴───────────┘"
      ]
     },
     "execution_count": 6,
     "metadata": {},
     "output_type": "execute_result"
    }
   ],
   "source": [
    "cats_rows_list = metadata.rows(named=True)\n",
    "cats_df.head()"
   ]
  },
  {
   "cell_type": "code",
   "execution_count": 7,
   "id": "b6b4cd0e-cacc-4d93-b0e9-a0cdca28b157",
   "metadata": {},
   "outputs": [],
   "source": [
    "cats_df = cats_df.to_pandas()"
   ]
  },
  {
   "cell_type": "code",
   "execution_count": 8,
   "id": "dc297da3-97f8-4077-898e-cc23b8c2e24a",
   "metadata": {},
   "outputs": [],
   "source": [
    "potential_causes = metadata['root_cause'].unique().to_list()"
   ]
  },
  {
   "cell_type": "code",
   "execution_count": 9,
   "id": "e8be12f8-8ca1-49a7-81aa-5e05325023a5",
   "metadata": {},
   "outputs": [
    {
     "data": {
      "text/html": [
       "<div>\n",
       "<style scoped>\n",
       "    .dataframe tbody tr th:only-of-type {\n",
       "        vertical-align: middle;\n",
       "    }\n",
       "\n",
       "    .dataframe tbody tr th {\n",
       "        vertical-align: top;\n",
       "    }\n",
       "\n",
       "    .dataframe thead th {\n",
       "        text-align: right;\n",
       "    }\n",
       "</style>\n",
       "<table border=\"1\" class=\"dataframe\">\n",
       "  <thead>\n",
       "    <tr style=\"text-align: right;\">\n",
       "      <th></th>\n",
       "      <th>aimp</th>\n",
       "      <th>amud</th>\n",
       "      <th>arnd</th>\n",
       "      <th>asin1</th>\n",
       "      <th>asin2</th>\n",
       "      <th>adbr</th>\n",
       "      <th>adfl</th>\n",
       "      <th>bed1</th>\n",
       "      <th>bed2</th>\n",
       "      <th>bfo1</th>\n",
       "      <th>bfo2</th>\n",
       "      <th>bso1</th>\n",
       "      <th>bso2</th>\n",
       "      <th>bso3</th>\n",
       "      <th>ced1</th>\n",
       "      <th>cfo1</th>\n",
       "      <th>cso1</th>\n",
       "    </tr>\n",
       "    <tr>\n",
       "      <th>timestamp</th>\n",
       "      <th></th>\n",
       "      <th></th>\n",
       "      <th></th>\n",
       "      <th></th>\n",
       "      <th></th>\n",
       "      <th></th>\n",
       "      <th></th>\n",
       "      <th></th>\n",
       "      <th></th>\n",
       "      <th></th>\n",
       "      <th></th>\n",
       "      <th></th>\n",
       "      <th></th>\n",
       "      <th></th>\n",
       "      <th></th>\n",
       "      <th></th>\n",
       "      <th></th>\n",
       "    </tr>\n",
       "  </thead>\n",
       "  <tbody>\n",
       "    <tr>\n",
       "      <th>2023-01-01 00:00:00</th>\n",
       "      <td>0.0</td>\n",
       "      <td>0.571429</td>\n",
       "      <td>0.250000</td>\n",
       "      <td>0.50000</td>\n",
       "      <td>0.5000</td>\n",
       "      <td>0.0</td>\n",
       "      <td>0.0</td>\n",
       "      <td>0.33599</td>\n",
       "      <td>0.315382</td>\n",
       "      <td>0.130919</td>\n",
       "      <td>0.116409</td>\n",
       "      <td>0.409726</td>\n",
       "      <td>0.246024</td>\n",
       "      <td>0.14197</td>\n",
       "      <td>0.112819</td>\n",
       "      <td>0.550194</td>\n",
       "      <td>0.406688</td>\n",
       "    </tr>\n",
       "    <tr>\n",
       "      <th>2023-01-01 00:00:01</th>\n",
       "      <td>0.0</td>\n",
       "      <td>0.571429</td>\n",
       "      <td>0.252001</td>\n",
       "      <td>0.50001</td>\n",
       "      <td>0.5001</td>\n",
       "      <td>0.0</td>\n",
       "      <td>0.0</td>\n",
       "      <td>0.33599</td>\n",
       "      <td>0.315382</td>\n",
       "      <td>0.130919</td>\n",
       "      <td>0.116409</td>\n",
       "      <td>0.409730</td>\n",
       "      <td>0.246024</td>\n",
       "      <td>0.14197</td>\n",
       "      <td>0.112819</td>\n",
       "      <td>0.550194</td>\n",
       "      <td>0.406691</td>\n",
       "    </tr>\n",
       "    <tr>\n",
       "      <th>2023-01-01 00:00:02</th>\n",
       "      <td>0.0</td>\n",
       "      <td>0.571429</td>\n",
       "      <td>0.256914</td>\n",
       "      <td>0.50002</td>\n",
       "      <td>0.5002</td>\n",
       "      <td>0.0</td>\n",
       "      <td>0.0</td>\n",
       "      <td>0.33599</td>\n",
       "      <td>0.315382</td>\n",
       "      <td>0.130919</td>\n",
       "      <td>0.116409</td>\n",
       "      <td>0.409741</td>\n",
       "      <td>0.246024</td>\n",
       "      <td>0.14197</td>\n",
       "      <td>0.112819</td>\n",
       "      <td>0.550195</td>\n",
       "      <td>0.406698</td>\n",
       "    </tr>\n",
       "    <tr>\n",
       "      <th>2023-01-01 00:00:03</th>\n",
       "      <td>0.0</td>\n",
       "      <td>0.571429</td>\n",
       "      <td>0.268273</td>\n",
       "      <td>0.50003</td>\n",
       "      <td>0.5003</td>\n",
       "      <td>0.0</td>\n",
       "      <td>0.0</td>\n",
       "      <td>0.33599</td>\n",
       "      <td>0.315382</td>\n",
       "      <td>0.130919</td>\n",
       "      <td>0.116409</td>\n",
       "      <td>0.409758</td>\n",
       "      <td>0.246024</td>\n",
       "      <td>0.14197</td>\n",
       "      <td>0.112819</td>\n",
       "      <td>0.550195</td>\n",
       "      <td>0.406710</td>\n",
       "    </tr>\n",
       "    <tr>\n",
       "      <th>2023-01-01 00:00:04</th>\n",
       "      <td>0.0</td>\n",
       "      <td>0.571429</td>\n",
       "      <td>0.277953</td>\n",
       "      <td>0.50004</td>\n",
       "      <td>0.5004</td>\n",
       "      <td>0.0</td>\n",
       "      <td>0.0</td>\n",
       "      <td>0.33599</td>\n",
       "      <td>0.315382</td>\n",
       "      <td>0.130919</td>\n",
       "      <td>0.116409</td>\n",
       "      <td>0.409782</td>\n",
       "      <td>0.246024</td>\n",
       "      <td>0.14197</td>\n",
       "      <td>0.112819</td>\n",
       "      <td>0.550197</td>\n",
       "      <td>0.406726</td>\n",
       "    </tr>\n",
       "  </tbody>\n",
       "</table>\n",
       "</div>"
      ],
      "text/plain": [
       "                     aimp      amud      arnd    asin1   asin2  adbr  adfl  \\\n",
       "timestamp                                                                    \n",
       "2023-01-01 00:00:00   0.0  0.571429  0.250000  0.50000  0.5000   0.0   0.0   \n",
       "2023-01-01 00:00:01   0.0  0.571429  0.252001  0.50001  0.5001   0.0   0.0   \n",
       "2023-01-01 00:00:02   0.0  0.571429  0.256914  0.50002  0.5002   0.0   0.0   \n",
       "2023-01-01 00:00:03   0.0  0.571429  0.268273  0.50003  0.5003   0.0   0.0   \n",
       "2023-01-01 00:00:04   0.0  0.571429  0.277953  0.50004  0.5004   0.0   0.0   \n",
       "\n",
       "                        bed1      bed2      bfo1      bfo2      bso1  \\\n",
       "timestamp                                                              \n",
       "2023-01-01 00:00:00  0.33599  0.315382  0.130919  0.116409  0.409726   \n",
       "2023-01-01 00:00:01  0.33599  0.315382  0.130919  0.116409  0.409730   \n",
       "2023-01-01 00:00:02  0.33599  0.315382  0.130919  0.116409  0.409741   \n",
       "2023-01-01 00:00:03  0.33599  0.315382  0.130919  0.116409  0.409758   \n",
       "2023-01-01 00:00:04  0.33599  0.315382  0.130919  0.116409  0.409782   \n",
       "\n",
       "                         bso2     bso3      ced1      cfo1      cso1  \n",
       "timestamp                                                             \n",
       "2023-01-01 00:00:00  0.246024  0.14197  0.112819  0.550194  0.406688  \n",
       "2023-01-01 00:00:01  0.246024  0.14197  0.112819  0.550194  0.406691  \n",
       "2023-01-01 00:00:02  0.246024  0.14197  0.112819  0.550195  0.406698  \n",
       "2023-01-01 00:00:03  0.246024  0.14197  0.112819  0.550195  0.406710  \n",
       "2023-01-01 00:00:04  0.246024  0.14197  0.112819  0.550197  0.406726  "
      ]
     },
     "execution_count": 9,
     "metadata": {},
     "output_type": "execute_result"
    }
   ],
   "source": [
    "cats_df=cats_df.set_index('timestamp')\n",
    "cats_df = cats_df.drop(['y','category','entity_id'],axis=1)\n",
    "cats_df.head()\n"
   ]
  },
  {
   "cell_type": "code",
   "execution_count": 10,
   "id": "f6b15ba7-0bab-44e8-95aa-c6b534da9748",
   "metadata": {},
   "outputs": [],
   "source": [
    "train_df = cats_df[0:1000000]\n",
    "test_df = cats_df[1000000:]"
   ]
  },
  {
   "cell_type": "code",
   "execution_count": 11,
   "id": "7bda4165-aa93-46ec-909c-19fb14248df3",
   "metadata": {},
   "outputs": [
    {
     "data": {
      "text/html": [
       "<div>\n",
       "<style scoped>\n",
       "    .dataframe tbody tr th:only-of-type {\n",
       "        vertical-align: middle;\n",
       "    }\n",
       "\n",
       "    .dataframe tbody tr th {\n",
       "        vertical-align: top;\n",
       "    }\n",
       "\n",
       "    .dataframe thead th {\n",
       "        text-align: right;\n",
       "    }\n",
       "</style>\n",
       "<table border=\"1\" class=\"dataframe\">\n",
       "  <thead>\n",
       "    <tr style=\"text-align: right;\">\n",
       "      <th></th>\n",
       "      <th>aimp</th>\n",
       "      <th>amud</th>\n",
       "      <th>arnd</th>\n",
       "      <th>asin1</th>\n",
       "      <th>asin2</th>\n",
       "      <th>adbr</th>\n",
       "      <th>adfl</th>\n",
       "      <th>bed1</th>\n",
       "      <th>bed2</th>\n",
       "      <th>bfo1</th>\n",
       "      <th>bfo2</th>\n",
       "      <th>bso1</th>\n",
       "      <th>bso2</th>\n",
       "      <th>bso3</th>\n",
       "      <th>ced1</th>\n",
       "      <th>cfo1</th>\n",
       "      <th>cso1</th>\n",
       "    </tr>\n",
       "    <tr>\n",
       "      <th>timestamp</th>\n",
       "      <th></th>\n",
       "      <th></th>\n",
       "      <th></th>\n",
       "      <th></th>\n",
       "      <th></th>\n",
       "      <th></th>\n",
       "      <th></th>\n",
       "      <th></th>\n",
       "      <th></th>\n",
       "      <th></th>\n",
       "      <th></th>\n",
       "      <th></th>\n",
       "      <th></th>\n",
       "      <th></th>\n",
       "      <th></th>\n",
       "      <th></th>\n",
       "      <th></th>\n",
       "    </tr>\n",
       "  </thead>\n",
       "  <tbody>\n",
       "    <tr>\n",
       "      <th>2023-01-01 00:00:00</th>\n",
       "      <td>0.0</td>\n",
       "      <td>0.571429</td>\n",
       "      <td>0.250000</td>\n",
       "      <td>0.50000</td>\n",
       "      <td>0.5000</td>\n",
       "      <td>0.0</td>\n",
       "      <td>0.0</td>\n",
       "      <td>0.33599</td>\n",
       "      <td>0.315382</td>\n",
       "      <td>0.130919</td>\n",
       "      <td>0.116409</td>\n",
       "      <td>0.409726</td>\n",
       "      <td>0.246024</td>\n",
       "      <td>0.14197</td>\n",
       "      <td>0.112819</td>\n",
       "      <td>0.550194</td>\n",
       "      <td>0.406688</td>\n",
       "    </tr>\n",
       "    <tr>\n",
       "      <th>2023-01-01 00:00:01</th>\n",
       "      <td>0.0</td>\n",
       "      <td>0.571429</td>\n",
       "      <td>0.252001</td>\n",
       "      <td>0.50001</td>\n",
       "      <td>0.5001</td>\n",
       "      <td>0.0</td>\n",
       "      <td>0.0</td>\n",
       "      <td>0.33599</td>\n",
       "      <td>0.315382</td>\n",
       "      <td>0.130919</td>\n",
       "      <td>0.116409</td>\n",
       "      <td>0.409730</td>\n",
       "      <td>0.246024</td>\n",
       "      <td>0.14197</td>\n",
       "      <td>0.112819</td>\n",
       "      <td>0.550194</td>\n",
       "      <td>0.406691</td>\n",
       "    </tr>\n",
       "    <tr>\n",
       "      <th>2023-01-01 00:00:02</th>\n",
       "      <td>0.0</td>\n",
       "      <td>0.571429</td>\n",
       "      <td>0.256914</td>\n",
       "      <td>0.50002</td>\n",
       "      <td>0.5002</td>\n",
       "      <td>0.0</td>\n",
       "      <td>0.0</td>\n",
       "      <td>0.33599</td>\n",
       "      <td>0.315382</td>\n",
       "      <td>0.130919</td>\n",
       "      <td>0.116409</td>\n",
       "      <td>0.409741</td>\n",
       "      <td>0.246024</td>\n",
       "      <td>0.14197</td>\n",
       "      <td>0.112819</td>\n",
       "      <td>0.550195</td>\n",
       "      <td>0.406698</td>\n",
       "    </tr>\n",
       "    <tr>\n",
       "      <th>2023-01-01 00:00:03</th>\n",
       "      <td>0.0</td>\n",
       "      <td>0.571429</td>\n",
       "      <td>0.268273</td>\n",
       "      <td>0.50003</td>\n",
       "      <td>0.5003</td>\n",
       "      <td>0.0</td>\n",
       "      <td>0.0</td>\n",
       "      <td>0.33599</td>\n",
       "      <td>0.315382</td>\n",
       "      <td>0.130919</td>\n",
       "      <td>0.116409</td>\n",
       "      <td>0.409758</td>\n",
       "      <td>0.246024</td>\n",
       "      <td>0.14197</td>\n",
       "      <td>0.112819</td>\n",
       "      <td>0.550195</td>\n",
       "      <td>0.406710</td>\n",
       "    </tr>\n",
       "    <tr>\n",
       "      <th>2023-01-01 00:00:04</th>\n",
       "      <td>0.0</td>\n",
       "      <td>0.571429</td>\n",
       "      <td>0.277953</td>\n",
       "      <td>0.50004</td>\n",
       "      <td>0.5004</td>\n",
       "      <td>0.0</td>\n",
       "      <td>0.0</td>\n",
       "      <td>0.33599</td>\n",
       "      <td>0.315382</td>\n",
       "      <td>0.130919</td>\n",
       "      <td>0.116409</td>\n",
       "      <td>0.409782</td>\n",
       "      <td>0.246024</td>\n",
       "      <td>0.14197</td>\n",
       "      <td>0.112819</td>\n",
       "      <td>0.550197</td>\n",
       "      <td>0.406726</td>\n",
       "    </tr>\n",
       "  </tbody>\n",
       "</table>\n",
       "</div>"
      ],
      "text/plain": [
       "                     aimp      amud      arnd    asin1   asin2  adbr  adfl  \\\n",
       "timestamp                                                                    \n",
       "2023-01-01 00:00:00   0.0  0.571429  0.250000  0.50000  0.5000   0.0   0.0   \n",
       "2023-01-01 00:00:01   0.0  0.571429  0.252001  0.50001  0.5001   0.0   0.0   \n",
       "2023-01-01 00:00:02   0.0  0.571429  0.256914  0.50002  0.5002   0.0   0.0   \n",
       "2023-01-01 00:00:03   0.0  0.571429  0.268273  0.50003  0.5003   0.0   0.0   \n",
       "2023-01-01 00:00:04   0.0  0.571429  0.277953  0.50004  0.5004   0.0   0.0   \n",
       "\n",
       "                        bed1      bed2      bfo1      bfo2      bso1  \\\n",
       "timestamp                                                              \n",
       "2023-01-01 00:00:00  0.33599  0.315382  0.130919  0.116409  0.409726   \n",
       "2023-01-01 00:00:01  0.33599  0.315382  0.130919  0.116409  0.409730   \n",
       "2023-01-01 00:00:02  0.33599  0.315382  0.130919  0.116409  0.409741   \n",
       "2023-01-01 00:00:03  0.33599  0.315382  0.130919  0.116409  0.409758   \n",
       "2023-01-01 00:00:04  0.33599  0.315382  0.130919  0.116409  0.409782   \n",
       "\n",
       "                         bso2     bso3      ced1      cfo1      cso1  \n",
       "timestamp                                                             \n",
       "2023-01-01 00:00:00  0.246024  0.14197  0.112819  0.550194  0.406688  \n",
       "2023-01-01 00:00:01  0.246024  0.14197  0.112819  0.550194  0.406691  \n",
       "2023-01-01 00:00:02  0.246024  0.14197  0.112819  0.550195  0.406698  \n",
       "2023-01-01 00:00:03  0.246024  0.14197  0.112819  0.550195  0.406710  \n",
       "2023-01-01 00:00:04  0.246024  0.14197  0.112819  0.550197  0.406726  "
      ]
     },
     "execution_count": 11,
     "metadata": {},
     "output_type": "execute_result"
    }
   ],
   "source": [
    "train_df.head()"
   ]
  },
  {
   "cell_type": "code",
   "execution_count": 12,
   "id": "af75df75-c4c5-47d3-8f48-748b82fc6160",
   "metadata": {},
   "outputs": [],
   "source": [
    "device = torch.device(\"cuda\" if torch.cuda.is_available() else \"cpu\")\n",
    "#device = torch.device(\"cpu\")\n"
   ]
  },
  {
   "cell_type": "code",
   "execution_count": 13,
   "id": "22ef7544-f092-4051-9ee2-f0894d2a42c5",
   "metadata": {},
   "outputs": [
    {
     "data": {
      "text/plain": [
       "device(type='cuda')"
      ]
     },
     "execution_count": 13,
     "metadata": {},
     "output_type": "execute_result"
    }
   ],
   "source": [
    "device"
   ]
  },
  {
   "cell_type": "code",
   "execution_count": 14,
   "id": "ad842ebd-c542-44c1-8dcd-403a591f4877",
   "metadata": {},
   "outputs": [
    {
     "data": {
      "text/plain": [
       "Index(['aimp', 'amud', 'arnd', 'asin1', 'asin2', 'adbr', 'adfl', 'bed1',\n",
       "       'bed2', 'bfo1', 'bfo2', 'bso1', 'bso2', 'bso3', 'ced1', 'cfo1', 'cso1'],\n",
       "      dtype='object')"
      ]
     },
     "execution_count": 14,
     "metadata": {},
     "output_type": "execute_result"
    }
   ],
   "source": [
    "train_df.columns"
   ]
  },
  {
   "cell_type": "code",
   "execution_count": 15,
   "id": "3d4f3cf7-daad-4a4f-849c-7a3bf5dc83b4",
   "metadata": {},
   "outputs": [],
   "source": [
    "tkgnc_data = TKGNGCDataProcessor(train_df,device,num_timestamps=20, lags=1)"
   ]
  },
  {
   "cell_type": "code",
   "execution_count": 16,
   "id": "efbb4177-4e9d-4049-8b6d-c01fc6d151b3",
   "metadata": {},
   "outputs": [],
   "source": [
    "pretrained_tkg = PretrainedTKGEmbeddingWithTimestamps(\n",
    "    num_entities=int(tkgnc_data.entity_indices.max().item()+1),\n",
    "    num_relations=int(tkgnc_data.relation_indices.max().item()+1),\n",
    "    embedding_dim=17,\n",
    "    num_timestamps=tkgnc_data.num_timestamps,\n",
    ").to(device)"
   ]
  },
  {
   "cell_type": "code",
   "execution_count": 17,
   "id": "1f91aab9-1d99-43c3-9784-471a4e0c33ca",
   "metadata": {},
   "outputs": [],
   "source": [
    "quads = (\n",
    "    tkgnc_data.entity_indices[:-1],  # Head entities\n",
    "    tkgnc_data.relation_indices,  # Relations\n",
    "    tkgnc_data.entity_indices[1:],  # Tail entities (shifted example)\n",
    "    tkgnc_data.timestamp_indices[:-1],  # Timestamps\n",
    ")\n"
   ]
  },
  {
   "cell_type": "code",
   "execution_count": 18,
   "id": "d5e27acf-c6c2-414e-ba04-414f3dbc7718",
   "metadata": {},
   "outputs": [
    {
     "data": {
      "text/plain": [
       "<All keys matched successfully>"
      ]
     },
     "execution_count": 18,
     "metadata": {},
     "output_type": "execute_result"
    }
   ],
   "source": [
    "#pretrained_tkg.pretrain(quads, learning_rate=0.01, epochs=1000)\n",
    "#torch.save(pretrained_tkg.state_dict(), 'pretrained_tkg')\n",
    "pretrained_tkg.load_state_dict(torch.load('pretrained_tkg'))"
   ]
  },
  {
   "cell_type": "code",
   "execution_count": 19,
   "id": "94e7d528-4b34-4488-86ae-dfa80511c3be",
   "metadata": {},
   "outputs": [
    {
     "name": "stdout",
     "output_type": "stream",
     "text": [
      "Using device: cuda\n"
     ]
    },
    {
     "name": "stderr",
     "output_type": "stream",
     "text": [
      "C:\\Users\\jlowh\\anaconda3\\envs\\torch\\Lib\\site-packages\\tqdm\\auto.py:21: TqdmWarning: IProgress not found. Please update jupyter and ipywidgets. See https://ipywidgets.readthedocs.io/en/stable/user_install.html\n",
      "  from .autonotebook import tqdm as notebook_tqdm\n"
     ]
    }
   ],
   "source": [
    "from CARAT.data_processing import *\n",
    "from CARAT.model import *\n",
    "from CARAT.causal_inference import *"
   ]
  },
  {
   "cell_type": "code",
   "execution_count": 20,
   "id": "ab4ff270-6892-43e6-8571-b623acdd105c",
   "metadata": {},
   "outputs": [],
   "source": [
    "try:\n",
    "    train_df = train_df.drop('time',axis=1)\n",
    "except:\n",
    "    None\n",
    "try:\n",
    "    test_df = test_df.drop('time',axis=1)\n",
    "except:\n",
    "    None"
   ]
  },
  {
   "cell_type": "code",
   "execution_count": 21,
   "id": "6a25ce54-b18f-421a-9cf8-fd1dce20eb20",
   "metadata": {},
   "outputs": [],
   "source": [
    "cols = list(train_df.columns)\n",
    "non_causal_columns = list(set(cols).difference(set(potential_causes)))\n",
    "causal_indices = [train_df.columns.get_loc(col) for col in potential_causes]\n",
    "non_causal_indices = [train_df.columns.get_loc(col) for col in non_causal_columns]\n",
    "\n",
    "num_nodes = len(train_df.columns)\n",
    "\n",
    "new_metadata = []\n",
    "A0 = get_adjacency(cols,causal_indices,non_causal_indices,num_nodes)    \n",
    "BATCH_SIZE = 64\n",
    "\n",
    "model = CausalGraphVAE(input_dim=num_nodes, hidden_dim=128,\n",
    "                   latent_dim=16, \n",
    "                   num_nodes=num_nodes, \n",
    "                   embed_dim=17,\n",
    "                   prior_adj_matrix=A0.to(torch.float))\n",
    "optimizer = torch.optim.Adam(model.parameters(), lr=0.001)"
   ]
  },
  {
   "cell_type": "code",
   "execution_count": 22,
   "id": "37ae8675-9dc6-433c-bcfe-fc12c8fde71c",
   "metadata": {},
   "outputs": [
    {
     "data": {
      "text/plain": [
       "['cfo1',\n",
       " 'aimp',\n",
       " 'adfl',\n",
       " 'amud',\n",
       " 'ced1',\n",
       " 'adbr',\n",
       " 'asin1',\n",
       " 'cso1',\n",
       " 'arnd',\n",
       " 'asin2']"
      ]
     },
     "execution_count": 22,
     "metadata": {},
     "output_type": "execute_result"
    }
   ],
   "source": [
    "non_causal_columns"
   ]
  },
  {
   "cell_type": "code",
   "execution_count": null,
   "id": "85f85455-f1f0-4274-8987-871b4d279b58",
   "metadata": {
    "scrolled": true
   },
   "outputs": [
    {
     "name": "stdout",
     "output_type": "stream",
     "text": [
      "Model: 0\n",
      "Anomaly: cfo1\n",
      "Epoch 0, Loss: 0.0011\n",
      "Epoch 0: Average Loss = 2995.8868, Best Loss = 2995.8868\n",
      "Epoch 100: Average Loss = 109.6414, Best Loss = 109.6414\n",
      "Epoch 200: Average Loss = 53.4233, Best Loss = 53.4233\n",
      "Epoch 300: Average Loss = 40.7439, Best Loss = 40.7439\n",
      "Early stopping triggered after 379 epochs. Restoring best model.\n",
      "Evaluating model\n",
      "Beginning inference phase\n",
      "Causal engine executing\n",
      "🔍 Checking for cycles using Tarjan’s SCC Algorithm...\n",
      "✅ No cycles detected! Graph is now a DAG.\n"
     ]
    },
    {
     "name": "stderr",
     "output_type": "stream",
     "text": [
      "Fitting causal mechanism of node cso1: 100%|██████████| 17/17 [00:01<00:00, 16.18it/s]\n"
     ]
    },
    {
     "name": "stdout",
     "output_type": "stream",
     "text": [
      "Final Results: {'target_variable': 'cfo1', 'top_causes': ['bso2', 'bed2', 'bso3', 'bed1', 'bso1', 'bfo2', 'bfo1'], 'estimated_effects': {'bso2': 0.0002273335328888959, 'bed2': -0.0004442441982518419, 'bso3': -0.0005654255834364741, 'bed1': -0.0006689760135176193, 'bso1': -0.0034701999431372976, 'bfo2': -0.006797967386668713, 'bfo1': -0.04280491497640487}, 'observed_value': 0.47446008281596735, 'counterfactual_results': {'bso2': {'counterfactual_value': 0.9491412969694277, 'difference_due_to_intervention': 0.4746812141534604}, 'bed2': {'counterfactual_value': 0.9488109993826195, 'difference_due_to_intervention': 0.4743509165666521}, 'bso3': {'counterfactual_value': 0.9493835135328947, 'difference_due_to_intervention': 0.4749234307169274}, 'bed1': {'counterfactual_value': 0.9473174706111205, 'difference_due_to_intervention': 0.47285738779515313}, 'bso1': {'counterfactual_value': 0.9477545738545473, 'difference_due_to_intervention': 0.47329449103857996}, 'bfo2': {'counterfactual_value': 0.9463720017061594, 'difference_due_to_intervention': 0.4719119188901921}, 'bfo1': {'counterfactual_value': 0.931378922839639, 'difference_due_to_intervention': 0.4569188400236716}}}\n",
      "ROOT CAUSE FOUND!\n",
      "bso3-->bso3 | bso2 | bed2\n",
      "Model Accuracy Method 1: 100.0%\n",
      "--------------------------------------------------------------------------------------------------------------------------------\n",
      "Model: 1\n",
      "Anomaly: cfo1\n",
      "Epoch 0, Loss: 0.0015\n",
      "Epoch 0: Average Loss = 660.7890, Best Loss = 660.7890\n",
      "Early stopping triggered after 64 epochs. Restoring best model.\n",
      "Evaluating model\n",
      "Beginning inference phase\n",
      "Causal engine executing\n",
      "🔍 Checking for cycles using Tarjan’s SCC Algorithm...\n",
      "✅ No cycles detected! Graph is now a DAG.\n"
     ]
    },
    {
     "name": "stderr",
     "output_type": "stream",
     "text": [
      "Fitting causal mechanism of node cso1: 100%|██████████| 17/17 [00:01<00:00,  9.09it/s]\n"
     ]
    },
    {
     "name": "stdout",
     "output_type": "stream",
     "text": [
      "Final Results: {'target_variable': 'cfo1', 'top_causes': ['bso3', 'bso1', 'bed2', 'bed1', 'bso2', 'bfo2', 'bfo1'], 'estimated_effects': {'bso3': 0.004407722847816653, 'bso1': 0.002103112852526845, 'bed2': 0.0013642848940804697, 'bed1': -0.0008882040186324325, 'bso2': -0.0009840476315635671, 'bfo2': -0.005963770833314563, 'bfo1': -0.05865250539709549}, 'observed_value': 0.5275978435022561, 'counterfactual_results': {'bso3': {'counterfactual_value': 1.0590467608747225, 'difference_due_to_intervention': 0.5314489173724664}, 'bso1': {'counterfactual_value': 1.0552543100485918, 'difference_due_to_intervention': 0.5276564665463357}, 'bed2': {'counterfactual_value': 1.0561000623507077, 'difference_due_to_intervention': 0.5285022188484516}, 'bed1': {'counterfactual_value': 1.054914757071011, 'difference_due_to_intervention': 0.5273169135687548}, 'bso2': {'counterfactual_value': 1.0552108724814993, 'difference_due_to_intervention': 0.5276130289792431}, 'bfo2': {'counterfactual_value': 1.0534264793283614, 'difference_due_to_intervention': 0.5258286358261053}, 'bfo1': {'counterfactual_value': 1.0230022943905375, 'difference_due_to_intervention': 0.49540445088828133}}}\n",
      "ROOT CAUSE FOUND!\n",
      "bso3-->bso3 | bed2 | bso1\n",
      "Model Accuracy Method 1: 100.0%\n",
      "--------------------------------------------------------------------------------------------------------------------------------\n",
      "Model: 2\n",
      "Anomaly: cso1\n",
      "Epoch 0, Loss: 0.0005\n",
      "Epoch 0: Average Loss = 1290.2658, Best Loss = 1290.2658\n",
      "Epoch 100: Average Loss = 44.3470, Best Loss = 37.1030\n",
      "Epoch 200: Average Loss = 31.0570, Best Loss = 30.9882\n",
      "Epoch 300: Average Loss = 34.8867, Best Loss = 29.8923\n",
      "Epoch 400: Average Loss = 29.4740, Best Loss = 29.4649\n",
      "Early stopping triggered after 413 epochs. Restoring best model.\n",
      "Evaluating model\n",
      "Beginning inference phase\n",
      "Causal engine executing\n",
      "🔍 Checking for cycles using Tarjan’s SCC Algorithm...\n",
      "✅ No cycles detected! Graph is now a DAG.\n"
     ]
    },
    {
     "name": "stderr",
     "output_type": "stream",
     "text": [
      "Fitting causal mechanism of node cso1: 100%|██████████| 17/17 [00:01<00:00, 13.83it/s]\n"
     ]
    },
    {
     "name": "stdout",
     "output_type": "stream",
     "text": [
      "Final Results: {'target_variable': 'cso1', 'top_causes': ['bed1', 'bed2', 'bfo1', 'bso2'], 'estimated_effects': {'bed1': 0.11455266673269149, 'bed2': 0.024070098011856778, 'bfo1': -0.03641404753089189, 'bso2': -0.041803227948070676}, 'observed_value': 0.5585322792256852, 'counterfactual_results': {'bed1': {'counterfactual_value': 1.2334552300464063, 'difference_due_to_intervention': 0.6749229508207212}, 'bed2': {'counterfactual_value': 1.1508758393563336, 'difference_due_to_intervention': 0.5923435601306485}, 'bfo1': {'counterfactual_value': 0.947283628106156, 'difference_due_to_intervention': 0.3887513488804708}, 'bso2': {'counterfactual_value': 1.1299590017896686, 'difference_due_to_intervention': 0.5714267225639834}}}\n",
      "bfo2-->bed1 | bed2 | bso2\n",
      "Model Accuracy Method 1: 66.67%\n",
      "--------------------------------------------------------------------------------------------------------------------------------\n",
      "Model: 3\n",
      "Anomaly: ced1\n",
      "Epoch 0, Loss: 0.0003\n",
      "Epoch 0: Average Loss = 8972.5295, Best Loss = 8972.5295\n",
      "Epoch 100: Average Loss = 744.2843, Best Loss = 744.2843\n",
      "Epoch 200: Average Loss = 236.5188, Best Loss = 236.5188\n",
      "Epoch 300: Average Loss = 122.0118, Best Loss = 122.0118\n",
      "Epoch 400: Average Loss = 77.1676, Best Loss = 77.1676\n",
      "Epoch 500: Average Loss = 63.8510, Best Loss = 55.7465\n",
      "Epoch 600: Average Loss = 41.9317, Best Loss = 41.9317\n",
      "Epoch 700: Average Loss = 34.0220, Best Loss = 34.0220\n",
      "Epoch 800: Average Loss = 28.8171, Best Loss = 28.8171\n",
      "Epoch 900: Average Loss = 25.2532, Best Loss = 25.2532\n",
      "Epoch 1000: Average Loss = 22.7753, Best Loss = 22.7753\n",
      "Epoch 1100: Average Loss = 21.0580, Best Loss = 20.9916\n",
      "Epoch 1200: Average Loss = 19.6850, Best Loss = 19.6850\n",
      "Epoch 1300: Average Loss = 32.8725, Best Loss = 18.7042\n",
      "Early stopping triggered after 1310 epochs. Restoring best model.\n",
      "Evaluating model\n",
      "Beginning inference phase\n",
      "Causal engine executing\n",
      "🔍 Checking for cycles using Tarjan’s SCC Algorithm...\n",
      "✅ No cycles detected! Graph is now a DAG.\n"
     ]
    },
    {
     "name": "stderr",
     "output_type": "stream",
     "text": [
      "Fitting causal mechanism of node cso1: 100%|██████████| 17/17 [00:00<00:00, 31.74it/s]\n"
     ]
    },
    {
     "name": "stdout",
     "output_type": "stream",
     "text": [
      "Final Results: {'target_variable': 'ced1', 'top_causes': ['bed1', 'bfo1', 'bfo2', 'bso3', 'bso1', 'bed2', 'bso2'], 'estimated_effects': {'bed1': 0.021713190006750177, 'bfo1': 0.002099825021078694, 'bfo2': 0.0005177991295567397, 'bso3': 1.6447506153288716e-05, 'bso1': -9.937816196764482e-06, 'bed2': -1.9988728497760677e-05, 'bso2': -0.00011977728466730508}, 'observed_value': 0.18547918351054898, 'counterfactual_results': {'bed1': {'counterfactual_value': 0.3773579537231795, 'difference_due_to_intervention': 0.1918787702126305}, 'bfo1': {'counterfactual_value': 0.37163792470130214, 'difference_due_to_intervention': 0.18615874119075315}, 'bfo2': {'counterfactual_value': 0.37194819656147965, 'difference_due_to_intervention': 0.18646901305093067}, 'bso3': {'counterfactual_value': 0.3704894951581595, 'difference_due_to_intervention': 0.1850103116476105}, 'bso1': {'counterfactual_value': 0.37140787681475107, 'difference_due_to_intervention': 0.1859286933042021}, 'bed2': {'counterfactual_value': 0.37079549465338185, 'difference_due_to_intervention': 0.18531631114283287}, 'bso2': {'counterfactual_value': 0.3713434245599804, 'difference_due_to_intervention': 0.1858642410494314}}}\n",
      "bed2-->bed1 | bfo2 | bfo1\n",
      "Model Accuracy Method 1: 50.0%\n",
      "--------------------------------------------------------------------------------------------------------------------------------\n",
      "Model: 4\n",
      "Anomaly: cfo1\n",
      "Epoch 0, Loss: 0.0001\n",
      "Epoch 0: Average Loss = 3357.7085, Best Loss = 3357.7085\n",
      "Epoch 100: Average Loss = 294.5137, Best Loss = 294.5137\n",
      "Epoch 200: Average Loss = 110.9101, Best Loss = 110.9101\n",
      "Epoch 300: Average Loss = 69.7011, Best Loss = 69.7011\n",
      "Epoch 400: Average Loss = 53.4485, Best Loss = 53.4485\n",
      "Epoch 500: Average Loss = 45.5171, Best Loss = 45.5171\n",
      "Epoch 600: Average Loss = 40.7983, Best Loss = 40.7983\n",
      "Epoch 700: Average Loss = 37.9219, Best Loss = 37.9219\n",
      "Epoch 800: Average Loss = 36.0650, Best Loss = 36.0650\n",
      "Epoch 900: Average Loss = 34.7679, Best Loss = 34.7679\n",
      "Epoch 1000: Average Loss = 33.9968, Best Loss = 33.8752\n",
      "Early stopping triggered after 1056 epochs. Restoring best model.\n",
      "Evaluating model\n",
      "Beginning inference phase\n",
      "Causal engine executing\n",
      "🔍 Checking for cycles using Tarjan’s SCC Algorithm...\n",
      "✅ No cycles detected! Graph is now a DAG.\n"
     ]
    },
    {
     "name": "stderr",
     "output_type": "stream",
     "text": [
      "Fitting causal mechanism of node cso1: 100%|██████████| 17/17 [00:00<00:00, 34.43it/s]\n"
     ]
    },
    {
     "name": "stdout",
     "output_type": "stream",
     "text": [
      "Final Results: {'target_variable': 'cfo1', 'top_causes': ['bso1', 'bso2', 'bed2', 'bfo2', 'bed1', 'bfo1', 'bso3'], 'estimated_effects': {'bso1': 0.030423614337994065, 'bso2': 0.011370496654297457, 'bed2': 0.008006374547927742, 'bfo2': -0.021490516716651697, 'bed1': -0.027945183762955406, 'bfo1': -0.06650167773327614, 'bso3': -0.09893910009835766}, 'observed_value': 0.34999664396545965, 'counterfactual_results': {'bso1': {'counterfactual_value': 0.727694706440302, 'difference_due_to_intervention': 0.37769806247484233}, 'bso2': {'counterfactual_value': 0.7061668704872055, 'difference_due_to_intervention': 0.35617022652174585}, 'bed2': {'counterfactual_value': 0.7089817504020995, 'difference_due_to_intervention': 0.3589851064366399}, 'bfo2': {'counterfactual_value': 0.6955404961854721, 'difference_due_to_intervention': 0.34554385222001244}, 'bed1': {'counterfactual_value': 0.7065784884640227, 'difference_due_to_intervention': 0.35658184449856306}, 'bfo1': {'counterfactual_value': 0.665636867817928, 'difference_due_to_intervention': 0.3156402238524683}, 'bso3': {'counterfactual_value': 0.6482576159289882, 'difference_due_to_intervention': 0.2982609719635286}}}\n",
      "bfo1-->bso1 | bed2 | bed1\n",
      "Model Accuracy Method 1: 40.0%\n",
      "--------------------------------------------------------------------------------------------------------------------------------\n",
      "Model: 5\n",
      "Anomaly: cfo1\n",
      "Epoch 0, Loss: 0.0006\n",
      "Epoch 0: Average Loss = 4582.1972, Best Loss = 4582.1972\n",
      "Epoch 100: Average Loss = 108.3563, Best Loss = 99.5025\n",
      "Epoch 200: Average Loss = 47.0878, Best Loss = 47.0878\n",
      "Epoch 300: Average Loss = 37.7652, Best Loss = 37.7652\n",
      "Epoch 400: Average Loss = 34.1754, Best Loss = 34.1754\n",
      "Epoch 500: Average Loss = 32.5920, Best Loss = 32.4804\n",
      "Early stopping triggered after 581 epochs. Restoring best model.\n",
      "Evaluating model\n",
      "Beginning inference phase\n",
      "Causal engine executing\n",
      "🔍 Checking for cycles using Tarjan’s SCC Algorithm...\n",
      "✅ No cycles detected! Graph is now a DAG.\n"
     ]
    },
    {
     "name": "stderr",
     "output_type": "stream",
     "text": [
      "Fitting causal mechanism of node cso1: 100%|██████████| 17/17 [00:01<00:00, 13.29it/s]\n"
     ]
    },
    {
     "name": "stdout",
     "output_type": "stream",
     "text": [
      "Final Results: {'target_variable': 'cfo1', 'top_causes': ['bso1', 'bso3', 'bed1', 'bed2', 'bso2', 'bfo2', 'bfo1'], 'estimated_effects': {'bso1': 0.039254830715816036, 'bso3': 0.001386537428438972, 'bed1': 0.00034466704147773086, 'bed2': -0.00012795635562046215, 'bso2': -0.0006062496647061266, 'bfo2': -0.005164703055435815, 'bfo1': -0.005948981666168529}, 'observed_value': 0.5890908472869067, 'counterfactual_results': {'bso1': {'counterfactual_value': 1.1849266286524531, 'difference_due_to_intervention': 0.5958357813655464}, 'bso3': {'counterfactual_value': 1.1700812446882545, 'difference_due_to_intervention': 0.5809903974013477}, 'bed1': {'counterfactual_value': 1.1792948650415196, 'difference_due_to_intervention': 0.5902040177546128}, 'bed2': {'counterfactual_value': 1.1790531848203445, 'difference_due_to_intervention': 0.5899623375334377}, 'bso2': {'counterfactual_value': 1.177426883704166, 'difference_due_to_intervention': 0.5883360364172592}, 'bfo2': {'counterfactual_value': 1.176465355711218, 'difference_due_to_intervention': 0.5873745084243112}, 'bfo1': {'counterfactual_value': 1.1759589810634767, 'difference_due_to_intervention': 0.58686813377657}}}\n",
      "ROOT CAUSE FOUND!\n",
      "bso1-->bso1 | bed1 | bed2\n",
      "Model Accuracy Method 1: 50.0%\n",
      "--------------------------------------------------------------------------------------------------------------------------------\n",
      "Model: 6\n",
      "Anomaly: cso1\n",
      "Epoch 0, Loss: 0.0004\n",
      "Epoch 0: Average Loss = 2046.2560, Best Loss = 2046.2560\n",
      "Epoch 100: Average Loss = 177.2589, Best Loss = 177.2589\n",
      "Epoch 200: Average Loss = 69.6917, Best Loss = 69.6917\n",
      "Epoch 300: Average Loss = 45.1053, Best Loss = 45.1053\n",
      "Epoch 400: Average Loss = 35.5051, Best Loss = 35.4729\n",
      "Epoch 500: Average Loss = 30.7247, Best Loss = 30.6305\n",
      "Epoch 600: Average Loss = 27.9459, Best Loss = 27.8969\n",
      "Epoch 700: Average Loss = 26.3741, Best Loss = 26.1778\n",
      "Early stopping triggered after 753 epochs. Restoring best model.\n",
      "Evaluating model\n",
      "Beginning inference phase\n",
      "Causal engine executing\n",
      "🔍 Checking for cycles using Tarjan’s SCC Algorithm...\n",
      "✅ No cycles detected! Graph is now a DAG.\n"
     ]
    },
    {
     "name": "stderr",
     "output_type": "stream",
     "text": [
      "Fitting causal mechanism of node cso1: 100%|██████████| 17/17 [00:00<00:00, 41.05it/s]\n"
     ]
    },
    {
     "name": "stdout",
     "output_type": "stream",
     "text": [
      "Final Results: {'target_variable': 'cso1', 'top_causes': ['bfo2', 'bfo1', 'bed2', 'bed1'], 'estimated_effects': {'bfo2': 0.21985614092960612, 'bfo1': 0.010092738787710304, 'bed2': 0.005826864296967799, 'bed1': -0.12169046820421275}, 'observed_value': 0.24895333188887656, 'counterfactual_results': {'bfo2': {'counterfactual_value': 0.6099609140464654, 'difference_due_to_intervention': 0.36100758215758877}, 'bfo1': {'counterfactual_value': 0.5026297620710374, 'difference_due_to_intervention': 0.2536764301821608}, 'bed2': {'counterfactual_value': 0.4982746525899066, 'difference_due_to_intervention': 0.24932132070103005}, 'bed1': {'counterfactual_value': 0.43099163460911794, 'difference_due_to_intervention': 0.18203830272024138}}}\n",
      "ROOT CAUSE FOUND!\n",
      "bfo2-->bfo2 | bfo1 | bed2\n",
      "Model Accuracy Method 1: 57.14%\n",
      "--------------------------------------------------------------------------------------------------------------------------------\n",
      "Model: 7\n",
      "Anomaly: cfo1\n",
      "Epoch 0, Loss: 0.0006\n",
      "Epoch 0: Average Loss = 4679.1785, Best Loss = 4679.1785\n",
      "Epoch 100: Average Loss = 257.3171, Best Loss = 257.3171\n",
      "Epoch 200: Average Loss = 86.2163, Best Loss = 86.2163\n",
      "Epoch 300: Average Loss = 47.8313, Best Loss = 47.8313\n",
      "Epoch 400: Average Loss = 32.8760, Best Loss = 32.8760\n",
      "Epoch 500: Average Loss = 25.5398, Best Loss = 25.5398\n",
      "Epoch 600: Average Loss = 21.4376, Best Loss = 21.3206\n",
      "Epoch 700: Average Loss = 18.6171, Best Loss = 18.6171\n",
      "Epoch 800: Average Loss = 17.1591, Best Loss = 16.9909\n",
      "Epoch 900: Average Loss = 15.9752, Best Loss = 15.9752\n",
      "Epoch 1000: Average Loss = 15.2245, Best Loss = 15.0566\n",
      "Early stopping triggered after 1014 epochs. Restoring best model.\n",
      "Evaluating model\n",
      "Beginning inference phase\n",
      "Causal engine executing\n",
      "🔍 Checking for cycles using Tarjan’s SCC Algorithm...\n",
      "✅ No cycles detected! Graph is now a DAG.\n"
     ]
    },
    {
     "name": "stderr",
     "output_type": "stream",
     "text": [
      "Fitting causal mechanism of node cso1: 100%|██████████| 17/17 [00:00<00:00, 80.21it/s]\n"
     ]
    },
    {
     "name": "stdout",
     "output_type": "stream",
     "text": [
      "⚠️ No causal factors found for cfo1. Exiting pipeline.\n",
      "ROOT CAUSE FOUND!\n",
      "bfo1-->bfo1 | bso3 | bso2\n",
      "Model Accuracy Method 1: 62.5%\n",
      "--------------------------------------------------------------------------------------------------------------------------------\n",
      "Model: 8\n",
      "Anomaly: cso1\n",
      "Epoch 0, Loss: 0.0005\n",
      "Epoch 0: Average Loss = 3015.1471, Best Loss = 3015.1471\n",
      "Epoch 100: Average Loss = 68.5391, Best Loss = 68.5391\n",
      "Epoch 200: Average Loss = 39.9830, Best Loss = 39.9830\n",
      "Epoch 300: Average Loss = 33.4134, Best Loss = 33.4134\n",
      "Epoch 400: Average Loss = 31.0843, Best Loss = 31.0843\n",
      "Epoch 500: Average Loss = 30.1679, Best Loss = 30.0753\n",
      "Early stopping triggered after 532 epochs. Restoring best model.\n",
      "Evaluating model\n",
      "Beginning inference phase\n",
      "Causal engine executing\n",
      "🔍 Checking for cycles using Tarjan’s SCC Algorithm...\n",
      "✅ No cycles detected! Graph is now a DAG.\n"
     ]
    },
    {
     "name": "stderr",
     "output_type": "stream",
     "text": [
      "Fitting causal mechanism of node cso1: 100%|██████████| 17/17 [00:00<00:00, 18.95it/s]\n"
     ]
    },
    {
     "name": "stdout",
     "output_type": "stream",
     "text": [
      "Final Results: {'target_variable': 'cso1', 'top_causes': ['bfo1', 'bso3', 'bso1', 'bfo2', 'bso2', 'bed1', 'bed2'], 'estimated_effects': {'bfo1': 0.03726995787590842, 'bso3': 0.0025351987328243175, 'bso1': 0.0013281368563735074, 'bfo2': 9.206926080990163e-05, 'bso2': -0.0007641455575168044, 'bed1': -0.001007047514949233, 'bed2': -0.0011230498643945985}, 'observed_value': 0.4782094640464655, 'counterfactual_results': {'bfo1': {'counterfactual_value': 0.9787541394539735, 'difference_due_to_intervention': 0.500544675407508}, 'bso3': {'counterfactual_value': 0.9573352568572601, 'difference_due_to_intervention': 0.47912579281079454}, 'bso1': {'counterfactual_value': 0.9565947609945166, 'difference_due_to_intervention': 0.47838529694805104}, 'bfo2': {'counterfactual_value': 0.9564413439311913, 'difference_due_to_intervention': 0.47823187988472576}, 'bso2': {'counterfactual_value': 0.9555192752733984, 'difference_due_to_intervention': 0.4773098112269329}, 'bed1': {'counterfactual_value': 0.9563658446817782, 'difference_due_to_intervention': 0.4781563806353127}, 'bed2': {'counterfactual_value': 0.9548691864952158, 'difference_due_to_intervention': 0.47665972244875027}}}\n",
      "bso2-->bfo1 | bso3 | bso1\n",
      "Model Accuracy Method 1: 55.56%\n",
      "--------------------------------------------------------------------------------------------------------------------------------\n",
      "Model: 9\n",
      "Anomaly: ced1\n",
      "Epoch 0, Loss: 0.0003\n",
      "Epoch 0: Average Loss = 4961.2239, Best Loss = 4961.2239\n",
      "Epoch 100: Average Loss = 158.2931, Best Loss = 158.2931\n",
      "Epoch 200: Average Loss = 66.1678, Best Loss = 66.1678\n",
      "Epoch 300: Average Loss = 45.4254, Best Loss = 45.4128\n",
      "Epoch 400: Average Loss = 37.3072, Best Loss = 37.2810\n",
      "Epoch 500: Average Loss = 33.4192, Best Loss = 33.4192\n",
      "Epoch 600: Average Loss = 31.3923, Best Loss = 31.3889\n",
      "Epoch 700: Average Loss = 30.1049, Best Loss = 30.1021\n",
      "Early stopping triggered after 761 epochs. Restoring best model.\n",
      "Evaluating model\n",
      "Beginning inference phase\n",
      "Causal engine executing\n",
      "🔍 Checking for cycles using Tarjan’s SCC Algorithm...\n",
      "✅ No cycles detected! Graph is now a DAG.\n"
     ]
    },
    {
     "name": "stderr",
     "output_type": "stream",
     "text": [
      "Fitting causal mechanism of node cso1: 100%|██████████| 17/17 [00:00<00:00, 19.08it/s]\n"
     ]
    },
    {
     "name": "stdout",
     "output_type": "stream",
     "text": [
      "⚠️ No causal factors found for ced1. Exiting pipeline.\n",
      "bed2-->bfo1 | bso3 | bso2\n",
      "Model Accuracy Method 1: 50.0%\n",
      "--------------------------------------------------------------------------------------------------------------------------------\n",
      "Model: 10\n",
      "Anomaly: cfo1\n",
      "Epoch 0, Loss: 0.0003\n",
      "Epoch 0: Average Loss = 3956.9485, Best Loss = 3956.9485\n",
      "Epoch 100: Average Loss = 325.4404, Best Loss = 325.4404\n",
      "Epoch 200: Average Loss = 110.8130, Best Loss = 110.8130\n",
      "Epoch 300: Average Loss = 61.9891, Best Loss = 61.9891\n",
      "Epoch 400: Average Loss = 42.8507, Best Loss = 42.8507\n",
      "Epoch 500: Average Loss = 33.2492, Best Loss = 33.2492\n",
      "Epoch 600: Average Loss = 27.8411, Best Loss = 27.8411\n",
      "Epoch 700: Average Loss = 24.5640, Best Loss = 24.5007\n",
      "Epoch 800: Average Loss = 22.3876, Best Loss = 22.1373\n",
      "Epoch 900: Average Loss = 20.7924, Best Loss = 20.7793\n",
      "Epoch 1000: Average Loss = 19.7780, Best Loss = 19.7187\n",
      "Epoch 1100: Average Loss = 18.8828, Best Loss = 18.8828\n",
      "Early stopping triggered after 1141 epochs. Restoring best model.\n",
      "Evaluating model\n",
      "Beginning inference phase\n",
      "Causal engine executing\n",
      "🔍 Checking for cycles using Tarjan’s SCC Algorithm...\n",
      "✅ No cycles detected! Graph is now a DAG.\n"
     ]
    },
    {
     "name": "stderr",
     "output_type": "stream",
     "text": [
      "Fitting causal mechanism of node cso1: 100%|██████████| 17/17 [00:00<00:00, 36.98it/s]\n"
     ]
    },
    {
     "name": "stdout",
     "output_type": "stream",
     "text": [
      "Final Results: {'target_variable': 'cfo1', 'top_causes': ['bfo1', 'bso1', 'bed2', 'bfo2', 'bso3', 'bed1', 'bso2'], 'estimated_effects': {'bfo1': 0.003461331171364712, 'bso1': 0.002983970516133083, 'bed2': 0.0007679967447168368, 'bfo2': 0.0007104688092233191, 'bso3': 1.1337617995210714e-05, 'bed1': -0.0028608189218405355, 'bso2': -0.010545242639862784}, 'observed_value': 0.5322331518288154, 'counterfactual_results': {'bfo1': {'counterfactual_value': 1.0638563662157836, 'difference_due_to_intervention': 0.5316232143869682}, 'bso1': {'counterfactual_value': 1.0648499471823962, 'difference_due_to_intervention': 0.5326167953535809}, 'bed2': {'counterfactual_value': 1.0643963173442463, 'difference_due_to_intervention': 0.532163165515431}, 'bfo2': {'counterfactual_value': 1.0640552890886845, 'difference_due_to_intervention': 0.5318221372598692}, 'bso3': {'counterfactual_value': 1.0638611098545658, 'difference_due_to_intervention': 0.5316279580257505}, 'bed1': {'counterfactual_value': 1.0623098947738618, 'difference_due_to_intervention': 0.5300767429450465}, 'bso2': {'counterfactual_value': 1.0611089267769642, 'difference_due_to_intervention': 0.5288757749481489}}}\n",
      "ROOT CAUSE FOUND!\n",
      "bso1-->bso1 | bed2 | bfo2\n",
      "Model Accuracy Method 1: 54.55%\n",
      "--------------------------------------------------------------------------------------------------------------------------------\n",
      "Model: 11\n",
      "Anomaly: cso1\n",
      "Epoch 0, Loss: 0.0004\n",
      "Epoch 0: Average Loss = 3118.0427, Best Loss = 3118.0427\n",
      "Epoch 100: Average Loss = 71.6893, Best Loss = 71.5096\n",
      "Epoch 200: Average Loss = 40.4845, Best Loss = 40.4392\n",
      "Epoch 300: Average Loss = 33.4895, Best Loss = 33.4895\n",
      "Early stopping triggered after 399 epochs. Restoring best model.\n",
      "Evaluating model\n",
      "Beginning inference phase\n",
      "Causal engine executing\n",
      "🔍 Checking for cycles using Tarjan’s SCC Algorithm...\n",
      "✅ No cycles detected! Graph is now a DAG.\n"
     ]
    },
    {
     "name": "stderr",
     "output_type": "stream",
     "text": [
      "Fitting causal mechanism of node cso1: 100%|██████████| 17/17 [00:01<00:00, 14.37it/s]\n"
     ]
    },
    {
     "name": "stdout",
     "output_type": "stream",
     "text": [
      "Final Results: {'target_variable': 'cso1', 'top_causes': ['bfo2', 'bso1', 'bed1', 'bed2', 'bfo1', 'bso2'], 'estimated_effects': {'bfo2': 0.04089005084934977, 'bso1': 0.004177328205501818, 'bed1': -0.0018024370031356485, 'bed2': -0.002243350860799187, 'bfo1': -0.002325378261707034, 'bso2': -0.00648236302164068}, 'observed_value': 0.4743826326788473, 'counterfactual_results': {'bfo2': {'counterfactual_value': 0.9764554402742117, 'difference_due_to_intervention': 0.5020728075953644}, 'bso1': {'counterfactual_value': 0.945729223261471, 'difference_due_to_intervention': 0.47134659058262374}, 'bed1': {'counterfactual_value': 0.9447423100513039, 'difference_due_to_intervention': 0.47035967737245665}, 'bed2': {'counterfactual_value': 0.947775131314404, 'difference_due_to_intervention': 0.47339249863555677}, 'bfo1': {'counterfactual_value': 0.9470813239881507, 'difference_due_to_intervention': 0.4726986913093034}, 'bso2': {'counterfactual_value': 0.9422172542500926, 'difference_due_to_intervention': 0.46783462157124533}}}\n",
      "ROOT CAUSE FOUND!\n",
      "bfo2-->bfo2 | bed2 | bfo1\n",
      "Model Accuracy Method 1: 58.33%\n",
      "--------------------------------------------------------------------------------------------------------------------------------\n",
      "Model: 12\n",
      "Anomaly: cso1\n",
      "Epoch 0, Loss: 0.0003\n",
      "Epoch 0: Average Loss = 4961.5771, Best Loss = 4961.5771\n",
      "Epoch 100: Average Loss = 63.6538, Best Loss = 63.6538\n",
      "Epoch 200: Average Loss = 39.9761, Best Loss = 39.9761\n",
      "Epoch 300: Average Loss = 37.8561, Best Loss = 35.0212\n",
      "Epoch 400: Average Loss = 33.2576, Best Loss = 33.2576\n",
      "Early stopping triggered after 483 epochs. Restoring best model.\n",
      "Evaluating model\n",
      "Beginning inference phase\n",
      "Causal engine executing\n",
      "🔍 Checking for cycles using Tarjan’s SCC Algorithm...\n",
      "✅ No cycles detected! Graph is now a DAG.\n"
     ]
    },
    {
     "name": "stderr",
     "output_type": "stream",
     "text": [
      "Fitting causal mechanism of node cso1: 100%|██████████| 17/17 [00:01<00:00, 10.24it/s]\n"
     ]
    },
    {
     "name": "stdout",
     "output_type": "stream",
     "text": [
      "Final Results: {'target_variable': 'cso1', 'top_causes': ['bso3', 'bfo1', 'bso1', 'bfo2', 'bed2', 'bed1', 'bso2'], 'estimated_effects': {'bso3': 0.02828214512810584, 'bfo1': 0.008928008993486891, 'bso1': 0.006602919564831111, 'bfo2': 0.0005703423138609387, 'bed2': 0.00012862070018054839, 'bed1': -1.534264377084371e-05, 'bso2': -0.0022378332995346417}, 'observed_value': 0.4977423871920872, 'counterfactual_results': {'bso3': {'counterfactual_value': 1.0124125220726239, 'difference_due_to_intervention': 0.5146701348805367}, 'bfo1': {'counterfactual_value': 0.9974716747453415, 'difference_due_to_intervention': 0.4997292875532543}, 'bso1': {'counterfactual_value': 1.0010279200196464, 'difference_due_to_intervention': 0.5032855328275592}, 'bfo2': {'counterfactual_value': 0.9962860281123324, 'difference_due_to_intervention': 0.49854364092024517}, 'bed2': {'counterfactual_value': 0.9955175488147003, 'difference_due_to_intervention': 0.49777516162261315}, 'bed1': {'counterfactual_value': 0.9951252434627945, 'difference_due_to_intervention': 0.49738285627070733}, 'bso2': {'counterfactual_value': 0.9938727090362321, 'difference_due_to_intervention': 0.49613032184414496}}}\n",
      "bso2-->bso3 | bso1 | bfo1\n",
      "Model Accuracy Method 1: 53.85%\n",
      "--------------------------------------------------------------------------------------------------------------------------------\n",
      "Model: 13\n",
      "Anomaly: cso1\n",
      "Epoch 0, Loss: 0.0002\n",
      "Epoch 0: Average Loss = 2788.2487, Best Loss = 2788.2487\n",
      "Epoch 100: Average Loss = 243.1130, Best Loss = 243.1130\n",
      "Epoch 200: Average Loss = 92.7546, Best Loss = 92.7546\n",
      "Epoch 300: Average Loss = 58.8863, Best Loss = 58.8863\n",
      "Epoch 400: Average Loss = 45.7232, Best Loss = 45.7232\n",
      "Epoch 500: Average Loss = 38.9832, Best Loss = 38.9832\n",
      "Epoch 600: Average Loss = 35.5029, Best Loss = 35.1429\n",
      "Epoch 700: Average Loss = 33.0317, Best Loss = 32.9210\n",
      "Epoch 800: Average Loss = 31.3196, Best Loss = 31.3196\n",
      "Epoch 900: Average Loss = 30.2122, Best Loss = 30.2122\n",
      "Early stopping triggered after 943 epochs. Restoring best model.\n",
      "Evaluating model\n",
      "Beginning inference phase\n",
      "Causal engine executing\n",
      "🔍 Checking for cycles using Tarjan’s SCC Algorithm...\n",
      "✅ No cycles detected! Graph is now a DAG.\n"
     ]
    },
    {
     "name": "stderr",
     "output_type": "stream",
     "text": [
      "Fitting causal mechanism of node cso1: 100%|██████████| 17/17 [00:00<00:00, 28.09it/s]\n"
     ]
    },
    {
     "name": "stdout",
     "output_type": "stream",
     "text": [
      "Final Results: {'target_variable': 'cso1', 'top_causes': ['bso3', 'bfo2', 'bed1', 'bso2', 'bed2', 'bso1', 'bfo1'], 'estimated_effects': {'bso3': 14.471072692175282, 'bfo2': 2.863391399400816, 'bed1': 0.7111154293648249, 'bso2': -0.3173175064217465, 'bed2': -0.5212875508777193, 'bso1': -3.2664952010838455, 'bfo1': -8.122065566065807}, 'observed_value': 0.7428142729706204, 'counterfactual_results': {'bso3': {'counterfactual_value': 13.264788748545607, 'difference_due_to_intervention': 12.521974475574986}, 'bfo2': {'counterfactual_value': 3.6894068251898666, 'difference_due_to_intervention': 2.946592552219246}, 'bed1': {'counterfactual_value': 1.926085634259487, 'difference_due_to_intervention': 1.1832713612888666}, 'bso2': {'counterfactual_value': 1.2430415487044524, 'difference_due_to_intervention': 0.500227275733832}, 'bed2': {'counterfactual_value': 1.1433987167003599, 'difference_due_to_intervention': 0.40058444372973945}, 'bso1': {'counterfactual_value': -0.46400588466920606, 'difference_due_to_intervention': -1.2068201576398265}, 'bfo1': {'counterfactual_value': -5.478211477289006, 'difference_due_to_intervention': -6.221025750259626}}}\n",
      "ROOT CAUSE FOUND!\n",
      "bfo2-->bso3 | bfo2 | bed1\n",
      "Model Accuracy Method 1: 57.14%\n",
      "--------------------------------------------------------------------------------------------------------------------------------\n",
      "Model: 14\n",
      "Anomaly: cfo1\n",
      "Epoch 0, Loss: 0.0000\n",
      "Epoch 0: Average Loss = 2751.4276, Best Loss = 2751.4276\n",
      "Epoch 100: Average Loss = 240.7706, Best Loss = 240.7706\n",
      "Epoch 200: Average Loss = 87.6931, Best Loss = 87.6931\n",
      "Epoch 300: Average Loss = 53.5792, Best Loss = 53.5792\n",
      "Epoch 400: Average Loss = 40.2482, Best Loss = 40.0391\n",
      "Epoch 500: Average Loss = 33.3390, Best Loss = 33.3390\n",
      "Early stopping triggered after 575 epochs. Restoring best model.\n",
      "Evaluating model\n",
      "Beginning inference phase\n",
      "Causal engine executing\n",
      "🔍 Checking for cycles using Tarjan’s SCC Algorithm...\n",
      "✅ No cycles detected! Graph is now a DAG.\n"
     ]
    },
    {
     "name": "stderr",
     "output_type": "stream",
     "text": [
      "Fitting causal mechanism of node cso1: 100%|██████████| 17/17 [00:00<00:00, 26.25it/s]\n"
     ]
    },
    {
     "name": "stdout",
     "output_type": "stream",
     "text": [
      "Final Results: {'target_variable': 'cfo1', 'top_causes': ['bed1', 'bed2', 'bso3'], 'estimated_effects': {'bed1': 0.00754277992408281, 'bed2': -0.0014084768693107819, 'bso3': -0.05406118440566876}, 'observed_value': 0.5070099773849511, 'counterfactual_results': {'bed1': {'counterfactual_value': 1.0208126083191236, 'difference_due_to_intervention': 0.5138026309341724}, 'bed2': {'counterfactual_value': 1.014110624676656, 'difference_due_to_intervention': 0.5071006472917049}, 'bso3': {'counterfactual_value': 0.9933441018565405, 'difference_due_to_intervention': 0.4863341244715894}}}\n",
      "bso1-->bed1 | bed2 | bso3\n",
      "Model Accuracy Method 1: 53.33%\n",
      "--------------------------------------------------------------------------------------------------------------------------------\n",
      "Model: 15\n",
      "Anomaly: ced1\n",
      "Epoch 0, Loss: 0.0003\n",
      "Epoch 0: Average Loss = 4209.6849, Best Loss = 4209.6849\n",
      "Epoch 100: Average Loss = 131.8648, Best Loss = 131.8648\n",
      "Epoch 200: Average Loss = 50.2277, Best Loss = 50.2277\n",
      "Epoch 300: Average Loss = 32.0833, Best Loss = 32.0833\n",
      "Epoch 400: Average Loss = 25.4884, Best Loss = 25.3538\n",
      "Epoch 500: Average Loss = 22.0511, Best Loss = 22.0406\n",
      "Epoch 600: Average Loss = 20.3752, Best Loss = 20.3192\n",
      "Epoch 700: Average Loss = 19.4137, Best Loss = 19.1384\n",
      "Early stopping triggered after 700 epochs. Restoring best model.\n",
      "Evaluating model\n",
      "Beginning inference phase\n",
      "Causal engine executing\n",
      "🔍 Checking for cycles using Tarjan’s SCC Algorithm...\n",
      "✅ No cycles detected! Graph is now a DAG.\n"
     ]
    },
    {
     "name": "stderr",
     "output_type": "stream",
     "text": [
      "Fitting causal mechanism of node cso1: 100%|██████████| 17/17 [00:00<00:00, 19.33it/s]\n"
     ]
    },
    {
     "name": "stdout",
     "output_type": "stream",
     "text": [
      "Final Results: {'target_variable': 'ced1', 'top_causes': ['bed1', 'bso2', 'bfo2', 'bed2', 'bfo1'], 'estimated_effects': {'bed1': 0.00016124741236456241, 'bso2': 4.64523081609991e-05, 'bfo2': -0.00016813542527802094, 'bed2': -0.00040965377744439646, 'bfo1': -0.0034752269399314917}, 'observed_value': 0.16061289218200572, 'counterfactual_results': {'bed1': {'counterfactual_value': 0.3213783532156596, 'difference_due_to_intervention': 0.16076546103365388}, 'bso2': {'counterfactual_value': 0.3213953414582663, 'difference_due_to_intervention': 0.1607824492762606}, 'bfo2': {'counterfactual_value': 0.32140970387388546, 'difference_due_to_intervention': 0.16079681169187973}, 'bed2': {'counterfactual_value': 0.32055732517931024, 'difference_due_to_intervention': 0.15994443299730451}, 'bfo1': {'counterfactual_value': 0.3222654704846439, 'difference_due_to_intervention': 0.16165257830263816}}}\n",
      "bed1-->bfo1 | bfo2 | bso2\n",
      "Model Accuracy Method 1: 50.0%\n",
      "--------------------------------------------------------------------------------------------------------------------------------\n",
      "Model: 16\n",
      "Anomaly: cfo1\n",
      "Epoch 0, Loss: 0.0003\n",
      "Epoch 0: Average Loss = 3972.9554, Best Loss = 3972.9554\n",
      "Epoch 100: Average Loss = 84.5426, Best Loss = 84.5426\n",
      "Epoch 200: Average Loss = 46.1346, Best Loss = 46.1346\n",
      "Epoch 300: Average Loss = 37.7437, Best Loss = 37.7437\n",
      "Epoch 400: Average Loss = 34.6536, Best Loss = 34.6536\n",
      "Epoch 500: Average Loss = 44.1595, Best Loss = 33.3486\n",
      "Early stopping triggered after 504 epochs. Restoring best model.\n",
      "Evaluating model\n",
      "Beginning inference phase\n",
      "Causal engine executing\n",
      "🔍 Checking for cycles using Tarjan’s SCC Algorithm...\n",
      "✅ No cycles detected! Graph is now a DAG.\n"
     ]
    },
    {
     "name": "stderr",
     "output_type": "stream",
     "text": [
      "Fitting causal mechanism of node cso1: 100%|██████████| 17/17 [00:01<00:00, 12.59it/s]\n"
     ]
    },
    {
     "name": "stdout",
     "output_type": "stream",
     "text": [
      "Final Results: {'target_variable': 'cfo1', 'top_causes': ['bso1', 'bso2', 'bed1', 'bed2', 'bso3', 'bfo2', 'bfo1'], 'estimated_effects': {'bso1': 0.0011427398985595083, 'bso2': 0.0006693945847068283, 'bed1': 0.0001802805693553733, 'bed2': -0.0010172581181604468, 'bso3': -0.00888887247398995, 'bfo2': -0.019091192501551446, 'bfo1': -0.03307141834713645}, 'observed_value': 0.5759818479275607, 'counterfactual_results': {'bso1': {'counterfactual_value': 1.152116864915496, 'difference_due_to_intervention': 0.5761350169879353}, 'bso2': {'counterfactual_value': 1.152009047431562, 'difference_due_to_intervention': 0.5760271995040014}, 'bed1': {'counterfactual_value': 1.1518812162354968, 'difference_due_to_intervention': 0.5758993683079361}, 'bed2': {'counterfactual_value': 1.1518401830556135, 'difference_due_to_intervention': 0.5758583351280528}, 'bso3': {'counterfactual_value': 1.1460110181135186, 'difference_due_to_intervention': 0.5700291701859579}, 'bfo2': {'counterfactual_value': 1.1407379008681424, 'difference_due_to_intervention': 0.5647560529405817}, 'bfo1': {'counterfactual_value': 1.1347108900406646, 'difference_due_to_intervention': 0.5587290421131039}}}\n",
      "bso3-->bso1 | bso2 | bed1\n",
      "Model Accuracy Method 1: 47.06%\n",
      "--------------------------------------------------------------------------------------------------------------------------------\n",
      "Model: 17\n",
      "Anomaly: cfo1\n",
      "Epoch 0, Loss: 0.0006\n",
      "Epoch 0: Average Loss = 1199.1451, Best Loss = 1199.1451\n",
      "Early stopping triggered after 93 epochs. Restoring best model.\n",
      "Evaluating model\n",
      "Beginning inference phase\n",
      "Causal engine executing\n",
      "🔍 Checking for cycles using Tarjan’s SCC Algorithm...\n",
      "✅ No cycles detected! Graph is now a DAG.\n"
     ]
    },
    {
     "name": "stderr",
     "output_type": "stream",
     "text": [
      "Fitting causal mechanism of node cso1: 100%|██████████| 17/17 [00:01<00:00,  8.83it/s]\n"
     ]
    },
    {
     "name": "stdout",
     "output_type": "stream",
     "text": [
      "Final Results: {'target_variable': 'cfo1', 'top_causes': ['bso1', 'bso3', 'bed2', 'bso2', 'bed1', 'bfo2', 'bfo1'], 'estimated_effects': {'bso1': 0.0467644544918574, 'bso3': 0.006573695948463687, 'bed2': 0.001092102565018016, 'bso2': 0.0008334043509341527, 'bed1': -0.014795474105266937, 'bfo2': -0.05830641356984012, 'bfo1': -0.12006210910757298}, 'observed_value': 0.5089429737731578, 'counterfactual_results': {'bso1': {'counterfactual_value': 1.0410781069470998, 'difference_due_to_intervention': 0.532135133173942}, 'bso3': {'counterfactual_value': 1.0123978195292336, 'difference_due_to_intervention': 0.5034548457560758}, 'bed2': {'counterfactual_value': 1.0178845508725443, 'difference_due_to_intervention': 0.5089415770993865}, 'bso2': {'counterfactual_value': 1.0178870126441906, 'difference_due_to_intervention': 0.5089440388710328}, 'bed1': {'counterfactual_value': 1.0185573326226405, 'difference_due_to_intervention': 0.5096143588494827}, 'bfo2': {'counterfactual_value': 0.9943458352092875, 'difference_due_to_intervention': 0.48540286143612976}, 'bfo1': {'counterfactual_value': 0.956894323085015, 'difference_due_to_intervention': 0.4479513493118572}}}\n",
      "bfo1-->bso1 | bed1 | bso2\n",
      "Model Accuracy Method 1: 44.44%\n",
      "--------------------------------------------------------------------------------------------------------------------------------\n",
      "Model: 18\n",
      "Anomaly: ced1\n",
      "Epoch 0, Loss: 0.0001\n",
      "Epoch 0: Average Loss = 2867.1916, Best Loss = 2867.1916\n",
      "Epoch 100: Average Loss = 92.6401, Best Loss = 92.6401\n",
      "Epoch 200: Average Loss = 40.0036, Best Loss = 40.0036\n",
      "Epoch 300: Average Loss = 28.2329, Best Loss = 28.2329\n",
      "Epoch 400: Average Loss = 23.6918, Best Loss = 23.6918\n",
      "Early stopping triggered after 473 epochs. Restoring best model.\n",
      "Evaluating model\n",
      "Beginning inference phase\n",
      "Causal engine executing\n",
      "🔍 Checking for cycles using Tarjan’s SCC Algorithm...\n",
      "✅ No cycles detected! Graph is now a DAG.\n"
     ]
    },
    {
     "name": "stderr",
     "output_type": "stream",
     "text": [
      "Fitting causal mechanism of node cso1: 100%|██████████| 17/17 [00:00<00:00, 27.00it/s]\n"
     ]
    },
    {
     "name": "stdout",
     "output_type": "stream",
     "text": [
      "Final Results: {'target_variable': 'ced1', 'top_causes': ['bfo2', 'bso2', 'bed1', 'bso3', 'bed2', 'bfo1', 'bso1'], 'estimated_effects': {'bfo2': 0.019113449770433333, 'bso2': -0.0002762471186531501, 'bed1': -0.0005295337602678196, 'bso3': -0.00046706106778832135, 'bed2': -0.001271545693210252, 'bfo1': -0.026113839948268547, 'bso1': -0.13350169191272307}, 'observed_value': 0.27899723959151207, 'counterfactual_results': {'bfo2': {'counterfactual_value': 0.5732844770847128, 'difference_due_to_intervention': 0.2942872374932007}, 'bso2': {'counterfactual_value': 0.5531854501331093, 'difference_due_to_intervention': 0.2741882105415972}, 'bed1': {'counterfactual_value': 0.5589858662743596, 'difference_due_to_intervention': 0.2799886266828476}, 'bso3': {'counterfactual_value': 0.5570965680322628, 'difference_due_to_intervention': 0.27809932844075075}, 'bed2': {'counterfactual_value': 0.5580784792975723, 'difference_due_to_intervention': 0.2790812397060602}, 'bfo1': {'counterfactual_value': 0.5450900244231278, 'difference_due_to_intervention': 0.26609278483161575}, 'bso1': {'counterfactual_value': 0.49928063618117097, 'difference_due_to_intervention': 0.2202833965896589}}}\n",
      "ROOT CAUSE FOUND!\n",
      "bed1-->bfo2 | bed1 | bed2\n",
      "Model Accuracy Method 1: 47.37%\n",
      "--------------------------------------------------------------------------------------------------------------------------------\n",
      "Model: 19\n",
      "Anomaly: cso1\n",
      "Epoch 0, Loss: 0.0002\n",
      "Epoch 0: Average Loss = 3635.8069, Best Loss = 3635.8069\n",
      "Epoch 100: Average Loss = 321.3155, Best Loss = 321.3155\n",
      "Epoch 200: Average Loss = 110.1708, Best Loss = 110.1708\n",
      "Epoch 300: Average Loss = 63.1167, Best Loss = 63.1167\n",
      "Epoch 400: Average Loss = 44.7409, Best Loss = 44.6218\n",
      "Epoch 500: Average Loss = 35.4647, Best Loss = 35.4647\n",
      "Epoch 600: Average Loss = 30.3309, Best Loss = 30.1588\n",
      "Epoch 700: Average Loss = 27.1245, Best Loss = 26.9360\n",
      "Epoch 800: Average Loss = 24.8683, Best Loss = 24.8504\n",
      "Epoch 900: Average Loss = 23.8449, Best Loss = 23.1890\n",
      "Epoch 1000: Average Loss = 22.4174, Best Loss = 22.3124\n",
      "Early stopping triggered after 1023 epochs. Restoring best model.\n",
      "Evaluating model\n",
      "Beginning inference phase\n",
      "Causal engine executing\n",
      "🔍 Checking for cycles using Tarjan’s SCC Algorithm...\n",
      "✅ No cycles detected! Graph is now a DAG.\n"
     ]
    },
    {
     "name": "stderr",
     "output_type": "stream",
     "text": [
      "Fitting causal mechanism of node cso1: 100%|██████████| 17/17 [00:00<00:00, 29.53it/s]\n"
     ]
    },
    {
     "name": "stdout",
     "output_type": "stream",
     "text": [
      "Final Results: {'target_variable': 'cso1', 'top_causes': ['bed2', 'bed1', 'bfo1'], 'estimated_effects': {'bed2': -0.0007804350291983342, 'bed1': -0.00878308216532675, 'bfo1': -0.0668131447433375}, 'observed_value': 0.4757906456880551, 'counterfactual_results': {'bed2': {'counterfactual_value': 0.9499655696550566, 'difference_due_to_intervention': 0.4741749239670015}, 'bed1': {'counterfactual_value': 0.9573556912491263, 'difference_due_to_intervention': 0.4815650455610712}, 'bfo1': {'counterfactual_value': 0.9304359150901257, 'difference_due_to_intervention': 0.45464526940207056}}}\n",
      "bfo2-->bed1 | bed2 | bfo1\n",
      "Model Accuracy Method 1: 45.0%\n",
      "--------------------------------------------------------------------------------------------------------------------------------\n",
      "Model: 20\n",
      "Anomaly: ced1\n",
      "Epoch 0, Loss: 0.0000\n",
      "Epoch 0: Average Loss = 7142.8486, Best Loss = 7142.8486\n",
      "Epoch 100: Average Loss = 611.6709, Best Loss = 611.6709\n",
      "Epoch 200: Average Loss = 204.2513, Best Loss = 204.2513\n",
      "Epoch 300: Average Loss = 112.3396, Best Loss = 112.3396\n",
      "Epoch 400: Average Loss = 76.4308, Best Loss = 76.4308\n",
      "Epoch 500: Average Loss = 58.2354, Best Loss = 58.2354\n",
      "Epoch 600: Average Loss = 48.2127, Best Loss = 48.1707\n",
      "Epoch 700: Average Loss = 41.7971, Best Loss = 41.6951\n",
      "Epoch 800: Average Loss = 37.8450, Best Loss = 37.3514\n",
      "Epoch 900: Average Loss = 34.6544, Best Loss = 34.6544\n",
      "Epoch 1000: Average Loss = 32.5147, Best Loss = 32.5147\n",
      "Early stopping triggered after 1057 epochs. Restoring best model.\n",
      "Evaluating model\n",
      "Beginning inference phase\n",
      "Causal engine executing\n",
      "🔍 Checking for cycles using Tarjan’s SCC Algorithm...\n",
      "✅ No cycles detected! Graph is now a DAG.\n"
     ]
    },
    {
     "name": "stderr",
     "output_type": "stream",
     "text": [
      "Fitting causal mechanism of node cso1: 100%|██████████| 17/17 [00:00<00:00, 32.44it/s]\n"
     ]
    },
    {
     "name": "stdout",
     "output_type": "stream",
     "text": [
      "Final Results: {'target_variable': 'ced1', 'top_causes': ['bed1', 'bfo1', 'bso2', 'bed2', 'bso3', 'bso1', 'bfo2'], 'estimated_effects': {'bed1': 0.004807393601032495, 'bfo1': 0.00032394953615974553, 'bso2': -3.527838330943944e-05, 'bed2': -5.736680805357164e-05, 'bso3': -0.00023636264511403549, 'bso1': -0.00028340472253338134, 'bfo2': -0.0009255131887681012}, 'observed_value': 0.15204954416515848, 'counterfactual_results': {'bed1': {'counterfactual_value': 0.30490098541534155, 'difference_due_to_intervention': 0.15285144125018307}, 'bfo1': {'counterfactual_value': 0.3039922273171729, 'difference_due_to_intervention': 0.15194268315201442}, 'bso2': {'counterfactual_value': 0.3039475993904236, 'difference_due_to_intervention': 0.15189805522526512}, 'bed2': {'counterfactual_value': 0.30406048692565885, 'difference_due_to_intervention': 0.15201094276050037}, 'bso3': {'counterfactual_value': 0.3039586006830141, 'difference_due_to_intervention': 0.15190905651785563}, 'bso1': {'counterfactual_value': 0.3039908609540731, 'difference_due_to_intervention': 0.15194131678891465}, 'bfo2': {'counterfactual_value': 0.303332115504281, 'difference_due_to_intervention': 0.15128257133912254}}}\n",
      "ROOT CAUSE FOUND!\n",
      "bed2-->bed1 | bed2 | bfo1\n",
      "Model Accuracy Method 1: 47.62%\n",
      "--------------------------------------------------------------------------------------------------------------------------------\n",
      "Model: 21\n",
      "Anomaly: cfo1\n",
      "Epoch 0, Loss: 0.0002\n",
      "Epoch 0: Average Loss = 2441.9904, Best Loss = 2441.9904\n",
      "Epoch 100: Average Loss = 89.8437, Best Loss = 89.8437\n",
      "Epoch 200: Average Loss = 45.7292, Best Loss = 45.7292\n",
      "Epoch 300: Average Loss = 36.1017, Best Loss = 36.1017\n",
      "Epoch 400: Average Loss = 32.3074, Best Loss = 32.2808\n",
      "Epoch 500: Average Loss = 30.3914, Best Loss = 30.3605\n",
      "Epoch 600: Average Loss = 29.4796, Best Loss = 29.3447\n",
      "Early stopping triggered after 672 epochs. Restoring best model.\n",
      "Evaluating model\n",
      "Beginning inference phase\n",
      "Causal engine executing\n",
      "🔍 Checking for cycles using Tarjan’s SCC Algorithm...\n",
      "✅ No cycles detected! Graph is now a DAG.\n"
     ]
    },
    {
     "name": "stderr",
     "output_type": "stream",
     "text": [
      "Fitting causal mechanism of node cso1: 100%|██████████| 17/17 [00:00<00:00, 25.26it/s]\n"
     ]
    },
    {
     "name": "stdout",
     "output_type": "stream",
     "text": [
      "Final Results: {'target_variable': 'cfo1', 'top_causes': ['bfo2'], 'estimated_effects': {'bfo2': -0.014851716074860355}, 'observed_value': 0.5822794616675839, 'counterfactual_results': {'bfo2': {'counterfactual_value': 1.159594231036895, 'difference_due_to_intervention': 0.577314769369311}}}\n",
      "ROOT CAUSE FOUND!\n",
      "bso3-->bfo2 | bfo1 | bso3\n",
      "Model Accuracy Method 1: 50.0%\n",
      "--------------------------------------------------------------------------------------------------------------------------------\n",
      "Model: 22\n",
      "Anomaly: cso1\n",
      "Epoch 0, Loss: 0.0002\n",
      "Epoch 0: Average Loss = 10606.6782, Best Loss = 10606.6782\n",
      "Epoch 100: Average Loss = 598.5755, Best Loss = 598.5755\n",
      "Epoch 200: Average Loss = 196.5390, Best Loss = 196.5390\n",
      "Epoch 300: Average Loss = 107.2947, Best Loss = 107.2947\n",
      "Epoch 400: Average Loss = 72.2255, Best Loss = 72.2255\n",
      "Epoch 500: Average Loss = 55.5015, Best Loss = 55.5015\n",
      "Epoch 600: Average Loss = 45.3761, Best Loss = 45.3761\n",
      "Epoch 700: Average Loss = 39.4420, Best Loss = 39.3570\n",
      "Epoch 800: Average Loss = 35.7492, Best Loss = 35.5827\n",
      "Epoch 900: Average Loss = 33.2212, Best Loss = 32.8425\n",
      "Epoch 1000: Average Loss = 31.3685, Best Loss = 31.1591\n",
      "Early stopping triggered after 1075 epochs. Restoring best model.\n",
      "Evaluating model\n",
      "Beginning inference phase\n",
      "Causal engine executing\n",
      "🔍 Checking for cycles using Tarjan’s SCC Algorithm...\n",
      "✅ No cycles detected! Graph is now a DAG.\n"
     ]
    },
    {
     "name": "stderr",
     "output_type": "stream",
     "text": [
      "Fitting causal mechanism of node cso1: 100%|██████████| 17/17 [00:00<00:00, 19.04it/s]\n"
     ]
    },
    {
     "name": "stdout",
     "output_type": "stream",
     "text": [
      "Final Results: {'target_variable': 'cso1', 'top_causes': ['bfo2', 'bso3', 'bfo1', 'bed1', 'bed2', 'bso2'], 'estimated_effects': {'bfo2': 0.151664767530451, 'bso3': 0.060330511882570825, 'bfo1': 0.04452736394277468, 'bed1': 0.0348177565125673, 'bed2': 0.0007907281118161857, 'bso2': -0.004675023963703728}, 'observed_value': 0.29928968854930166, 'counterfactual_results': {'bfo2': {'counterfactual_value': 0.6949488580189664, 'difference_due_to_intervention': 0.3956591694696648}, 'bso3': {'counterfactual_value': 0.6342031099972736, 'difference_due_to_intervention': 0.3349134214479719}, 'bfo1': {'counterfactual_value': 0.6243399885026752, 'difference_due_to_intervention': 0.3250502999533736}, 'bed1': {'counterfactual_value': 0.6279540804254812, 'difference_due_to_intervention': 0.3286643918761795}, 'bed2': {'counterfactual_value': 0.5978587667985205, 'difference_due_to_intervention': 0.2985690782492188}, 'bso2': {'counterfactual_value': 0.5982686434531682, 'difference_due_to_intervention': 0.29897895490386656}}}\n",
      "ROOT CAUSE FOUND!\n",
      "bfo2-->bfo2 | bso3 | bed1\n",
      "Model Accuracy Method 1: 52.17%\n",
      "--------------------------------------------------------------------------------------------------------------------------------\n",
      "Model: 23\n",
      "Anomaly: ced1\n",
      "Epoch 0, Loss: 0.0004\n",
      "Epoch 0: Average Loss = 2079.6923, Best Loss = 2079.6923\n",
      "Epoch 100: Average Loss = 54.3543, Best Loss = 54.3543\n",
      "Early stopping triggered after 197 epochs. Restoring best model.\n",
      "Evaluating model\n",
      "Beginning inference phase\n",
      "Causal engine executing\n",
      "🔍 Checking for cycles using Tarjan’s SCC Algorithm...\n",
      "✅ No cycles detected! Graph is now a DAG.\n"
     ]
    },
    {
     "name": "stderr",
     "output_type": "stream",
     "text": [
      "Fitting causal mechanism of node cso1: 100%|██████████| 17/17 [00:01<00:00,  9.41it/s]\n"
     ]
    },
    {
     "name": "stdout",
     "output_type": "stream",
     "text": [
      "Final Results: {'target_variable': 'ced1', 'top_causes': ['bed2', 'bso2', 'bso3'], 'estimated_effects': {'bed2': 0.02046564723201512, 'bso2': 0.0020899909089968083, 'bso3': -0.005918876888420771}, 'observed_value': 0.1440530948352995, 'counterfactual_results': {'bed2': {'counterfactual_value': 0.2896196857316425, 'difference_due_to_intervention': 0.145566590896343}, 'bso2': {'counterfactual_value': 0.2894198028746048, 'difference_due_to_intervention': 0.1453667080393053}, 'bso3': {'counterfactual_value': 0.27802138785261793, 'difference_due_to_intervention': 0.13396829301731844}}}\n",
      "bed1-->bed2 | bso2 | bso3\n",
      "Model Accuracy Method 1: 50.0%\n",
      "--------------------------------------------------------------------------------------------------------------------------------\n",
      "Model: 24\n",
      "Anomaly: ced1\n",
      "Epoch 0, Loss: 0.0001\n",
      "Epoch 0: Average Loss = 5598.1083, Best Loss = 5598.1083\n",
      "Epoch 100: Average Loss = 470.5707, Best Loss = 470.5707\n",
      "Epoch 200: Average Loss = 156.2932, Best Loss = 156.2932\n",
      "Epoch 300: Average Loss = 84.6210, Best Loss = 84.6210\n",
      "Epoch 400: Average Loss = 56.7953, Best Loss = 56.7953\n",
      "Epoch 500: Average Loss = 42.7520, Best Loss = 42.7520\n",
      "Epoch 600: Average Loss = 35.0010, Best Loss = 35.0010\n",
      "Epoch 700: Average Loss = 30.1301, Best Loss = 30.1301\n",
      "Epoch 800: Average Loss = 26.8842, Best Loss = 26.8842\n",
      "Epoch 900: Average Loss = 24.6728, Best Loss = 24.6728\n",
      "Early stopping triggered after 929 epochs. Restoring best model.\n",
      "Evaluating model\n",
      "Beginning inference phase\n",
      "Causal engine executing\n",
      "🔍 Checking for cycles using Tarjan’s SCC Algorithm...\n",
      "✅ No cycles detected! Graph is now a DAG.\n"
     ]
    },
    {
     "name": "stderr",
     "output_type": "stream",
     "text": [
      "Fitting causal mechanism of node cso1: 100%|██████████| 17/17 [00:00<00:00, 25.97it/s]\n"
     ]
    },
    {
     "name": "stdout",
     "output_type": "stream",
     "text": [
      "Final Results: {'target_variable': 'ced1', 'top_causes': ['bfo1', 'bed1', 'bso3', 'bso2', 'bfo2', 'bed2', 'bso1'], 'estimated_effects': {'bfo1': 0.0014205057237827168, 'bed1': 0.0005582365399762479, 'bso3': 0.0004745590267819233, 'bso2': 7.553853285552359e-05, 'bfo2': -6.3913974865659196e-06, 'bed2': -0.0003007786534029999, 'bso1': -0.004494518881414861}, 'observed_value': 0.16080419228046872, 'counterfactual_results': {'bfo1': {'counterfactual_value': 0.3218271193140981, 'difference_due_to_intervention': 0.16102292703362936}, 'bed1': {'counterfactual_value': 0.3217472205752407, 'difference_due_to_intervention': 0.16094302829477197}, 'bso3': {'counterfactual_value': 0.3217569890679147, 'difference_due_to_intervention': 0.160952796787446}, 'bso2': {'counterfactual_value': 0.3217638096872594, 'difference_due_to_intervention': 0.16095961740679066}, 'bfo2': {'counterfactual_value': 0.3216175914508708, 'difference_due_to_intervention': 0.1608133991704021}, 'bed2': {'counterfactual_value': 0.32126671868017787, 'difference_due_to_intervention': 0.16046252639970915}, 'bso1': {'counterfactual_value': 0.31995399448016115, 'difference_due_to_intervention': 0.15914980219969244}}}\n",
      "bed2-->bfo1 | bso2 | bso3\n",
      "Model Accuracy Method 1: 48.0%\n",
      "--------------------------------------------------------------------------------------------------------------------------------\n",
      "Model: 25\n",
      "Anomaly: ced1\n",
      "Epoch 0, Loss: 0.0000\n",
      "Epoch 0: Average Loss = 4505.0730, Best Loss = 4505.0730\n",
      "Epoch 100: Average Loss = 391.8430, Best Loss = 391.8430\n",
      "Epoch 200: Average Loss = 139.4317, Best Loss = 139.4317\n",
      "Epoch 300: Average Loss = 83.2382, Best Loss = 83.2382\n",
      "Epoch 400: Average Loss = 61.0080, Best Loss = 61.0080\n",
      "Epoch 500: Average Loss = 50.0135, Best Loss = 50.0135\n",
      "Epoch 600: Average Loss = 43.1238, Best Loss = 43.1238\n",
      "Epoch 700: Average Loss = 39.5769, Best Loss = 39.1782\n",
      "Epoch 800: Average Loss = 36.9143, Best Loss = 36.5368\n",
      "Early stopping triggered after 835 epochs. Restoring best model.\n",
      "Evaluating model\n",
      "Beginning inference phase\n",
      "Causal engine executing\n",
      "🔍 Checking for cycles using Tarjan’s SCC Algorithm...\n",
      "✅ No cycles detected! Graph is now a DAG.\n"
     ]
    },
    {
     "name": "stderr",
     "output_type": "stream",
     "text": [
      "Fitting causal mechanism of node cso1: 100%|██████████| 17/17 [00:00<00:00, 22.55it/s]\n"
     ]
    },
    {
     "name": "stdout",
     "output_type": "stream",
     "text": [
      "Final Results: {'target_variable': 'ced1', 'top_causes': ['bfo1', 'bed1', 'bso3', 'bfo2', 'bso2', 'bso1', 'bed2'], 'estimated_effects': {'bfo1': 0.0235756762182725, 'bed1': 0.007219120775796006, 'bso3': 0.000664441603762389, 'bfo2': 0.00018380571996301498, 'bso2': -7.105151962005785e-06, 'bso1': -0.000622259848882839, 'bed2': -0.0007405387876436853}, 'observed_value': 0.17047286310586493, 'counterfactual_results': {'bfo1': {'counterfactual_value': 0.35052123513351274, 'difference_due_to_intervention': 0.1800483720276478}, 'bed1': {'counterfactual_value': 0.34547176159182746, 'difference_due_to_intervention': 0.17499889848596253}, 'bso3': {'counterfactual_value': 0.3411079958093479, 'difference_due_to_intervention': 0.170635132703483}, 'bfo2': {'counterfactual_value': 0.34120146750600544, 'difference_due_to_intervention': 0.1707286044001405}, 'bso2': {'counterfactual_value': 0.34132803771515685, 'difference_due_to_intervention': 0.17085517460929192}, 'bso1': {'counterfactual_value': 0.34037774302546875, 'difference_due_to_intervention': 0.16990487991960382}, 'bed2': {'counterfactual_value': 0.3412140848680658, 'difference_due_to_intervention': 0.17074122176220088}}}\n",
      "bed2-->bfo1 | bed1 | bso2\n",
      "Model Accuracy Method 1: 46.15%\n",
      "--------------------------------------------------------------------------------------------------------------------------------\n",
      "Model: 26\n",
      "Anomaly: ced1\n",
      "Epoch 0, Loss: 0.0002\n",
      "Epoch 0: Average Loss = 4220.5236, Best Loss = 4220.5236\n",
      "Epoch 100: Average Loss = 73.2963, Best Loss = 73.2963\n",
      "Epoch 200: Average Loss = 32.9937, Best Loss = 32.9937\n",
      "Epoch 300: Average Loss = 24.1468, Best Loss = 24.1468\n",
      "Epoch 400: Average Loss = 21.0288, Best Loss = 21.0217\n",
      "Epoch 500: Average Loss = 19.4739, Best Loss = 19.4264\n",
      "Early stopping triggered after 576 epochs. Restoring best model.\n",
      "Evaluating model\n",
      "Beginning inference phase\n",
      "Causal engine executing\n",
      "🔍 Checking for cycles using Tarjan’s SCC Algorithm...\n",
      "✅ No cycles detected! Graph is now a DAG.\n"
     ]
    },
    {
     "name": "stderr",
     "output_type": "stream",
     "text": [
      "Fitting causal mechanism of node cso1: 100%|██████████| 17/17 [00:01<00:00, 16.36it/s]\n"
     ]
    },
    {
     "name": "stdout",
     "output_type": "stream",
     "text": [
      "Final Results: {'target_variable': 'ced1', 'top_causes': ['bso2', 'bso3'], 'estimated_effects': {'bso2': -0.00019277081496560378, 'bso3': -0.025770046115803774}, 'observed_value': 0.15032997770126, 'counterfactual_results': {'bso2': {'counterfactual_value': 0.30035028144708, 'difference_due_to_intervention': 0.15002030374581998}, 'bso3': {'counterfactual_value': 0.2931320344776584, 'difference_due_to_intervention': 0.1428020567763984}}}\n",
      "bed1-->bso2 | bso3 | bfo1\n",
      "Model Accuracy Method 1: 44.44%\n",
      "--------------------------------------------------------------------------------------------------------------------------------\n",
      "Model: 27\n",
      "Anomaly: cso1\n",
      "Epoch 0, Loss: 0.0001\n",
      "Epoch 0: Average Loss = 4214.1615, Best Loss = 4214.1615\n",
      "Epoch 100: Average Loss = 236.9677, Best Loss = 236.9677\n",
      "Epoch 200: Average Loss = 88.6202, Best Loss = 88.6202\n",
      "Epoch 300: Average Loss = 55.2009, Best Loss = 55.2009\n",
      "Epoch 400: Average Loss = 42.2348, Best Loss = 42.1861\n",
      "Epoch 500: Average Loss = 35.6069, Best Loss = 35.6069\n",
      "Epoch 600: Average Loss = 32.0772, Best Loss = 32.0772\n",
      "Epoch 700: Average Loss = 29.8236, Best Loss = 29.8141\n",
      "Epoch 800: Average Loss = 28.4222, Best Loss = 28.4075\n",
      "Epoch 900: Average Loss = 27.5449, Best Loss = 27.3537\n",
      "Epoch 1000: Average Loss = 26.7002, Best Loss = 26.7002\n",
      "Epoch 1100: Average Loss = 26.3228, Best Loss = 26.2008\n",
      "Early stopping triggered after 1142 epochs. Restoring best model.\n",
      "Evaluating model\n",
      "Beginning inference phase\n",
      "Causal engine executing\n",
      "🔍 Checking for cycles using Tarjan’s SCC Algorithm...\n",
      "✅ No cycles detected! Graph is now a DAG.\n"
     ]
    },
    {
     "name": "stderr",
     "output_type": "stream",
     "text": [
      "Fitting causal mechanism of node cso1: 100%|██████████| 17/17 [00:00<00:00, 57.89it/s]\n"
     ]
    },
    {
     "name": "stdout",
     "output_type": "stream",
     "text": [
      "Final Results: {'target_variable': 'cso1', 'top_causes': ['bfo2'], 'estimated_effects': {'bfo2': 0.12234614087462091}, 'observed_value': 0.2808010485545491, 'counterfactual_results': {'bfo2': {'counterfactual_value': 0.47150921744441904, 'difference_due_to_intervention': 0.1907081688898699}}}\n",
      "ROOT CAUSE FOUND!\n",
      "bfo2-->bfo2 | bfo1 | bso3\n",
      "Model Accuracy Method 1: 46.43%\n",
      "--------------------------------------------------------------------------------------------------------------------------------\n",
      "Model: 28\n",
      "Anomaly: ced1\n",
      "Epoch 0, Loss: 0.0001\n",
      "Epoch 0: Average Loss = 2386.7602, Best Loss = 2386.7602\n",
      "Epoch 100: Average Loss = 91.2515, Best Loss = 91.2515\n",
      "Epoch 200: Average Loss = 48.1830, Best Loss = 48.1830\n",
      "Epoch 300: Average Loss = 38.5364, Best Loss = 38.5364\n",
      "Epoch 400: Average Loss = 34.8815, Best Loss = 34.8815\n",
      "Epoch 500: Average Loss = 33.1016, Best Loss = 33.1016\n",
      "Epoch 600: Average Loss = 32.1501, Best Loss = 32.1501\n",
      "Early stopping triggered after 663 epochs. Restoring best model.\n",
      "Evaluating model\n",
      "Beginning inference phase\n",
      "Causal engine executing\n",
      "🔍 Checking for cycles using Tarjan’s SCC Algorithm...\n",
      "✅ No cycles detected! Graph is now a DAG.\n"
     ]
    },
    {
     "name": "stderr",
     "output_type": "stream",
     "text": [
      "Fitting causal mechanism of node cso1: 100%|██████████| 17/17 [00:00<00:00, 20.10it/s]\n"
     ]
    },
    {
     "name": "stdout",
     "output_type": "stream",
     "text": [
      "Final Results: {'target_variable': 'ced1', 'top_causes': ['bso1', 'bed1', 'bso3', 'bed2', 'bso2', 'bfo2', 'bfo1'], 'estimated_effects': {'bso1': 0.03536178560686046, 'bed1': 0.014626252611644325, 'bso3': -2.277058334546056e-05, 'bed2': -0.00040667291391086047, 'bso2': -0.00046844571133639046, 'bfo2': -0.001989647879554829, 'bfo1': -0.004852917981042176}, 'observed_value': 0.19879548113381004, 'counterfactual_results': {'bso1': {'counterfactual_value': 0.4087036083270678, 'difference_due_to_intervention': 0.20990812719325777}, 'bed1': {'counterfactual_value': 0.4038180184465964, 'difference_due_to_intervention': 0.20502253731278638}, 'bso3': {'counterfactual_value': 0.39707192084534604, 'difference_due_to_intervention': 0.198276439711536}, 'bed2': {'counterfactual_value': 0.39750861380985186, 'difference_due_to_intervention': 0.19871313267604182}, 'bso2': {'counterfactual_value': 0.3973228857941522, 'difference_due_to_intervention': 0.19852740466034216}, 'bfo2': {'counterfactual_value': 0.39598935327355816, 'difference_due_to_intervention': 0.19719387213974812}, 'bfo1': {'counterfactual_value': 0.39627782960448205, 'difference_due_to_intervention': 0.197482348470672}}}\n",
      "ROOT CAUSE FOUND!\n",
      "bed2-->bso1 | bed1 | bed2\n",
      "Model Accuracy Method 1: 48.28%\n",
      "--------------------------------------------------------------------------------------------------------------------------------\n",
      "Model: 29\n",
      "Anomaly: ced1\n",
      "Epoch 0, Loss: 0.0001\n",
      "Epoch 0: Average Loss = 3871.6741, Best Loss = 3871.6741\n",
      "Epoch 100: Average Loss = 333.4142, Best Loss = 333.4142\n",
      "Epoch 200: Average Loss = 112.0016, Best Loss = 112.0016\n",
      "Epoch 300: Average Loss = 61.7881, Best Loss = 61.7881\n",
      "Epoch 400: Average Loss = 42.3037, Best Loss = 42.3037\n",
      "Epoch 500: Average Loss = 32.4759, Best Loss = 32.4759\n",
      "Epoch 600: Average Loss = 26.9605, Best Loss = 26.9605\n",
      "Epoch 700: Average Loss = 23.5586, Best Loss = 23.5586\n",
      "Epoch 800: Average Loss = 21.3539, Best Loss = 21.3539\n",
      "Epoch 900: Average Loss = 19.8446, Best Loss = 19.8402\n",
      "Early stopping triggered after 971 epochs. Restoring best model.\n",
      "Evaluating model\n",
      "Beginning inference phase\n",
      "Causal engine executing\n",
      "🔍 Checking for cycles using Tarjan’s SCC Algorithm...\n",
      "✅ No cycles detected! Graph is now a DAG.\n"
     ]
    },
    {
     "name": "stderr",
     "output_type": "stream",
     "text": [
      "Fitting causal mechanism of node cso1: 100%|██████████| 17/17 [00:00<00:00, 37.59it/s]\n"
     ]
    },
    {
     "name": "stdout",
     "output_type": "stream",
     "text": [
      "Final Results: {'target_variable': 'ced1', 'top_causes': ['bso3', 'bed1', 'bso2', 'bfo1', 'bed2', 'bfo2', 'bso1'], 'estimated_effects': {'bso3': 0.8253189122603988, 'bed1': 0.22292643852929028, 'bso2': -0.006621319405642062, 'bfo1': -0.11091779165435163, 'bed2': -0.12145255599731093, 'bfo2': -1.0126733076701424, 'bso1': -99.98695577615644}, 'observed_value': 0.15835286516583566, 'counterfactual_results': {'bso3': {'counterfactual_value': 1.002808388125802, 'difference_due_to_intervention': 0.8444555229599664}, 'bed1': {'counterfactual_value': 0.4632806085407886, 'difference_due_to_intervention': 0.304927743374953}, 'bso2': {'counterfactual_value': 0.3114030378903229, 'difference_due_to_intervention': 0.15305017272448726}, 'bfo1': {'counterfactual_value': 0.22282493080517737, 'difference_due_to_intervention': 0.06447206563934171}, 'bed2': {'counterfactual_value': 0.23445220256728574, 'difference_due_to_intervention': 0.07609933740145008}, 'bfo2': {'counterfactual_value': -0.5488061690343616, 'difference_due_to_intervention': -0.7071590342001973}, 'bso1': {'counterfactual_value': -56.473455769218326, 'difference_due_to_intervention': -56.631808634384164}}}\n",
      "ROOT CAUSE FOUND!\n",
      "bed1-->bso3 | bed1 | bso2\n",
      "Model Accuracy Method 1: 50.0%\n",
      "--------------------------------------------------------------------------------------------------------------------------------\n",
      "Model: 30\n",
      "Anomaly: cso1\n",
      "Epoch 0, Loss: 0.0002\n",
      "Epoch 0: Average Loss = 3148.8146, Best Loss = 3148.8146\n",
      "Epoch 100: Average Loss = 76.7346, Best Loss = 76.7346\n",
      "Epoch 200: Average Loss = 49.0465, Best Loss = 49.0465\n",
      "Epoch 300: Average Loss = 42.6286, Best Loss = 42.6286\n",
      "Epoch 400: Average Loss = 40.2398, Best Loss = 40.2398\n",
      "Epoch 500: Average Loss = 39.0994, Best Loss = 39.0853\n",
      "Early stopping triggered after 529 epochs. Restoring best model.\n",
      "Evaluating model\n",
      "Beginning inference phase\n",
      "Causal engine executing\n",
      "🔍 Checking for cycles using Tarjan’s SCC Algorithm...\n",
      "✅ No cycles detected! Graph is now a DAG.\n"
     ]
    },
    {
     "name": "stderr",
     "output_type": "stream",
     "text": [
      "Fitting causal mechanism of node cso1: 100%|██████████| 17/17 [00:01<00:00, 12.98it/s]\n"
     ]
    },
    {
     "name": "stdout",
     "output_type": "stream",
     "text": [
      "Final Results: {'target_variable': 'cso1', 'top_causes': ['bfo2', 'bso3', 'bfo1', 'bso1', 'bed2', 'bed1', 'bso2'], 'estimated_effects': {'bfo2': 0.017209338240565586, 'bso3': 0.007686786947375235, 'bfo1': 0.003393827106242142, 'bso1': 0.001132164920954526, 'bed2': 3.222442585509855e-05, 'bed1': -5.7222427591818725e-05, 'bso2': -0.0023312919949400324}, 'observed_value': 0.47126690845146463, 'counterfactual_results': {'bfo2': {'counterfactual_value': 0.9551048703373614, 'difference_due_to_intervention': 0.48383796188589673}, 'bso3': {'counterfactual_value': 0.9464585640005747, 'difference_due_to_intervention': 0.4751916555491101}, 'bfo1': {'counterfactual_value': 0.9441644481383016, 'difference_due_to_intervention': 0.47289753968683695}, 'bso1': {'counterfactual_value': 0.9427026233651542, 'difference_due_to_intervention': 0.4714357149136896}, 'bed2': {'counterfactual_value': 0.9428489693825408, 'difference_due_to_intervention': 0.4715820609310762}, 'bed1': {'counterfactual_value': 0.9420249237704952, 'difference_due_to_intervention': 0.47075801531903055}, 'bso2': {'counterfactual_value': 0.9414473296274828, 'difference_due_to_intervention': 0.47018042117601816}}}\n",
      "bso2-->bfo2 | bso3 | bfo1\n",
      "Model Accuracy Method 1: 48.39%\n",
      "--------------------------------------------------------------------------------------------------------------------------------\n",
      "Model: 31\n",
      "Anomaly: cfo1\n",
      "Epoch 0, Loss: 0.0001\n",
      "Epoch 0: Average Loss = 4936.8631, Best Loss = 4936.8631\n",
      "Epoch 100: Average Loss = 94.8949, Best Loss = 94.8949\n",
      "Epoch 200: Average Loss = 49.1035, Best Loss = 49.1035\n",
      "Epoch 300: Average Loss = 38.1317, Best Loss = 38.1317\n",
      "Epoch 400: Average Loss = 34.5602, Best Loss = 34.4822\n",
      "Epoch 500: Average Loss = 32.7038, Best Loss = 32.7038\n",
      "Epoch 600: Average Loss = 31.8633, Best Loss = 31.8633\n",
      "Early stopping triggered after 694 epochs. Restoring best model.\n",
      "Evaluating model\n",
      "Beginning inference phase\n",
      "Causal engine executing\n",
      "🔍 Checking for cycles using Tarjan’s SCC Algorithm...\n",
      "✅ No cycles detected! Graph is now a DAG.\n"
     ]
    },
    {
     "name": "stderr",
     "output_type": "stream",
     "text": [
      "Fitting causal mechanism of node cso1: 100%|██████████| 17/17 [00:01<00:00, 12.84it/s]\n"
     ]
    },
    {
     "name": "stdout",
     "output_type": "stream",
     "text": [
      "Final Results: {'target_variable': 'cfo1', 'top_causes': ['bso1', 'bso3', 'bed2', 'bso2', 'bed1', 'bfo2', 'bfo1'], 'estimated_effects': {'bso1': 0.012858281718149178, 'bso3': 0.0007691769752163902, 'bed2': 0.00028732739573822386, 'bso2': 1.2920258043669364e-05, 'bed1': -0.0007577270068768183, 'bfo2': -0.00835368344611409, 'bfo1': -0.015577330291982716}, 'observed_value': 0.5551534050508077, 'counterfactual_results': {'bso1': {'counterfactual_value': 1.1241930038124672, 'difference_due_to_intervention': 0.5690395987616595}, 'bso3': {'counterfactual_value': 1.1110584294286403, 'difference_due_to_intervention': 0.5559050243778326}, 'bed2': {'counterfactual_value': 1.1098868213302948, 'difference_due_to_intervention': 0.5547334162794871}, 'bso2': {'counterfactual_value': 1.1095288061545403, 'difference_due_to_intervention': 0.5543754011037326}, 'bed1': {'counterfactual_value': 1.110473795805424, 'difference_due_to_intervention': 0.5553203907546164}, 'bfo2': {'counterfactual_value': 1.105874811698424, 'difference_due_to_intervention': 0.5507214066476164}, 'bfo1': {'counterfactual_value': 1.0984792368212561, 'difference_due_to_intervention': 0.5433258317704485}}}\n",
      "ROOT CAUSE FOUND!\n",
      "bso3-->bso1 | bso3 | bed1\n",
      "Model Accuracy Method 1: 50.0%\n",
      "--------------------------------------------------------------------------------------------------------------------------------\n",
      "Model: 32\n",
      "Anomaly: cfo1\n",
      "Epoch 0, Loss: 0.0001\n",
      "Epoch 0: Average Loss = 4166.9960, Best Loss = 4166.9960\n",
      "Epoch 100: Average Loss = 77.9141, Best Loss = 77.9141\n",
      "Epoch 200: Average Loss = 37.3874, Best Loss = 37.3874\n",
      "Epoch 300: Average Loss = 28.4751, Best Loss = 28.4751\n",
      "Epoch 400: Average Loss = 25.1961, Best Loss = 25.1961\n",
      "Early stopping triggered after 452 epochs. Restoring best model.\n",
      "Evaluating model\n",
      "Beginning inference phase\n",
      "Causal engine executing\n",
      "🔍 Checking for cycles using Tarjan’s SCC Algorithm...\n",
      "✅ No cycles detected! Graph is now a DAG.\n"
     ]
    },
    {
     "name": "stderr",
     "output_type": "stream",
     "text": [
      "Fitting causal mechanism of node cso1: 100%|██████████| 17/17 [00:00<00:00, 17.50it/s]\n"
     ]
    },
    {
     "name": "stdout",
     "output_type": "stream",
     "text": [
      "⚠️ No causal factors found for cfo1. Exiting pipeline.\n",
      "bso1-->bfo1 | bso3 | bso2\n",
      "Model Accuracy Method 1: 48.48%\n",
      "--------------------------------------------------------------------------------------------------------------------------------\n",
      "Model: 33\n",
      "Anomaly: cso1\n",
      "Epoch 0, Loss: 0.0001\n",
      "Epoch 0: Average Loss = 4334.2137, Best Loss = 4334.2137\n",
      "Epoch 100: Average Loss = 368.2434, Best Loss = 368.2434\n",
      "Epoch 200: Average Loss = 132.7233, Best Loss = 132.7233\n",
      "Epoch 300: Average Loss = 79.0908, Best Loss = 79.0908\n",
      "Epoch 400: Average Loss = 57.5394, Best Loss = 57.5394\n",
      "Epoch 500: Average Loss = 47.1279, Best Loss = 46.9430\n",
      "Epoch 600: Average Loss = 41.0022, Best Loss = 40.9682\n",
      "Epoch 700: Average Loss = 37.1514, Best Loss = 37.1514\n",
      "Epoch 800: Average Loss = 34.8953, Best Loss = 34.7942\n",
      "Epoch 900: Average Loss = 32.9610, Best Loss = 32.9610\n",
      "Epoch 1000: Average Loss = 32.1111, Best Loss = 31.9290\n",
      "Epoch 1100: Average Loss = 31.2432, Best Loss = 30.9514\n",
      "Early stopping triggered after 1107 epochs. Restoring best model.\n",
      "Evaluating model\n",
      "Beginning inference phase\n",
      "Causal engine executing\n",
      "🔍 Checking for cycles using Tarjan’s SCC Algorithm...\n",
      "✅ No cycles detected! Graph is now a DAG.\n"
     ]
    },
    {
     "name": "stderr",
     "output_type": "stream",
     "text": [
      "Fitting causal mechanism of node cso1: 100%|██████████| 17/17 [00:00<00:00, 25.97it/s]\n"
     ]
    },
    {
     "name": "stdout",
     "output_type": "stream",
     "text": [
      "Final Results: {'target_variable': 'cso1', 'top_causes': ['bed1', 'bed2'], 'estimated_effects': {'bed1': -0.0045167963601971395, 'bed2': -0.005625492156136225}, 'observed_value': 0.4806752403961764, 'counterfactual_results': {'bed1': {'counterfactual_value': 0.9575950700509018, 'difference_due_to_intervention': 0.47691982965472546}, 'bed2': {'counterfactual_value': 0.9643836214951511, 'difference_due_to_intervention': 0.48370838109897474}}}\n",
      "bso2-->bed2 | bed1 | bfo1\n",
      "Model Accuracy Method 1: 47.06%\n",
      "--------------------------------------------------------------------------------------------------------------------------------\n",
      "Model: 34\n",
      "Anomaly: ced1\n",
      "Epoch 0, Loss: 0.0001\n",
      "Epoch 0: Average Loss = 1873.0390, Best Loss = 1873.0390\n",
      "Epoch 100: Average Loss = 108.7113, Best Loss = 108.7113\n",
      "Epoch 200: Average Loss = 41.9229, Best Loss = 41.9229\n",
      "Epoch 300: Average Loss = 27.0868, Best Loss = 27.0868\n",
      "Epoch 400: Average Loss = 21.4828, Best Loss = 21.4763\n",
      "Epoch 500: Average Loss = 18.8148, Best Loss = 18.5784\n",
      "Epoch 600: Average Loss = 17.0507, Best Loss = 16.9166\n",
      "Epoch 700: Average Loss = 16.0525, Best Loss = 16.0419\n",
      "Epoch 800: Average Loss = 15.4318, Best Loss = 15.3542\n",
      "Epoch 900: Average Loss = 15.0071, Best Loss = 14.8928\n",
      "Early stopping triggered after 909 epochs. Restoring best model.\n",
      "Evaluating model\n",
      "Beginning inference phase\n",
      "Causal engine executing\n",
      "🔍 Checking for cycles using Tarjan’s SCC Algorithm...\n",
      "✅ No cycles detected! Graph is now a DAG.\n"
     ]
    },
    {
     "name": "stderr",
     "output_type": "stream",
     "text": [
      "Fitting causal mechanism of node cso1: 100%|██████████| 17/17 [00:00<00:00, 34.96it/s]\n"
     ]
    },
    {
     "name": "stdout",
     "output_type": "stream",
     "text": [
      "Final Results: {'target_variable': 'ced1', 'top_causes': ['bso1', 'bfo2', 'bed2'], 'estimated_effects': {'bso1': 0.0730863108989459, 'bfo2': 0.006694061012662261, 'bed2': 0.0011098793715975386}, 'observed_value': 0.2351439811322607, 'counterfactual_results': {'bso1': {'counterfactual_value': 0.4721690078305662, 'difference_due_to_intervention': 0.2370250266983055}, 'bfo2': {'counterfactual_value': 0.47277716570480327, 'difference_due_to_intervention': 0.23763318457254257}, 'bed2': {'counterfactual_value': 0.47135821900997144, 'difference_due_to_intervention': 0.23621423787771073}}}\n",
      "ROOT CAUSE FOUND!\n",
      "bed2-->bfo2 | bso1 | bed2\n",
      "Model Accuracy Method 1: 48.57%\n",
      "--------------------------------------------------------------------------------------------------------------------------------\n",
      "Model: 35\n",
      "Anomaly: cfo1\n",
      "Epoch 0, Loss: 0.0001\n",
      "Epoch 0: Average Loss = 4992.9470, Best Loss = 4992.9470\n",
      "Epoch 100: Average Loss = 404.7465, Best Loss = 404.7465\n",
      "Epoch 200: Average Loss = 143.5484, Best Loss = 143.5484\n",
      "Epoch 300: Average Loss = 82.6448, Best Loss = 82.6448\n",
      "Epoch 400: Average Loss = 58.3439, Best Loss = 58.3439\n",
      "Epoch 500: Average Loss = 46.0913, Best Loss = 46.0913\n",
      "Epoch 600: Average Loss = 39.6230, Best Loss = 39.6230\n",
      "Epoch 700: Average Loss = 35.2216, Best Loss = 35.0813\n",
      "Epoch 800: Average Loss = 32.4573, Best Loss = 32.0932\n",
      "Epoch 900: Average Loss = 30.2008, Best Loss = 30.2008\n",
      "Epoch 1000: Average Loss = 29.1130, Best Loss = 28.6430\n",
      "Epoch 1100: Average Loss = 28.0760, Best Loss = 27.5340\n",
      "Early stopping triggered after 1103 epochs. Restoring best model.\n",
      "Evaluating model\n",
      "Beginning inference phase\n",
      "Causal engine executing\n",
      "🔍 Checking for cycles using Tarjan’s SCC Algorithm...\n",
      "✅ No cycles detected! Graph is now a DAG.\n"
     ]
    },
    {
     "name": "stderr",
     "output_type": "stream",
     "text": [
      "Fitting causal mechanism of node cso1: 100%|██████████| 17/17 [00:00<00:00, 29.00it/s]\n"
     ]
    },
    {
     "name": "stdout",
     "output_type": "stream",
     "text": [
      "Final Results: {'target_variable': 'cfo1', 'top_causes': ['bso3', 'bed2'], 'estimated_effects': {'bso3': 0.0035856517819974343, 'bed2': -9.158075165427437e-05}, 'observed_value': 0.5300585725858111, 'counterfactual_results': {'bso3': {'counterfactual_value': 1.0595556178535186, 'difference_due_to_intervention': 0.5294970452677075}, 'bed2': {'counterfactual_value': 1.0596515748849755, 'difference_due_to_intervention': 0.5295930022991644}}}\n",
      "bso1-->bed2 | bso3 | bfo1\n",
      "Model Accuracy Method 1: 47.22%\n",
      "--------------------------------------------------------------------------------------------------------------------------------\n",
      "Model: 36\n",
      "Anomaly: cso1\n",
      "Epoch 0, Loss: 0.0001\n",
      "Epoch 0: Average Loss = 4955.9526, Best Loss = 4955.9526\n",
      "Epoch 100: Average Loss = 165.0721, Best Loss = 165.0721\n",
      "Epoch 200: Average Loss = 70.7985, Best Loss = 70.7985\n",
      "Epoch 300: Average Loss = 49.6177, Best Loss = 49.6177\n",
      "Epoch 400: Average Loss = 41.6060, Best Loss = 41.6060\n",
      "Epoch 500: Average Loss = 37.7506, Best Loss = 37.7506\n",
      "Epoch 600: Average Loss = 35.8253, Best Loss = 35.7190\n",
      "Early stopping triggered after 632 epochs. Restoring best model.\n",
      "Evaluating model\n",
      "Beginning inference phase\n",
      "Causal engine executing\n",
      "🔍 Checking for cycles using Tarjan’s SCC Algorithm...\n",
      "✅ No cycles detected! Graph is now a DAG.\n"
     ]
    },
    {
     "name": "stderr",
     "output_type": "stream",
     "text": [
      "Fitting causal mechanism of node cso1: 100%|██████████| 17/17 [00:00<00:00, 17.62it/s]\n"
     ]
    },
    {
     "name": "stdout",
     "output_type": "stream",
     "text": [
      "Final Results: {'target_variable': 'cso1', 'top_causes': ['bso1', 'bfo2', 'bfo1', 'bso3', 'bed1', 'bed2', 'bso2'], 'estimated_effects': {'bso1': 0.017022609238676156, 'bfo2': 0.007190082868048675, 'bfo1': 0.002125986362853882, 'bso3': 0.001439084776418298, 'bed1': 8.694832863542779e-05, 'bed2': 7.358381451016971e-05, 'bso2': -0.004194275724956009}, 'observed_value': 0.5389754748614316, 'counterfactual_results': {'bso1': {'counterfactual_value': 1.0905576554130334, 'difference_due_to_intervention': 0.5515821805516018}, 'bfo2': {'counterfactual_value': 1.0808140642975919, 'difference_due_to_intervention': 0.5418385894361603}, 'bfo1': {'counterfactual_value': 1.0788570813563496, 'difference_due_to_intervention': 0.539881606494918}, 'bso3': {'counterfactual_value': 1.0781692720976688, 'difference_due_to_intervention': 0.5391937972362372}, 'bed1': {'counterfactual_value': 1.0783468602518274, 'difference_due_to_intervention': 0.5393713853903958}, 'bed2': {'counterfactual_value': 1.0775123343158663, 'difference_due_to_intervention': 0.5385368594544347}, 'bso2': {'counterfactual_value': 1.0750904213635335, 'difference_due_to_intervention': 0.5361149465021019}}}\n",
      "bso2-->bso1 | bfo2 | bfo1\n",
      "Model Accuracy Method 1: 45.95%\n",
      "--------------------------------------------------------------------------------------------------------------------------------\n",
      "Model: 37\n",
      "Anomaly: cfo1\n",
      "Epoch 0, Loss: 0.0001\n",
      "Epoch 0: Average Loss = 2675.2214, Best Loss = 2675.2214\n",
      "Epoch 100: Average Loss = 222.1457, Best Loss = 222.1457\n",
      "Epoch 200: Average Loss = 78.8720, Best Loss = 78.8720\n",
      "Epoch 300: Average Loss = 46.6887, Best Loss = 46.6887\n",
      "Epoch 400: Average Loss = 34.2830, Best Loss = 34.1507\n",
      "Epoch 500: Average Loss = 27.8249, Best Loss = 27.8249\n",
      "Epoch 600: Average Loss = 24.5616, Best Loss = 24.1280\n",
      "Epoch 700: Average Loss = 22.2645, Best Loss = 21.9283\n",
      "Epoch 800: Average Loss = 20.5799, Best Loss = 20.5564\n",
      "Epoch 900: Average Loss = 19.6927, Best Loss = 19.4737\n",
      "Epoch 1000: Average Loss = 18.8794, Best Loss = 18.5538\n",
      "Early stopping triggered after 1024 epochs. Restoring best model.\n",
      "Evaluating model\n",
      "Beginning inference phase\n",
      "Causal engine executing\n",
      "🔍 Checking for cycles using Tarjan’s SCC Algorithm...\n",
      "✅ No cycles detected! Graph is now a DAG.\n"
     ]
    },
    {
     "name": "stderr",
     "output_type": "stream",
     "text": [
      "Fitting causal mechanism of node cso1: 100%|██████████| 17/17 [00:00<00:00, 23.68it/s]\n"
     ]
    },
    {
     "name": "stdout",
     "output_type": "stream",
     "text": [
      "Final Results: {'target_variable': 'cfo1', 'top_causes': ['bfo2', 'bso1', 'bso3', 'bso2', 'bed2', 'bfo1', 'bed1'], 'estimated_effects': {'bfo2': 0.014298181609198601, 'bso1': 0.005057562938478477, 'bso3': 0.0009914676872768702, 'bso2': 0.0006737764786278744, 'bed2': 3.588670014753603e-05, 'bfo1': -0.0006087133395753508, 'bed1': -0.0012510968474780393}, 'observed_value': 0.5469629139126283, 'counterfactual_results': {'bfo2': {'counterfactual_value': 1.0957383026721408, 'difference_due_to_intervention': 0.5487753887595125}, 'bso1': {'counterfactual_value': 1.095735636008797, 'difference_due_to_intervention': 0.5487727220961688}, 'bso3': {'counterfactual_value': 1.0941854149726193, 'difference_due_to_intervention': 0.547222501059991}, 'bso2': {'counterfactual_value': 1.0940520078749605, 'difference_due_to_intervention': 0.5470890939623322}, 'bed2': {'counterfactual_value': 1.094021276510247, 'difference_due_to_intervention': 0.5470583625976188}, 'bfo1': {'counterfactual_value': 1.0937390488997132, 'difference_due_to_intervention': 0.5467761349870849}, 'bed1': {'counterfactual_value': 1.0933285144661098, 'difference_due_to_intervention': 0.5463656005534815}}}\n",
      "ROOT CAUSE FOUND!\n",
      "bso3-->bfo2 | bso1 | bso3\n",
      "Model Accuracy Method 1: 47.37%\n",
      "--------------------------------------------------------------------------------------------------------------------------------\n",
      "Model: 38\n",
      "Anomaly: cfo1\n",
      "Epoch 0, Loss: 0.0001\n",
      "Epoch 0: Average Loss = 7302.9836, Best Loss = 7302.9836\n",
      "Epoch 100: Average Loss = 404.4509, Best Loss = 404.4509\n",
      "Epoch 200: Average Loss = 140.8560, Best Loss = 140.8560\n",
      "Epoch 300: Average Loss = 80.6232, Best Loss = 80.6232\n",
      "Epoch 400: Average Loss = 56.9593, Best Loss = 56.9593\n",
      "Epoch 500: Average Loss = 45.3910, Best Loss = 44.9596\n",
      "Epoch 600: Average Loss = 38.6868, Best Loss = 38.3838\n",
      "Epoch 700: Average Loss = 34.3340, Best Loss = 34.3340\n",
      "Epoch 800: Average Loss = 31.8352, Best Loss = 31.6973\n",
      "Epoch 900: Average Loss = 30.0750, Best Loss = 30.0750\n",
      "Epoch 1000: Average Loss = 28.7836, Best Loss = 28.7836\n",
      "Early stopping triggered after 1046 epochs. Restoring best model.\n",
      "Evaluating model\n",
      "Beginning inference phase\n",
      "Causal engine executing\n",
      "🔍 Checking for cycles using Tarjan’s SCC Algorithm...\n",
      "✅ No cycles detected! Graph is now a DAG.\n"
     ]
    },
    {
     "name": "stderr",
     "output_type": "stream",
     "text": [
      "Fitting causal mechanism of node cso1: 100%|██████████| 17/17 [00:00<00:00, 19.73it/s]\n"
     ]
    },
    {
     "name": "stdout",
     "output_type": "stream",
     "text": [
      "Final Results: {'target_variable': 'cfo1', 'top_causes': ['bso3', 'bso2', 'bfo2'], 'estimated_effects': {'bso3': 0.1085684868306872, 'bso2': 3.935557558276681e-05, 'bfo2': -0.021337869904264006}, 'observed_value': 0.6043964006459404, 'counterfactual_results': {'bso3': {'counterfactual_value': 1.2586900281889128, 'difference_due_to_intervention': 0.6542936275429725}, 'bso2': {'counterfactual_value': 1.203605118030824, 'difference_due_to_intervention': 0.5992087173848837}, 'bfo2': {'counterfactual_value': 1.1888579689068866, 'difference_due_to_intervention': 0.5844615682609462}}}\n",
      "bfo1-->bso3 | bso2 | bfo2\n",
      "Model Accuracy Method 1: 46.15%\n",
      "--------------------------------------------------------------------------------------------------------------------------------\n",
      "Model: 39\n",
      "Anomaly: cfo1\n",
      "Epoch 0, Loss: 0.0001\n",
      "Epoch 0: Average Loss = 2122.8046, Best Loss = 2122.8046\n",
      "Epoch 100: Average Loss = 55.4346, Best Loss = 55.4346\n",
      "Epoch 200: Average Loss = 36.1222, Best Loss = 36.0804\n",
      "Epoch 300: Average Loss = 31.9151, Best Loss = 31.7968\n",
      "Epoch 400: Average Loss = 30.2232, Best Loss = 30.1744\n",
      "Early stopping triggered after 478 epochs. Restoring best model.\n",
      "Evaluating model\n",
      "Beginning inference phase\n",
      "Causal engine executing\n",
      "🔍 Checking for cycles using Tarjan’s SCC Algorithm...\n",
      "✅ No cycles detected! Graph is now a DAG.\n"
     ]
    },
    {
     "name": "stderr",
     "output_type": "stream",
     "text": [
      "Fitting causal mechanism of node cso1: 100%|██████████| 17/17 [00:01<00:00, 12.44it/s]\n"
     ]
    },
    {
     "name": "stdout",
     "output_type": "stream",
     "text": [
      "Final Results: {'target_variable': 'cfo1', 'top_causes': ['bso2', 'bso3', 'bed2', 'bfo2', 'bed1', 'bfo1', 'bso1'], 'estimated_effects': {'bso2': -6.384730727382326e-05, 'bso3': -0.0002869998128515183, 'bed2': -0.0021375919509231123, 'bfo2': -0.002478663980736706, 'bed1': -0.007131700111167483, 'bfo1': -0.009249996270461192, 'bso1': -0.03583764941684198}, 'observed_value': 0.5592102735623827, 'counterfactual_results': {'bso2': {'counterfactual_value': 1.11827511463705, 'difference_due_to_intervention': 0.5590648410746673}, 'bso3': {'counterfactual_value': 1.1182044107249671, 'difference_due_to_intervention': 0.5589941371625844}, 'bed2': {'counterfactual_value': 1.1170815797566291, 'difference_due_to_intervention': 0.5578713061942464}, 'bfo2': {'counterfactual_value': 1.1169980563561581, 'difference_due_to_intervention': 0.5577877827937754}, 'bed1': {'counterfactual_value': 1.1147712160851577, 'difference_due_to_intervention': 0.555560942522775}, 'bfo1': {'counterfactual_value': 1.113876553643377, 'difference_due_to_intervention': 0.5546662800809943}, 'bso1': {'counterfactual_value': 1.0868363376985044, 'difference_due_to_intervention': 0.5276260641361217}}}\n",
      "ROOT CAUSE FOUND!\n",
      "bso3-->bso2 | bso3 | bed2\n",
      "Model Accuracy Method 1: 47.5%\n",
      "--------------------------------------------------------------------------------------------------------------------------------\n",
      "Model: 40\n",
      "Anomaly: cfo1\n",
      "Epoch 0, Loss: 0.0002\n",
      "Epoch 0: Average Loss = 3854.1069, Best Loss = 3854.1069\n",
      "Epoch 100: Average Loss = 55.2867, Best Loss = 55.2867\n",
      "Epoch 200: Average Loss = 37.6877, Best Loss = 37.6877\n",
      "Epoch 300: Average Loss = 34.1623, Best Loss = 34.1381\n",
      "Epoch 400: Average Loss = 33.0779, Best Loss = 33.0352\n",
      "Early stopping triggered after 400 epochs. Restoring best model.\n",
      "Evaluating model\n",
      "Beginning inference phase\n",
      "Causal engine executing\n",
      "🔍 Checking for cycles using Tarjan’s SCC Algorithm...\n",
      "✅ No cycles detected! Graph is now a DAG.\n"
     ]
    },
    {
     "name": "stderr",
     "output_type": "stream",
     "text": [
      "Fitting causal mechanism of node cso1: 100%|██████████| 17/17 [00:01<00:00, 10.73it/s]\n"
     ]
    },
    {
     "name": "stdout",
     "output_type": "stream",
     "text": [
      "Final Results: {'target_variable': 'cfo1', 'top_causes': ['bso3', 'bso1', 'bed2', 'bed1', 'bfo2', 'bso2', 'bfo1'], 'estimated_effects': {'bso3': 0.026355959429674836, 'bso1': 0.017615707109158496, 'bed2': 0.014613872661183747, 'bed1': 0.006885743355229068, 'bfo2': 0.00284822847852495, 'bso2': -0.00202853990218832, 'bfo1': -0.030306416980979023}, 'observed_value': 0.5496510602636913, 'counterfactual_results': {'bso3': {'counterfactual_value': 1.115231598480286, 'difference_due_to_intervention': 0.5655805382165948}, 'bso1': {'counterfactual_value': 1.1059627867371755, 'difference_due_to_intervention': 0.5563117264734843}, 'bed2': {'counterfactual_value': 1.1001379426065578, 'difference_due_to_intervention': 0.5504868823428666}, 'bed1': {'counterfactual_value': 1.1002285177237363, 'difference_due_to_intervention': 0.550577457460045}, 'bfo2': {'counterfactual_value': 1.1041387922739292, 'difference_due_to_intervention': 0.5544877320102379}, 'bso2': {'counterfactual_value': 1.0975885973798825, 'difference_due_to_intervention': 0.5479375371161912}, 'bfo1': {'counterfactual_value': 1.0911473523682167, 'difference_due_to_intervention': 0.5414962921045254}}}\n",
      "bfo1-->bso3 | bso1 | bfo2\n",
      "Model Accuracy Method 1: 46.34%\n",
      "--------------------------------------------------------------------------------------------------------------------------------\n",
      "Model: 41\n",
      "Anomaly: ced1\n",
      "Epoch 0, Loss: 0.0001\n",
      "Epoch 0: Average Loss = 3569.2464, Best Loss = 3569.2464\n",
      "Epoch 100: Average Loss = 125.4619, Best Loss = 125.4619\n",
      "Epoch 200: Average Loss = 57.5785, Best Loss = 57.5785\n",
      "Epoch 300: Average Loss = 42.3472, Best Loss = 42.3472\n",
      "Epoch 400: Average Loss = 36.5636, Best Loss = 36.5636\n",
      "Epoch 500: Average Loss = 33.7590, Best Loss = 33.7590\n",
      "Epoch 600: Average Loss = 31.8767, Best Loss = 31.8767\n",
      "Early stopping triggered after 649 epochs. Restoring best model.\n",
      "Evaluating model\n",
      "Beginning inference phase\n",
      "Causal engine executing\n",
      "🔍 Checking for cycles using Tarjan’s SCC Algorithm...\n",
      "✅ No cycles detected! Graph is now a DAG.\n"
     ]
    },
    {
     "name": "stderr",
     "output_type": "stream",
     "text": [
      "Fitting causal mechanism of node cso1: 100%|██████████| 17/17 [00:00<00:00, 18.17it/s]\n"
     ]
    },
    {
     "name": "stdout",
     "output_type": "stream",
     "text": [
      "Final Results: {'target_variable': 'ced1', 'top_causes': ['bed2', 'bso2', 'bso3', 'bfo2', 'bed1', 'bfo1', 'bso1'], 'estimated_effects': {'bed2': 0.0029195799521467974, 'bso2': -9.131239938275915e-05, 'bso3': -0.0005230469287461487, 'bfo2': -0.0014484237008884626, 'bed1': -0.0048410044417470655, 'bfo1': -0.010710903669245653, 'bso1': -0.08311262842419816}, 'observed_value': 0.12534291411905202, 'counterfactual_results': {'bed2': {'counterfactual_value': 0.2518632340778577, 'difference_due_to_intervention': 0.1265203199588057}, 'bso2': {'counterfactual_value': 0.24942259379999293, 'difference_due_to_intervention': 0.12407967968094091}, 'bso3': {'counterfactual_value': 0.24941652951921905, 'difference_due_to_intervention': 0.12407361540016704}, 'bfo2': {'counterfactual_value': 0.24850787585124814, 'difference_due_to_intervention': 0.12316496173219613}, 'bed1': {'counterfactual_value': 0.24434192293530024, 'difference_due_to_intervention': 0.11899900881624823}, 'bfo1': {'counterfactual_value': 0.2445574442726266, 'difference_due_to_intervention': 0.11921453015357458}, 'bso1': {'counterfactual_value': 0.20278080140843885, 'difference_due_to_intervention': 0.07743788728938683}}}\n",
      "ROOT CAUSE FOUND!\n",
      "bed2-->bed2 | bso2 | bso3\n",
      "Model Accuracy Method 1: 47.62%\n",
      "--------------------------------------------------------------------------------------------------------------------------------\n",
      "Model: 42\n",
      "Anomaly: cso1\n",
      "Epoch 0, Loss: 0.0001\n",
      "Epoch 0: Average Loss = 4115.5495, Best Loss = 4115.5495\n",
      "Epoch 100: Average Loss = 73.9714, Best Loss = 73.9714\n",
      "Epoch 200: Average Loss = 35.2154, Best Loss = 35.2154\n",
      "Epoch 300: Average Loss = 26.5764, Best Loss = 26.5764\n",
      "Epoch 400: Average Loss = 23.7347, Best Loss = 23.5666\n",
      "Epoch 500: Average Loss = 22.1818, Best Loss = 22.1818\n",
      "Epoch 600: Average Loss = 21.3795, Best Loss = 21.3479\n",
      "Epoch 700: Average Loss = 21.0254, Best Loss = 20.9898\n",
      "Early stopping triggered after 755 epochs. Restoring best model.\n",
      "Evaluating model\n",
      "Beginning inference phase\n",
      "Causal engine executing\n",
      "🔍 Checking for cycles using Tarjan’s SCC Algorithm...\n",
      "✅ No cycles detected! Graph is now a DAG.\n"
     ]
    },
    {
     "name": "stderr",
     "output_type": "stream",
     "text": [
      "Fitting causal mechanism of node cso1: 100%|██████████| 17/17 [00:01<00:00, 13.33it/s]\n"
     ]
    },
    {
     "name": "stdout",
     "output_type": "stream",
     "text": [
      "Final Results: {'target_variable': 'cso1', 'top_causes': ['bfo1', 'bed1', 'bfo2', 'bso2', 'bed2'], 'estimated_effects': {'bfo1': 0.00659170653468244, 'bed1': 0.0014538246361995855, 'bfo2': 0.000887642513350273, 'bso2': 0.0004524964894740968, 'bed2': -4.865917258600749e-05}, 'observed_value': 0.5262708208548724, 'counterfactual_results': {'bfo1': {'counterfactual_value': 1.0548740906774592, 'difference_due_to_intervention': 0.5286032698225868}, 'bed1': {'counterfactual_value': 1.0522941157759549, 'difference_due_to_intervention': 0.5260232949210825}, 'bfo2': {'counterfactual_value': 1.053035209857207, 'difference_due_to_intervention': 0.5267643890023347}, 'bso2': {'counterfactual_value': 1.0526004479852862, 'difference_due_to_intervention': 0.5263296271304138}, 'bed2': {'counterfactual_value': 1.052434498622154, 'difference_due_to_intervention': 0.5261636777672817}}}\n",
      "ROOT CAUSE FOUND!\n",
      "bso2-->bfo1 | bfo2 | bso2\n",
      "Model Accuracy Method 1: 48.84%\n",
      "--------------------------------------------------------------------------------------------------------------------------------\n",
      "Model: 43\n",
      "Anomaly: cfo1\n",
      "Epoch 0, Loss: 0.0001\n",
      "Epoch 0: Average Loss = 3389.2451, Best Loss = 3389.2451\n",
      "Epoch 100: Average Loss = 196.0830, Best Loss = 196.0830\n",
      "Epoch 200: Average Loss = 73.0952, Best Loss = 73.0952\n",
      "Epoch 300: Average Loss = 45.2345, Best Loss = 45.2345\n",
      "Epoch 400: Average Loss = 34.6740, Best Loss = 34.4407\n",
      "Epoch 500: Average Loss = 29.1607, Best Loss = 29.1296\n",
      "Epoch 600: Average Loss = 26.0035, Best Loss = 26.0035\n",
      "Epoch 700: Average Loss = 24.2267, Best Loss = 24.0816\n",
      "Epoch 800: Average Loss = 23.0148, Best Loss = 23.0041\n",
      "Early stopping triggered after 898 epochs. Restoring best model.\n",
      "Evaluating model\n",
      "Beginning inference phase\n",
      "Causal engine executing\n",
      "🔍 Checking for cycles using Tarjan’s SCC Algorithm...\n",
      "✅ No cycles detected! Graph is now a DAG.\n"
     ]
    },
    {
     "name": "stderr",
     "output_type": "stream",
     "text": [
      "Fitting causal mechanism of node cso1: 100%|██████████| 17/17 [00:00<00:00, 18.98it/s]\n"
     ]
    },
    {
     "name": "stdout",
     "output_type": "stream",
     "text": [
      "Final Results: {'target_variable': 'cfo1', 'top_causes': ['bso1', 'bfo2', 'bso2', 'bfo1', 'bed2', 'bed1', 'bso3'], 'estimated_effects': {'bso1': 0.0068459421347987215, 'bfo2': 0.0028115084119264555, 'bso2': 0.001362029366993034, 'bfo1': -0.00020714872276905716, 'bed2': -0.0003730718358841978, 'bed1': -0.0017323077637573236, 'bso3': -0.014139878916624715}, 'observed_value': 0.5591766024082861, 'counterfactual_results': {'bso1': {'counterfactual_value': 1.123331123495768, 'difference_due_to_intervention': 0.5641545210874818}, 'bfo2': {'counterfactual_value': 1.1200960790711776, 'difference_due_to_intervention': 0.5609194766628914}, 'bso2': {'counterfactual_value': 1.118394213410664, 'difference_due_to_intervention': 0.5592176110023778}, 'bfo1': {'counterfactual_value': 1.116340469572428, 'difference_due_to_intervention': 0.5571638671641418}, 'bed2': {'counterfactual_value': 1.1187157683467457, 'difference_due_to_intervention': 0.5595391659384595}, 'bed1': {'counterfactual_value': 1.1186950283150996, 'difference_due_to_intervention': 0.5595184259068134}, 'bso3': {'counterfactual_value': 1.1062859201216384, 'difference_due_to_intervention': 0.5471093177133523}}}\n",
      "ROOT CAUSE FOUND!\n",
      "bso1-->bso1 | bfo2 | bed2\n",
      "Model Accuracy Method 1: 50.0%\n",
      "--------------------------------------------------------------------------------------------------------------------------------\n",
      "Model: 44\n",
      "Anomaly: ced1\n",
      "Epoch 0, Loss: 0.0000\n",
      "Epoch 0: Average Loss = 4357.3122, Best Loss = 4357.3122\n",
      "Epoch 100: Average Loss = 245.7494, Best Loss = 245.7494\n",
      "Epoch 200: Average Loss = 82.8604, Best Loss = 82.8604\n",
      "Epoch 300: Average Loss = 46.6725, Best Loss = 46.6725\n",
      "Epoch 400: Average Loss = 32.6124, Best Loss = 32.6124\n",
      "Epoch 500: Average Loss = 25.8382, Best Loss = 25.7581\n",
      "Epoch 600: Average Loss = 21.8895, Best Loss = 21.8816\n",
      "Epoch 700: Average Loss = 19.4985, Best Loss = 19.4985\n",
      "Epoch 800: Average Loss = 18.0397, Best Loss = 18.0063\n",
      "Epoch 900: Average Loss = 17.0706, Best Loss = 16.9961\n",
      "Early stopping triggered after 957 epochs. Restoring best model.\n",
      "Evaluating model\n",
      "Beginning inference phase\n",
      "Causal engine executing\n",
      "🔍 Checking for cycles using Tarjan’s SCC Algorithm...\n",
      "✅ No cycles detected! Graph is now a DAG.\n"
     ]
    },
    {
     "name": "stderr",
     "output_type": "stream",
     "text": [
      "Fitting causal mechanism of node cso1: 100%|██████████| 17/17 [00:00<00:00, 25.99it/s]\n"
     ]
    },
    {
     "name": "stdout",
     "output_type": "stream",
     "text": [
      "Final Results: {'target_variable': 'ced1', 'top_causes': ['bfo1', 'bed1', 'bed2', 'bso2', 'bfo2'], 'estimated_effects': {'bfo1': 508.46073052424714, 'bed1': 0.40152522752124786, 'bed2': 0.058695568036680634, 'bso2': -0.2861978067758869, 'bfo2': -348.2518866179773}, 'observed_value': 0.21470012533325872, 'counterfactual_results': {'bfo1': {'counterfactual_value': 527.5642840859169, 'difference_due_to_intervention': 527.3495839605837}, 'bed1': {'counterfactual_value': 1.0147671863250514, 'difference_due_to_intervention': 0.8000670609917926}, 'bed2': {'counterfactual_value': 0.7722415415233096, 'difference_due_to_intervention': 0.5575414161900509}, 'bso2': {'counterfactual_value': 0.13314137756783442, 'difference_due_to_intervention': -0.0815587477654243}, 'bfo2': {'counterfactual_value': -360.32913256788225, 'difference_due_to_intervention': -360.5438326932155}}}\n",
      "ROOT CAUSE FOUND!\n",
      "bed1-->bfo1 | bed1 | bed2\n",
      "Model Accuracy Method 1: 51.11%\n",
      "--------------------------------------------------------------------------------------------------------------------------------\n",
      "Model: 45\n",
      "Anomaly: ced1\n",
      "Epoch 0, Loss: 0.0001\n",
      "Epoch 0: Average Loss = 2233.9113, Best Loss = 2233.9113\n",
      "Epoch 100: Average Loss = 47.9476, Best Loss = 47.9476\n",
      "Epoch 200: Average Loss = 26.0263, Best Loss = 26.0263\n",
      "Epoch 300: Average Loss = 21.5551, Best Loss = 21.5551\n",
      "Early stopping triggered after 398 epochs. Restoring best model.\n",
      "Evaluating model\n",
      "Beginning inference phase\n",
      "Causal engine executing\n",
      "🔍 Checking for cycles using Tarjan’s SCC Algorithm...\n",
      "✅ No cycles detected! Graph is now a DAG.\n"
     ]
    },
    {
     "name": "stderr",
     "output_type": "stream",
     "text": [
      "Fitting causal mechanism of node cso1: 100%|██████████| 17/17 [00:01<00:00, 14.49it/s]\n"
     ]
    },
    {
     "name": "stdout",
     "output_type": "stream",
     "text": [
      "Final Results: {'target_variable': 'ced1', 'top_causes': ['bso1', 'bed1', 'bfo2', 'bso2', 'bso3', 'bed2', 'bfo1'], 'estimated_effects': {'bso1': 0.014188712107091356, 'bed1': 0.0036446994956662315, 'bfo2': 0.00030444561805706427, 'bso2': 2.820633936856387e-05, 'bso3': -8.784265389749635e-06, 'bed2': -2.6022529748176426e-05, 'bfo1': -0.08859025809445989}, 'observed_value': 0.2131683659052645, 'counterfactual_results': {'bso1': {'counterfactual_value': 0.43710301974705, 'difference_due_to_intervention': 0.2239346538417855}, 'bed1': {'counterfactual_value': 0.4267285026065025, 'difference_due_to_intervention': 0.21356013670123802}, 'bfo2': {'counterfactual_value': 0.425082275901967, 'difference_due_to_intervention': 0.2119139099967025}, 'bso2': {'counterfactual_value': 0.42604664043016116, 'difference_due_to_intervention': 0.21287827452489666}, 'bso3': {'counterfactual_value': 0.42678300199262575, 'difference_due_to_intervention': 0.21361463608736125}, 'bed2': {'counterfactual_value': 0.42633569782721054, 'difference_due_to_intervention': 0.21316733192194603}, 'bfo1': {'counterfactual_value': 0.3893985958472454, 'difference_due_to_intervention': 0.1762302299419809}}}\n",
      "ROOT CAUSE FOUND!\n",
      "bed1-->bso1 | bso3 | bed1\n",
      "Model Accuracy Method 1: 52.17%\n",
      "--------------------------------------------------------------------------------------------------------------------------------\n",
      "Model: 46\n",
      "Anomaly: ced1\n",
      "Epoch 0, Loss: 0.0001\n",
      "Epoch 0: Average Loss = 3427.4016, Best Loss = 3427.4016\n",
      "Epoch 100: Average Loss = 123.3025, Best Loss = 123.3025\n",
      "Epoch 200: Average Loss = 57.4655, Best Loss = 57.4655\n",
      "Epoch 300: Average Loss = 43.1009, Best Loss = 43.0236\n",
      "Epoch 400: Average Loss = 37.1257, Best Loss = 37.0590\n",
      "Epoch 500: Average Loss = 34.3511, Best Loss = 34.3511\n",
      "Epoch 600: Average Loss = 32.8988, Best Loss = 32.7731\n",
      "Epoch 700: Average Loss = 32.0407, Best Loss = 31.9225\n",
      "Early stopping triggered after 724 epochs. Restoring best model.\n",
      "Evaluating model\n",
      "Beginning inference phase\n",
      "Causal engine executing\n",
      "🔍 Checking for cycles using Tarjan’s SCC Algorithm...\n",
      "✅ No cycles detected! Graph is now a DAG.\n"
     ]
    },
    {
     "name": "stderr",
     "output_type": "stream",
     "text": [
      "Fitting causal mechanism of node cso1: 100%|██████████| 17/17 [00:01<00:00, 14.92it/s]\n"
     ]
    },
    {
     "name": "stdout",
     "output_type": "stream",
     "text": [
      "Final Results: {'target_variable': 'ced1', 'top_causes': ['bfo1', 'bfo2', 'bed1', 'bed2', 'bso2', 'bso3', 'bso1'], 'estimated_effects': {'bfo1': 0.04218241910395806, 'bfo2': 0.007326401688279277, 'bed1': 0.0036745529714231062, 'bed2': 0.0007290807655243592, 'bso2': 9.498956509135237e-05, 'bso3': -0.005477036487590264, 'bso1': -0.02835781254515163}, 'observed_value': 0.19580062343661925, 'counterfactual_results': {'bfo1': {'counterfactual_value': 0.4140902993086842, 'difference_due_to_intervention': 0.21828967587206494}, 'bfo2': {'counterfactual_value': 0.39273692184523273, 'difference_due_to_intervention': 0.19693629840861349}, 'bed1': {'counterfactual_value': 0.3942718096809694, 'difference_due_to_intervention': 0.19847118624435017}, 'bed2': {'counterfactual_value': 0.3901080103832815, 'difference_due_to_intervention': 0.19430738694666227}, 'bso2': {'counterfactual_value': 0.39179154206694045, 'difference_due_to_intervention': 0.1959909186303212}, 'bso3': {'counterfactual_value': 0.39091772251668677, 'difference_due_to_intervention': 0.19511709908006752}, 'bso1': {'counterfactual_value': 0.37588123484938524, 'difference_due_to_intervention': 0.180080611412766}}}\n",
      "bed2-->bfo1 | bed1 | bfo2\n",
      "Model Accuracy Method 1: 51.06%\n",
      "--------------------------------------------------------------------------------------------------------------------------------\n",
      "Model: 47\n",
      "Anomaly: cfo1\n",
      "Epoch 0, Loss: 0.0003\n",
      "Epoch 0: Average Loss = 974.3422, Best Loss = 974.3422\n",
      "Epoch 100: Average Loss = 37.7293, Best Loss = 33.8168\n",
      "Early stopping triggered after 135 epochs. Restoring best model.\n",
      "Evaluating model\n",
      "Beginning inference phase\n",
      "Causal engine executing\n",
      "🔍 Checking for cycles using Tarjan’s SCC Algorithm...\n",
      "✅ No cycles detected! Graph is now a DAG.\n"
     ]
    },
    {
     "name": "stderr",
     "output_type": "stream",
     "text": [
      "Fitting causal mechanism of node cso1: 100%|██████████| 17/17 [00:01<00:00,  9.13it/s]\n"
     ]
    },
    {
     "name": "stdout",
     "output_type": "stream",
     "text": [
      "Final Results: {'target_variable': 'cfo1', 'top_causes': ['bso1', 'bso2', 'bed2', 'bed1', 'bso3', 'bfo2', 'bfo1'], 'estimated_effects': {'bso1': 0.036392841252251285, 'bso2': 0.00019196235167567854, 'bed2': -0.0006617273685325942, 'bed1': -0.011197038052943586, 'bso3': -0.011615058458097571, 'bfo2': -0.02390744462161387, 'bfo1': -0.16366425972448345}, 'observed_value': 0.493777584934592, 'counterfactual_results': {'bso1': {'counterfactual_value': 0.9994987935375701, 'difference_due_to_intervention': 0.5057212086029781}, 'bso2': {'counterfactual_value': 0.9880058197309071, 'difference_due_to_intervention': 0.49422823479631506}, 'bed2': {'counterfactual_value': 0.9902485530131905, 'difference_due_to_intervention': 0.4964709680785985}, 'bed1': {'counterfactual_value': 0.9804187071898808, 'difference_due_to_intervention': 0.48664112225528877}, 'bso3': {'counterfactual_value': 0.9812572625623778, 'difference_due_to_intervention': 0.48747967762778577}, 'bfo2': {'counterfactual_value': 0.9805198851061422, 'difference_due_to_intervention': 0.4867423001715502}, 'bfo1': {'counterfactual_value': 0.8774276647222431, 'difference_due_to_intervention': 0.3836500797876511}}}\n",
      "bfo1-->bso1 | bed2 | bso2\n",
      "Model Accuracy Method 1: 50.0%\n",
      "--------------------------------------------------------------------------------------------------------------------------------\n",
      "Model: 48\n",
      "Anomaly: ced1\n",
      "Epoch 0, Loss: 0.0001\n",
      "Epoch 0: Average Loss = 3342.4949, Best Loss = 3342.4949\n",
      "Epoch 100: Average Loss = 199.0109, Best Loss = 199.0109\n",
      "Epoch 200: Average Loss = 79.0455, Best Loss = 79.0455\n",
      "Epoch 300: Average Loss = 51.9548, Best Loss = 51.9548\n",
      "Epoch 400: Average Loss = 41.0586, Best Loss = 41.0586\n",
      "Epoch 500: Average Loss = 35.7615, Best Loss = 35.7615\n",
      "Epoch 600: Average Loss = 32.9229, Best Loss = 32.7822\n",
      "Epoch 700: Average Loss = 31.3144, Best Loss = 31.0573\n",
      "Early stopping triggered after 717 epochs. Restoring best model.\n",
      "Evaluating model\n",
      "Beginning inference phase\n",
      "Causal engine executing\n",
      "🔍 Checking for cycles using Tarjan’s SCC Algorithm...\n",
      "✅ No cycles detected! Graph is now a DAG.\n"
     ]
    },
    {
     "name": "stderr",
     "output_type": "stream",
     "text": [
      "Fitting causal mechanism of node cso1: 100%|██████████| 17/17 [00:00<00:00, 25.47it/s]\n"
     ]
    },
    {
     "name": "stdout",
     "output_type": "stream",
     "text": [
      "Final Results: {'target_variable': 'ced1', 'top_causes': ['bfo1', 'bso1', 'bed1', 'bso3', 'bed2', 'bso2', 'bfo2'], 'estimated_effects': {'bfo1': 0.01979085689878321, 'bso1': 0.002016408618088855, 'bed1': 0.00176749490645986, 'bso3': 0.0012861913454447205, 'bed2': 0.0003890973222581695, 'bso2': 0.00024674505730559737, 'bfo2': -0.0006553558678322746}, 'observed_value': 0.16135420525967129, 'counterfactual_results': {'bfo1': {'counterfactual_value': 0.33421188798665286, 'difference_due_to_intervention': 0.17285768272698157}, 'bso1': {'counterfactual_value': 0.32352720293094495, 'difference_due_to_intervention': 0.16217299767127366}, 'bed1': {'counterfactual_value': 0.323142942610331, 'difference_due_to_intervention': 0.1617887373506597}, 'bso3': {'counterfactual_value': 0.32429433016246373, 'difference_due_to_intervention': 0.16294012490279244}, 'bed2': {'counterfactual_value': 0.32325726397389437, 'difference_due_to_intervention': 0.16190305871422309}, 'bso2': {'counterfactual_value': 0.32256727832682536, 'difference_due_to_intervention': 0.16121307306715407}, 'bfo2': {'counterfactual_value': 0.32259122814411095, 'difference_due_to_intervention': 0.16123702288443967}}}\n",
      "bed1-->bfo1 | bso3 | bso1\n",
      "Model Accuracy Method 1: 48.98%\n",
      "--------------------------------------------------------------------------------------------------------------------------------\n",
      "Model: 49\n",
      "Anomaly: cfo1\n",
      "Epoch 0, Loss: 0.0002\n",
      "Epoch 0: Average Loss = 1078.2125, Best Loss = 1078.2125\n",
      "Epoch 100: Average Loss = 34.4465, Best Loss = 34.4465\n",
      "Early stopping triggered after 130 epochs. Restoring best model.\n",
      "Evaluating model\n",
      "Beginning inference phase\n",
      "Causal engine executing\n",
      "🔍 Checking for cycles using Tarjan’s SCC Algorithm...\n",
      "✅ No cycles detected! Graph is now a DAG.\n"
     ]
    },
    {
     "name": "stderr",
     "output_type": "stream",
     "text": [
      "Fitting causal mechanism of node cso1: 100%|██████████| 17/17 [00:01<00:00,  9.28it/s]\n"
     ]
    },
    {
     "name": "stdout",
     "output_type": "stream",
     "text": [
      "Final Results: {'target_variable': 'cfo1', 'top_causes': ['bso3', 'bso1', 'bed2', 'bso2', 'bed1', 'bfo2', 'bfo1'], 'estimated_effects': {'bso3': 0.013795221060720564, 'bso1': 0.004788867012545994, 'bed2': 0.0014718838840750426, 'bso2': -0.0005277858917570599, 'bed1': -0.002197889582725876, 'bfo2': -0.023949942053428597, 'bfo1': -0.13589119205639888}, 'observed_value': 0.4906125989580412, 'counterfactual_results': {'bso3': {'counterfactual_value': 0.9873561974043403, 'difference_due_to_intervention': 0.4967435984462991}, 'bso1': {'counterfactual_value': 0.9862977365936657, 'difference_due_to_intervention': 0.4956851376356245}, 'bed2': {'counterfactual_value': 0.9823525871030978, 'difference_due_to_intervention': 0.4917399881450566}, 'bso2': {'counterfactual_value': 0.98088138746755, 'difference_due_to_intervention': 0.49026878850950883}, 'bed1': {'counterfactual_value': 0.9798030771096435, 'difference_due_to_intervention': 0.4891904781516023}, 'bfo2': {'counterfactual_value': 0.9706110414908325, 'difference_due_to_intervention': 0.47999844253279134}, 'bfo1': {'counterfactual_value': 0.9075134384340217, 'difference_due_to_intervention': 0.41690083947598044}}}\n",
      "ROOT CAUSE FOUND!\n",
      "bso3-->bso3 | bso1 | bed2\n",
      "Model Accuracy Method 1: 50.0%\n",
      "--------------------------------------------------------------------------------------------------------------------------------\n",
      "Model: 50\n",
      "Anomaly: cso1\n",
      "Epoch 0, Loss: 0.0000\n",
      "Epoch 0: Average Loss = 4950.1681, Best Loss = 4950.1681\n",
      "Epoch 100: Average Loss = 279.8154, Best Loss = 279.8154\n",
      "Epoch 200: Average Loss = 103.0134, Best Loss = 103.0134\n",
      "Epoch 300: Average Loss = 63.2175, Best Loss = 63.2175\n",
      "Epoch 400: Average Loss = 47.5642, Best Loss = 47.5642\n",
      "Epoch 500: Average Loss = 39.9771, Best Loss = 39.9771\n",
      "Epoch 600: Average Loss = 35.6786, Best Loss = 35.6786\n",
      "Epoch 700: Average Loss = 33.0879, Best Loss = 33.0879\n",
      "Epoch 800: Average Loss = 31.3236, Best Loss = 31.3236\n",
      "Epoch 900: Average Loss = 30.3490, Best Loss = 30.2268\n",
      "Epoch 1000: Average Loss = 29.5671, Best Loss = 29.5116\n",
      "Epoch 1100: Average Loss = 28.9490, Best Loss = 28.9490\n",
      "Early stopping triggered after 1199 epochs. Restoring best model.\n",
      "Evaluating model\n",
      "Beginning inference phase\n",
      "Causal engine executing\n",
      "🔍 Checking for cycles using Tarjan’s SCC Algorithm...\n",
      "✅ No cycles detected! Graph is now a DAG.\n"
     ]
    },
    {
     "name": "stderr",
     "output_type": "stream",
     "text": [
      "Fitting causal mechanism of node cso1: 100%|██████████| 17/17 [00:00<00:00, 20.21it/s]\n"
     ]
    },
    {
     "name": "stdout",
     "output_type": "stream",
     "text": [
      "Final Results: {'target_variable': 'cso1', 'top_causes': ['bfo1', 'bso1', 'bed2', 'bed1', 'bfo2', 'bso3', 'bso2'], 'estimated_effects': {'bfo1': 0.17745545224926568, 'bso1': 0.11442274445058703, 'bed2': 0.044509190452326264, 'bed1': -0.0144145384153761, 'bfo2': -0.015069723710463223, 'bso3': -0.01903318732811643, 'bso2': -0.03443486063528034}, 'observed_value': 0.5257773804039169, 'counterfactual_results': {'bfo1': {'counterfactual_value': 1.1788034252197255, 'difference_due_to_intervention': 0.6530260448158086}, 'bso1': {'counterfactual_value': 1.117543732392413, 'difference_due_to_intervention': 0.591766351988496}, 'bed2': {'counterfactual_value': 1.090883949547452, 'difference_due_to_intervention': 0.5651065691435352}, 'bed1': {'counterfactual_value': 1.0494509104778156, 'difference_due_to_intervention': 0.5236735300738987}, 'bfo2': {'counterfactual_value': 1.0434755247749723, 'difference_due_to_intervention': 0.5176981443710554}, 'bso3': {'counterfactual_value': 1.041988529113794, 'difference_due_to_intervention': 0.5162111487098772}, 'bso2': {'counterfactual_value': 1.029793610767197, 'difference_due_to_intervention': 0.5040162303632801}}}\n",
      "bfo2-->bfo1 | bso1 | bed2\n",
      "Model Accuracy Method 1: 49.02%\n",
      "--------------------------------------------------------------------------------------------------------------------------------\n",
      "Model: 51\n",
      "Anomaly: ced1\n",
      "Epoch 0, Loss: 0.0001\n",
      "Epoch 0: Average Loss = 1574.5551, Best Loss = 1574.5551\n",
      "Epoch 100: Average Loss = 41.2980, Best Loss = 41.2980\n",
      "Epoch 200: Average Loss = 34.2320, Best Loss = 34.1832\n",
      "Epoch 300: Average Loss = 32.8452, Best Loss = 32.8452\n",
      "Early stopping triggered after 385 epochs. Restoring best model.\n",
      "Evaluating model\n",
      "Beginning inference phase\n",
      "Causal engine executing\n",
      "🔍 Checking for cycles using Tarjan’s SCC Algorithm...\n",
      "✅ No cycles detected! Graph is now a DAG.\n"
     ]
    },
    {
     "name": "stderr",
     "output_type": "stream",
     "text": [
      "Fitting causal mechanism of node cso1: 100%|██████████| 17/17 [00:01<00:00, 12.28it/s]\n"
     ]
    },
    {
     "name": "stdout",
     "output_type": "stream",
     "text": [
      "Final Results: {'target_variable': 'ced1', 'top_causes': ['bed2', 'bso2', 'bed1', 'bso1', 'bfo1'], 'estimated_effects': {'bed2': 0.013063005583263176, 'bso2': 0.002463059879841023, 'bed1': -0.02722086700186116, 'bso1': -0.04376677515410354, 'bfo1': -0.20623117674735944}, 'observed_value': 0.2521290530266231, 'counterfactual_results': {'bed2': {'counterfactual_value': 0.5049929946560545, 'difference_due_to_intervention': 0.25286394162943143}, 'bso2': {'counterfactual_value': 0.5031496859885348, 'difference_due_to_intervention': 0.25102063296191174}, 'bed1': {'counterfactual_value': 0.47545700692187043, 'difference_due_to_intervention': 0.22332795389524734}, 'bso1': {'counterfactual_value': 0.4674780915479756, 'difference_due_to_intervention': 0.2153490385213525}, 'bfo1': {'counterfactual_value': 0.44502813779456996, 'difference_due_to_intervention': 0.19289908476794687}}}\n",
      "ROOT CAUSE FOUND!\n",
      "bed2-->bed2 | bso2 | bed1\n",
      "Model Accuracy Method 1: 50.0%\n",
      "--------------------------------------------------------------------------------------------------------------------------------\n",
      "Model: 52\n",
      "Anomaly: cfo1\n",
      "Epoch 0, Loss: 0.0001\n",
      "Epoch 0: Average Loss = 14053.6562, Best Loss = 14053.6562\n",
      "Epoch 100: Average Loss = 405.2989, Best Loss = 405.2989\n",
      "Epoch 200: Average Loss = 140.3360, Best Loss = 140.3360\n",
      "Epoch 300: Average Loss = 80.4359, Best Loss = 80.4359\n",
      "Epoch 400: Average Loss = 57.5172, Best Loss = 57.5172\n",
      "Epoch 500: Average Loss = 46.5623, Best Loss = 46.5623\n",
      "Epoch 600: Average Loss = 40.6199, Best Loss = 40.6199\n",
      "Epoch 700: Average Loss = 37.1124, Best Loss = 37.1124\n",
      "Epoch 800: Average Loss = 35.0194, Best Loss = 34.9760\n",
      "Early stopping triggered after 893 epochs. Restoring best model.\n",
      "Evaluating model\n",
      "Beginning inference phase\n",
      "Causal engine executing\n",
      "🔍 Checking for cycles using Tarjan’s SCC Algorithm...\n",
      "✅ No cycles detected! Graph is now a DAG.\n"
     ]
    },
    {
     "name": "stderr",
     "output_type": "stream",
     "text": [
      "Fitting causal mechanism of node cso1: 100%|██████████| 17/17 [00:01<00:00, 15.82it/s]\n"
     ]
    },
    {
     "name": "stdout",
     "output_type": "stream",
     "text": [
      "Final Results: {'target_variable': 'cfo1', 'top_causes': ['bso2', 'bso1', 'bso3', 'bed2', 'bed1', 'bfo2', 'bfo1'], 'estimated_effects': {'bso2': 0.002128056443585824, 'bso1': 0.00034663909168741736, 'bso3': -0.00023011520023952237, 'bed2': -0.00048294217492217406, 'bed1': -0.00502590043221296, 'bfo2': -0.01753852703796177, 'bfo1': -0.03362102467018652}, 'observed_value': 0.508441946980793, 'counterfactual_results': {'bso2': {'counterfactual_value': 1.0173154514751268, 'difference_due_to_intervention': 0.5088735044943338}, 'bso1': {'counterfactual_value': 1.0167929056421519, 'difference_due_to_intervention': 0.5083509586613588}, 'bso3': {'counterfactual_value': 1.0160033806146818, 'difference_due_to_intervention': 0.5075614336338887}, 'bed2': {'counterfactual_value': 1.016935964058113, 'difference_due_to_intervention': 0.50849401707732}, 'bed1': {'counterfactual_value': 1.0149550914913033, 'difference_due_to_intervention': 0.5065131445105102}, 'bfo2': {'counterfactual_value': 1.008188592222217, 'difference_due_to_intervention': 0.49974664524142387}, 'bfo1': {'counterfactual_value': 1.005825015020361, 'difference_due_to_intervention': 0.4973830680395679}}}\n",
      "bso3-->bso2 | bed2 | bso1\n",
      "Model Accuracy Method 1: 49.06%\n",
      "--------------------------------------------------------------------------------------------------------------------------------\n",
      "Model: 53\n",
      "Anomaly: cso1\n",
      "Epoch 0, Loss: 0.0002\n",
      "Epoch 0: Average Loss = 926.7553, Best Loss = 926.7553\n",
      "Epoch 100: Average Loss = 35.6486, Best Loss = 35.6486\n",
      "Early stopping triggered after 190 epochs. Restoring best model.\n",
      "Evaluating model\n",
      "Beginning inference phase\n",
      "Causal engine executing\n",
      "🔍 Checking for cycles using Tarjan’s SCC Algorithm...\n",
      "✅ No cycles detected! Graph is now a DAG.\n"
     ]
    },
    {
     "name": "stderr",
     "output_type": "stream",
     "text": [
      "Fitting causal mechanism of node cso1: 100%|██████████| 17/17 [00:01<00:00,  8.94it/s]\n"
     ]
    },
    {
     "name": "stdout",
     "output_type": "stream",
     "text": [
      "Final Results: {'target_variable': 'cso1', 'top_causes': ['bfo2', 'bed1', 'bso1', 'bfo1', 'bed2', 'bso3', 'bso2'], 'estimated_effects': {'bfo2': 0.821444680631767, 'bed1': 0.02919139140817889, 'bso1': 0.018127138499182405, 'bfo1': 0.005872835310257951, 'bed2': 0.0017519094702017624, 'bso3': 0.00023477267714355765, 'bso2': -0.004771049139453143}, 'observed_value': 0.5166796029884847, 'counterfactual_results': {'bfo2': {'counterfactual_value': 1.4732249918612652, 'difference_due_to_intervention': 0.9565453888727805}, 'bed1': {'counterfactual_value': 1.0318354537591605, 'difference_due_to_intervention': 0.5151558507706758}, 'bso1': {'counterfactual_value': 1.034150600834579, 'difference_due_to_intervention': 0.5174709978460944}, 'bfo1': {'counterfactual_value': 1.030451944177495, 'difference_due_to_intervention': 0.5137723411890104}, 'bed2': {'counterfactual_value': 1.0371502826827046, 'difference_due_to_intervention': 0.5204706796942199}, 'bso3': {'counterfactual_value': 1.0324473601669246, 'difference_due_to_intervention': 0.5157677571784399}, 'bso2': {'counterfactual_value': 1.029129340029714, 'difference_due_to_intervention': 0.5124497370412292}}}\n",
      "ROOT CAUSE FOUND!\n",
      "bfo2-->bfo2 | bed2 | bso1\n",
      "Model Accuracy Method 1: 50.0%\n",
      "--------------------------------------------------------------------------------------------------------------------------------\n",
      "Model: 54\n",
      "Anomaly: ced1\n",
      "Epoch 0, Loss: 0.0001\n",
      "Epoch 0: Average Loss = 4758.7683, Best Loss = 4758.7683\n",
      "Epoch 100: Average Loss = 58.8776, Best Loss = 58.8776\n",
      "Epoch 200: Average Loss = 37.0134, Best Loss = 37.0134\n",
      "Epoch 300: Average Loss = 32.4503, Best Loss = 32.4503\n",
      "Epoch 400: Average Loss = 30.9786, Best Loss = 30.9673\n",
      "Epoch 500: Average Loss = 30.3862, Best Loss = 30.3862\n",
      "Early stopping triggered after 569 epochs. Restoring best model.\n",
      "Evaluating model\n",
      "Beginning inference phase\n",
      "Causal engine executing\n",
      "🔍 Checking for cycles using Tarjan’s SCC Algorithm...\n",
      "✅ No cycles detected! Graph is now a DAG.\n"
     ]
    },
    {
     "name": "stderr",
     "output_type": "stream",
     "text": [
      "Fitting causal mechanism of node cso1: 100%|██████████| 17/17 [00:01<00:00, 15.64it/s]\n"
     ]
    },
    {
     "name": "stdout",
     "output_type": "stream",
     "text": [
      "Final Results: {'target_variable': 'ced1', 'top_causes': ['bso1', 'bed1', 'bfo2', 'bso2', 'bed2', 'bso3', 'bfo1'], 'estimated_effects': {'bso1': 0.11713384710538391, 'bed1': 0.013870513005170226, 'bfo2': 0.004411822424005174, 'bso2': 0.0003168074960633871, 'bed2': -0.00024216194143100722, 'bso3': -0.0004267364286568709, 'bfo1': -0.004196963574466472}, 'observed_value': 0.26500157862732915, 'counterfactual_results': {'bso1': {'counterfactual_value': 0.6133792136644874, 'difference_due_to_intervention': 0.3483776350371583}, 'bed1': {'counterfactual_value': 0.5319825415016944, 'difference_due_to_intervention': 0.2669809628743653}, 'bfo2': {'counterfactual_value': 0.5350825231413939, 'difference_due_to_intervention': 0.2700809445140648}, 'bso2': {'counterfactual_value': 0.5300690074896927, 'difference_due_to_intervention': 0.2650674288623635}, 'bed2': {'counterfactual_value': 0.5280957905028348, 'difference_due_to_intervention': 0.2630942118755057}, 'bso3': {'counterfactual_value': 0.5318188256104682, 'difference_due_to_intervention': 0.2668172469831391}, 'bfo1': {'counterfactual_value': 0.5226694254240416, 'difference_due_to_intervention': 0.25766784679671245}}}\n",
      "ROOT CAUSE FOUND!\n",
      "bed1-->bso1 | bfo2 | bed1\n",
      "Model Accuracy Method 1: 50.91%\n",
      "--------------------------------------------------------------------------------------------------------------------------------\n",
      "Model: 55\n",
      "Anomaly: cso1\n",
      "Epoch 0, Loss: 0.0001\n",
      "Epoch 0: Average Loss = 3750.2864, Best Loss = 3750.2864\n",
      "Epoch 100: Average Loss = 117.5402, Best Loss = 117.5402\n",
      "Epoch 200: Average Loss = 45.2850, Best Loss = 45.2850\n",
      "Epoch 300: Average Loss = 29.2750, Best Loss = 29.2616\n",
      "Epoch 400: Average Loss = 23.1824, Best Loss = 23.1824\n",
      "Epoch 500: Average Loss = 20.2230, Best Loss = 20.1649\n",
      "Epoch 600: Average Loss = 18.6728, Best Loss = 18.5413\n",
      "Epoch 700: Average Loss = 17.6589, Best Loss = 17.5599\n",
      "Early stopping triggered after 708 epochs. Restoring best model.\n",
      "Evaluating model\n",
      "Beginning inference phase\n",
      "Causal engine executing\n",
      "🔍 Checking for cycles using Tarjan’s SCC Algorithm...\n",
      "✅ No cycles detected! Graph is now a DAG.\n"
     ]
    },
    {
     "name": "stderr",
     "output_type": "stream",
     "text": [
      "Fitting causal mechanism of node cso1: 100%|██████████| 17/17 [00:01<00:00, 15.58it/s]\n"
     ]
    },
    {
     "name": "stdout",
     "output_type": "stream",
     "text": [
      "Final Results: {'target_variable': 'cso1', 'top_causes': ['bed1', 'bfo2', 'bso1', 'bso3', 'bed2', 'bso2', 'bfo1'], 'estimated_effects': {'bed1': 0.03138641307146384, 'bfo2': 0.004981150057384531, 'bso1': 0.0012476518368463863, 'bso3': -6.576191933227449e-06, 'bed2': -0.0007501616260138233, 'bso2': -0.0011653010947456632, 'bfo1': -0.014739235292895114}, 'observed_value': 0.5181686007460583, 'counterfactual_results': {'bed1': {'counterfactual_value': 1.0501000599269223, 'difference_due_to_intervention': 0.531931459180864}, 'bfo2': {'counterfactual_value': 1.039429405634114, 'difference_due_to_intervention': 0.5212608048880557}, 'bso1': {'counterfactual_value': 1.0376590479920775, 'difference_due_to_intervention': 0.5194904472460192}, 'bso3': {'counterfactual_value': 1.0358975688694043, 'difference_due_to_intervention': 0.517728968123346}, 'bed2': {'counterfactual_value': 1.0354031473477414, 'difference_due_to_intervention': 0.5172345466016831}, 'bso2': {'counterfactual_value': 1.0352018986946243, 'difference_due_to_intervention': 0.517033297948566}, 'bfo1': {'counterfactual_value': 1.0216174477725315, 'difference_due_to_intervention': 0.5034488470264732}}}\n",
      "ROOT CAUSE FOUND!\n",
      "bfo2-->bed1 | bfo2 | bso1\n",
      "Model Accuracy Method 1: 51.79%\n",
      "--------------------------------------------------------------------------------------------------------------------------------\n",
      "Model: 56\n",
      "Anomaly: ced1\n",
      "Epoch 0, Loss: 0.0001\n",
      "Epoch 0: Average Loss = 1820.7936, Best Loss = 1820.7936\n",
      "Epoch 100: Average Loss = 27.4689, Best Loss = 27.4689\n",
      "Epoch 200: Average Loss = 19.4517, Best Loss = 19.4517\n",
      "Epoch 300: Average Loss = 17.7912, Best Loss = 17.7837\n",
      "Early stopping triggered after 343 epochs. Restoring best model.\n",
      "Evaluating model\n",
      "Beginning inference phase\n",
      "Causal engine executing\n",
      "🔍 Checking for cycles using Tarjan’s SCC Algorithm...\n",
      "✅ No cycles detected! Graph is now a DAG.\n"
     ]
    },
    {
     "name": "stderr",
     "output_type": "stream",
     "text": [
      "Fitting causal mechanism of node cso1: 100%|██████████| 17/17 [00:01<00:00, 11.85it/s]\n"
     ]
    },
    {
     "name": "stdout",
     "output_type": "stream",
     "text": [
      "Final Results: {'target_variable': 'ced1', 'top_causes': ['bed1', 'bso2', 'bed2', 'bfo2', 'bfo1', 'bso3', 'bso1'], 'estimated_effects': {'bed1': 0.0021578238251009074, 'bso2': 6.566892597606455e-05, 'bed2': -0.0005199506628771056, 'bfo2': -0.0006857459149657019, 'bfo1': -0.003617604290832105, 'bso3': -0.004134809254326188, 'bso1': -0.017525536496096616}, 'observed_value': 0.19275949272409432, 'counterfactual_results': {'bed1': {'counterfactual_value': 0.38711215691862405, 'difference_due_to_intervention': 0.19435266419452973}, 'bso2': {'counterfactual_value': 0.385189109940942, 'difference_due_to_intervention': 0.1924296172168477}, 'bed2': {'counterfactual_value': 0.3841848224404006, 'difference_due_to_intervention': 0.19142532971630627}, 'bfo2': {'counterfactual_value': 0.3853158146450769, 'difference_due_to_intervention': 0.1925563219209826}, 'bfo1': {'counterfactual_value': 0.38184565840831775, 'difference_due_to_intervention': 0.18908616568422343}, 'bso3': {'counterfactual_value': 0.3836944204286109, 'difference_due_to_intervention': 0.1909349277045166}, 'bso1': {'counterfactual_value': 0.37837381522902164, 'difference_due_to_intervention': 0.18561432250492732}}}\n",
      "ROOT CAUSE FOUND!\n",
      "bed1-->bed1 | bfo2 | bso2\n",
      "Model Accuracy Method 1: 52.63%\n",
      "--------------------------------------------------------------------------------------------------------------------------------\n",
      "Model: 57\n",
      "Anomaly: cfo1\n",
      "Epoch 0, Loss: 0.0001\n",
      "Epoch 0: Average Loss = 2645.2484, Best Loss = 2645.2484\n",
      "Epoch 100: Average Loss = 160.5818, Best Loss = 160.5818\n",
      "Epoch 200: Average Loss = 66.9288, Best Loss = 66.9288\n",
      "Epoch 300: Average Loss = 45.7667, Best Loss = 45.7667\n",
      "Epoch 400: Average Loss = 37.5068, Best Loss = 37.5068\n",
      "Early stopping triggered after 482 epochs. Restoring best model.\n",
      "Evaluating model\n",
      "Beginning inference phase\n",
      "Causal engine executing\n",
      "🔍 Checking for cycles using Tarjan’s SCC Algorithm...\n",
      "✅ No cycles detected! Graph is now a DAG.\n"
     ]
    },
    {
     "name": "stderr",
     "output_type": "stream",
     "text": [
      "Fitting causal mechanism of node cso1: 100%|██████████| 17/17 [00:00<00:00, 25.64it/s]\n"
     ]
    },
    {
     "name": "stdout",
     "output_type": "stream",
     "text": [
      "Final Results: {'target_variable': 'cfo1', 'top_causes': ['bso2', 'bed2', 'bed1', 'bfo1', 'bso3', 'bfo2'], 'estimated_effects': {'bso2': 0.0012358087726543898, 'bed2': 2.391033296378353e-05, 'bed1': -0.004114266857528026, 'bfo1': -0.004404524914202401, 'bso3': -0.00709132293696757, 'bfo2': -0.016814625254729654}, 'observed_value': 0.5213186783529686, 'counterfactual_results': {'bso2': {'counterfactual_value': 1.0433408409402054, 'difference_due_to_intervention': 0.5220221625872368}, 'bed2': {'counterfactual_value': 1.0431533154941266, 'difference_due_to_intervention': 0.521834637141158}, 'bed1': {'counterfactual_value': 1.0384647554660085, 'difference_due_to_intervention': 0.5171460771130398}, 'bfo1': {'counterfactual_value': 1.0396396076751626, 'difference_due_to_intervention': 0.518320929322194}, 'bso3': {'counterfactual_value': 1.0400487000180971, 'difference_due_to_intervention': 0.5187300216651285}, 'bfo2': {'counterfactual_value': 1.034623006161216, 'difference_due_to_intervention': 0.5133043278082474}}}\n",
      "bfo1-->bso2 | bed2 | bso3\n",
      "Model Accuracy Method 1: 51.72%\n",
      "--------------------------------------------------------------------------------------------------------------------------------\n",
      "Model: 58\n",
      "Anomaly: cfo1\n",
      "Epoch 0, Loss: 0.0001\n",
      "Epoch 0: Average Loss = 8078.2784, Best Loss = 8078.2784\n",
      "Epoch 100: Average Loss = 240.9767, Best Loss = 240.9767\n",
      "Epoch 200: Average Loss = 90.0178, Best Loss = 90.0178\n",
      "Epoch 300: Average Loss = 55.8315, Best Loss = 55.8315\n",
      "Epoch 400: Average Loss = 42.5236, Best Loss = 42.4621\n",
      "Epoch 500: Average Loss = 35.9819, Best Loss = 35.9819\n",
      "Epoch 600: Average Loss = 32.6804, Best Loss = 32.6804\n",
      "Epoch 700: Average Loss = 30.6958, Best Loss = 30.6044\n",
      "Epoch 800: Average Loss = 29.3671, Best Loss = 29.3671\n",
      "Epoch 900: Average Loss = 28.7096, Best Loss = 28.5160\n",
      "Epoch 1000: Average Loss = 28.1329, Best Loss = 28.0422\n",
      "Early stopping triggered after 1014 epochs. Restoring best model.\n",
      "Evaluating model\n",
      "Beginning inference phase\n",
      "Causal engine executing\n",
      "🔍 Checking for cycles using Tarjan’s SCC Algorithm...\n",
      "✅ No cycles detected! Graph is now a DAG.\n"
     ]
    },
    {
     "name": "stderr",
     "output_type": "stream",
     "text": [
      "Fitting causal mechanism of node cso1: 100%|██████████| 17/17 [00:00<00:00, 45.61it/s]\n"
     ]
    },
    {
     "name": "stdout",
     "output_type": "stream",
     "text": [
      "⚠️ No causal factors found for cfo1. Exiting pipeline.\n",
      "bso1-->bfo1 | bso3 | bso2\n",
      "Model Accuracy Method 1: 50.85%\n",
      "--------------------------------------------------------------------------------------------------------------------------------\n",
      "Model: 59\n",
      "Anomaly: cso1\n",
      "Epoch 0, Loss: 0.0001\n",
      "Epoch 0: Average Loss = 10577.8987, Best Loss = 10577.8987\n",
      "Epoch 100: Average Loss = 906.4179, Best Loss = 906.4179\n",
      "Epoch 200: Average Loss = 281.7577, Best Loss = 281.7577\n",
      "Epoch 300: Average Loss = 142.3317, Best Loss = 142.3317\n",
      "Epoch 400: Average Loss = 88.1629, Best Loss = 88.1629\n",
      "Epoch 500: Average Loss = 61.0800, Best Loss = 61.0800\n",
      "Epoch 600: Average Loss = 45.8615, Best Loss = 45.8615\n",
      "Epoch 700: Average Loss = 36.0994, Best Loss = 36.0994\n",
      "Epoch 800: Average Loss = 30.2174, Best Loss = 30.2174\n",
      "Epoch 900: Average Loss = 26.0800, Best Loss = 25.8639\n",
      "Epoch 1000: Average Loss = 22.9764, Best Loss = 22.9082\n",
      "Epoch 1100: Average Loss = 20.8111, Best Loss = 20.7645\n",
      "Early stopping triggered after 1179 epochs. Restoring best model.\n",
      "Evaluating model\n",
      "Beginning inference phase\n",
      "Causal engine executing\n",
      "🔍 Checking for cycles using Tarjan’s SCC Algorithm...\n",
      "✅ No cycles detected! Graph is now a DAG.\n"
     ]
    },
    {
     "name": "stderr",
     "output_type": "stream",
     "text": [
      "Fitting causal mechanism of node cso1: 100%|██████████| 17/17 [00:00<00:00, 45.99it/s]\n"
     ]
    },
    {
     "name": "stdout",
     "output_type": "stream",
     "text": [
      "Final Results: {'target_variable': 'cso1', 'top_causes': ['bfo1', 'bfo2', 'bso2', 'bso1', 'bso3', 'bed2', 'bed1'], 'estimated_effects': {'bfo1': 0.04762651933199419, 'bfo2': 0.011443205808250756, 'bso2': 0.0005671284724242942, 'bso1': -4.5260408313985145e-06, 'bso3': 4.919894059374208e-07, 'bed2': -0.004513942787002734, 'bed1': -0.01037668462542285}, 'observed_value': 0.41634048541350427, 'counterfactual_results': {'bfo1': {'counterfactual_value': 0.8738705200592869, 'difference_due_to_intervention': 0.4575300346457826}, 'bfo2': {'counterfactual_value': 0.8419159890431407, 'difference_due_to_intervention': 0.4255755036296364}, 'bso2': {'counterfactual_value': 0.8325805299537137, 'difference_due_to_intervention': 0.4162400445402094}, 'bso1': {'counterfactual_value': 0.8331869035558316, 'difference_due_to_intervention': 0.4168464181423273}, 'bso3': {'counterfactual_value': 0.8309384753878932, 'difference_due_to_intervention': 0.41459798997438896}, 'bed2': {'counterfactual_value': 0.834256467527172, 'difference_due_to_intervention': 0.4179159821136677}, 'bed1': {'counterfactual_value': 0.8307466502374389, 'difference_due_to_intervention': 0.4144061648239346}}}\n",
      "ROOT CAUSE FOUND!\n",
      "bfo2-->bfo1 | bfo2 | bed2\n",
      "Model Accuracy Method 1: 51.67%\n",
      "--------------------------------------------------------------------------------------------------------------------------------\n",
      "Model: 60\n",
      "Anomaly: ced1\n",
      "Epoch 0, Loss: 0.0001\n",
      "Epoch 0: Average Loss = 2803.7825, Best Loss = 2803.7825\n",
      "Epoch 100: Average Loss = 104.1926, Best Loss = 104.1926\n",
      "Epoch 200: Average Loss = 52.3351, Best Loss = 52.3351\n",
      "Epoch 300: Average Loss = 40.8924, Best Loss = 40.8924\n",
      "Early stopping triggered after 361 epochs. Restoring best model.\n",
      "Evaluating model\n",
      "Beginning inference phase\n",
      "Causal engine executing\n",
      "🔍 Checking for cycles using Tarjan’s SCC Algorithm...\n",
      "✅ No cycles detected! Graph is now a DAG.\n"
     ]
    },
    {
     "name": "stderr",
     "output_type": "stream",
     "text": [
      "Fitting causal mechanism of node cso1: 100%|██████████| 17/17 [00:00<00:00, 18.96it/s]\n"
     ]
    },
    {
     "name": "stdout",
     "output_type": "stream",
     "text": [
      "Final Results: {'target_variable': 'ced1', 'top_causes': ['bso1', 'bfo1', 'bfo2', 'bed1', 'bso2', 'bed2', 'bso3'], 'estimated_effects': {'bso1': 0.04972309509347966, 'bfo1': 0.005572203252306479, 'bfo2': 0.0006291546993722752, 'bed1': 4.7512120867038155e-05, 'bso2': -4.810842489955114e-05, 'bed2': -0.00023559577932869002, 'bso3': -0.000585338191534307}, 'observed_value': 0.18928603077904113, 'counterfactual_results': {'bso1': {'counterfactual_value': 0.4030909919677453, 'difference_due_to_intervention': 0.21380496118870415}, 'bfo1': {'counterfactual_value': 0.380155991818443, 'difference_due_to_intervention': 0.19086996103940188}, 'bfo2': {'counterfactual_value': 0.37870938956380723, 'difference_due_to_intervention': 0.1894233587847661}, 'bed1': {'counterfactual_value': 0.37861846229921187, 'difference_due_to_intervention': 0.18933243152017074}, 'bso2': {'counterfactual_value': 0.3787275793543925, 'difference_due_to_intervention': 0.18944154857535137}, 'bed2': {'counterfactual_value': 0.3785699180999826, 'difference_due_to_intervention': 0.18928388732094145}, 'bso3': {'counterfactual_value': 0.3783051707989899, 'difference_due_to_intervention': 0.18901914001994877}}}\n",
      "bed1-->bso1 | bfo1 | bso2\n",
      "Model Accuracy Method 1: 50.82%\n",
      "--------------------------------------------------------------------------------------------------------------------------------\n",
      "Model: 61\n",
      "Anomaly: cfo1\n",
      "Epoch 0, Loss: 0.0001\n",
      "Epoch 0: Average Loss = 3719.8417, Best Loss = 3719.8417\n",
      "Epoch 100: Average Loss = 52.0193, Best Loss = 52.0193\n",
      "Epoch 200: Average Loss = 35.5620, Best Loss = 35.5620\n",
      "Epoch 300: Average Loss = 32.0348, Best Loss = 32.0348\n",
      "Early stopping triggered after 359 epochs. Restoring best model.\n",
      "Evaluating model\n",
      "Beginning inference phase\n",
      "Causal engine executing\n",
      "🔍 Checking for cycles using Tarjan’s SCC Algorithm...\n",
      "✅ No cycles detected! Graph is now a DAG.\n"
     ]
    },
    {
     "name": "stderr",
     "output_type": "stream",
     "text": [
      "Fitting causal mechanism of node cso1: 100%|██████████| 17/17 [00:01<00:00, 10.41it/s]\n"
     ]
    },
    {
     "name": "stdout",
     "output_type": "stream",
     "text": [
      "Final Results: {'target_variable': 'cfo1', 'top_causes': ['bed1', 'bso2', 'bso1', 'bed2', 'bfo2', 'bfo1'], 'estimated_effects': {'bed1': 0.010347739947350165, 'bso2': 0.003259550608230244, 'bso1': 0.0008265674356665587, 'bed2': 0.0006684278235283836, 'bfo2': -0.01032374132937286, 'bfo1': -0.08818884011278877}, 'observed_value': 0.5493139873062851, 'counterfactual_results': {'bed1': {'counterfactual_value': 1.098034750208792, 'difference_due_to_intervention': 0.5487207629025068}, 'bso2': {'counterfactual_value': 1.0988945528452743, 'difference_due_to_intervention': 0.5495805655389892}, 'bso1': {'counterfactual_value': 1.0967028719704326, 'difference_due_to_intervention': 0.5473888846641475}, 'bed2': {'counterfactual_value': 1.0990251730388438, 'difference_due_to_intervention': 0.5497111857325587}, 'bfo2': {'counterfactual_value': 1.0950486608698666, 'difference_due_to_intervention': 0.5457346735635815}, 'bfo1': {'counterfactual_value': 1.0419336586944534, 'difference_due_to_intervention': 0.4926196713881683}}}\n",
      "bso1-->bed2 | bso2 | bed1\n",
      "Model Accuracy Method 1: 50.0%\n",
      "--------------------------------------------------------------------------------------------------------------------------------\n",
      "Model: 62\n",
      "Anomaly: cfo1\n",
      "Epoch 0, Loss: 0.0001\n",
      "Epoch 0: Average Loss = 2163.0000, Best Loss = 2163.0000\n",
      "Epoch 100: Average Loss = 135.3148, Best Loss = 135.3148\n",
      "Epoch 200: Average Loss = 58.8862, Best Loss = 58.8862\n",
      "Epoch 300: Average Loss = 41.9859, Best Loss = 41.9641\n",
      "Epoch 400: Average Loss = 35.4231, Best Loss = 35.2868\n",
      "Early stopping triggered after 462 epochs. Restoring best model.\n",
      "Evaluating model\n",
      "Beginning inference phase\n",
      "Causal engine executing\n",
      "🔍 Checking for cycles using Tarjan’s SCC Algorithm...\n",
      "✅ No cycles detected! Graph is now a DAG.\n"
     ]
    },
    {
     "name": "stderr",
     "output_type": "stream",
     "text": [
      "Fitting causal mechanism of node cso1: 100%|██████████| 17/17 [00:00<00:00, 19.27it/s]\n"
     ]
    },
    {
     "name": "stdout",
     "output_type": "stream",
     "text": [
      "Final Results: {'target_variable': 'cfo1', 'top_causes': ['bed2', 'bso2', 'bso1', 'bso3', 'bed1', 'bfo1', 'bfo2'], 'estimated_effects': {'bed2': 0.00037827009541369083, 'bso2': 0.0001807517495860944, 'bso1': -3.199634336381596e-05, 'bso3': -0.00013282370097034146, 'bed1': -0.0004757860560741234, 'bfo1': -0.007523799653164964, 'bfo2': -0.008078234076231983}, 'observed_value': 0.5481323637286665, 'counterfactual_results': {'bed2': {'counterfactual_value': 1.0964042397650886, 'difference_due_to_intervention': 0.5482718760364221}, 'bso2': {'counterfactual_value': 1.0964730061534544, 'difference_due_to_intervention': 0.548340642424788}, 'bso1': {'counterfactual_value': 1.0961412303404316, 'difference_due_to_intervention': 0.5480088666117652}, 'bso3': {'counterfactual_value': 1.0959439322930544, 'difference_due_to_intervention': 0.547811568564388}, 'bed1': {'counterfactual_value': 1.0960110537406988, 'difference_due_to_intervention': 0.5478786900120324}, 'bfo1': {'counterfactual_value': 1.0922465727917203, 'difference_due_to_intervention': 0.5441142090630539}, 'bfo2': {'counterfactual_value': 1.0898312215598591, 'difference_due_to_intervention': 0.5416988578311926}}}\n",
      "bfo1-->bso2 | bed2 | bso1\n",
      "Model Accuracy Method 1: 49.21%\n",
      "--------------------------------------------------------------------------------------------------------------------------------\n",
      "Model: 63\n",
      "Anomaly: cfo1\n",
      "Epoch 0, Loss: 0.0001\n",
      "Epoch 0: Average Loss = 4402.3536, Best Loss = 4402.3536\n",
      "Epoch 100: Average Loss = 57.7639, Best Loss = 57.7639\n",
      "Epoch 200: Average Loss = 37.1754, Best Loss = 37.1754\n",
      "Epoch 300: Average Loss = 33.0774, Best Loss = 33.0774\n",
      "Early stopping triggered after 333 epochs. Restoring best model.\n",
      "Evaluating model\n",
      "Beginning inference phase\n",
      "Causal engine executing\n",
      "🔍 Checking for cycles using Tarjan’s SCC Algorithm...\n",
      "✅ No cycles detected! Graph is now a DAG.\n"
     ]
    },
    {
     "name": "stderr",
     "output_type": "stream",
     "text": [
      "Fitting causal mechanism of node cso1: 100%|██████████| 17/17 [00:01<00:00, 11.75it/s]\n"
     ]
    },
    {
     "name": "stdout",
     "output_type": "stream",
     "text": [
      "Final Results: {'target_variable': 'cfo1', 'top_causes': ['bed1', 'bso1', 'bso2', 'bed2', 'bso3', 'bfo2', 'bfo1'], 'estimated_effects': {'bed1': 0.0012583712058627516, 'bso1': 0.0008099327945269574, 'bso2': -2.894945127168702e-05, 'bed2': -0.001389796933725318, 'bso3': -0.011386596105342206, 'bfo2': -0.03167535246974995, 'bfo1': -0.07330685821247368}, 'observed_value': 0.4978749201136391, 'counterfactual_results': {'bed1': {'counterfactual_value': 0.9959825526499207, 'difference_due_to_intervention': 0.49810763253628165}, 'bso1': {'counterfactual_value': 0.9961815595807426, 'difference_due_to_intervention': 0.4983066394671035}, 'bso2': {'counterfactual_value': 0.9944910147044715, 'difference_due_to_intervention': 0.49661609459083245}, 'bed2': {'counterfactual_value': 0.9959678320811556, 'difference_due_to_intervention': 0.4980929119675165}, 'bso3': {'counterfactual_value': 0.9902098423669002, 'difference_due_to_intervention': 0.49233492225326114}, 'bfo2': {'counterfactual_value': 0.9873683518503914, 'difference_due_to_intervention': 0.4894934317367523}, 'bfo1': {'counterfactual_value': 0.9673304811256064, 'difference_due_to_intervention': 0.4694555610119673}}}\n",
      "ROOT CAUSE FOUND!\n",
      "bso1-->bso1 | bed1 | bed2\n",
      "Model Accuracy Method 1: 50.0%\n",
      "--------------------------------------------------------------------------------------------------------------------------------\n",
      "Model: 64\n",
      "Anomaly: ced1\n",
      "Epoch 0, Loss: 0.0001\n",
      "Epoch 0: Average Loss = 5650.4603, Best Loss = 5650.4603\n",
      "Epoch 100: Average Loss = 309.6722, Best Loss = 309.6722\n",
      "Epoch 200: Average Loss = 108.2659, Best Loss = 108.2659\n",
      "Epoch 300: Average Loss = 62.2362, Best Loss = 62.2362\n",
      "Epoch 400: Average Loss = 44.4608, Best Loss = 44.4522\n",
      "Epoch 500: Average Loss = 35.4224, Best Loss = 35.3360\n",
      "Epoch 600: Average Loss = 30.1342, Best Loss = 30.0997\n",
      "Epoch 700: Average Loss = 27.1065, Best Loss = 27.1065\n",
      "Epoch 800: Average Loss = 25.0967, Best Loss = 25.0367\n",
      "Epoch 900: Average Loss = 23.7871, Best Loss = 23.7871\n",
      "Early stopping triggered after 968 epochs. Restoring best model.\n",
      "Evaluating model\n",
      "Beginning inference phase\n",
      "Causal engine executing\n",
      "🔍 Checking for cycles using Tarjan’s SCC Algorithm...\n",
      "✅ No cycles detected! Graph is now a DAG.\n"
     ]
    },
    {
     "name": "stderr",
     "output_type": "stream",
     "text": [
      "Fitting causal mechanism of node cso1: 100%|██████████| 17/17 [00:00<00:00, 31.99it/s]\n"
     ]
    },
    {
     "name": "stdout",
     "output_type": "stream",
     "text": [
      "Final Results: {'target_variable': 'ced1', 'top_causes': ['bfo2'], 'estimated_effects': {'bfo2': 13.588201877786945}, 'observed_value': 0.19576150624692454, 'counterfactual_results': {'bfo2': {'counterfactual_value': 11.857362373376153, 'difference_due_to_intervention': 11.661600867129229}}}\n",
      "bed1-->bfo2 | bfo1 | bso3\n",
      "Model Accuracy Method 1: 49.23%\n",
      "--------------------------------------------------------------------------------------------------------------------------------\n",
      "Model: 65\n",
      "Anomaly: cfo1\n",
      "Epoch 0, Loss: 0.0001\n",
      "Epoch 0: Average Loss = 5750.7781, Best Loss = 5750.7781\n",
      "Epoch 100: Average Loss = 98.6353, Best Loss = 98.6353\n",
      "Epoch 200: Average Loss = 43.6213, Best Loss = 43.6213\n",
      "Epoch 300: Average Loss = 31.6378, Best Loss = 31.6378\n",
      "Epoch 400: Average Loss = 27.2700, Best Loss = 27.2700\n",
      "Epoch 500: Average Loss = 25.0828, Best Loss = 25.0828\n",
      "Epoch 600: Average Loss = 24.0951, Best Loss = 23.8863\n",
      "Early stopping triggered after 626 epochs. Restoring best model.\n",
      "Evaluating model\n",
      "Beginning inference phase\n",
      "Causal engine executing\n",
      "🔍 Checking for cycles using Tarjan’s SCC Algorithm...\n",
      "✅ No cycles detected! Graph is now a DAG.\n"
     ]
    },
    {
     "name": "stderr",
     "output_type": "stream",
     "text": [
      "Fitting causal mechanism of node cso1: 100%|██████████| 17/17 [00:01<00:00, 12.53it/s]\n"
     ]
    },
    {
     "name": "stdout",
     "output_type": "stream",
     "text": [
      "Final Results: {'target_variable': 'cfo1', 'top_causes': ['bso1', 'bfo1', 'bso2', 'bso3', 'bfo2'], 'estimated_effects': {'bso1': 0.008305801906603683, 'bfo1': -0.001298454340248445, 'bso2': -0.0014116922410628563, 'bso3': -0.004718119216754579, 'bfo2': -0.004713596198492875}, 'observed_value': 0.5609204642136298, 'counterfactual_results': {'bso1': {'counterfactual_value': 1.1272763360389182, 'difference_due_to_intervention': 0.5663558718252883}, 'bfo1': {'counterfactual_value': 1.121101744542473, 'difference_due_to_intervention': 0.5601812803288431}, 'bso2': {'counterfactual_value': 1.1204091006470358, 'difference_due_to_intervention': 0.559488636433406}, 'bso3': {'counterfactual_value': 1.1189801691855779, 'difference_due_to_intervention': 0.558059704971948}, 'bfo2': {'counterfactual_value': 1.1182825109084606, 'difference_due_to_intervention': 0.5573620466948308}}}\n",
      "ROOT CAUSE FOUND!\n",
      "bso1-->bso1 | bfo1 | bso2\n",
      "Model Accuracy Method 1: 50.0%\n",
      "--------------------------------------------------------------------------------------------------------------------------------\n",
      "Model: 66\n",
      "Anomaly: cso1\n",
      "Epoch 0, Loss: 0.0000\n",
      "Epoch 0: Average Loss = 2667.3680, Best Loss = 2667.3680\n",
      "Epoch 100: Average Loss = 51.1753, Best Loss = 51.1753\n",
      "Epoch 200: Average Loss = 26.4978, Best Loss = 26.4978\n",
      "Epoch 300: Average Loss = 20.7710, Best Loss = 20.7710\n",
      "Epoch 400: Average Loss = 18.8300, Best Loss = 18.7798\n",
      "Epoch 500: Average Loss = 18.1656, Best Loss = 17.9508\n",
      "Early stopping triggered after 506 epochs. Restoring best model.\n",
      "Evaluating model\n",
      "Beginning inference phase\n",
      "Causal engine executing\n",
      "🔍 Checking for cycles using Tarjan’s SCC Algorithm...\n",
      "✅ No cycles detected! Graph is now a DAG.\n"
     ]
    },
    {
     "name": "stderr",
     "output_type": "stream",
     "text": [
      "Fitting causal mechanism of node cso1: 100%|██████████| 17/17 [00:01<00:00, 15.38it/s]\n"
     ]
    },
    {
     "name": "stdout",
     "output_type": "stream",
     "text": [
      "Final Results: {'target_variable': 'cso1', 'top_causes': ['bfo1', 'bed2'], 'estimated_effects': {'bfo1': 0.03978416097498777, 'bed2': 0.006595653299859117}, 'observed_value': 0.500604455961995, 'counterfactual_results': {'bfo1': {'counterfactual_value': 1.0205849317591718, 'difference_due_to_intervention': 0.5199804757971768}, 'bed2': {'counterfactual_value': 1.0047533782417537, 'difference_due_to_intervention': 0.5041489222797587}}}\n",
      "bso2-->bfo1 | bed2 | bso3\n",
      "Model Accuracy Method 1: 49.25%\n",
      "--------------------------------------------------------------------------------------------------------------------------------\n",
      "Model: 67\n",
      "Anomaly: cfo1\n",
      "Epoch 0, Loss: 0.0001\n",
      "Epoch 0: Average Loss = 6151.5430, Best Loss = 6151.5430\n",
      "Epoch 100: Average Loss = 524.9841, Best Loss = 524.9841\n",
      "Epoch 200: Average Loss = 174.4589, Best Loss = 174.4589\n",
      "Epoch 300: Average Loss = 94.0132, Best Loss = 94.0132\n",
      "Epoch 400: Average Loss = 62.7061, Best Loss = 62.7061\n",
      "Epoch 500: Average Loss = 47.0876, Best Loss = 47.0876\n",
      "Epoch 600: Average Loss = 38.0092, Best Loss = 38.0092\n",
      "Epoch 700: Average Loss = 32.8413, Best Loss = 32.6923\n",
      "Epoch 800: Average Loss = 29.1390, Best Loss = 29.0765\n",
      "Epoch 900: Average Loss = 26.6771, Best Loss = 26.4211\n",
      "Epoch 1000: Average Loss = 24.8779, Best Loss = 24.5956\n",
      "Epoch 1100: Average Loss = 23.6683, Best Loss = 23.5496\n",
      "Epoch 1200: Average Loss = 22.7079, Best Loss = 22.5187\n",
      "Early stopping triggered after 1206 epochs. Restoring best model.\n",
      "Evaluating model\n",
      "Beginning inference phase\n",
      "Causal engine executing\n",
      "🔍 Checking for cycles using Tarjan’s SCC Algorithm...\n",
      "✅ No cycles detected! Graph is now a DAG.\n"
     ]
    },
    {
     "name": "stderr",
     "output_type": "stream",
     "text": [
      "Fitting causal mechanism of node cso1: 100%|██████████| 17/17 [00:00<00:00, 31.09it/s]\n"
     ]
    },
    {
     "name": "stdout",
     "output_type": "stream",
     "text": [
      "Final Results: {'target_variable': 'cfo1', 'top_causes': ['bso1', 'bed1'], 'estimated_effects': {'bso1': 0.002068427357394431, 'bed1': 0.0003341167529620215}, 'observed_value': 0.5621885269729059, 'counterfactual_results': {'bso1': {'counterfactual_value': 1.125535734343972, 'difference_due_to_intervention': 0.5633472073710661}, 'bed1': {'counterfactual_value': 1.123979186272513, 'difference_due_to_intervention': 0.5617906592996071}}}\n",
      "ROOT CAUSE FOUND!\n",
      "bso1-->bso1 | bed1 | bfo1\n",
      "Model Accuracy Method 1: 50.0%\n",
      "--------------------------------------------------------------------------------------------------------------------------------\n",
      "Model: 68\n",
      "Anomaly: cso1\n",
      "Epoch 0, Loss: 0.0001\n",
      "Epoch 0: Average Loss = 5266.9375, Best Loss = 5266.9375\n",
      "Epoch 100: Average Loss = 289.1720, Best Loss = 289.1720\n",
      "Epoch 200: Average Loss = 100.5017, Best Loss = 100.5017\n",
      "Epoch 300: Average Loss = 57.6950, Best Loss = 57.6950\n",
      "Epoch 400: Average Loss = 41.0599, Best Loss = 41.0599\n",
      "Epoch 500: Average Loss = 32.7955, Best Loss = 32.7955\n",
      "Epoch 600: Average Loss = 28.4331, Best Loss = 28.3025\n",
      "Epoch 700: Average Loss = 25.4281, Best Loss = 25.4281\n",
      "Early stopping triggered after 779 epochs. Restoring best model.\n",
      "Evaluating model\n",
      "Beginning inference phase\n",
      "Causal engine executing\n",
      "🔍 Checking for cycles using Tarjan’s SCC Algorithm...\n",
      "✅ No cycles detected! Graph is now a DAG.\n"
     ]
    },
    {
     "name": "stderr",
     "output_type": "stream",
     "text": [
      "Fitting causal mechanism of node cso1: 100%|██████████| 17/17 [00:00<00:00, 25.04it/s]\n"
     ]
    },
    {
     "name": "stdout",
     "output_type": "stream",
     "text": [
      "Final Results: {'target_variable': 'cso1', 'top_causes': ['bso1', 'bfo1', 'bed1', 'bso3', 'bfo2', 'bed2', 'bso2'], 'estimated_effects': {'bso1': 0.0062685666748739655, 'bfo1': 0.0019731559461368953, 'bed1': 0.001332476440031094, 'bso3': 0.0005629690704274104, 'bfo2': 4.993934863140037e-05, 'bed2': 1.9873928072122737e-06, 'bso2': -0.0007793989115135735}, 'observed_value': 0.5371147518071046, 'counterfactual_results': {'bso1': {'counterfactual_value': 1.0760475477752878, 'difference_due_to_intervention': 0.5389327959681832}, 'bfo1': {'counterfactual_value': 1.0755547495836897, 'difference_due_to_intervention': 0.5384399977765851}, 'bed1': {'counterfactual_value': 1.0740864335455589, 'difference_due_to_intervention': 0.5369716817384543}, 'bso3': {'counterfactual_value': 1.074472270789583, 'difference_due_to_intervention': 0.5373575189824785}, 'bfo2': {'counterfactual_value': 1.0740776525467597, 'difference_due_to_intervention': 0.5369629007396551}, 'bed2': {'counterfactual_value': 1.0743053956261612, 'difference_due_to_intervention': 0.5371906438190567}, 'bso2': {'counterfactual_value': 1.073570008828879, 'difference_due_to_intervention': 0.5364552570217745}}}\n",
      "bso2-->bso1 | bfo1 | bso3\n",
      "Model Accuracy Method 1: 49.28%\n",
      "--------------------------------------------------------------------------------------------------------------------------------\n",
      "Model: 69\n",
      "Anomaly: cso1\n",
      "Epoch 0, Loss: 0.0001\n",
      "Epoch 0: Average Loss = 2066.0017, Best Loss = 2066.0017\n",
      "Epoch 100: Average Loss = 44.6486, Best Loss = 34.9349\n",
      "Early stopping triggered after 190 epochs. Restoring best model.\n",
      "Evaluating model\n",
      "Beginning inference phase\n",
      "Causal engine executing\n",
      "🔍 Checking for cycles using Tarjan’s SCC Algorithm...\n",
      "✅ No cycles detected! Graph is now a DAG.\n"
     ]
    },
    {
     "name": "stderr",
     "output_type": "stream",
     "text": [
      "Fitting causal mechanism of node cso1: 100%|██████████| 17/17 [00:01<00:00,  9.60it/s]\n"
     ]
    },
    {
     "name": "stdout",
     "output_type": "stream",
     "text": [
      "Final Results: {'target_variable': 'cso1', 'top_causes': ['bfo2', 'bso3', 'bso1', 'bed2', 'bed1', 'bso2', 'bfo1'], 'estimated_effects': {'bfo2': 0.038946107970340704, 'bso3': 0.005297211700351134, 'bso1': 0.0005342558830511157, 'bed2': 7.867723233501156e-05, 'bed1': -0.0005154538934188935, 'bso2': -0.0018436287489242975, 'bfo1': -0.003642228051899954}, 'observed_value': 0.518213134986699, 'counterfactual_results': {'bfo2': {'counterfactual_value': 1.058636987666168, 'difference_due_to_intervention': 0.5404238526794691}, 'bso3': {'counterfactual_value': 1.038947444296135, 'difference_due_to_intervention': 0.5207343093094361}, 'bso1': {'counterfactual_value': 1.0365284860331871, 'difference_due_to_intervention': 0.5183153510464882}, 'bed2': {'counterfactual_value': 1.0364510742001751, 'difference_due_to_intervention': 0.5182379392134762}, 'bed1': {'counterfactual_value': 1.036143260158589, 'difference_due_to_intervention': 0.51793012517189}, 'bso2': {'counterfactual_value': 1.035988667109622, 'difference_due_to_intervention': 0.5177755321229229}, 'bfo1': {'counterfactual_value': 1.0349483456144677, 'difference_due_to_intervention': 0.5167352106277687}}}\n",
      "bso2-->bfo2 | bso3 | bso1\n",
      "Model Accuracy Method 1: 48.57%\n",
      "--------------------------------------------------------------------------------------------------------------------------------\n",
      "Model: 70\n",
      "Anomaly: cso1\n",
      "Epoch 0, Loss: 0.0001\n",
      "Epoch 0: Average Loss = 3944.9428, Best Loss = 3944.9428\n",
      "Epoch 100: Average Loss = 330.3580, Best Loss = 330.3580\n",
      "Epoch 200: Average Loss = 121.9693, Best Loss = 121.9693\n",
      "Epoch 300: Average Loss = 75.0266, Best Loss = 75.0266\n",
      "Epoch 400: Average Loss = 56.3824, Best Loss = 56.3768\n",
      "Early stopping triggered after 483 epochs. Restoring best model.\n",
      "Evaluating model\n",
      "Beginning inference phase\n",
      "Causal engine executing\n",
      "🔍 Checking for cycles using Tarjan’s SCC Algorithm...\n",
      "✅ No cycles detected! Graph is now a DAG.\n"
     ]
    },
    {
     "name": "stderr",
     "output_type": "stream",
     "text": [
      "Fitting causal mechanism of node cso1: 100%|██████████| 17/17 [00:00<00:00, 34.12it/s]\n"
     ]
    },
    {
     "name": "stdout",
     "output_type": "stream",
     "text": [
      "Final Results: {'target_variable': 'cso1', 'top_causes': ['bfo2', 'bso3', 'bed1', 'bso1', 'bfo1', 'bed2', 'bso2'], 'estimated_effects': {'bfo2': 0.009081826312234753, 'bso3': 0.0012365619592858978, 'bed1': 0.00025426629155012037, 'bso1': 0.00019330846960297077, 'bfo1': -0.00020226613065654764, 'bed2': -0.00021393254097712422, 'bso2': -0.004164475093575426}, 'observed_value': 0.514699298579455, 'counterfactual_results': {'bfo2': {'counterfactual_value': 1.035227350180558, 'difference_due_to_intervention': 0.520528051601103}, 'bso3': {'counterfactual_value': 1.0296217664226486, 'difference_due_to_intervention': 0.5149224678431936}, 'bed1': {'counterfactual_value': 1.029369968464339, 'difference_due_to_intervention': 0.514670669884884}, 'bso1': {'counterfactual_value': 1.0291227211904639, 'difference_due_to_intervention': 0.5144234226110089}, 'bfo1': {'counterfactual_value': 1.0292555301656536, 'difference_due_to_intervention': 0.5145562315861987}, 'bed2': {'counterfactual_value': 1.029202735169316, 'difference_due_to_intervention': 0.5145034365898611}, 'bso2': {'counterfactual_value': 1.025896849472841, 'difference_due_to_intervention': 0.5111975508933861}}}\n",
      "bso2-->bfo2 | bso3 | bed1\n",
      "Model Accuracy Method 1: 47.89%\n",
      "--------------------------------------------------------------------------------------------------------------------------------\n",
      "Model: 71\n",
      "Anomaly: ced1\n",
      "Epoch 0, Loss: 0.0001\n",
      "Epoch 0: Average Loss = 5911.2749, Best Loss = 5911.2749\n",
      "Epoch 100: Average Loss = 184.9426, Best Loss = 184.9426\n",
      "Epoch 200: Average Loss = 75.1923, Best Loss = 75.1923\n",
      "Epoch 300: Average Loss = 51.3516, Best Loss = 51.3516\n",
      "Epoch 400: Average Loss = 41.1595, Best Loss = 41.1595\n",
      "Epoch 500: Average Loss = 36.5839, Best Loss = 36.5839\n",
      "Epoch 600: Average Loss = 34.1009, Best Loss = 34.1009\n",
      "Epoch 700: Average Loss = 32.6812, Best Loss = 32.6812\n",
      "Epoch 800: Average Loss = 31.7827, Best Loss = 31.7827\n",
      "Early stopping triggered after 857 epochs. Restoring best model.\n",
      "Evaluating model\n",
      "Beginning inference phase\n",
      "Causal engine executing\n",
      "🔍 Checking for cycles using Tarjan’s SCC Algorithm...\n",
      "✅ No cycles detected! Graph is now a DAG.\n"
     ]
    },
    {
     "name": "stderr",
     "output_type": "stream",
     "text": [
      "Fitting causal mechanism of node cso1: 100%|██████████| 17/17 [00:01<00:00, 16.70it/s]\n"
     ]
    },
    {
     "name": "stdout",
     "output_type": "stream",
     "text": [
      "Final Results: {'target_variable': 'ced1', 'top_causes': ['bfo2', 'bfo1', 'bed1', 'bso3', 'bso1', 'bed2', 'bso2'], 'estimated_effects': {'bfo2': 0.005390369677647167, 'bfo1': 0.0041394451009934274, 'bed1': 0.002534894640249946, 'bso3': 0.0002808124027993686, 'bso1': 0.0001634830412444721, 'bed2': -0.00021808207948512126, 'bso2': -0.0007442393644233325}, 'observed_value': 0.1651464607451275, 'counterfactual_results': {'bfo2': {'counterfactual_value': 0.3305419546531104, 'difference_due_to_intervention': 0.16539549390798292}, 'bfo1': {'counterfactual_value': 0.33395109212209717, 'difference_due_to_intervention': 0.16880463137696966}, 'bed1': {'counterfactual_value': 0.3310542675327177, 'difference_due_to_intervention': 0.1659078067875902}, 'bso3': {'counterfactual_value': 0.33022111325215947, 'difference_due_to_intervention': 0.16507465250703196}, 'bso1': {'counterfactual_value': 0.3309630125320347, 'difference_due_to_intervention': 0.16581655178690718}, 'bed2': {'counterfactual_value': 0.3300317113883909, 'difference_due_to_intervention': 0.16488525064326337}, 'bso2': {'counterfactual_value': 0.3300965197657276, 'difference_due_to_intervention': 0.16495005902060011}}}\n",
      "bed2-->bfo1 | bed1 | bso1\n",
      "Model Accuracy Method 1: 47.22%\n",
      "--------------------------------------------------------------------------------------------------------------------------------\n",
      "Model: 72\n",
      "Anomaly: cso1\n",
      "Epoch 0, Loss: 0.0001\n",
      "Epoch 0: Average Loss = 1318.1315, Best Loss = 1318.1315\n",
      "Epoch 100: Average Loss = 32.2372, Best Loss = 31.9352\n",
      "Early stopping triggered after 134 epochs. Restoring best model.\n",
      "Evaluating model\n",
      "Beginning inference phase\n",
      "Causal engine executing\n",
      "🔍 Checking for cycles using Tarjan’s SCC Algorithm...\n",
      "✅ No cycles detected! Graph is now a DAG.\n"
     ]
    },
    {
     "name": "stderr",
     "output_type": "stream",
     "text": [
      "Fitting causal mechanism of node cso1: 100%|██████████| 17/17 [00:01<00:00,  8.77it/s]\n"
     ]
    },
    {
     "name": "stdout",
     "output_type": "stream",
     "text": [
      "Final Results: {'target_variable': 'cso1', 'top_causes': ['bfo2', 'bso3', 'bso1', 'bed1', 'bed2', 'bfo1', 'bso2'], 'estimated_effects': {'bfo2': 0.04813054214751339, 'bso3': 0.00456228540365905, 'bso1': 0.0027539329985813987, 'bed1': 0.0004038688954040581, 'bed2': 6.39130730653581e-05, 'bfo1': -0.0017789435097880224, 'bso2': -0.0029015180498148663}, 'observed_value': 0.4751175059152993, 'counterfactual_results': {'bfo2': {'counterfactual_value': 0.9733070908679997, 'difference_due_to_intervention': 0.49818958495270044}, 'bso3': {'counterfactual_value': 0.9513389832148079, 'difference_due_to_intervention': 0.47622147729950864}, 'bso1': {'counterfactual_value': 0.9512490390481416, 'difference_due_to_intervention': 0.47613153313284234}, 'bed1': {'counterfactual_value': 0.9507403279240112, 'difference_due_to_intervention': 0.4756228220087119}, 'bed2': {'counterfactual_value': 0.9501001488427359, 'difference_due_to_intervention': 0.4749826429274366}, 'bfo1': {'counterfactual_value': 0.9497829991111749, 'difference_due_to_intervention': 0.47466549319587564}, 'bso2': {'counterfactual_value': 0.9489046435807492, 'difference_due_to_intervention': 0.47378713766544994}}}\n",
      "bso2-->bfo2 | bso3 | bso1\n",
      "Model Accuracy Method 1: 46.58%\n",
      "--------------------------------------------------------------------------------------------------------------------------------\n",
      "Model: 73\n",
      "Anomaly: cfo1\n",
      "Epoch 0, Loss: 0.0000\n",
      "Epoch 0: Average Loss = 5393.5840, Best Loss = 5393.5840\n",
      "Epoch 100: Average Loss = 297.1591, Best Loss = 297.1591\n",
      "Epoch 200: Average Loss = 103.8790, Best Loss = 103.8790\n",
      "Epoch 300: Average Loss = 60.2796, Best Loss = 60.2796\n",
      "Epoch 400: Average Loss = 43.3660, Best Loss = 43.1862\n",
      "Epoch 500: Average Loss = 34.6135, Best Loss = 34.6135\n",
      "Epoch 600: Average Loss = 29.9479, Best Loss = 29.9479\n",
      "Epoch 700: Average Loss = 26.9447, Best Loss = 26.9058\n",
      "Epoch 800: Average Loss = 25.2668, Best Loss = 25.1318\n",
      "Early stopping triggered after 897 epochs. Restoring best model.\n",
      "Evaluating model\n",
      "Beginning inference phase\n",
      "Causal engine executing\n",
      "🔍 Checking for cycles using Tarjan’s SCC Algorithm...\n",
      "✅ No cycles detected! Graph is now a DAG.\n"
     ]
    },
    {
     "name": "stderr",
     "output_type": "stream",
     "text": [
      "Fitting causal mechanism of node cso1: 100%|██████████| 17/17 [00:00<00:00, 35.25it/s]\n"
     ]
    },
    {
     "name": "stdout",
     "output_type": "stream",
     "text": [
      "Final Results: {'target_variable': 'cfo1', 'top_causes': ['bed1'], 'estimated_effects': {'bed1': -5.178467215252812}, 'observed_value': 0.5619917985908419, 'counterfactual_results': {'bed1': {'counterfactual_value': -6.969813437568655, 'difference_due_to_intervention': -7.531805236159498}}}\n",
      "ROOT CAUSE FOUND!\n",
      "bfo1-->bed1 | bfo1 | bso3\n",
      "Model Accuracy Method 1: 47.3%\n",
      "--------------------------------------------------------------------------------------------------------------------------------\n",
      "Model: 74\n",
      "Anomaly: cso1\n",
      "Epoch 0, Loss: 0.0001\n",
      "Epoch 0: Average Loss = 8071.4156, Best Loss = 8071.4156\n",
      "Epoch 100: Average Loss = 139.3536, Best Loss = 139.3536\n",
      "Epoch 200: Average Loss = 60.3430, Best Loss = 60.3430\n",
      "Epoch 300: Average Loss = 43.0479, Best Loss = 43.0479\n",
      "Epoch 400: Average Loss = 36.6861, Best Loss = 36.6861\n",
      "Early stopping triggered after 454 epochs. Restoring best model.\n",
      "Evaluating model\n",
      "Beginning inference phase\n",
      "Causal engine executing\n",
      "🔍 Checking for cycles using Tarjan’s SCC Algorithm...\n",
      "✅ No cycles detected! Graph is now a DAG.\n"
     ]
    },
    {
     "name": "stderr",
     "output_type": "stream",
     "text": [
      "Fitting causal mechanism of node cso1: 100%|██████████| 17/17 [00:00<00:00, 20.17it/s]\n"
     ]
    },
    {
     "name": "stdout",
     "output_type": "stream",
     "text": [
      "Final Results: {'target_variable': 'cso1', 'top_causes': ['bfo2', 'bso3', 'bso1', 'bfo1', 'bso2', 'bed2', 'bed1'], 'estimated_effects': {'bfo2': 0.023704195124923055, 'bso3': 0.0011691804990668908, 'bso1': 0.0010775624877111256, 'bfo1': 0.0010539884392418153, 'bso2': -0.0005009036494967312, 'bed2': -0.0012421079688959002, 'bed1': -0.006345586572310935}, 'observed_value': 0.4857333373082345, 'counterfactual_results': {'bfo2': {'counterfactual_value': 0.9795808054475129, 'difference_due_to_intervention': 0.49384746813927843}, 'bso3': {'counterfactual_value': 0.9721961143195803, 'difference_due_to_intervention': 0.4864627770113458}, 'bso1': {'counterfactual_value': 0.9710148789126963, 'difference_due_to_intervention': 0.48528154160446185}, 'bfo1': {'counterfactual_value': 0.9724842266589082, 'difference_due_to_intervention': 0.48675088935067373}, 'bso2': {'counterfactual_value': 0.9707537615287782, 'difference_due_to_intervention': 0.48502042422054376}, 'bed2': {'counterfactual_value': 0.9706080092239472, 'difference_due_to_intervention': 0.4848746719157127}, 'bed1': {'counterfactual_value': 0.9704771712144568, 'difference_due_to_intervention': 0.4847438339062223}}}\n",
      "bso2-->bfo2 | bfo1 | bso3\n",
      "Model Accuracy Method 1: 46.67%\n",
      "--------------------------------------------------------------------------------------------------------------------------------\n",
      "Model: 75\n",
      "Anomaly: cfo1\n",
      "Epoch 0, Loss: 0.0001\n",
      "Epoch 0: Average Loss = 9420.8309, Best Loss = 9420.8309\n",
      "Epoch 100: Average Loss = 768.6368, Best Loss = 768.6368\n",
      "Epoch 200: Average Loss = 248.6504, Best Loss = 248.6504\n",
      "Epoch 300: Average Loss = 129.9640, Best Loss = 129.9640\n",
      "Epoch 400: Average Loss = 83.3427, Best Loss = 83.3427\n",
      "Epoch 500: Average Loss = 59.9835, Best Loss = 59.9835\n",
      "Epoch 600: Average Loss = 46.7293, Best Loss = 46.7293\n",
      "Epoch 700: Average Loss = 38.5014, Best Loss = 38.5014\n",
      "Epoch 800: Average Loss = 33.2205, Best Loss = 33.1497\n",
      "Epoch 900: Average Loss = 29.4403, Best Loss = 29.4403\n",
      "Epoch 1000: Average Loss = 26.7521, Best Loss = 26.5449\n",
      "Epoch 1100: Average Loss = 24.7916, Best Loss = 24.7916\n",
      "Early stopping triggered after 1180 epochs. Restoring best model.\n",
      "Evaluating model\n",
      "Beginning inference phase\n",
      "Causal engine executing\n",
      "🔍 Checking for cycles using Tarjan’s SCC Algorithm...\n",
      "✅ No cycles detected! Graph is now a DAG.\n"
     ]
    },
    {
     "name": "stderr",
     "output_type": "stream",
     "text": [
      "Fitting causal mechanism of node cso1: 100%|██████████| 17/17 [00:00<00:00, 26.46it/s]\n"
     ]
    },
    {
     "name": "stdout",
     "output_type": "stream",
     "text": [
      "Final Results: {'target_variable': 'cfo1', 'top_causes': ['bed2', 'bso3', 'bso2', 'bso1', 'bed1', 'bfo2', 'bfo1'], 'estimated_effects': {'bed2': 0.0007179792119375028, 'bso3': 0.0006693140132579822, 'bso2': 6.17578754554815e-05, 'bso1': -0.000715219034444381, 'bed1': -0.0011814804237231247, 'bfo2': -0.012750917874762457, 'bfo1': -0.03561261914768277}, 'observed_value': 0.5492647997424204, 'counterfactual_results': {'bed2': {'counterfactual_value': 1.0987822825178188, 'difference_due_to_intervention': 0.5495174827753985}, 'bso3': {'counterfactual_value': 1.0994580315113676, 'difference_due_to_intervention': 0.5501932317689472}, 'bso2': {'counterfactual_value': 1.0986882424123687, 'difference_due_to_intervention': 0.5494234426699484}, 'bso1': {'counterfactual_value': 1.0988887041599917, 'difference_due_to_intervention': 0.5496239044175714}, 'bed1': {'counterfactual_value': 1.0972722440492237, 'difference_due_to_intervention': 0.5480074443068034}, 'bfo2': {'counterfactual_value': 1.0898380877100364, 'difference_due_to_intervention': 0.5405732879676161}, 'bfo1': {'counterfactual_value': 1.06854809544461, 'difference_due_to_intervention': 0.5192832957021897}}}\n",
      "ROOT CAUSE FOUND!\n",
      "bso3-->bso3 | bso1 | bed2\n",
      "Model Accuracy Method 1: 47.37%\n",
      "--------------------------------------------------------------------------------------------------------------------------------\n",
      "Model: 76\n",
      "Anomaly: cfo1\n",
      "Epoch 0, Loss: 0.0001\n",
      "Epoch 0: Average Loss = 2903.6959, Best Loss = 2903.6959\n",
      "Epoch 100: Average Loss = 44.5117, Best Loss = 44.5117\n"
     ]
    }
   ],
   "source": [
    "from utils.utils import set_seed\n",
    "set_seed()\n",
    "n_correct = 0\n",
    "method2_correct=0\n",
    "total_checked = 0\n",
    "for i, row in enumerate(cats_rows_list):\n",
    "    total_checked +=1 \n",
    "    print('Model: '+ str(i))\n",
    "    anomaly = eval(row['affected'])[0]\n",
    "    print('Anomaly: ' + anomaly)\n",
    "    anomaly_time = datetime.strptime(row['start_time'],\"%Y-%m-%d %H:%M:%S\")\n",
    "    #start_time = datetime.strptime(row['start_time'],\"%Y-%m-%d %H:%M:%S\")\n",
    "    end_time = datetime.strptime(row['end_time'],\"%Y-%m-%d %H:%M:%S\")\n",
    "    root_cause = row['root_cause']\n",
    "    mod_df = test_df[(test_df.index>= anomaly_time) & (test_df.index<= end_time)]\n",
    "    mod_df = mod_df[['aimp', 'amud', 'arnd', 'asin1', 'asin2', 'adbr', 'adfl', 'bed1',\n",
    "       'bed2', 'bfo1', 'bfo2', 'bso1', 'bso2', 'bso3', 'ced1', 'cfo1', 'cso1']]\n",
    "    num_nodes = len(mod_df.columns)\n",
    "\n",
    "    start_len = mod_df.shape[0]\n",
    "    if start_len >1000:\n",
    "        start_len = 1000\n",
    "\n",
    "    start_time = anomaly_time- timedelta(seconds=start_len)\n",
    "\n",
    "    normal_df = test_df[(test_df.index>= start_time) & (test_df.index< anomaly_time)]\n",
    "\n",
    "    sample_data = TKGNGCDataProcessor(mod_df,device,num_timestamps=20, lags=1)\n",
    "    model_data = create_granger_gat_data(pretrained_tkg,sample_data)\n",
    "    model_data.retrain_tkg()\n",
    "    features = model_data.time_series_data\n",
    "    model_name = 'model_category_'+str(row['category'])\n",
    "    \"\"\"model = CausalGraphVAE(input_dim=num_nodes, hidden_dim=128,\n",
    "                   latent_dim=16, \n",
    "                   num_nodes=num_nodes, \n",
    "                   embed_dim=17,\n",
    "                   prior_adj_matrix=A0.to(torch.float))\"\"\"\n",
    "    model = CausalGraphVAE(input_dim=num_nodes, hidden_dim=128,\n",
    "                   latent_dim=16, \n",
    "                   num_nodes=num_nodes, \n",
    "                   embed_dim=17,\n",
    "                   prior_adj_matrix=A0.to(torch.float))\n",
    "    optimizer = torch.optim.Adam(model.parameters(), lr=0.01)\n",
    "    data = create_lagged_features(features, 3, pad_value=0)\n",
    "    ee = create_lagged_features(model_data.entity_emb, 3, pad_value=0)\n",
    "    tt = create_lagged_features(model_data.timestamp_emb, 3, pad_value=0)\n",
    "        \n",
    "    dataset = TimeSeriesDataset(data, ee, tt)\n",
    "    dataloader = DataLoader(dataset,batch_size = BATCH_SIZE, shuffle=False)\n",
    "    loss = train_causal_vae(model, optimizer, dataloader, A0, num_epochs=2000)\n",
    "    print('Evaluating model')\n",
    "    model.eval()\n",
    "    non_causal_mask = torch.tensor(A0 != 0, dtype=torch.float64, device=device)\n",
    "    \n",
    "    with torch.no_grad():\n",
    "        _, _, _, W, A = model(data, ee, tt, num_nodes=num_nodes)\n",
    "        learned_adj_matrix = W + A  # Combine intra- and inter-slice relationships\n",
    "    \n",
    "        # Ensure non-causal edges are explicitly zeroed out\n",
    "        non_causal_mask = torch.tensor(A0 != 0, dtype=torch.float64, device=device)\n",
    "        learned_adj_matrix = learned_adj_matrix * non_causal_mask  # Apply mask\n",
    "    \n",
    "        # Apply a threshold to remove weak edges\n",
    "        threshold = torch.mean(learned_adj_matrix).item()\n",
    "        final_W = (learned_adj_matrix.abs() > threshold).float() * learned_adj_matrix\n",
    "    \n",
    "        # Clip values to ensure they remain in [0, 1]\n",
    "        causal_graph = torch.clamp(final_W, 0, 1).cpu().numpy()  # 🚀 Fixes >1 values\n",
    "    \n",
    "    print('Beginning inference phase')\n",
    "    adj_data = pd.DataFrame(causal_graph,index=cols,columns=cols)\n",
    "    candidates = adj_data[anomaly].sort_values(ascending=False)\n",
    "    candidates = candidates[candidates.index.isin( potential_causes)]\n",
    "\n",
    "    ex_cols = [x for x in non_causal_columns if x != anomaly]\n",
    "    #A0 = learned_adj_matrix\n",
    "    #try:\n",
    "    print('Causal engine executing')    \n",
    "    \n",
    "    ci = CausalInference(causal_graph, mod_df, normal_df,excluded_nodes=ex_cols)\n",
    "    cp = CausalPipeline(ci)\n",
    "    results = cp.run_pipeline(anomaly)\n",
    "\n",
    "\n",
    "    \n",
    "    if results is not None:\n",
    "        sorted_counterfactuals_list = sorted(\n",
    "            [(key, value['difference_due_to_intervention'])\n",
    "             for key, value in results['counterfactual_results'].items()],\n",
    "            key=lambda x: x[1],  # Sort by difference_due_to_intervention\n",
    "            reverse=True  # Descending order\n",
    "        )\n",
    "        # Select the top 3 counterfactuals as a list of tuples\n",
    "        top_3_counterfactuals_list = sorted_counterfactuals_list[:3]\n",
    "        print(\"Final Results:\", results)\n",
    "        if len(top_3_counterfactuals_list) >= 3:\n",
    "            potential_cause1 = top_3_counterfactuals_list[0][0]\n",
    "            potential_cause2 = top_3_counterfactuals_list[1][0]\n",
    "            potential_cause3 = top_3_counterfactuals_list[2][0]\n",
    "    \n",
    "        elif len(top_3_counterfactuals_list) == 2:\n",
    "            potential_cause1 = top_3_counterfactuals_list[0][0]\n",
    "            potential_cause2 = top_3_counterfactuals_list[1][0]\n",
    "            for cand in candidates.index:\n",
    "                if cand not in [potential_cause1,potential_cause2]:\n",
    "                    potential_cause3 = cand\n",
    "                    break\n",
    "        elif len(top_3_counterfactuals_list) == 1:\n",
    "            potential_cause1 = top_3_counterfactuals_list[0][0]\n",
    "            for cand in candidates.index:\n",
    "                if cand not in [potential_cause1]:\n",
    "                    potential_cause2 = cand\n",
    "                    break\n",
    "            for cand in candidates.index:\n",
    "                if cand not in [potential_cause1,potential_cause2]:\n",
    "                    potential_cause3 = cand\n",
    "                    break\n",
    "        else:\n",
    "            potential_cause1 = candidates.index[0]\n",
    "            potential_cause2 = candidates.index[1]\n",
    "            potential_cause3 = candidates.index[2]\n",
    "    else:\n",
    "        potential_cause1 = candidates.index[0]\n",
    "        potential_cause2 = candidates.index[1]\n",
    "        potential_cause3 = candidates.index[2]\n",
    "\n",
    "   \n",
    "    if root_cause in [potential_cause1,potential_cause2,potential_cause3]:\n",
    "        n_correct+=1\n",
    "\n",
    "    if root_cause == potential_cause1:\n",
    "        row['cause_1'] = 1\n",
    "    if root_cause == potential_cause2:\n",
    "        row['cause_2'] = 1\n",
    "    if root_cause == potential_cause3:\n",
    "        row['cause_3'] = 1\n",
    "    new_metadata.append(row)\n",
    "    if root_cause in [potential_cause1 , potential_cause2 , potential_cause3]:\n",
    "        print('ROOT CAUSE FOUND!')\n",
    "    print(root_cause + '-->' + potential_cause1 + ' | ' + potential_cause2 + ' | ' + potential_cause3)\n",
    "\n",
    "    print(\"Model Accuracy Method 1: \" + str(round( (n_correct/total_checked)*100,2)) + '%' )\n",
    "    \n",
    "    print('--------------------------------------------------------------------------------------------------------------------------------')\n",
    "\n",
    "\n"
   ]
  },
  {
   "cell_type": "code",
   "execution_count": 24,
   "id": "ef558238-48f2-420f-b781-f3943fa28a4c",
   "metadata": {},
   "outputs": [],
   "source": [
    "if len(top_3_counterfactuals_list) >= 3:\n",
    "    potential_cause1 = top_3_counterfactuals_list[0][0]\n",
    "    potential_cause2 = top_3_counterfactuals_list[1][0]\n",
    "    potential_cause3 = top_3_counterfactuals_list[2][0]\n",
    "\n",
    "elif len(top_3_counterfactuals_list) == 2:\n",
    "    potential_cause1 = top_3_counterfactuals_list[0][0]\n",
    "    potential_cause2 = top_3_counterfactuals_list[1][0]\n",
    "    for cand in candidates.index:\n",
    "        if cand not in [potential_cause1,potential_cause2]:\n",
    "            potential_cause3 = cand\n",
    "            break\n",
    "elif len(top_3_counterfactuals_list) == 1:\n",
    "    potential_cause1 = top_3_counterfactuals_list[0][0]\n",
    "    for cand in candidates.index:\n",
    "        if cand not in [potential_cause1]:\n",
    "            potential_cause2 = cand\n",
    "            break\n",
    "    for cand in candidates.index:\n",
    "        if cand not in [potential_cause1,potential_cause2]:\n",
    "            potential_cause3 = cand\n",
    "            break\n",
    "else:\n",
    "    potential_cause1 = candidates.index[0]\n",
    "    potential_cause2 = candidates.index[1]\n",
    "    potential_cause3 = candidates.index[2]"
   ]
  },
  {
   "cell_type": "code",
   "execution_count": 25,
   "id": "983f1ec3-fd98-48b3-a83b-e4d9d3bb9eb0",
   "metadata": {},
   "outputs": [
    {
     "data": {
      "text/plain": [
       "'bso3'"
      ]
     },
     "execution_count": 25,
     "metadata": {},
     "output_type": "execute_result"
    }
   ],
   "source": [
    "potential_cause1"
   ]
  },
  {
   "cell_type": "code",
   "execution_count": 26,
   "id": "459adb25-ab72-4f73-8e9d-ea645feeec1e",
   "metadata": {},
   "outputs": [
    {
     "data": {
      "text/plain": [
       "[('bso3', 0.4749234307169274),\n",
       " ('bso2', 0.4746812141534604),\n",
       " ('bed2', 0.4743509165666521)]"
      ]
     },
     "execution_count": 26,
     "metadata": {},
     "output_type": "execute_result"
    }
   ],
   "source": [
    "top_3_counterfactuals_list"
   ]
  },
  {
   "cell_type": "code",
   "execution_count": 32,
   "id": "0d8b7e9b-4a54-4bd3-99b9-e6e90e8b5dc4",
   "metadata": {},
   "outputs": [],
   "source": [
    "if results is not None:\n",
    "    top_causes = sorted(results['estimated_effects'].items(), key=lambda item: np.abs(item[1]), reverse=True)\n",
    "    print(\"Final Results:\", results)\n",
    "    if len(top_causes) >= 3:\n",
    "        potential_cause1 = top_causes[0][0]\n",
    "        potential_cause2 = top_causes[1][0]\n",
    "        potential_cause3 = top_causes[2][0]\n",
    "\n",
    "    elif len(top_causes) == 2:\n",
    "        potential_cause1 = top_causes[0][0]\n",
    "        potential_cause2 = top_causes[1][0]\n",
    "        for cand in candidates.index:\n",
    "            if cand not in [potential_cause1,potential_cause2]:\n",
    "                potential_cause3 = cand\n",
    "                break\n",
    "    elif len(top_causes) == 1:\n",
    "        potential_cause1 = top_causes[0][0]\n",
    "        for cand in candidates.index:\n",
    "            if cand not in [potential_cause1]:\n",
    "                potential_cause2 = cand\n",
    "                break\n",
    "        for cand in candidates.index:\n",
    "            if cand not in [potential_cause1,potential_cause2]:\n",
    "                potential_cause3 = cand\n",
    "                break\n",
    "    else:\n",
    "        potential_cause1 = candidates.index[0]\n",
    "        potential_cause2 = candidates.index[1]\n",
    "        potential_cause3 = candidates.index[2]\n",
    "else:\n",
    "    potential_cause1 = candidates.index[0]\n",
    "    potential_cause2 = candidates.index[1]\n",
    "    potential_cause3 = candidates.index[2]"
   ]
  },
  {
   "cell_type": "code",
   "execution_count": 33,
   "id": "f2f24725-a1e6-4809-9c71-d6ba9767b93b",
   "metadata": {},
   "outputs": [
    {
     "data": {
      "text/plain": [
       "'bfo1'"
      ]
     },
     "execution_count": 33,
     "metadata": {},
     "output_type": "execute_result"
    }
   ],
   "source": [
    "potential_cause1"
   ]
  },
  {
   "cell_type": "code",
   "execution_count": 34,
   "id": "d808f137-99c9-4753-a490-292053fabd2c",
   "metadata": {},
   "outputs": [
    {
     "data": {
      "text/plain": [
       "'bso3'"
      ]
     },
     "execution_count": 34,
     "metadata": {},
     "output_type": "execute_result"
    }
   ],
   "source": [
    "sorted_counterfactuals_list = sorted(\n",
    "    [(key, value['difference_due_to_intervention'])\n",
    "     for key, value in results['counterfactual_results'].items()],\n",
    "    key=lambda x: x[1],  # Sort by difference_due_to_intervention\n",
    "    reverse=True  # Descending order\n",
    ")\n",
    "\n",
    "# Select the top 3 counterfactuals as a list of tuples\n",
    "top_3_counterfactuals_list = sorted_counterfactuals_list[:3]"
   ]
  },
  {
   "cell_type": "code",
   "execution_count": 35,
   "id": "b8c7db97-8258-48e2-a664-0dcc7bd7f166",
   "metadata": {},
   "outputs": [
    {
     "data": {
      "text/plain": [
       "'bso2'"
      ]
     },
     "execution_count": 35,
     "metadata": {},
     "output_type": "execute_result"
    }
   ],
   "source": [
    "potential_cause3"
   ]
  },
  {
   "cell_type": "code",
   "execution_count": 36,
   "id": "6e40db0c-0f78-4293-8791-f19f8557981f",
   "metadata": {},
   "outputs": [
    {
     "data": {
      "text/plain": [
       "'bfo1'"
      ]
     },
     "execution_count": 36,
     "metadata": {},
     "output_type": "execute_result"
    }
   ],
   "source": [
    "root_cause"
   ]
  },
  {
   "cell_type": "code",
   "execution_count": 62,
   "id": "00afa34d-55a3-41d9-8a65-d4de7adc92eb",
   "metadata": {},
   "outputs": [],
   "source": [
    "for cand in candidates.index:\n",
    "    if cand not in [potential_cause1,potential_cause2]:\n",
    "        potential_cause3 = cand\n",
    "        break"
   ]
  },
  {
   "cell_type": "code",
   "execution_count": 63,
   "id": "7dd093a0-6569-4a63-9b74-c204778de2c0",
   "metadata": {},
   "outputs": [
    {
     "data": {
      "text/plain": [
       "'bfo1'"
      ]
     },
     "execution_count": 63,
     "metadata": {},
     "output_type": "execute_result"
    }
   ],
   "source": [
    "cand"
   ]
  },
  {
   "cell_type": "code",
   "execution_count": 24,
   "id": "1dce7e55-ab3b-4e9a-a4bb-c0f6611b9e65",
   "metadata": {},
   "outputs": [],
   "source": [
    "from dowhy import gcm\n",
    "import networkx as nx\n",
    "import numpy as np\n",
    "import pandas as pd\n",
    "\n",
    "class CausalInference:\n",
    "    def __init__(self, adj_matrix, new_data, old_data, excluded_nodes=None):\n",
    "        self.adj_matrix = adj_matrix\n",
    "        np.fill_diagonal(self.adj_matrix, 0)\n",
    "        self.new_data = new_data\n",
    "        self.old_data = old_data\n",
    "        self.cols = list(new_data.columns)\n",
    "        self.excluded_nodes = set(excluded_nodes) if excluded_nodes else set()\n",
    "\n",
    "        # Build initial graph\n",
    "        self.causal_graph = nx.DiGraph(self.adj_matrix)\n",
    "        self.remove_excluded_nodes()\n",
    "        self.ensure_dag()\n",
    "        self.build_causal_model()\n",
    "\n",
    "    def remove_excluded_nodes(self):\n",
    "        \"\"\"Remove explicitly excluded nodes from the causal graph.\"\"\"\n",
    "        for node in list(self.causal_graph.nodes):\n",
    "            if node in self.excluded_nodes:\n",
    "                self.causal_graph.remove_node(node)\n",
    "\n",
    "    def ensure_dag(self):\n",
    "        \"\"\"\n",
    "        Fully removes all cycles using Tarjan's SCC Algorithm.\n",
    "        It continues removing edges until no cycles remain.\n",
    "        \"\"\"\n",
    "        print(\"🔍 Checking for cycles using Tarjan’s SCC Algorithm...\")\n",
    "\n",
    "        while True:\n",
    "            sccs = list(nx.strongly_connected_components(self.causal_graph))\n",
    "            cycles = [scc for scc in sccs if len(scc) > 1]  # Only keep actual cycles\n",
    "\n",
    "            if not cycles:\n",
    "                print(\"✅ No cycles detected! Graph is now a DAG.\")\n",
    "                return\n",
    "\n",
    "            #print(f\"⚠️ Cycles detected: {cycles}. Removing edges...\")\n",
    "\n",
    "            for cycle in cycles:\n",
    "                cycle_edges = [(a, b) for a in cycle for b in self.causal_graph.neighbors(a) if b in cycle]\n",
    "\n",
    "                # Remove the edge that has the highest out-degree (most influential)\n",
    "                edge_to_remove = max(cycle_edges, key=lambda e: self.causal_graph.out_degree(e[0]))\n",
    "                self.causal_graph.remove_edge(*edge_to_remove)\n",
    "\n",
    "                #print(f\"🛑 Removed edge {edge_to_remove} to break cycle.\")\n",
    "\n",
    "    def build_causal_model(self):\n",
    "        \"\"\"Constructs the probabilistic causal model using DoWhy.\"\"\"\n",
    "        mapping = {i: col for i, col in enumerate(self.cols)}\n",
    "        self.causal_graph = nx.relabel_nodes(self.causal_graph, mapping)\n",
    "        self.causal_model_prob = gcm.ProbabilisticCausalModel(self.causal_graph)\n",
    "        gcm.auto.assign_causal_mechanisms(self.causal_model_prob, self.new_data, override_models=True)\n",
    "        gcm.fit(self.causal_model_prob, self.new_data)\n",
    "\n",
    "    def infer_causal_effect(self, cause, effect):\n",
    "        \"\"\"Handles standard causal effect inference.\"\"\"\n",
    "        return gcm.average_causal_effect(\n",
    "            self.causal_model_prob, effect,\n",
    "            interventions_alternative={cause: lambda x: 1},\n",
    "            interventions_reference={cause: lambda x: 0},\n",
    "            observed_data=self.new_data\n",
    "        )\n",
    "\n",
    "    def infer_counterfactual(self, interventions, num_runs=10):\n",
    "        \"\"\"\n",
    "        Generates counterfactual samples for given interventions.\n",
    "        \n",
    "        - **Key Fix:** Resets noise data before each run to prevent identical counterfactuals.\n",
    "        \"\"\"\n",
    "        intervention_dict = {var: (lambda x: value) for var, value in interventions.items()}\n",
    "        \n",
    "        # Run counterfactual simulations multiple times\n",
    "        all_results = []\n",
    "        for _ in range(num_runs):\n",
    "            # Deep copy noise data to introduce variability\n",
    "            noise_data_sampled = self.new_data.sample(frac=1, replace=True).reset_index(drop=True)\n",
    "\n",
    "            cf_result = gcm.counterfactual_samples(\n",
    "                self.causal_model_prob,\n",
    "                intervention_dict,\n",
    "                noise_data=noise_data_sampled\n",
    "            )\n",
    "            all_results.append(cf_result)\n",
    "\n",
    "        # Average the results across multiple runs\n",
    "        avg_results = pd.concat(all_results).groupby(level=0).mean()\n",
    "        return avg_results\n",
    "\n",
    "\n",
    "    def rank_causal_factors(self, target):\n",
    "        \"\"\"Ranks the top causal factors influencing the target variable.\"\"\"\n",
    "        causal_effects = {\n",
    "            cause: self.infer_causal_effect(cause, target)\n",
    "            for cause in self.causal_graph.predecessors(target)\n",
    "            if cause not in self.excluded_nodes\n",
    "        }\n",
    "        return sorted(causal_effects.items(), key=lambda item: item[1], reverse=True)\n",
    "\n",
    "    def draw_causal_dag(self):\n",
    "        \"\"\"Visualizes the causal DAG.\"\"\"\n",
    "        nx.draw(self.causal_graph, with_labels=True, node_size=800, node_color=\"skyblue\",\n",
    "                font_size=10, font_weight=\"bold\", arrowsize=20)\n",
    "\n",
    "class CausalPipeline:\n",
    "    def __init__(self, causal_inference):\n",
    "        self.causal_inference = causal_inference\n",
    "\n",
    "    def run_pipeline(self, target_variable, num_runs=10):\n",
    "        \"\"\"\n",
    "        Runs separate counterfactual analyses for each top causal factor.\n",
    "        \"\"\"\n",
    "        # 1️⃣ Rank the most important causal factors\n",
    "        ranked_causes = self.causal_inference.rank_causal_factors(target_variable)\n",
    "\n",
    "        if not ranked_causes:\n",
    "            print(f\"⚠️ No causal factors found for {target_variable}. Exiting pipeline.\")\n",
    "            return None\n",
    "\n",
    "        # Take the top 3 causes (or fewer if not available)\n",
    "        top_causes = ranked_causes[:3]\n",
    "\n",
    "        # 2️⃣ Estimate the direct causal effects for the top causes\n",
    "        estimated_effects = {\n",
    "            cause: self.causal_inference.infer_causal_effect(cause, target_variable)\n",
    "            for cause, _ in top_causes\n",
    "        }\n",
    "\n",
    "        # Filter out None values (due to instantaneous effects)\n",
    "        estimated_effects = {k: v for k, v in estimated_effects.items() if v is not None}\n",
    "\n",
    "        if not estimated_effects:\n",
    "            print(f\"⚠️ No valid causal effects found for {target_variable}. Exiting pipeline.\")\n",
    "            return None\n",
    "\n",
    "        # 3️⃣ Generate counterfactual outcomes for EACH cause separately\n",
    "        counterfactual_results = {}\n",
    "        observed_value = self.causal_inference.new_data[target_variable].mean()\n",
    "\n",
    "        for cause in estimated_effects.keys():\n",
    "            intervention = {cause: 1}  # Apply intervention only on this cause\n",
    "\n",
    "            # Generate counterfactual results with multiple runs for variability\n",
    "            cf_result = self.causal_inference.infer_counterfactual(intervention, num_runs=num_runs)\n",
    "\n",
    "            if target_variable in cf_result:\n",
    "                counterfactual_value = np.mean(cf_result[target_variable])\n",
    "                counterfactual_results[cause] = {\n",
    "                    \"counterfactual_value\": counterfactual_value,\n",
    "                    \"difference_due_to_intervention\": counterfactual_value - observed_value\n",
    "                }\n",
    "            else:\n",
    "                print(f\"⚠️ Counterfactual results missing for {target_variable} under intervention {cause}.\")\n",
    "                counterfactual_results[cause] = None\n",
    "\n",
    "        # 4️⃣ Store structured results\n",
    "        results = {\n",
    "            \"target_variable\": target_variable,\n",
    "            \"top_causes\": list(estimated_effects.keys()),\n",
    "            \"estimated_effects\": estimated_effects,\n",
    "            \"observed_value\": observed_value,\n",
    "            \"counterfactual_results\": counterfactual_results\n",
    "        }\n",
    "\n",
    "        return results\n"
   ]
  },
  {
   "cell_type": "code",
   "execution_count": 25,
   "id": "8f9e783f-7361-4a15-9b26-ba550295604c",
   "metadata": {},
   "outputs": [],
   "source": [
    "ex_cols = [x for x in non_causal_columns if x != anomaly]"
   ]
  },
  {
   "cell_type": "code",
   "execution_count": 26,
   "id": "97aeffe4-5b8e-4a1d-a39c-f0aa588d00dc",
   "metadata": {},
   "outputs": [
    {
     "data": {
      "text/plain": [
       "['asin1', 'cso1', 'aimp', 'adfl', 'ced1', 'arnd', 'amud', 'asin2', 'adbr']"
      ]
     },
     "execution_count": 26,
     "metadata": {},
     "output_type": "execute_result"
    }
   ],
   "source": [
    "ex_cols"
   ]
  },
  {
   "cell_type": "code",
   "execution_count": 51,
   "id": "9a41df30-35e9-4292-9f5f-789dc9910c80",
   "metadata": {},
   "outputs": [],
   "source": [
    "non_causal_mask = torch.tensor(A0 != 0, dtype=torch.float64, device=device)\n",
    "\n",
    "with torch.no_grad():\n",
    "    _, _, _, W, A = model(data, ee, tt, num_nodes=num_nodes)\n",
    "    learned_adj_matrix = W + A  # Combine intra- and inter-slice relationships\n",
    "\n",
    "    # Ensure non-causal edges are explicitly zeroed out\n",
    "    non_causal_mask = torch.tensor(A0 != 0, dtype=torch.float64, device=device)\n",
    "    learned_adj_matrix = learned_adj_matrix * non_causal_mask  # Apply mask\n",
    "\n",
    "    # Apply a threshold to remove weak edges\n",
    "    threshold = torch.mean(learned_adj_matrix).item()\n",
    "    final_W = (learned_adj_matrix.abs() > threshold).float() * learned_adj_matrix\n",
    "\n",
    "    # Clip values to ensure they remain in [0, 1]\n",
    "    causal_graph = torch.clamp(final_W, 0, 1).cpu().numpy()  # 🚀 Fixes >1 values\n"
   ]
  },
  {
   "cell_type": "code",
   "execution_count": 52,
   "id": "a685ebd2-9441-4234-adc8-72cc5183e4d0",
   "metadata": {},
   "outputs": [
    {
     "data": {
      "text/plain": [
       "array([[0.        , 0.        , 0.        , 0.        , 0.        ,\n",
       "        0.        , 0.        , 0.        , 0.        , 0.        ,\n",
       "        0.        , 0.        , 0.        , 0.        , 0.        ,\n",
       "        0.        , 0.        ],\n",
       "       [0.        , 0.        , 0.        , 0.        , 0.        ,\n",
       "        0.        , 0.        , 0.        , 0.        , 0.        ,\n",
       "        0.        , 0.        , 0.        , 0.        , 0.        ,\n",
       "        0.        , 0.        ],\n",
       "       [0.        , 0.        , 0.        , 0.        , 0.        ,\n",
       "        0.        , 0.        , 0.        , 0.        , 0.        ,\n",
       "        0.        , 0.        , 0.        , 0.        , 0.        ,\n",
       "        0.        , 0.        ],\n",
       "       [0.        , 0.        , 0.        , 0.        , 0.        ,\n",
       "        0.        , 0.        , 0.        , 0.        , 0.        ,\n",
       "        0.        , 0.        , 0.        , 0.        , 0.        ,\n",
       "        0.        , 0.        ],\n",
       "       [0.        , 0.        , 0.        , 0.        , 0.        ,\n",
       "        0.        , 0.        , 0.        , 0.        , 0.        ,\n",
       "        0.        , 0.        , 0.        , 0.        , 0.        ,\n",
       "        0.        , 0.        ],\n",
       "       [0.        , 0.        , 0.        , 0.        , 0.        ,\n",
       "        0.        , 0.        , 0.        , 0.        , 0.        ,\n",
       "        0.        , 0.        , 0.        , 0.        , 0.        ,\n",
       "        0.        , 0.        ],\n",
       "       [0.        , 0.        , 0.        , 0.        , 0.        ,\n",
       "        0.        , 0.        , 0.        , 0.        , 0.        ,\n",
       "        0.        , 0.        , 0.        , 0.        , 0.        ,\n",
       "        0.        , 0.        ],\n",
       "       [0.91077028, 0.3981088 , 0.39337238, 0.23851046, 0.60682999,\n",
       "        0.42116661, 0.55689989, 0.        , 0.        , 0.        ,\n",
       "        0.        , 0.        , 0.        , 0.        , 0.17265704,\n",
       "        0.43490338, 0.35723086],\n",
       "       [0.9479839 , 0.50531486, 0.43094174, 0.71470777, 0.62517398,\n",
       "        0.98965198, 0.65349659, 0.        , 0.        , 0.        ,\n",
       "        0.        , 0.        , 0.        , 0.        , 0.53770676,\n",
       "        0.42210112, 0.35036148],\n",
       "       [0.92789502, 0.41852734, 0.28067824, 0.33024221, 0.46512893,\n",
       "        0.44503306, 0.26716502, 0.        , 0.        , 0.        ,\n",
       "        0.        , 0.        , 0.        , 0.        , 0.54355292,\n",
       "        0.32504584, 0.3987044 ],\n",
       "       [1.        , 0.47988573, 0.95884828, 0.42286419, 0.37887185,\n",
       "        0.51961593, 0.84303647, 0.        , 0.        , 0.        ,\n",
       "        0.        , 0.        , 0.        , 0.        , 0.90967925,\n",
       "        0.24440339, 0.84720499],\n",
       "       [0.93172145, 0.28236925, 0.32108364, 0.35727349, 0.89937971,\n",
       "        0.25666355, 0.29507862, 0.        , 0.        , 0.        ,\n",
       "        0.        , 0.        , 0.        , 0.        , 0.50131873,\n",
       "        0.48836936, 0.64766443],\n",
       "       [1.        , 0.68929561, 0.30119411, 0.34932633, 0.88017831,\n",
       "        0.7833015 , 0.73714697, 0.        , 0.        , 0.        ,\n",
       "        0.        , 0.        , 0.        , 0.        , 0.66221847,\n",
       "        0.36597199, 0.44353675],\n",
       "       [1.        , 0.25266976, 0.40762276, 0.63581244, 0.28228231,\n",
       "        0.22175778, 0.31635242, 0.        , 0.        , 0.        ,\n",
       "        0.        , 0.        , 0.        , 0.        , 0.45723693,\n",
       "        0.66949642, 0.25500761],\n",
       "       [0.        , 0.        , 0.        , 0.        , 0.        ,\n",
       "        0.        , 0.        , 0.        , 0.        , 0.        ,\n",
       "        0.        , 0.        , 0.        , 0.        , 0.        ,\n",
       "        0.        , 0.        ],\n",
       "       [0.        , 0.        , 0.        , 0.        , 0.        ,\n",
       "        0.        , 0.        , 0.        , 0.        , 0.        ,\n",
       "        0.        , 0.        , 0.        , 0.        , 0.        ,\n",
       "        0.        , 0.        ],\n",
       "       [0.        , 0.        , 0.        , 0.        , 0.        ,\n",
       "        0.        , 0.        , 0.        , 0.        , 0.        ,\n",
       "        0.        , 0.        , 0.        , 0.        , 0.        ,\n",
       "        0.        , 0.        ]])"
      ]
     },
     "execution_count": 52,
     "metadata": {},
     "output_type": "execute_result"
    }
   ],
   "source": [
    "causal_graph"
   ]
  },
  {
   "cell_type": "code",
   "execution_count": 53,
   "id": "080bf29a-52a3-4430-96c4-70a209c5d959",
   "metadata": {},
   "outputs": [
    {
     "name": "stdout",
     "output_type": "stream",
     "text": [
      "🔍 Checking for cycles using Tarjan’s SCC Algorithm...\n",
      "✅ No cycles detected! Graph is now a DAG.\n"
     ]
    },
    {
     "name": "stderr",
     "output_type": "stream",
     "text": [
      "Fitting causal mechanism of node cso1: 100%|██████████| 17/17 [00:01<00:00, 16.10it/s]\n"
     ]
    },
    {
     "data": {
      "text/plain": [
       "{'target_variable': 'cfo1',\n",
       " 'top_causes': ['bso2', 'bed2', 'bso3'],\n",
       " 'estimated_effects': {'bso2': 0.0002273335328888959,\n",
       "  'bed2': -0.0004442441982518419,\n",
       "  'bso3': -0.0005654255834364741},\n",
       " 'observed_value': 0.47446008281596735,\n",
       " 'counterfactual_results': {'bso2': {'counterfactual_value': 0.9488493572053863,\n",
       "   'difference_due_to_intervention': 0.47438927438941897},\n",
       "  'bed2': {'counterfactual_value': 0.9487550774644229,\n",
       "   'difference_due_to_intervention': 0.47429499464845554},\n",
       "  'bso3': {'counterfactual_value': 0.9489003435853061,\n",
       "   'difference_due_to_intervention': 0.4744402607693387}}}"
      ]
     },
     "execution_count": 53,
     "metadata": {},
     "output_type": "execute_result"
    }
   ],
   "source": [
    "ci = CausalInference(causal_graph, mod_df, normal_df,excluded_nodes=ex_cols)\n",
    "cp = CausalPipeline(ci)\n",
    "cp.run_pipeline(anomaly)"
   ]
  },
  {
   "cell_type": "code",
   "execution_count": null,
   "id": "29f40391-5577-49b6-b8e1-51b5202729a0",
   "metadata": {},
   "outputs": [],
   "source": [
    "import copy\n",
    "\n",
    "class CausalInference:\n",
    "    def __init__(self, adj_matrix, new_data, old_data, excluded_nodes=None):\n",
    "        self.adj_matrix = adj_matrix\n",
    "        np.fill_diagonal(self.adj_matrix, 0)\n",
    "        self.new_data = new_data\n",
    "        self.old_data = old_data\n",
    "        self.cols = list(new_data.columns)\n",
    "        self.excluded_nodes = set(excluded_nodes) if excluded_nodes else set()\n",
    "\n",
    "        # Build initial graph\n",
    "        self.causal_graph = nx.DiGraph(self.adj_matrix)\n",
    "        self.remove_excluded_nodes()\n",
    "        self.ensure_dag()\n",
    "        self.build_causal_model()\n",
    "\n",
    "    def infer_counterfactual(self, interventions, num_runs=10):\n",
    "        \"\"\"\n",
    "        Generates counterfactual samples for given interventions.\n",
    "        \n",
    "        - **Key Fix:** Resets noise data before each run to prevent identical counterfactuals.\n",
    "        \"\"\"\n",
    "        intervention_dict = {var: (lambda x: value) for var, value in interventions.items()}\n",
    "        \n",
    "        # Run counterfactual simulations multiple times\n",
    "        all_results = []\n",
    "        for _ in range(num_runs):\n",
    "            # Deep copy noise data to introduce variability\n",
    "            noise_data_sampled = self.new_data.sample(frac=1, replace=True).reset_index(drop=True)\n",
    "\n",
    "            cf_result = gcm.counterfactual_samples(\n",
    "                self.causal_model_prob,\n",
    "                intervention_dict,\n",
    "                noise_data=noise_data_sampled\n",
    "            )\n",
    "            all_results.append(cf_result)\n",
    "\n",
    "        # Average the results across multiple runs\n",
    "        avg_results = pd.concat(all_results).groupby(level=0).mean()\n",
    "        return avg_results\n"
   ]
  },
  {
   "cell_type": "code",
   "execution_count": 44,
   "id": "38a9c185-7d80-4b17-98d7-5b1b1b95cda9",
   "metadata": {},
   "outputs": [],
   "source": [
    "cp = CausalPipeline(ci)"
   ]
  },
  {
   "cell_type": "code",
   "execution_count": 46,
   "id": "5e526298-e4ee-45e8-bc27-2c57a5519368",
   "metadata": {},
   "outputs": [],
   "source": [
    "results = cp.run_pipeline(anomaly)"
   ]
  },
  {
   "cell_type": "code",
   "execution_count": 47,
   "id": "f8d377b5-0694-4ba1-ac41-da33095ecb86",
   "metadata": {},
   "outputs": [
    {
     "data": {
      "text/plain": [
       "{'target_variable': 'cfo1',\n",
       " 'top_causes': [('bso2', 0.0001834267798319078),\n",
       "  ('bso1', 1.1901378589307399e-06),\n",
       "  ('bso3', -0.00030725587418706235)],\n",
       " 'estimated_effects': {'bso2': 0.0001958691214440922,\n",
       "  'bso1': -5.541752753857043e-06,\n",
       "  'bso3': -0.000312007507375478},\n",
       " 'observed_value': 0.47446008281596735,\n",
       " 'counterfactual_value': 0.923078182862275,\n",
       " 'difference_due_to_intervention': 0.4486181000463077}"
      ]
     },
     "execution_count": 47,
     "metadata": {},
     "output_type": "execute_result"
    }
   ],
   "source": [
    "results"
   ]
  },
  {
   "cell_type": "code",
   "execution_count": 49,
   "id": "cfd9e3fa-349a-4b66-8028-b9bc7640b151",
   "metadata": {},
   "outputs": [
    {
     "data": {
      "text/plain": [
       "[('bso2', 0.0001834267798319078),\n",
       " ('bso1', 1.1901378589307399e-06),\n",
       " ('bso3', -0.00030725587418706235)]"
      ]
     },
     "execution_count": 49,
     "metadata": {},
     "output_type": "execute_result"
    }
   ],
   "source": [
    "results['top_causes']"
   ]
  },
  {
   "cell_type": "code",
   "execution_count": 52,
   "id": "23c26436-c886-47db-9e5e-e8c9e61b119d",
   "metadata": {},
   "outputs": [],
   "source": [
    "top_causes = sorted(results['top_causes'], key=lambda item: np.abs(item[1]), reverse=True)"
   ]
  },
  {
   "cell_type": "code",
   "execution_count": 27,
   "id": "6d1c540b-60f6-42d6-b097-9a24e3cfc13f",
   "metadata": {},
   "outputs": [],
   "source": [
    "adj_data = pd.DataFrame(causal_graph,index=cols,columns=cols)\n",
    "candidates = adj_data[anomaly].sort_values(ascending=False)"
   ]
  },
  {
   "cell_type": "code",
   "execution_count": 26,
   "id": "14a577eb-ae23-40bd-bce8-d1f71d971701",
   "metadata": {},
   "outputs": [],
   "source": [
    "model.eval()\n",
    "with torch.no_grad():\n",
    "    _, _, _, learned_adj_matrix = model(data,ee,tt, num_nodes=num_nodes)\n",
    "    # small threshold\n",
    "    #threshold = torch.mean(learned_adj_matrix).item()\n",
    "    #final_W = (learned_adj_matrix.abs() > threshold).float() * learned_adj_matrix\n",
    "    causal_graph = torch.sigmoid(learned_adj_matrix).cpu().numpy()"
   ]
  },
  {
   "cell_type": "code",
   "execution_count": 37,
   "id": "ea22e6ea-89b8-4fcf-8d55-16262313d595",
   "metadata": {},
   "outputs": [
    {
     "data": {
      "text/plain": [
       "bfo1     0.608825\n",
       "bso3     0.598015\n",
       "bed1     0.583635\n",
       "bso2     0.582863\n",
       "bfo2     0.578179\n",
       "bso1     0.576747\n",
       "bed2     0.569972\n",
       "asin1    0.529338\n",
       "amud     0.522121\n",
       "adbr     0.519892\n",
       "arnd     0.517744\n",
       "asin2    0.515766\n",
       "adfl     0.511354\n",
       "aimp     0.506731\n",
       "ced1     0.504005\n",
       "cso1     0.503527\n",
       "cfo1     0.500920\n",
       "Name: cfo1, dtype: float64"
      ]
     },
     "execution_count": 37,
     "metadata": {},
     "output_type": "execute_result"
    }
   ],
   "source": [
    "adj_data = pd.DataFrame(causal_graph,index=cols,columns=cols)\n",
    "candidates = adj_data[anomaly].sort_values(ascending=False)\n",
    "candidates"
   ]
  },
  {
   "cell_type": "code",
   "execution_count": 27,
   "id": "992f99f0-eee5-43d3-9803-27bccfd91f42",
   "metadata": {},
   "outputs": [],
   "source": [
    "adj_matrix = causal_graph\n",
    "np.fill_diagonal(adj_matrix, 0)\n",
    "new_data = mod_df\n",
    "old_data = normal_df\n",
    "cols = list(new_data.columns)\n",
    "causal_graph = nx.DiGraph(adj_matrix)\n",
    "#num_cycles = len(list(nx.simple_cycles(causal_graph)))"
   ]
  },
  {
   "cell_type": "code",
   "execution_count": 30,
   "id": "db88599c-0e4c-4d35-8f4a-de0bfea75da9",
   "metadata": {},
   "outputs": [
    {
     "ename": "NetworkXError",
     "evalue": "The edge cfo1-arnd not in graph.",
     "output_type": "error",
     "traceback": [
      "\u001b[1;31m---------------------------------------------------------------------------\u001b[0m",
      "\u001b[1;31mKeyError\u001b[0m                                  Traceback (most recent call last)",
      "File \u001b[1;32m~\\anaconda3\\envs\\torch\\Lib\\site-packages\\networkx\\classes\\digraph.py:823\u001b[0m, in \u001b[0;36mDiGraph.remove_edge\u001b[1;34m(self, u, v)\u001b[0m\n\u001b[0;32m    822\u001b[0m \u001b[38;5;28;01mtry\u001b[39;00m:\n\u001b[1;32m--> 823\u001b[0m     \u001b[38;5;28;01mdel\u001b[39;00m \u001b[38;5;28mself\u001b[39m\u001b[38;5;241m.\u001b[39m_succ[u][v]\n\u001b[0;32m    824\u001b[0m     \u001b[38;5;28;01mdel\u001b[39;00m \u001b[38;5;28mself\u001b[39m\u001b[38;5;241m.\u001b[39m_pred[v][u]\n",
      "\u001b[1;31mKeyError\u001b[0m: 'cfo1'",
      "\nThe above exception was the direct cause of the following exception:\n",
      "\u001b[1;31mNetworkXError\u001b[0m                             Traceback (most recent call last)",
      "Cell \u001b[1;32mIn[30], line 2\u001b[0m\n\u001b[0;32m      1\u001b[0m \u001b[38;5;28;01mfor\u001b[39;00m non_cause \u001b[38;5;129;01min\u001b[39;00m non_causal_columns:\n\u001b[1;32m----> 2\u001b[0m     causal_graph\u001b[38;5;241m.\u001b[39mremove_edge(anomaly, non_cause)\n",
      "File \u001b[1;32m~\\anaconda3\\envs\\torch\\Lib\\site-packages\\networkx\\classes\\digraph.py:826\u001b[0m, in \u001b[0;36mDiGraph.remove_edge\u001b[1;34m(self, u, v)\u001b[0m\n\u001b[0;32m    824\u001b[0m     \u001b[38;5;28;01mdel\u001b[39;00m \u001b[38;5;28mself\u001b[39m\u001b[38;5;241m.\u001b[39m_pred[v][u]\n\u001b[0;32m    825\u001b[0m \u001b[38;5;28;01mexcept\u001b[39;00m \u001b[38;5;167;01mKeyError\u001b[39;00m \u001b[38;5;28;01mas\u001b[39;00m err:\n\u001b[1;32m--> 826\u001b[0m     \u001b[38;5;28;01mraise\u001b[39;00m NetworkXError(\u001b[38;5;124mf\u001b[39m\u001b[38;5;124m\"\u001b[39m\u001b[38;5;124mThe edge \u001b[39m\u001b[38;5;132;01m{\u001b[39;00mu\u001b[38;5;132;01m}\u001b[39;00m\u001b[38;5;124m-\u001b[39m\u001b[38;5;132;01m{\u001b[39;00mv\u001b[38;5;132;01m}\u001b[39;00m\u001b[38;5;124m not in graph.\u001b[39m\u001b[38;5;124m\"\u001b[39m) \u001b[38;5;28;01mfrom\u001b[39;00m \u001b[38;5;21;01merr\u001b[39;00m\n",
      "\u001b[1;31mNetworkXError\u001b[0m: The edge cfo1-arnd not in graph."
     ]
    }
   ],
   "source": [
    "for non_cause in non_causal_columns:\n",
    "    causal_graph.remove_edge(anomaly, non_cause)\n",
    "    "
   ]
  },
  {
   "cell_type": "code",
   "execution_count": null,
   "id": "58f56acd-5f95-4b4f-ab22-85372a6506e5",
   "metadata": {},
   "outputs": [],
   "source": [
    "causal_graph.remove_edge(anomaly, 1)"
   ]
  },
  {
   "cell_type": "code",
   "execution_count": null,
   "id": "65cb656a-e136-462f-b410-91ced90a37b7",
   "metadata": {},
   "outputs": [],
   "source": [
    "non_causal_columns"
   ]
  },
  {
   "cell_type": "code",
   "execution_count": 34,
   "id": "93d63382-c496-4d51-b3ee-09c3ac1affac",
   "metadata": {},
   "outputs": [],
   "source": [
    "topological_remove_cycles(causal_graph) "
   ]
  },
  {
   "cell_type": "code",
   "execution_count": 36,
   "id": "79eda0e7-ecc3-4d50-bb93-f8627c81040d",
   "metadata": {},
   "outputs": [
    {
     "name": "stderr",
     "output_type": "stream",
     "text": [
      "Fitting causal mechanism of node cso1: 100%|██████████| 17/17 [00:01<00:00, 10.23it/s]\n"
     ]
    }
   ],
   "source": [
    "mapping = {i: col for i, col in enumerate(cols)}\n",
    "causal_graph = nx.relabel_nodes(causal_graph, mapping)\n",
    "causal_model_prob = gcm.ProbabilisticCausalModel(causal_graph)\n",
    "gcm.auto.assign_causal_mechanisms(causal_model_prob, new_data, override_models=True)\n",
    "gcm.fit(causal_model_prob, new_data)"
   ]
  },
  {
   "cell_type": "code",
   "execution_count": null,
   "id": "5d275577-2519-46f4-b230-e9adb02239bc",
   "metadata": {},
   "outputs": [],
   "source": []
  },
  {
   "cell_type": "code",
   "execution_count": 78,
   "id": "1685b552-648b-4d43-a207-975f8cf3494f",
   "metadata": {},
   "outputs": [],
   "source": [
    "from dowhy import gcm\n",
    "import networkx as nx\n",
    "import numpy as np\n",
    "import pandas as pd\n",
    "\n",
    "class CausalInference:\n",
    "    def __init__(self, adj_matrix, new_data, old_data):\n",
    "        self.adj_matrix = adj_matrix\n",
    "        np.fill_diagonal(self.adj_matrix, 0)\n",
    "        self.new_data = new_data\n",
    "        self.old_data = old_data\n",
    "        self.cols = list(new_data.columns)\n",
    "        self.causal_graph = nx.DiGraph(self.adj_matrix)\n",
    "        #self.num_cycles = len(list(nx.simple_cycles(self.causal_graph)))\n",
    "        #print('Number of cycles: '+ str(len(list(nx.simple_cycles(self.causal_graph))) ))\n",
    "        #if len(list(nx.simple_cycles(self.causal_graph))) > 0:\n",
    "        self.topological_remove_cycles(self.causal_graph) \n",
    "        self.build_causal_model()\n",
    "\n",
    "    def topological_remove_cycles(self, g):\n",
    "    \n",
    "            # Taken from: https://stackoverflow.com/questions/78348739/converting-cyclic-digraph-to-acyclic-digraph-dag\n",
    "            # Dictionary of sets of incoming edges. We want to pick nodes with few of them.\n",
    "            incoming = {}\n",
    "            for node in g.nodes:\n",
    "                incoming[node] = set()\n",
    "            for node in g.nodes():\n",
    "                for next_node in g.neighbors(node):\n",
    "                    incoming[next_node].add(node)\n",
    "        \n",
    "            # Sorted set of (count_incoming, -count_outgoing, node) triplets.\n",
    "            # The first item in the set will have as few incoming nodes as it can, and as many outgoing.\n",
    "            # In other words, it is a greedy choice for a good node to get rid of cycles.\n",
    "            todo = SortedSet()\n",
    "            for node, to_node in incoming.items():\n",
    "                todo.add((len(to_node), -len(g.adj[node]), node))\n",
    "        \n",
    "            # And now let's start removing cycles.\n",
    "            while 0 < len(todo):\n",
    "                # Get the best node.\n",
    "                _, _, node = todo.pop(0)\n",
    "                to_node = incoming[node]\n",
    "                for prev_node in to_node:\n",
    "                    # Each of these edges is in, or comes from, a cycle.\n",
    "                    if prev_node != node:\n",
    "                        # Do bookkeeping in todo.\n",
    "                        len_in = len(incoming[prev_node])\n",
    "                        len_out = len(g.adj[prev_node])\n",
    "                        todo.remove((len_in, -len_out, prev_node))\n",
    "                        todo.add((len_in, -len_out + 1, prev_node))\n",
    "                    g.remove_edge(prev_node, node)\n",
    "        \n",
    "                for next_node in g.neighbors(node):\n",
    "                    # Do bookkeeping in todo for forgetting about node.\n",
    "                    len_in = len(incoming[next_node])\n",
    "                    len_out = len(g.adj[next_node])\n",
    "                    todo.remove((len_in, -len_out, next_node))\n",
    "                    todo.add((len_in - 1, -len_out, next_node))\n",
    "                    incoming[next_node].remove(node)\n",
    "\n",
    "    def build_causal_model(self):\n",
    "        mapping = {i: col for i, col in enumerate(self.cols)}\n",
    "        self.causal_graph = nx.relabel_nodes(self.causal_graph, mapping)\n",
    "        self.causal_model_prob = gcm.ProbabilisticCausalModel(self.causal_graph)\n",
    "        gcm.auto.assign_causal_mechanisms(self.causal_model_prob, self.new_data, override_models=True)\n",
    "        gcm.fit(self.causal_model_prob, self.new_data)\n",
    "\n",
    "    def infer_causal_effect(self, cause, effect):\n",
    "        return gcm.average_causal_effect(\n",
    "            self.causal_model_prob, effect,\n",
    "            interventions_alternative={cause: lambda x: 1},\n",
    "            interventions_reference={cause: lambda x: 0},\n",
    "            observed_data = self.new_data ,\n",
    "            #num_samples_to_draw=1000\n",
    "        )\n",
    "\n",
    "    def infer_counterfactual(self, intervention_var, intervention_value):\n",
    "        return gcm.counterfactual_samples(\n",
    "            self.causal_model_prob,\n",
    "            {intervention_var: lambda x: intervention_value},\n",
    "            noise_data = self.new_data\n",
    "          #  num_samples=1000\n",
    "        )\n",
    "\n",
    "    def rank_causal_factors(self, target):\n",
    "        causal_effects = {cause: self.infer_causal_effect(cause, target) for cause in self.causal_graph.predecessors(target)}\n",
    "        return sorted(causal_effects.items(), key=lambda item: item[1], reverse=True)\n",
    "\n",
    "    def draw_causal_dag(self):\n",
    "        nx.draw(self.causal_graph, with_labels=True, node_size=800, node_color=\"skyblue\",\n",
    "                font_size=10, font_weight=\"bold\", arrowsize=20)\n"
   ]
  },
  {
   "cell_type": "code",
   "execution_count": 79,
   "id": "da5b48f5-73ad-4aff-bb9f-7b5534792ab6",
   "metadata": {},
   "outputs": [],
   "source": [
    "class CausalPipeline:\n",
    "    def __init__(self, causal_inference):\n",
    "        self.causal_inference = causal_inference\n",
    "\n",
    "    def run_pipeline(self, target_variable):\n",
    "        \"\"\"\n",
    "        Automates the process of ranking causal factors, estimating effects,\n",
    "        generating counterfactuals, and comparing results.\n",
    "        \"\"\"\n",
    "       #print(f\"Running Causal Analysis for target: {target_variable}\")\n",
    "\n",
    "        # 1️⃣ Rank the most important causal factors\n",
    "        ranked_causes = self.causal_inference.rank_causal_factors(target_variable)\n",
    "        #rint(f\"Top causal influences on {target_variable}: {ranked_causes}\")\n",
    "\n",
    "        # 2️⃣ Select top-ranked causes for intervention\n",
    "        top_cause, max_effect = ranked_causes[0]\n",
    "       # print(f\"Most influential cause: {top_cause} with estimated effect {max_effect}\")\n",
    "\n",
    "        # 3️⃣ Estimate the direct causal effect\n",
    "        estimated_effect = self.causal_inference.infer_causal_effect(top_cause, target_variable)\n",
    "        #print(f\"Estimated causal effect of {top_cause} on {target_variable}: {estimated_effect}\")\n",
    "\n",
    "        # 4️⃣ Generate counterfactual outcomes\n",
    "        counterfactual_results = self.causal_inference.infer_counterfactual(top_cause, 1)  # Assume intervention = 1\n",
    "        #print(f\"Counterfactual outcome if {top_cause} was set to 1: {counterfactual_results}\")\n",
    "\n",
    "        # 5️⃣ Compare counterfactuals with observed data\n",
    "        observed_value = self.causal_inference.new_data[target_variable].mean()\n",
    "        counterfactual_value = np.mean(counterfactual_results[target_variable])\n",
    "\n",
    "        #print(f\"Observed {target_variable}: {observed_value}\")\n",
    "        #print(f\"Counterfactual {target_variable} (if {top_cause} was changed): {counterfactual_value}\")\n",
    "\n",
    "        # 6️⃣ Store structured results\n",
    "        results = {\n",
    "            \"target_variable\": target_variable,\n",
    "            \"top_cause\": top_cause,\n",
    "            \"estimated_effect\": estimated_effect,\n",
    "            \"observed_value\": observed_value,\n",
    "            \"counterfactual_value\": counterfactual_value,\n",
    "            \"difference_due_to_intervention\": counterfactual_value - observed_value\n",
    "        }\n",
    "\n",
    "        return results\n"
   ]
  },
  {
   "cell_type": "code",
   "execution_count": 80,
   "id": "283727ba-df29-4586-b37e-4571a980f025",
   "metadata": {},
   "outputs": [
    {
     "name": "stderr",
     "output_type": "stream",
     "text": [
      "Fitting causal mechanism of node cso1: 100%|██████████| 17/17 [00:01<00:00, 10.83it/s]\n"
     ]
    }
   ],
   "source": [
    "causal_inference = CausalInference(causal_graph, mod_df, normal_df)\n"
   ]
  },
  {
   "cell_type": "code",
   "execution_count": 81,
   "id": "21172f31-6b6f-40f4-a8c9-13920b634d30",
   "metadata": {},
   "outputs": [
    {
     "name": "stdout",
     "output_type": "stream",
     "text": [
      "Running Causal Analysis for target: cfo1\n",
      "Top causal influences on cfo1: [('arnd', 0.041663062309698795), ('aimp', 0.0014028333316554176), ('amud', 0.0012983340216226602), ('adbr', 0.00019256080588636593), ('bso2', 0.00018679593623593949), ('asin2', 3.637506217085695e-05), ('adfl', 1.7185021351173724e-05), ('bso1', 1.2919063249738905e-06), ('bso3', -0.0003103915477442043), ('bed2', -0.0005711839219293968), ('bed1', -0.0022367851695283547), ('ced1', -0.002429068581546401), ('bfo2', -0.005088972390404178), ('bfo1', -0.005981348709882872), ('asin1', -0.03437310892538448)]\n",
      "Most influential cause: arnd with estimated effect 0.041663062309698795\n",
      "Estimated causal effect of arnd on cfo1: 0.04274051755231906\n",
      "Counterfactual outcome if arnd was set to 1:      aimp      amud  arnd     asin1       asin2  adbr  adfl      bed1  \\\n",
      "0     0.0  0.809524     1  1.950041  173.165366   1.0   1.0  0.748577   \n",
      "1     0.0  0.809524     1  1.950044  173.167248   1.0   1.0  0.748234   \n",
      "2     0.0  0.809524     1  1.950047  173.169131   1.0   1.0  0.747894   \n",
      "3     0.0  0.809524     1  1.950050  173.171013   1.0   1.0  0.747558   \n",
      "4     0.0  0.809524     1  1.950053  173.172895   1.0   1.0  0.747225   \n",
      "..    ...       ...   ...       ...         ...   ...   ...       ...   \n",
      "496   0.0  0.809524     1  1.951569  174.086531   2.0   2.0  0.751648   \n",
      "497   0.0  0.809524     1  1.951573  174.088362   2.0   2.0  0.751275   \n",
      "498   0.0  0.809524     1  1.951576  174.090194   2.0   2.0  0.750905   \n",
      "499   0.0  0.809524     1  1.951579  174.092025   2.0   2.0  0.750538   \n",
      "500   0.0  0.809524     1  1.951582  174.093857   2.0   2.0  0.750176   \n",
      "\n",
      "         bed2      bfo1      bfo2      bso1      bso2      bso3      ced1  \\\n",
      "0    0.710060  0.285935  0.311967  0.700526  0.503208  0.340082  0.312244   \n",
      "1    0.708969  0.285827  0.311887  0.700526  0.501223  0.340108  0.312255   \n",
      "2    0.707932  0.285721  0.311808  0.700527  0.499214  0.340128  0.312264   \n",
      "3    0.706947  0.285617  0.311729  0.700528  0.497202  0.340143  0.312271   \n",
      "4    0.706012  0.285515  0.311651  0.700528  0.495208  0.340153  0.312276   \n",
      "..        ...       ...       ...       ...       ...       ...       ...   \n",
      "496  0.690258  0.299015  0.313294  0.700962  0.493770  0.339001  0.325557   \n",
      "497  0.690157  0.299016  0.313347  0.700962  0.495347  0.339091  0.325535   \n",
      "498  0.690061  0.299006  0.313399  0.700963  0.497033  0.339179  0.325511   \n",
      "499  0.689969  0.298993  0.313452  0.700964  0.498806  0.339267  0.325486   \n",
      "500  0.689883  0.298979  0.313504  0.700965  0.500646  0.339354  0.325459   \n",
      "\n",
      "         cfo1      cso1  \n",
      "0    0.931312  0.999098  \n",
      "1    0.931730  0.999068  \n",
      "2    0.932147  0.999030  \n",
      "3    0.932561  0.998984  \n",
      "4    0.932972  0.998930  \n",
      "..        ...       ...  \n",
      "496  0.902520  0.998022  \n",
      "497  0.902591  0.998030  \n",
      "498  0.902663  0.998041  \n",
      "499  0.902734  0.998056  \n",
      "500  0.902806  0.998076  \n",
      "\n",
      "[501 rows x 17 columns]\n",
      "Observed cfo1: 0.47446008281596735\n",
      "Counterfactual cfo1 (if arnd was changed): 0.923078182862275\n",
      "Final Results: {'target_variable': 'cfo1', 'top_cause': 'arnd', 'estimated_effect': 0.04274051755231906, 'observed_value': 0.47446008281596735, 'counterfactual_value': 0.923078182862275, 'difference_due_to_intervention': 0.4486181000463077}\n"
     ]
    }
   ],
   "source": [
    "# Initialize Pipeline\n",
    "pipeline = CausalPipeline(causal_inference)\n",
    "\n",
    "# Run for a specific target variable\n",
    "results = pipeline.run_pipeline(anomaly)\n",
    "print(\"Final Results:\", results)\n"
   ]
  },
  {
   "cell_type": "code",
   "execution_count": null,
   "id": "4d0c6fc2-ec1d-4740-81a9-a18cbdc9d2c0",
   "metadata": {},
   "outputs": [],
   "source": []
  },
  {
   "cell_type": "code",
   "execution_count": null,
   "id": "1b99f2ea-9b93-4de9-999b-900c94e562a6",
   "metadata": {},
   "outputs": [],
   "source": []
  }
 ],
 "metadata": {
  "kernelspec": {
   "display_name": "Python 3 (ipykernel)",
   "language": "python",
   "name": "python3"
  },
  "language_info": {
   "codemirror_mode": {
    "name": "ipython",
    "version": 3
   },
   "file_extension": ".py",
   "mimetype": "text/x-python",
   "name": "python",
   "nbconvert_exporter": "python",
   "pygments_lexer": "ipython3",
   "version": "3.12.7"
  }
 },
 "nbformat": 4,
 "nbformat_minor": 5
}
